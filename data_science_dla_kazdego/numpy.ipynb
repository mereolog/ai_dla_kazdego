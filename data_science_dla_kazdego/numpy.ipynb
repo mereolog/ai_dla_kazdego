{
  "cells": [
    {
      "cell_type": "markdown",
      "metadata": {
        "id": "view-in-github",
        "colab_type": "text"
      },
      "source": [
        "<a href=\"https://colab.research.google.com/github/trypuz/ksiazka_si/blob/main/data_science/numpy.ipynb\" target=\"_parent\"><img src=\"https://colab.research.google.com/assets/colab-badge.svg\" alt=\"Open In Colab\"/></a>"
      ]
    },
    {
      "cell_type": "markdown",
      "metadata": {
        "id": "7UtC6hO1KFsw"
      },
      "source": [
        "# NUMPY"
      ]
    },
    {
      "cell_type": "markdown",
      "source": [
        "`NumPy` to skrót od angielskiego wyrażenia *numerical Python*. Biblioteka NumPy jest bardzo pożyteczna wszędzie tam, gdzie będziemy mieli do czynienia z danymi numerycznymi (choć tablice NumPy mogą przechowywać również dane nienumeryczne). \n",
        "\n",
        "Z zasady Python to język interpretowany, w związku z czym narzut czasowy potrzebny na przeprowadzenie dużej ilości obliczeń może być znaczny. NumPy to biblioteka stworzona z myślą o rozwiązaniu tego problemu. Udostępnia ona interfejs programistyczny (ang. *API*) w Pythonie, ale najbardziej krytyczne pod względem szybkości działania fragmenty kodu NumPy zostały zaimplementowane w kompilowanym języku C. Dzięki takiemu rozwiązaniu mamy dostęp do wysokopoziomowego API bez straty wydajnościowej.\n",
        "\n",
        "W rozdziale wprowadzającym struktury danych pisaliśmy o listach oraz o tym, że można z list tworzyć dość skomplikowane wielowymiarowe struktury danych. \n",
        "\n",
        "W Pythonie podstawowym sposobem na przechowywanie kilku wartości w jednym obiekcie jest użycie listy. Lista może zawierać dowolną liczbę obiektów, a typy poszczególnych obiektów w ramach jednej listy mogą być różne. Definicja listy w Pythonie wygląda w następujący sposób:\n",
        "\n"
      ],
      "metadata": {
        "id": "l-8CDXxOO7a7"
      }
    },
    {
      "cell_type": "code",
      "source": [
        "some_list = [1, 2, 'test', True, 5.0]\n",
        "print(f\"Content of the list: {some_list}\")\n",
        "print(f\"Data type: {type(some_list)}\")"
      ],
      "metadata": {
        "id": "r2zT3xVgZs8k",
        "outputId": "b24bb3df-f5af-4e0c-bfbc-cc8a3ba1fc7d",
        "colab": {
          "base_uri": "https://localhost:8080/"
        }
      },
      "execution_count": null,
      "outputs": [
        {
          "output_type": "stream",
          "name": "stdout",
          "text": [
            "Content of the list: [1, 2, 'test', True, 5.0]\n",
            "Data type: <class 'list'>\n"
          ]
        }
      ]
    },
    {
      "cell_type": "markdown",
      "source": [
        "Jednak pomimo tego, że listy nadają się one do przechowywania danych, to mają poważne ograniczenia jeśli chodzi o wydajność przetwarzania tych danych, np. wykonywania na nich operacji matematycznych.  \n",
        "\n",
        "W NumPy odpowiednikiem listy jest tablica (ang. *array*), a konkretniej klasa `ndarray` zdefiniowana w module `numpy` (importowanym jako `np`). Istnieje kilka różnic między tablicami w NumPy a listami w Pythonie, które sprawiają, że tablice w NumPy są praktycznie zawsze lepszym wyborem jeśli chodzi o obliczenia w Pythonie:\n",
        "- Podstawową różnicą jest szybkość działania. Do przeprowadzania obliczeń NumPy wykorzystuje funkcje uniwersalne (ang. *universal functions*, w skrócie *ufuncs*), które udostępniają przystępne API w Pythonie i wydajną implementację w języku C.\n",
        "- Tablice NumPy zajmują mniej miejsca w pamięci.\n",
        "\n",
        "Obiektów `ndarray` mają również swoje ograniczenia, które są ich zaletą przyczynając się do wzrostu wydajności: \n",
        "- obiekty przechowywane w jednej tablicy NumPy muszą być tego samego typu\n",
        "- brak możliwości zmiany wielkości obiektu po jego utworzeniu.\n",
        "\n",
        "Podsumowując zalety NumPy: \n",
        "- optymalizuje użycie pamięci, \n",
        "- pozwala na stosowanie obliczeń bez konieczności wieloktronego używanie pętli for (iteracji), \n",
        "- wiele bibliotek z obszaru AI, w szczególności uczenia maszynowego i data science wymaga numpy."
      ],
      "metadata": {
        "id": "22uzbjdKZtqC"
      }
    },
    {
      "cell_type": "markdown",
      "source": [
        "## Instalacja\n",
        "Jeżeli chodzi o instalację NumPy, to przebiega ona podobnie do większości opisanych w tej książce narzędzi. W większości przypadków wystarczy wykonanie jednej z dwóch następujących komend:\n",
        "\n",
        "```\n",
        "pip install numpy\n",
        "```\n",
        "\n",
        "lub:\n",
        "\n",
        "```\n",
        "conda install numpy\n",
        "```\n",
        "\n",
        "zależnie z którego narzędzia wolimy korzystać (w notatnikach pierwsza z komend będzie poprzedzona wykrzyknikiem: `!pip install numpy`). \n",
        "\n",
        "Import NumPy jest równie prosty i zazwyczaj ogranicza się do dodania następującej linii na początku:"
      ],
      "metadata": {
        "id": "O9J81PajP0p8"
      }
    },
    {
      "cell_type": "code",
      "execution_count": null,
      "metadata": {
        "id": "83mOK3ceaDmB"
      },
      "outputs": [],
      "source": [
        "import numpy as np"
      ]
    },
    {
      "cell_type": "markdown",
      "metadata": {
        "id": "KO7Uz2f6KJkm"
      },
      "source": [
        "Po więcej informacji odsyłamy do [dokumentacji](https://numpy.org/install/). "
      ]
    },
    {
      "cell_type": "markdown",
      "metadata": {
        "id": "Sz4tEXKDRrAg"
      },
      "source": [
        "## Wektory, macierze i tensory\n"
      ]
    },
    {
      "cell_type": "markdown",
      "source": [
        "Od razu na samym początku zaznaczymy, że będziemy zamiennie używać nazw „wielowymiarowa tablica” oraz „tensor”. \n",
        "\n",
        "Tablice możemy utworzyć z istniejącej listy za pomocą metody `np.array()`. Zaczniemy od prostej listy i utworzymy z niej jednowymiarową tablicę.\n"
      ],
      "metadata": {
        "id": "MKSmIwFRQhfN"
      }
    },
    {
      "cell_type": "code",
      "execution_count": null,
      "metadata": {
        "colab": {
          "base_uri": "https://localhost:8080/"
        },
        "id": "ApY_qpM1KXz-",
        "outputId": "9ffc26c4-9546-425f-ff8d-521bc42f4ca4"
      },
      "outputs": [
        {
          "output_type": "execute_result",
          "data": {
            "text/plain": [
              "array([ 35, 180,  75])"
            ]
          },
          "metadata": {},
          "execution_count": 3
        }
      ],
      "source": [
        "number_list = [35, 180, 75]\n",
        "arr_1d = np.array(number_list)\n",
        "arr_1d"
      ]
    },
    {
      "cell_type": "markdown",
      "source": [
        "Każdy tensor ma trzy główne atrybuty: `ndim` (liczba osi), `shape` (kształt) oraz `dtype` (typ danych). Zobaczmy jakie wartości otrzymamy dla tensora  `arr_1d`:"
      ],
      "metadata": {
        "id": "MacZpSrkQ5AB"
      }
    },
    {
      "cell_type": "code",
      "source": [
        "print(f'ndim = {arr_1d.ndim}')\n",
        "print(f'shape = {arr_1d.shape}')\n",
        "print(f'dtype = {arr_1d.dtype}')"
      ],
      "metadata": {
        "id": "tpt-bQ3TQ7GF",
        "outputId": "49f99b66-2511-432b-c7e1-c5cae5f3fd61",
        "colab": {
          "base_uri": "https://localhost:8080/"
        }
      },
      "execution_count": null,
      "outputs": [
        {
          "output_type": "stream",
          "name": "stdout",
          "text": [
            "ndim = 1\n",
            "shape = (3,)\n",
            "dtype = int64\n"
          ]
        }
      ]
    },
    {
      "cell_type": "markdown",
      "source": [
        "- Atrybut `ndim` określa ile osi ma tensor. Często wartość nim nazywamy **rangą tensora**. Tablica arr_1d ma jedną oś i jest nazywana **wektorem**. \n",
        "\n",
        "- Atrybut  `shape` określa **wymiar tensora** dla każdej jego osi. Wartość (3, ) atrybutu shape dla tensora  arr_1d oznacza, że jego jedyna oś ma trzy wymiary. *Wymiary można interpretować jako typy cech przypisanych do jakiegoś obiektu*. Na przykład kolejne pozycje wektora arr_1d można interpretować jako wiek (35), wzrost (180) oraz masę ciała (75).\n",
        "\n",
        "- Atrybut `dtype` określa **typ danych** umieszczonych w tensorze. Wartość `int64` oznacza, że dane w tablicy `arr_1d` są liczbami całkowitymi z przedziału od -2 do potęgi 63 do 2 do potęgi 63 - 1. NumPy dostarcza wielu typów danych, których nie będziemy szczegółowo omawiać.\n",
        "\n",
        "Tensory mają jeszcze trzy dodatkowe atrybuty `size`, `itemsize` oraz `nbytes`. Wsztstkie atrybuty z krorkim wyjaśnieniem zbiera tabela poniżej:\n",
        "\n",
        "| Nazwa atrybutu | Opis |\n",
        "| --- | --- |\n",
        "| `ndim`     | Liczba wymiarów tabeli |\n",
        "| `shape`    | Rozmiar poszczególnych wymiarów |\n",
        "| `dtype`    | Typ danych tabeli |\n",
        "| `size`     | Rozmiar tabeli, czyli liczba elementów znajdujących się w niej |\n",
        "| `itemsize` | Rozmiar pojedynczego elementu tabeli w bajtach | \n",
        "| `nbytes`   | Rozmiar całej tabeli w bajtach |\n",
        "\n",
        "Uwaga! Wektory nazywane są niekiedy „jednowymiarowymi tensorami”. Ta „jednowymiarowość” odnosi się wyłącznie do liczby osi tensora (nie do kształtu).\n",
        "\n",
        "Tensory posiadające dwie osie nazywamy **macierzami** (ang. *matrix*) lub dwuwymiarowymi tensorami."
      ],
      "metadata": {
        "id": "jfgilM9mRKsT"
      }
    },
    {
      "cell_type": "code",
      "execution_count": null,
      "metadata": {
        "colab": {
          "base_uri": "https://localhost:8080/"
        },
        "id": "v18JreuqKaX-",
        "outputId": "d7b5504c-a777-4bca-a37b-91d889b1674a"
      },
      "outputs": [
        {
          "data": {
            "text/plain": [
              "array([[ 35, 180,  75],\n",
              "       [ 22, 167,  50]])"
            ]
          },
          "execution_count": 16,
          "metadata": {},
          "output_type": "execute_result"
        }
      ],
      "source": [
        "number_list_2d = [[35, 180, 75],[22,167,50]]\n",
        "arr_2d = np.array(number_list_2d)\n",
        "arr_2d"
      ]
    },
    {
      "cell_type": "code",
      "execution_count": null,
      "metadata": {
        "colab": {
          "base_uri": "https://localhost:8080/"
        },
        "id": "aSCeisfwTL-l",
        "outputId": "2f3a595f-d80e-48ce-efbd-f2dc1c7288ba"
      },
      "outputs": [
        {
          "name": "stdout",
          "output_type": "stream",
          "text": [
            "ndim = 2\n",
            "shape = (2, 3)\n",
            "dtype = int64\n"
          ]
        }
      ],
      "source": [
        "print(f'ndim = {arr_2d.ndim}')\n",
        "print(f'shape = {arr_2d.shape}')\n",
        "print(f'dtype = {arr_2d.dtype}')"
      ]
    },
    {
      "cell_type": "markdown",
      "source": [
        "Macierze korespondują z tabelami. Można więc mówić, że mają wiersze i kolumny. Macierz `arr_2d` ma kształt `(2, 3)`. Można więc powiedzieć, że ma dwa wiersze i trzy kolumny. Jeśli spojrzymy na wiersze macierzy jako na wektory, to będziemy mogli powiedzieć również o macierzy `arr_2d`, że składa się z dwóch trójwymiarowych wektorów. Innymi słowy, jeśli wektory tego samego kształtu umieści się w tablicy, to otrzymamy macierz.\n",
        "\n",
        "Przykładami macierzy mogą być obrazki w skali szarości…\n",
        "Kształt należy interpretować (wysokość, szerokość)"
      ],
      "metadata": {
        "id": "sCAM-W_tSHna"
      }
    },
    {
      "cell_type": "code",
      "execution_count": null,
      "metadata": {
        "id": "PV79fmkKgN3H"
      },
      "outputs": [],
      "source": [
        "window = [[  0,   0,   0,   0,   0,   0,   0],\n",
        "          [  0, 255, 255,   0, 255, 255,   0],\n",
        "          [  0, 255, 255,   0, 255, 255,   0],\n",
        "          [  0, 255, 255,   0, 255, 255,   0],\n",
        "          [  0,   0,   0,   0,   0,   0,   0]]"
      ]
    },
    {
      "cell_type": "code",
      "execution_count": null,
      "metadata": {
        "id": "0x8Jv1DohtDk"
      },
      "outputs": [],
      "source": [
        "window_a = np.array(window)"
      ]
    },
    {
      "cell_type": "code",
      "execution_count": null,
      "metadata": {
        "colab": {
          "base_uri": "https://localhost:8080/"
        },
        "id": "Gv38oxxrhn-o",
        "outputId": "c9c86f35-1bc1-4a01-88f7-2022e03ac7b2"
      },
      "outputs": [
        {
          "name": "stdout",
          "output_type": "stream",
          "text": [
            "ndim = 2\n",
            "shape = (5, 7)\n",
            "dtype = int64\n"
          ]
        }
      ],
      "source": [
        "print(f'ndim = {window_a.ndim}')\n",
        "print(f'shape = {window_a.shape}')\n",
        "print(f'dtype = {window_a.dtype}')"
      ]
    },
    {
      "cell_type": "code",
      "execution_count": null,
      "metadata": {
        "colab": {
          "base_uri": "https://localhost:8080/",
          "height": 265
        },
        "id": "oCoZ72HcbDW2",
        "outputId": "84508063-8a2d-4d81-e85e-287af785e96a"
      },
      "outputs": [
        {
          "data": {
            "image/png": "[encoded data removed]",
            "text/plain": [
              "<Figure size 432x288 with 1 Axes>"
            ]
          },
          "metadata": {
            "needs_background": "light"
          },
          "output_type": "display_data"
        }
      ],
      "source": [
        "from matplotlib import pyplot as plt\n",
        "plt.imshow(window_a, cmap='gray', vmin=0, vmax=255)\n",
        "plt.show()"
      ]
    },
    {
      "cell_type": "markdown",
      "source": [
        "Jeśli umieścimy macierz w tablicy, to otrzymamy tensor trójwymiarowy. "
      ],
      "metadata": {
        "id": "uI1fW29ASbZA"
      }
    },
    {
      "cell_type": "code",
      "execution_count": null,
      "metadata": {
        "colab": {
          "base_uri": "https://localhost:8080/"
        },
        "id": "A-RIONyScWrP",
        "outputId": "c9356a10-50bd-4364-a1a1-df2c27fe0fff"
      },
      "outputs": [
        {
          "data": {
            "text/plain": [
              "array([[[ 35, 180,  75],\n",
              "        [ 22, 167,  50]],\n",
              "\n",
              "       [[ 35, 180,  74],\n",
              "        [ 22, 167,  50]],\n",
              "\n",
              "       [[ 35, 180,  74],\n",
              "        [ 22, 167,  49]]])"
            ]
          },
          "execution_count": 29,
          "metadata": {},
          "output_type": "execute_result"
        }
      ],
      "source": [
        "number_list_3d = [[[35, 180, 75],[22,167,50]], \n",
        "                  [[35, 180, 74],[22,167,50]],\n",
        "                  [[35, 180, 74],[22,167,49]]]\n",
        "arr_3d = np.array(number_list_3d)\n",
        "arr_3d"
      ]
    },
    {
      "cell_type": "code",
      "execution_count": null,
      "metadata": {
        "colab": {
          "base_uri": "https://localhost:8080/"
        },
        "id": "GUXCmIIDcwdR",
        "outputId": "02848b84-da0d-43bb-aaac-6abf1bb6574b"
      },
      "outputs": [
        {
          "name": "stdout",
          "output_type": "stream",
          "text": [
            "ndim = 3\n",
            "shape = (3, 2, 3)\n",
            "dtype = int64\n"
          ]
        }
      ],
      "source": [
        "print(f'ndim = {arr_3d.ndim}')\n",
        "print(f'shape = {arr_3d.shape}')\n",
        "print(f'dtype = {arr_3d.dtype}')"
      ]
    },
    {
      "cell_type": "markdown",
      "metadata": {
        "id": "DbNx2mOocYBT"
      },
      "source": [
        "## Tworzenia tablic za pomocą funkcji NumPy"
      ]
    },
    {
      "cell_type": "markdown",
      "metadata": {
        "id": "featured-setup"
      },
      "source": [
        "\n",
        "NumPy udostępnia wiele sposobów na tworzenie tablic, z których kilka najbardziej często używanych omówimy w tej części. Poznaliśmy już funkcję `np.array`, tworzącą nową tablicę na podstawie listy. Funkcja `np.array` pozwala na określenie typu przechowywanych w niej danych z użyciem parametru `dtype`."
      ]
    },
    {
      "cell_type": "code",
      "execution_count": null,
      "metadata": {
        "id": "contemporary-nancy",
        "outputId": "a5b1fa3a-b703-4338-f761-70bea96a2398"
      },
      "outputs": [
        {
          "name": "stdout",
          "output_type": "stream",
          "text": [
            "Default int type: int64\n",
            "Default float type: float64\n",
            "Set type: float32\n"
          ]
        }
      ],
      "source": [
        "array1 = np.array([1, 2, 3, 4, 5])\n",
        "print(f\"Default int type: {array1.dtype}\")\n",
        "\n",
        "array2 = np.array([1, 2, 3.0, 4, 5.0])\n",
        "print(f\"Default float type: {array2.dtype}\")\n",
        "\n",
        "array3 = np.array([1, 2, 3.0, 4, 5.0], dtype='float32')\n",
        "print(f\"Set type: {array3.dtype}\")"
      ]
    },
    {
      "cell_type": "markdown",
      "metadata": {
        "id": "computational-audit"
      },
      "source": [
        "Jak widzimy, domyślnym typem danych dla tablicy, która składa się wyłącznie z liczb całkowitych, jest `int64`, a dla tablicy z liczbami zmiennoprzecinkowymi - `float64`. Liczba `64` reprezentuje liczbę bitów przeznaczonych na przechowanie poszczególnych wartości. `int64` to typ ze znakiem (ang. *signed*) dopuszczający zarówno liczby dodatnie, jak i ujemne. Jeżeli wiemy, że nasza tablica nie będzie zawierała liczb ujemnych, możemy użyc jednego z typów bez znaku, których nazwa zaczyna się od litery `u`, np. `uint64`. Typ możemy określać zarówno w formie napisu `'float64'`, jak i korzystając ze zdefiniowanej w NumPy stałej: `np.int64`.\n",
        "\n",
        "Poniższa tabela zawiera kilka wybranych typów danych zdefiniowanych w NumPy. Pełną listę typów można zneleźć w [dokumentacji](https://numpy.org/devdocs/user/basics.types.html)."
      ]
    },
    {
      "cell_type": "markdown",
      "metadata": {
        "id": "vocational-kitchen"
      },
      "source": [
        "| Typ       | Opis | Zakres |\n",
        "| --- | --- | --- |\n",
        "| `bool_`   | Typ logiczny | Przyjmuje wartość `True` lub `False` |\n",
        "| `int_`    | Domyślny typ dla liczb całkowitych; zazwyczaj `int64` lub `int32` | - |\n",
        "| `int8`    | Liczby całkowite 8-bitowa ze znakiem (tj. reprezentowana przez 8 bitów i mogąca przyjmować wartości ujemne) | Od -128 do 127 |\n",
        "| `int16`   | Liczba całkowita 16-bitowa ze znakiem | Od -32768 do 32767 |\n",
        "| `int32`   | Liczba całkowita 32-bitowa ze znakiem | Od -2147483648 do 2147483647 |\n",
        "| `int64`   | Liczba całkowita 64-bitowa ze znakiem | Od -9223372036854775808 do 9223372036854775807 |\n",
        "| `uint8`   | Liczba całkowita 8-bitowa bez znaku | Od 0 do 255 |\n",
        "| `float_`  | Domyślna liczba zmiennoprzecinkowa; alias dla `float64` | - |\n",
        "| `float32` | Liczba zmiennoprzecinkowa pojedynczej precyzji | 1 bit przeznaczony jest na znak, 8 bitów - wykładnik, 23 bity - mantysę |\n",
        "| `float64` | Liczba zmiennoprzecinkowa podwójnej precyzji (ang. *double precision* ) | 1 bit przeznaczony jest na znak, 11 bitów - wykładnik, 52 bity - mantysę |"
      ]
    },
    {
      "cell_type": "markdown",
      "metadata": {
        "id": "wooden-whole"
      },
      "source": [
        "Kolejną przydatną funkcją do tworzenia tablic jest `np.arange`, która pozwala na inicjalizowanie tablic kolejnymi liczbami naturalnymi z zadanego przedziału oraz ze wskazanym krokiem."
      ]
    },
    {
      "cell_type": "markdown",
      "source": [
        "Metoda `np.arange()` tworzy wektor z wartościami w sposób pokazany poniżej (zauważmy, że zachowuje się podanie do poznaniej wcześniej funkcji `range()`):"
      ],
      "metadata": {
        "id": "1AqIbd9bVHhS"
      }
    },
    {
      "cell_type": "code",
      "execution_count": null,
      "metadata": {
        "id": "peaceful-extreme",
        "outputId": "b54a1a11-0427-4149-f712-b7bfa6fc75b1"
      },
      "outputs": [
        {
          "name": "stdout",
          "output_type": "stream",
          "text": [
            "arange(10):       [0 1 2 3 4 5 6 7 8 9]\n",
            "arange(5, 10):    [5 6 7 8 9]\n",
            "arange(0, 10, 2): [0 2 4 6 8]\n"
          ]
        }
      ],
      "source": [
        "array1 = np.arange(10)\n",
        "print(f\"arange(10):       {array1}\")\n",
        "\n",
        "array2 = np.arange(5, 10)\n",
        "print(f\"arange(5, 10):    {array2}\")\n",
        "\n",
        "array3 = np.arange(0, 10, 2)\n",
        "print(f\"arange(0, 10, 2): {array3}\")"
      ]
    },
    {
      "cell_type": "code",
      "execution_count": null,
      "metadata": {
        "colab": {
          "base_uri": "https://localhost:8080/"
        },
        "id": "336QVQXDLmD1",
        "outputId": "49cabe8f-3baa-4582-c569-a255b44f36c7"
      },
      "outputs": [
        {
          "data": {
            "text/plain": [
              "array([1, 2, 3, 4, 5, 6])"
            ]
          },
          "execution_count": 3,
          "metadata": {},
          "output_type": "execute_result"
        }
      ],
      "source": [
        "np.arange(1,7)"
      ]
    },
    {
      "cell_type": "code",
      "execution_count": null,
      "metadata": {
        "colab": {
          "base_uri": "https://localhost:8080/"
        },
        "id": "IcLfi2ugLvkm",
        "outputId": "880c719a-ab9f-44df-ca93-460e6f8f0359"
      },
      "outputs": [
        {
          "data": {
            "text/plain": [
              "array([1, 3, 5])"
            ]
          },
          "execution_count": 6,
          "metadata": {},
          "output_type": "execute_result"
        }
      ],
      "source": [
        "np.arange(1,7,2)"
      ]
    },
    {
      "cell_type": "markdown",
      "metadata": {
        "id": "fantastic-electronics"
      },
      "source": [
        "Jeżeli podczas tworzenia tablicy nie wiemy, jakie znajdą się w niej wartości, możemy stworzyć nową tablicę wypełnioną zerami lub jedynkami, wykorzystując funkcje - odpowiednio - `np.zeros` lub `np.ones`. Funkcje te jako pierwszy argument przyjmą rozmiar tablicy. Na poniższym listingu widać również, że możemy specyfikować typ danych tworzonych tablic."
      ]
    },
    {
      "cell_type": "code",
      "execution_count": null,
      "metadata": {
        "colab": {
          "base_uri": "https://localhost:8080/"
        },
        "id": "ziHEaxm_Lxqh",
        "outputId": "caa72151-2f56-4579-de52-d5df75d60047"
      },
      "outputs": [
        {
          "data": {
            "text/plain": [
              "array([0., 0., 0., 0., 0., 0.])"
            ]
          },
          "execution_count": 7,
          "metadata": {},
          "output_type": "execute_result"
        }
      ],
      "source": [
        "np.zeros(6)"
      ]
    },
    {
      "cell_type": "code",
      "execution_count": null,
      "metadata": {
        "colab": {
          "base_uri": "https://localhost:8080/"
        },
        "id": "2fLzjlPUL6dP",
        "outputId": "6138fadc-5735-449a-8b61-fe078f801f7e"
      },
      "outputs": [
        {
          "data": {
            "text/plain": [
              "array([[0., 0., 0.],\n",
              "       [0., 0., 0.]])"
            ]
          },
          "execution_count": 8,
          "metadata": {},
          "output_type": "execute_result"
        }
      ],
      "source": [
        "np.zeros((2,3))"
      ]
    },
    {
      "cell_type": "code",
      "execution_count": null,
      "metadata": {
        "colab": {
          "base_uri": "https://localhost:8080/"
        },
        "id": "4cf_C7u4MLQL",
        "outputId": "7c799353-34bb-48dc-9ce3-43e02cafea4f"
      },
      "outputs": [
        {
          "data": {
            "text/plain": [
              "array([[1., 1., 1.],\n",
              "       [1., 1., 1.]])"
            ]
          },
          "execution_count": 9,
          "metadata": {},
          "output_type": "execute_result"
        }
      ],
      "source": [
        "np.ones((2,3))"
      ]
    },
    {
      "cell_type": "code",
      "execution_count": null,
      "metadata": {
        "id": "subsequent-prisoner",
        "outputId": "dec04f02-1899-4f2e-b41e-361224da52d9"
      },
      "outputs": [
        {
          "name": "stdout",
          "output_type": "stream",
          "text": [
            "zeros1: [0. 0. 0. 0. 0. 0. 0. 0. 0. 0.]\n",
            "zeros2: [0 0 0 0 0 0 0 0 0 0]\n",
            "ones1:  [1. 1. 1. 1. 1. 1. 1. 1. 1. 1.]\n",
            "ones2:  [1 1 1 1 1 1 1 1 1 1]\n"
          ]
        }
      ],
      "source": [
        "zeros1 = np.zeros(10)\n",
        "print(f\"zeros1: {zeros1}\")\n",
        "\n",
        "zeros2 = np.zeros(10, dtype=np.int32)\n",
        "print(f\"zeros2: {zeros2}\")\n",
        "\n",
        "ones1 = np.ones(10)\n",
        "print(f\"ones1:  {ones1}\")\n",
        "\n",
        "ones2 = np.ones(10, dtype=np.int32)\n",
        "print(f\"ones2:  {ones2}\")"
      ]
    },
    {
      "cell_type": "markdown",
      "metadata": {
        "id": "conservative-converter"
      },
      "source": [
        "Wykorzystując te funkcje możemy również stworzyć tablicę wielowymiarową. Robimy to przez przekazanie krotki (tupli) z wielkościami poszczególnych wymiarów jako pierwszy argument funkcji. Przykład:"
      ]
    },
    {
      "cell_type": "code",
      "execution_count": null,
      "metadata": {
        "id": "economic-sixth",
        "outputId": "5a6feb5c-3cd9-4808-d355-fd40e6bb760e"
      },
      "outputs": [
        {
          "name": "stdout",
          "output_type": "stream",
          "text": [
            "zeros_2x3:\n",
            "[[0 0 0]\n",
            " [0 0 0]]\n"
          ]
        }
      ],
      "source": [
        "zeros_2x3 = np.zeros((2, 3), dtype=np.int32)\n",
        "print(f\"zeros_2x3:\\n{zeros_2x3}\")"
      ]
    },
    {
      "cell_type": "markdown",
      "metadata": {
        "id": "eligible-bullet"
      },
      "source": [
        "Pierwszy argument krotki definiuje liczbę wierszy, a drugi liczbę kolumn. \n",
        "\n",
        "Widzieliśmy już tablice jedno- i dwuwymiarowe, ale co gdy potrzebujemy więcej wymiarów? Okazuje się, że używając opisanego podejścia możemy definiować więcej wymiarów, co pokazujemy poniżej. Jednak ze względu na problematyczność prezentacji tablic z więcej niż dwoma wymiarami, w dalszych opisach ograniczamy się do tablic jedno- i dwuwymiarowych."
      ]
    },
    {
      "cell_type": "code",
      "execution_count": null,
      "metadata": {
        "id": "romantic-female",
        "outputId": "c0c5044a-c417-47ea-abbe-bd5cbe79251f"
      },
      "outputs": [
        {
          "name": "stdout",
          "output_type": "stream",
          "text": [
            "[[[0 0 0 0]\n",
            "  [0 0 0 0]\n",
            "  [0 0 0 0]]\n",
            "\n",
            " [[0 0 0 0]\n",
            "  [0 0 0 0]\n",
            "  [0 0 0 0]]]\n"
          ]
        }
      ],
      "source": [
        "zeros_2x3x4 = np.zeros((2, 3, 4), dtype=np.int32)\n",
        "print(zeros_2x3x4)"
      ]
    },
    {
      "cell_type": "markdown",
      "metadata": {
        "id": "blind-warning"
      },
      "source": [
        "Poznaliśmy już sposób na inicjalizowanie tablic zerami i jedynkami, ale co z inicjalizacją tablicy innymi wartościami? NumPy udostępnia funkcję `np.full`, która pozwala na inicjalizowanie tablicy dowolną wartością. Pierwszy argument tej funkcji odpowiednio za definiowanie rozmiaru (-ów) tablicy, a drugi przyjmuje wartość, którą mają zostać zainicjalizowane wszystkie komórki tablicy."
      ]
    },
    {
      "cell_type": "code",
      "execution_count": null,
      "metadata": {
        "id": "alternative-japanese",
        "outputId": "b930c84e-bba2-4272-e675-154c68576942"
      },
      "outputs": [
        {
          "name": "stdout",
          "output_type": "stream",
          "text": [
            "PI array:\n",
            "[[3.14 3.14 3.14]\n",
            " [3.14 3.14 3.14]]\n"
          ]
        }
      ],
      "source": [
        "pi_array = np.full((2, 3), 3.14)\n",
        "print(f\"PI array:\\n{pi_array}\")"
      ]
    },
    {
      "cell_type": "markdown",
      "metadata": {
        "id": "resistant-bibliography"
      },
      "source": [
        "Oprócz opisanych już sposobów tworzenia nowych tablic, NumPy udostępnia jeszcze wiele innych, o których wspominamy wyłącznie w poniższej tabeli, a po więcej informacji odsyłamy czytelnika do [dokumentacji](TODO)."
      ]
    },
    {
      "cell_type": "markdown",
      "source": [
        "Podobną funkcją `np.linspace()`. Zwraca ona tablicę z wartościami równomiernie rozłożonymi między zadanymi wartościami i wartością „kroku”."
      ],
      "metadata": {
        "id": "67g-QG0beJsb"
      }
    },
    {
      "cell_type": "code",
      "execution_count": null,
      "metadata": {
        "colab": {
          "base_uri": "https://localhost:8080/"
        },
        "id": "DnN0ahwyMR53",
        "outputId": "a69ecb71-83aa-47c7-e872-b18a4088a1f7"
      },
      "outputs": [
        {
          "data": {
            "text/plain": [
              "array([1., 4., 7.])"
            ]
          },
          "execution_count": 14,
          "metadata": {},
          "output_type": "execute_result"
        }
      ],
      "source": [
        "np.linspace(1,7,3)"
      ]
    },
    {
      "cell_type": "code",
      "source": [
        "#np.logspace()"
      ],
      "metadata": {
        "id": "LXciYw9DeUXi"
      },
      "execution_count": null,
      "outputs": []
    },
    {
      "cell_type": "markdown",
      "source": [
        "Tworzy tablicę dwuwymiarową (macierz) jednostkową, gdzie na wejściu definiowany jest jej wymiar."
      ],
      "metadata": {
        "id": "R5URnw5te4Pd"
      }
    },
    {
      "cell_type": "code",
      "execution_count": null,
      "metadata": {
        "colab": {
          "base_uri": "https://localhost:8080/"
        },
        "id": "RksInSxxMr7M",
        "outputId": "4ce154eb-484a-4d45-d8a9-55c6f6e47f64"
      },
      "outputs": [
        {
          "data": {
            "text/plain": [
              "array([[1., 0., 0.],\n",
              "       [0., 1., 0.],\n",
              "       [0., 0., 1.]])"
            ]
          },
          "execution_count": 16,
          "metadata": {},
          "output_type": "execute_result"
        }
      ],
      "source": [
        "np.eye(3)"
      ]
    },
    {
      "cell_type": "code",
      "execution_count": null,
      "metadata": {
        "colab": {
          "base_uri": "https://localhost:8080/"
        },
        "id": "kyRc32oha8n-",
        "outputId": "4ee9ae4f-b940-4be4-f4ed-e16780867bde"
      },
      "outputs": [
        {
          "data": {
            "text/plain": [
              "array([0, 1, 2, 3, 4])"
            ]
          },
          "execution_count": 7,
          "metadata": {},
          "output_type": "execute_result"
        }
      ],
      "source": [
        "a = np.arange(5)\n",
        "b = a.copy()\n",
        "b"
      ]
    },
    {
      "cell_type": "markdown",
      "metadata": {
        "id": "SyN6ayWZuAzC"
      },
      "source": [
        "### Zapisywanie i wczytywanie tablic"
      ]
    },
    {
      "cell_type": "code",
      "execution_count": null,
      "metadata": {
        "id": "fhpymloybNVg"
      },
      "outputs": [],
      "source": [
        "np.save(\"my_array\", a)"
      ]
    },
    {
      "cell_type": "code",
      "execution_count": null,
      "metadata": {
        "id": "XbdJo5I2b3yF"
      },
      "outputs": [],
      "source": [
        "np.savez(\"my_array\", a, b)"
      ]
    },
    {
      "cell_type": "code",
      "execution_count": null,
      "metadata": {
        "id": "tkYiqb4TcPvr"
      },
      "outputs": [],
      "source": [
        "np.savetxt(\"my_array.csv\", a, delimiter=',')"
      ]
    },
    {
      "cell_type": "code",
      "execution_count": null,
      "metadata": {
        "colab": {
          "base_uri": "https://localhost:8080/"
        },
        "id": "BSOCFV5qcCDH",
        "outputId": "db5fce38-6747-4ef2-da95-89a3d15c0586"
      },
      "outputs": [
        {
          "data": {
            "text/plain": [
              "array([0, 1, 2, 3, 4])"
            ]
          },
          "execution_count": 12,
          "metadata": {},
          "output_type": "execute_result"
        }
      ],
      "source": [
        "c = np.load(\"my_array.npy\")\n",
        "c"
      ]
    },
    {
      "cell_type": "code",
      "execution_count": null,
      "metadata": {
        "colab": {
          "base_uri": "https://localhost:8080/"
        },
        "id": "zRfawCfUc0X8",
        "outputId": "4b2395a6-5313-4004-fc3c-1a8b6a32f77e"
      },
      "outputs": [
        {
          "data": {
            "text/plain": [
              "array([0., 1., 2., 3., 4.])"
            ]
          },
          "execution_count": 15,
          "metadata": {},
          "output_type": "execute_result"
        }
      ],
      "source": [
        "c = np.loadtxt(\"my_array.csv\", delimiter=',')\n",
        "c"
      ]
    },
    {
      "cell_type": "markdown",
      "metadata": {
        "id": "2rRkYC1tZ-FZ"
      },
      "source": [
        "### Random"
      ]
    },
    {
      "cell_type": "markdown",
      "source": [
        "Tworzy pusta (niezainicjalizowaną) tablicę o podanym rozmiarze. Wartości w poszczególnych komórkach jest przypadkowe."
      ],
      "metadata": {
        "id": "HW3xU1MiWohK"
      }
    },
    {
      "cell_type": "code",
      "execution_count": null,
      "metadata": {
        "colab": {
          "base_uri": "https://localhost:8080/"
        },
        "id": "rbn1IzlRZ7am",
        "outputId": "739ed965-eb1b-4101-d09a-16fce96fff08"
      },
      "outputs": [
        {
          "data": {
            "text/plain": [
              "array([[5.e-324, 5.e-324],\n",
              "       [5.e-324, 0.e+000]])"
            ]
          },
          "execution_count": 8,
          "metadata": {},
          "output_type": "execute_result"
        }
      ],
      "source": [
        "np.empty((2,2))"
      ]
    },
    {
      "cell_type": "code",
      "execution_count": null,
      "metadata": {
        "colab": {
          "base_uri": "https://localhost:8080/"
        },
        "id": "8fW9DDFJaTD2",
        "outputId": "c462e3d2-687f-44cb-caae-d868fa8ba2d5"
      },
      "outputs": [
        {
          "data": {
            "text/plain": [
              "array([[5.e-324, 5.e-324],\n",
              "       [5.e-324, 0.e+000]])"
            ]
          },
          "execution_count": 9,
          "metadata": {},
          "output_type": "execute_result"
        }
      ],
      "source": [
        "np.ndarray((2,2))"
      ]
    },
    {
      "cell_type": "markdown",
      "metadata": {
        "id": "brazilian-moscow"
      },
      "source": [
        "NumPy udostępnia możliwość inicjalizowania tablic wartościami wygenerowanymi (pseudo)losowo. Funkcja `np.random.random` zwraca tablicę wypełnioną liczbami zmiennoprzecinkowymi z zakresu `[0.0, 1.0)`. Z kolei funkcja `np.random.normal` generuje losowe wartości dane rozkładem normalnym (zwanym również rozkładem Gaussa) domyślnie ze środkiem w zerze oraz odchyleniem standardowym równym 1. Środek i odchylenie można zmienić przez przekazanie odpowiednich argumentów do funkcji. Ostatnią funkcją generującą tablice z wartościami losowymi jest funkcja `np.random.randinit`, która przyjmuje na wejściu dwie liczby określające początek i koniec zakresu losowo generowanych liczb całkowitych."
      ]
    },
    {
      "cell_type": "code",
      "execution_count": null,
      "metadata": {
        "id": "sunset-likelihood",
        "outputId": "942d8a3c-099c-4401-96c8-32236c8eb3b1"
      },
      "outputs": [
        {
          "name": "stdout",
          "output_type": "stream",
          "text": [
            "random(5):          [0.17766626 0.07968745 0.97367797 0.76259372 0.10799472]\n",
            "random((3, 3)):   \n",
            "[[0.69387296 0.10740535 0.13192494]\n",
            " [0.5701371  0.43710368 0.93884645]\n",
            " [0.80632546 0.09098489 0.47081152]]\n",
            "normal(size=5):     [ 0.5873014   0.12388572 -0.2527302  -0.18529837  0.71133511]\n",
            "normal(0, 5, (3,3)):\n",
            "[[  2.54319411  -0.25230707  -0.96919505]\n",
            " [  0.83034369  -5.27793662  -2.32667131]\n",
            " [  0.97381594 -10.54881596   3.22834525]]\n",
            "randint(0, 10):     6\n",
            "randint(0, 10, (3, 3)):\n",
            "[[6 5 2]\n",
            " [9 6 3]\n",
            " [6 8 0]]\n"
          ]
        }
      ],
      "source": [
        "array1 = np.random.random(5)\n",
        "print(f\"random(5):          {array1}\")\n",
        "\n",
        "array2 = np.random.random((3, 3))\n",
        "print(f\"random((3, 3)):   \\n{array2}\")\n",
        "\n",
        "array3 = np.random.normal(size=5)\n",
        "print(f\"normal(size=5):     {array3}\")\n",
        "\n",
        "array4 = np.random.normal(0, 5, (3, 3))\n",
        "print(f\"normal(0, 5, (3,3)):\\n{array4}\")\n",
        "\n",
        "array5 = np.random.randint(10)\n",
        "print(f\"randint(0, 10):     {array5}\")\n",
        "\n",
        "array6 = np.random.randint(0, 10, (3, 3))\n",
        "print(f\"randint(0, 10, (3, 3)):\\n{array6}\")"
      ]
    },
    {
      "cell_type": "code",
      "execution_count": null,
      "metadata": {
        "colab": {
          "base_uri": "https://localhost:8080/"
        },
        "id": "VXTdPb83M08O",
        "outputId": "fc13ece1-242c-4a05-ff3c-1f2dc475fc87"
      },
      "outputs": [
        {
          "data": {
            "text/plain": [
              "array([0.07492331, 0.24106443])"
            ]
          },
          "execution_count": 10,
          "metadata": {},
          "output_type": "execute_result"
        }
      ],
      "source": [
        "np.random.rand(2)"
      ]
    },
    {
      "cell_type": "code",
      "execution_count": null,
      "metadata": {
        "colab": {
          "base_uri": "https://localhost:8080/"
        },
        "id": "hGXbr9gAT7NL",
        "outputId": "a4d2b98a-196a-4c12-9802-440db4731a07"
      },
      "outputs": [
        {
          "data": {
            "text/plain": [
              "array([[0.16743573, 0.30332658],\n",
              "       [0.36651344, 0.03930446]])"
            ]
          },
          "execution_count": 11,
          "metadata": {},
          "output_type": "execute_result"
        }
      ],
      "source": [
        "np.random.rand(2,2)"
      ]
    },
    {
      "cell_type": "code",
      "execution_count": null,
      "metadata": {
        "colab": {
          "base_uri": "https://localhost:8080/"
        },
        "id": "oy61Z7gPT_OW",
        "outputId": "aab5794c-ec1c-4a82-fb9f-9d0868d5a6a0"
      },
      "outputs": [
        {
          "data": {
            "text/plain": [
              "array([[-0.38342014, -0.34040987,  1.87649948],\n",
              "       [-0.39434173, -0.27731501,  0.00407483]])"
            ]
          },
          "execution_count": 19,
          "metadata": {},
          "output_type": "execute_result"
        }
      ],
      "source": [
        "# uniform vs. standard normal distribution (mean 0; variance 1)\n",
        "\n",
        "np.random.randn(2,3)"
      ]
    },
    {
      "cell_type": "code",
      "execution_count": null,
      "metadata": {
        "colab": {
          "base_uri": "https://localhost:8080/"
        },
        "id": "LaiARP0YUf_t",
        "outputId": "354306b2-ba7d-458d-c4c8-ababc2bee12f"
      },
      "outputs": [
        {
          "data": {
            "text/plain": [
              "3"
            ]
          },
          "execution_count": 20,
          "metadata": {},
          "output_type": "execute_result"
        }
      ],
      "source": [
        "np.random.randint(1,7)"
      ]
    },
    {
      "cell_type": "code",
      "execution_count": null,
      "metadata": {
        "colab": {
          "base_uri": "https://localhost:8080/"
        },
        "id": "tOb2P0blUxos",
        "outputId": "1870ef03-619f-43ca-d2a1-3d4d14c7295c"
      },
      "outputs": [
        {
          "data": {
            "text/plain": [
              "array([[5, 2, 3],\n",
              "       [3, 6, 6]])"
            ]
          },
          "execution_count": 21,
          "metadata": {},
          "output_type": "execute_result"
        }
      ],
      "source": [
        "np.random.randint(1,7, (2,3))"
      ]
    },
    {
      "cell_type": "code",
      "execution_count": null,
      "metadata": {
        "colab": {
          "base_uri": "https://localhost:8080/"
        },
        "id": "fq3qDGPWU6X5",
        "outputId": "f8a67aeb-e6d4-44a6-b4cf-241185e1b33d"
      },
      "outputs": [
        {
          "data": {
            "text/plain": [
              "array([0.4359949 , 0.02592623, 0.54966248, 0.43532239])"
            ]
          },
          "execution_count": 23,
          "metadata": {},
          "output_type": "execute_result"
        }
      ],
      "source": [
        "np.random.seed(2)\n",
        "np.random.rand(7)"
      ]
    },
    {
      "cell_type": "code",
      "execution_count": null,
      "metadata": {
        "colab": {
          "base_uri": "https://localhost:8080/"
        },
        "id": "-BZ4cB9aVc8p",
        "outputId": "a67fbc0f-9d27-4b80-9894-7a19837e2938"
      },
      "outputs": [
        {
          "data": {
            "text/plain": [
              "array([ 0,  1,  2,  3,  4,  5,  6,  7,  8,  9, 10, 11, 12, 13, 14, 15, 16,\n",
              "       17, 18, 19, 20, 21, 22, 23, 24])"
            ]
          },
          "execution_count": 30,
          "metadata": {},
          "output_type": "execute_result"
        }
      ],
      "source": [
        "a = np.arange(25)\n",
        "rana = np.random.randint(0,50,10)\n",
        "a"
      ]
    },
    {
      "cell_type": "code",
      "execution_count": null,
      "metadata": {
        "colab": {
          "base_uri": "https://localhost:8080/"
        },
        "id": "52WRed6lYcgs",
        "outputId": "c47946fb-2319-410b-b0d4-6dd036fb2494"
      },
      "outputs": [
        {
          "data": {
            "text/plain": [
              "array([46,  8, 45, 15, 41, 45,  8, 17, 22,  9])"
            ]
          },
          "execution_count": 31,
          "metadata": {},
          "output_type": "execute_result"
        }
      ],
      "source": [
        "rana"
      ]
    },
    {
      "cell_type": "code",
      "execution_count": null,
      "metadata": {
        "colab": {
          "base_uri": "https://localhost:8080/"
        },
        "id": "Ubk1qlBbYsku",
        "outputId": "02328b80-1110-4407-99f3-a54fd92dd0fe"
      },
      "outputs": [
        {
          "data": {
            "text/plain": [
              "(25,)"
            ]
          },
          "execution_count": 32,
          "metadata": {},
          "output_type": "execute_result"
        }
      ],
      "source": [
        "a.shape"
      ]
    },
    {
      "cell_type": "code",
      "execution_count": null,
      "metadata": {
        "colab": {
          "base_uri": "https://localhost:8080/"
        },
        "id": "527PZN93YwEE",
        "outputId": "14701d19-f0a7-430c-b2ab-b26b88496e4e"
      },
      "outputs": [
        {
          "data": {
            "text/plain": [
              "array([[ 0,  1,  2,  3,  4],\n",
              "       [ 5,  6,  7,  8,  9],\n",
              "       [10, 11, 12, 13, 14],\n",
              "       [15, 16, 17, 18, 19],\n",
              "       [20, 21, 22, 23, 24]])"
            ]
          },
          "execution_count": 33,
          "metadata": {},
          "output_type": "execute_result"
        }
      ],
      "source": [
        "a.reshape(5,5) # nie zmienia a"
      ]
    },
    {
      "cell_type": "code",
      "execution_count": null,
      "metadata": {
        "colab": {
          "base_uri": "https://localhost:8080/",
          "height": 168
        },
        "id": "hFgQ03LzY3F8",
        "outputId": "3b0d6f18-f12c-41c7-dfda-68cb48d53e9c"
      },
      "outputs": [
        {
          "ename": "ValueError",
          "evalue": "ignored",
          "output_type": "error",
          "traceback": [
            "\u001b[0;31m---------------------------------------------------------------------------\u001b[0m",
            "\u001b[0;31mValueError\u001b[0m                                Traceback (most recent call last)",
            "\u001b[0;32m<ipython-input-34-08519f540222>\u001b[0m in \u001b[0;36m<module>\u001b[0;34m()\u001b[0m\n\u001b[0;32m----> 1\u001b[0;31m \u001b[0ma\u001b[0m\u001b[0;34m.\u001b[0m\u001b[0mreshape\u001b[0m\u001b[0;34m(\u001b[0m\u001b[0;36m3\u001b[0m\u001b[0;34m,\u001b[0m\u001b[0;36m5\u001b[0m\u001b[0;34m)\u001b[0m\u001b[0;34m\u001b[0m\u001b[0;34m\u001b[0m\u001b[0m\n\u001b[0m",
            "\u001b[0;31mValueError\u001b[0m: cannot reshape array of size 25 into shape (3,5)"
          ]
        }
      ],
      "source": [
        "a.reshape(3,5)"
      ]
    },
    {
      "cell_type": "code",
      "execution_count": null,
      "metadata": {
        "colab": {
          "base_uri": "https://localhost:8080/"
        },
        "id": "aW1s_Of5Y-gO",
        "outputId": "80a6b6c5-f460-4edc-ddf5-1352df95183c"
      },
      "outputs": [
        {
          "data": {
            "text/plain": [
              "dtype('int64')"
            ]
          },
          "execution_count": 36,
          "metadata": {},
          "output_type": "execute_result"
        }
      ],
      "source": [
        "rana.dtype"
      ]
    },
    {
      "cell_type": "markdown",
      "metadata": {
        "id": "8nScMHQ8qd0R"
      },
      "source": [
        "## Praca z elementami tablicy"
      ]
    },
    {
      "cell_type": "markdown",
      "metadata": {
        "id": "limited-canal"
      },
      "source": [
        "### Pobieranie i zmiana elementów tablicy\n",
        "\n",
        "Poznaliśmy już różne sposoby tworzenia tablic oraz dowiedzieliśmy się, jak możemy sprawdzić właściwości tablicy. Teraz przejdziemy do opisania sposobów dostępu do elementów przechowywanych w tablicy.\n",
        "\n",
        "Zacznijmy od najprostszego przypadku, jakim jest dostęp do pojedynczego elementu tablicy jednowymiarowej. Do tego celu używamy operatora dostępu (`[]`), tak samo jak w Pythonie. Oto przykład pobrania pierwszego, piątego i ostatniego elementu z tablicy (identycznie jak w Pythonie, elementom są indeksowane zaczynając od 0):"
      ]
    },
    {
      "cell_type": "code",
      "execution_count": null,
      "metadata": {
        "id": "fitting-outside",
        "outputId": "d0b2676d-82a0-4724-a8d6-3d6a57cebef1"
      },
      "outputs": [
        {
          "name": "stdout",
          "output_type": "stream",
          "text": [
            "First element (array[0]):  1\n",
            "Fifth element (array[4]):  5\n",
            "Last element (array[-1]):  10\n",
            "When getting element out of bounds IndexError is raised.\n"
          ]
        }
      ],
      "source": [
        "array = np.arange(1, 11)\n",
        "print(f\"First element (array[0]):  {array[0]}\")\n",
        "print(f\"Fifth element (array[4]):  {array[4]}\")\n",
        "print(f\"Last element (array[-1]):  {array[-1]}\")\n",
        "\n",
        "try:\n",
        "    print(f\"Not existing element: {array[11]}\")\n",
        "except IndexError:\n",
        "    print(\"When getting element out of bounds IndexError is raised.\")"
      ]
    },
    {
      "cell_type": "markdown",
      "metadata": {
        "id": "expected-graham"
      },
      "source": [
        "Powyższy przykład pokazuje, że twórcy NumPy starali się by praca z tą biblioteką jak najbardziej przypominała pracę z \"czystym\" Pythonem. Dotyczy to wykorzystania tego samego operatora dostępu do elementów listy, ale również tego, że ostatni element tablicy, analogicznie jak w Pythonie dla list, pobierany jest za pomocą indeksu `-1`, a dostęp do przedostatniego elementu jest realizowany indeksem `-2` itd. Próba dostępu do elementu, który nie istnieje, kończy się rzuceniem wyjątku `IndexError`.\n",
        "\n",
        "Wiemy już jak odnosić się do poszczególnych elementów tablicy jednowymiarowej, ale co z tablicami dwuwymiarowymi? Podobnie jak poprzednio, twórcy NumPy zaimplementowali podejście zgodne z rozwiązaniem dostępnym w Pythonie, czyli użycie dwóch operatorów dostępu, przyjmujących następujący format: `array[M][N]`, gdzie `M` odnosi się do indeksu wiersza, a `N` do indeksu kolumny.  Alternatywnie, możemy również użyć notacji `[M, N]`. Dla lepszego zobrazowania tego tematu podajemy kilka przykładów:"
      ]
    },
    {
      "cell_type": "code",
      "execution_count": null,
      "metadata": {
        "id": "owned-platform",
        "outputId": "c3db4d00-8eb9-42cf-c65c-85d609148500"
      },
      "outputs": [
        {
          "name": "stdout",
          "output_type": "stream",
          "text": [
            "Two-dimensional array:\n",
            "[[1 2 3 4]\n",
            " [5 6 7 8]]\n",
            "array[0][0]:   1\n",
            "array[0, 0]:   1\n",
            "array[0][3]:   4\n",
            "array[-1][-2]: 7\n"
          ]
        }
      ],
      "source": [
        "array = np.arange(1, 9).reshape(2, 4)\n",
        "print(f\"Two-dimensional array:\\n{array}\")\n",
        "print(f\"array[0][0]:   {array[0][0]}\")\n",
        "print(f\"array[0, 0]:   {array[0, 0]}\")\n",
        "print(f\"array[0][3]:   {array[0][3]}\")\n",
        "print(f\"array[-1][-2]: {array[-1][-2]}\")"
      ]
    },
    {
      "cell_type": "markdown",
      "metadata": {
        "id": "reverse-annex"
      },
      "source": [
        "Pomińmy chwilowo sposób działania funkcji `reshape`, która została użyta w przykładzie (temat ten omówimy niebawem) i ograniczmy się do stwierdzenia, że w przykładzie została utworzona tablica dwuwymiarowa składająca się z dwóch wierszy i czterech kolumn. Przykładowo, dostęp do elementu znajdującego się w pierwszym wierszu (indeks: `0`) i czwartej kolumnie (indeks: `3`) realizowany jest za pomocą `array[0][3]`. Indeksy ujemne w tablicach dwuwymiarowych działają tak samo jak w tablicach jednowymiarowych. `array[-1][-2]` odnosi się do elementu znajdującego się w ostatnim wierszu i przedostatniej kolumnie."
      ]
    },
    {
      "cell_type": "markdown",
      "metadata": {
        "id": "appropriate-switch"
      },
      "source": [
        "Omówiliśmy dostęp do poszczególnych elementów tablicy, teraz przejdziemy do omówienia sposobów zmiany wartości elementów tablicy. I w tym przypadku nie będzie zaskoczenia, gdyż zmiana poszczególnych elementów tablicy odbywa się analogicznie do zmian elementów w listach Pythonowych. Poniżej pokazujemy kilka przykładów zmiany elementów dla tablic jedno- i dwuwymiarowych."
      ]
    },
    {
      "cell_type": "code",
      "execution_count": null,
      "metadata": {
        "id": "light-therapy",
        "outputId": "491e0dba-c3e4-447a-9259-13402729b70c"
      },
      "outputs": [
        {
          "name": "stdout",
          "output_type": "stream",
          "text": [
            "1D array before modyfing: [ 1  2  3  4  5  6  7  8  9 10]\n",
            "1D array after modyfing: [101   2   3   4 105   6   7   8   9 110]\n",
            "\n",
            "2D array before modyfing:\n",
            "[[1 2 3]\n",
            " [4 5 6]\n",
            " [7 8 9]]\n",
            "2D array after modyfing:\n",
            "[[201   2   3]\n",
            " [  4 105   6]\n",
            " [  7   8 110]]\n"
          ]
        }
      ],
      "source": [
        "array1 = np.arange(1, 11)\n",
        "print(f\"1D array before modyfing: {array1}\")\n",
        "array1[0] = 101\n",
        "array1[4] = 105\n",
        "array1[-1] = 110\n",
        "print(f\"1D array after modyfing: {array1}\\n\")\n",
        "\n",
        "array2 = np.arange(1, 10).reshape((3, 3))\n",
        "print(f\"2D array before modyfing:\\n{array2}\")\n",
        "array2[0][0] = 101\n",
        "array2[0, 0] = 201\n",
        "array2[1][1] = 105\n",
        "array2[-1][-1] = 110\n",
        "print(f\"2D array after modyfing:\\n{array2}\")"
      ]
    },
    {
      "cell_type": "code",
      "execution_count": null,
      "metadata": {
        "colab": {
          "base_uri": "https://localhost:8080/"
        },
        "id": "YBitTu5Rq66z",
        "outputId": "f149c3d9-5785-4e30-9bca-ca6faa731498"
      },
      "outputs": [
        {
          "data": {
            "text/plain": [
              "array([ 0,  1,  2,  3,  4,  5,  6,  7,  8,  9, 10])"
            ]
          },
          "execution_count": 16,
          "metadata": {},
          "output_type": "execute_result"
        }
      ],
      "source": [
        "a = np.arange(0,11)\n",
        "a"
      ]
    },
    {
      "cell_type": "code",
      "execution_count": null,
      "metadata": {
        "colab": {
          "base_uri": "https://localhost:8080/"
        },
        "id": "dKpWgTUlonpE",
        "outputId": "455c6426-93bc-419c-86ab-3f2780a121da"
      },
      "outputs": [
        {
          "data": {
            "text/plain": [
              "5"
            ]
          },
          "execution_count": 5,
          "metadata": {},
          "output_type": "execute_result"
        }
      ],
      "source": [
        "a[5]"
      ]
    },
    {
      "cell_type": "code",
      "execution_count": null,
      "metadata": {
        "colab": {
          "base_uri": "https://localhost:8080/"
        },
        "id": "9YFnLcvWovsk",
        "outputId": "910897c1-4a01-46e6-972d-c3fb68fdd5db"
      },
      "outputs": [
        {
          "data": {
            "text/plain": [
              "array([1, 2, 3, 4])"
            ]
          },
          "execution_count": 6,
          "metadata": {},
          "output_type": "execute_result"
        }
      ],
      "source": [
        "a[1:5]"
      ]
    },
    {
      "cell_type": "code",
      "execution_count": null,
      "metadata": {
        "colab": {
          "base_uri": "https://localhost:8080/"
        },
        "id": "1KxAZ_3BpfAY",
        "outputId": "d7160d3c-0f53-4859-874e-07666b4358a2"
      },
      "outputs": [
        {
          "data": {
            "text/plain": [
              "array([ 5,  6,  7,  8,  9, 10])"
            ]
          },
          "execution_count": 11,
          "metadata": {},
          "output_type": "execute_result"
        }
      ],
      "source": [
        "a[5:]"
      ]
    },
    {
      "cell_type": "code",
      "execution_count": null,
      "metadata": {
        "colab": {
          "base_uri": "https://localhost:8080/"
        },
        "id": "Z9Oxuj1lpEDN",
        "outputId": "9d7a5f71-f959-44df-afc8-485dcb38cc26"
      },
      "outputs": [
        {
          "data": {
            "text/plain": [
              "array([[1, 2, 3],\n",
              "       [4, 5, 6]])"
            ]
          },
          "execution_count": 12,
          "metadata": {},
          "output_type": "execute_result"
        }
      ],
      "source": [
        "a_2d = np.array([[1, 2, 3], [4, 5, 6]])\n",
        "a_2d"
      ]
    },
    {
      "cell_type": "code",
      "execution_count": null,
      "metadata": {
        "colab": {
          "base_uri": "https://localhost:8080/"
        },
        "id": "beJftSqdpO5B",
        "outputId": "584ade55-755c-42f3-887c-2030c798520f"
      },
      "outputs": [
        {
          "data": {
            "text/plain": [
              "array([4, 5, 6])"
            ]
          },
          "execution_count": 13,
          "metadata": {},
          "output_type": "execute_result"
        }
      ],
      "source": [
        "a_2d[1]"
      ]
    },
    {
      "cell_type": "code",
      "execution_count": null,
      "metadata": {
        "colab": {
          "base_uri": "https://localhost:8080/"
        },
        "id": "SAllmiCRpsO9",
        "outputId": "3441966e-4413-48af-feb4-af395862784b"
      },
      "outputs": [
        {
          "data": {
            "text/plain": [
              "array([4, 5, 6])"
            ]
          },
          "execution_count": 12,
          "metadata": {},
          "output_type": "execute_result"
        }
      ],
      "source": [
        "a_2d[1,:]"
      ]
    },
    {
      "cell_type": "code",
      "execution_count": null,
      "metadata": {
        "colab": {
          "base_uri": "https://localhost:8080/"
        },
        "id": "LQh38R5ppVNS",
        "outputId": "be3d6d96-1f2e-4416-db9e-b2b8e5b92d55"
      },
      "outputs": [
        {
          "data": {
            "text/plain": [
              "5"
            ]
          },
          "execution_count": 9,
          "metadata": {},
          "output_type": "execute_result"
        }
      ],
      "source": [
        "a_2d[1][1]"
      ]
    },
    {
      "cell_type": "code",
      "execution_count": null,
      "metadata": {
        "colab": {
          "base_uri": "https://localhost:8080/"
        },
        "id": "viaEZgWIqmFB",
        "outputId": "6f121408-e73b-4673-cda4-e5ee10445963"
      },
      "outputs": [
        {
          "data": {
            "text/plain": [
              "array([False, False, False, False, False, False,  True,  True,  True,\n",
              "        True,  True])"
            ]
          },
          "execution_count": 13,
          "metadata": {},
          "output_type": "execute_result"
        }
      ],
      "source": [
        "a > 5"
      ]
    },
    {
      "cell_type": "code",
      "execution_count": null,
      "metadata": {
        "colab": {
          "base_uri": "https://localhost:8080/"
        },
        "id": "ykpczUubqy_S",
        "outputId": "0ceb0f6e-7c36-46ed-c2b9-07b17e2698e5"
      },
      "outputs": [
        {
          "data": {
            "text/plain": [
              "array([ 6,  7,  8,  9, 10])"
            ]
          },
          "execution_count": 17,
          "metadata": {},
          "output_type": "execute_result"
        }
      ],
      "source": [
        "a[a > 5]"
      ]
    },
    {
      "cell_type": "code",
      "execution_count": null,
      "metadata": {
        "colab": {
          "base_uri": "https://localhost:8080/"
        },
        "id": "W8uSKKpQvHzO",
        "outputId": "7b57f37f-b13a-44e5-cd9c-56ff86d742ac"
      },
      "outputs": [
        {
          "data": {
            "text/plain": [
              "array([ 0,  1,  2,  3,  4,  6,  7,  8,  9, 10])"
            ]
          },
          "execution_count": 18,
          "metadata": {},
          "output_type": "execute_result"
        }
      ],
      "source": [
        "a[a != 5]"
      ]
    },
    {
      "cell_type": "markdown",
      "metadata": {
        "id": "political-locking"
      },
      "source": [
        "### Podtablice i zmiana wymiarów tablic\n",
        "\n",
        "Podobnie jak w Pythonie, również w NumPy mamy możliwość odnoszenia się do wybranego fragmentu tablicy. W języku angielskim fragment tablicy określany jest mianem `array slice`. W języku polskim będziemy używali określenia podtablica. Podstawowa składnia do pobierania podtablic prezentuje się następująco: `array[start:end:step]`. `start` określa indeks początkowy, gdzie ma zaczynać się podtablica, `end` określa indeks końcowy, przed którym ma kończyć się podtablica, a `step` określa krok, co który zostanie pobrana wartość z tablicy. Możemy pominąć `step` (wraz z poprzedzającym go dwukropkiem) i wtedy przyjmuje on domyślnie wartość `1`, czyli pobieramy elementy jeden po drugim (co jeden). Możemy również pominąć `start` (zostawiając dwukropek za nim), co oznacza, że chcemy pobrać wartości od początku tablicy (czyli `array[:5]` jest równoznaczne z `array[0:5]`). Jeżeli z kolei pominiemy `end`, to pobierzemy wszystkie elementy do końca tablicy.\n",
        "\n",
        "Poniżej prezentujemy kilka przykładów dla tablic jednowymiarowych:"
      ]
    },
    {
      "cell_type": "code",
      "execution_count": null,
      "metadata": {
        "id": "hazardous-massachusetts",
        "outputId": "cb9e7737-01ee-4734-fd6c-0eae34301f78"
      },
      "outputs": [
        {
          "name": "stdout",
          "output_type": "stream",
          "text": [
            "Input table:   [ 1  2  3  4  5  6  7  8  9 10]\n",
            "array[3:5]:    [4 5]\n",
            "array[0:5]:    [1 2 3 4 5]\n",
            "array[:5]:     [1 2 3 4 5]\n",
            "array[3:]:     [ 4  5  6  7  8  9 10]\n",
            "array[0:10:5]: [1 6]\n",
            "array[3:8:2]:  [4 6 8]\n",
            "array[::]:     [ 1  2  3  4  5  6  7  8  9 10]\n",
            "array[::-1]:   [10  9  8  7  6  5  4  3  2  1]\n"
          ]
        }
      ],
      "source": [
        "array = np.arange(1, 11)\n",
        "print(f\"Input table:   {array}\")\n",
        "print(f\"array[3:5]:    {array[3:5]}\")\n",
        "print(f\"array[0:5]:    {array[0:5]}\")\n",
        "\n",
        "print(f\"array[:5]:     {array[:5]}\")\n",
        "print(f\"array[3:]:     {array[3:]}\")\n",
        "\n",
        "print(f\"array[0:10:5]: {array[0:10:5]}\")\n",
        "print(f\"array[3:8:2]:  {array[3:8:2]}\")\n",
        "\n",
        "print(f\"array[::]:     {array[::]}\")\n",
        "print(f\"array[::-1]:   {array[::-1]}\")"
      ]
    },
    {
      "cell_type": "markdown",
      "metadata": {
        "id": "desirable-textbook"
      },
      "source": [
        "Dodajmy kilka wyjaśnień do powyższych przykładów. Kod `array[::]`, podobnie jak jego odpowiednik w Pythonie, zwraca całą wejściową tablicę. Inaczej jednak niż w Pythonie, nie zwraca *kopii* tej tablicy, ale wyłącznie tworzy dla niej widok. Podkreślamy to jeszcze raz: mechanizm podtablic nie tworzy nowej tablicy, ani też nie kopiuje jej zawartości w inne miejsce w pamięci. Podtablice zwracają widok tablic, na podstawie których są tworzone. W związku z tym modyfikacja elementu podtablicy modyfikuje również tablicę wejściową. Oto przykłady prezentujący modyfikowanie podtablic:"
      ]
    },
    {
      "cell_type": "code",
      "execution_count": null,
      "metadata": {
        "id": "liberal-gather",
        "outputId": "8f34b5e2-72f9-4f7f-ac22-8aa03ca9f669"
      },
      "outputs": [
        {
          "name": "stdout",
          "output_type": "stream",
          "text": [
            "Input array:         [1 2 3 4 5]\n",
            "View array:          [1 2 3 4 5]\n",
            "Changed view array:  [101   2   3   4   5]\n",
            "Input array:         [101   2   3   4   5]\n"
          ]
        }
      ],
      "source": [
        "array = np.arange(1, 6)\n",
        "print(f\"Input array:         {array}\")\n",
        "view = array[::]\n",
        "print(f\"View array:          {view}\")\n",
        "view[0] = 101\n",
        "print(f\"Changed view array:  {view}\")\n",
        "print(f\"Input array:         {array}\")"
      ]
    },
    {
      "cell_type": "markdown",
      "metadata": {
        "id": "otherwise-membership"
      },
      "source": [
        "Podtablice wielowymiarowe tworzy się przez wskazanie podtablicy dla każdego z wymiarów w taki sam sposób, jak robiliśmy to dla tablic jednowymiarowych. Poniżej prezentujemy przykłady tworzenia podtablic dla tablicy dwuwymiarowej 3 na 4."
      ]
    },
    {
      "cell_type": "code",
      "execution_count": null,
      "metadata": {
        "id": "unlike-bikini",
        "outputId": "a497074a-c7a2-4fe8-a5ca-ae00452a8a52"
      },
      "outputs": [
        {
          "name": "stdout",
          "output_type": "stream",
          "text": [
            "Input 2D array:\n",
            "[[ 1  2  3  4]\n",
            " [ 5  6  7  8]\n",
            " [ 9 10 11 12]]\n",
            "array2d[1:2, 0:3]:\n",
            "[[ 5  6]\n",
            " [ 9 10]]\n",
            "array2d[:, 2:]:\n",
            "[[ 3  4]\n",
            " [ 7  8]\n",
            " [11 12]]\n",
            "array2d[:, :]: \n",
            "[[ 1  2  3  4]\n",
            " [ 5  6  7  8]\n",
            " [ 9 10 11 12]]\n",
            "array2d[::-1, ::-1]: \n",
            "[[12 11 10  9]\n",
            " [ 8  7  6  5]\n",
            " [ 4  3  2  1]]\n",
            "array2d[1, :]:\n",
            "[5 6 7 8]\n",
            "array2d[:, 2]:\n",
            "[ 3  7 11]\n"
          ]
        }
      ],
      "source": [
        "array2d = np.arange(1, 13).reshape(3, 4)\n",
        "print(f\"Input 2D array:\\n{array2d}\")\n",
        "print(f\"array2d[1:2, 0:3]:\\n{array2d[1:3, 0:2]}\")\n",
        "print(f\"array2d[:, 2:]:\\n{array2d[:, 2:]}\")\n",
        "print(f\"array2d[:, :]: \\n{array2d[:, :]}\")\n",
        "print(f\"array2d[::-1, ::-1]: \\n{array2d[::-1, ::-1]}\")\n",
        "print(f\"array2d[1, :]:\\n{array2d[1, :]}\")\n",
        "print(f\"array2d[:, 2]:\\n{array2d[:, 2]}\")"
      ]
    },
    {
      "cell_type": "markdown",
      "metadata": {
        "id": "public-bubble"
      },
      "source": [
        "Ostatnie dwa przykłady prezentują dostęp do pojedynczego wiersza i pojedynczej kolumny, co często okazuje się przydatne. \n",
        "\n",
        "Wyżej wspomnieliśmy, że podtablice nie tworzą nowych kopii tablic, na podstawie których są tworzone. Co jednak w sytuacji, gdy chcemy zmodyfikować podtablicę, ale bez modyfikacji tablicy źródłowej? W tym celu należy użyć funkcji `copy()`, która utworzy nową tablicę na podstawie widoku. Poniżej prezentujemy przykład"
      ]
    },
    {
      "cell_type": "code",
      "execution_count": null,
      "metadata": {
        "id": "protected-experiment",
        "outputId": "3abc604f-5e78-4f4a-f56f-c423c1a478d1"
      },
      "outputs": [
        {
          "name": "stdout",
          "output_type": "stream",
          "text": [
            "Input array:  [ 1  2  3  4  5  6  7  8  9 10]\n",
            "View array:   [3 4 5 6 7]\n",
            "Copied array: [3 4 5 6 7]\n",
            "Copied array after change:  [303   4   5   6   7]\n",
            "Input array still intact:   [ 1  2  3  4  5  6  7  8  9 10]\n",
            "View array still intact:    [3 4 5 6 7]\n"
          ]
        }
      ],
      "source": [
        "array1 = np.arange(1, 11)\n",
        "print(f\"Input array:  {array1}\")\n",
        "\n",
        "view = array1[2:7]\n",
        "print(f\"View array:   {view}\")\n",
        "\n",
        "copied = view.copy()\n",
        "print(f\"Copied array: {copied}\")\n",
        "\n",
        "copied[0] = 303\n",
        "\n",
        "print(f\"Copied array after change:  {copied}\")\n",
        "print(f\"Input array still intact:   {array1}\")\n",
        "print(f\"View array still intact:    {view}\")"
      ]
    },
    {
      "cell_type": "markdown",
      "metadata": {
        "id": "sweet-guest"
      },
      "source": [
        "### Zmiana wymiarów tablicy\n",
        "\n",
        "W niektórych z powyższych przykładów używaliśmy funkcji `reshape`, której zadaniem jest zmiana wymiarów tablicy zgodnie z podanymi na wejściu wymiarami. Podane wymiary muszą się zgadzać z rozmiarem tablicy. Przykładowo jeżeli docelowe wymiary tablicy to 3 na 3, rozmiar tablicy wejściowej musi się równać 9. Poniżej pokazujemy przykłady użycia funkcji `reshape`:"
      ]
    },
    {
      "cell_type": "code",
      "execution_count": null,
      "metadata": {
        "id": "north-traveler",
        "outputId": "03a273c7-07f2-4f8e-e6c6-788b10a733c8"
      },
      "outputs": [
        {
          "name": "stdout",
          "output_type": "stream",
          "text": [
            "One-dimensional array: [1 2 3 4 5 6 7 8 9]\n",
            "Two-dimensional array (3x3):\n",
            "[[1 2 3]\n",
            " [4 5 6]\n",
            " [7 8 9]]\n",
            "Two-dimensional array (1x9):\n",
            "[[1 2 3 4 5 6 7 8 9]]\n"
          ]
        }
      ],
      "source": [
        "array = np.arange(1, 10)\n",
        "print(f\"One-dimensional array: {array}\")\n",
        "array2 = array.reshape((3, 3))\n",
        "print(f\"Two-dimensional array (3x3):\\n{array2}\")\n",
        "array3 = array2.reshape((1, 9))\n",
        "print(f\"Two-dimensional array (1x9):\\n{array3}\")"
      ]
    },
    {
      "cell_type": "markdown",
      "metadata": {
        "id": "capital-result"
      },
      "source": [
        "Istnieje również możliwość dodania nowego wymiaru z wykorzystaniem `np.newaxis` oraz opisanej wyżej notacji dla podtablic. Poniżej zamieszczamy przykłady:"
      ]
    },
    {
      "cell_type": "code",
      "execution_count": null,
      "metadata": {
        "id": "excessive-conversion",
        "outputId": "82b486c1-32cd-4868-83c8-a944cea512b0"
      },
      "outputs": [
        {
          "name": "stdout",
          "output_type": "stream",
          "text": [
            "Two-dimensional array (1x9):\n",
            "[[1 2 3 4 5 6 7 8 9]]\n",
            "Two-dimensional array (9x1):\n",
            "[[1]\n",
            " [2]\n",
            " [3]\n",
            " [4]\n",
            " [5]\n",
            " [6]\n",
            " [7]\n",
            " [8]\n",
            " [9]]\n"
          ]
        }
      ],
      "source": [
        "array = np.arange(1, 10)\n",
        "array2 = array[np.newaxis, :]\n",
        "print(f\"Two-dimensional array (1x9):\\n{array2}\")\n",
        "array3 = array[:, np.newaxis]\n",
        "print(f\"Two-dimensional array (9x1):\\n{array3}\")"
      ]
    },
    {
      "cell_type": "markdown",
      "metadata": {
        "id": "wicked-headquarters"
      },
      "source": [
        "### Konkatenacja tablic i ich dzielenie\n",
        "\n",
        "Powyżej opisaliśmy już prawie wszystkie podstawowe operacje na tablicach w NumPy. Pozostały nam do opisania sposoby łączenia i dzielenia tablic. Zacznijmy od operacji łączenia kilku tablic w jedną, którą nazywa się alternatywnie konkatenacją. \n",
        "\n",
        "W celu połączenia dwóch lub więcej tablic w jedną używamy funkcji `np.concatenate`. Dla tablic jednowymiarowych użycie tej funkcji jest bardzo proste:"
      ]
    },
    {
      "cell_type": "code",
      "execution_count": null,
      "metadata": {
        "id": "acceptable-brass",
        "outputId": "8ac88b04-195d-4597-9030-97012aec53f2"
      },
      "outputs": [
        {
          "name": "stdout",
          "output_type": "stream",
          "text": [
            "Input arrays: [1 2 3], [4 5 6], [7 8 9]\n",
            "Final array:  [1 2 3 4 5 6 7 8 9]\n"
          ]
        }
      ],
      "source": [
        "array1 = np.array([1, 2, 3])\n",
        "array2 = np.array([4, 5, 6])\n",
        "array3 = np.array([7, 8, 9])\n",
        "final_array = np.concatenate([array1, array2, array3])\n",
        "print(f\"Input arrays: {array1}, {array2}, {array3}\")\n",
        "print(f\"Final array:  {final_array}\")"
      ]
    },
    {
      "cell_type": "markdown",
      "metadata": {
        "id": "lightweight-scanning"
      },
      "source": [
        "W przypadku tablic dwuwymiarowych konkatenacja jest możliwa o tyle, o ile zgadza się liczba elementów wzdłuż osi tablicy względem której mają być ze sobą łączone. Łatwiej będzie to nam pokazać na przykładzie:"
      ]
    },
    {
      "cell_type": "code",
      "execution_count": null,
      "metadata": {
        "id": "specific-collective",
        "outputId": "bb14f03b-f42b-4485-8ce6-0794f83dafd2"
      },
      "outputs": [
        {
          "name": "stdout",
          "output_type": "stream",
          "text": [
            "Final array:\n",
            "[[1 2 3]\n",
            " [4 5 6]\n",
            " [7 8 9]]\n"
          ]
        }
      ],
      "source": [
        "array1 = np.array([[1, 2, 3]])\n",
        "array2 = np.array(\n",
        "    [[4, 5, 6],\n",
        "     [7, 8, 9]]\n",
        ")\n",
        "final_array = np.concatenate([array1, array2], axis=0)\n",
        "print(f\"Final array:\\n{final_array}\")\n",
        "# final_array = np.concatenate([array1, array2], axis=1)"
      ]
    },
    {
      "cell_type": "markdown",
      "metadata": {
        "id": "streaming-bangladesh"
      },
      "source": [
        "Jak widać na powyższym przykładzie, gdy jako oś wzdłuż której ma dokonać się połączenie tablic wskażemy `0`, tablice zostaną połączone. Jednak jeżeli byśmy użyli indeksu `1` (jak w wykomentowanym przykładzie), zostanie zwrócony błąd. Innym sposobem na określenie osi wzdłuż której mają zostać połączone tablice jest użycie funkcji `np.vstack` oraz `np.hstack`, zaprezentowane poniżej."
      ]
    },
    {
      "cell_type": "code",
      "execution_count": null,
      "metadata": {
        "id": "ceramic-malawi",
        "outputId": "a8b5958e-aa39-4166-bdf9-6e3197da60b2"
      },
      "outputs": [
        {
          "name": "stdout",
          "output_type": "stream",
          "text": [
            "Vstacked array:\n",
            "[[1 2 3]\n",
            " [4 5 6]\n",
            " [7 8 9]]\n",
            "Hstacked array:\n",
            "[[1 2 3]\n",
            " [4 5 6]\n",
            " [7 8 9]]\n"
          ]
        }
      ],
      "source": [
        "array1 = np.array([1, 2, 3])\n",
        "array2 = np.array([\n",
        "    [4, 5, 6],\n",
        "    [7, 8, 9]\n",
        "])\n",
        "vstacked_array = np.vstack([array1, array2])\n",
        "print(f\"Vstacked array:\\n{vstacked_array}\")\n",
        "\n",
        "array1 = np.array([\n",
        "    [1, 2],\n",
        "    [4, 5],\n",
        "    [7, 8]\n",
        "])\n",
        "array2 = np.array([\n",
        "    [3],\n",
        "    [6],\n",
        "    [9]\n",
        "])\n",
        "hstacked_array = np.hstack([array1, array2])\n",
        "print(f\"Hstacked array:\\n{hstacked_array}\")"
      ]
    },
    {
      "cell_type": "markdown",
      "metadata": {
        "id": "SwsUm39mtZTF"
      },
      "source": [
        "## Operacje matematyczne"
      ]
    },
    {
      "cell_type": "markdown",
      "metadata": {
        "id": "living-cradle"
      },
      "source": [
        "## Podstawowe operacje arytmetyczne\n",
        "\n",
        "Omówiliśmy już podstawowe operacje z użyciem tablic w NumPy. Pora przejść do operacji arytmetycznych, gdzie biblioteka NumPy jest szczególnie przydatna. Zaczniemy od omówienia podstawowych operacji arytmetycznych, które zebraliśmy w poniższej tabeli. "
      ]
    },
    {
      "cell_type": "markdown",
      "metadata": {
        "id": "civic-sweet"
      },
      "source": [
        "| Operator | Funkcja w NumPy | Opis | Przykład użycia |\n",
        "| --- | --- | --- | --- |\n",
        "| `+`   | `np.add`          | Dodaje liczbę do elementów tablicy   | `array + 10` |\n",
        "| `-`   | `np.subtract`     | Odejmuje liczbę od elementów tablicy | `array - 10` |\n",
        "| `-`   | `np.negative`     | Zmienia znak elementów tablicy       | `-array`     |\n",
        "| `*`   | `np.multiply`     | Mnoży elementy tablicy przez liczbę  | `array * 10` |\n",
        "| `/`   | `np.divide`       | Dzieli elementy tablicy przez liczbę | `array / 10` |\n",
        "| `//`  | `np.floor_divide` | Dzieli bez reszty elementy tablicy przez liczbę | `array // 10` |\n",
        "| `**`  | `np.power`        | Potęguje elementy tablicy wskazaną liczbę razy  | `array ** 10` |\n",
        "| `%`   | `np.mod`          | Zwraca resztę z dzielenia elementów tablicy przez liczbę | `array % 10` |"
      ]
    },
    {
      "cell_type": "markdown",
      "metadata": {
        "id": "neither-nothing"
      },
      "source": [
        "Nie ma tutaj żadnych zaskoczeń, działanie wszystkich operatorów jest spójne z ich odpowiednikami w Pythonie. Poniżej prezentujemy wyniki działania wszystkich przedstawionych operacji arytmetycznych."
      ]
    },
    {
      "cell_type": "code",
      "execution_count": null,
      "metadata": {
        "id": "heavy-retail",
        "outputId": "ef167d88-56df-4882-e56c-cc8c533d64b1"
      },
      "outputs": [
        {
          "name": "stdout",
          "output_type": "stream",
          "text": [
            "Input array:       [ 1  2  3  4  5  6  7  8  9 10]\n",
            "Input array + 10:  [11 12 13 14 15 16 17 18 19 20]\n",
            "Input array - 10:  [-9 -8 -7 -6 -5 -4 -3 -2 -1  0]\n",
            "Input -array:      [ -1  -2  -3  -4  -5  -6  -7  -8  -9 -10]\n",
            "Input array * 10:  [ 10  20  30  40  50  60  70  80  90 100]\n",
            "Input array / 10:  [0.1 0.2 0.3 0.4 0.5 0.6 0.7 0.8 0.9 1. ]\n",
            "Input array // 10: [0 0 0 0 0 0 0 0 0 1]\n",
            "Input array ** 3:  [   1    8   27   64  125  216  343  512  729 1000]\n",
            "Input array % 5:   [1 2 3 4 0 1 2 3 4 0]\n"
          ]
        }
      ],
      "source": [
        "array = np.arange(1, 11)\n",
        "print(f\"Input array:       {array}\")\n",
        "print(f\"Input array + 10:  {array + 10}\")\n",
        "print(f\"Input array - 10:  {array - 10}\")\n",
        "print(f\"Input -array:      {-array}\")\n",
        "print(f\"Input array * 10:  {array * 10}\")\n",
        "print(f\"Input array / 10:  {array / 10}\")\n",
        "print(f\"Input array // 10: {array // 10}\")\n",
        "print(f\"Input array ** 3:  {array ** 3}\")\n",
        "print(f\"Input array % 5:   {array % 5}\")"
      ]
    },
    {
      "cell_type": "markdown",
      "metadata": {
        "id": "ceramic-worthy"
      },
      "source": [
        "Zwróćmy uwagę, że operatory arytmetyczne nie modyfikują tablicy wejściowej, lecz tworzą jej kopie. Dlatego w powyższym przykładzie możemy używać tej samej tablicy dla każdego z operatorów.\n",
        "\n",
        "Oprócz powyżej opisanych operacji arytmetycznych NumPy udostępnia jeszcze wiele innych operacji liczbowych na tablicach. Wśród nich można wymienić między innymi działania trygonometryczne, operacje potęgowania i pierwiastkowania, logarytmy, czy wartość bezwględna. Zainteresowanych czytelników odsyłamy do [dokumentacji](TODO)."
      ]
    },
    {
      "cell_type": "code",
      "execution_count": null,
      "metadata": {
        "colab": {
          "base_uri": "https://localhost:8080/"
        },
        "id": "cWW6i3ZSjniX",
        "outputId": "14aef96b-5bef-4679-fd7a-40d5d1358fa9"
      },
      "outputs": [
        {
          "data": {
            "text/plain": [
              "array([[1, 2, 3],\n",
              "       [4, 5, 6]])"
            ]
          },
          "execution_count": 66,
          "metadata": {},
          "output_type": "execute_result"
        }
      ],
      "source": [
        "a = np.arange(1,4)\n",
        "a_2d = np.array([[1, 2, 3], [4, 5, 6]])\n",
        "a_2d"
      ]
    },
    {
      "cell_type": "code",
      "execution_count": null,
      "metadata": {
        "colab": {
          "base_uri": "https://localhost:8080/"
        },
        "id": "RavupVqktrpU",
        "outputId": "3b71c1ee-a06a-4654-ddc8-21855e7b535c"
      },
      "outputs": [
        {
          "data": {
            "text/plain": [
              "array([1, 4])"
            ]
          },
          "execution_count": 64,
          "metadata": {},
          "output_type": "execute_result"
        }
      ],
      "source": [
        "a * a"
      ]
    },
    {
      "cell_type": "code",
      "execution_count": null,
      "metadata": {
        "colab": {
          "base_uri": "https://localhost:8080/"
        },
        "id": "ggzAQkTtjszX",
        "outputId": "e18598cf-37bc-42de-8206-69cb99c184c7"
      },
      "outputs": [
        {
          "data": {
            "text/plain": [
              "array([[ 1,  4,  9],\n",
              "       [16, 25, 36]])"
            ]
          },
          "execution_count": 56,
          "metadata": {},
          "output_type": "execute_result"
        }
      ],
      "source": [
        "a_2d * a_2d"
      ]
    },
    {
      "cell_type": "code",
      "execution_count": null,
      "metadata": {
        "colab": {
          "base_uri": "https://localhost:8080/"
        },
        "id": "7Tj3AFNukBd1",
        "outputId": "bce685e4-444b-47ad-c415-c2d8a8b75a1d"
      },
      "outputs": [
        {
          "data": {
            "text/plain": [
              "array([[ 1,  4,  9],\n",
              "       [ 4, 10, 18]])"
            ]
          },
          "execution_count": 67,
          "metadata": {},
          "output_type": "execute_result"
        }
      ],
      "source": [
        "a_2d * a"
      ]
    },
    {
      "cell_type": "code",
      "execution_count": null,
      "metadata": {
        "colab": {
          "base_uri": "https://localhost:8080/"
        },
        "id": "uP7f4hxXt2-W",
        "outputId": "c95a58ae-c7bf-440a-8018-d4463e085066"
      },
      "outputs": [
        {
          "data": {
            "text/plain": [
              "array([ 0,  2,  4,  6,  8, 10, 12, 14, 16, 18, 20])"
            ]
          },
          "execution_count": 18,
          "metadata": {},
          "output_type": "execute_result"
        }
      ],
      "source": [
        "a + a"
      ]
    },
    {
      "cell_type": "code",
      "execution_count": null,
      "metadata": {
        "colab": {
          "base_uri": "https://localhost:8080/"
        },
        "id": "oUOfNfwxt4NL",
        "outputId": "eb1e59bd-4eb2-41fc-f6c1-551fc7c44414"
      },
      "outputs": [
        {
          "data": {
            "text/plain": [
              "array([0, 0, 0, 0, 0, 0, 0, 0, 0, 0, 0])"
            ]
          },
          "execution_count": 19,
          "metadata": {},
          "output_type": "execute_result"
        }
      ],
      "source": [
        "a - a"
      ]
    },
    {
      "cell_type": "code",
      "execution_count": null,
      "metadata": {
        "colab": {
          "base_uri": "https://localhost:8080/"
        },
        "id": "k1_kmItUt7so",
        "outputId": "f6500f6c-2a3f-41e8-ef1f-a77c97062a26"
      },
      "outputs": [
        {
          "data": {
            "text/plain": [
              "array([1., 1., 1.])"
            ]
          },
          "execution_count": 68,
          "metadata": {},
          "output_type": "execute_result"
        }
      ],
      "source": [
        "a / a"
      ]
    },
    {
      "cell_type": "code",
      "execution_count": null,
      "metadata": {
        "colab": {
          "base_uri": "https://localhost:8080/"
        },
        "id": "OVVEuXh9uD5u",
        "outputId": "220a08dd-8476-49bd-c9be-d4f6613048a5"
      },
      "outputs": [
        {
          "name": "stderr",
          "output_type": "stream",
          "text": [
            "/usr/local/lib/python3.7/dist-packages/ipykernel_launcher.py:1: RuntimeWarning: divide by zero encountered in true_divide\n",
            "  \"\"\"Entry point for launching an IPython kernel.\n"
          ]
        },
        {
          "data": {
            "text/plain": [
              "array([       inf, 1.        , 0.5       , 0.33333333, 0.25      ,\n",
              "       0.2       , 0.16666667, 0.14285714, 0.125     , 0.11111111,\n",
              "       0.1       ])"
            ]
          },
          "execution_count": 22,
          "metadata": {},
          "output_type": "execute_result"
        }
      ],
      "source": [
        "1 / a"
      ]
    },
    {
      "cell_type": "code",
      "execution_count": null,
      "metadata": {
        "colab": {
          "base_uri": "https://localhost:8080/"
        },
        "id": "-uKtnpDIuJ5x",
        "outputId": "059299ab-6951-4caa-c0d1-b3e34c7336fa"
      },
      "outputs": [
        {
          "data": {
            "text/plain": [
              "array([2, 4, 6])"
            ]
          },
          "execution_count": 69,
          "metadata": {},
          "output_type": "execute_result"
        }
      ],
      "source": [
        "a*2"
      ]
    },
    {
      "cell_type": "code",
      "execution_count": null,
      "metadata": {
        "colab": {
          "base_uri": "https://localhost:8080/"
        },
        "id": "D3pjUtzNuYx7",
        "outputId": "b1b19e89-3c77-4f9d-c357-35e334f9a9c3"
      },
      "outputs": [
        {
          "data": {
            "text/plain": [
              "array([1, 4, 9])"
            ]
          },
          "execution_count": 70,
          "metadata": {},
          "output_type": "execute_result"
        }
      ],
      "source": [
        "a**2"
      ]
    },
    {
      "cell_type": "code",
      "execution_count": null,
      "metadata": {
        "colab": {
          "base_uri": "https://localhost:8080/"
        },
        "id": "0jWTjRSQu1uw",
        "outputId": "a435a375-9417-4468-b2da-c3fdad54580f"
      },
      "outputs": [
        {
          "data": {
            "text/plain": [
              "array([1.00000000e+00, 2.71828183e+00, 7.38905610e+00, 2.00855369e+01,\n",
              "       5.45981500e+01, 1.48413159e+02, 4.03428793e+02, 1.09663316e+03,\n",
              "       2.98095799e+03, 8.10308393e+03, 2.20264658e+04])"
            ]
          },
          "execution_count": 28,
          "metadata": {},
          "output_type": "execute_result"
        }
      ],
      "source": [
        "np.exp(a)"
      ]
    },
    {
      "cell_type": "code",
      "execution_count": null,
      "metadata": {
        "colab": {
          "base_uri": "https://localhost:8080/"
        },
        "id": "aDELLflluvBJ",
        "outputId": "86ad6b3f-7282-4e8e-af96-9aca3b5f793f"
      },
      "outputs": [
        {
          "data": {
            "text/plain": [
              "array([1.        , 1.41421356, 1.73205081])"
            ]
          },
          "execution_count": 71,
          "metadata": {},
          "output_type": "execute_result"
        }
      ],
      "source": [
        "np.sqrt(a)"
      ]
    },
    {
      "cell_type": "code",
      "execution_count": null,
      "metadata": {
        "colab": {
          "base_uri": "https://localhost:8080/"
        },
        "id": "6BblprHhvBiU",
        "outputId": "45c6f731-6f2c-4f0d-c910-a52844e0fb4c"
      },
      "outputs": [
        {
          "data": {
            "text/plain": [
              "array([ 0.        ,  0.84147098,  0.90929743,  0.14112001, -0.7568025 ,\n",
              "       -0.95892427, -0.2794155 ,  0.6569866 ,  0.98935825,  0.41211849,\n",
              "       -0.54402111])"
            ]
          },
          "execution_count": 29,
          "metadata": {},
          "output_type": "execute_result"
        }
      ],
      "source": [
        "np.sin(a)"
      ]
    },
    {
      "cell_type": "code",
      "execution_count": null,
      "metadata": {
        "colab": {
          "base_uri": "https://localhost:8080/"
        },
        "id": "SCEnaoujvD_1",
        "outputId": "51d11914-7b6f-4bb7-bf7c-2f4435e2719f"
      },
      "outputs": [
        {
          "data": {
            "text/plain": [
              "array([ 1.        ,  0.54030231, -0.41614684, -0.9899925 , -0.65364362,\n",
              "        0.28366219,  0.96017029,  0.75390225, -0.14550003, -0.91113026,\n",
              "       -0.83907153])"
            ]
          },
          "execution_count": 30,
          "metadata": {},
          "output_type": "execute_result"
        }
      ],
      "source": [
        "np.cos(a)"
      ]
    },
    {
      "cell_type": "code",
      "execution_count": null,
      "metadata": {
        "colab": {
          "base_uri": "https://localhost:8080/"
        },
        "id": "-v9b8xXWvQpN",
        "outputId": "447ee121-f70f-4a78-d7a3-74553de33b2a"
      },
      "outputs": [
        {
          "name": "stderr",
          "output_type": "stream",
          "text": [
            "/usr/local/lib/python3.7/dist-packages/ipykernel_launcher.py:1: RuntimeWarning: divide by zero encountered in log\n",
            "  \"\"\"Entry point for launching an IPython kernel.\n"
          ]
        },
        {
          "data": {
            "text/plain": [
              "array([      -inf, 0.        , 0.69314718, 1.09861229, 1.38629436,\n",
              "       1.60943791, 1.79175947, 1.94591015, 2.07944154, 2.19722458,\n",
              "       2.30258509])"
            ]
          },
          "execution_count": 31,
          "metadata": {},
          "output_type": "execute_result"
        }
      ],
      "source": [
        "np.log(a)"
      ]
    },
    {
      "cell_type": "code",
      "execution_count": null,
      "metadata": {
        "colab": {
          "base_uri": "https://localhost:8080/"
        },
        "id": "vV6QSgyNtrF9",
        "outputId": "7ce4b4c4-efd5-4528-f88e-9ad7b01cbde9"
      },
      "outputs": [
        {
          "data": {
            "text/plain": [
              "0.816496580927726"
            ]
          },
          "execution_count": 85,
          "metadata": {},
          "output_type": "execute_result"
        }
      ],
      "source": [
        "a_2d.max()\n",
        "a_2d.argmax()\n",
        "# a.min()\n",
        "# a.argmin()\n",
        "a_2d.sum()\n",
        "a.mean()\n",
        "a.var() # variance\n",
        "a.std() # standard deviation"
      ]
    },
    {
      "cell_type": "code",
      "execution_count": null,
      "metadata": {
        "colab": {
          "base_uri": "https://localhost:8080/"
        },
        "id": "DtiMaHKq2qwd",
        "outputId": "c14cd6f8-4929-4b10-bfd5-46b555fbdea8"
      },
      "outputs": [
        {
          "data": {
            "text/plain": [
              "array([[1, 2, 3],\n",
              "       [4, 5, 6]])"
            ]
          },
          "execution_count": 29,
          "metadata": {},
          "output_type": "execute_result"
        }
      ],
      "source": [
        "a_2d = np.array([[1, 2, 3], [4, 5, 6]])\n",
        "a_2d"
      ]
    },
    {
      "cell_type": "code",
      "execution_count": null,
      "metadata": {
        "colab": {
          "base_uri": "https://localhost:8080/"
        },
        "id": "6ZfofCg9wCzq",
        "outputId": "c17ea0d1-3b14-446a-a7be-e4b2f2dfcc8b"
      },
      "outputs": [
        {
          "data": {
            "text/plain": [
              "21"
            ]
          },
          "execution_count": 26,
          "metadata": {},
          "output_type": "execute_result"
        }
      ],
      "source": [
        "a_2d.sum()"
      ]
    },
    {
      "cell_type": "code",
      "execution_count": null,
      "metadata": {
        "colab": {
          "base_uri": "https://localhost:8080/"
        },
        "id": "xjjF4-cywTlX",
        "outputId": "db00121d-fafb-4564-96af-e4cc8f31a492"
      },
      "outputs": [
        {
          "data": {
            "text/plain": [
              "array([5, 7, 9])"
            ]
          },
          "execution_count": 80,
          "metadata": {},
          "output_type": "execute_result"
        }
      ],
      "source": [
        "a_2d.sum(axis=0)"
      ]
    },
    {
      "cell_type": "code",
      "execution_count": null,
      "metadata": {
        "colab": {
          "base_uri": "https://localhost:8080/"
        },
        "id": "C1wyq0pmwXsZ",
        "outputId": "13811345-6518-426e-dbb1-d352ec72724e"
      },
      "outputs": [
        {
          "data": {
            "text/plain": [
              "array([ 6, 15])"
            ]
          },
          "execution_count": 81,
          "metadata": {},
          "output_type": "execute_result"
        }
      ],
      "source": [
        "a_2d.sum(axis=1)"
      ]
    },
    {
      "cell_type": "markdown",
      "metadata": {
        "id": "dXgAuosRsgpV"
      },
      "source": [
        "### ..."
      ]
    },
    {
      "cell_type": "code",
      "execution_count": null,
      "metadata": {
        "colab": {
          "base_uri": "https://localhost:8080/"
        },
        "id": "IxjO1YcRsenN",
        "outputId": "27247398-9651-438e-f9f0-2be6118144a0"
      },
      "outputs": [
        {
          "data": {
            "text/plain": [
              "[1, 2, 3]"
            ]
          },
          "execution_count": 86,
          "metadata": {},
          "output_type": "execute_result"
        }
      ],
      "source": [
        "a.tolist()"
      ]
    },
    {
      "cell_type": "code",
      "execution_count": null,
      "metadata": {
        "colab": {
          "base_uri": "https://localhost:8080/"
        },
        "id": "7Monu2-Ys0g5",
        "outputId": "6d8f35a7-81e0-46c3-a5c4-fe53a61e1915"
      },
      "outputs": [
        {
          "data": {
            "text/plain": [
              "array([1, 2, 3, 4, 5, 6])"
            ]
          },
          "execution_count": 89,
          "metadata": {},
          "output_type": "execute_result"
        }
      ],
      "source": [
        "a_2d.flatten()"
      ]
    },
    {
      "cell_type": "code",
      "execution_count": null,
      "metadata": {
        "colab": {
          "base_uri": "https://localhost:8080/"
        },
        "id": "jxpFxuUatviH",
        "outputId": "79af5587-07a5-441a-ffc1-66c8a7665a06"
      },
      "outputs": [
        {
          "data": {
            "text/plain": [
              "array([1, 4, 2, 5, 3, 6])"
            ]
          },
          "execution_count": 90,
          "metadata": {},
          "output_type": "execute_result"
        }
      ],
      "source": [
        "a_2d.flatten(order='F')"
      ]
    },
    {
      "cell_type": "code",
      "execution_count": null,
      "metadata": {
        "colab": {
          "base_uri": "https://localhost:8080/"
        },
        "id": "OjtQLKuiuqLr",
        "outputId": "f61557c6-d28a-4b70-b53b-b2251bba5bf1"
      },
      "outputs": [
        {
          "data": {
            "text/plain": [
              "array([[1],\n",
              "       [2],\n",
              "       [3]])"
            ]
          },
          "execution_count": 99,
          "metadata": {},
          "output_type": "execute_result"
        }
      ],
      "source": [
        "b = np.array([[1], [2], [3]])\n",
        "b"
      ]
    },
    {
      "cell_type": "code",
      "execution_count": null,
      "metadata": {
        "colab": {
          "base_uri": "https://localhost:8080/"
        },
        "id": "I-5F4B2puC24",
        "outputId": "e8225b1c-e599-42e8-b6d0-bcbf0cc165c2"
      },
      "outputs": [
        {
          "data": {
            "text/plain": [
              "array([1, 2, 3])"
            ]
          },
          "execution_count": 98,
          "metadata": {},
          "output_type": "execute_result"
        }
      ],
      "source": [
        "np.squeeze(b)"
      ]
    },
    {
      "cell_type": "code",
      "execution_count": null,
      "metadata": {
        "colab": {
          "base_uri": "https://localhost:8080/"
        },
        "id": "TE2futzivegY",
        "outputId": "df51878c-9397-42fa-f304-c814ac144be2"
      },
      "outputs": [
        {
          "data": {
            "text/plain": [
              "array([[2, 1, 3],\n",
              "       [6, 5, 4]])"
            ]
          },
          "execution_count": 103,
          "metadata": {},
          "output_type": "execute_result"
        }
      ],
      "source": [
        "b_2d = np.array([[2, 1, 3], [6, 5, 4]])\n",
        "np.sort(b_2d)\n",
        "np.sort(b_2d, axis=0)"
      ]
    },
    {
      "cell_type": "code",
      "execution_count": null,
      "metadata": {
        "colab": {
          "base_uri": "https://localhost:8080/",
          "height": 186
        },
        "id": "bQqVqfUJwwWk",
        "outputId": "6a5dd2bc-ae8f-473a-f0cf-2c4c70b7a09e"
      },
      "outputs": [
        {
          "ename": "NameError",
          "evalue": "ignored",
          "output_type": "error",
          "traceback": [
            "\u001b[0;31m---------------------------------------------------------------------------\u001b[0m",
            "\u001b[0;31mNameError\u001b[0m                                 Traceback (most recent call last)",
            "\u001b[0;32m<ipython-input-1-60c11c5e2804>\u001b[0m in \u001b[0;36m<module>\u001b[0;34m()\u001b[0m\n\u001b[0;32m----> 1\u001b[0;31m \u001b[0ma\u001b[0m\u001b[0;34m.\u001b[0m\u001b[0mfill\u001b[0m\u001b[0;34m(\u001b[0m\u001b[0;36m1\u001b[0m\u001b[0;34m)\u001b[0m\u001b[0;34m\u001b[0m\u001b[0;34m\u001b[0m\u001b[0m\n\u001b[0m\u001b[1;32m      2\u001b[0m \u001b[0mprint\u001b[0m\u001b[0;34m(\u001b[0m\u001b[0ma\u001b[0m\u001b[0;34m)\u001b[0m\u001b[0;34m\u001b[0m\u001b[0;34m\u001b[0m\u001b[0m\n",
            "\u001b[0;31mNameError\u001b[0m: name 'a' is not defined"
          ]
        }
      ],
      "source": [
        "a.fill(1)\n",
        "print(a)"
      ]
    },
    {
      "cell_type": "markdown",
      "metadata": {
        "id": "dangerous-photography"
      },
      "source": [
        "## Agregacje\n",
        "\n",
        "Agregacje to operacje, które pozwalają na uzyskanie podstawowych informacji statystycznych o pewnym zbiorze danych liczbowych. Wśród dostępnych operacji agregujących są między innymi: średnia arytmetyczna, mediana, odchylenie standardowe, wartość najmniejsza (min) i największa (max), czy suma. Zaczniemy od zaprezentowania kilku podstawowych funkcji agregujących, a później pokażemy ich wykorzystanie na podstawie bardziej realistycznego przykładu."
      ]
    },
    {
      "cell_type": "markdown",
      "metadata": {
        "id": "complimentary-criterion"
      },
      "source": [
        "Operacji sumowania wartości w tabeli dokonuje się za pomocą funkcji `np.sum`. Od razu zwróćmy uwagę na fakt, że ta funkcja jest różna od dostępnej w Pythonie funkcji `sum`, i pod względem wydajności wypada zdecydowanie lepiej. Poniższy przykład pokazuje sumowanie 1000 liczb w tablicy."
      ]
    },
    {
      "cell_type": "code",
      "execution_count": null,
      "metadata": {
        "id": "certified-drove",
        "outputId": "6e78f9f7-f57e-4268-df67-6f92f15ac160"
      },
      "outputs": [
        {
          "name": "stdout",
          "output_type": "stream",
          "text": [
            "2.71 µs ± 10.2 ns per loop (mean ± std. dev. of 7 runs, 100000 loops each)\n"
          ]
        }
      ],
      "source": [
        "array = np.arange(1, 1001)\n",
        "\n",
        "%timeit np.sum(array)"
      ]
    },
    {
      "cell_type": "code",
      "execution_count": null,
      "metadata": {
        "id": "frank-emphasis",
        "outputId": "ecaa7ef5-b7a0-4414-925f-b833a208a552"
      },
      "outputs": [
        {
          "name": "stdout",
          "output_type": "stream",
          "text": [
            "57.3 µs ± 1.03 µs per loop (mean ± std. dev. of 7 runs, 10000 loops each)\n"
          ]
        }
      ],
      "source": [
        "%timeit sum(array)"
      ]
    },
    {
      "cell_type": "markdown",
      "metadata": {
        "id": "measured-merit"
      },
      "source": [
        "Jak widać, różnica w szybkości wykonania między `np.sum` i `sum` jest znaczna.\n",
        "\n",
        "NumPy udostępnia również `np.min` i `np.max`, które zwracają, odpowiednio, najmniejszą i największą wartość w tablicy. Działanie tych funkcji pokazujemy na prostym przykładzie."
      ]
    },
    {
      "cell_type": "code",
      "execution_count": null,
      "metadata": {
        "id": "promotional-collaboration",
        "outputId": "afc6cc51-2e52-409c-a393-89cfb800136e"
      },
      "outputs": [
        {
          "name": "stdout",
          "output_type": "stream",
          "text": [
            "Array: [ 1  2  3  4  5  6  7  8  9 10]\n",
            "Min: 1\n",
            "Max: 10\n"
          ]
        }
      ],
      "source": [
        "array = np.arange(1, 11)\n",
        "print(f\"Array: {array}\")\n",
        "print(f\"Min: {np.min(array)}\")\n",
        "print(f\"Max: {np.max(array)}\")"
      ]
    },
    {
      "cell_type": "markdown",
      "metadata": {
        "id": "hydraulic-neutral"
      },
      "source": [
        "W powyższym przykładzie użyliśmy tablicy jednowymiarowej. Dla tablic dwu- i więcej- wymiarowych domyślne działanie jest takie same, ale można również dokonywać agregacji tylko wzdłuż wybranej osi. Pokazujemy to na poniższym przykładzie."
      ]
    },
    {
      "cell_type": "code",
      "execution_count": null,
      "metadata": {
        "id": "tamil-nightmare",
        "outputId": "833730ef-392d-4a2d-a08d-07ba9a53dc3c"
      },
      "outputs": [
        {
          "name": "stdout",
          "output_type": "stream",
          "text": [
            "Array:\n",
            "[[1 2 3]\n",
            " [4 5 6]\n",
            " [7 8 9]]\n",
            "Sum: 45\n",
            "Sum (axis=0): [12 15 18]\n",
            "Sum (axis=1): [ 6 15 24]\n"
          ]
        }
      ],
      "source": [
        "array = np.arange(1, 10).reshape(3, 3)\n",
        "print(f\"Array:\\n{array}\")\n",
        "print(f\"Sum: {np.sum(array)}\")\n",
        "print(f\"Sum (axis=0): {np.sum(array, axis=0)}\")\n",
        "print(f\"Sum (axis=1): {np.sum(array, axis=1)}\")"
      ]
    },
    {
      "cell_type": "markdown",
      "metadata": {
        "id": "hearing-running"
      },
      "source": [
        "Oprócz `np.sum`, `np.min` i `np.max`, NumPy udostępnia wiele innych operacji agregacji, które wraz z już omówionymi zostały opisane w poniższej tabeli. Część z nich zostanie pokazane w przykładzie poniżej."
      ]
    },
    {
      "cell_type": "markdown",
      "metadata": {
        "id": "bound-spokesman"
      },
      "source": [
        "| Nazwa funkcji | Opis |\n",
        "| --- | --- |\n",
        "| `np.sum`  | Oblicza sumę wszystkich elementów. |\n",
        "| `np.prod` | Oblicza iloraz wszystkich elementów. | \n",
        "| `np.mean` | Oblicza średnią arytmetyczną wszystkich elementów. |\n",
        "| `np.std`  | Oblicza odchylenie standardowe dla wszystkich elementów. |\n",
        "| `np.var`  | Oblicza wariancję dla wszystkich elementów. |\n",
        "| `np.min`  | Zwraca najmniejszą wartość w tablicy. |\n",
        "| `np.max`  | Zwraca największą wartość w tablicy. |\n",
        "| `np.argmin` | Zwraca indeks najmniejszej wartości w tablicy. | \n",
        "| `np.argmax` | Zwraca indeks największej wartości w tablicy. |\n",
        "| `np.median` | Oblicza medianę wszystkich elementów w tablicy. |\n",
        "| `np.percentile` | Oblicza percentyle... TODO |\n",
        "| `np.any` | TODO |\n",
        "| `np.all` | TODO |"
      ]
    },
    {
      "cell_type": "markdown",
      "metadata": {
        "id": "portable-western"
      },
      "source": [
        "### Przykład"
      ]
    },
    {
      "cell_type": "markdown",
      "metadata": {
        "id": "surface-columbia"
      },
      "source": [
        "Wykorzystania agregacji w praktyce pokażemy z wykorzystaniem zestawu przykładowych wyników kilku uczniów na sprawdzianach z wybranych przedmiotów. Poniższa tabela przedstawia ich formę bardziej graficzną."
      ]
    },
    {
      "cell_type": "markdown",
      "metadata": {
        "id": "corporate-briefing"
      },
      "source": [
        "| Uczeń  | J. polski | Matematyka | Historia | Fizyka |\n",
        "|---|---|---|---|---|\n",
        "| Jan    | 64        | 78         | 52       | 51     |\n",
        "| Piotr  | 42        | 38         | 89       | 36     |\n",
        "| Maria  | 48        | 78         | 52       | 51     |\n",
        "| Robert | 51        | 82         | 80       | 71     |\n",
        "| Zofia  | 56        | 38         | 77       | 42     |"
      ]
    },
    {
      "cell_type": "markdown",
      "metadata": {
        "id": "objective-massachusetts"
      },
      "source": [
        "Poniżej znajdują się te same dane zapisane w dwuwymiarowej tablicy NumPy (oczywiście z pominięciem nagłówków)."
      ]
    },
    {
      "cell_type": "code",
      "execution_count": null,
      "metadata": {
        "id": "atomic-polyester",
        "outputId": "af69fe4d-11e1-4b2a-bf57-b60d7d4ae2a2"
      },
      "outputs": [
        {
          "name": "stdout",
          "output_type": "stream",
          "text": [
            "Min values: [42 38 52 36]\n",
            "Max values: [64 82 89 71]\n",
            "Mean:       [52.2 62.8 70.  50.2]\n",
            "Variance:   [ 55.36 412.16 231.6  140.56]\n",
            "Standard deviation: [ 7.4404301  20.30172406 15.2184099  11.85580027]\n",
            "Median:     [51. 78. 77. 51.]\n"
          ]
        }
      ],
      "source": [
        "exam_results = np.array([\n",
        "    [64, 78, 52, 51],\n",
        "    [42, 38, 89, 36],\n",
        "    [48, 78, 52, 51],\n",
        "    [51, 82, 80, 71],\n",
        "    [56, 38, 77, 42]\n",
        "])\n",
        "print(f\"Min values: {np.min(exam_results, axis=0)}\")\n",
        "print(f\"Max values: {np.max(exam_results, axis=0)}\")\n",
        "print(f\"Mean:       {np.mean(exam_results, axis=0)}\")\n",
        "print(f\"Variance:   {np.var(exam_results, axis=0)}\")\n",
        "print(f\"Standard deviation: {np.std(exam_results, axis=0)}\")\n",
        "print(f\"Median:     {np.median(exam_results, axis=0)}\")"
      ]
    },
    {
      "cell_type": "markdown",
      "metadata": {
        "id": "collected-adapter"
      },
      "source": [
        "Biblioteka NumPy pozwala na przeprowadzanie wydajnych obliczeń, ale nie jest przeznaczona do przetwarzania czy prezentacji danych. W następnym rozdziale dotyczącym biblioteki Pandas zobaczymy, jak w łatwy sposób można obliczać te i inne wartości statystyczne i od razu prezentować je w formie tabelarycznej."
      ]
    },
    {
      "cell_type": "markdown",
      "metadata": {
        "id": "practical-harrison"
      },
      "source": [
        "## Rozgłaszanie (ang. broadcasting)\n",
        "\n",
        "W tej sekcji zajmiemy się ważnym tematem rozgłaszania, czyli tego, co w języku angielskim, nazywa się *broadcastingiem*. Ogólnie rzecz ujmująć, rozgłaszanie w kontekście NumPy to zbiór reguł wyznaczających sposób, w jaki mają być przeprowadzane operacje binarne (dodawanie, odejmowanie, mnożenie itd.) w przypadku, gdy mamy dwie tablice o różnych rozmiarach. Ten ogólnikowy opis może brzmieć tajemniczo, ale zaraz postaramy się wyjaśnić na przykładach, na czym rozgłaszanie polega i kiedy może być przydatne.\n",
        "\n",
        "Zacznijmy od przykładu z dodaniem wartości z dwóch tablic o takich samych wymiarach, gdzie rozgłaszanie nie jest wykorzystane."
      ]
    },
    {
      "cell_type": "code",
      "execution_count": null,
      "metadata": {
        "id": "aerial-bermuda",
        "outputId": "bceb2ea6-1ec1-4eec-dc46-a07185cbae1a"
      },
      "outputs": [
        {
          "name": "stdout",
          "output_type": "stream",
          "text": [
            "array_final: [ 8 10 12]\n"
          ]
        }
      ],
      "source": [
        "array1 = np.array([1, 2, 3])\n",
        "array2 = np.array([4, 5, 6])\n",
        "array_final = array1 + array3\n",
        "print(f\"array_final: {array_final}\")"
      ]
    },
    {
      "cell_type": "markdown",
      "metadata": {
        "id": "external-eagle"
      },
      "source": [
        "W powyższym przykładzie rozgłaszanie nie jest konieczne, ponieważ wymiary obu tablic są takie same. Sprawdźmy jednak, jak zachowa się NumPy w przypadku, gdy dodamy do siebie wartości z dwóch tablic o różnych wymiarach."
      ]
    },
    {
      "cell_type": "code",
      "execution_count": null,
      "metadata": {
        "id": "elder-fishing",
        "outputId": "4cfa38b7-d5a8-45bd-a7ae-fd62ef9a88fb"
      },
      "outputs": [
        {
          "name": "stdout",
          "output_type": "stream",
          "text": [
            "array1:\n",
            "[[1 2 3]\n",
            " [4 5 6]\n",
            " [7 8 9]]\n",
            "array2:\n",
            "[1 2 3]\n",
            "array_final:\n",
            "[[ 2  4  6]\n",
            " [ 5  7  9]\n",
            " [ 8 10 12]]\n"
          ]
        }
      ],
      "source": [
        "array1 = np.arange(1, 10).reshape(3, 3)\n",
        "array2 = np.array([1, 2, 3])\n",
        "array_final = array1 + array2\n",
        "print(f\"array1:\\n{array1}\")\n",
        "print(f\"array2:\\n{array2}\")\n",
        "print(f\"array_final:\\n{array_final}\")"
      ]
    },
    {
      "cell_type": "markdown",
      "metadata": {
        "id": "spare-christmas"
      },
      "source": [
        "Powyższy przykład pokazuje, że nawet jeżeli dwie tablice nie mają tych samych wymiarów, to możliwe jest ich dodanie. Dzieje się tak właśnie za sprawą rozgłaszania, na podstawie którego NumPy ustala, w jaki sposób należy przeprowadzić operację. Poniżej prezentujemy kod, na którym widać sposób \"rozciągniecia\" zmiennej `array2` symulujący działanie NumPy (oczywiście NumPy nie tworzy nowej tablicy, gdyż byłoby to niewydajne zarówno pod względem obliczeniowym, jak i pod względem zajętości; poniższy przykład należy traktować jako model mentalny działania NumPy)."
      ]
    },
    {
      "cell_type": "code",
      "execution_count": null,
      "metadata": {
        "id": "tracked-essay",
        "outputId": "8167acb5-bff7-45bb-f81f-8cbdb1f71ded"
      },
      "outputs": [
        {
          "name": "stdout",
          "output_type": "stream",
          "text": [
            "array1:\n",
            "[[1 2 3]\n",
            " [4 5 6]\n",
            " [7 8 9]]\n",
            "array2:\n",
            "[[1 2 3]\n",
            " [1 2 3]\n",
            " [1 2 3]]\n",
            "array_final:\n",
            "[[ 2  4  6]\n",
            " [ 5  7  9]\n",
            " [ 8 10 12]]\n"
          ]
        }
      ],
      "source": [
        "array1 = np.arange(1, 10).reshape(3, 3)\n",
        "array2 = np.array(\n",
        "    [[1, 2, 3],\n",
        "     [1, 2, 3],\n",
        "     [1, 2, 3]])\n",
        "array_final = array1 + array2\n",
        "print(f\"array1:\\n{array1}\")\n",
        "print(f\"array2:\\n{array2}\")\n",
        "print(f\"array_final:\\n{array_final}\")"
      ]
    },
    {
      "cell_type": "markdown",
      "metadata": {
        "id": "political-arrow"
      },
      "source": [
        "Rozgłaszanie musi działać w sposób spójny, konsekwentny i, o ile to możliwe, intuicyjny. Żeby osiągnąć te cele, twórcy NumPy przyjęli następujące zasady rozgłaszania.\n",
        "\n",
        "1. Rozgłaszanie może nastąpić tylko wtedy, gdy wymiary dwóch tablic są ze sobą kompatybilne. Dwa wymiary są ze sobą kompatybilne, jeżeli są równe lub jeden z nich ma długość 1.\n",
        "2. Dla każdego z wymiarów nowopowstałej tablicy przyjmowany jest większy wymiar.\n",
        "3. Jeżeli liczba elementów w któryś z wymiarów jest mniejsza niż to konieczne do przeprowadzenia operacji, wymagane wartości są uzupełniane istniejącą wartością.\n",
        "\n",
        "Jeżeli nie spełniony jest któryś z powyższych warunków, NumPy zwróci błąd informujący o tym."
      ]
    },
    {
      "cell_type": "markdown",
      "metadata": {
        "id": "optical-angle"
      },
      "source": [
        "## Sortowanie"
      ]
    },
    {
      "cell_type": "markdown",
      "metadata": {
        "id": "piano-going"
      },
      "source": [
        "Przetwarzanie danych wymaga od nas niekiedy uporządkowania ich w określonej kolejności. NumPy udostępnia kilka funkcji, które umożliwiają przeprowadzenie tej operacji w wydajny sposób.  Funkcja `np.sort` zwraca nową tablicę uporządkowaną zgodnie z kolejnością od najmniejszego do największego elementu. Jeżeli chcemy posortować tablicę bez tworzenia jej nowej kopii w pamięci, należy użyć składni `x.sort()`, gdzie `x` odnosi się do tablicy. Z kolei funkcja `np.argsort()` nie zwraca tablicy z uporządkowanymi wartości, lecz odpowiadające im indeksy. Poniżej prezentujemy kilka przykładów."
      ]
    },
    {
      "cell_type": "code",
      "execution_count": null,
      "metadata": {
        "id": "solar-investor",
        "outputId": "673c3274-7dc7-4624-cab2-8bdbfa4631e9"
      },
      "outputs": [
        {
          "name": "stdout",
          "output_type": "stream",
          "text": [
            "Unsorted array: [1 0 6 8 9 1 4 0 1 1]\n",
            "Sorted array: [0 0 1 1 1 1 4 6 8 9]\n",
            "Input array unchanged: [1 0 6 8 9 1 4 0 1 1]\n",
            "Input array changed: [0 0 1 1 1 1 4 6 8 9]\n"
          ]
        }
      ],
      "source": [
        "array = np.random.randint(0, 10, 10)\n",
        "print(f\"Unsorted array: {array}\")\n",
        "sorted_array = np.sort(array)\n",
        "print(f\"Sorted array: {sorted_array}\")\n",
        "print(f\"Input array unchanged: {array}\")\n",
        "array.sort()\n",
        "print(f\"Input array changed: {array}\")"
      ]
    },
    {
      "cell_type": "markdown",
      "metadata": {
        "id": "formed-convenience"
      },
      "source": [
        "W przypadku tablic wielowymiarowych NumPy udostępnia również możliwość sortowania elementów wzdłuż określonej osi. Służy do tego parametr `axis`, gdzie w przypadku tablic dwuwymiarowych wartość `0` oznacza sortowanie w kolumnach, a wartość `1` - w wierszach. Poniżej prezentujemy to na przykładzie danych z wynikami egzaminów uczniów:"
      ]
    },
    {
      "cell_type": "code",
      "execution_count": null,
      "metadata": {
        "id": "seventh-swiss",
        "outputId": "750a780a-2794-4777-cfc1-b372dff46a42"
      },
      "outputs": [
        {
          "name": "stdout",
          "output_type": "stream",
          "text": [
            "Array sorted in columns:\n",
            "[[42 38 52 36]\n",
            " [48 38 52 42]\n",
            " [51 78 77 51]\n",
            " [56 78 80 51]\n",
            " [64 82 89 71]]\n",
            "Array sorted in rows:\n",
            "[[51 52 64 78]\n",
            " [36 38 42 89]\n",
            " [48 51 52 78]\n",
            " [51 71 80 82]\n",
            " [38 42 56 77]]\n"
          ]
        }
      ],
      "source": [
        "exam_results = np.array([\n",
        "    [64, 78, 52, 51],\n",
        "    [42, 38, 89, 36],\n",
        "    [48, 78, 52, 51],\n",
        "    [51, 82, 80, 71],\n",
        "    [56, 38, 77, 42]\n",
        "])\n",
        "sorted_in_columns = np.sort(exam_results, axis=0)\n",
        "print(f\"Array sorted in columns:\\n{sorted_in_columns}\")\n",
        "sorted_in_rows = np.sort(exam_results, axis=1)\n",
        "print(f\"Array sorted in rows:\\n{sorted_in_rows}\")"
      ]
    },
    {
      "cell_type": "markdown",
      "metadata": {
        "id": "premier-arctic"
      },
      "source": [
        "Na tym zakończymy to krótkie wprowadzenie do NumPy, zdając sobie sprawę z faktu, że nie poruszyliśmy wielu bardziej zaawansowanych kwestii. Jednak w praktyce NumPy jest używany przez inne biblioteki, które udostępniają swoje API, będące lepszą generalizacją problemów, do których te biblioteki są stosowane. Jedną z takich bibliotek jest Pandas, do której omówienia teraz przechodzimy."
      ]
    },
    {
      "cell_type": "markdown",
      "source": [
        "## Zapamiętaj!\n",
        "\n",
        "argmax()\n",
        "argmin()\n",
        "copy()\n",
        "cos()\n",
        "dtype\n",
        "exp()\n",
        "log()\n",
        "max()\n",
        "mean()\n",
        "min()\n",
        "np.arange()\n",
        "np.array()\n",
        "np.concatenate()\n",
        "np.empty()\n",
        "np.eye()\n",
        "np.linspace()\n",
        "np.ndarray()\n",
        "np.ones()\n",
        "np.random.rand()\n",
        "np.random.randint()\n",
        "np.reshape()\n",
        "np.save()\n",
        "np.seed()\n",
        "np.zeros()\n",
        "shape\n",
        "sin()\n",
        "sqrt()\n",
        "std()\n",
        "sum()\n",
        "transpose()\n",
        "var()\n",
        "\n",
        "\n",
        "## Zbadaj samodzielnie i zapamiętaj!\n",
        "\n",
        "np.exp(a)\n",
        "np.sin(a)\n",
        "\n",
        "np.cos(a)\n",
        "\n",
        "np.log(a)\n",
        "a.min()\n",
        "a.argmin()\n",
        "view()\n",
        "fill()\n",
        "cumsum()\n",
        "round()\n",
        "\n",
        "any()\n",
        "all()"
      ],
      "metadata": {
        "id": "q8u3vfjUgRm2"
      }
    }
  ],
  "metadata": {
    "colab": {
      "collapsed_sections": [],
      "name": "python_dla_humanistow.ipynb",
      "provenance": [],
      "toc_visible": true,
      "include_colab_link": true
    },
    "kernelspec": {
      "display_name": "Python 3 (ipykernel)",
      "language": "python",
      "name": "python3"
    },
    "language_info": {
      "codemirror_mode": {
        "name": "ipython",
        "version": 3
      },
      "file_extension": ".py",
      "mimetype": "text/x-python",
      "name": "python",
      "nbconvert_exporter": "python",
      "pygments_lexer": "ipython3",
      "version": "3.9.2"
    }
  },
  "nbformat": 4,
  "nbformat_minor": 0
}