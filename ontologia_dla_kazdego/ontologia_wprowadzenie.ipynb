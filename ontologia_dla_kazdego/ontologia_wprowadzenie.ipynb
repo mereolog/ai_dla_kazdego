{
  "cells": [
    {
      "cell_type": "code",
      "source": [
        "!pip install networkx"
      ],
      "metadata": {
        "id": "4gZpwDfyTS-o",
        "outputId": "3a51368b-9ae6-4336-d8d7-26e76f637e8e",
        "colab": {
          "base_uri": "https://localhost:8080/"
        }
      },
      "id": "4gZpwDfyTS-o",
      "execution_count": 1,
      "outputs": [
        {
          "output_type": "stream",
          "name": "stdout",
          "text": [
            "Looking in indexes: https://pypi.org/simple, https://us-python.pkg.dev/colab-wheels/public/simple/\n",
            "Requirement already satisfied: networkx in /usr/local/lib/python3.7/dist-packages (2.6.3)\n"
          ]
        }
      ]
    },
    {
      "cell_type": "markdown",
      "source": [
        "# Wprowadznie do sieci semantycznej i ontologii"
      ],
      "metadata": {
        "id": "a5mQo-08Q-_p"
      },
      "id": "a5mQo-08Q-_p"
    },
    {
      "cell_type": "markdown",
      "id": "65e7b5c0",
      "metadata": {
        "id": "65e7b5c0"
      },
      "source": [
        "## RDF czyli system opisu zasobów\n",
        "\n",
        "### RDF – Resource Description Framework\n",
        "\n",
        "<img src=\"https://upload.wikimedia.org/wikipedia/commons/f/f3/Rdf_logo.svg\"\n",
        "     alt=\"RDF logo\" align=\"right\" width=\"100\" height=\"100\"/>\n",
        "     \n",
        "RDF to skrót angielskiej nazyw *Resource Description Framework*, czyli system opisu zasobów. RDF jest standardem kodowania metadanych.\n",
        "Metadane to takie dane, które są meta, czyli służą do opisu innych danych.\n",
        "Pierwsza wersja standardu RDF została wydana przez W3C w 1997 roku (nota bene razem ze pierwszą specyfikacją języka XML).Standard RDF jest jednym z filarów Semantycznego Internetu (Semantic Web).\n",
        "\n",
        "\n",
        "### Trójki i identyfikatory URI\n",
        "\n",
        "Wszystko jest zasobem (ang. *resource*). Wypowiadamy się tylko o zasobach identyfikowanych adresem URI.\n",
        "\n",
        "O zasobach wypowiadamy się za pomocą prostych zdań zwanych trójkami RDF postaci:\n",
        "\n",
        "`(podmiot, orzeczenie, dopełnienie)`\n",
        "\n",
        "[RYSUNEK 1]\n",
        "\n",
        "URI – Uniform Resource Identifier (ujednolicony identyfikator zasobu).\n",
        "\n",
        "[RYSUNEK 2]\n",
        "\n",
        "Graf RDF = zbiór trójek RDF\n",
        "\n",
        "- `(podmiot, orzeczenie, dopełnienie)`\n",
        "- `(podmiot, predykat, obiekt)`\n",
        "- `(obiekt, właściwość, wartość)`\n",
        "\n",
        "Podmiot:\n",
        "\n",
        "- Odnośnik URI\n",
        "- Węzeł anonimowy\n",
        "\n",
        "Orzecznik:\n",
        "\n",
        "- Odnośnik URI\n",
        "\n",
        "Dopełnienie:\n",
        "\n",
        "- Odnośnik URI\n",
        "- Węzeł anonimowy\n",
        "- Literał\n",
        "\n",
        "[RYSUNEK 3]\n",
        "\n",
        "\n",
        "Rola powiązań RDF wybiega daleko poza koncepcję/mechanizm odnośników na stronach WWW.\n",
        "Powiązania w RDF są „etykietowane”.\n",
        "Powiązania RDF mogą łączyć te same zasoby na różne sposoby, np. oddające różne punkty widzenia. Nie istnieją natomiast zasadniczo różne rodzaje hiperłączy.\n",
        "Powiązanie RDF nie są też przewidziane do bezpośredniego wykorzystania jak hierłącza.\n",
        "Hiperłącza może zamieszczać na stronie WWW jedynie osoba zarządzająca stroną. Powiązania RDF może tworzyć każdy.\n",
        "Zasoby to nie tylko strony WWW! Za pomocą RDF można opisywać np. pliki mp3 czy zdjęcia.\n",
        "Najważniejsze: zasoby do których odnosimy się w trójkach RDF nie muszą być faktycznie „czymś” zapisanym na dysku jakiegoś komputera. URI zasobów nie muszą wskazywać plików – mogą reprezentować dowolne obiekty/byty obecne w świecie rzeczywistym.\n",
        "To co utworzymy za pomocą języka RDF, również jest zasobem internetowym.\n",
        "\n",
        "\n",
        "\n",
        "Znaczenie danego URI zależy od właściciela domeny (jego pożądane interpretacja jest umowna).\n",
        "RDF oferuje jednolity, rekursywny, elastyczny i potężny w swojej prostocie model danych \n",
        "przystosowany do zapisu różnego rodzaju informacji\n",
        "Pierwszym krokiem tworzenia grafu RDF dla pewnej dziedziny jest przydzielenie pewnego wydzielonego adresu (np. http://makolab.pl/vocab) jako identyfikatora/bazy słownika nazw zasobów.\n",
        "Odnośnik URI zasobu składa się z bazy, po którym następuje znak „/” lub „#”, a następnie identyfikator danego fragmentu (np. http://makolab.pl/vocab/Departament).\n",
        "W odnośniki URI rozróżniane są małe i duże litery!\n",
        "Każdy zasób musi posiadać identyfikator IRI (Internationalized Resource Identifier). W IRI mogą pojawić się znaki z Uniwersalnego Zestawu Znaków (UCS – Universal Character Set) określonego przez normę ISO/IEC 10646. IRI jest uogólnieniem URI (tylko znaki ASCII). URL jest ważnym przykładem URI.   \n",
        "\n",
        "\n",
        "\n",
        "RDF\n",
        "\n",
        "Ujednolica podstawową jednostkę informacji: trójkę, stanowiącą najprostszy rodzaj zdania.\n",
        "W centrum uwagi jest nie składnia (syntaksa) ale jej znaczenie (semantyka).\n",
        "Skupia się na wykorzystywanym słownictwie, w szczególności orzeczeniach (zob. RDFS i OWL).\n",
        "Umożliwia przeprowadzanie wnioskowania, w wyniku którego kolekcję janiwe wyspecyfikowanych trójek możemy uzupełnić o trójki z nich wynikające, ale jawnie niepodane.\n",
        "\n",
        "\n",
        "\n",
        "\n",
        "\n"
      ]
    },
    {
      "cell_type": "code",
      "execution_count": null,
      "id": "3be7ba0d",
      "metadata": {
        "id": "3be7ba0d"
      },
      "outputs": [],
      "source": [
        ""
      ]
    }
  ],
  "metadata": {
    "kernelspec": {
      "display_name": "Python 3 (ipykernel)",
      "language": "python",
      "name": "python3"
    },
    "language_info": {
      "codemirror_mode": {
        "name": "ipython",
        "version": 3
      },
      "file_extension": ".py",
      "mimetype": "text/x-python",
      "name": "python",
      "nbconvert_exporter": "python",
      "pygments_lexer": "ipython3",
      "version": "3.9.2"
    },
    "colab": {
      "name": "ontologia_wprowadzenie.ipynb",
      "provenance": [],
      "toc_visible": true
    }
  },
  "nbformat": 4,
  "nbformat_minor": 5
}