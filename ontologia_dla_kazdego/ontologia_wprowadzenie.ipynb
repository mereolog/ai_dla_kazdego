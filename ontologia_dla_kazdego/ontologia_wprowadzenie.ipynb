{
  "cells": [
    {
      "cell_type": "markdown",
      "id": "a5mQo-08Q-_p",
      "metadata": {
        "id": "a5mQo-08Q-_p"
      },
      "source": [
        "# Wprowadznie do sieci semantycznej i ontologii"
      ]
    },
    {
      "cell_type": "markdown",
      "id": "65e7b5c0",
      "metadata": {
        "id": "65e7b5c0"
      },
      "source": [
        "## RDF czyli system opisu zasobów\n",
        "\n",
        "<img src=\"https://upload.wikimedia.org/wikipedia/commons/f/f3/Rdf_logo.svg\"\n",
        "     alt=\"RDF logo\" align=\"right\" width=\"100\" height=\"100\"/>\n",
        "     \n",
        "RDF to skrót angielskiej nazyw *Resource Description Framework*, czyli system opisu zasobów. RDF jest jednym ze standardów [W3C](https://www.w3.org/RDF/) przeznaczonym do zapisu informacji/wiedzy w sposób przetwarzalny komputerowo.  \n",
        "Pierwsza wersja standardu RDF została wydana przez W3C w 1997 roku (nota bene, razem z pierwszą specyfikacją języka XML).Standard RDF jest jednym z filarów semantycznego internetu (ang. *Semantic Web*).\n",
        "\n",
        "\n",
        "### Trójki\n",
        "\n",
        "Podstawowym założeniem, a nawet ograniczeniem, staradrdu RDF jest sposób zapisu informacji. Mianowicie, każde stwierdzenie musi składać się z trzech elementów: podmiotu, orzeczenia i dopełnienia, np. \n",
        "- `Ala` (podmiot) `ma` (orzeczenie) `kota` (dopełnienie).\n",
        "- `Jan` (podmiot) `mieszka w` (orzeczenie) `Chełmie` (dopełnienie).\n",
        "\n",
        "Stwierdzenia RDF będą więc zawsze takie postaci:\n",
        "\n",
        "- `(podmiot, orzeczenie, dopełnienie)`\n",
        "\n",
        "Orzeczenie nazywane jest często predykatem i jest relacją łączącą podmiot z dopełnieniem. Dopełnienie może być obiektem lub wartością (literałem):\n",
        "\n",
        "<img src='https://github.com/trypuz/ai_dla_kazdego/blob/main/pliki_yEd/trojki.png?raw=1'>\n",
        "\n",
        "W RDF mówi się, że wszystko jest zasobem (ang. *resource*). Ja jestem zasobem, Twoje życie jest zasobem, dokument tekstowy na dysku jest zasoben, etc. Wszystko. Zasoby do których odnosimy się w trójkach RDF nie muszą być faktycznie ,,czymś'' zapisanym na dysku komputera. URI zasobów nie muszą wskazywać plików – mogą reprezentować dowolne obiekty/byty obecne w świecie rzeczywistym. Również to co utworzymy za pomocą języka RDF jest zasobem!\n",
        "\n",
        "### Identyfikatory URI\n",
        "\n",
        "Aby móc skonstruować trójkę, która mówi coś o jakimś zasobie, zasób ten musi mieć swój indetyfikator. Dokładnie rzecz ujmując, identyfikator ten mus być adresem URI. URI to skrót od *Uniform Resource Identifier* (ujednolicony identyfikator zasobu). Najczęściej URI jest URL (skrót od *Uniform Resource Locator*), czyli wygląda jak adres strony www: `https://domenta/ścieżka_do_zasobu`. Możesz też usłyszeć, że identyfikatorami zasobów RDF są typu IRI (skrót od ang. *Internationalized Resource Identifier*). IRI to takie URI, w którym mogą pojawić się znaki spoza alfabetu angielskiego, np. znaki specyficzne dla języka polskiego.  \n",
        "\n",
        "Graf RDF = zbiór trójek RDF\n",
        "\n",
        "W RDF, jeśli chcemy powiedzieć, że Jan lubi Anię lub chcemy wyrazić fakt, że Jan ma 186cm wzrostu, to musimy najpierw stworzyć identyfiaktory dla Jana, Ani oraz predykatów lubi i ma wzrost.\n",
        "\n",
        "<img src='https://github.com/trypuz/ai_dla_kazdego/blob/main/pliki_yEd/trojki_przyklad.png?raw=1'>\n",
        "\n",
        "Pierwszym krokiem tworzenia grafu RDF dla pewnej dziedziny jest przydzielenie pewnego wydzielonego adresu (np. `http://ai.kul.pl/vocab`) jako bazy słownika nazw zasobów.\n",
        "Odnośnik URI zasobu składa się z bazy, po którym następuje znak „/” lub „#” - my będziemy preferować pierwszą opcję - a następnie identyfikator danego fragmentu (np. `http://ai.kul.pl/Jan`). Pamiętaj, że w identyfikatorach URI rozróżniane są małe i duże litery!\n",
        "\n",
        "Identyfikatory URI dla zasobów z powyższego przykładu mogłyby wyglądać ta:\n",
        "\n",
        "- `http://ai.kul.pl/vocab/Jan`\n",
        "- `http://ai.kul.pl/vocab/Ania`\n",
        "- `http://ai.kul.pl/vocab/lubi`\n",
        "- `http://ai.kul.pl/vocab/ma_wzrost`\n",
        "\n",
        "\n",
        "<img src='https://github.com/trypuz/ai_dla_kazdego/blob/main/pliki_yEd/trojki_przyklad_uri.png?raw=1'>\n",
        "\n",
        "URI zasobów RDF nie są też przewidziane do bezpośredniego wykorzystania jak hierłącza (tj. linki na stronach www).\n",
        "\n",
        "Znaczenie danego URI zależy od właściciela domeny (jego pożądane interpretacja jest umowna).\n",
        "\n",
        "\n",
        "### Węzły anonimowe\n",
        "\n",
        "podmiot i obiekt"
      ]
    },
    {
      "cell_type": "markdown",
      "id": "0133b4ba",
      "metadata": {
        "id": "0133b4ba"
      },
      "source": [
        "## Serializacje"
      ]
    },
    {
      "cell_type": "code",
      "execution_count": null,
      "id": "ead1ac54",
      "metadata": {
        "id": "ead1ac54"
      },
      "outputs": [],
      "source": [
        ""
      ]
    }
  ],
  "metadata": {
    "colab": {
      "name": "ontologia_wprowadzenie.ipynb",
      "provenance": [],
      "toc_visible": true
    },
    "kernelspec": {
      "display_name": "Python 3 (ipykernel)",
      "language": "python",
      "name": "python3"
    },
    "language_info": {
      "codemirror_mode": {
        "name": "ipython",
        "version": 3
      },
      "file_extension": ".py",
      "mimetype": "text/x-python",
      "name": "python",
      "nbconvert_exporter": "python",
      "pygments_lexer": "ipython3",
      "version": "3.9.2"
    }
  },
  "nbformat": 4,
  "nbformat_minor": 5
}