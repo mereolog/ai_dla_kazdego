{
  "cells": [
    {
      "cell_type": "code",
      "source": [
        "!pip install networkx\n",
        "!pip install yfiles_jupyter_graphs"
      ],
      "metadata": {
        "colab": {
          "base_uri": "https://localhost:8080/"
        },
        "id": "4gZpwDfyTS-o",
        "outputId": "16270ec1-e9b9-4fac-ca20-eccae7a23678"
      },
      "id": "4gZpwDfyTS-o",
      "execution_count": 3,
      "outputs": [
        {
          "output_type": "stream",
          "name": "stdout",
          "text": [
            "Looking in indexes: https://pypi.org/simple, https://us-python.pkg.dev/colab-wheels/public/simple/\n",
            "Requirement already satisfied: networkx in /usr/local/lib/python3.7/dist-packages (2.6.3)\n",
            "Looking in indexes: https://pypi.org/simple, https://us-python.pkg.dev/colab-wheels/public/simple/\n",
            "Collecting yfiles_jupyter_graphs\n",
            "  Downloading yfiles_jupyter_graphs-1.1.0-py2.py3-none-any.whl (13.7 MB)\n",
            "\u001b[K     |████████████████████████████████| 13.7 MB 5.1 MB/s \n",
            "\u001b[?25hRequirement already satisfied: ipywidgets>=7.6.0 in /usr/local/lib/python3.7/dist-packages (from yfiles_jupyter_graphs) (7.7.0)\n",
            "Requirement already satisfied: ipython-genutils~=0.2.0 in /usr/local/lib/python3.7/dist-packages (from ipywidgets>=7.6.0->yfiles_jupyter_graphs) (0.2.0)\n",
            "Requirement already satisfied: widgetsnbextension~=3.6.0 in /usr/local/lib/python3.7/dist-packages (from ipywidgets>=7.6.0->yfiles_jupyter_graphs) (3.6.0)\n",
            "Requirement already satisfied: ipython>=4.0.0 in /usr/local/lib/python3.7/dist-packages (from ipywidgets>=7.6.0->yfiles_jupyter_graphs) (5.5.0)\n",
            "Requirement already satisfied: jupyterlab-widgets>=1.0.0 in /usr/local/lib/python3.7/dist-packages (from ipywidgets>=7.6.0->yfiles_jupyter_graphs) (1.1.0)\n",
            "Requirement already satisfied: ipykernel>=4.5.1 in /usr/local/lib/python3.7/dist-packages (from ipywidgets>=7.6.0->yfiles_jupyter_graphs) (4.10.1)\n",
            "Requirement already satisfied: nbformat>=4.2.0 in /usr/local/lib/python3.7/dist-packages (from ipywidgets>=7.6.0->yfiles_jupyter_graphs) (5.4.0)\n",
            "Requirement already satisfied: traitlets>=4.3.1 in /usr/local/lib/python3.7/dist-packages (from ipywidgets>=7.6.0->yfiles_jupyter_graphs) (5.1.1)\n",
            "Requirement already satisfied: tornado>=4.0 in /usr/local/lib/python3.7/dist-packages (from ipykernel>=4.5.1->ipywidgets>=7.6.0->yfiles_jupyter_graphs) (5.1.1)\n",
            "Requirement already satisfied: jupyter-client in /usr/local/lib/python3.7/dist-packages (from ipykernel>=4.5.1->ipywidgets>=7.6.0->yfiles_jupyter_graphs) (5.3.5)\n",
            "Requirement already satisfied: pygments in /usr/local/lib/python3.7/dist-packages (from ipython>=4.0.0->ipywidgets>=7.6.0->yfiles_jupyter_graphs) (2.6.1)\n",
            "Requirement already satisfied: decorator in /usr/local/lib/python3.7/dist-packages (from ipython>=4.0.0->ipywidgets>=7.6.0->yfiles_jupyter_graphs) (4.4.2)\n",
            "Requirement already satisfied: pexpect in /usr/local/lib/python3.7/dist-packages (from ipython>=4.0.0->ipywidgets>=7.6.0->yfiles_jupyter_graphs) (4.8.0)\n",
            "Requirement already satisfied: pickleshare in /usr/local/lib/python3.7/dist-packages (from ipython>=4.0.0->ipywidgets>=7.6.0->yfiles_jupyter_graphs) (0.7.5)\n",
            "Requirement already satisfied: setuptools>=18.5 in /usr/local/lib/python3.7/dist-packages (from ipython>=4.0.0->ipywidgets>=7.6.0->yfiles_jupyter_graphs) (57.4.0)\n",
            "Requirement already satisfied: prompt-toolkit<2.0.0,>=1.0.4 in /usr/local/lib/python3.7/dist-packages (from ipython>=4.0.0->ipywidgets>=7.6.0->yfiles_jupyter_graphs) (1.0.18)\n",
            "Requirement already satisfied: simplegeneric>0.8 in /usr/local/lib/python3.7/dist-packages (from ipython>=4.0.0->ipywidgets>=7.6.0->yfiles_jupyter_graphs) (0.8.1)\n",
            "Requirement already satisfied: jupyter-core in /usr/local/lib/python3.7/dist-packages (from nbformat>=4.2.0->ipywidgets>=7.6.0->yfiles_jupyter_graphs) (4.10.0)\n",
            "Requirement already satisfied: fastjsonschema in /usr/local/lib/python3.7/dist-packages (from nbformat>=4.2.0->ipywidgets>=7.6.0->yfiles_jupyter_graphs) (2.15.3)\n",
            "Requirement already satisfied: jsonschema>=2.6 in /usr/local/lib/python3.7/dist-packages (from nbformat>=4.2.0->ipywidgets>=7.6.0->yfiles_jupyter_graphs) (4.3.3)\n",
            "Requirement already satisfied: typing-extensions in /usr/local/lib/python3.7/dist-packages (from jsonschema>=2.6->nbformat>=4.2.0->ipywidgets>=7.6.0->yfiles_jupyter_graphs) (4.1.1)\n",
            "Requirement already satisfied: importlib-metadata in /usr/local/lib/python3.7/dist-packages (from jsonschema>=2.6->nbformat>=4.2.0->ipywidgets>=7.6.0->yfiles_jupyter_graphs) (4.11.4)\n",
            "Requirement already satisfied: importlib-resources>=1.4.0 in /usr/local/lib/python3.7/dist-packages (from jsonschema>=2.6->nbformat>=4.2.0->ipywidgets>=7.6.0->yfiles_jupyter_graphs) (5.7.1)\n",
            "Requirement already satisfied: attrs>=17.4.0 in /usr/local/lib/python3.7/dist-packages (from jsonschema>=2.6->nbformat>=4.2.0->ipywidgets>=7.6.0->yfiles_jupyter_graphs) (21.4.0)\n",
            "Requirement already satisfied: pyrsistent!=0.17.0,!=0.17.1,!=0.17.2,>=0.14.0 in /usr/local/lib/python3.7/dist-packages (from jsonschema>=2.6->nbformat>=4.2.0->ipywidgets>=7.6.0->yfiles_jupyter_graphs) (0.18.1)\n",
            "Requirement already satisfied: zipp>=3.1.0 in /usr/local/lib/python3.7/dist-packages (from importlib-resources>=1.4.0->jsonschema>=2.6->nbformat>=4.2.0->ipywidgets>=7.6.0->yfiles_jupyter_graphs) (3.8.0)\n",
            "Requirement already satisfied: six>=1.9.0 in /usr/local/lib/python3.7/dist-packages (from prompt-toolkit<2.0.0,>=1.0.4->ipython>=4.0.0->ipywidgets>=7.6.0->yfiles_jupyter_graphs) (1.15.0)\n",
            "Requirement already satisfied: wcwidth in /usr/local/lib/python3.7/dist-packages (from prompt-toolkit<2.0.0,>=1.0.4->ipython>=4.0.0->ipywidgets>=7.6.0->yfiles_jupyter_graphs) (0.2.5)\n",
            "Requirement already satisfied: notebook>=4.4.1 in /usr/local/lib/python3.7/dist-packages (from widgetsnbextension~=3.6.0->ipywidgets>=7.6.0->yfiles_jupyter_graphs) (5.3.1)\n",
            "Requirement already satisfied: jinja2 in /usr/local/lib/python3.7/dist-packages (from notebook>=4.4.1->widgetsnbextension~=3.6.0->ipywidgets>=7.6.0->yfiles_jupyter_graphs) (2.11.3)\n",
            "Requirement already satisfied: nbconvert in /usr/local/lib/python3.7/dist-packages (from notebook>=4.4.1->widgetsnbextension~=3.6.0->ipywidgets>=7.6.0->yfiles_jupyter_graphs) (5.6.1)\n",
            "Requirement already satisfied: Send2Trash in /usr/local/lib/python3.7/dist-packages (from notebook>=4.4.1->widgetsnbextension~=3.6.0->ipywidgets>=7.6.0->yfiles_jupyter_graphs) (1.8.0)\n",
            "Requirement already satisfied: terminado>=0.8.1 in /usr/local/lib/python3.7/dist-packages (from notebook>=4.4.1->widgetsnbextension~=3.6.0->ipywidgets>=7.6.0->yfiles_jupyter_graphs) (0.13.3)\n",
            "Requirement already satisfied: pyzmq>=13 in /usr/local/lib/python3.7/dist-packages (from jupyter-client->ipykernel>=4.5.1->ipywidgets>=7.6.0->yfiles_jupyter_graphs) (23.1.0)\n",
            "Requirement already satisfied: python-dateutil>=2.1 in /usr/local/lib/python3.7/dist-packages (from jupyter-client->ipykernel>=4.5.1->ipywidgets>=7.6.0->yfiles_jupyter_graphs) (2.8.2)\n",
            "Requirement already satisfied: ptyprocess in /usr/local/lib/python3.7/dist-packages (from terminado>=0.8.1->notebook>=4.4.1->widgetsnbextension~=3.6.0->ipywidgets>=7.6.0->yfiles_jupyter_graphs) (0.7.0)\n",
            "Requirement already satisfied: MarkupSafe>=0.23 in /usr/local/lib/python3.7/dist-packages (from jinja2->notebook>=4.4.1->widgetsnbextension~=3.6.0->ipywidgets>=7.6.0->yfiles_jupyter_graphs) (2.0.1)\n",
            "Requirement already satisfied: pandocfilters>=1.4.1 in /usr/local/lib/python3.7/dist-packages (from nbconvert->notebook>=4.4.1->widgetsnbextension~=3.6.0->ipywidgets>=7.6.0->yfiles_jupyter_graphs) (1.5.0)\n",
            "Requirement already satisfied: defusedxml in /usr/local/lib/python3.7/dist-packages (from nbconvert->notebook>=4.4.1->widgetsnbextension~=3.6.0->ipywidgets>=7.6.0->yfiles_jupyter_graphs) (0.7.1)\n",
            "Requirement already satisfied: mistune<2,>=0.8.1 in /usr/local/lib/python3.7/dist-packages (from nbconvert->notebook>=4.4.1->widgetsnbextension~=3.6.0->ipywidgets>=7.6.0->yfiles_jupyter_graphs) (0.8.4)\n",
            "Requirement already satisfied: bleach in /usr/local/lib/python3.7/dist-packages (from nbconvert->notebook>=4.4.1->widgetsnbextension~=3.6.0->ipywidgets>=7.6.0->yfiles_jupyter_graphs) (5.0.0)\n",
            "Requirement already satisfied: testpath in /usr/local/lib/python3.7/dist-packages (from nbconvert->notebook>=4.4.1->widgetsnbextension~=3.6.0->ipywidgets>=7.6.0->yfiles_jupyter_graphs) (0.6.0)\n",
            "Requirement already satisfied: entrypoints>=0.2.2 in /usr/local/lib/python3.7/dist-packages (from nbconvert->notebook>=4.4.1->widgetsnbextension~=3.6.0->ipywidgets>=7.6.0->yfiles_jupyter_graphs) (0.4)\n",
            "Requirement already satisfied: webencodings in /usr/local/lib/python3.7/dist-packages (from bleach->nbconvert->notebook>=4.4.1->widgetsnbextension~=3.6.0->ipywidgets>=7.6.0->yfiles_jupyter_graphs) (0.5.1)\n",
            "Installing collected packages: yfiles-jupyter-graphs\n",
            "Successfully installed yfiles-jupyter-graphs-1.1.0\n"
          ]
        }
      ]
    },
    {
      "cell_type": "code",
      "source": [
        "from networkx import connected_caveman_graph\n",
        "from yfiles_jupyter_graphs import GraphWidget\n",
        "w = GraphWidget()\n",
        "g = connected_caveman_graph(3, 4)\n",
        "w.import_graph(g)\n",
        "w"
      ],
      "metadata": {
        "id": "cAQcUcvFTheJ",
        "outputId": "11a9c4fe-a014-40aa-a515-a983ff27eb65",
        "colab": {
          "base_uri": "https://localhost:8080/",
          "height": 17,
          "referenced_widgets": [
            "8138ed7a1e6947548492f1e44d006520"
          ]
        }
      },
      "id": "cAQcUcvFTheJ",
      "execution_count": 4,
      "outputs": [
        {
          "output_type": "display_data",
          "data": {
            "text/plain": [
              "GraphWidget(layout=Layout(height='500px', width='100%'))"
            ],
            "application/vnd.jupyter.widget-view+json": {
              "version_major": 2,
              "version_minor": 0,
              "model_id": "8138ed7a1e6947548492f1e44d006520"
            }
          },
          "metadata": {}
        }
      ]
    },
    {
      "cell_type": "markdown",
      "source": [
        "# Wprowadznie do sieci semantycznej i ontologii"
      ],
      "metadata": {
        "id": "a5mQo-08Q-_p"
      },
      "id": "a5mQo-08Q-_p"
    },
    {
      "cell_type": "markdown",
      "id": "65e7b5c0",
      "metadata": {
        "id": "65e7b5c0"
      },
      "source": [
        "## RDF czyli system opisu zasobów\n",
        "\n",
        "### RDF – Resource Description Framework\n",
        "\n",
        "<img src=\"https://upload.wikimedia.org/wikipedia/commons/f/f3/Rdf_logo.svg\"\n",
        "     alt=\"RDF logo\" align=\"right\" width=\"100\" height=\"100\"/>\n",
        "     \n",
        "RDF to skrót angielskiej nazyw *Resource Description Framework*, czyli system opisu zasobów. RDF jest standardem kodowania metadanych.\n",
        "Metadane to takie dane, które są meta, czyli służą do opisu innych danych.\n",
        "Pierwsza wersja standardu RDF została wydana przez W3C w 1997 roku (nota bene razem ze pierwszą specyfikacją języka XML).Standard RDF jest jednym z filarów Semantycznego Internetu (Semantic Web).\n",
        "\n",
        "\n",
        "### Trójki i identyfikatory URI\n",
        "\n",
        "Wszystko jest zasobem (ang. *resource*). Wypowiadamy się tylko o zasobach identyfikowanych adresem URI.\n",
        "\n",
        "O zasobach wypowiadamy się za pomocą prostych zdań zwanych trójkami RDF postaci:\n",
        "\n",
        "`(podmiot, orzeczenie, dopełnienie)`\n",
        "\n",
        "[RYSUNEK 1]\n",
        "\n",
        "URI – Uniform Resource Identifier (ujednolicony identyfikator zasobu).\n",
        "\n",
        "[RYSUNEK 2]\n",
        "\n",
        "Graf RDF = zbiór trójek RDF\n",
        "\n",
        "- `(podmiot, orzeczenie, dopełnienie)`\n",
        "- `(podmiot, predykat, obiekt)`\n",
        "- `(obiekt, właściwość, wartość)`\n",
        "\n",
        "Podmiot:\n",
        "\n",
        "- Odnośnik URI\n",
        "- Węzeł anonimowy\n",
        "\n",
        "Orzecznik:\n",
        "\n",
        "- Odnośnik URI\n",
        "\n",
        "Dopełnienie:\n",
        "\n",
        "- Odnośnik URI\n",
        "- Węzeł anonimowy\n",
        "- Literał\n",
        "\n",
        "[RYSUNEK 3]\n",
        "\n",
        "\n",
        "Rola powiązań RDF wybiega daleko poza koncepcję/mechanizm odnośników na stronach WWW.\n",
        "Powiązania w RDF są „etykietowane”.\n",
        "Powiązania RDF mogą łączyć te same zasoby na różne sposoby, np. oddające różne punkty widzenia. Nie istnieją natomiast zasadniczo różne rodzaje hiperłączy.\n",
        "Powiązanie RDF nie są też przewidziane do bezpośredniego wykorzystania jak hierłącza.\n",
        "Hiperłącza może zamieszczać na stronie WWW jedynie osoba zarządzająca stroną. Powiązania RDF może tworzyć każdy.\n",
        "Zasoby to nie tylko strony WWW! Za pomocą RDF można opisywać np. pliki mp3 czy zdjęcia.\n",
        "Najważniejsze: zasoby do których odnosimy się w trójkach RDF nie muszą być faktycznie „czymś” zapisanym na dysku jakiegoś komputera. URI zasobów nie muszą wskazywać plików – mogą reprezentować dowolne obiekty/byty obecne w świecie rzeczywistym.\n",
        "To co utworzymy za pomocą języka RDF, również jest zasobem internetowym.\n",
        "\n",
        "\n",
        "\n",
        "Znaczenie danego URI zależy od właściciela domeny (jego pożądane interpretacja jest umowna).\n",
        "RDF oferuje jednolity, rekursywny, elastyczny i potężny w swojej prostocie model danych \n",
        "przystosowany do zapisu różnego rodzaju informacji\n",
        "Pierwszym krokiem tworzenia grafu RDF dla pewnej dziedziny jest przydzielenie pewnego wydzielonego adresu (np. http://makolab.pl/vocab) jako identyfikatora/bazy słownika nazw zasobów.\n",
        "Odnośnik URI zasobu składa się z bazy, po którym następuje znak „/” lub „#”, a następnie identyfikator danego fragmentu (np. http://makolab.pl/vocab/Departament).\n",
        "W odnośniki URI rozróżniane są małe i duże litery!\n",
        "Każdy zasób musi posiadać identyfikator IRI (Internationalized Resource Identifier). W IRI mogą pojawić się znaki z Uniwersalnego Zestawu Znaków (UCS – Universal Character Set) określonego przez normę ISO/IEC 10646. IRI jest uogólnieniem URI (tylko znaki ASCII). URL jest ważnym przykładem URI.   \n",
        "\n",
        "\n",
        "\n",
        "RDF\n",
        "\n",
        "Ujednolica podstawową jednostkę informacji: trójkę, stanowiącą najprostszy rodzaj zdania.\n",
        "W centrum uwagi jest nie składnia (syntaksa) ale jej znaczenie (semantyka).\n",
        "Skupia się na wykorzystywanym słownictwie, w szczególności orzeczeniach (zob. RDFS i OWL).\n",
        "Umożliwia przeprowadzanie wnioskowania, w wyniku którego kolekcję janiwe wyspecyfikowanych trójek możemy uzupełnić o trójki z nich wynikające, ale jawnie niepodane.\n",
        "\n",
        "\n",
        "\n",
        "\n",
        "\n"
      ]
    },
    {
      "cell_type": "code",
      "execution_count": null,
      "id": "3be7ba0d",
      "metadata": {
        "id": "3be7ba0d"
      },
      "outputs": [],
      "source": [
        ""
      ]
    }
  ],
  "metadata": {
    "kernelspec": {
      "display_name": "Python 3 (ipykernel)",
      "language": "python",
      "name": "python3"
    },
    "language_info": {
      "codemirror_mode": {
        "name": "ipython",
        "version": 3
      },
      "file_extension": ".py",
      "mimetype": "text/x-python",
      "name": "python",
      "nbconvert_exporter": "python",
      "pygments_lexer": "ipython3",
      "version": "3.9.2"
    },
    "colab": {
      "name": "ontologia_wprowadzenie.ipynb",
      "provenance": [],
      "toc_visible": true
    },
    "widgets": {
      "application/vnd.jupyter.widget-state+json": {
        "8138ed7a1e6947548492f1e44d006520": {
          "model_module": "yfiles-jupyter-graphs",
          "model_name": "GraphModel",
          "model_module_version": "^1.1.0",
          "state": {
            "_context_pane_mapping": [
              {
                "id": "Neighborhood",
                "title": "Neighborhood"
              },
              {
                "id": "Data",
                "title": "Data"
              },
              {
                "id": "Search",
                "title": "Search"
              },
              {
                "id": "About",
                "title": "About"
              }
            ],
            "_directed": false,
            "_dom_classes": [],
            "_edges": [
              {
                "id": 0,
                "start": 0,
                "end": 2,
                "properties": {},
                "label": "0",
                "color": "#094c4b",
                "thickness_factor": 1,
                "directed": false
              },
              {
                "id": 1,
                "start": 0,
                "end": 3,
                "properties": {},
                "label": "1",
                "color": "#094c4b",
                "thickness_factor": 1,
                "directed": false
              },
              {
                "id": 2,
                "start": 0,
                "end": 11,
                "properties": {},
                "label": "2",
                "color": "#094c4b",
                "thickness_factor": 1,
                "directed": false
              },
              {
                "id": 3,
                "start": 1,
                "end": 2,
                "properties": {},
                "label": "3",
                "color": "#094c4b",
                "thickness_factor": 1,
                "directed": false
              },
              {
                "id": 4,
                "start": 1,
                "end": 3,
                "properties": {},
                "label": "4",
                "color": "#094c4b",
                "thickness_factor": 1,
                "directed": false
              },
              {
                "id": 5,
                "start": 2,
                "end": 3,
                "properties": {},
                "label": "5",
                "color": "#094c4b",
                "thickness_factor": 1,
                "directed": false
              },
              {
                "id": 6,
                "start": 3,
                "end": 4,
                "properties": {},
                "label": "6",
                "color": "#094c4b",
                "thickness_factor": 1,
                "directed": false
              },
              {
                "id": 7,
                "start": 4,
                "end": 6,
                "properties": {},
                "label": "7",
                "color": "#094c4b",
                "thickness_factor": 1,
                "directed": false
              },
              {
                "id": 8,
                "start": 4,
                "end": 7,
                "properties": {},
                "label": "8",
                "color": "#094c4b",
                "thickness_factor": 1,
                "directed": false
              },
              {
                "id": 9,
                "start": 5,
                "end": 6,
                "properties": {},
                "label": "9",
                "color": "#094c4b",
                "thickness_factor": 1,
                "directed": false
              },
              {
                "id": 10,
                "start": 5,
                "end": 7,
                "properties": {},
                "label": "10",
                "color": "#094c4b",
                "thickness_factor": 1,
                "directed": false
              },
              {
                "id": 11,
                "start": 6,
                "end": 7,
                "properties": {},
                "label": "11",
                "color": "#094c4b",
                "thickness_factor": 1,
                "directed": false
              },
              {
                "id": 12,
                "start": 7,
                "end": 8,
                "properties": {},
                "label": "12",
                "color": "#094c4b",
                "thickness_factor": 1,
                "directed": false
              },
              {
                "id": 13,
                "start": 8,
                "end": 10,
                "properties": {},
                "label": "13",
                "color": "#094c4b",
                "thickness_factor": 1,
                "directed": false
              },
              {
                "id": 14,
                "start": 8,
                "end": 11,
                "properties": {},
                "label": "14",
                "color": "#094c4b",
                "thickness_factor": 1,
                "directed": false
              },
              {
                "id": 15,
                "start": 9,
                "end": 10,
                "properties": {},
                "label": "15",
                "color": "#094c4b",
                "thickness_factor": 1,
                "directed": false
              },
              {
                "id": 16,
                "start": 9,
                "end": 11,
                "properties": {},
                "label": "16",
                "color": "#094c4b",
                "thickness_factor": 1,
                "directed": false
              },
              {
                "id": 17,
                "start": 10,
                "end": 11,
                "properties": {},
                "label": "17",
                "color": "#094c4b",
                "thickness_factor": 1,
                "directed": false
              }
            ],
            "_graph_layout": {},
            "_highlight": [],
            "_model_module": "yfiles-jupyter-graphs",
            "_model_module_version": "^1.1.0",
            "_model_name": "GraphModel",
            "_neighborhood": {},
            "_nodes": [
              {
                "id": 0,
                "properties": {
                  "label": "0"
                },
                "label": "0",
                "color": "#17bebb",
                "scale_factor": 1,
                "type": null,
                "position": [
                  0,
                  0
                ]
              },
              {
                "id": 1,
                "properties": {
                  "label": "1"
                },
                "label": "1",
                "color": "#17bebb",
                "scale_factor": 1,
                "type": null,
                "position": [
                  0,
                  0
                ]
              },
              {
                "id": 2,
                "properties": {
                  "label": "2"
                },
                "label": "2",
                "color": "#17bebb",
                "scale_factor": 1,
                "type": null,
                "position": [
                  0,
                  0
                ]
              },
              {
                "id": 3,
                "properties": {
                  "label": "3"
                },
                "label": "3",
                "color": "#17bebb",
                "scale_factor": 1,
                "type": null,
                "position": [
                  0,
                  0
                ]
              },
              {
                "id": 4,
                "properties": {
                  "label": "4"
                },
                "label": "4",
                "color": "#17bebb",
                "scale_factor": 1,
                "type": null,
                "position": [
                  0,
                  0
                ]
              },
              {
                "id": 5,
                "properties": {
                  "label": "5"
                },
                "label": "5",
                "color": "#17bebb",
                "scale_factor": 1,
                "type": null,
                "position": [
                  0,
                  0
                ]
              },
              {
                "id": 6,
                "properties": {
                  "label": "6"
                },
                "label": "6",
                "color": "#17bebb",
                "scale_factor": 1,
                "type": null,
                "position": [
                  0,
                  0
                ]
              },
              {
                "id": 7,
                "properties": {
                  "label": "7"
                },
                "label": "7",
                "color": "#17bebb",
                "scale_factor": 1,
                "type": null,
                "position": [
                  0,
                  0
                ]
              },
              {
                "id": 8,
                "properties": {
                  "label": "8"
                },
                "label": "8",
                "color": "#17bebb",
                "scale_factor": 1,
                "type": null,
                "position": [
                  0,
                  0
                ]
              },
              {
                "id": 9,
                "properties": {
                  "label": "9"
                },
                "label": "9",
                "color": "#17bebb",
                "scale_factor": 1,
                "type": null,
                "position": [
                  0,
                  0
                ]
              },
              {
                "id": 10,
                "properties": {
                  "label": "10"
                },
                "label": "10",
                "color": "#17bebb",
                "scale_factor": 1,
                "type": null,
                "position": [
                  0,
                  0
                ]
              },
              {
                "id": 11,
                "properties": {
                  "label": "11"
                },
                "label": "11",
                "color": "#17bebb",
                "scale_factor": 1,
                "type": null,
                "position": [
                  0,
                  0
                ]
              }
            ],
            "_overview": {
              "enabled": null,
              "overview_set": false
            },
            "_sidebar": {
              "enabled": true,
              "start_with": ""
            },
            "_svg": "",
            "_view_count": null,
            "_view_module": "yfiles-jupyter-graphs",
            "_view_module_version": "^1.1.0",
            "_view_name": "GraphView",
            "layout": "IPY_MODEL_f4244207f0994788933306727571dae9"
          }
        }
      }
    }
  },
  "nbformat": 4,
  "nbformat_minor": 5
}