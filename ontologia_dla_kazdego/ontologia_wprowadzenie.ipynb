{
 "cells": [
  {
   "cell_type": "markdown",
   "id": "a5mQo-08Q-_p",
   "metadata": {
    "id": "a5mQo-08Q-_p"
   },
   "source": [
    "# Wprowadznie do sieci semantycznej i ontologii"
   ]
  },
  {
   "cell_type": "markdown",
   "id": "65e7b5c0",
   "metadata": {
    "id": "65e7b5c0"
   },
   "source": [
    "## RDF czyli system opisu zasobów\n",
    "\n",
    "### RDF – Resource Description Framework\n",
    "\n",
    "<img src=\"https://upload.wikimedia.org/wikipedia/commons/f/f3/Rdf_logo.svg\"\n",
    "     alt=\"RDF logo\" align=\"right\" width=\"100\" height=\"100\"/>\n",
    "     \n",
    "RDF to skrót angielskiej nazyw *Resource Description Framework*, czyli system opisu zasobów. RDF jest standardem kodowania metadanych.\n",
    "Metadane to takie dane, które są meta, czyli służą do opisu innych danych.\n",
    "Pierwsza wersja standardu RDF została wydana przez W3C w 1997 roku (nota bene razem ze pierwszą specyfikacją języka XML).Standard RDF jest jednym z filarów Semantycznego Internetu (Semantic Web).\n",
    "\n",
    "\n",
    "### Trójki i identyfikatory URI\n",
    "\n",
    "Wszystko jest zasobem (ang. *resource*). O zasobach wypowiadamy się za pomocą prostych zdań zwanych trójkami RDF postaci:\n",
    "\n",
    "`(podmiot, orzeczenie, dopełnienie)`\n",
    "\n",
    "Orzeczenie nazywane jest często predykatem i jest relacją włączącą podmiot z dopełnieniem. Dopełnienie może być obiektem lub wartością (literałem):\n",
    "\n",
    "<img src='../pliki_yEd/trojki.png'>\n",
    "\n",
    "Wypowiadamy się tylko o zasobach identyfikowanych adresem URI. URI to skrót od *Uniform Resource Identifier* (ujednolicony identyfikator zasobu). W RDF, jeśli chcemy powiedzieć, że Jan lubi Anię lub chcemy wyrazić fakt, że Jan ma 186cm wzrostu, to musimy najpierw stworzyć identyfiaktory dla Jana, Ani oraz predykatów lubi i ma wzrost.\n",
    "\n",
    "<img src='../pliki_yEd/trojki_przyklad.png'>\n",
    "\n",
    "\n",
    "URI to URL, np. `http://ai.kul.pl/vocab/Jan`\n",
    "\n",
    "\n",
    "<img src='../pliki_yEd/trojki_przyklad_uri.png'>\n",
    "\n",
    "Rola powiązań RDF wybiega daleko poza koncepcję/mechanizm odnośników na stronach WWW.\n",
    "Powiązania w RDF są „etykietowane”.\n",
    "Powiązania RDF mogą łączyć te same zasoby na różne sposoby, np. oddające różne punkty widzenia. Nie istnieją natomiast zasadniczo różne rodzaje hiperłączy.\n",
    "Powiązanie RDF nie są też przewidziane do bezpośredniego wykorzystania jak hierłącza.\n",
    "Hiperłącza może zamieszczać na stronie WWW jedynie osoba zarządzająca stroną. Powiązania RDF może tworzyć każdy.\n",
    "Zasoby to nie tylko strony WWW! Za pomocą RDF można opisywać np. pliki mp3 czy zdjęcia.\n",
    "Najważniejsze: zasoby do których odnosimy się w trójkach RDF nie muszą być faktycznie „czymś” zapisanym na dysku jakiegoś komputera. URI zasobów nie muszą wskazywać plików – mogą reprezentować dowolne obiekty/byty obecne w świecie rzeczywistym.\n",
    "To co utworzymy za pomocą języka RDF, również jest zasobem internetowym.\n",
    "\n",
    "\n",
    "Znaczenie danego URI zależy od właściciela domeny (jego pożądane interpretacja jest umowna).\n",
    "RDF oferuje jednolity, rekursywny, elastyczny i potężny w swojej prostocie model danych \n",
    "przystosowany do zapisu różnego rodzaju informacji\n",
    "Pierwszym krokiem tworzenia grafu RDF dla pewnej dziedziny jest przydzielenie pewnego wydzielonego adresu (np. `http://ai.kul.pl/vocab`) jako identyfikatora/bazy słownika nazw zasobów.\n",
    "Odnośnik URI zasobu składa się z bazy, po którym następuje znak „/” lub „#”, a następnie identyfikator danego fragmentu (np. `http://ai.kul.pl/Ania`).\n",
    "W odnośniki URI rozróżniane są małe i duże litery!\n",
    "\n",
    "Każdy zasób musi posiadać identyfikator IRI (Internationalized Resource Identifier). W IRI mogą pojawić się znaki z Uniwersalnego Zestawu Znaków (UCS – Universal Character Set) określonego przez normę ISO/IEC 10646. IRI jest uogólnieniem URI (tylko znaki ASCII). URL jest ważnym przykładem URI.   \n",
    "\n",
    "\n",
    "\n",
    "\n",
    "\n",
    "Podmiot:\n",
    "\n",
    "- Odnośnik URI\n",
    "- Węzeł anonimowy\n",
    "\n",
    "Orzecznik:\n",
    "\n",
    "- Odnośnik URI\n",
    "\n",
    "Dopełnienie:\n",
    "\n",
    "- Odnośnik URI\n",
    "- Węzeł anonimowy\n",
    "- Literał\n",
    "\n",
    "\n",
    "Graf RDF = zbiór trójek RDF\n"
   ]
  },
  {
   "cell_type": "markdown",
   "id": "0133b4ba",
   "metadata": {
    "id": "3be7ba0d"
   },
   "source": [
    "## Serializacje"
   ]
  },
  {
   "cell_type": "code",
   "execution_count": null,
   "id": "ead1ac54",
   "metadata": {},
   "outputs": [],
   "source": []
  }
 ],
 "metadata": {
  "colab": {
   "name": "ontologia_wprowadzenie.ipynb",
   "provenance": [],
   "toc_visible": true
  },
  "kernelspec": {
   "display_name": "Python 3 (ipykernel)",
   "language": "python",
   "name": "python3"
  },
  "language_info": {
   "codemirror_mode": {
    "name": "ipython",
    "version": 3
   },
   "file_extension": ".py",
   "mimetype": "text/x-python",
   "name": "python",
   "nbconvert_exporter": "python",
   "pygments_lexer": "ipython3",
   "version": "3.9.2"
  },
  "widgets": {
   "application/vnd.jupyter.widget-state+json": {
    "8138ed7a1e6947548492f1e44d006520": {
     "model_module": "yfiles-jupyter-graphs",
     "model_module_version": "^1.1.0",
     "model_name": "GraphModel",
     "state": {
      "_context_pane_mapping": [
       {
        "id": "Neighborhood",
        "title": "Neighborhood"
       },
       {
        "id": "Data",
        "title": "Data"
       },
       {
        "id": "Search",
        "title": "Search"
       },
       {
        "id": "About",
        "title": "About"
       }
      ],
      "_directed": false,
      "_dom_classes": [],
      "_edges": [
       {
        "color": "#094c4b",
        "directed": false,
        "end": 2,
        "id": 0,
        "label": "0",
        "properties": {},
        "start": 0,
        "thickness_factor": 1
       },
       {
        "color": "#094c4b",
        "directed": false,
        "end": 3,
        "id": 1,
        "label": "1",
        "properties": {},
        "start": 0,
        "thickness_factor": 1
       },
       {
        "color": "#094c4b",
        "directed": false,
        "end": 11,
        "id": 2,
        "label": "2",
        "properties": {},
        "start": 0,
        "thickness_factor": 1
       },
       {
        "color": "#094c4b",
        "directed": false,
        "end": 2,
        "id": 3,
        "label": "3",
        "properties": {},
        "start": 1,
        "thickness_factor": 1
       },
       {
        "color": "#094c4b",
        "directed": false,
        "end": 3,
        "id": 4,
        "label": "4",
        "properties": {},
        "start": 1,
        "thickness_factor": 1
       },
       {
        "color": "#094c4b",
        "directed": false,
        "end": 3,
        "id": 5,
        "label": "5",
        "properties": {},
        "start": 2,
        "thickness_factor": 1
       },
       {
        "color": "#094c4b",
        "directed": false,
        "end": 4,
        "id": 6,
        "label": "6",
        "properties": {},
        "start": 3,
        "thickness_factor": 1
       },
       {
        "color": "#094c4b",
        "directed": false,
        "end": 6,
        "id": 7,
        "label": "7",
        "properties": {},
        "start": 4,
        "thickness_factor": 1
       },
       {
        "color": "#094c4b",
        "directed": false,
        "end": 7,
        "id": 8,
        "label": "8",
        "properties": {},
        "start": 4,
        "thickness_factor": 1
       },
       {
        "color": "#094c4b",
        "directed": false,
        "end": 6,
        "id": 9,
        "label": "9",
        "properties": {},
        "start": 5,
        "thickness_factor": 1
       },
       {
        "color": "#094c4b",
        "directed": false,
        "end": 7,
        "id": 10,
        "label": "10",
        "properties": {},
        "start": 5,
        "thickness_factor": 1
       },
       {
        "color": "#094c4b",
        "directed": false,
        "end": 7,
        "id": 11,
        "label": "11",
        "properties": {},
        "start": 6,
        "thickness_factor": 1
       },
       {
        "color": "#094c4b",
        "directed": false,
        "end": 8,
        "id": 12,
        "label": "12",
        "properties": {},
        "start": 7,
        "thickness_factor": 1
       },
       {
        "color": "#094c4b",
        "directed": false,
        "end": 10,
        "id": 13,
        "label": "13",
        "properties": {},
        "start": 8,
        "thickness_factor": 1
       },
       {
        "color": "#094c4b",
        "directed": false,
        "end": 11,
        "id": 14,
        "label": "14",
        "properties": {},
        "start": 8,
        "thickness_factor": 1
       },
       {
        "color": "#094c4b",
        "directed": false,
        "end": 10,
        "id": 15,
        "label": "15",
        "properties": {},
        "start": 9,
        "thickness_factor": 1
       },
       {
        "color": "#094c4b",
        "directed": false,
        "end": 11,
        "id": 16,
        "label": "16",
        "properties": {},
        "start": 9,
        "thickness_factor": 1
       },
       {
        "color": "#094c4b",
        "directed": false,
        "end": 11,
        "id": 17,
        "label": "17",
        "properties": {},
        "start": 10,
        "thickness_factor": 1
       }
      ],
      "_graph_layout": {},
      "_highlight": [],
      "_model_module": "yfiles-jupyter-graphs",
      "_model_module_version": "^1.1.0",
      "_model_name": "GraphModel",
      "_neighborhood": {},
      "_nodes": [
       {
        "color": "#17bebb",
        "id": 0,
        "label": "0",
        "position": [
         0,
         0
        ],
        "properties": {
         "label": "0"
        },
        "scale_factor": 1,
        "type": null
       },
       {
        "color": "#17bebb",
        "id": 1,
        "label": "1",
        "position": [
         0,
         0
        ],
        "properties": {
         "label": "1"
        },
        "scale_factor": 1,
        "type": null
       },
       {
        "color": "#17bebb",
        "id": 2,
        "label": "2",
        "position": [
         0,
         0
        ],
        "properties": {
         "label": "2"
        },
        "scale_factor": 1,
        "type": null
       },
       {
        "color": "#17bebb",
        "id": 3,
        "label": "3",
        "position": [
         0,
         0
        ],
        "properties": {
         "label": "3"
        },
        "scale_factor": 1,
        "type": null
       },
       {
        "color": "#17bebb",
        "id": 4,
        "label": "4",
        "position": [
         0,
         0
        ],
        "properties": {
         "label": "4"
        },
        "scale_factor": 1,
        "type": null
       },
       {
        "color": "#17bebb",
        "id": 5,
        "label": "5",
        "position": [
         0,
         0
        ],
        "properties": {
         "label": "5"
        },
        "scale_factor": 1,
        "type": null
       },
       {
        "color": "#17bebb",
        "id": 6,
        "label": "6",
        "position": [
         0,
         0
        ],
        "properties": {
         "label": "6"
        },
        "scale_factor": 1,
        "type": null
       },
       {
        "color": "#17bebb",
        "id": 7,
        "label": "7",
        "position": [
         0,
         0
        ],
        "properties": {
         "label": "7"
        },
        "scale_factor": 1,
        "type": null
       },
       {
        "color": "#17bebb",
        "id": 8,
        "label": "8",
        "position": [
         0,
         0
        ],
        "properties": {
         "label": "8"
        },
        "scale_factor": 1,
        "type": null
       },
       {
        "color": "#17bebb",
        "id": 9,
        "label": "9",
        "position": [
         0,
         0
        ],
        "properties": {
         "label": "9"
        },
        "scale_factor": 1,
        "type": null
       },
       {
        "color": "#17bebb",
        "id": 10,
        "label": "10",
        "position": [
         0,
         0
        ],
        "properties": {
         "label": "10"
        },
        "scale_factor": 1,
        "type": null
       },
       {
        "color": "#17bebb",
        "id": 11,
        "label": "11",
        "position": [
         0,
         0
        ],
        "properties": {
         "label": "11"
        },
        "scale_factor": 1,
        "type": null
       }
      ],
      "_overview": {
       "enabled": null,
       "overview_set": false
      },
      "_sidebar": {
       "enabled": true,
       "start_with": ""
      },
      "_svg": "",
      "_view_count": null,
      "_view_module": "yfiles-jupyter-graphs",
      "_view_module_version": "^1.1.0",
      "_view_name": "GraphView",
      "layout": "IPY_MODEL_f4244207f0994788933306727571dae9"
     }
    }
   }
  }
 },
 "nbformat": 4,
 "nbformat_minor": 5
}
