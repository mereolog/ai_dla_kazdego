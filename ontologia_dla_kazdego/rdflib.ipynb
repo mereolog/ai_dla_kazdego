{
  "cells": [
    {
      "cell_type": "markdown",
      "metadata": {
        "id": "poUWVH46HwbO"
      },
      "source": [
        "# Praca z pakietem RDFLib, czyli na początku była trójka\n",
        "\n",
        "\n",
        "## O pakiecie RDFLib\n",
        "  \n",
        "RDFLib to pakiet Pythona przeznaczony do pracy z grafami RDF. Nic dziwnego, że podstawowym obiektem jest tu `Graph`. `Graf` w RDFLib jest zbioram trójek. Można więc na nim wykonywać operacje jak na zwykłych zbiorach, np. `add()`, aby dodać trójkę do grafu, oraz inne metody, które szukają i zwracają trójki w dowolnej kolejności.\n",
        "\n",
        "\n",
        "W skład pakietu RDFLib wchodzą:\n",
        "- parsery i serializatory dla `RDF/XML, N3, NTriples, N-Quads, Turtle, TriX, RDFa, Microdata` i `JSON-LD`\n",
        "- baza trójek (ang. *triple store*) do podręcznego przechowywania trójek w pamięci, jak też ich trwałego przechowywania w bazie Berkeley\n",
        "- mechanizmy inferencji zarówno dla pojedynczego grafu jak i wielu grafów nazwanych (ang. *named graphs*)\n",
        "- implementacja `SPARQL 1.1`, w tym obsługa kwerend typu `SELECT` i `UPDATE`.   \n",
        "     \n",
        "\n",
        "Dokumentacja pakietu oraz dyskusje społeczności rozwijającej ten pakiet są dostępne pod adresami:\n",
        "- [https://rdflib.readthedocs.io/en/stable/](https://rdflib.readthedocs.io/en/stable/)\n",
        "- [https://github.com/RDFLib/rdflib/](https://github.com/RDFLib/rdflib/)\n",
        "- [https://www.w3.org/RDF/](https://www.w3.org/RDF/)\n",
        "- [http://groups.google.com/group/rdflib-dev](http://groups.google.com/group/rdflib-dev)"
      ]
    },
    {
      "cell_type": "markdown",
      "metadata": {
        "id": "fVsH1Gv1HwbR"
      },
      "source": [
        "## Instalacja\n",
        "\n",
        "RDFLib instalujemy za pomocą komendy  ```!pip3 install rdflib``` (lub ```!pip install rdflib```)"
      ]
    },
    {
      "cell_type": "code",
      "execution_count": 3,
      "metadata": {
        "id": "X2H71gKwHwbR",
        "outputId": "14ba3fa5-f44e-45e8-ea20-adb2d42782c5",
        "colab": {
          "base_uri": "https://localhost:8080/"
        }
      },
      "outputs": [
        {
          "output_type": "stream",
          "name": "stdout",
          "text": [
            "Looking in indexes: https://pypi.org/simple, https://us-python.pkg.dev/colab-wheels/public/simple/\n",
            "Collecting rdflib\n",
            "  Downloading rdflib-6.1.1-py3-none-any.whl (482 kB)\n",
            "\u001b[K     |████████████████████████████████| 482 kB 5.1 MB/s \n",
            "\u001b[?25hRequirement already satisfied: importlib-metadata in /usr/local/lib/python3.7/dist-packages (from rdflib) (4.11.4)\n",
            "Requirement already satisfied: setuptools in /usr/local/lib/python3.7/dist-packages (from rdflib) (57.4.0)\n",
            "Requirement already satisfied: pyparsing in /usr/local/lib/python3.7/dist-packages (from rdflib) (3.0.9)\n",
            "Collecting isodate\n",
            "  Downloading isodate-0.6.1-py2.py3-none-any.whl (41 kB)\n",
            "\u001b[K     |████████████████████████████████| 41 kB 570 kB/s \n",
            "\u001b[?25hRequirement already satisfied: zipp>=0.5 in /usr/local/lib/python3.7/dist-packages (from importlib-metadata->rdflib) (3.8.0)\n",
            "Requirement already satisfied: typing-extensions>=3.6.4 in /usr/local/lib/python3.7/dist-packages (from importlib-metadata->rdflib) (4.1.1)\n",
            "Requirement already satisfied: six in /usr/local/lib/python3.7/dist-packages (from isodate->rdflib) (1.15.0)\n",
            "Installing collected packages: isodate, rdflib\n",
            "Successfully installed isodate-0.6.1 rdflib-6.1.1\n"
          ]
        }
      ],
      "source": [
        "!pip3 install rdflib"
      ]
    },
    {
      "cell_type": "markdown",
      "metadata": {
        "id": "0MVAV4QkHwbS"
      },
      "source": [
        "Aby korzystać z tego pakietu importuje go w następujący sposób:"
      ]
    },
    {
      "cell_type": "code",
      "execution_count": 4,
      "metadata": {
        "id": "B0Y2kSI4HwbS"
      },
      "outputs": [],
      "source": [
        "import rdflib"
      ]
    },
    {
      "cell_type": "markdown",
      "metadata": {
        "id": "BLt_1-FWHwbS"
      },
      "source": [
        "## Parsujemy istniejący graf\n",
        "\n",
        "Najpierw zobacz jakie informacje kryją się pod linkiem http://www.w3.org/People/Berners-Lee. Zobaczysz mało ciekawą stronę www bardzo ciekawego człowieka. Jest jednak coś interesującego w tej stronie; informacje, które się na niej znajdują są również zapisane i udostępnione za pomocą grafu. Sieć semantyczna daje nam narzędzia, aby tego typu grafy przetwarzać w dololny sposób. Spróbujmy!"
      ]
    },
    {
      "cell_type": "code",
      "execution_count": null,
      "metadata": {
        "id": "v8SgXPZUHwbT",
        "outputId": "fd02a079-7c9f-4510-b99a-5fc174c70c94"
      },
      "outputs": [
        {
          "data": {
            "text/plain": [
              "<Graph identifier=N5ce30e5c93a9450aa0c48d7a558fadc5 (<class 'rdflib.graph.Graph'>)>"
            ]
          },
          "execution_count": 19,
          "metadata": {},
          "output_type": "execute_result"
        }
      ],
      "source": [
        "# Utwórz pusty graf o nazwie g_tbl (\"tbl\" od Tim Berners-Lee).\n",
        "from rdflib import Graph\n",
        "g_tbl = Graph()\n",
        "\n",
        "# Wypełnij graf trójkami z grafu kryjącego się pod \"http://www.w3.org/People/Berners-Lee/card\".\n",
        "g_tbl.parse(source='http://www.w3.org/People/Berners-Lee/card', format='xml')"
      ]
    },
    {
      "cell_type": "markdown",
      "metadata": {
        "id": "BpEfGvK3HwbT"
      },
      "source": [
        "Jeśli nie podasz formatu w jakim został zapisany graf, RDFLib założy, że jest to RDF/XML (nie musieliśmy więc w komórce wyżej dodawać `format='xml'`). \n",
        "\n",
        "Jeśli nie jesteśmy pewni serializacji grafu, możemy skorzystać z funkcji `rdflib.util.guess_format()`, która zgaduje serializację grafu na podstawie rozszerzenie pliku (jeśli mamy tylko URL grafu, jak np. \"http://www.w3.org/People/Berners-Lee/card\", to funkcja ta na nic się zda)."
      ]
    },
    {
      "cell_type": "code",
      "execution_count": null,
      "metadata": {
        "id": "A4cLQ9CJHwbT",
        "outputId": "79402685-09a5-4ba4-e66a-bdfeb58f5acb"
      },
      "outputs": [
        {
          "name": "stdout",
          "output_type": "stream",
          "text": [
            "Format twojego grafu to: xml\n",
            "Format twojego grafu to: turtle\n",
            "Format twojego grafu to: None\n"
          ]
        }
      ],
      "source": [
        "from rdflib.util import guess_format\n",
        "print('Format twojego grafu to:', guess_format('my_file.rdf'))\n",
        "print('Format twojego grafu to:', guess_format('my_file.ttl'))\n",
        "print('Format twojego grafu to:', guess_format('http://www.w3.org/People/Berners-Lee/card'))"
      ]
    },
    {
      "cell_type": "markdown",
      "metadata": {
        "id": "0YfmSH7nHwbT"
      },
      "source": [
        "Wróćmy jednak do naszego grafu `g_tbl`."
      ]
    },
    {
      "cell_type": "code",
      "execution_count": null,
      "metadata": {
        "id": "5rdv8QMuHwbT",
        "outputId": "17941e06-5843-49e5-94df-c1e0955376c4"
      },
      "outputs": [
        {
          "name": "stdout",
          "output_type": "stream",
          "text": [
            "Graph g_tbl ma 86 trójek.\n"
          ]
        }
      ],
      "source": [
        "# Sprawdźmy ile trójek jest w grafie g_tbl.\n",
        "print(\"Graph g_tbl ma {} trójek.\".format(len(g_tbl)))"
      ]
    },
    {
      "cell_type": "code",
      "execution_count": null,
      "metadata": {
        "id": "os_wolIUHwbU",
        "outputId": "71041fbc-30d5-4ba4-dd22-5e49617d86f5"
      },
      "outputs": [
        {
          "name": "stdout",
          "output_type": "stream",
          "text": [
            "@prefix cc: <http://creativecommons.org/ns#> .\n",
            "@prefix cert: <http://www.w3.org/ns/auth/cert#> .\n",
            "@prefix con: <http://www.w3.org/2000/10/swap/pim/contact#> .\n",
            "@prefix dc: <http://purl.org/dc/elements/1.1/> .\n",
            "@prefix dcterms: <http://purl.org/dc/terms/> .\n",
            "@prefix doap: <http://usefulinc.com/ns/doap#> .\n",
            "@prefix foaf: <http://xmlns.com/foaf/0.1/> .\n",
            "@prefix geo: <http://www.w3.org/2003/01/geo/wgs84_pos#> .\n",
            "@prefix ldp: <http://www.w3.org/ns/ldp#> .\n",
            "@prefix rdfs: <http://www.w3.org/2000/01/rdf-schema#> .\n",
            "@prefix schema1: <http://schema.org/> .\n",
            "@prefix sioc: <http://rdfs.org/sioc/ns#> .\n",
            "@prefix solid: <http://www.w3.org/ns/solid/terms#> .\n",
            "@prefix space: <http://www.w3.org/ns/pim/space#> .\n",
            "@prefix vcard: <http://www.w3.org/2006/vcard/ns#> .\n",
            "@prefix xsd: <http://www.w3.org/2001/XMLSchema#> .\n",
            "\n",
            "<http://dig.csail.mit.edu/2005/ajar/ajaw/data#Tabulator> doap:developer <https://www.w3.org/People/Berners-Lee/card#i> .\n",
            "\n",
            "<http://dig.csail.mit.edu/2007/01/camp/data#course> foaf:maker <https://www.w3.org/People/Berners-Lee/card#i> .\n",
            "\n",
            "<http://dig.csail.mit.edu/data#DIG> foaf:member <https://www.w3.org/People/Berners-Lee/card#i> .\n",
            "\n",
            "<http://wiki.ontoworld.org/index.php/_IRW2006> dc:title \"Identity, Reference and the Web workshop 2006\" ;\n",
            "    con:participant <https://www.w3.org/People/Berners-Lee/card#i> .\n",
            "\n",
            "<http://www.ecs.soton.ac.uk/~dt2/dlstuff/www2006_data#panel-panelk01> rdfs:label \"The Next Wave of the Web (Plenary Panel)\" ;\n",
            "    con:participant <https://www.w3.org/People/Berners-Lee/card#i> .\n",
            "\n",
            "<http://www.w3.org/2000/10/swap/data#Cwm> doap:developer <https://www.w3.org/People/Berners-Lee/card#i> .\n",
            "\n",
            "<http://www.w3.org/2011/Talks/0331-hyderabad-tbl/data#talk> dcterms:title \"Designing the Web for an Open Society\" ;\n",
            "    foaf:maker <https://www.w3.org/People/Berners-Lee/card#i> .\n",
            "\n",
            "<http://www.w3.org/DesignIssues/Overview.html> dc:title \"Design Issues for the World Wide Web\" ;\n",
            "    foaf:maker <https://www.w3.org/People/Berners-Lee/card#i> .\n",
            "\n",
            "<http://www.w3.org/People/Berners-Lee/card> a foaf:PersonalProfileDocument ;\n",
            "    cc:license <http://creativecommons.org/licenses/by-nc/3.0/> ;\n",
            "    dc:title \"Tim Berners-Lee's FOAF file\" ;\n",
            "    foaf:maker <https://www.w3.org/People/Berners-Lee/card#i> ;\n",
            "    foaf:primaryTopic <https://www.w3.org/People/Berners-Lee/card#i> .\n",
            "\n",
            "<http://www.w3.org/People/Berners-Lee/card#i> cert:key [ a cert:RSAPublicKey ;\n",
            "            cert:exponent 65537 ;\n",
            "            cert:modulus \"ebe99c737bd3670239600547e5e2eb1d1497da39947b6576c3c44ffeca32cf0f2f7cbee3c47001278a90fc7fc5bcf292f741eb1fcd6bbe7f90650afb519cf13e81b2bffc6e02063ee5a55781d420b1dfaf61c15758480e66d47fb0dcb5fa7b9f7f1052e5ccbd01beee9553c3b6b51f4daf1fce991294cd09a3d1d636bc6c7656e4455d0aff06daec740ed0084aa6866fcae1359de61cc12dbe37c8fa42e977c6e727a8258bb9a3f265b27e3766fe0697f6aa0bcc81c3f026e387bd7bbc81580dc1853af2daa099186a9f59da526474ef6ec0a3d84cf400be3261b6b649dea1f78184862d34d685d2d587f09acc14cd8e578fdd2283387821296f0af39b8d8845\"^^xsd:hexBinary ] .\n",
            "\n",
            "<http://www.w3.org/data#W3C> foaf:member <https://www.w3.org/People/Berners-Lee/card#i> .\n",
            "\n",
            "<http://dig.csail.mit.edu/breadcrumbs/blog/4> dc:title \"timbl's blog on DIG\" ;\n",
            "    rdfs:seeAlso <http://dig.csail.mit.edu/breadcrumbs/blog/feed/4> ;\n",
            "    foaf:maker <https://www.w3.org/People/Berners-Lee/card#i> .\n",
            "\n",
            "<https://timbl.com/timbl/Public/friends.ttl> a foaf:PersonalProfileDocument ;\n",
            "    cc:license <http://creativecommons.org/licenses/by-nc/3.0/> ;\n",
            "    dc:title \"Tim Berners-Lee's editable profile\" ;\n",
            "    foaf:maker <https://www.w3.org/People/Berners-Lee/card#i> ;\n",
            "    foaf:primaryTopic <https://www.w3.org/People/Berners-Lee/card#i> .\n",
            "\n",
            "<https://www.w3.org/People/Berners-Lee/card#i> a con:Male,\n",
            "        foaf:Person ;\n",
            "    rdfs:label \"Tim Berners-Lee\" ;\n",
            "    sioc:avatar <http://www.w3.org/People/Berners-Lee/images/timbl-image-by-Coz-cropped.jpg> ;\n",
            "    schema1:owns <https://timblbot.inrupt.net/profile/card#me> ;\n",
            "    rdfs:seeAlso <https://timbl.com/timbl/Public/friends.ttl> ;\n",
            "    con:assistant <https://www.w3.org/People/Berners-Lee/card#amy> ;\n",
            "    con:homePage <http://www.w3.org/People/Berners-Lee/> ;\n",
            "    con:office [ con:address [ con:city \"Cambridge\" ;\n",
            "                    con:country \"USA\" ;\n",
            "                    con:postalCode \"02139\" ;\n",
            "                    con:street \"32 Vassar Street\" ;\n",
            "                    con:street2 \"MIT CSAIL Building 32\" ] ;\n",
            "            geo:location [ geo:lat \"42.361860\" ;\n",
            "                    geo:long \"-71.091840\" ] ] ;\n",
            "    con:preferredURI \"https://www.w3.org/People/Berners-Lee/card#i\" ;\n",
            "    con:publicHomePage <http://www.w3.org/People/Berners-Lee/> ;\n",
            "    vcard:fn \"Tim Berners-Lee\" ;\n",
            "    vcard:hasAddress [ a vcard:Work ;\n",
            "            vcard:locality \"Cambridge\" ;\n",
            "            vcard:postal-code \"02139\" ;\n",
            "            vcard:region \"MA\" ;\n",
            "            vcard:street-address \"32 Vassar Street\" ] ;\n",
            "    ldp:inbox <https://timbl.com/timbl/Public/Inbox> ;\n",
            "    space:preferencesFile <https://timbl.com/timbl/Data/preferences.n3> ;\n",
            "    space:storage <https://timbl.com/timbl/Public/>,\n",
            "        <https://timbl.inrupt.net/>,\n",
            "        <https://timbl.solid.community/> ;\n",
            "    solid:editableProfile <https://timbl.com/timbl/Public/friends.ttl> ;\n",
            "    solid:oidcIssuer <https://timbl.com> ;\n",
            "    solid:profileBackgroundColor \"#ffffff\" ;\n",
            "    solid:profileHighlightColor \"#00467E\" ;\n",
            "    solid:publicTypeIndex <https://timbl.com/timbl/Public/PublicTypeIndex.ttl> ;\n",
            "    foaf:account <http://en.wikipedia.org/wiki/User:Timbl>,\n",
            "        <http://twitter.com/timberners_lee>,\n",
            "        <http://www.reddit.com/user/timbl/> ;\n",
            "    foaf:based_near [ geo:lat \"42.361860\" ;\n",
            "            geo:long \"-71.091840\" ] ;\n",
            "    foaf:family_name \"Berners-Lee\" ;\n",
            "    foaf:givenname \"Timothy\" ;\n",
            "    foaf:homepage <https://www.w3.org/People/Berners-Lee/> ;\n",
            "    foaf:img <https://www.w3.org/Press/Stock/Berners-Lee/2001-europaeum-eighth.jpg> ;\n",
            "    foaf:mbox <mailto:timbl@w3.org> ;\n",
            "    foaf:mbox_sha1sum \"965c47c5a70db7407210cef6e4e6f5374a525c5c\" ;\n",
            "    foaf:name \"Timothy Berners-Lee\" ;\n",
            "    foaf:nick \"TimBL\",\n",
            "        \"timbl\" ;\n",
            "    foaf:openid <https://www.w3.org/People/Berners-Lee/> ;\n",
            "    foaf:title \"Sir\" ;\n",
            "    foaf:weblog <http://dig.csail.mit.edu/breadcrumbs/blog/4> ;\n",
            "    foaf:workplaceHomepage <https://www.w3.org/> .\n",
            "\n",
            "\n"
          ]
        }
      ],
      "source": [
        "# Wyświetl zawartość grafu g_tbl w serializacji Turtle.\n",
        "print(g_tbl.serialize(format=\"turtle\"))"
      ]
    },
    {
      "cell_type": "code",
      "execution_count": null,
      "metadata": {
        "id": "AUNfyXL3HwbU",
        "outputId": "25e3e906-cb97-4abc-d387-077e70976e48"
      },
      "outputs": [
        {
          "name": "stdout",
          "output_type": "stream",
          "text": [
            "<?xml version=\"1.0\" encoding=\"utf-8\"?>\n",
            "<rdf:RDF\n",
            "   xmlns:cc=\"http://creativecommons.org/ns#\"\n",
            "   xmlns:cert=\"http://www.w3.org/ns/auth/cert#\"\n",
            "   xmlns:con=\"http://www.w3.org/2000/10/swap/pim/contact#\"\n",
            "   xmlns:dc=\"http://purl.org/dc/elements/1.1/\"\n",
            "   xmlns:dcterms=\"http://purl.org/dc/terms/\"\n",
            "   xmlns:doap=\"http://usefulinc.com/ns/doap#\"\n",
            "   xmlns:foaf=\"http://xmlns.com/foaf/0.1/\"\n",
            "   xmlns:geo=\"http://www.w3.org/2003/01/geo/wgs84_pos#\"\n",
            "   xmlns:ldp=\"http://www.w3.org/ns/ldp#\"\n",
            "   xmlns:rdf=\"http://www.w3.org/1999/02/22-rdf-syntax-ns#\"\n",
            "   xmlns:rdfs=\"http://www.w3.org/2000/01/rdf-schema#\"\n",
            "   xmlns:schema1=\"http://schema.org/\"\n",
            "   xmlns:sioc=\"http://rdfs.org/sioc/ns#\"\n",
            "   xmlns:solid=\"http://www.w3.org/ns/solid/terms#\"\n",
            "   xmlns:space=\"http://www.w3.org/ns/pim/space#\"\n",
            "   xmlns:vcard=\"http://www.w3.org/2006/vcard/ns#\"\n",
            ">\n",
            "  <rdf:Description rdf:about=\"https://www.w3.org/People/Berners-Lee/card#i\">\n",
            "    <rdf:type rdf:resource=\"http://www.w3.org/2000/10/swap/pim/contact#Male\"/>\n",
            "    <rdf:type rdf:resource=\"http://xmlns.com/foaf/0.1/Person\"/>\n",
            "    <sioc:avatar rdf:resource=\"http://www.w3.org/People/Berners-Lee/images/timbl-image-by-Coz-cropped.jpg\"/>\n",
            "    <schema1:owns rdf:resource=\"https://timblbot.inrupt.net/profile/card#me\"/>\n",
            "    <rdfs:label>Tim Berners-Lee</rdfs:label>\n",
            "    <rdfs:seeAlso rdf:resource=\"https://timbl.com/timbl/Public/friends.ttl\"/>\n",
            "    <con:assistant rdf:resource=\"https://www.w3.org/People/Berners-Lee/card#amy\"/>\n",
            "    <con:homePage rdf:resource=\"http://www.w3.org/People/Berners-Lee/\"/>\n",
            "    <con:office rdf:nodeID=\"Nb8c9ac221b184bf18b2243c999d15dc6\"/>\n",
            "    <con:preferredURI>https://www.w3.org/People/Berners-Lee/card#i</con:preferredURI>\n",
            "    <con:publicHomePage rdf:resource=\"http://www.w3.org/People/Berners-Lee/\"/>\n",
            "    <vcard:fn>Tim Berners-Lee</vcard:fn>\n",
            "    <vcard:hasAddress rdf:nodeID=\"N88f7a4266d8a4fe3b41433b3cd495abb\"/>\n",
            "    <ldp:inbox rdf:resource=\"https://timbl.com/timbl/Public/Inbox\"/>\n",
            "    <space:preferencesFile rdf:resource=\"https://timbl.com/timbl/Data/preferences.n3\"/>\n",
            "    <space:storage rdf:resource=\"https://timbl.com/timbl/Public/\"/>\n",
            "    <space:storage rdf:resource=\"https://timbl.inrupt.net/\"/>\n",
            "    <space:storage rdf:resource=\"https://timbl.solid.community/\"/>\n",
            "    <solid:editableProfile rdf:resource=\"https://timbl.com/timbl/Public/friends.ttl\"/>\n",
            "    <solid:oidcIssuer rdf:resource=\"https://timbl.com\"/>\n",
            "    <solid:profileBackgroundColor>#ffffff</solid:profileBackgroundColor>\n",
            "    <solid:profileHighlightColor>#00467E</solid:profileHighlightColor>\n",
            "    <solid:publicTypeIndex rdf:resource=\"https://timbl.com/timbl/Public/PublicTypeIndex.ttl\"/>\n",
            "    <foaf:account rdf:resource=\"http://en.wikipedia.org/wiki/User:Timbl\"/>\n",
            "    <foaf:account rdf:resource=\"http://twitter.com/timberners_lee\"/>\n",
            "    <foaf:account rdf:resource=\"http://www.reddit.com/user/timbl/\"/>\n",
            "    <foaf:based_near rdf:nodeID=\"Na43896a3a703497595e52ef54798378b\"/>\n",
            "    <foaf:family_name>Berners-Lee</foaf:family_name>\n",
            "    <foaf:givenname>Timothy</foaf:givenname>\n",
            "    <foaf:homepage rdf:resource=\"https://www.w3.org/People/Berners-Lee/\"/>\n",
            "    <foaf:img rdf:resource=\"https://www.w3.org/Press/Stock/Berners-Lee/2001-europaeum-eighth.jpg\"/>\n",
            "    <foaf:mbox rdf:resource=\"mailto:timbl@w3.org\"/>\n",
            "    <foaf:mbox_sha1sum>965c47c5a70db7407210cef6e4e6f5374a525c5c</foaf:mbox_sha1sum>\n",
            "    <foaf:name>Timothy Berners-Lee</foaf:name>\n",
            "    <foaf:nick>TimBL</foaf:nick>\n",
            "    <foaf:nick>timbl</foaf:nick>\n",
            "    <foaf:openid rdf:resource=\"https://www.w3.org/People/Berners-Lee/\"/>\n",
            "    <foaf:title>Sir</foaf:title>\n",
            "    <foaf:weblog rdf:resource=\"http://dig.csail.mit.edu/breadcrumbs/blog/4\"/>\n",
            "    <foaf:workplaceHomepage rdf:resource=\"https://www.w3.org/\"/>\n",
            "  </rdf:Description>\n",
            "  <rdf:Description rdf:about=\"http://wiki.ontoworld.org/index.php/_IRW2006\">\n",
            "    <dc:title>Identity, Reference and the Web workshop 2006</dc:title>\n",
            "    <con:participant rdf:resource=\"https://www.w3.org/People/Berners-Lee/card#i\"/>\n",
            "  </rdf:Description>\n",
            "  <rdf:Description rdf:nodeID=\"N665ef424ab0e48ecabafa281c100234a\">\n",
            "    <con:city>Cambridge</con:city>\n",
            "    <con:country>USA</con:country>\n",
            "    <con:postalCode>02139</con:postalCode>\n",
            "    <con:street>32 Vassar Street</con:street>\n",
            "    <con:street2>MIT CSAIL Building 32</con:street2>\n",
            "  </rdf:Description>\n",
            "  <rdf:Description rdf:nodeID=\"Nb8c9ac221b184bf18b2243c999d15dc6\">\n",
            "    <con:address rdf:nodeID=\"N665ef424ab0e48ecabafa281c100234a\"/>\n",
            "    <geo:location rdf:nodeID=\"N9e76d3d9da4246058d03ce9a8939ad98\"/>\n",
            "  </rdf:Description>\n",
            "  <rdf:Description rdf:nodeID=\"Nf634154d15ee49b5a2a692b945187523\">\n",
            "    <rdf:type rdf:resource=\"http://www.w3.org/ns/auth/cert#RSAPublicKey\"/>\n",
            "    <cert:exponent rdf:datatype=\"http://www.w3.org/2001/XMLSchema#integer\">65537</cert:exponent>\n",
            "    <cert:modulus rdf:datatype=\"http://www.w3.org/2001/XMLSchema#hexBinary\">ebe99c737bd3670239600547e5e2eb1d1497da39947b6576c3c44ffeca32cf0f2f7cbee3c47001278a90fc7fc5bcf292f741eb1fcd6bbe7f90650afb519cf13e81b2bffc6e02063ee5a55781d420b1dfaf61c15758480e66d47fb0dcb5fa7b9f7f1052e5ccbd01beee9553c3b6b51f4daf1fce991294cd09a3d1d636bc6c7656e4455d0aff06daec740ed0084aa6866fcae1359de61cc12dbe37c8fa42e977c6e727a8258bb9a3f265b27e3766fe0697f6aa0bcc81c3f026e387bd7bbc81580dc1853af2daa099186a9f59da526474ef6ec0a3d84cf400be3261b6b649dea1f78184862d34d685d2d587f09acc14cd8e578fdd2283387821296f0af39b8d8845</cert:modulus>\n",
            "  </rdf:Description>\n",
            "  <rdf:Description rdf:nodeID=\"N88f7a4266d8a4fe3b41433b3cd495abb\">\n",
            "    <rdf:type rdf:resource=\"http://www.w3.org/2006/vcard/ns#Work\"/>\n",
            "    <vcard:locality>Cambridge</vcard:locality>\n",
            "    <vcard:postal-code>02139</vcard:postal-code>\n",
            "    <vcard:region>MA</vcard:region>\n",
            "    <vcard:street-address>32 Vassar Street</vcard:street-address>\n",
            "  </rdf:Description>\n",
            "  <rdf:Description rdf:about=\"http://www.w3.org/data#W3C\">\n",
            "    <foaf:member rdf:resource=\"https://www.w3.org/People/Berners-Lee/card#i\"/>\n",
            "  </rdf:Description>\n",
            "  <rdf:Description rdf:nodeID=\"N9e76d3d9da4246058d03ce9a8939ad98\">\n",
            "    <geo:lat>42.361860</geo:lat>\n",
            "    <geo:long>-71.091840</geo:long>\n",
            "  </rdf:Description>\n",
            "  <rdf:Description rdf:about=\"http://dig.csail.mit.edu/data#DIG\">\n",
            "    <foaf:member rdf:resource=\"https://www.w3.org/People/Berners-Lee/card#i\"/>\n",
            "  </rdf:Description>\n",
            "  <rdf:Description rdf:about=\"http://www.w3.org/People/Berners-Lee/card\">\n",
            "    <rdf:type rdf:resource=\"http://xmlns.com/foaf/0.1/PersonalProfileDocument\"/>\n",
            "    <cc:license rdf:resource=\"http://creativecommons.org/licenses/by-nc/3.0/\"/>\n",
            "    <dc:title>Tim Berners-Lee's FOAF file</dc:title>\n",
            "    <foaf:maker rdf:resource=\"https://www.w3.org/People/Berners-Lee/card#i\"/>\n",
            "    <foaf:primaryTopic rdf:resource=\"https://www.w3.org/People/Berners-Lee/card#i\"/>\n",
            "  </rdf:Description>\n",
            "  <rdf:Description rdf:about=\"http://dig.csail.mit.edu/2005/ajar/ajaw/data#Tabulator\">\n",
            "    <doap:developer rdf:resource=\"https://www.w3.org/People/Berners-Lee/card#i\"/>\n",
            "  </rdf:Description>\n",
            "  <rdf:Description rdf:about=\"https://timbl.com/timbl/Public/friends.ttl\">\n",
            "    <rdf:type rdf:resource=\"http://xmlns.com/foaf/0.1/PersonalProfileDocument\"/>\n",
            "    <cc:license rdf:resource=\"http://creativecommons.org/licenses/by-nc/3.0/\"/>\n",
            "    <dc:title>Tim Berners-Lee's editable profile</dc:title>\n",
            "    <foaf:maker rdf:resource=\"https://www.w3.org/People/Berners-Lee/card#i\"/>\n",
            "    <foaf:primaryTopic rdf:resource=\"https://www.w3.org/People/Berners-Lee/card#i\"/>\n",
            "  </rdf:Description>\n",
            "  <rdf:Description rdf:about=\"http://dig.csail.mit.edu/breadcrumbs/blog/4\">\n",
            "    <dc:title>timbl's blog on DIG</dc:title>\n",
            "    <rdfs:seeAlso rdf:resource=\"http://dig.csail.mit.edu/breadcrumbs/blog/feed/4\"/>\n",
            "    <foaf:maker rdf:resource=\"https://www.w3.org/People/Berners-Lee/card#i\"/>\n",
            "  </rdf:Description>\n",
            "  <rdf:Description rdf:about=\"http://www.w3.org/2011/Talks/0331-hyderabad-tbl/data#talk\">\n",
            "    <dcterms:title>Designing the Web for an Open Society</dcterms:title>\n",
            "    <foaf:maker rdf:resource=\"https://www.w3.org/People/Berners-Lee/card#i\"/>\n",
            "  </rdf:Description>\n",
            "  <rdf:Description rdf:nodeID=\"Na43896a3a703497595e52ef54798378b\">\n",
            "    <geo:lat>42.361860</geo:lat>\n",
            "    <geo:long>-71.091840</geo:long>\n",
            "  </rdf:Description>\n",
            "  <rdf:Description rdf:about=\"http://www.w3.org/DesignIssues/Overview.html\">\n",
            "    <dc:title>Design Issues for the World Wide Web</dc:title>\n",
            "    <foaf:maker rdf:resource=\"https://www.w3.org/People/Berners-Lee/card#i\"/>\n",
            "  </rdf:Description>\n",
            "  <rdf:Description rdf:about=\"http://www.w3.org/2000/10/swap/data#Cwm\">\n",
            "    <doap:developer rdf:resource=\"https://www.w3.org/People/Berners-Lee/card#i\"/>\n",
            "  </rdf:Description>\n",
            "  <rdf:Description rdf:about=\"http://www.ecs.soton.ac.uk/~dt2/dlstuff/www2006_data#panel-panelk01\">\n",
            "    <rdfs:label>The Next Wave of the Web (Plenary Panel)</rdfs:label>\n",
            "    <con:participant rdf:resource=\"https://www.w3.org/People/Berners-Lee/card#i\"/>\n",
            "  </rdf:Description>\n",
            "  <rdf:Description rdf:about=\"http://www.w3.org/People/Berners-Lee/card#i\">\n",
            "    <cert:key rdf:nodeID=\"Nf634154d15ee49b5a2a692b945187523\"/>\n",
            "  </rdf:Description>\n",
            "  <rdf:Description rdf:about=\"http://dig.csail.mit.edu/2007/01/camp/data#course\">\n",
            "    <foaf:maker rdf:resource=\"https://www.w3.org/People/Berners-Lee/card#i\"/>\n",
            "  </rdf:Description>\n",
            "</rdf:RDF>\n",
            "\n"
          ]
        }
      ],
      "source": [
        "# Wyświetl zawartość grafu g_tbl w serializacji RDF/XML.\n",
        "print(g_tbl.serialize(format=\"xml\"))"
      ]
    },
    {
      "cell_type": "markdown",
      "metadata": {
        "id": "hFkhnDNkHwbU"
      },
      "source": [
        "Uwaga! Jeśli nie pamiętasz czym są serializacje grafów, wróć do sekcji wprowadzającej tego rozdziału. \n",
        "\n",
        "RDFLib obsługuje serializacje: ``turtle`` (w skrócie ``ttl``), ``xml``, ``n3`` oraz ``ntriples`` (w skrócie ``nt``). Dodatkowo można również korzystać z serializacji ``JSON-LD`` (tu będziemy potrzebować jednak dodatkowego pluginu) oraz ``trix``, gdy mamy do czynienia z grafami nazwanymi (ang. *named graphs*) lub bazami trójek."
      ]
    },
    {
      "cell_type": "code",
      "execution_count": null,
      "metadata": {
        "id": "P0PfvHzaHwbV",
        "outputId": "bcc4d419-70b2-4e54-abec-5eb5878ee7c2"
      },
      "outputs": [
        {
          "data": {
            "text/plain": [
              "<Graph identifier=N5ce30e5c93a9450aa0c48d7a558fadc5 (<class 'rdflib.graph.Graph'>)>"
            ]
          },
          "execution_count": 24,
          "metadata": {},
          "output_type": "execute_result"
        }
      ],
      "source": [
        "# Zapisz graf g_tbl w serializacji Turtle w pliku o nazwie \"tbl.ttl\".\n",
        "g_tbl.serialize('tbl.ttl', format='turtle')"
      ]
    },
    {
      "cell_type": "markdown",
      "metadata": {
        "id": "gr43Fj4EHwbV"
      },
      "source": [
        "## Tworzymy własny graf\n",
        "\n",
        "Aby utworzyć własny graf musimy sobie przypomnieć jak mogą wygląć trójki w grafie RDF. Pamiętamy, że trójki mogą zawierać \n",
        "- identyfikatory zasobów, \n",
        "- węzły puste (w podmiocie i dopełnieniu trójki) oraz \n",
        "- literały (tylko w dopełnieniu trójki). \n",
        "\n",
        "RDFLib pozawala na utworzenie \n",
        "- identyfikatora dowolnego zasobu za pomocą funkcji ``URIRef``,\n",
        "- węzła pustego za pomocą funcji ``BNode`` oraz\n",
        "- literału za pomocą funkcji ``Literal``.\n"
      ]
    },
    {
      "cell_type": "markdown",
      "metadata": {
        "id": "g9eSqHLOHwbV"
      },
      "source": [
        "Graf możemy utworzyć z napisów, o ile jego zawartość jest zgodna z jakąś serializacją.\n",
        "\n"
      ]
    },
    {
      "cell_type": "code",
      "execution_count": 8,
      "metadata": {
        "id": "OSkZmY5BHwbV",
        "outputId": "425e053d-fd6a-4a49-c6d1-07c550405d7d",
        "colab": {
          "base_uri": "https://localhost:8080/"
        }
      },
      "outputs": [
        {
          "output_type": "stream",
          "name": "stdout",
          "text": [
            "@prefix ns1: <http://ai.kul.pl/vocab/> .\n",
            "\n",
            "ns1:Jan ns1:lubi ns1:Ania .\n",
            "\n",
            "\n"
          ]
        }
      ],
      "source": [
        "import rdflib\n",
        "from rdflib import Graph\n",
        "\n",
        "graph_string = '<http://ai.kul.pl/vocab/Jan> <http://ai.kul.pl/vocab/lubi> <http://ai.kul.pl/vocab/Ania> .'\n",
        "graph = Graph()\n",
        "graph.parse(data = graph_string, format='turtle')\n",
        "print(graph.serialize(format='ttl'))"
      ]
    },
    {
      "cell_type": "code",
      "execution_count": 9,
      "metadata": {
        "id": "nMpnAS43HwbW"
      },
      "outputs": [],
      "source": [
        "# Zaimportuj funkcje \"URIRef\", \"Literal\" oraz \"BNode\".\n",
        "from rdflib import URIRef, Literal, BNode"
      ]
    },
    {
      "cell_type": "code",
      "execution_count": 10,
      "metadata": {
        "id": "5WO6W8NwHwbW"
      },
      "outputs": [],
      "source": [
        "uri_jana_kowalskiego = URIRef('http://ai.kul.pl/vocab/jan_kowalski')\n",
        "uri_nazywa_sie = URIRef('http://ai.kul.pl/vocab/nazywa_sie')\n",
        "uri_zna = URIRef('http://ai.kul.pl/vocab/zna')\n",
        "literal_jan_kowalski_pl = Literal('Jan Kowalski', lang='pl')\n",
        "bnode_kogos = BNode()\n",
        "literal_mariana_zuka_pl = Literal('Marian Żuk', lang='pl')"
      ]
    },
    {
      "cell_type": "markdown",
      "metadata": {
        "id": "V5qlVCtOHwbW"
      },
      "source": [
        "Poniżej stworzymy nowy graf stwierdzający, że zasób o identyfikatorze \"http://ai.kul.pl/vocab/jan_kowalski\" nazywa się (w języku polskim) Jan Kowalski i zna kogoś, kto nazywa się Marian Żuk."
      ]
    },
    {
      "cell_type": "code",
      "execution_count": 11,
      "metadata": {
        "id": "SXqF3UKWHwbW",
        "outputId": "9b37142e-ab2b-431b-caa1-709ecc9c80c4",
        "colab": {
          "base_uri": "https://localhost:8080/"
        }
      },
      "outputs": [
        {
          "output_type": "stream",
          "name": "stdout",
          "text": [
            "@prefix ns1: <http://ai.kul.pl/vocab/> .\n",
            "\n",
            "ns1:jan_kowalski ns1:nazywa_sie \"Jan Kowalski\"@pl ;\n",
            "    ns1:zna [ ns1:nazywa_sie \"Marian Żuk\"@pl ] .\n",
            "\n",
            "\n"
          ]
        }
      ],
      "source": [
        "# Utwórz nowy graf.\n",
        "g = Graph()\n",
        "\n",
        "# Dodaj trójki do grafu.\n",
        "g.add((uri_jana_kowalskiego, uri_nazywa_sie, literal_jan_kowalski_pl))\n",
        "g.add((uri_jana_kowalskiego, uri_zna, bnode_kogos))\n",
        "g.add((bnode_kogos, uri_nazywa_sie, literal_mariana_zuka_pl))\n",
        "\n",
        "# Wyświetl zawartość grafu w serializacji Turtle.\n",
        "print(g.serialize(format='turtle'))"
      ]
    },
    {
      "cell_type": "markdown",
      "metadata": {
        "id": "d0tGsmI_HwbW"
      },
      "source": [
        "W powyższym przykładzie użyliśmy dwóch wymyśłonych przez nas relacji \"http://ai.kul.pl/vocab/nazywa_sie\" i \"http://ai.kul.pl/vocab/zna\". Idea Sieci Semantycznej jest jednak taka, aby wymyślać nowe relacje tylko wówczas, kiedy nie istnieją dobre już wymyślone. Tak się akurat składa, że odpowiedniki tych relacji znajdziemy w standardzie FOAF (http://xmlns.com/foaf/spec/). RDFLib obsługuje FOAF."
      ]
    },
    {
      "cell_type": "code",
      "execution_count": 12,
      "metadata": {
        "id": "cQhDWCUoHwbW"
      },
      "outputs": [],
      "source": [
        "# Zajmortuj przestrzeń nazw FOAF\n",
        "from rdflib.namespace import FOAF"
      ]
    },
    {
      "cell_type": "markdown",
      "metadata": {
        "id": "DytbafgkHwbX"
      },
      "source": [
        "Zmodyfikujmy teraz nasz przykład powyżej w taki sposób, abyśmy mogli skorzystać z relacji ze standardu FOAF."
      ]
    },
    {
      "cell_type": "code",
      "execution_count": 13,
      "metadata": {
        "id": "XzAwa2TcHwbX",
        "outputId": "2a3c6f75-60f9-45e2-c31a-3ff0073ae7b7",
        "colab": {
          "base_uri": "https://localhost:8080/"
        }
      },
      "outputs": [
        {
          "output_type": "stream",
          "name": "stdout",
          "text": [
            "@prefix foaf: <http://xmlns.com/foaf/0.1/> .\n",
            "\n",
            "<http://ai.kul.pl/vocab/jan_kowalski> foaf:knows [ foaf:name \"Marian Żuk\"@pl ] ;\n",
            "    foaf:name \"Jan Kowalski\"@pl .\n",
            "\n",
            "\n"
          ]
        }
      ],
      "source": [
        "# Utwórz nowy graf.\n",
        "g = Graph()\n",
        "\n",
        "# Dodaj trójki do grafu.\n",
        "g.add((uri_jana_kowalskiego, FOAF.name, literal_jan_kowalski_pl))\n",
        "g.add((uri_jana_kowalskiego, FOAF.knows, bnode_kogos))\n",
        "g.add((bnode_kogos, FOAF.name, literal_mariana_zuka_pl))\n",
        "\n",
        "# Wyświetl zawartość grafu w serializacji Turtle.\n",
        "print(g.serialize(format='turtle'))"
      ]
    },
    {
      "cell_type": "markdown",
      "metadata": {
        "id": "hiGa8lUTHwbX"
      },
      "source": [
        "Aby zmienić prefiks przestrzeni FOAF musimy go zdefiniować zanim zaczniemy wypełniać graf trójkami."
      ]
    },
    {
      "cell_type": "code",
      "execution_count": 14,
      "metadata": {
        "scrolled": true,
        "id": "IvIOnPPpHwbX",
        "outputId": "d4b1be89-56de-4574-d70b-3b66864fae88",
        "colab": {
          "base_uri": "https://localhost:8080/"
        }
      },
      "outputs": [
        {
          "output_type": "stream",
          "name": "stdout",
          "text": [
            "@prefix foaf: <http://xmlns.com/foaf/0.1/> .\n",
            "\n",
            "<http://ai.kul.pl/vocab/jan_kowalski> foaf:knows [ foaf:name \"Marian Żuk\"@pl ] ;\n",
            "    foaf:name \"Jan Kowalski\"@pl .\n",
            "\n",
            "\n"
          ]
        }
      ],
      "source": [
        "# Utwórz nowy graf.\n",
        "g = Graph()\n",
        "\n",
        "# Przypisz prefiks \"foaf\" do przestreni FOAF\n",
        "g.bind('foaf', FOAF)\n",
        "\n",
        "# Dodaj trójki do grafu.\n",
        "g.add((uri_jana_kowalskiego, FOAF.name, literal_jan_kowalski_pl))\n",
        "g.add((uri_jana_kowalskiego, FOAF.knows, bnode_kogos))\n",
        "g.add((bnode_kogos, FOAF.name, literal_mariana_zuka_pl))\n",
        "\n",
        "# Wyświetl zawartość grafu w serializacji Turtle.\n",
        "print(g.serialize(format='turtle'))"
      ]
    },
    {
      "cell_type": "markdown",
      "metadata": {
        "id": "0EJSek47HwbX"
      },
      "source": [
        "Poniżej podajemy importy ponad 20 przestrzeni nazw zaimplementowanych w RDFLib:"
      ]
    },
    {
      "cell_type": "code",
      "execution_count": 15,
      "metadata": {
        "id": "eC1RyJTfHwbX",
        "outputId": "1f8b8d9d-fcb1-45bb-f993-619111657710",
        "colab": {
          "base_uri": "https://localhost:8080/"
        }
      },
      "outputs": [
        {
          "output_type": "stream",
          "name": "stdout",
          "text": [
            "http://www.w3.org/1999/02/22-rdf-syntax-ns#type\n",
            "http://xmlns.com/foaf/0.1/knows\n",
            "http://www.w3.org/ns/dx/prof/isProfileOf\n",
            "http://www.w3.org/ns/sosa/Sensor\n"
          ]
        }
      ],
      "source": [
        "from rdflib.namespace import CSVW, DC, DCAT, DCTERMS, DOAP, FOAF, ODRL2, ORG, OWL,\\\n",
        "                             PROF, PROV, RDF, RDFS, SDO, SH, SKOS, SOSA, SSN, TIME,\\\n",
        "                             VOID, XMLNS, XSD\n",
        "\n",
        "print(RDF.type)\n",
        "# = rdflib.term.URIRef(\"http://www.w3.org/1999/02/22-rdf-syntax-ns#type\")\n",
        "\n",
        "print(FOAF.knows)\n",
        "# = rdflib.term.URIRef(\"http://xmlns.com/foaf/0.1/knows\")\n",
        "\n",
        "print(PROF.isProfileOf)\n",
        "# = rdflib.term.URIRef(\"http://www.w3.org/ns/dx/prof/isProfileOf\")\n",
        "\n",
        "print(SOSA.Sensor)\n",
        "# = rdflib.term.URIRef(\"http://www.w3.org/ns/sosa/Sensor\")"
      ]
    },
    {
      "cell_type": "markdown",
      "metadata": {
        "id": "nyRD6WAsHwbY"
      },
      "source": [
        "Gdy tworzymy własny graf, często zdarza się, że większość zasobów będzie zdefiniwoanych w tej samej, naszej przestrzeni nazw. Wówczas warto użyć pewnego skrótu pozwalającego skrócić identyfiaktory (`URIRef`) zasobów. Ów skrót polega na zdefiniowaniu własnej przestrzeni nazw (ang. *namespace*) za pomcą `rdflib.namespace.Namespace`:"
      ]
    },
    {
      "cell_type": "code",
      "execution_count": 17,
      "metadata": {
        "id": "solOfJnpHwbY",
        "outputId": "086b2fdf-999f-4847-a037-77e42b66c61e",
        "colab": {
          "base_uri": "https://localhost:8080/"
        }
      },
      "outputs": [
        {
          "output_type": "stream",
          "name": "stdout",
          "text": [
            "@prefix aikul: <http://ai.kul.pl/vocab/> .\n",
            "@prefix foaf: <http://xmlns.com/foaf/0.1/> .\n",
            "\n",
            "aikul:jan_kowalski foaf:knows [ foaf:name \"Marian Żuk\"@pl ] ;\n",
            "    foaf:name \"Jan Kowalski\"@pl .\n",
            "\n",
            "\n"
          ]
        }
      ],
      "source": [
        "from rdflib import Namespace\n",
        "\n",
        "n = Namespace('http://ai.kul.pl/vocab/')\n",
        "\n",
        "uri_jana_kowalskiego = URIRef(n.jan_kowalski)\n",
        "uri_nazywa_sie = URIRef(n.nazywa_sie)\n",
        "uri_zna = URIRef(n.zna)\n",
        "literal_jan_kowalski_pl = Literal('Jan Kowalski', lang='pl')\n",
        "bnode_kogos = BNode()\n",
        "literal_mariana_zuka_pl = Literal('Marian Żuk', lang='pl')\n",
        "\n",
        "# Utwórz nowy graf.\n",
        "g = Graph()\n",
        "\n",
        "g.bind('foaf', FOAF)\n",
        "g.bind('aikul', 'http://ai.kul.pl/vocab/')\n",
        "\n",
        "# Dodaj trójki do grafu.\n",
        "g.add((uri_jana_kowalskiego, FOAF.name, literal_jan_kowalski_pl))\n",
        "g.add((uri_jana_kowalskiego, FOAF.knows, bnode_kogos))\n",
        "g.add((bnode_kogos, FOAF.name, literal_mariana_zuka_pl))\n",
        "\n",
        "# Wyświetl zawartość grafu w serializacji Turtle.\n",
        "print(g.serialize(format='turtle'))"
      ]
    },
    {
      "cell_type": "markdown",
      "metadata": {
        "id": "q36ApPkfHwbZ"
      },
      "source": [
        "Przestrzegamy przed użyciem funkcji `set()`, która zakłda, że relacja jest funkcyjna (ang. *functional property*) lub ma górną kardynalność (`maxcardinality`) równą 1. Funkcja `set()` może usuwać trójki!"
      ]
    },
    {
      "cell_type": "code",
      "execution_count": 18,
      "metadata": {
        "id": "1UE3HnrgHwbZ",
        "outputId": "0b9a856a-3496-48b2-82c0-1f93aa057653",
        "colab": {
          "base_uri": "https://localhost:8080/"
        }
      },
      "outputs": [
        {
          "output_type": "stream",
          "name": "stdout",
          "text": [
            "@prefix aikul: <http://ai.kul.pl/vocab/> .\n",
            "@prefix foaf: <http://xmlns.com/foaf/0.1/> .\n",
            "\n",
            "aikul:jan_kowalski foaf:nick \"Chudy\",\n",
            "        \"Wafel\" .\n",
            "\n",
            "\n"
          ]
        }
      ],
      "source": [
        "# Utwórz nowy graf.\n",
        "g = Graph()\n",
        "\n",
        "g.bind('foaf', FOAF)\n",
        "g.bind('aikul', 'http://ai.kul.pl/vocab/')\n",
        "\n",
        "g.add((uri_jana_kowalskiego, FOAF.nick, Literal('Wafel'))) \n",
        "# print(\"Bob is\", g.value(uri_jana_kowalskiego, FOAF.age)) # prints: Bob is 42\n",
        "\n",
        "g.add((uri_jana_kowalskiego, FOAF.nick, Literal('Chudy'))) \n",
        "# print(\"Bob is\", g.value(uri_jana_kowalskiego, FOAF.age)) # prints: Bob is 42\n",
        "\n",
        "# Wyświetl zawartość grafu w serializacji Turtle.\n",
        "print(g.serialize(format='turtle'))"
      ]
    },
    {
      "cell_type": "code",
      "execution_count": 19,
      "metadata": {
        "id": "RYpzcEzjHwbZ",
        "outputId": "ef5412ed-4dd9-4aa3-fe58-7d7acbe1ef4d",
        "colab": {
          "base_uri": "https://localhost:8080/"
        }
      },
      "outputs": [
        {
          "output_type": "stream",
          "name": "stdout",
          "text": [
            "Wafel\n"
          ]
        }
      ],
      "source": [
        "print(g.value(uri_jana_kowalskiego, FOAF.nick))"
      ]
    },
    {
      "cell_type": "code",
      "execution_count": 20,
      "metadata": {
        "id": "aMFXb5nWHwba",
        "outputId": "84e516f3-352d-4bd3-a81f-672b6bc97a69",
        "colab": {
          "base_uri": "https://localhost:8080/"
        }
      },
      "outputs": [
        {
          "output_type": "stream",
          "name": "stdout",
          "text": [
            "@prefix aikul: <http://ai.kul.pl/vocab/> .\n",
            "@prefix foaf: <http://xmlns.com/foaf/0.1/> .\n",
            "\n",
            "aikul:jan_kowalski foaf:nick \"Szczypior\" .\n",
            "\n",
            "\n"
          ]
        }
      ],
      "source": [
        "# Utwórz nowy graf.\n",
        "g = Graph()\n",
        "\n",
        "g.bind('foaf', FOAF)\n",
        "g.bind('aikul', 'http://ai.kul.pl/vocab/')\n",
        "\n",
        "g.add((uri_jana_kowalskiego, FOAF.nick, Literal('Wafel'))) \n",
        "g.add((uri_jana_kowalskiego, FOAF.nick, Literal('Chudy'))) \n",
        "g.set((uri_jana_kowalskiego, FOAF.nick, Literal('Szczypior'))) # replaces 42 set above \n",
        "\n",
        "# Wyświetl zawartość grafu w serializacji Turtle.\n",
        "print(g.serialize(format='turtle'))"
      ]
    },
    {
      "cell_type": "markdown",
      "metadata": {
        "id": "-eIcR5E-Hwba"
      },
      "source": [
        "## Usuwanie trójek z grafu\n",
        "\n",
        "Trójki usuwamy z grafu za pomocą metody `remove()`. "
      ]
    },
    {
      "cell_type": "code",
      "execution_count": null,
      "metadata": {
        "id": "BOfMRg8HHwba",
        "outputId": "3b5de72c-ee44-48fd-df6e-3de4075b7214"
      },
      "outputs": [
        {
          "name": "stdout",
          "output_type": "stream",
          "text": [
            "PRZED:\n",
            "@prefix foaf: <http://xmlns.com/foaf/0.1/> .\n",
            "\n",
            "<http://ai.kul.pl/vocab/jan_kowalski> foaf:knows [ foaf:name \"Marian Żuk\"@pl ] ;\n",
            "    foaf:name \"Jan Kowalski\"@pl .\n",
            "\n",
            "\n",
            "PO:\n",
            "@prefix foaf: <http://xmlns.com/foaf/0.1/> .\n",
            "\n",
            "[] foaf:name \"Marian Żuk\"@pl .\n",
            "\n",
            "\n"
          ]
        }
      ],
      "source": [
        "# Utwórz nowy graf.\n",
        "g = Graph()\n",
        "\n",
        "g.bind('foaf', FOAF)\n",
        "\n",
        "# Dodaj trójki do grafu.\n",
        "g.add((uri_jana_kowalskiego, FOAF.name, literal_jan_kowalski_pl))\n",
        "g.add((uri_jana_kowalskiego, FOAF.knows, bnode_kogos))\n",
        "g.add((bnode_kogos, FOAF.name, literal_mariana_zuka_pl))\n",
        "\n",
        "# Wyświetl zawartość grafu w serializacji Turtle.\n",
        "print('PRZED:')\n",
        "print(g.serialize(format='turtle'))\n",
        "\n",
        "# Usuń wszystkie trójki orzekające o uri_jana_kowalskiego\n",
        "g.remove((uri_jana_kowalskiego, None, None)) \n",
        "\n",
        "# Wyświetl zawartość grafu w serializacji Turtle.\n",
        "print('PO:')\n",
        "print(g.serialize(format='turtle'))"
      ]
    },
    {
      "cell_type": "markdown",
      "metadata": {
        "id": "dc0uNLtUHwba"
      },
      "source": [
        "## Filtrowanie grafu\n",
        "\n",
        "Teraz poznasz szereg metod pozwalających na filtrowanie grafu, tj. wyszukanie w grafie jego fragmentu spełniającego określone własności."
      ]
    },
    {
      "cell_type": "code",
      "execution_count": null,
      "metadata": {
        "id": "wT_sS-2fHwba",
        "outputId": "36c5ed71-68d8-427c-8716-84a30a33ea44"
      },
      "outputs": [
        {
          "data": {
            "text/plain": [
              "<Graph identifier=N90d7f4fe933241838444e14699f237bd (<class 'rdflib.graph.Graph'>)>"
            ]
          },
          "execution_count": 39,
          "metadata": {},
          "output_type": "execute_result"
        }
      ],
      "source": [
        "from rdflib import Graph\n",
        "g_tbl = Graph()\n",
        "g_tbl.parse(source='http://www.w3.org/People/Berners-Lee/card')"
      ]
    },
    {
      "cell_type": "markdown",
      "metadata": {
        "id": "8tg1PRrXHwbb"
      },
      "source": [
        "Zacznij od wypisanie wszystkich trójek. Możesz to zrobić tak:"
      ]
    },
    {
      "cell_type": "code",
      "execution_count": null,
      "metadata": {
        "id": "V-efPXxDHwbb",
        "outputId": "a2d7580b-48cc-4c49-ee6f-d7a1fed3215d"
      },
      "outputs": [
        {
          "name": "stdout",
          "output_type": "stream",
          "text": [
            "(rdflib.term.URIRef('https://www.w3.org/People/Berners-Lee/card#i'), rdflib.term.URIRef('http://www.w3.org/ns/pim/space#storage'), rdflib.term.URIRef('https://timbl.inrupt.net/'))\n",
            "(rdflib.term.URIRef('http://wiki.ontoworld.org/index.php/_IRW2006'), rdflib.term.URIRef('http://www.w3.org/2000/10/swap/pim/contact#participant'), rdflib.term.URIRef('https://www.w3.org/People/Berners-Lee/card#i'))\n",
            "(rdflib.term.URIRef('https://www.w3.org/People/Berners-Lee/card#i'), rdflib.term.URIRef('http://xmlns.com/foaf/0.1/workplaceHomepage'), rdflib.term.URIRef('https://www.w3.org/'))\n",
            "(rdflib.term.BNode('N44dab085bedf4e828f0c4190a694f430'), rdflib.term.URIRef('http://www.w3.org/2000/10/swap/pim/contact#country'), rdflib.term.Literal('USA'))\n",
            "(rdflib.term.URIRef('https://www.w3.org/People/Berners-Lee/card#i'), rdflib.term.URIRef('http://xmlns.com/foaf/0.1/nick'), rdflib.term.Literal('TimBL'))\n",
            "(rdflib.term.BNode('Nc34e2bfa2f094433a7a8661174a995c0'), rdflib.term.URIRef('http://www.w3.org/ns/auth/cert#exponent'), rdflib.term.Literal('65537', datatype=rdflib.term.URIRef('http://www.w3.org/2001/XMLSchema#integer')))\n",
            "(rdflib.term.URIRef('http://www.w3.org/data#W3C'), rdflib.term.URIRef('http://xmlns.com/foaf/0.1/member'), rdflib.term.URIRef('https://www.w3.org/People/Berners-Lee/card#i'))\n",
            "(rdflib.term.URIRef('http://dig.csail.mit.edu/data#DIG'), rdflib.term.URIRef('http://xmlns.com/foaf/0.1/member'), rdflib.term.URIRef('https://www.w3.org/People/Berners-Lee/card#i'))\n",
            "(rdflib.term.URIRef('http://www.w3.org/People/Berners-Lee/card'), rdflib.term.URIRef('http://purl.org/dc/elements/1.1/title'), rdflib.term.Literal(\"Tim Berners-Lee's FOAF file\"))\n",
            "(rdflib.term.BNode('Nc34e2bfa2f094433a7a8661174a995c0'), rdflib.term.URIRef('http://www.w3.org/ns/auth/cert#modulus'), rdflib.term.Literal('ebe99c737bd3670239600547e5e2eb1d1497da39947b6576c3c44ffeca32cf0f2f7cbee3c47001278a90fc7fc5bcf292f741eb1fcd6bbe7f90650afb519cf13e81b2bffc6e02063ee5a55781d420b1dfaf61c15758480e66d47fb0dcb5fa7b9f7f1052e5ccbd01beee9553c3b6b51f4daf1fce991294cd09a3d1d636bc6c7656e4455d0aff06daec740ed0084aa6866fcae1359de61cc12dbe37c8fa42e977c6e727a8258bb9a3f265b27e3766fe0697f6aa0bcc81c3f026e387bd7bbc81580dc1853af2daa099186a9f59da526474ef6ec0a3d84cf400be3261b6b649dea1f78184862d34d685d2d587f09acc14cd8e578fdd2283387821296f0af39b8d8845', datatype=rdflib.term.URIRef('http://www.w3.org/2001/XMLSchema#hexBinary')))\n",
            "(rdflib.term.URIRef('http://www.w3.org/People/Berners-Lee/card'), rdflib.term.URIRef('http://www.w3.org/1999/02/22-rdf-syntax-ns#type'), rdflib.term.URIRef('http://xmlns.com/foaf/0.1/PersonalProfileDocument'))\n",
            "(rdflib.term.URIRef('https://www.w3.org/People/Berners-Lee/card#i'), rdflib.term.URIRef('http://www.w3.org/2000/10/swap/pim/contact#office'), rdflib.term.BNode('Nff98845fd5c14ca0902ddd3c955c307c'))\n",
            "(rdflib.term.URIRef('http://dig.csail.mit.edu/2005/ajar/ajaw/data#Tabulator'), rdflib.term.URIRef('http://usefulinc.com/ns/doap#developer'), rdflib.term.URIRef('https://www.w3.org/People/Berners-Lee/card#i'))\n",
            "(rdflib.term.URIRef('https://timbl.com/timbl/Public/friends.ttl'), rdflib.term.URIRef('http://purl.org/dc/elements/1.1/title'), rdflib.term.Literal(\"Tim Berners-Lee's editable profile\"))\n",
            "(rdflib.term.URIRef('https://www.w3.org/People/Berners-Lee/card#i'), rdflib.term.URIRef('http://www.w3.org/ns/pim/space#storage'), rdflib.term.URIRef('https://timbl.solid.community/'))\n",
            "(rdflib.term.URIRef('https://www.w3.org/People/Berners-Lee/card#i'), rdflib.term.URIRef('http://www.w3.org/2000/01/rdf-schema#label'), rdflib.term.Literal('Tim Berners-Lee'))\n",
            "(rdflib.term.BNode('Ndf03e6164e8242279e4c8ddf4699095f'), rdflib.term.URIRef('http://www.w3.org/2003/01/geo/wgs84_pos#long'), rdflib.term.Literal('-71.091840'))\n",
            "(rdflib.term.URIRef('https://www.w3.org/People/Berners-Lee/card#i'), rdflib.term.URIRef('http://www.w3.org/ns/solid/terms#editableProfile'), rdflib.term.URIRef('https://timbl.com/timbl/Public/friends.ttl'))\n",
            "(rdflib.term.BNode('N44dab085bedf4e828f0c4190a694f430'), rdflib.term.URIRef('http://www.w3.org/2000/10/swap/pim/contact#street'), rdflib.term.Literal('32 Vassar Street'))\n",
            "(rdflib.term.URIRef('https://www.w3.org/People/Berners-Lee/card#i'), rdflib.term.URIRef('http://www.w3.org/2000/10/swap/pim/contact#assistant'), rdflib.term.URIRef('https://www.w3.org/People/Berners-Lee/card#amy'))\n",
            "(rdflib.term.URIRef('http://dig.csail.mit.edu/breadcrumbs/blog/4'), rdflib.term.URIRef('http://purl.org/dc/elements/1.1/title'), rdflib.term.Literal(\"timbl's blog on DIG\"))\n",
            "(rdflib.term.URIRef('http://www.w3.org/2011/Talks/0331-hyderabad-tbl/data#talk'), rdflib.term.URIRef('http://purl.org/dc/terms/title'), rdflib.term.Literal('Designing the Web for an Open Society'))\n",
            "(rdflib.term.BNode('Nff98845fd5c14ca0902ddd3c955c307c'), rdflib.term.URIRef('http://www.w3.org/2003/01/geo/wgs84_pos#location'), rdflib.term.BNode('N482ad05ee5854df294db76fd61ec97a6'))\n",
            "(rdflib.term.URIRef('https://www.w3.org/People/Berners-Lee/card#i'), rdflib.term.URIRef('http://www.w3.org/1999/02/22-rdf-syntax-ns#type'), rdflib.term.URIRef('http://www.w3.org/2000/10/swap/pim/contact#Male'))\n",
            "(rdflib.term.URIRef('https://www.w3.org/People/Berners-Lee/card#i'), rdflib.term.URIRef('http://www.w3.org/ns/solid/terms#profileHighlightColor'), rdflib.term.Literal('#00467E'))\n",
            "(rdflib.term.URIRef('https://www.w3.org/People/Berners-Lee/card#i'), rdflib.term.URIRef('http://www.w3.org/2000/10/swap/pim/contact#preferredURI'), rdflib.term.Literal('https://www.w3.org/People/Berners-Lee/card#i'))\n",
            "(rdflib.term.URIRef('https://www.w3.org/People/Berners-Lee/card#i'), rdflib.term.URIRef('http://xmlns.com/foaf/0.1/name'), rdflib.term.Literal('Timothy Berners-Lee'))\n",
            "(rdflib.term.BNode('Nc34e2bfa2f094433a7a8661174a995c0'), rdflib.term.URIRef('http://www.w3.org/1999/02/22-rdf-syntax-ns#type'), rdflib.term.URIRef('http://www.w3.org/ns/auth/cert#RSAPublicKey'))\n",
            "(rdflib.term.URIRef('http://www.w3.org/People/Berners-Lee/card'), rdflib.term.URIRef('http://xmlns.com/foaf/0.1/primaryTopic'), rdflib.term.URIRef('https://www.w3.org/People/Berners-Lee/card#i'))\n",
            "(rdflib.term.URIRef('https://www.w3.org/People/Berners-Lee/card#i'), rdflib.term.URIRef('http://www.w3.org/2000/10/swap/pim/contact#publicHomePage'), rdflib.term.URIRef('http://www.w3.org/People/Berners-Lee/'))\n",
            "(rdflib.term.URIRef('http://dig.csail.mit.edu/breadcrumbs/blog/4'), rdflib.term.URIRef('http://www.w3.org/2000/01/rdf-schema#seeAlso'), rdflib.term.URIRef('http://dig.csail.mit.edu/breadcrumbs/blog/feed/4'))\n",
            "(rdflib.term.URIRef('https://timbl.com/timbl/Public/friends.ttl'), rdflib.term.URIRef('http://www.w3.org/1999/02/22-rdf-syntax-ns#type'), rdflib.term.URIRef('http://xmlns.com/foaf/0.1/PersonalProfileDocument'))\n",
            "(rdflib.term.URIRef('http://www.w3.org/DesignIssues/Overview.html'), rdflib.term.URIRef('http://purl.org/dc/elements/1.1/title'), rdflib.term.Literal('Design Issues for the World Wide Web'))\n",
            "(rdflib.term.BNode('N44dab085bedf4e828f0c4190a694f430'), rdflib.term.URIRef('http://www.w3.org/2000/10/swap/pim/contact#city'), rdflib.term.Literal('Cambridge'))\n",
            "(rdflib.term.URIRef('https://www.w3.org/People/Berners-Lee/card#i'), rdflib.term.URIRef('http://www.w3.org/2006/vcard/ns#fn'), rdflib.term.Literal('Tim Berners-Lee'))\n",
            "(rdflib.term.URIRef('https://timbl.com/timbl/Public/friends.ttl'), rdflib.term.URIRef('http://xmlns.com/foaf/0.1/maker'), rdflib.term.URIRef('https://www.w3.org/People/Berners-Lee/card#i'))\n",
            "(rdflib.term.URIRef('http://www.w3.org/2000/10/swap/data#Cwm'), rdflib.term.URIRef('http://usefulinc.com/ns/doap#developer'), rdflib.term.URIRef('https://www.w3.org/People/Berners-Lee/card#i'))\n",
            "(rdflib.term.URIRef('https://www.w3.org/People/Berners-Lee/card#i'), rdflib.term.URIRef('http://xmlns.com/foaf/0.1/account'), rdflib.term.URIRef('http://en.wikipedia.org/wiki/User:Timbl'))\n",
            "(rdflib.term.URIRef('http://www.w3.org/2011/Talks/0331-hyderabad-tbl/data#talk'), rdflib.term.URIRef('http://xmlns.com/foaf/0.1/maker'), rdflib.term.URIRef('https://www.w3.org/People/Berners-Lee/card#i'))\n",
            "(rdflib.term.URIRef('https://www.w3.org/People/Berners-Lee/card#i'), rdflib.term.URIRef('http://xmlns.com/foaf/0.1/account'), rdflib.term.URIRef('http://www.reddit.com/user/timbl/'))\n",
            "(rdflib.term.URIRef('https://www.w3.org/People/Berners-Lee/card#i'), rdflib.term.URIRef('http://www.w3.org/2000/10/swap/pim/contact#homePage'), rdflib.term.URIRef('http://www.w3.org/People/Berners-Lee/'))\n",
            "(rdflib.term.URIRef('https://timbl.com/timbl/Public/friends.ttl'), rdflib.term.URIRef('http://xmlns.com/foaf/0.1/primaryTopic'), rdflib.term.URIRef('https://www.w3.org/People/Berners-Lee/card#i'))\n",
            "(rdflib.term.URIRef('https://www.w3.org/People/Berners-Lee/card#i'), rdflib.term.URIRef('http://www.w3.org/ns/pim/space#storage'), rdflib.term.URIRef('https://timbl.com/timbl/Public/'))\n",
            "(rdflib.term.URIRef('https://www.w3.org/People/Berners-Lee/card#i'), rdflib.term.URIRef('http://xmlns.com/foaf/0.1/nick'), rdflib.term.Literal('timbl'))\n",
            "(rdflib.term.URIRef('http://www.ecs.soton.ac.uk/~dt2/dlstuff/www2006_data#panel-panelk01'), rdflib.term.URIRef('http://www.w3.org/2000/01/rdf-schema#label'), rdflib.term.Literal('The Next Wave of the Web (Plenary Panel)'))\n",
            "(rdflib.term.URIRef('https://www.w3.org/People/Berners-Lee/card#i'), rdflib.term.URIRef('http://www.w3.org/1999/02/22-rdf-syntax-ns#type'), rdflib.term.URIRef('http://xmlns.com/foaf/0.1/Person'))\n",
            "(rdflib.term.URIRef('https://timbl.com/timbl/Public/friends.ttl'), rdflib.term.URIRef('http://creativecommons.org/ns#license'), rdflib.term.URIRef('http://creativecommons.org/licenses/by-nc/3.0/'))\n",
            "(rdflib.term.URIRef('https://www.w3.org/People/Berners-Lee/card#i'), rdflib.term.URIRef('http://xmlns.com/foaf/0.1/family_name'), rdflib.term.Literal('Berners-Lee'))\n",
            "(rdflib.term.URIRef('https://www.w3.org/People/Berners-Lee/card#i'), rdflib.term.URIRef('http://xmlns.com/foaf/0.1/homepage'), rdflib.term.URIRef('https://www.w3.org/People/Berners-Lee/'))\n",
            "(rdflib.term.BNode('N87092309bcdb434c886fcfe395f39e92'), rdflib.term.URIRef('http://www.w3.org/1999/02/22-rdf-syntax-ns#type'), rdflib.term.URIRef('http://www.w3.org/2006/vcard/ns#Work'))\n",
            "(rdflib.term.URIRef('http://www.ecs.soton.ac.uk/~dt2/dlstuff/www2006_data#panel-panelk01'), rdflib.term.URIRef('http://www.w3.org/2000/10/swap/pim/contact#participant'), rdflib.term.URIRef('https://www.w3.org/People/Berners-Lee/card#i'))\n",
            "(rdflib.term.URIRef('https://www.w3.org/People/Berners-Lee/card#i'), rdflib.term.URIRef('http://schema.org/owns'), rdflib.term.URIRef('https://timblbot.inrupt.net/profile/card#me'))\n",
            "(rdflib.term.URIRef('https://www.w3.org/People/Berners-Lee/card#i'), rdflib.term.URIRef('http://www.w3.org/ns/ldp#inbox'), rdflib.term.URIRef('https://timbl.com/timbl/Public/Inbox'))\n",
            "(rdflib.term.BNode('N87092309bcdb434c886fcfe395f39e92'), rdflib.term.URIRef('http://www.w3.org/2006/vcard/ns#locality'), rdflib.term.Literal('Cambridge'))\n",
            "(rdflib.term.URIRef('https://www.w3.org/People/Berners-Lee/card#i'), rdflib.term.URIRef('http://www.w3.org/ns/pim/space#preferencesFile'), rdflib.term.URIRef('https://timbl.com/timbl/Data/preferences.n3'))\n",
            "(rdflib.term.URIRef('https://www.w3.org/People/Berners-Lee/card#i'), rdflib.term.URIRef('http://xmlns.com/foaf/0.1/mbox'), rdflib.term.URIRef('mailto:timbl@w3.org'))\n",
            "(rdflib.term.URIRef('https://www.w3.org/People/Berners-Lee/card#i'), rdflib.term.URIRef('http://xmlns.com/foaf/0.1/mbox_sha1sum'), rdflib.term.Literal('965c47c5a70db7407210cef6e4e6f5374a525c5c'))\n",
            "(rdflib.term.URIRef('https://www.w3.org/People/Berners-Lee/card#i'), rdflib.term.URIRef('http://xmlns.com/foaf/0.1/givenname'), rdflib.term.Literal('Timothy'))\n",
            "(rdflib.term.BNode('N87092309bcdb434c886fcfe395f39e92'), rdflib.term.URIRef('http://www.w3.org/2006/vcard/ns#street-address'), rdflib.term.Literal('32 Vassar Street'))\n",
            "(rdflib.term.BNode('N482ad05ee5854df294db76fd61ec97a6'), rdflib.term.URIRef('http://www.w3.org/2003/01/geo/wgs84_pos#long'), rdflib.term.Literal('-71.091840'))\n",
            "(rdflib.term.BNode('N87092309bcdb434c886fcfe395f39e92'), rdflib.term.URIRef('http://www.w3.org/2006/vcard/ns#postal-code'), rdflib.term.Literal('02139'))\n",
            "(rdflib.term.URIRef('https://www.w3.org/People/Berners-Lee/card#i'), rdflib.term.URIRef('http://www.w3.org/ns/solid/terms#profileBackgroundColor'), rdflib.term.Literal('#ffffff'))\n",
            "(rdflib.term.BNode('Nff98845fd5c14ca0902ddd3c955c307c'), rdflib.term.URIRef('http://www.w3.org/2000/10/swap/pim/contact#address'), rdflib.term.BNode('N44dab085bedf4e828f0c4190a694f430'))\n",
            "(rdflib.term.URIRef('http://wiki.ontoworld.org/index.php/_IRW2006'), rdflib.term.URIRef('http://purl.org/dc/elements/1.1/title'), rdflib.term.Literal('Identity, Reference and the Web workshop 2006'))\n",
            "(rdflib.term.URIRef('http://dig.csail.mit.edu/2007/01/camp/data#course'), rdflib.term.URIRef('http://xmlns.com/foaf/0.1/maker'), rdflib.term.URIRef('https://www.w3.org/People/Berners-Lee/card#i'))\n",
            "(rdflib.term.BNode('Ndf03e6164e8242279e4c8ddf4699095f'), rdflib.term.URIRef('http://www.w3.org/2003/01/geo/wgs84_pos#lat'), rdflib.term.Literal('42.361860'))\n",
            "(rdflib.term.URIRef('https://www.w3.org/People/Berners-Lee/card#i'), rdflib.term.URIRef('http://www.w3.org/2000/01/rdf-schema#seeAlso'), rdflib.term.URIRef('https://timbl.com/timbl/Public/friends.ttl'))\n",
            "(rdflib.term.URIRef('https://www.w3.org/People/Berners-Lee/card#i'), rdflib.term.URIRef('http://www.w3.org/2006/vcard/ns#hasAddress'), rdflib.term.BNode('N87092309bcdb434c886fcfe395f39e92'))\n",
            "(rdflib.term.BNode('N482ad05ee5854df294db76fd61ec97a6'), rdflib.term.URIRef('http://www.w3.org/2003/01/geo/wgs84_pos#lat'), rdflib.term.Literal('42.361860'))\n",
            "(rdflib.term.URIRef('https://www.w3.org/People/Berners-Lee/card#i'), rdflib.term.URIRef('http://xmlns.com/foaf/0.1/account'), rdflib.term.URIRef('http://twitter.com/timberners_lee'))\n",
            "(rdflib.term.URIRef('https://www.w3.org/People/Berners-Lee/card#i'), rdflib.term.URIRef('http://xmlns.com/foaf/0.1/weblog'), rdflib.term.URIRef('http://dig.csail.mit.edu/breadcrumbs/blog/4'))\n",
            "(rdflib.term.BNode('N44dab085bedf4e828f0c4190a694f430'), rdflib.term.URIRef('http://www.w3.org/2000/10/swap/pim/contact#street2'), rdflib.term.Literal('MIT CSAIL Building 32'))\n",
            "(rdflib.term.URIRef('http://www.w3.org/People/Berners-Lee/card'), rdflib.term.URIRef('http://xmlns.com/foaf/0.1/maker'), rdflib.term.URIRef('https://www.w3.org/People/Berners-Lee/card#i'))\n",
            "(rdflib.term.URIRef('https://www.w3.org/People/Berners-Lee/card#i'), rdflib.term.URIRef('http://xmlns.com/foaf/0.1/based_near'), rdflib.term.BNode('Ndf03e6164e8242279e4c8ddf4699095f'))\n",
            "(rdflib.term.URIRef('http://www.w3.org/People/Berners-Lee/card'), rdflib.term.URIRef('http://creativecommons.org/ns#license'), rdflib.term.URIRef('http://creativecommons.org/licenses/by-nc/3.0/'))\n",
            "(rdflib.term.URIRef('https://www.w3.org/People/Berners-Lee/card#i'), rdflib.term.URIRef('http://xmlns.com/foaf/0.1/title'), rdflib.term.Literal('Sir'))\n",
            "(rdflib.term.URIRef('http://www.w3.org/DesignIssues/Overview.html'), rdflib.term.URIRef('http://xmlns.com/foaf/0.1/maker'), rdflib.term.URIRef('https://www.w3.org/People/Berners-Lee/card#i'))\n",
            "(rdflib.term.URIRef('http://www.w3.org/People/Berners-Lee/card#i'), rdflib.term.URIRef('http://www.w3.org/ns/auth/cert#key'), rdflib.term.BNode('Nc34e2bfa2f094433a7a8661174a995c0'))\n",
            "(rdflib.term.URIRef('https://www.w3.org/People/Berners-Lee/card#i'), rdflib.term.URIRef('http://xmlns.com/foaf/0.1/img'), rdflib.term.URIRef('https://www.w3.org/Press/Stock/Berners-Lee/2001-europaeum-eighth.jpg'))\n",
            "(rdflib.term.URIRef('http://dig.csail.mit.edu/breadcrumbs/blog/4'), rdflib.term.URIRef('http://xmlns.com/foaf/0.1/maker'), rdflib.term.URIRef('https://www.w3.org/People/Berners-Lee/card#i'))\n",
            "(rdflib.term.URIRef('https://www.w3.org/People/Berners-Lee/card#i'), rdflib.term.URIRef('http://www.w3.org/ns/solid/terms#publicTypeIndex'), rdflib.term.URIRef('https://timbl.com/timbl/Public/PublicTypeIndex.ttl'))\n",
            "(rdflib.term.URIRef('https://www.w3.org/People/Berners-Lee/card#i'), rdflib.term.URIRef('http://rdfs.org/sioc/ns#avatar'), rdflib.term.URIRef('http://www.w3.org/People/Berners-Lee/images/timbl-image-by-Coz-cropped.jpg'))\n",
            "(rdflib.term.BNode('N87092309bcdb434c886fcfe395f39e92'), rdflib.term.URIRef('http://www.w3.org/2006/vcard/ns#region'), rdflib.term.Literal('MA'))\n",
            "(rdflib.term.URIRef('https://www.w3.org/People/Berners-Lee/card#i'), rdflib.term.URIRef('http://www.w3.org/ns/solid/terms#oidcIssuer'), rdflib.term.URIRef('https://timbl.com'))\n",
            "(rdflib.term.URIRef('https://www.w3.org/People/Berners-Lee/card#i'), rdflib.term.URIRef('http://xmlns.com/foaf/0.1/openid'), rdflib.term.URIRef('https://www.w3.org/People/Berners-Lee/'))\n",
            "(rdflib.term.BNode('N44dab085bedf4e828f0c4190a694f430'), rdflib.term.URIRef('http://www.w3.org/2000/10/swap/pim/contact#postalCode'), rdflib.term.Literal('02139'))\n"
          ]
        }
      ],
      "source": [
        "for triple in g_tbl:\n",
        "    print(triple) "
      ]
    },
    {
      "cell_type": "markdown",
      "metadata": {
        "id": "2t9JBWSvHwbb"
      },
      "source": [
        "lub tak:"
      ]
    },
    {
      "cell_type": "code",
      "execution_count": null,
      "metadata": {
        "id": "zm4LynJpHwbb",
        "outputId": "5c00d207-cd55-446d-e6ed-6a2085d5df0e"
      },
      "outputs": [
        {
          "name": "stdout",
          "output_type": "stream",
          "text": [
            "s = https://www.w3.org/People/Berners-Lee/card#i \n",
            "\t p = http://www.w3.org/ns/pim/space#storage \n",
            "\t\t o = https://timbl.inrupt.net/\n",
            "s = http://wiki.ontoworld.org/index.php/_IRW2006 \n",
            "\t p = http://www.w3.org/2000/10/swap/pim/contact#participant \n",
            "\t\t o = https://www.w3.org/People/Berners-Lee/card#i\n",
            "s = https://www.w3.org/People/Berners-Lee/card#i \n",
            "\t p = http://xmlns.com/foaf/0.1/workplaceHomepage \n",
            "\t\t o = https://www.w3.org/\n",
            "s = N44dab085bedf4e828f0c4190a694f430 \n",
            "\t p = http://www.w3.org/2000/10/swap/pim/contact#country \n",
            "\t\t o = USA\n",
            "s = https://www.w3.org/People/Berners-Lee/card#i \n",
            "\t p = http://xmlns.com/foaf/0.1/nick \n",
            "\t\t o = TimBL\n",
            "s = Nc34e2bfa2f094433a7a8661174a995c0 \n",
            "\t p = http://www.w3.org/ns/auth/cert#exponent \n",
            "\t\t o = 65537\n",
            "s = http://www.w3.org/data#W3C \n",
            "\t p = http://xmlns.com/foaf/0.1/member \n",
            "\t\t o = https://www.w3.org/People/Berners-Lee/card#i\n",
            "s = http://dig.csail.mit.edu/data#DIG \n",
            "\t p = http://xmlns.com/foaf/0.1/member \n",
            "\t\t o = https://www.w3.org/People/Berners-Lee/card#i\n",
            "s = http://www.w3.org/People/Berners-Lee/card \n",
            "\t p = http://purl.org/dc/elements/1.1/title \n",
            "\t\t o = Tim Berners-Lee's FOAF file\n",
            "s = Nc34e2bfa2f094433a7a8661174a995c0 \n",
            "\t p = http://www.w3.org/ns/auth/cert#modulus \n",
            "\t\t o = ebe99c737bd3670239600547e5e2eb1d1497da39947b6576c3c44ffeca32cf0f2f7cbee3c47001278a90fc7fc5bcf292f741eb1fcd6bbe7f90650afb519cf13e81b2bffc6e02063ee5a55781d420b1dfaf61c15758480e66d47fb0dcb5fa7b9f7f1052e5ccbd01beee9553c3b6b51f4daf1fce991294cd09a3d1d636bc6c7656e4455d0aff06daec740ed0084aa6866fcae1359de61cc12dbe37c8fa42e977c6e727a8258bb9a3f265b27e3766fe0697f6aa0bcc81c3f026e387bd7bbc81580dc1853af2daa099186a9f59da526474ef6ec0a3d84cf400be3261b6b649dea1f78184862d34d685d2d587f09acc14cd8e578fdd2283387821296f0af39b8d8845\n",
            "s = http://www.w3.org/People/Berners-Lee/card \n",
            "\t p = http://www.w3.org/1999/02/22-rdf-syntax-ns#type \n",
            "\t\t o = http://xmlns.com/foaf/0.1/PersonalProfileDocument\n",
            "s = https://www.w3.org/People/Berners-Lee/card#i \n",
            "\t p = http://www.w3.org/2000/10/swap/pim/contact#office \n",
            "\t\t o = Nff98845fd5c14ca0902ddd3c955c307c\n",
            "s = http://dig.csail.mit.edu/2005/ajar/ajaw/data#Tabulator \n",
            "\t p = http://usefulinc.com/ns/doap#developer \n",
            "\t\t o = https://www.w3.org/People/Berners-Lee/card#i\n",
            "s = https://timbl.com/timbl/Public/friends.ttl \n",
            "\t p = http://purl.org/dc/elements/1.1/title \n",
            "\t\t o = Tim Berners-Lee's editable profile\n",
            "s = https://www.w3.org/People/Berners-Lee/card#i \n",
            "\t p = http://www.w3.org/ns/pim/space#storage \n",
            "\t\t o = https://timbl.solid.community/\n",
            "s = https://www.w3.org/People/Berners-Lee/card#i \n",
            "\t p = http://www.w3.org/2000/01/rdf-schema#label \n",
            "\t\t o = Tim Berners-Lee\n",
            "s = Ndf03e6164e8242279e4c8ddf4699095f \n",
            "\t p = http://www.w3.org/2003/01/geo/wgs84_pos#long \n",
            "\t\t o = -71.091840\n",
            "s = https://www.w3.org/People/Berners-Lee/card#i \n",
            "\t p = http://www.w3.org/ns/solid/terms#editableProfile \n",
            "\t\t o = https://timbl.com/timbl/Public/friends.ttl\n",
            "s = N44dab085bedf4e828f0c4190a694f430 \n",
            "\t p = http://www.w3.org/2000/10/swap/pim/contact#street \n",
            "\t\t o = 32 Vassar Street\n",
            "s = https://www.w3.org/People/Berners-Lee/card#i \n",
            "\t p = http://www.w3.org/2000/10/swap/pim/contact#assistant \n",
            "\t\t o = https://www.w3.org/People/Berners-Lee/card#amy\n",
            "s = http://dig.csail.mit.edu/breadcrumbs/blog/4 \n",
            "\t p = http://purl.org/dc/elements/1.1/title \n",
            "\t\t o = timbl's blog on DIG\n",
            "s = http://www.w3.org/2011/Talks/0331-hyderabad-tbl/data#talk \n",
            "\t p = http://purl.org/dc/terms/title \n",
            "\t\t o = Designing the Web for an Open Society\n",
            "s = Nff98845fd5c14ca0902ddd3c955c307c \n",
            "\t p = http://www.w3.org/2003/01/geo/wgs84_pos#location \n",
            "\t\t o = N482ad05ee5854df294db76fd61ec97a6\n",
            "s = https://www.w3.org/People/Berners-Lee/card#i \n",
            "\t p = http://www.w3.org/1999/02/22-rdf-syntax-ns#type \n",
            "\t\t o = http://www.w3.org/2000/10/swap/pim/contact#Male\n",
            "s = https://www.w3.org/People/Berners-Lee/card#i \n",
            "\t p = http://www.w3.org/ns/solid/terms#profileHighlightColor \n",
            "\t\t o = #00467E\n",
            "s = https://www.w3.org/People/Berners-Lee/card#i \n",
            "\t p = http://www.w3.org/2000/10/swap/pim/contact#preferredURI \n",
            "\t\t o = https://www.w3.org/People/Berners-Lee/card#i\n",
            "s = https://www.w3.org/People/Berners-Lee/card#i \n",
            "\t p = http://xmlns.com/foaf/0.1/name \n",
            "\t\t o = Timothy Berners-Lee\n",
            "s = Nc34e2bfa2f094433a7a8661174a995c0 \n",
            "\t p = http://www.w3.org/1999/02/22-rdf-syntax-ns#type \n",
            "\t\t o = http://www.w3.org/ns/auth/cert#RSAPublicKey\n",
            "s = http://www.w3.org/People/Berners-Lee/card \n",
            "\t p = http://xmlns.com/foaf/0.1/primaryTopic \n",
            "\t\t o = https://www.w3.org/People/Berners-Lee/card#i\n",
            "s = https://www.w3.org/People/Berners-Lee/card#i \n",
            "\t p = http://www.w3.org/2000/10/swap/pim/contact#publicHomePage \n",
            "\t\t o = http://www.w3.org/People/Berners-Lee/\n",
            "s = http://dig.csail.mit.edu/breadcrumbs/blog/4 \n",
            "\t p = http://www.w3.org/2000/01/rdf-schema#seeAlso \n",
            "\t\t o = http://dig.csail.mit.edu/breadcrumbs/blog/feed/4\n",
            "s = https://timbl.com/timbl/Public/friends.ttl \n",
            "\t p = http://www.w3.org/1999/02/22-rdf-syntax-ns#type \n",
            "\t\t o = http://xmlns.com/foaf/0.1/PersonalProfileDocument\n",
            "s = http://www.w3.org/DesignIssues/Overview.html \n",
            "\t p = http://purl.org/dc/elements/1.1/title \n",
            "\t\t o = Design Issues for the World Wide Web\n",
            "s = N44dab085bedf4e828f0c4190a694f430 \n",
            "\t p = http://www.w3.org/2000/10/swap/pim/contact#city \n",
            "\t\t o = Cambridge\n",
            "s = https://www.w3.org/People/Berners-Lee/card#i \n",
            "\t p = http://www.w3.org/2006/vcard/ns#fn \n",
            "\t\t o = Tim Berners-Lee\n",
            "s = https://timbl.com/timbl/Public/friends.ttl \n",
            "\t p = http://xmlns.com/foaf/0.1/maker \n",
            "\t\t o = https://www.w3.org/People/Berners-Lee/card#i\n",
            "s = http://www.w3.org/2000/10/swap/data#Cwm \n",
            "\t p = http://usefulinc.com/ns/doap#developer \n",
            "\t\t o = https://www.w3.org/People/Berners-Lee/card#i\n",
            "s = https://www.w3.org/People/Berners-Lee/card#i \n",
            "\t p = http://xmlns.com/foaf/0.1/account \n",
            "\t\t o = http://en.wikipedia.org/wiki/User:Timbl\n",
            "s = http://www.w3.org/2011/Talks/0331-hyderabad-tbl/data#talk \n",
            "\t p = http://xmlns.com/foaf/0.1/maker \n",
            "\t\t o = https://www.w3.org/People/Berners-Lee/card#i\n",
            "s = https://www.w3.org/People/Berners-Lee/card#i \n",
            "\t p = http://xmlns.com/foaf/0.1/account \n",
            "\t\t o = http://www.reddit.com/user/timbl/\n",
            "s = https://www.w3.org/People/Berners-Lee/card#i \n",
            "\t p = http://www.w3.org/2000/10/swap/pim/contact#homePage \n",
            "\t\t o = http://www.w3.org/People/Berners-Lee/\n",
            "s = https://timbl.com/timbl/Public/friends.ttl \n",
            "\t p = http://xmlns.com/foaf/0.1/primaryTopic \n",
            "\t\t o = https://www.w3.org/People/Berners-Lee/card#i\n",
            "s = https://www.w3.org/People/Berners-Lee/card#i \n",
            "\t p = http://www.w3.org/ns/pim/space#storage \n",
            "\t\t o = https://timbl.com/timbl/Public/\n",
            "s = https://www.w3.org/People/Berners-Lee/card#i \n",
            "\t p = http://xmlns.com/foaf/0.1/nick \n",
            "\t\t o = timbl\n",
            "s = http://www.ecs.soton.ac.uk/~dt2/dlstuff/www2006_data#panel-panelk01 \n",
            "\t p = http://www.w3.org/2000/01/rdf-schema#label \n",
            "\t\t o = The Next Wave of the Web (Plenary Panel)\n",
            "s = https://www.w3.org/People/Berners-Lee/card#i \n",
            "\t p = http://www.w3.org/1999/02/22-rdf-syntax-ns#type \n",
            "\t\t o = http://xmlns.com/foaf/0.1/Person\n",
            "s = https://timbl.com/timbl/Public/friends.ttl \n",
            "\t p = http://creativecommons.org/ns#license \n",
            "\t\t o = http://creativecommons.org/licenses/by-nc/3.0/\n",
            "s = https://www.w3.org/People/Berners-Lee/card#i \n",
            "\t p = http://xmlns.com/foaf/0.1/family_name \n",
            "\t\t o = Berners-Lee\n",
            "s = https://www.w3.org/People/Berners-Lee/card#i \n",
            "\t p = http://xmlns.com/foaf/0.1/homepage \n",
            "\t\t o = https://www.w3.org/People/Berners-Lee/\n",
            "s = N87092309bcdb434c886fcfe395f39e92 \n",
            "\t p = http://www.w3.org/1999/02/22-rdf-syntax-ns#type \n",
            "\t\t o = http://www.w3.org/2006/vcard/ns#Work\n",
            "s = http://www.ecs.soton.ac.uk/~dt2/dlstuff/www2006_data#panel-panelk01 \n",
            "\t p = http://www.w3.org/2000/10/swap/pim/contact#participant \n",
            "\t\t o = https://www.w3.org/People/Berners-Lee/card#i\n",
            "s = https://www.w3.org/People/Berners-Lee/card#i \n",
            "\t p = http://schema.org/owns \n",
            "\t\t o = https://timblbot.inrupt.net/profile/card#me\n",
            "s = https://www.w3.org/People/Berners-Lee/card#i \n",
            "\t p = http://www.w3.org/ns/ldp#inbox \n",
            "\t\t o = https://timbl.com/timbl/Public/Inbox\n",
            "s = N87092309bcdb434c886fcfe395f39e92 \n",
            "\t p = http://www.w3.org/2006/vcard/ns#locality \n",
            "\t\t o = Cambridge\n",
            "s = https://www.w3.org/People/Berners-Lee/card#i \n",
            "\t p = http://www.w3.org/ns/pim/space#preferencesFile \n",
            "\t\t o = https://timbl.com/timbl/Data/preferences.n3\n",
            "s = https://www.w3.org/People/Berners-Lee/card#i \n",
            "\t p = http://xmlns.com/foaf/0.1/mbox \n",
            "\t\t o = mailto:timbl@w3.org\n",
            "s = https://www.w3.org/People/Berners-Lee/card#i \n",
            "\t p = http://xmlns.com/foaf/0.1/mbox_sha1sum \n",
            "\t\t o = 965c47c5a70db7407210cef6e4e6f5374a525c5c\n",
            "s = https://www.w3.org/People/Berners-Lee/card#i \n",
            "\t p = http://xmlns.com/foaf/0.1/givenname \n",
            "\t\t o = Timothy\n",
            "s = N87092309bcdb434c886fcfe395f39e92 \n",
            "\t p = http://www.w3.org/2006/vcard/ns#street-address \n",
            "\t\t o = 32 Vassar Street\n",
            "s = N482ad05ee5854df294db76fd61ec97a6 \n",
            "\t p = http://www.w3.org/2003/01/geo/wgs84_pos#long \n",
            "\t\t o = -71.091840\n",
            "s = N87092309bcdb434c886fcfe395f39e92 \n",
            "\t p = http://www.w3.org/2006/vcard/ns#postal-code \n",
            "\t\t o = 02139\n",
            "s = https://www.w3.org/People/Berners-Lee/card#i \n",
            "\t p = http://www.w3.org/ns/solid/terms#profileBackgroundColor \n",
            "\t\t o = #ffffff\n",
            "s = Nff98845fd5c14ca0902ddd3c955c307c \n",
            "\t p = http://www.w3.org/2000/10/swap/pim/contact#address \n",
            "\t\t o = N44dab085bedf4e828f0c4190a694f430\n",
            "s = http://wiki.ontoworld.org/index.php/_IRW2006 \n",
            "\t p = http://purl.org/dc/elements/1.1/title \n",
            "\t\t o = Identity, Reference and the Web workshop 2006\n",
            "s = http://dig.csail.mit.edu/2007/01/camp/data#course \n",
            "\t p = http://xmlns.com/foaf/0.1/maker \n",
            "\t\t o = https://www.w3.org/People/Berners-Lee/card#i\n",
            "s = Ndf03e6164e8242279e4c8ddf4699095f \n",
            "\t p = http://www.w3.org/2003/01/geo/wgs84_pos#lat \n",
            "\t\t o = 42.361860\n",
            "s = https://www.w3.org/People/Berners-Lee/card#i \n",
            "\t p = http://www.w3.org/2000/01/rdf-schema#seeAlso \n",
            "\t\t o = https://timbl.com/timbl/Public/friends.ttl\n",
            "s = https://www.w3.org/People/Berners-Lee/card#i \n",
            "\t p = http://www.w3.org/2006/vcard/ns#hasAddress \n",
            "\t\t o = N87092309bcdb434c886fcfe395f39e92\n",
            "s = N482ad05ee5854df294db76fd61ec97a6 \n",
            "\t p = http://www.w3.org/2003/01/geo/wgs84_pos#lat \n",
            "\t\t o = 42.361860\n",
            "s = https://www.w3.org/People/Berners-Lee/card#i \n",
            "\t p = http://xmlns.com/foaf/0.1/account \n",
            "\t\t o = http://twitter.com/timberners_lee\n",
            "s = https://www.w3.org/People/Berners-Lee/card#i \n",
            "\t p = http://xmlns.com/foaf/0.1/weblog \n",
            "\t\t o = http://dig.csail.mit.edu/breadcrumbs/blog/4\n",
            "s = N44dab085bedf4e828f0c4190a694f430 \n",
            "\t p = http://www.w3.org/2000/10/swap/pim/contact#street2 \n",
            "\t\t o = MIT CSAIL Building 32\n",
            "s = http://www.w3.org/People/Berners-Lee/card \n",
            "\t p = http://xmlns.com/foaf/0.1/maker \n",
            "\t\t o = https://www.w3.org/People/Berners-Lee/card#i\n",
            "s = https://www.w3.org/People/Berners-Lee/card#i \n",
            "\t p = http://xmlns.com/foaf/0.1/based_near \n",
            "\t\t o = Ndf03e6164e8242279e4c8ddf4699095f\n",
            "s = http://www.w3.org/People/Berners-Lee/card \n",
            "\t p = http://creativecommons.org/ns#license \n",
            "\t\t o = http://creativecommons.org/licenses/by-nc/3.0/\n",
            "s = https://www.w3.org/People/Berners-Lee/card#i \n",
            "\t p = http://xmlns.com/foaf/0.1/title \n",
            "\t\t o = Sir\n",
            "s = http://www.w3.org/DesignIssues/Overview.html \n",
            "\t p = http://xmlns.com/foaf/0.1/maker \n",
            "\t\t o = https://www.w3.org/People/Berners-Lee/card#i\n",
            "s = http://www.w3.org/People/Berners-Lee/card#i \n",
            "\t p = http://www.w3.org/ns/auth/cert#key \n",
            "\t\t o = Nc34e2bfa2f094433a7a8661174a995c0\n",
            "s = https://www.w3.org/People/Berners-Lee/card#i \n",
            "\t p = http://xmlns.com/foaf/0.1/img \n",
            "\t\t o = https://www.w3.org/Press/Stock/Berners-Lee/2001-europaeum-eighth.jpg\n",
            "s = http://dig.csail.mit.edu/breadcrumbs/blog/4 \n",
            "\t p = http://xmlns.com/foaf/0.1/maker \n",
            "\t\t o = https://www.w3.org/People/Berners-Lee/card#i\n",
            "s = https://www.w3.org/People/Berners-Lee/card#i \n",
            "\t p = http://www.w3.org/ns/solid/terms#publicTypeIndex \n",
            "\t\t o = https://timbl.com/timbl/Public/PublicTypeIndex.ttl\n",
            "s = https://www.w3.org/People/Berners-Lee/card#i \n",
            "\t p = http://rdfs.org/sioc/ns#avatar \n",
            "\t\t o = http://www.w3.org/People/Berners-Lee/images/timbl-image-by-Coz-cropped.jpg\n",
            "s = N87092309bcdb434c886fcfe395f39e92 \n",
            "\t p = http://www.w3.org/2006/vcard/ns#region \n",
            "\t\t o = MA\n",
            "s = https://www.w3.org/People/Berners-Lee/card#i \n",
            "\t p = http://www.w3.org/ns/solid/terms#oidcIssuer \n",
            "\t\t o = https://timbl.com\n",
            "s = https://www.w3.org/People/Berners-Lee/card#i \n",
            "\t p = http://xmlns.com/foaf/0.1/openid \n",
            "\t\t o = https://www.w3.org/People/Berners-Lee/\n",
            "s = N44dab085bedf4e828f0c4190a694f430 \n",
            "\t p = http://www.w3.org/2000/10/swap/pim/contact#postalCode \n",
            "\t\t o = 02139\n"
          ]
        }
      ],
      "source": [
        "for s, p, o in g_tbl:\n",
        "    print(\"s =\", s, \"\\n\\t p =\", p, \"\\n\\t\\t o =\", o)"
      ]
    },
    {
      "cell_type": "markdown",
      "metadata": {
        "id": "PFrpZSAQHwbb"
      },
      "source": [
        "To oczywiście nie jest jeszcze żadne filtrowanie. Ale jeśli dodasz `if`, to już będzie to jakiś filtr:"
      ]
    },
    {
      "cell_type": "code",
      "execution_count": null,
      "metadata": {
        "id": "M5a60AKkHwbc",
        "outputId": "114c8d2e-c358-40bd-c135-7f9c295112dd"
      },
      "outputs": [
        {
          "name": "stdout",
          "output_type": "stream",
          "text": [
            "\"Tim Berners-Lee\" jest etykietą zasobu o identyfikatorze https://www.w3.org/People/Berners-Lee/card#i\n"
          ]
        }
      ],
      "source": [
        "from rdflib import URIRef\n",
        "from rdflib.namespace import RDFS\n",
        "\n",
        "tbl = URIRef('https://www.w3.org/People/Berners-Lee/card#i')\n",
        "\n",
        "for s, p, o in g_tbl:\n",
        "    if s == tbl and p == RDFS.label:\n",
        "        print('\\\"{}\\\" jest etykietą zasobu o identyfikatorze {}'.format(o,s))"
      ]
    },
    {
      "cell_type": "markdown",
      "metadata": {
        "id": "3v_o7nK6Hwbc"
      },
      "source": [
        "Oczywiście nie polecamy stosowania powyższych rozwiązań filtrujących. Poniżej zaproponujemy kilka metod zaimplementowanych w RDFLib.\n",
        "\n",
        "Pierwszą, i pewnie najważniejszą, z nich jest funkcja `triples`. Jako wynik zwraca ona zbiór trójek mających zadaną przez nas formę."
      ]
    },
    {
      "cell_type": "code",
      "execution_count": null,
      "metadata": {
        "id": "QkIAY5RQHwbc",
        "outputId": "2d815f5f-964b-41ff-f07a-bffb9d14fddd"
      },
      "outputs": [
        {
          "name": "stdout",
          "output_type": "stream",
          "text": [
            "https://www.w3.org/People/Berners-Lee/card#i is a http://www.w3.org/2000/10/swap/pim/contact#Male\n",
            "https://www.w3.org/People/Berners-Lee/card#i is a http://xmlns.com/foaf/0.1/Person\n"
          ]
        }
      ],
      "source": [
        "from rdflib.namespace import RDF\n",
        "\n",
        "for s, p, o in g_tbl.triples((tbl, RDF.type, None)):\n",
        "    print(\"{} is a {}\".format(s, o)) "
      ]
    },
    {
      "cell_type": "markdown",
      "metadata": {
        "id": "M7Gf7uAkHwbc"
      },
      "source": [
        "W powyższym kodzie funkcja `triples()` przyjmuje jako argument formę `(tbl, RDF.type, None)` i zwraca jako wynik trójki, w których podmiotem jest `tbl`, a orzeczeniem `RDF.type`. Dopełnienie jest nieokreślone (`None`).\n",
        "\n",
        "Ponieważ funkcja `triples()` zwraca zbiór trójek, można go dodać do dowolnego grafu:"
      ]
    },
    {
      "cell_type": "code",
      "execution_count": null,
      "metadata": {
        "id": "0MYVo1QMHwbc",
        "outputId": "6c92995f-f5f6-4105-e72f-dc65ca46f959"
      },
      "outputs": [
        {
          "name": "stdout",
          "output_type": "stream",
          "text": [
            "@prefix con: <http://www.w3.org/2000/10/swap/pim/contact#> .\n",
            "@prefix foaf: <http://xmlns.com/foaf/0.1/> .\n",
            "\n",
            "<https://www.w3.org/People/Berners-Lee/card#i> a con:Male,\n",
            "        foaf:Person .\n",
            "\n",
            "\n"
          ]
        }
      ],
      "source": [
        "g = Graph()\n",
        "g.bind('foaf', FOAF)\n",
        "g.bind('con', Namespace('http://www.w3.org/2000/10/swap/pim/contact#'))\n",
        "\n",
        "g += g_tbl.triples((tbl, RDF.type, None))\n",
        "\n",
        "print(g.serialize(format='turtle'))"
      ]
    },
    {
      "cell_type": "markdown",
      "metadata": {
        "id": "eA4MFI5iHwbc"
      },
      "source": [
        "W RDFLib możemy filtrować graf skupiając się jedynie na fragmentach trójek. Do tego służą funkcje `subjects()`, `predicates()`, `objects()`, `subject_predicates`, `predicate_objects`, `subject_objects`. Zobaczmy jak użyć niektórych z nich."
      ]
    },
    {
      "cell_type": "code",
      "execution_count": null,
      "metadata": {
        "id": "-tU-lxf0Hwbc",
        "outputId": "29949a6a-94f6-4084-84bd-d1bc4238bf86"
      },
      "outputs": [
        {
          "name": "stdout",
          "output_type": "stream",
          "text": [
            "https://www.w3.org/People/Berners-Lee/card#i jest typu FOAF.Person.\n",
            "\n",
            "\n",
            "Tim Berners-Lee jest związany predykatem http://www.w3.org/1999/02/22-rdf-syntax-ns#type z klasą FOAF.Person.\n",
            "\n",
            "W grafie opisującym Tiam Bernersa-Lee mamy klasy:\n",
            "- http://www.w3.org/People/Berners-Lee/card jest typu http://xmlns.com/foaf/0.1/PersonalProfileDocument.\n",
            "- https://timbl.com/timbl/Public/friends.ttl jest typu http://xmlns.com/foaf/0.1/PersonalProfileDocument.\n",
            "- Nc34e2bfa2f094433a7a8661174a995c0 jest typu http://www.w3.org/ns/auth/cert#RSAPublicKey.\n",
            "- https://www.w3.org/People/Berners-Lee/card#i jest typu http://www.w3.org/2000/10/swap/pim/contact#Male.\n",
            "- https://www.w3.org/People/Berners-Lee/card#i jest typu http://xmlns.com/foaf/0.1/Person.\n",
            "- N87092309bcdb434c886fcfe395f39e92 jest typu http://www.w3.org/2006/vcard/ns#Work.\n"
          ]
        }
      ],
      "source": [
        "for subject in g_tbl.subjects(predicate=RDF.type, object=FOAF.Person): \n",
        "    print(\"{} jest typu FOAF.Person.\".format(subject))\n",
        "\n",
        "print('\\n')\n",
        "for predicate in g_tbl.predicates(subject=tbl, object=FOAF.Person): \n",
        "    print(\"Tim Berners-Lee jest związany predykatem {} z klasą FOAF.Person.\".format(predicate))\n",
        "\n",
        "print('\\nW grafie opisującym Tiam Bernersa-Lee mamy klasy:')    \n",
        "for subject, object in g_tbl.subject_objects(predicate=RDF.type): \n",
        "    print(\"- {} jest typu {}.\".format(subject, object))        "
      ]
    },
    {
      "cell_type": "markdown",
      "metadata": {
        "id": "CqyGSXGLHwbd"
      },
      "source": [
        "Finally, for some properties, only one value per resource makes sense (i.e they are functional properties, or have max-cardinality of 1). The `value()` method is useful for this, as it returns just a single node, not a generator:\n",
        "\n",
        "Get a value for a pair of two criteria\n",
        "\n",
        "Exactly one of subject, predicate, object must be None. Useful if one\n",
        "knows that there may only be one value.\n",
        "\n",
        "It is one of those situations that occur a lot, hence this\n",
        "'macro' like utility\n",
        "\n",
        "Parameters:\n",
        "subject, predicate, object  -- exactly one must be None\n",
        "default -- value to be returned if no values found\n",
        "any -- if True, return any value in the case there is more than one,\n",
        "else, raise UniquenessError"
      ]
    },
    {
      "cell_type": "markdown",
      "metadata": {
        "id": "NG1BEOB5Hwbd"
      },
      "source": [
        "Funkcja `value()` może mieć dwa ciekawe użycia. Oba wiąż się z tym, że zwraca ona tylko jedną wartość. Przywołajmy więc jeszcze raz graf, gdzie Janowi Kowalskiemu przypiszemy dwa przezwiska:"
      ]
    },
    {
      "cell_type": "code",
      "execution_count": null,
      "metadata": {
        "id": "BD4FLIg7Hwbd",
        "outputId": "e218b7fc-dcb6-4a7f-82bc-35f212ae9b45"
      },
      "outputs": [
        {
          "data": {
            "text/plain": [
              "<Graph identifier=N06cc5dd9effd4c9bbc6a0b372f1e3674 (<class 'rdflib.graph.Graph'>)>"
            ]
          },
          "execution_count": 46,
          "metadata": {},
          "output_type": "execute_result"
        }
      ],
      "source": [
        "# Utwórz nowy graf.\n",
        "g = Graph()\n",
        "g.add((uri_jana_kowalskiego, FOAF.nick, Literal('Wafel'))) \n",
        "g.add((uri_jana_kowalskiego, FOAF.nick, Literal('Chudy'))) "
      ]
    },
    {
      "cell_type": "markdown",
      "metadata": {
        "id": "5FFObEPdHwbd"
      },
      "source": [
        "Teraz jeśli wywołamy funkcję `value()` z argumentem `any=True`, to zwróci ona tylko jedną z wartości:"
      ]
    },
    {
      "cell_type": "code",
      "execution_count": null,
      "metadata": {
        "id": "8u-vadzIHwbd",
        "outputId": "39649679-a05a-4bb1-a115-0b9576a18fd0"
      },
      "outputs": [
        {
          "data": {
            "text/plain": [
              "rdflib.term.Literal('Wafel')"
            ]
          },
          "execution_count": 47,
          "metadata": {},
          "output_type": "execute_result"
        }
      ],
      "source": [
        "g.value(subject=uri_jana_kowalskiego, predicate=FOAF.nick, any=True)"
      ]
    },
    {
      "cell_type": "markdown",
      "metadata": {
        "id": "HChQgyi4Hwbd"
      },
      "source": [
        "Jeśli argument `any=True`, wówczas otrzymamy błąd *Uniqueness assumption is not fulfilled*:"
      ]
    },
    {
      "cell_type": "code",
      "execution_count": null,
      "metadata": {
        "id": "-bRAHgD4Hwbd",
        "outputId": "caaca84a-7138-4811-9ce6-c54c3f0b64f2"
      },
      "outputs": [
        {
          "ename": "UniquenessError",
          "evalue": "Uniqueness assumption is not fulfilled. Multiple values are: While trying to find a value for (http://ai.kul.pl/vocab/jan_kowalski, http://xmlns.com/foaf/0.1/nick, None) the following multiple values where found:\n(http://ai.kul.pl/vocab/jan_kowalski, http://xmlns.com/foaf/0.1/nick, Wafel)\n (contexts: [<Graph identifier=N06cc5dd9effd4c9bbc6a0b372f1e3674 (<class 'rdflib.graph.Graph'>)>])\n(http://ai.kul.pl/vocab/jan_kowalski, http://xmlns.com/foaf/0.1/nick, Chudy)\n (contexts: [<Graph identifier=N06cc5dd9effd4c9bbc6a0b372f1e3674 (<class 'rdflib.graph.Graph'>)>])\n",
          "output_type": "error",
          "traceback": [
            "\u001b[0;31m---------------------------------------------------------------------------\u001b[0m",
            "\u001b[0;31mUniquenessError\u001b[0m                           Traceback (most recent call last)",
            "Input \u001b[0;32mIn [48]\u001b[0m, in \u001b[0;36m<cell line: 1>\u001b[0;34m()\u001b[0m\n\u001b[0;32m----> 1\u001b[0m \u001b[43mg\u001b[49m\u001b[38;5;241;43m.\u001b[39;49m\u001b[43mvalue\u001b[49m\u001b[43m(\u001b[49m\u001b[43msubject\u001b[49m\u001b[38;5;241;43m=\u001b[39;49m\u001b[43muri_jana_kowalskiego\u001b[49m\u001b[43m,\u001b[49m\u001b[43m \u001b[49m\u001b[43mpredicate\u001b[49m\u001b[38;5;241;43m=\u001b[39;49m\u001b[43mFOAF\u001b[49m\u001b[38;5;241;43m.\u001b[39;49m\u001b[43mnick\u001b[49m\u001b[43m,\u001b[49m\u001b[43m \u001b[49m\u001b[38;5;28;43many\u001b[39;49m\u001b[38;5;241;43m=\u001b[39;49m\u001b[38;5;28;43;01mFalse\u001b[39;49;00m\u001b[43m)\u001b[49m\n",
            "File \u001b[0;32m~/miniforge3/lib/python3.9/site-packages/rdflib/graph.py:764\u001b[0m, in \u001b[0;36mGraph.value\u001b[0;34m(self, subject, predicate, object, default, any)\u001b[0m\n\u001b[1;32m    757\u001b[0m     \u001b[38;5;28;01mfor\u001b[39;00m (s, p, o), contexts \u001b[38;5;129;01min\u001b[39;00m triples:\n\u001b[1;32m    758\u001b[0m         msg \u001b[38;5;241m+\u001b[39m\u001b[38;5;241m=\u001b[39m \u001b[38;5;124m\"\u001b[39m\u001b[38;5;124m(\u001b[39m\u001b[38;5;132;01m%s\u001b[39;00m\u001b[38;5;124m, \u001b[39m\u001b[38;5;132;01m%s\u001b[39;00m\u001b[38;5;124m, \u001b[39m\u001b[38;5;132;01m%s\u001b[39;00m\u001b[38;5;124m)\u001b[39m\u001b[38;5;130;01m\\n\u001b[39;00m\u001b[38;5;124m (contexts: \u001b[39m\u001b[38;5;132;01m%s\u001b[39;00m\u001b[38;5;124m)\u001b[39m\u001b[38;5;130;01m\\n\u001b[39;00m\u001b[38;5;124m\"\u001b[39m \u001b[38;5;241m%\u001b[39m (\n\u001b[1;32m    759\u001b[0m             s,\n\u001b[1;32m    760\u001b[0m             p,\n\u001b[1;32m    761\u001b[0m             o,\n\u001b[1;32m    762\u001b[0m             \u001b[38;5;28mlist\u001b[39m(contexts),\n\u001b[1;32m    763\u001b[0m         )\n\u001b[0;32m--> 764\u001b[0m     \u001b[38;5;28;01mraise\u001b[39;00m exceptions\u001b[38;5;241m.\u001b[39mUniquenessError(msg)\n\u001b[1;32m    765\u001b[0m \u001b[38;5;28;01mexcept\u001b[39;00m \u001b[38;5;167;01mStopIteration\u001b[39;00m:\n\u001b[1;32m    766\u001b[0m     \u001b[38;5;28;01mpass\u001b[39;00m\n",
            "\u001b[0;31mUniquenessError\u001b[0m: Uniqueness assumption is not fulfilled. Multiple values are: While trying to find a value for (http://ai.kul.pl/vocab/jan_kowalski, http://xmlns.com/foaf/0.1/nick, None) the following multiple values where found:\n(http://ai.kul.pl/vocab/jan_kowalski, http://xmlns.com/foaf/0.1/nick, Wafel)\n (contexts: [<Graph identifier=N06cc5dd9effd4c9bbc6a0b372f1e3674 (<class 'rdflib.graph.Graph'>)>])\n(http://ai.kul.pl/vocab/jan_kowalski, http://xmlns.com/foaf/0.1/nick, Chudy)\n (contexts: [<Graph identifier=N06cc5dd9effd4c9bbc6a0b372f1e3674 (<class 'rdflib.graph.Graph'>)>])\n"
          ]
        }
      ],
      "source": [
        "g.value(subject=uri_jana_kowalskiego, predicate=FOAF.nick, any=False)"
      ]
    },
    {
      "cell_type": "markdown",
      "metadata": {
        "id": "72llQu1JHwbd"
      },
      "source": [
        "Gdy jednak zapytamy, kto ma przezwisko Wafel i nadal `any=False`, nie otrzymamy błędu, bo tylko jedna osoba nosi ten przydomek:"
      ]
    },
    {
      "cell_type": "code",
      "execution_count": null,
      "metadata": {
        "id": "UB83GOoRHwbd"
      },
      "outputs": [],
      "source": [
        "g.value(predicate=FOAF.nick, object=Literal(\"Wafel\"), any=False)"
      ]
    },
    {
      "cell_type": "markdown",
      "metadata": {
        "id": "TQwJE3_9Hwbd"
      },
      "source": [
        "`label()` zwraca wartość `RDFS.label` lub napis będący wartością argumentu `default`."
      ]
    },
    {
      "cell_type": "code",
      "execution_count": null,
      "metadata": {
        "id": "sk3dnGhIHwbd"
      },
      "outputs": [],
      "source": [
        "print(g_tbl.label(subject=tbl, default='Nie ma labela.'))\n",
        "print(g.label(subject=tbl, default='Nie ma labela.'))"
      ]
    },
    {
      "cell_type": "markdown",
      "metadata": {
        "id": "xZs9AVwNHwbd"
      },
      "source": [
        "Funkcja `preferredLabel()` zwraca pary `(SKOS.prefLabel, PREF_LABEL_VALUE)` lub `(RDFS.label, LABEL_VALUE)`. Argument `labelProperties` można rozszerzyć o dodatkowe labele, e.g. `SKOS.altLabel`. Jeśli dany zasób będzie posiadał jednocześnie `SKOS.prefLabel` i `RDFS.label`, funkcja zwróci `(SKOS.prefLabel, PREF_LABEL_VALUE)`. "
      ]
    },
    {
      "cell_type": "code",
      "execution_count": null,
      "metadata": {
        "id": "EAo1OjBmHwbe"
      },
      "outputs": [],
      "source": [
        "# g_tbl.remove((tbl, SKOS.prefLabel, None))\n",
        "print(g_tbl.preferredLabel(subject=tbl, lang=None, default=None,\n",
        "                           labelProperties=(rdflib.term.URIRef('http://www.w3.org/2004/02/skos/core#prefLabel'), \n",
        "                                            rdflib.term.URIRef('http://www.w3.org/2000/01/rdf-schema#label'))))\n",
        "\n",
        "g_tbl.add((tbl, SKOS.prefLabel, Literal('Sir Tim', lang='en')))\n",
        "\n",
        "print(g_tbl.preferredLabel(subject=tbl, lang=None, default=None,\n",
        "                           labelProperties=(rdflib.term.URIRef('http://www.w3.org/2004/02/skos/core#prefLabel'), \n",
        "                                            rdflib.term.URIRef('http://www.w3.org/2000/01/rdf-schema#label'))))\n",
        "\n",
        "\n",
        "print(g.preferredLabel(subject=tbl, lang=None, default='Nie ma żadnej etykiety.',\n",
        "                           labelProperties=(rdflib.term.URIRef('http://www.w3.org/2004/02/skos/core#prefLabel'),\n",
        "                                            rdflib.term.URIRef('http://www.w3.org/2000/01/rdf-schema#label'))))"
      ]
    },
    {
      "cell_type": "markdown",
      "metadata": {
        "id": "9tIv4ELNHwbe"
      },
      "source": [
        "#### User-friendly labels\n",
        "\n",
        "Use `label()` to quickly look up the RDFS label of something, or better use `preferredLabel()` to find a label using several different properties (i.e. either rdfs:label, skos:preferredLabel, dc:title, etc.)."
      ]
    },
    {
      "cell_type": "code",
      "execution_count": null,
      "metadata": {
        "id": "7Hh4plTEHwbe"
      },
      "outputs": [],
      "source": [
        "import rdflib\n",
        "from rdflib import Graph, Namespace, Literal\n",
        "from rdflib.namespace import RDFS, SKOS, DC\n",
        "\n",
        "ns = Namespace(\"http://kul.pl/ontology/\")\n",
        "\n",
        "g = Graph()\n",
        "g.add((ns.bob, RDFS.label, Literal(\"Bob\")))\n",
        "g.add((ns.bob, SKOS.prefLabel, Literal(\"Bobinio\")))\n",
        "g.add((ns.bob, DC.title, Literal(\"Bob Title\")))"
      ]
    },
    {
      "cell_type": "code",
      "execution_count": null,
      "metadata": {
        "id": "_4QT8tFgHwbe"
      },
      "outputs": [],
      "source": [
        "print(\"-\", g.label(ns.bob))\n",
        "print(\"-\", g.preferredLabel(ns.bob))"
      ]
    },
    {
      "cell_type": "markdown",
      "metadata": {
        "id": "ayR65EMJHwbe"
      },
      "source": [
        "## Kwerendy SPARQL"
      ]
    },
    {
      "cell_type": "markdown",
      "metadata": {
        "id": "pAMLi4urHwbe"
      },
      "source": [
        "RDFLib pozawala na użycie języka kwerend SPARQL 1.1.\n",
        "\n",
        "Użyj metody `rdflib.graph.Graph.query()`, aby wykonać kwerendę na grafie.\n",
        "\n",
        "`rdflib.graph.Graph.update()`...\n",
        "\n",
        "Metoda `query()` instancję `rdflib.query.Result`. \n",
        "\n",
        "SELECT, będzie to instancja typu `rdflib.query.ResultRow` zwracająca zmienne z kwerendy. \n",
        "\n",
        "CONSTRUCT/DESCRIBE queries, iterating over the result object gives the triples. \n",
        "\n",
        "ASK queries, iterating will yield the single boolean answer, or evaluating the result object in a boolean-context (i.e. `bool(result)`)"
      ]
    },
    {
      "cell_type": "markdown",
      "metadata": {
        "id": "I7ShBbtkHwbe"
      },
      "source": [
        "```\n",
        "PREFIX rdfs: <...>\n",
        "PREFIX owl: <...>\n",
        "PREFIX foaf: <...>\n",
        "\n",
        "SELECT ?var1 ?var2 ...\n",
        "FROM #graph\n",
        "WHERE { \n",
        "    #query pattern with ?var1 and ?var2\n",
        "}\n",
        "```"
      ]
    },
    {
      "cell_type": "code",
      "execution_count": null,
      "metadata": {
        "id": "u8w9L1IaHwbe"
      },
      "outputs": [],
      "source": [
        "import rdflib\n",
        "g_tbl = rdflib.Graph()\n",
        "g_tbl.parse(\"http://www.w3.org/People/Berners-Lee/card\")\n",
        "print(g_tbl.serialize(format=\"turtle\"))"
      ]
    },
    {
      "cell_type": "code",
      "execution_count": null,
      "metadata": {
        "id": "m5e_cuWGHwbe"
      },
      "outputs": [],
      "source": [
        "qres = g.query(\n",
        "    \"\"\"\n",
        "    PREFIX foaf: <http://xmlns.com/foaf/0.1/>\n",
        "    PREFIX con: <http://www.w3.org/2000/10/swap/pim/contact#>\n",
        "    SELECT DISTINCT ?aname ?astreet\n",
        "        WHERE {\n",
        "            ?a foaf:name ?aname ;\n",
        "               con:office ?_office .\n",
        "            ?_office con:address ?_address .\n",
        "            ?_address con:street ?astreet .\n",
        "        }\"\"\")"
      ]
    },
    {
      "cell_type": "code",
      "execution_count": null,
      "metadata": {
        "id": "YB7ZQM3lHwbe"
      },
      "outputs": [],
      "source": [
        "print(list(qres))\n",
        "\n",
        "for row in qres:\n",
        "    print(\"%s lives at %s.\" % row)"
      ]
    },
    {
      "cell_type": "markdown",
      "metadata": {
        "id": "Yvd6w9mZHwbe"
      },
      "source": [
        "Wynikiem kwerendy typu SELECT jest lista n-elementowych krotek (n-tek), gdzie n jest liczną zminnych występujących po SELECT. Wyniki kwerendy można wydobyć używając nazw zmiennych jak to pokazujemy poniżej:"
      ]
    },
    {
      "cell_type": "code",
      "execution_count": null,
      "metadata": {
        "id": "uj7V6zJ_Hwbf"
      },
      "outputs": [],
      "source": [
        "for row in qres:\n",
        "    print(\"{} lives at {}.\".format(row.aname, row.astreet))\n",
        "    \n",
        "for row in qres:\n",
        "    print(\"{} lives at {}.\".format(row[\"aname\"], row[\"astreet\"]))   "
      ]
    },
    {
      "cell_type": "markdown",
      "metadata": {
        "id": "uJOYxQB6Hwbf"
      },
      "source": [
        "As an alternative to using `PREFIX` in the SPARQL query, namespace bindings can be passed in with the initNs kwarg, see Namespaces and Bindings.\n",
        "\n",
        "Variables can also be pre-bound, using `initBindings` kwarg can be used to pass in a dict of initial bindings, this is particularly useful for prepared queries, as described below."
      ]
    },
    {
      "cell_type": "markdown",
      "metadata": {
        "id": "JQcnHbzMHwbf"
      },
      "source": [
        "## Endpointy SPARQL"
      ]
    },
    {
      "cell_type": "code",
      "execution_count": null,
      "metadata": {
        "id": "otFI0cQKHwbf"
      },
      "outputs": [],
      "source": [
        "import rdflib\n",
        "\n",
        "g = rdflib.Graph(store=\"SPARQLStore\")\n",
        "g.open(configuration=\"https://lei.info/sparql\")\n",
        "\n",
        "qres = g.query('''\n",
        "               SELECT DISTINCT * \n",
        "               WHERE {?s ?p ?o .} \n",
        "               LIMIT 13\n",
        "               ''') \n",
        "\n",
        "for row in qres: \n",
        "    print(row)"
      ]
    },
    {
      "cell_type": "code",
      "execution_count": null,
      "metadata": {
        "id": "ML1byZ7_Hwbf"
      },
      "outputs": [],
      "source": [
        "g = rdflib.Graph()\n",
        "g.parse(\"https://lei.info/X9AJL60ON2ZGVBEMAJ31\")\n",
        "for s,p,o in g:\n",
        "    print(s, p, o)"
      ]
    },
    {
      "cell_type": "markdown",
      "metadata": {
        "id": "D3lPFGlNHwbf"
      },
      "source": [
        "### Prepared Queries\n",
        "\n",
        "The method `rdflib.plugins.sparql.prepareQuery()` takes a query as a string and will return a `rdflib.plugins.sparql.sparql.Query object`. This can then be passed to the `rdflib.graph.Graph.query()` method.\n",
        "The `initBindings` kwarg can be used to pass in a dict of initial bindings:"
      ]
    },
    {
      "cell_type": "code",
      "execution_count": null,
      "metadata": {
        "id": "DPDr-YVQHwbf"
      },
      "outputs": [],
      "source": [
        "from rdflib.namespace import FOAF\n",
        "from rdflib.plugins.sparql import prepareQuery\n",
        "\n",
        "prepared_query = prepareQuery('SELECT ?s WHERE { ?person foaf:name ?s .}', \n",
        "                              initNs = {\"foaf\": FOAF})\n",
        "\n",
        "g_tbl = rdflib.Graph() \n",
        "g_tbl.load(\"http://www.w3.org/People/Berners-Lee/card\")\n",
        "\n",
        "tim = rdflib.URIRef(\"https://www.w3.org/People/Berners-Lee/card#i\")\n",
        "\n",
        "for row in g_tbl.query(prepared_query, initBindings={'person': tim}): \n",
        "    print(row)"
      ]
    },
    {
      "cell_type": "code",
      "execution_count": null,
      "metadata": {
        "id": "Ujqz_17DHwbf"
      },
      "outputs": [],
      "source": [
        "# from rdflib import Namespace\n",
        "# from rdflib.plugins.sparql import prepareQuery\n",
        "\n",
        "# q = prepareQuery('''SELECT ?city \n",
        "#                     WHERE { ?legalentity lei:headquartersAddress _:ha.\n",
        "#                             _:ha lei:city ?city .}''', \n",
        "#                  initNs = {\"lei\": Namespace(\"http://lei.info/voc/l1/\")})\n",
        "\n",
        "# g_lei = rdflib.Graph(store=\"SPARQLStore\")\n",
        "# g_lei.open(configuration=\"https://lei.info/sparql\")\n",
        "\n",
        "# apple = rdflib.URIRef(\"http://lei.info/HWUPKR0MPOU8FGXBT394\")\n",
        "# microsoft = rdflib.URIRef(\"https://lei.info/INR2EJN1ERAN0W5ZP974\")\n",
        "\n",
        "# for row in g_lei.query(q, initBindings={'legalentity': apple}): \n",
        "#     print(row)\n",
        "    \n",
        "# # for row in g.query(prepared_query, initBindings={'legal_entity': microsoft}): \n",
        "# #     print(row)    "
      ]
    },
    {
      "cell_type": "markdown",
      "metadata": {
        "id": "tFJJdGM1Hwbf"
      },
      "source": [
        "### DBPedia"
      ]
    },
    {
      "cell_type": "code",
      "execution_count": null,
      "metadata": {
        "id": "GofmlerTHwbf"
      },
      "outputs": [],
      "source": [
        "# sparqlstore_example.py\n",
        "\n",
        "from rdflib import Graph, URIRef, Namespace\n",
        "from rdflib.plugins.stores.sparqlstore import SPARQLStore\n",
        "\n",
        "dbo = Namespace(\"http://dbpedia.org/ontology/\")"
      ]
    },
    {
      "cell_type": "code",
      "execution_count": null,
      "metadata": {
        "id": "3AKSVl5AHwbf"
      },
      "outputs": [],
      "source": [
        "# EXAMPLE 1: using a Graph with the Store type string set to \"SPARQLStore\"\n",
        "graph = Graph(\"SPARQLStore\", identifier=\"http://dbpedia.org\")\n",
        "graph.open(\"http://dbpedia.org/sparql\")\n",
        "\n",
        "pop = graph.value(URIRef(\"http://dbpedia.org/resource/Berlin\"), dbo.populationTotal)\n",
        "\n",
        "print(\"According to DBPedia, Berlin has a population of {0:,}.\".format(int(pop), \",d\"))"
      ]
    },
    {
      "cell_type": "code",
      "execution_count": null,
      "metadata": {
        "id": "zJjMFJ6qHwbf"
      },
      "outputs": [],
      "source": [
        "# # EXAMPLE 2: using a SPARQLStore object directly\n",
        "# st = SPARQLStore(\"http://dbpedia.org/sparql\")\n",
        "\n",
        "# for p in st.objects(URIRef(\"http://dbpedia.org/resource/Brisbane\"), dbo.populationTotal):\n",
        "#     print(\n",
        "#         \"According to DBPedia, Brisbane has a population of \"\n",
        "#         \"{0:,}\".format(int(pop), \",d\")\n",
        "#     )"
      ]
    },
    {
      "cell_type": "code",
      "execution_count": null,
      "metadata": {
        "id": "6egVhRDrHwbg"
      },
      "outputs": [],
      "source": [
        "# EXAMPLE 3: doing RDFlib triple navigation using SPARQLStore as a Graph()\n",
        "from rdflib.namespace import RDF, SKOS\n",
        "\n",
        "graph = Graph(\"SPARQLStore\", identifier=\"http://dbpedia.org\")\n",
        "graph.open(\"http://dbpedia.org/sparql\")\n",
        "\n",
        "# we are asking DBPedia for 3 skos:Concept instances\n",
        "count = 0\n",
        "\n",
        "for s in graph.subjects(predicate=RDF.type, object=SKOS.Concept):\n",
        "    count += 1\n",
        "    print(s)\n",
        "    if count >= 3:\n",
        "        break"
      ]
    },
    {
      "cell_type": "code",
      "execution_count": null,
      "metadata": {
        "id": "1yENbC1iHwbg"
      },
      "outputs": [],
      "source": [
        "# # EXAMPLE 4: using a SPARQL endpoint that requires Basic HTTP authentication\n",
        "# # NOTE: this example won't run since the endpoint isn't live (or real)\n",
        "# s = SPARQLStore(query_endpoint=\"http://fake-sparql-endpoint.com/repository/x\", auth=(\"my_username\", \"my_password\"))\n",
        "# # do normal Graph things"
      ]
    },
    {
      "cell_type": "markdown",
      "metadata": {
        "id": "2qmY-Jw0Hwbg"
      },
      "source": [
        "### Update"
      ]
    },
    {
      "cell_type": "code",
      "execution_count": null,
      "metadata": {
        "id": "5cNzHy58Hwbg"
      },
      "outputs": [],
      "source": [
        "# sparql_update_example.py\n",
        "\n",
        "import rdflib\n",
        "\n",
        "g = rdflib.Graph()\n",
        "g.parse(\"http://www.w3.org/People/Berners-Lee/card\")\n",
        "\n",
        "print(\"Initially there are {} triples in the graph\".format(len(g)))\n",
        "\n",
        "g.update(\n",
        "    \"\"\"\n",
        "    PREFIX foaf: <http://xmlns.com/foaf/0.1/>\n",
        "    PREFIX dbpedia: <http://dbpedia.org/resource/>\n",
        "    INSERT\n",
        "        { ?s a dbpedia:Human . }\n",
        "    WHERE\n",
        "        { ?s a foaf:Person . }\n",
        "    \"\"\"\n",
        ")\n",
        "print(\"After the UPDATE, there are {} triples in the graph\".format(len(g)))"
      ]
    },
    {
      "cell_type": "markdown",
      "metadata": {
        "id": "LihGSP9XHwbg"
      },
      "source": [
        "## Utilities and convenience functions <a class=\"anchor\" id=\"chapter1.6\"></a>"
      ]
    },
    {
      "cell_type": "markdown",
      "metadata": {
        "id": "SJRyv9tzHwbg"
      },
      "source": [
        "### Slicing graphs\n",
        "\n",
        "Python allows slicing arrays with a slice object, a triple of start, stop index and step-size:\n",
        "```\n",
        ">>> range(10)[2:9:3] \n",
        "[2, 5, 8]\n",
        "```\n",
        " \n",
        "RDFLib graphs override ``__getitem__`` and we pervert the slice triple to be a RDF triple instead. This lets slice syntax be a shortcut for `triples()`, `subject_predicates()`, `contains()`, and other Graph query-methods:\n",
        "\n",
        "```\n",
        "graph[:]\n",
        "# same as\n",
        "iter(graph)\n",
        "\n",
        "graph[ns.bob]\n",
        "# same as\n",
        "graph.predicate_objects(ns.bob)\n",
        "\n",
        "graph[ns.bob : FOAF.knows]\n",
        "# same as\n",
        "graph.objects(ns.bob, RDFS.label)\n",
        "\n",
        "graph[ns.bob : FOAF.knows : ns.bill]\n",
        "# same as\n",
        "(ns.bob, FOAF.knows, ns.bill) in graph\n",
        "\n",
        "graph[:FOAF.knows]\n",
        "# same as \n",
        "graph.subject_objects(FOAF.knows)\n",
        "```"
      ]
    },
    {
      "cell_type": "code",
      "execution_count": null,
      "metadata": {
        "id": "eBHdhMdmHwbg"
      },
      "outputs": [],
      "source": [
        "for p, o in g[ns.bob]: # g[ns.bob] same as g.predicate_objects(ns.bob)\n",
        "    print(p, o)"
      ]
    },
    {
      "cell_type": "code",
      "execution_count": null,
      "metadata": {
        "id": "sHLPssJcHwbg"
      },
      "outputs": [],
      "source": [
        "for o in g[ns.bob : RDFS.label]: # g[ns.bob : RDFS.label] same as g.objects(ns.bob, RDFS.label)\n",
        "    print(o)"
      ]
    },
    {
      "cell_type": "code",
      "execution_count": null,
      "metadata": {
        "id": "bRpQULwGHwbg"
      },
      "outputs": [],
      "source": [
        "from rdflib.namespace import FOAF\n",
        "g[ns.bob : FOAF.knows : ns.bill] # same as (ns.bob, FOAF.knows, ns.bill) in g"
      ]
    },
    {
      "cell_type": "code",
      "execution_count": null,
      "metadata": {
        "id": "WHrj6HS9Hwbg"
      },
      "outputs": [],
      "source": [
        "for s, p in g[:RDFS.label]: # same as g.subject_objects(RDFS.label)\n",
        "    print(s, p)"
      ]
    },
    {
      "cell_type": "code",
      "execution_count": null,
      "metadata": {
        "id": "xgT9o_2yHwbg"
      },
      "outputs": [],
      "source": [
        "from rdflib import Graph\n",
        "from rdflib.namespace import RDF\n",
        "graph = Graph()\n",
        "\n",
        "g.load(\"https://ebiquity.umbc.edu/person/foaf/Francis/Ferraro/foaf.rdf\", format=\"xml\")\n",
        "\n",
        "for person in graph[: RDF.type : FOAF.Person]:\n",
        "    friends = list(graph[person : FOAF.knows * \"+\" / FOAF.name])\n",
        "    if friends:\n",
        "        print(\"%s's circle of friends:\" % graph.value(person, FOAF.name))\n",
        "        for name in friends:\n",
        "            print(name)"
      ]
    },
    {
      "cell_type": "markdown",
      "metadata": {
        "id": "Ktu1BRLNHwbg"
      },
      "source": [
        "## Examples <a class=\"anchor\" id=\"chapter1.7\"></a>"
      ]
    },
    {
      "cell_type": "markdown",
      "metadata": {
        "id": "gyy__QoEHwbg"
      },
      "source": [
        "### ConjunctiveGraph"
      ]
    },
    {
      "cell_type": "markdown",
      "metadata": {
        "id": "Y46Sq-ibHwbh"
      },
      "source": [
        "## Containers & Collections\n",
        "There are two convenience classes for RDF Containers & Collections which you can use instead of declaring each triple of a Containers or a Collections individually:\n",
        "- `Container()` (also `Bag, Seq & Alt`) and\n",
        "- `Collection()`\n",
        "\n",
        "See their documentation for how."
      ]
    },
    {
      "cell_type": "markdown",
      "metadata": {
        "id": "0TUEnbN2Hwbh"
      },
      "source": [
        "## Navigating Graphs\n",
        "\n",
        "An RDF Graph is a set of RDF triples, and we try to mirror exactly this in RDFLib. The Python Graph() tries to emulate a container type."
      ]
    },
    {
      "cell_type": "markdown",
      "metadata": {
        "id": "r6jjpJ4lHwbh"
      },
      "source": [
        "#### Graphs as Iterators\n",
        "RDFLib graphs override `__iter__()` in order to support iteration over the contained triples:"
      ]
    },
    {
      "cell_type": "code",
      "execution_count": null,
      "metadata": {
        "id": "-8XUNqpUHwbh"
      },
      "outputs": [],
      "source": [
        "someGraph = Graph()\n",
        "for subject, predicate, object in someGraph:\n",
        "    if not (subject, predicate, object) in someGraph:\n",
        "        raise Exception(\"Iterator / Container Protocols are Broken!!\")"
      ]
    },
    {
      "cell_type": "markdown",
      "metadata": {
        "id": "6pcN2TpfHwbh"
      },
      "source": [
        "#### Contains check\n",
        "Graphs implement `__contains__()`, so you can check if a triple is in a graph with triple in graph syntax:"
      ]
    },
    {
      "cell_type": "code",
      "execution_count": null,
      "metadata": {
        "id": "VmdnawAfHwbh"
      },
      "outputs": [],
      "source": [
        "from rdflib import URIRef\n",
        "from rdflib.namespace import RDF\n",
        "\n",
        "graph = Graph()\n",
        "\n",
        "bob = URIRef(\"http://example.org/people/bob\")\n",
        "\n",
        "graph.add((bob, RDF.type, FOAF.Person))\n",
        "\n",
        "if (bob, RDF.type, FOAF.Person) in graph:\n",
        "    print(\"This graph knows that Bob is a person!\")"
      ]
    },
    {
      "cell_type": "markdown",
      "metadata": {
        "id": "W0OfgNRpHwbh"
      },
      "source": [
        "Note that this triple does not have to be completely bound:"
      ]
    },
    {
      "cell_type": "code",
      "execution_count": null,
      "metadata": {
        "id": "IvwfHevVHwbh"
      },
      "outputs": [],
      "source": [
        "if (bob, None, None) in graph:\n",
        "    print(\"This graph contains triples about Bob!\")"
      ]
    },
    {
      "cell_type": "markdown",
      "metadata": {
        "id": "YbvN8mTmHwbh"
      },
      "source": [
        "#### Set Operations on RDFLib Graphs\n",
        "\n",
        "Graphs override several pythons operators: `__iadd__()`, `__isub__()`, etc. This supports addition, subtraction and other set-operations on Graphs:"
      ]
    },
    {
      "cell_type": "markdown",
      "metadata": {
        "id": "3iNsABh3Hwbh"
      },
      "source": [
        "<table>\n",
        "<tr>\n",
        "<th>operation</th>\n",
        "<th>effect</th>\n",
        "</tr>\n",
        "\n",
        "<tr>\n",
        "<td>G1 + G2</td>\n",
        "<td>returns new graph with union</td>\n",
        "</tr>\n",
        "\n",
        "<tr>\n",
        "<td>G1 += G1</td>\n",
        "<td>union / addition</td>\n",
        "</tr>\n",
        "    \n",
        "<tr>\n",
        "<td>G1 - G2</td>\n",
        "<td>returns new graph with difference</td>\n",
        "</tr>\n",
        "\n",
        "<tr>\n",
        "<td>G1 -= G1</td>\n",
        "<td>difference / subtraction</td>\n",
        "</tr>\n",
        "    \n",
        "<tr>\n",
        "<td>G1 & G2</td>\n",
        "<td>intersection (triples in both graphs)</td>\n",
        "</tr>\n",
        "\n",
        "<tr>\n",
        "<td>G1 ^ G1</td>\n",
        "<td>xor (triples in either G1 or G2, but not in both)</td>\n",
        "</tr>    \n",
        "</table>\n",
        "\n",
        "**Warning** Set-operations on graphs assume Blank Nodes are shared between graphs. This may or may not do what you want. See 2.4 Merging graphs for details."
      ]
    },
    {
      "cell_type": "code",
      "execution_count": null,
      "metadata": {
        "id": "naNuTKycHwbh"
      },
      "outputs": [],
      "source": [
        "\"\"\"\n",
        "An RDFLib ConjunctiveGraph is an (unnamed) aggregation of all the named graphs\n",
        "within a Store. The :meth:`~rdflib.graph.ConjunctiveGraph.get_context`\n",
        "method can be used to get a particular named graph for use such as to add\n",
        "triples to, or the default graph can be used\n",
        "\n",
        "This example shows how to create named graphs and work with the\n",
        "conjunction (union) of all the graphs.\n",
        "\"\"\"\n",
        "\n",
        "from rdflib import Namespace, Literal, URIRef\n",
        "from rdflib.graph import Graph, ConjunctiveGraph\n",
        "from rdflib.plugins.memory import IOMemory\n",
        "\n",
        "\n",
        "ns = Namespace(\"http://love.com#\")\n",
        "\n",
        "mary = URIRef(\"http://love.com/lovers/mary\")\n",
        "john = URIRef(\"http://love.com/lovers/john\")\n",
        "\n",
        "cmary = URIRef(\"http://love.com/lovers/mary\")\n",
        "cjohn = URIRef(\"http://love.com/lovers/john\")\n",
        "\n",
        "store = IOMemory()\n",
        "\n",
        "g = ConjunctiveGraph(store=store)\n",
        "\n",
        "g.bind(\"love\", ns)\n",
        "\n",
        "# add a graph for Mary's facts to the Conjunctive Graph\n",
        "gmary = Graph(store=store, identifier=cmary)\n",
        "\n",
        "# Mary's graph only contains the URI of the person she love, not his cute name\n",
        "gmary.add((mary, ns[\"hasName\"], Literal(\"Mary\")))\n",
        "gmary.add((mary, ns[\"loves\"], john))\n",
        "\n",
        "\n",
        "\n",
        "# add a graph for John's facts to the Conjunctive Graph\n",
        "gjohn = Graph(store=store, identifier=cjohn)\n",
        "\n",
        "# John's graph contains his cute name\n",
        "gjohn.add((john, ns[\"hasCuteName\"], Literal(\"Johnny Boy\")))\n",
        "\n",
        "\n",
        "print(\"\\n1. ===================\\n\")\n",
        "# enumerate contexts\n",
        "for c in g.contexts():\n",
        "    print(\"-- %s \" % c)\n",
        "\n",
        "print(\"\\n2. ===================\\n\")\n",
        "# separate graphs\n",
        "print(gjohn.serialize(format=\"n3\"))\n",
        "print(\"===================\")\n",
        "print(gmary.serialize(format=\"n3\"))\n",
        "\n",
        "print(\"\\n3. ===================\\n\")\n",
        "# full graph\n",
        "print(g.serialize(format=\"n3\"))\n",
        "\n",
        "print(\"\\n4. ===================\\n\")\n",
        "# query the conjunction of all graphs\n",
        "xx = None\n",
        "for x in g[mary : ns.loves / ns.hasCuteName]:\n",
        "    xx = x\n",
        "print(\"Q: Who does Mary love?\")\n",
        "print(\"A: Mary loves {}\".format(xx))\n",
        "\n",
        "print(\"\\n5. ===================\\n\")\n",
        "# query the conjunction of all graphs\n",
        "xx = None\n",
        "for x in gmary[mary : ns.loves / ns.hasCuteName]:\n",
        "    xx = x\n",
        "print(\"Q: Who does Mary love?\")\n",
        "print(\"A: Mary loves {}\".format(xx))"
      ]
    },
    {
      "cell_type": "markdown",
      "metadata": {
        "id": "wNXnIRaqHwbh"
      },
      "source": [
        "### Mapping between RDF data-typed literals and Python objects"
      ]
    },
    {
      "cell_type": "code",
      "execution_count": null,
      "metadata": {
        "id": "CfE-TwWmHwbh"
      },
      "outputs": [],
      "source": [
        "\"\"\"\n",
        "RDFLib can map between RDF data-typed literals and Python objects.\n",
        "\n",
        "Mapping for integers, floats, dateTimes, etc. are already added, but\n",
        "you can also add your own.\n",
        "\n",
        "This example shows how :meth:`rdflib.term.bind` lets you register new\n",
        "mappings between literal datatypes and Python objects\n",
        "\"\"\"\n",
        "\n",
        "from rdflib import Graph, Literal, Namespace, XSD\n",
        "from rdflib.term import bind\n",
        "\n",
        "# complex numbers are not registered by default\n",
        "# no custom constructor/serializer needed since\n",
        "# complex('(2+3j)') works fine\n",
        "bind(XSD.complexNumber, complex)\n",
        "\n",
        "ns = Namespace(\"urn:my:namespace:\")\n",
        "\n",
        "c = complex(2, 3)\n",
        "\n",
        "l = Literal(c)\n",
        "\n",
        "g = Graph()\n",
        "g.add((ns.mysubject, ns.myprop, l))\n",
        "\n",
        "n3 = g.serialize(format=\"n3\")\n",
        "print(n3)\n",
        "\n",
        "# round-trip through n3 serialize/parse\n",
        "g2 = Graph()\n",
        "g2.parse(data=n3, format=\"n3\")\n",
        "    \n",
        "l2 = list(g2)[0][2]\n",
        "\n",
        "print(l2)\n",
        "\n",
        "print(l2.value == c)  # back to a python complex object\n"
      ]
    },
    {
      "cell_type": "markdown",
      "metadata": {
        "id": "dvtNv5eSHwbi"
      },
      "source": [
        "### custom evaluation function"
      ]
    },
    {
      "cell_type": "code",
      "execution_count": null,
      "metadata": {
        "id": "l2fjnpGzHwbi"
      },
      "outputs": [],
      "source": [
        "\"\"\"\n",
        "This example shows how a custom evaluation function can be added to\n",
        "handle certain SPARQL Algebra elements.\n",
        "\n",
        "A custom function is added that adds ``rdfs:subClassOf`` \"inference\" when\n",
        "asking for ``rdf:type`` triples.\n",
        "\n",
        "Here the custom eval function is added manually, normally you would use\n",
        "setuptools and entry_points to do it:\n",
        "i.e. in your setup.py::\n",
        "\n",
        "    entry_points = {\n",
        "        'rdf.plugins.sparqleval': [\n",
        "            'myfunc =     mypackage:MyFunction',\n",
        "            ],\n",
        "    }\n",
        "\"\"\"\n",
        "\n",
        "import rdflib\n",
        "\n",
        "from rdflib.plugins.sparql.evaluate import evalBGP\n",
        "from rdflib.namespace import FOAF\n",
        "\n",
        "inferredSubClass = rdflib.RDFS.subClassOf * \"*\"  # any number of rdfs.subClassOf\n",
        "\n",
        "\n",
        "def customEval(ctx, part):\n",
        "    \"\"\"\n",
        "    Rewrite triple patterns to get super-classes\n",
        "    \"\"\"\n",
        "\n",
        "    if part.name == \"BGP\":\n",
        "\n",
        "        # rewrite triples\n",
        "        triples = []\n",
        "        for t in part.triples:\n",
        "            if t[1] == rdflib.RDF.type:\n",
        "                bnode = rdflib.BNode()\n",
        "                triples.append((t[0], t[1], bnode))\n",
        "                triples.append((bnode, inferredSubClass, t[2]))\n",
        "            else:\n",
        "                triples.append(t)\n",
        "\n",
        "        # delegate to normal evalBGP\n",
        "        return evalBGP(ctx, triples)\n",
        "\n",
        "    raise NotImplementedError()\n",
        "\n",
        "\n",
        "\n",
        "# add function directly, normally we would use setuptools and entry_points\n",
        "rdflib.plugins.sparql.CUSTOM_EVALS[\"exampleEval\"] = customEval\n",
        "\n",
        "g = rdflib.Graph()\n",
        "g.load(\"http://www.w3.org/People/Berners-Lee/card\")\n",
        "\n",
        "# Add the subClassStmt so that we can query for it!\n",
        "g.add((FOAF.Person, rdflib.RDFS.subClassOf, FOAF.Agent))\n",
        "\n",
        "# Find all FOAF Agents\n",
        "for x in g.query(\"PREFIX foaf: <%s> SELECT * WHERE { ?s a foaf:Agent}\" % FOAF):\n",
        "    print(x)"
      ]
    },
    {
      "cell_type": "markdown",
      "metadata": {
        "id": "vOClrf-5Hwbi"
      },
      "source": [
        "## Ćwiczenia"
      ]
    },
    {
      "cell_type": "markdown",
      "metadata": {
        "id": "JfCF7aGJHwbi"
      },
      "source": [
        "### ĆWICZENIE 1 - Polscy Poeci\n",
        "\n",
        "Użyj kwerendy SPARQLowej, aby wydobyć z DBpedii następujące informacje o polskich poeatach:\n",
        "- nazwa (imię i nazwisko)\n",
        "- data urodzenia\n",
        "- biogram (w języku polskim)\n",
        "\n",
        "Jakich relacji i klas użyjesz?\n",
        "\n",
        "Wynik kwerendy umieść w liście, którą zapisz następnie jako plik excele."
      ]
    },
    {
      "cell_type": "code",
      "execution_count": null,
      "metadata": {
        "id": "DZwYTlKcHwbi"
      },
      "outputs": [],
      "source": [
        "# Pani Alicja\n",
        "from rdflib import Graph\n",
        "import pandas as pd\n",
        "graph = Graph(\"SPARQLStore\", identifier=\"http://dbpedia.org\")\n",
        "graph.open(\"http://dbpedia.org/sparql\")\n",
        "\n",
        "lista = graph.query('''\n",
        "PREFIX rdf: <http://www.w3.org/1999/02/22-rdf-syntax-ns#>\n",
        "PREFIX dbo: <http://dbpedia.org/ontology/>\n",
        "SELECT ?birthName ?birthDate ?abstract\n",
        "WHERE {?s rdf:type <http://dbpedia.org/class/yago/WikicatPolishPoets> ;\n",
        "                    dbo:birthName ?birthName ;\n",
        "                    dbo:birthDate ?birthDate ;\n",
        "                    dbo:abstract ?abstract }\n",
        "''')\n",
        "\n",
        "poets_list = []\n",
        "for row in lista:\n",
        "    poets_list.append([row.birthName, row.birthDate, row.abstract])\n",
        "\n",
        "# poets = {\n",
        "#     'birthName': [],\n",
        "#     'birthDate': [],\n",
        "#     'abstract': []\n",
        "# }\n",
        "\n",
        "# for poet in poets_list:\n",
        "#     poets['birthName'].append(poet[0])\n",
        "#     poets['birthDate'].append(poet[1])\n",
        "#     poets['abstract'].append(poet[2])\n",
        "\n",
        " \n",
        "df = pd.DataFrame(poets_list, columns = ['birthName', 'birthDate', 'abstract'])\n",
        "df.to_excel('poets_alicja.xlsx', index=False, header=True)"
      ]
    },
    {
      "cell_type": "code",
      "execution_count": null,
      "metadata": {
        "id": "i6wxU0tyHwbi"
      },
      "outputs": [],
      "source": [
        "# Pan Rafał\n",
        "\n",
        "graph = Graph(\"SPARQLStore\", identifier=\"http://dbpedia.org\")\n",
        "graph.open(\"http://dbpedia.org/sparql\")\n",
        "\n",
        "temp = graph.query('''\n",
        "PREFIX rdf: <http://www.w3.org/1999/02/22-rdf-syntax-ns#>\n",
        "PREFIX dbo: <http://dbpedia.org/ontology/>\n",
        "SELECT ?birthName ?birthDate ?abstract\n",
        "WHERE {?ppoet rdf:type <http://dbpedia.org/class/yago/WikicatPolishPoets> ;\n",
        "                    dbo:birthName ?birthName ;\n",
        "                    dbo:birthDate ?birthDate ;\n",
        "                    dbo:abstract ?abstract}'''\n",
        "                  )\n",
        "\n",
        "print(temp)\n",
        "\n",
        "poets_list = []\n",
        "for row in temp:\n",
        "    poets_list.append([row.birthName, row.birthDate, row.abstract])\n",
        "\n",
        "df = pd.DataFrame(poets_list, columns = ['Name', 'Birth date', 'Abstract'])\n",
        "df.to_excel('Lista_poetow_Rafal.xlsx', encoding='UTF-8')"
      ]
    },
    {
      "cell_type": "code",
      "execution_count": null,
      "metadata": {
        "id": "8UhOG_3hHwbi"
      },
      "outputs": [],
      "source": [
        "from rdflib import Graph\n",
        "from rdflib.plugins.stores.sparqlstore import SPARQLStore\n",
        "import pandas as pd\n",
        "\n",
        "graph = Graph(\"SPARQLStore\", identifier=\"http://dbpedia.org\")\n",
        "graph.open(\"http://dbpedia.org/sparql\")\n",
        "\n",
        "qres = graph.query('''\n",
        "                    PREFIX rdf: <http://www.w3.org/1999/02/22-rdf-syntax-ns#>\n",
        "                    PREFIX dbo: <http://dbpedia.org/ontology/>\n",
        "                    PREFIX yago: <http://dbpedia.org/class/yago/>\n",
        "                    SELECT ?birthName ?birthDate ?abstract\n",
        "                    WHERE {?ppoet rdf:type yago:WikicatPolishPoets ;\n",
        "                                    dbo:birthName ?birthName ; \n",
        "                                    dbo:birthDate ?birthDate ;\n",
        "                                    dbo:abstract ?abstract }\n",
        "                    '''\n",
        "                  )\n",
        "\n",
        "poets_list = []\n",
        "\n",
        "for row in qres:\n",
        "    if row.abstract.language == \"pl\":\n",
        "        poets_list.append([row.birthName.value, \n",
        "                           str(row.birthDate.value), \n",
        "                           row.abstract.value])   \n",
        "    \n",
        "poets_list[0]\n",
        "df = pd.DataFrame(poets_list)\n",
        "df.to_excel(\"polish_poets_pl.xlsx\", header=[\"Imię i nazwisko\", \"Data urodzenia\", \"Biogram\"])  "
      ]
    },
    {
      "cell_type": "code",
      "execution_count": null,
      "metadata": {
        "id": "Vu8pTq4SHwbi"
      },
      "outputs": [],
      "source": [
        "from rdflib import Graph\n",
        "from rdflib.plugins.stores.sparqlstore import SPARQLStore\n",
        "import pandas as pd\n",
        "\n",
        "graph = Graph(\"SPARQLStore\", identifier=\"http://dbpedia.org\")\n",
        "graph.open(\"http://dbpedia.org/sparql\")\n",
        "\n",
        "qres = graph.query('''\n",
        "                    PREFIX rdf: <http://www.w3.org/1999/02/22-rdf-syntax-ns#>\n",
        "                    PREFIX dbo: <http://dbpedia.org/ontology/>\n",
        "                    PREFIX yago: <http://dbpedia.org/class/yago/>\n",
        "                    SELECT ?birthName ?birthDate ?abstract\n",
        "                    WHERE {?ppoet rdf:type yago:WikicatPolishPoets ;\n",
        "                                    dbo:birthName ?birthName ; \n",
        "                                    dbo:birthDate ?birthDate ;\n",
        "                                    dbo:abstract ?abstract .\n",
        "                           FILTER(lang(?abstract) = 'pl')         \n",
        "                            }\n",
        "                    '''\n",
        "                  )\n",
        "\n",
        "poets_list = []\n",
        "\n",
        "for row in qres:\n",
        "    poets_list.append([row.birthName.value, \n",
        "                       str(row.birthDate.value), \n",
        "                       row.abstract.value])   \n",
        "    \n",
        "poets_list[0]\n",
        "df = pd.DataFrame(poets_list)\n",
        "df.to_excel(\"polish_poets2_pl.xlsx\", header=[\"Imię i nazwisko\", \"Data urodzenia\", \"Biogram\"])  "
      ]
    },
    {
      "cell_type": "code",
      "execution_count": null,
      "metadata": {
        "id": "kpX6pXraHwbi"
      },
      "outputs": [],
      "source": [
        "from rdflib import Graph\n",
        "from rdflib.plugins.stores.sparqlstore import SPARQLStore\n",
        "import pandas as pd\n",
        "\n",
        "graph = Graph(\"SPARQLStore\", identifier=\"http://dbpedia.org\")\n",
        "graph.open(\"http://dbpedia.org/sparql\")\n",
        "\n",
        "qres = graph.query('''\n",
        "                    PREFIX rdf: <http://www.w3.org/1999/02/22-rdf-syntax-ns#>\n",
        "                    PREFIX dbo: <http://dbpedia.org/ontology/>\n",
        "                    PREFIX yago: <http://dbpedia.org/class/yago/>\n",
        "                    PREFIX xsd: <http://www.w3.org/2001/XMLSchema#>\n",
        "                    PREFIX foaf: <http://xmlns.com/foaf/0.1/>\n",
        "                    SELECT ?foafName ?birthDate ?abstract\n",
        "                    WHERE {?ppoet rdf:type yago:WikicatPolishPoets .\n",
        "                           OPTIONAL { ?ppoet foaf:name ?foafName . }          \n",
        "                           OPTIONAL { ?ppoet dbo:birthDate ?birthDate . }\n",
        "                           OPTIONAL { ?ppoet dbo:abstract ?abstract . }\n",
        "                           FILTER (lang(?abstract) = 'pl')\n",
        "                           FILTER (REGEX(STR(?birthDate),\"[0-9]{4}-[0-9]{2}-[0-9]{2}\")).\n",
        "                            }\n",
        "                    '''\n",
        "                  )\n",
        "\n",
        "poets_list = []\n",
        "\n",
        "for row in qres:\n",
        "    poets_list.append([str(row.foafName), \n",
        "                       str(row.birthDate), \n",
        "                       row.abstract.value])   \n",
        "    \n",
        "df = pd.DataFrame(poets_list)\n",
        "df.to_excel(\"polish_poets4_date.xlsx\", header=[\"Imię i nazwisko\", \"Data urodzenia\", \"Biogram\"])  "
      ]
    },
    {
      "cell_type": "code",
      "execution_count": null,
      "metadata": {
        "id": "bFm85dMsHwbj"
      },
      "outputs": [],
      "source": [
        "from rdflib import Graph\n",
        "from rdflib.plugins.stores.sparqlstore import SPARQLStore\n",
        "import pandas as pd\n",
        "\n",
        "graph = Graph(\"SPARQLStore\", identifier=\"http://dbpedia.org\")\n",
        "graph.open(\"http://dbpedia.org/sparql\")\n",
        "\n",
        "qres = graph.query('''\n",
        "PREFIX rdfs: <http://www.w3.org/2000/01/rdf-schema#>\n",
        "PREFIX dbo: <http://dbpedia.org/ontology/>\n",
        "PREFIX xsd: <http://www.w3.org/2001/XMLSchema#>\n",
        "PREFIX foaf: <http://xmlns.com/foaf/0.1/>\n",
        "PREFIX dbr: <http://dbpedia.org/resource/>\n",
        "SELECT ?name ?birth ?description ?person \n",
        "WHERE {?person a dbo:Philosopher .\n",
        "?person dbo:birthPlace dbr:Warsaw .\n",
        "?person dbo:birthDate ?birth .\n",
        "?person foaf:name ?name .\n",
        "?person rdfs:comment ?description .\n",
        "FILTER (LANG(?description) = 'pl') . \n",
        "} \n",
        "ORDER BY ?name\n",
        "''')\n",
        "\n",
        "for row in qres:\n",
        "    print(row.name, \"\\n\", \" \", row.birth, \"\\n\", \"  \", row.person, \"\\n\", \"   \", row.description, \"\\n\")"
      ]
    },
    {
      "cell_type": "markdown",
      "metadata": {
        "id": "-sKdP5zdHwbj"
      },
      "source": [
        "### ĆWICZENIE 2 -  Scarlett Johansson i problem najmniejszej miejscowości\n",
        "\n",
        "https://imdbpy.readthedocs.io/en/latest/"
      ]
    },
    {
      "cell_type": "code",
      "execution_count": null,
      "metadata": {
        "id": "2FpLMWXYHwbj"
      },
      "outputs": [],
      "source": [
        "\"\"\"\n",
        "Requires download and import of Python imdb library from\n",
        "https://imdbpy.github.io/ - (warning: installation\n",
        "will trigger automatic installation of several other packages)\n",
        "\"\"\"\n",
        "\n",
        "!pip install imdbpy"
      ]
    },
    {
      "cell_type": "code",
      "execution_count": null,
      "metadata": {
        "id": "tzCXAqQsHwbj"
      },
      "outputs": [],
      "source": [
        "import datetime\n",
        "import os\n",
        "import sys\n",
        "import re\n",
        "import time\n",
        "\n",
        "try:\n",
        "    import imdb\n",
        "except ImportError:\n",
        "    imdb = None\n",
        "\n",
        "from rdflib import BNode, ConjunctiveGraph, URIRef, Literal, Namespace, RDF\n",
        "from rdflib.namespace import FOAF, DC\n",
        "\n",
        "storefn = os.path.expanduser(\"movies.n3\")\n",
        "storeuri = storefn\n",
        "\n",
        "IMDB = Namespace(\"http://imdb.com/\")\n",
        "\n",
        "class Store:\n",
        "    def __init__(self):\n",
        "        self.graph = ConjunctiveGraph()\n",
        "        if os.path.exists(storefn):\n",
        "            self.graph.load(storeuri, format=\"n3\")\n",
        "        self.graph.bind(\"dc\", DC)\n",
        "        self.graph.bind(\"foaf\", FOAF)\n",
        "        self.graph.bind(\"imdb\", IMDB)\n",
        "\n",
        "    def save(self):\n",
        "        self.graph.serialize(storeuri, format=\"n3\")\n",
        "\n",
        "    def new_movie(self, movie):\n",
        "        movieuri = URIRef(\"http://www.imdb.com/title/tt%s/\" % movie.movieID)\n",
        "        self.graph.add((movieuri, RDF.type, IMDB[\"Movie\"]))\n",
        "        self.graph.add((movieuri, DC[\"title\"], Literal(movie[\"title\"])))\n",
        "        self.graph.add((movieuri, IMDB[\"year\"], Literal(int(movie[\"year\"]))))\n",
        "        self.save()\n",
        "\n",
        "    def movie_is_in(self, uri):\n",
        "        return (URIRef(uri), RDF.type, IMDB[\"Movie\"]) in self.graph\n",
        "\n",
        "\n",
        "i = imdb.IMDb()\n",
        "movie = i.get_movie(\"0133093\")\n",
        "print(\"%s (%s)\" % (movie[\"title\"].encode(\"utf-8\"), movie[\"year\"]))\n",
        "\n",
        "for director in movie[\"director\"]:\n",
        "    print(\"directed by: %s\" % director[\"name\"].encode(\"utf-8\"))\n",
        "\n",
        "for writer in movie[\"writer\"]:\n",
        "    print(\"written by: %s\" % writer[\"name\"].encode(\"utf-8\"))\n",
        "\n",
        "s = Store()    \n",
        "s.new_movie(movie)"
      ]
    },
    {
      "cell_type": "code",
      "execution_count": null,
      "metadata": {
        "id": "Yc1-oCNoHwbj"
      },
      "outputs": [],
      "source": [
        "movie['rating']"
      ]
    },
    {
      "cell_type": "code",
      "execution_count": null,
      "metadata": {
        "id": "K8WRUcSSHwbj"
      },
      "outputs": [],
      "source": [
        "movie.keys()"
      ]
    },
    {
      "cell_type": "code",
      "execution_count": null,
      "metadata": {
        "id": "Yl-77iR1Hwbj"
      },
      "outputs": [],
      "source": [
        "person = i.get_person(\"0424060\")\n",
        "print(person['name'])\n",
        "person['filmography']"
      ]
    },
    {
      "cell_type": "code",
      "execution_count": null,
      "metadata": {
        "id": "UW4TFYxzHwbj"
      },
      "outputs": [],
      "source": [
        "from rdflib import Graph\n",
        "from rdflib.plugins.stores.sparqlstore import SPARQLStore\n",
        "import pandas as pd\n",
        "\n",
        "graph = Graph(\"SPARQLStore\", identifier=\"http://dbpedia.org\")\n",
        "graph.open(\"http://dbpedia.org/sparql\")\n",
        "\n",
        "qres = graph.query('''\n",
        "                    PREFIX rdf: <http://www.w3.org/1999/02/22-rdf-syntax-ns#>\n",
        "                    PREFIX dbo: <http://dbpedia.org/ontology/>\n",
        "                    PREFIX yago: <http://dbpedia.org/class/yago/>\n",
        "                    SELECT ?s\n",
        "                    WHERE {?s ?p 'Scarlett Johansson'@en .        \n",
        "                            }\n",
        "                    '''\n",
        "                  )\n",
        "\n",
        "for row in qres:\n",
        "    print(row)"
      ]
    },
    {
      "cell_type": "code",
      "execution_count": null,
      "metadata": {
        "id": "jg1nXHZdHwbj"
      },
      "outputs": [],
      "source": [
        "person.keys()"
      ]
    },
    {
      "cell_type": "code",
      "execution_count": null,
      "metadata": {
        "id": "4VJfRZ8hHwbj"
      },
      "outputs": [],
      "source": [
        ""
      ]
    },
    {
      "cell_type": "markdown",
      "metadata": {
        "id": "PadcVSD0Hwbj"
      },
      "source": [
        "### ĆWICZENIE 3 - Testy higieniczne, czyli czego brakuje mojej ontologii\n",
        "\n",
        "- Załaduj ontologię https://spec.edmcouncil.org/auto/ontology/master/latest/AboutAUTODev.rdf\n",
        "- Stwórz listę wszystkich odnośników (URL) importowanych w powyższej ontologii (skorzystaj z `owl:imports`)\n",
        "- Korzystając z listy importów, załaduj wszystkie importowane ontologie do jednego grafu\n",
        "- Napisz 2 kwerendy SPARQLowe, które sprawdzą, czy zasoby tych ontologii mają `rdfs:label` i `skos:definition`; kweredy te muszą zawierać \"WARN\" podobnie do kwerendy https://github.com/edmcouncil/fibo/blob/master/etc/testing/hygiene/testHygiene1103.sparql"
      ]
    },
    {
      "cell_type": "code",
      "execution_count": null,
      "metadata": {
        "id": "nD9Y3UjJHwbj"
      },
      "outputs": [],
      "source": [
        "import rdflib\n",
        "from rdflib import Graph\n",
        "from rdflib.namespace import OWL\n",
        "\n",
        "g = Graph()\n",
        "g.load(\"https://spec.edmcouncil.org/auto/ontology/master/latest/AboutAUTODev.rdf\")\n",
        "print(len(g))"
      ]
    },
    {
      "cell_type": "code",
      "execution_count": null,
      "metadata": {
        "id": "6ZZ-oxZLHwbj"
      },
      "outputs": [],
      "source": [
        "import_list = []\n",
        "for ontology_import in g.objects(None, OWL.imports):\n",
        "    import_list.append(ontology_import)\n",
        " \n",
        "for ontology_import in import_list:\n",
        "    print(ontology_import)\n",
        "    \n",
        "graph = Graph()\n",
        "for ontology_import in import_list:\n",
        "    graph.load(ontology_import)    "
      ]
    },
    {
      "cell_type": "code",
      "execution_count": null,
      "metadata": {
        "id": "xGaBdwL5Hwbj"
      },
      "outputs": [],
      "source": [
        "label_query = graph.query('''\n",
        "    PREFIX owl:   <http://www.w3.org/2002/07/owl#>\n",
        "    SELECT DISTINCT ?error\n",
        "    WHERE {\n",
        "      ?class a owl:Class .\n",
        "      FILTER NOT EXISTS {?class rdfs:label ?label}\n",
        "      FILTER (!isBlank(?class))\n",
        "      BIND (concat (\"WARN: Class \", str(?class), \" has no label.\") AS ?error)\n",
        "    }\n",
        "    ''')\n",
        "\n",
        "print(len(label_query))\n",
        "\n",
        "for row in label_query:\n",
        "    print(row.error)"
      ]
    },
    {
      "cell_type": "code",
      "execution_count": null,
      "metadata": {
        "id": "KpwHDCvbHwbk"
      },
      "outputs": [],
      "source": [
        "definition_query = graph.query('''\n",
        "                PREFIX skos: <http://www.w3.org/2004/02/skos/core#>\n",
        "                PREFIX owl:   <http://www.w3.org/2002/07/owl#>\n",
        "\n",
        "                SELECT DISTINCT ?error\n",
        "                WHERE {\n",
        "                  ?class a owl:Class .\n",
        "                  FILTER NOT EXISTS {?class skos:definition ?definition}\n",
        "                  FILTER (!isBlank(?class))\n",
        "                  BIND (concat (\"WARN: Class \", str(?class), \" has no definition.\") AS ?error)\n",
        "                }\n",
        "                ''')\n",
        "\n",
        "print(len(definition_query))\n",
        "\n",
        "for row in definition_query:\n",
        "    print(row.error)"
      ]
    },
    {
      "cell_type": "markdown",
      "metadata": {
        "id": "4PlbDcvlHwbk"
      },
      "source": [
        "### ĆWICZENIE 4 - Poczet Królów Polskich"
      ]
    },
    {
      "cell_type": "markdown",
      "metadata": {
        "id": "4vZWz9PCHwbk"
      },
      "source": [
        "https://pl.wikipedia.org/wiki/Kr%C3%B3l_Polski"
      ]
    },
    {
      "cell_type": "code",
      "execution_count": null,
      "metadata": {
        "id": "zoV0V3yXHwbk"
      },
      "outputs": [],
      "source": [
        "from rdflib import Graph, URIRef, Namespace\n",
        "from rdflib.plugins.stores.sparqlstore import SPARQLStore\n",
        "\n",
        "dbo = Namespace(\"http://dbpedia.org/ontology/\")\n",
        "dbp = Namespace(\"http://dbpedia.org/property/\")"
      ]
    },
    {
      "cell_type": "code",
      "execution_count": null,
      "metadata": {
        "id": "1WpXDTzlHwbk",
        "outputId": "21653b89-5ee0-4a8e-dc36-3dd7dedbe689"
      },
      "outputs": [
        {
          "name": "stdout",
          "output_type": "stream",
          "text": [
            "http://dbpedia.org/resource/Stanisław_Poniatowski_(1676–1762)\n"
          ]
        }
      ],
      "source": [
        "graph = Graph(\"SPARQLStore\", identifier=\"http://dbpedia.org\")\n",
        "graph.open(\"http://dbpedia.org/sparql\")\n",
        "\n",
        "pop = graph.value(URIRef(\"http://dbpedia.org/resource/Stanisław_August_Poniatowski\"), dbp.father)\n",
        "\n",
        "print(pop)"
      ]
    },
    {
      "cell_type": "code",
      "execution_count": null,
      "metadata": {
        "id": "edRuGWWSHwbk"
      },
      "outputs": [],
      "source": [
        "from rdflib.namespace import RDF, SKOS\n",
        "\n",
        "graph = Graph(\"SPARQLStore\", identifier=\"http://dbpedia.org\")\n",
        "graph.open(\"http://dbpedia.org/sparql\")"
      ]
    },
    {
      "cell_type": "code",
      "execution_count": null,
      "metadata": {
        "id": "XmGzZ2XdHwbk"
      },
      "outputs": [],
      "source": [
        "hasFather = set()\n",
        "hasMother = set()"
      ]
    },
    {
      "cell_type": "code",
      "execution_count": null,
      "metadata": {
        "id": "SLRA0zPgHwbk"
      },
      "outputs": [],
      "source": [
        "qres = graph.query('''\n",
        "               PREFIX owl: <http://www.w3.org/2002/07/owl#>\n",
        "               PREFIX : <http://dbpedia.org/resource/>\n",
        "               PREFIX dbo: <http://dbpedia.org/ontology/>\n",
        "               PREFIX dbp: <http://dbpedia.org/property/>\n",
        "               SELECT ?s ?f ?m\n",
        "               WHERE {                  \n",
        "                       ?s a <http://dbpedia.org/class/yago/WikicatPolishMonarchs> .\n",
        "                       OPTIONAL{?s dbp:father ?f}\n",
        "                       OPTIONAL{?s dbp:mother ?m}\n",
        "                   }\n",
        "                   ''') \n",
        "\n",
        "for row in qres:\n",
        "    monarch = str(row[0])\n",
        "    monarch_father = str(row[1])\n",
        "    monarch_mother = str(row[2])\n",
        "#     print(monarch,\"\\n\",\"\\t\",monarch_father,\"\\n\",\"\\t\",monarch_mother)\n",
        "    if monarch_father != \"None\":\n",
        "        hasFather.add((monarch, monarch_father))\n",
        "    if monarch_mother != \"None\":\n",
        "        hasMother.add((monarch, monarch_mother))  \n",
        "\n"
      ]
    },
    {
      "cell_type": "code",
      "execution_count": null,
      "metadata": {
        "id": "94pzKWFFHwbk"
      },
      "outputs": [],
      "source": [
        "hasFather2 = set()\n",
        "for child_father in hasFather:\n",
        "    father = child_father[1]\n",
        "    father_iri = \"<\"+father+\">\"\n",
        "    qres = graph.query('''\n",
        "               PREFIX owl: <http://www.w3.org/2002/07/owl#>\n",
        "               PREFIX : <http://dbpedia.org/resource/>\n",
        "               PREFIX dbo: <http://dbpedia.org/ontology/>\n",
        "               PREFIX dbp: <http://dbpedia.org/property/>\n",
        "               SELECT ?f\n",
        "               WHERE {                  \n",
        "                       %s dbo:child ?f\n",
        "                   }\n",
        "                   ''' % father_iri) \n",
        "    for row in qres:\n",
        "        hasFather2.add((str(row[0]),father))"
      ]
    },
    {
      "cell_type": "code",
      "execution_count": null,
      "metadata": {
        "id": "I0OV7LvAHwbk"
      },
      "outputs": [],
      "source": [
        "hasMother2 = set()\n",
        "for child_mother in hasMother:\n",
        "    mother = child_mother[1]\n",
        "    if \"dbpedia.org/resource\" in mother:\n",
        "        mother_iri = \"<\"+mother+\">\"\n",
        "        qres = graph.query('''\n",
        "                   PREFIX owl: <http://www.w3.org/2002/07/owl#>\n",
        "                   PREFIX : <http://dbpedia.org/resource/>\n",
        "                   PREFIX dbo: <http://dbpedia.org/ontology/>\n",
        "                   PREFIX dbp: <http://dbpedia.org/property/>\n",
        "                   SELECT ?f\n",
        "                   WHERE {                  \n",
        "                           %s dbo:child ?f\n",
        "                       }\n",
        "                       ''' % mother_iri) \n",
        "        for row in qres:\n",
        "            hasMother2.add((str(row[0]),mother))"
      ]
    },
    {
      "cell_type": "code",
      "execution_count": null,
      "metadata": {
        "id": "ofTJqynyHwbk"
      },
      "outputs": [],
      "source": [
        "hasMother = hasMother.union(hasMother2)\n",
        "hasFather = hasFather.union(hasFather2)"
      ]
    },
    {
      "cell_type": "code",
      "execution_count": null,
      "metadata": {
        "id": "ExNbri23Hwbk"
      },
      "outputs": [],
      "source": [
        "hasMother"
      ]
    },
    {
      "cell_type": "code",
      "execution_count": null,
      "metadata": {
        "id": "tv1Ab6XWHwbk"
      },
      "outputs": [],
      "source": [
        ""
      ]
    }
  ],
  "metadata": {
    "kernelspec": {
      "display_name": "Python 3 (ipykernel)",
      "language": "python",
      "name": "python3"
    },
    "language_info": {
      "codemirror_mode": {
        "name": "ipython",
        "version": 3
      },
      "file_extension": ".py",
      "mimetype": "text/x-python",
      "name": "python",
      "nbconvert_exporter": "python",
      "pygments_lexer": "ipython3",
      "version": "3.9.2"
    },
    "colab": {
      "name": "rdflib.ipynb",
      "provenance": [],
      "toc_visible": true
    }
  },
  "nbformat": 4,
  "nbformat_minor": 0
}