{
 "cells": [
  {
   "cell_type": "markdown",
   "metadata": {},
   "source": [
    "# Praca z pakietem RDFLib, czyli na początku była trójka\n",
    "\n",
    "\n",
    "## O pakiecie RDFLib\n",
    "  \n",
    "RDFLib to pakiet Pythona przeznaczony do pracy z modelem danych RDF. Podstawowym interfejsem dostępnym w pakiecie jest `Graph`. Graf w RDFLib jest nieuporządkowanym zbioram trójek: \n",
    "\n",
    "```\n",
    "[\n",
    " (podmiot_0, predykat_0, obiekt_0),\n",
    " (podmiot_1, predykat_1, obiect_1),\n",
    " ...\n",
    " (podmiot_N, predykat_N, obiekt_N)\n",
    "]\n",
    "```\n",
    "\n",
    "Można więc na nim wykonywać operacje jak na zwykłych zbiorach, np. `add()`, aby dodać trójkę do grafu, oraz inne metody, które szukają i zwracają trójki w dowolnej kolejności.\n",
    "\n",
    "\n",
    "W skład pakietu RDFLib wchodzą:\n",
    "- parsery i serializatory dla RDF/XML, N3, NTriples, N-Quads, Turtle, TriX, RDFa, Microdata i JSON-LD\n",
    "- baza trójek (ang. *triple store*) do podręcznego przechowywania trójek w pamięci, jak też ich trwałego przechowywania w bazie Berkeley\n",
    "- mechanizmy inferencji zarówno dla pojedynczego grafu jak i wielu grafów nazwanych (ang. *named graphs*)\n",
    "- implementacja SPARQL 1.1, w tym obsługa kwerend typu SELECT i UPDATE.   \n",
    "     \n",
    "\n",
    "\n",
    "\n",
    "Dokumentacja pakietu oraz dyskusje społeczności rozwijającej ten pakiet są dostępne pod adresami:\n",
    "- [https://rdflib.readthedocs.io/en/stable/](https://rdflib.readthedocs.io/en/stable/)\n",
    "- [https://github.com/RDFLib/rdflib/](https://github.com/RDFLib/rdflib/)\n",
    "- [https://www.w3.org/RDF/](https://www.w3.org/RDF/)\n",
    "- [http://groups.google.com/group/rdflib-dev](http://groups.google.com/group/rdflib-dev)"
   ]
  },
  {
   "cell_type": "markdown",
   "metadata": {},
   "source": [
    "## Instalacja\n",
    "\n",
    "RDFLib instalujemy za pomocą komendy  ```!pip3 install rdflib``` (lub ```!pip install rdflib```)"
   ]
  },
  {
   "cell_type": "code",
   "execution_count": null,
   "metadata": {},
   "outputs": [],
   "source": [
    "# !pip3 install rdflib"
   ]
  },
  {
   "cell_type": "markdown",
   "metadata": {},
   "source": [
    "Aby korzystać z tego pakietu importuje go w następujący sposób:"
   ]
  },
  {
   "cell_type": "code",
   "execution_count": 13,
   "metadata": {},
   "outputs": [],
   "source": [
    "import rdflib"
   ]
  },
  {
   "cell_type": "markdown",
   "metadata": {},
   "source": [
    "## Parsujemy istniejący graf\n",
    "\n",
    "Najpierw zobacz jakie informacje kryją się pod linkiem http://www.w3.org/People/Berners-Lee/card. Zobaczysz mało ciekawą stronę www. Jest jednak coś interesującego w tej stronie - została ona wygenerowana na podstawie grafu! Sieć semantyczna daje nam narzędzia, aby tego typu grafy przetwarzać w dololny sposób. Spróbujmy!"
   ]
  },
  {
   "cell_type": "code",
   "execution_count": 15,
   "metadata": {},
   "outputs": [
    {
     "data": {
      "text/plain": [
       "<Graph identifier=N5b7775b942cb4ec8af86d76382c5ac14 (<class 'rdflib.graph.Graph'>)>"
      ]
     },
     "execution_count": 15,
     "metadata": {},
     "output_type": "execute_result"
    }
   ],
   "source": [
    "# Utwórz pusty graf o nazwie g_tbl (\"tbl\" od Tim Berners-Lee).\n",
    "from rdflib import Graph\n",
    "g_tbl = Graph()\n",
    "\n",
    "# Wypełnij graf trójkami z grafu kryjącego się pod \"http://www.w3.org/People/Berners-Lee/card\".\n",
    "g_tbl.parse(source='http://www.w3.org/People/Berners-Lee/card', format='xml')"
   ]
  },
  {
   "cell_type": "markdown",
   "metadata": {},
   "source": [
    "Jeśli nie podasz formatu w jakim został zapisany graf, RDFLib założy, że jest to RDF/XML (nie musieliśmy więc w komórce wyżej dodawać `format='xml'`). \n",
    "\n",
    "Jeśli nie jesteśmy pewni serializacji grafu, możemy skorzystać z funkcji `rdflib.util.guess_format()`, która zgaduje serializację grafu na podstawie rozszerzenie pliku (jeśli mamy tylko URL grafu, jak np. \"http://www.w3.org/People/Berners-Lee/card\", to funkcja ta na nic się zda)."
   ]
  },
  {
   "cell_type": "code",
   "execution_count": 26,
   "metadata": {},
   "outputs": [
    {
     "name": "stdout",
     "output_type": "stream",
     "text": [
      "Format twojego grafu to: xml\n",
      "Format twojego grafu to: turtle\n",
      "Format twojego grafu to: None\n"
     ]
    }
   ],
   "source": [
    "from rdflib.util import guess_format\n",
    "print('Format twojego grafu to:', guess_format('my_file.rdf'))\n",
    "print('Format twojego grafu to:', guess_format('my_file.ttl'))\n",
    "print('Format twojego grafu to:', guess_format('http://www.w3.org/People/Berners-Lee/card'))"
   ]
  },
  {
   "cell_type": "markdown",
   "metadata": {},
   "source": [
    "Wróćmy jednak do naszego grafu `g_tbl`."
   ]
  },
  {
   "cell_type": "code",
   "execution_count": 27,
   "metadata": {},
   "outputs": [
    {
     "name": "stdout",
     "output_type": "stream",
     "text": [
      "Graph g_tbl ma 86 trójek.\n"
     ]
    }
   ],
   "source": [
    "# Sprawdźmy ile trójek jest w grafie g_tbl.\n",
    "print(\"Graph g_tbl ma {} trójek.\".format(len(g_tbl)))"
   ]
  },
  {
   "cell_type": "code",
   "execution_count": 28,
   "metadata": {},
   "outputs": [
    {
     "name": "stdout",
     "output_type": "stream",
     "text": [
      "@prefix : <http://xmlns.com/foaf/0.1/> .\n",
      "@prefix cc: <http://creativecommons.org/ns#> .\n",
      "@prefix cert: <http://www.w3.org/ns/auth/cert#> .\n",
      "@prefix con: <http://www.w3.org/2000/10/swap/pim/contact#> .\n",
      "@prefix dc: <http://purl.org/dc/elements/1.1/> .\n",
      "@prefix dct: <http://purl.org/dc/terms/> .\n",
      "@prefix doap: <http://usefulinc.com/ns/doap#> .\n",
      "@prefix geo: <http://www.w3.org/2003/01/geo/wgs84_pos#> .\n",
      "@prefix ldp: <http://www.w3.org/ns/ldp#> .\n",
      "@prefix rdfs: <http://www.w3.org/2000/01/rdf-schema#> .\n",
      "@prefix schema: <http://schema.org/> .\n",
      "@prefix sioc: <http://rdfs.org/sioc/ns#> .\n",
      "@prefix solid: <http://www.w3.org/ns/solid/terms#> .\n",
      "@prefix space: <http://www.w3.org/ns/pim/space#> .\n",
      "@prefix vcard: <http://www.w3.org/2006/vcard/ns#> .\n",
      "@prefix xsd: <http://www.w3.org/2001/XMLSchema#> .\n",
      "\n",
      "<http://dig.csail.mit.edu/2005/ajar/ajaw/data#Tabulator> doap:developer <https://www.w3.org/People/Berners-Lee/card#i> .\n",
      "\n",
      "<http://dig.csail.mit.edu/2007/01/camp/data#course> :maker <https://www.w3.org/People/Berners-Lee/card#i> .\n",
      "\n",
      "<http://dig.csail.mit.edu/data#DIG> :member <https://www.w3.org/People/Berners-Lee/card#i> .\n",
      "\n",
      "<http://wiki.ontoworld.org/index.php/_IRW2006> dc:title \"Identity, Reference and the Web workshop 2006\" ;\n",
      "    con:participant <https://www.w3.org/People/Berners-Lee/card#i> .\n",
      "\n",
      "<http://www.ecs.soton.ac.uk/~dt2/dlstuff/www2006_data#panel-panelk01> rdfs:label \"The Next Wave of the Web (Plenary Panel)\" ;\n",
      "    con:participant <https://www.w3.org/People/Berners-Lee/card#i> .\n",
      "\n",
      "<http://www.w3.org/2000/10/swap/data#Cwm> doap:developer <https://www.w3.org/People/Berners-Lee/card#i> .\n",
      "\n",
      "<http://www.w3.org/2011/Talks/0331-hyderabad-tbl/data#talk> dct:title \"Designing the Web for an Open Society\" ;\n",
      "    :maker <https://www.w3.org/People/Berners-Lee/card#i> .\n",
      "\n",
      "<http://www.w3.org/DesignIssues/Overview.html> dc:title \"Design Issues for the World Wide Web\" ;\n",
      "    :maker <https://www.w3.org/People/Berners-Lee/card#i> .\n",
      "\n",
      "<http://www.w3.org/People/Berners-Lee/card> a :PersonalProfileDocument ;\n",
      "    cc:license <http://creativecommons.org/licenses/by-nc/3.0/> ;\n",
      "    dc:title \"Tim Berners-Lee's FOAF file\" ;\n",
      "    :maker <https://www.w3.org/People/Berners-Lee/card#i> ;\n",
      "    :primaryTopic <https://www.w3.org/People/Berners-Lee/card#i> .\n",
      "\n",
      "<http://www.w3.org/People/Berners-Lee/card#i> cert:key [ a cert:RSAPublicKey ;\n",
      "            cert:exponent 65537 ;\n",
      "            cert:modulus \"ebe99c737bd3670239600547e5e2eb1d1497da39947b6576c3c44ffeca32cf0f2f7cbee3c47001278a90fc7fc5bcf292f741eb1fcd6bbe7f90650afb519cf13e81b2bffc6e02063ee5a55781d420b1dfaf61c15758480e66d47fb0dcb5fa7b9f7f1052e5ccbd01beee9553c3b6b51f4daf1fce991294cd09a3d1d636bc6c7656e4455d0aff06daec740ed0084aa6866fcae1359de61cc12dbe37c8fa42e977c6e727a8258bb9a3f265b27e3766fe0697f6aa0bcc81c3f026e387bd7bbc81580dc1853af2daa099186a9f59da526474ef6ec0a3d84cf400be3261b6b649dea1f78184862d34d685d2d587f09acc14cd8e578fdd2283387821296f0af39b8d8845\"^^xsd:hexBinary ] .\n",
      "\n",
      "<http://www.w3.org/data#W3C> :member <https://www.w3.org/People/Berners-Lee/card#i> .\n",
      "\n",
      "<http://dig.csail.mit.edu/breadcrumbs/blog/4> dc:title \"timbl's blog on DIG\" ;\n",
      "    rdfs:seeAlso <http://dig.csail.mit.edu/breadcrumbs/blog/feed/4> ;\n",
      "    :maker <https://www.w3.org/People/Berners-Lee/card#i> .\n",
      "\n",
      "<https://timbl.com/timbl/Public/friends.ttl> a :PersonalProfileDocument ;\n",
      "    cc:license <http://creativecommons.org/licenses/by-nc/3.0/> ;\n",
      "    dc:title \"Tim Berners-Lee's editable profile\" ;\n",
      "    :maker <https://www.w3.org/People/Berners-Lee/card#i> ;\n",
      "    :primaryTopic <https://www.w3.org/People/Berners-Lee/card#i> .\n",
      "\n",
      "<https://www.w3.org/People/Berners-Lee/card#i> a con:Male,\n",
      "        :Person ;\n",
      "    rdfs:label \"Tim Berners-Lee\" ;\n",
      "    sioc:avatar <http://www.w3.org/People/Berners-Lee/images/timbl-image-by-Coz-cropped.jpg> ;\n",
      "    schema:owns <https://timblbot.inrupt.net/profile/card#me> ;\n",
      "    rdfs:seeAlso <https://timbl.com/timbl/Public/friends.ttl> ;\n",
      "    con:assistant <https://www.w3.org/People/Berners-Lee/card#amy> ;\n",
      "    con:homePage <http://www.w3.org/People/Berners-Lee/> ;\n",
      "    con:office [ con:address [ con:city \"Cambridge\" ;\n",
      "                    con:country \"USA\" ;\n",
      "                    con:postalCode \"02139\" ;\n",
      "                    con:street \"32 Vassar Street\" ;\n",
      "                    con:street2 \"MIT CSAIL Building 32\" ] ;\n",
      "            geo:location [ geo:lat \"42.361860\" ;\n",
      "                    geo:long \"-71.091840\" ] ] ;\n",
      "    con:preferredURI \"https://www.w3.org/People/Berners-Lee/card#i\" ;\n",
      "    con:publicHomePage <http://www.w3.org/People/Berners-Lee/> ;\n",
      "    vcard:fn \"Tim Berners-Lee\" ;\n",
      "    vcard:hasAddress [ a vcard:Work ;\n",
      "            vcard:locality \"Cambridge\" ;\n",
      "            vcard:postal-code \"02139\" ;\n",
      "            vcard:region \"MA\" ;\n",
      "            vcard:street-address \"32 Vassar Street\" ] ;\n",
      "    ldp:inbox <https://timbl.com/timbl/Public/Inbox> ;\n",
      "    space:preferencesFile <https://timbl.com/timbl/Data/preferences.n3> ;\n",
      "    space:storage <https://timbl.com/timbl/Public/>,\n",
      "        <https://timbl.inrupt.net/>,\n",
      "        <https://timbl.solid.community/> ;\n",
      "    solid:editableProfile <https://timbl.com/timbl/Public/friends.ttl> ;\n",
      "    solid:oidcIssuer <https://timbl.com> ;\n",
      "    solid:profileBackgroundColor \"#ffffff\" ;\n",
      "    solid:profileHighlightColor \"#00467E\" ;\n",
      "    solid:publicTypeIndex <https://timbl.com/timbl/Public/PublicTypeIndex.ttl> ;\n",
      "    :account <http://en.wikipedia.org/wiki/User:Timbl>,\n",
      "        <http://twitter.com/timberners_lee>,\n",
      "        <http://www.reddit.com/user/timbl/> ;\n",
      "    :based_near [ geo:lat \"42.361860\" ;\n",
      "            geo:long \"-71.091840\" ] ;\n",
      "    :family_name \"Berners-Lee\" ;\n",
      "    :givenname \"Timothy\" ;\n",
      "    :homepage <https://www.w3.org/People/Berners-Lee/> ;\n",
      "    :img <https://www.w3.org/Press/Stock/Berners-Lee/2001-europaeum-eighth.jpg> ;\n",
      "    :mbox <mailto:timbl@w3.org> ;\n",
      "    :mbox_sha1sum \"965c47c5a70db7407210cef6e4e6f5374a525c5c\" ;\n",
      "    :name \"Timothy Berners-Lee\" ;\n",
      "    :nick \"TimBL\",\n",
      "        \"timbl\" ;\n",
      "    :openid <https://www.w3.org/People/Berners-Lee/> ;\n",
      "    :title \"Sir\" ;\n",
      "    :weblog <http://dig.csail.mit.edu/breadcrumbs/blog/4> ;\n",
      "    :workplaceHomepage <https://www.w3.org/> .\n",
      "\n",
      "\n"
     ]
    }
   ],
   "source": [
    "# Wyświetl zawartość grafu g_tbl w serializacji Turtle.\n",
    "print(g_tbl.serialize(format=\"turtle\").decode(\"utf-8\"))"
   ]
  },
  {
   "cell_type": "code",
   "execution_count": 29,
   "metadata": {},
   "outputs": [
    {
     "name": "stdout",
     "output_type": "stream",
     "text": [
      "<?xml version=\"1.0\" encoding=\"UTF-8\"?>\n",
      "<rdf:RDF\n",
      "   xmlns=\"http://xmlns.com/foaf/0.1/\"\n",
      "   xmlns:cc=\"http://creativecommons.org/ns#\"\n",
      "   xmlns:cert=\"http://www.w3.org/ns/auth/cert#\"\n",
      "   xmlns:con=\"http://www.w3.org/2000/10/swap/pim/contact#\"\n",
      "   xmlns:dc=\"http://purl.org/dc/elements/1.1/\"\n",
      "   xmlns:dct=\"http://purl.org/dc/terms/\"\n",
      "   xmlns:doap=\"http://usefulinc.com/ns/doap#\"\n",
      "   xmlns:geo=\"http://www.w3.org/2003/01/geo/wgs84_pos#\"\n",
      "   xmlns:ldp=\"http://www.w3.org/ns/ldp#\"\n",
      "   xmlns:rdf=\"http://www.w3.org/1999/02/22-rdf-syntax-ns#\"\n",
      "   xmlns:rdfs=\"http://www.w3.org/2000/01/rdf-schema#\"\n",
      "   xmlns:schema=\"http://schema.org/\"\n",
      "   xmlns:sioc=\"http://rdfs.org/sioc/ns#\"\n",
      "   xmlns:solid=\"http://www.w3.org/ns/solid/terms#\"\n",
      "   xmlns:space=\"http://www.w3.org/ns/pim/space#\"\n",
      "   xmlns:vcard=\"http://www.w3.org/2006/vcard/ns#\"\n",
      ">\n",
      "  <rdf:Description rdf:about=\"https://www.w3.org/People/Berners-Lee/card#i\">\n",
      "    <rdfs:seeAlso rdf:resource=\"https://timbl.com/timbl/Public/friends.ttl\"/>\n",
      "    <name>Timothy Berners-Lee</name>\n",
      "    <rdf:type rdf:resource=\"http://xmlns.com/foaf/0.1/Person\"/>\n",
      "    <space:preferencesFile rdf:resource=\"https://timbl.com/timbl/Data/preferences.n3\"/>\n",
      "    <account rdf:resource=\"http://www.reddit.com/user/timbl/\"/>\n",
      "    <nick>timbl</nick>\n",
      "    <space:storage rdf:resource=\"https://timbl.inrupt.net/\"/>\n",
      "    <solid:profileBackgroundColor>#ffffff</solid:profileBackgroundColor>\n",
      "    <homepage rdf:resource=\"https://www.w3.org/People/Berners-Lee/\"/>\n",
      "    <vcard:fn>Tim Berners-Lee</vcard:fn>\n",
      "    <rdfs:label>Tim Berners-Lee</rdfs:label>\n",
      "    <solid:profileHighlightColor>#00467E</solid:profileHighlightColor>\n",
      "    <solid:publicTypeIndex rdf:resource=\"https://timbl.com/timbl/Public/PublicTypeIndex.ttl\"/>\n",
      "    <nick>TimBL</nick>\n",
      "    <workplaceHomepage rdf:resource=\"https://www.w3.org/\"/>\n",
      "    <ldp:inbox rdf:resource=\"https://timbl.com/timbl/Public/Inbox\"/>\n",
      "    <vcard:hasAddress rdf:nodeID=\"Nb2527ec11af04e60bbeb01762ed52339\"/>\n",
      "    <solid:oidcIssuer rdf:resource=\"https://timbl.com\"/>\n",
      "    <space:storage rdf:resource=\"https://timbl.solid.community/\"/>\n",
      "    <account rdf:resource=\"http://twitter.com/timberners_lee\"/>\n",
      "    <mbox_sha1sum>965c47c5a70db7407210cef6e4e6f5374a525c5c</mbox_sha1sum>\n",
      "    <schema:owns rdf:resource=\"https://timblbot.inrupt.net/profile/card#me\"/>\n",
      "    <weblog rdf:resource=\"http://dig.csail.mit.edu/breadcrumbs/blog/4\"/>\n",
      "    <openid rdf:resource=\"https://www.w3.org/People/Berners-Lee/\"/>\n",
      "    <sioc:avatar rdf:resource=\"http://www.w3.org/People/Berners-Lee/images/timbl-image-by-Coz-cropped.jpg\"/>\n",
      "    <title>Sir</title>\n",
      "    <space:storage rdf:resource=\"https://timbl.com/timbl/Public/\"/>\n",
      "    <img rdf:resource=\"https://www.w3.org/Press/Stock/Berners-Lee/2001-europaeum-eighth.jpg\"/>\n",
      "    <based_near rdf:nodeID=\"Ncc41316c6ae54a3c8736d9e063b70594\"/>\n",
      "    <family_name>Berners-Lee</family_name>\n",
      "    <con:assistant rdf:resource=\"https://www.w3.org/People/Berners-Lee/card#amy\"/>\n",
      "    <mbox rdf:resource=\"mailto:timbl@w3.org\"/>\n",
      "    <con:preferredURI>https://www.w3.org/People/Berners-Lee/card#i</con:preferredURI>\n",
      "    <con:publicHomePage rdf:resource=\"http://www.w3.org/People/Berners-Lee/\"/>\n",
      "    <givenname>Timothy</givenname>\n",
      "    <con:office rdf:nodeID=\"Naca72164f60045d7b2f99b26afc3a1b7\"/>\n",
      "    <solid:editableProfile rdf:resource=\"https://timbl.com/timbl/Public/friends.ttl\"/>\n",
      "    <con:homePage rdf:resource=\"http://www.w3.org/People/Berners-Lee/\"/>\n",
      "    <rdf:type rdf:resource=\"http://www.w3.org/2000/10/swap/pim/contact#Male\"/>\n",
      "    <account rdf:resource=\"http://en.wikipedia.org/wiki/User:Timbl\"/>\n",
      "  </rdf:Description>\n",
      "  <rdf:Description rdf:about=\"https://timbl.com/timbl/Public/friends.ttl\">\n",
      "    <cc:license rdf:resource=\"http://creativecommons.org/licenses/by-nc/3.0/\"/>\n",
      "    <dc:title>Tim Berners-Lee's editable profile</dc:title>\n",
      "    <maker rdf:resource=\"https://www.w3.org/People/Berners-Lee/card#i\"/>\n",
      "    <primaryTopic rdf:resource=\"https://www.w3.org/People/Berners-Lee/card#i\"/>\n",
      "    <rdf:type rdf:resource=\"http://xmlns.com/foaf/0.1/PersonalProfileDocument\"/>\n",
      "  </rdf:Description>\n",
      "  <rdf:Description rdf:about=\"http://www.ecs.soton.ac.uk/~dt2/dlstuff/www2006_data#panel-panelk01\">\n",
      "    <con:participant rdf:resource=\"https://www.w3.org/People/Berners-Lee/card#i\"/>\n",
      "    <rdfs:label>The Next Wave of the Web (Plenary Panel)</rdfs:label>\n",
      "  </rdf:Description>\n",
      "  <rdf:Description rdf:about=\"http://dig.csail.mit.edu/data#DIG\">\n",
      "    <member rdf:resource=\"https://www.w3.org/People/Berners-Lee/card#i\"/>\n",
      "  </rdf:Description>\n",
      "  <rdf:Description rdf:nodeID=\"N46b8c4a63a014aea9f03462d204fbf07\">\n",
      "    <con:city>Cambridge</con:city>\n",
      "    <con:postalCode>02139</con:postalCode>\n",
      "    <con:country>USA</con:country>\n",
      "    <con:street2>MIT CSAIL Building 32</con:street2>\n",
      "    <con:street>32 Vassar Street</con:street>\n",
      "  </rdf:Description>\n",
      "  <rdf:Description rdf:about=\"http://www.w3.org/People/Berners-Lee/card\">\n",
      "    <cc:license rdf:resource=\"http://creativecommons.org/licenses/by-nc/3.0/\"/>\n",
      "    <dc:title>Tim Berners-Lee's FOAF file</dc:title>\n",
      "    <rdf:type rdf:resource=\"http://xmlns.com/foaf/0.1/PersonalProfileDocument\"/>\n",
      "    <primaryTopic rdf:resource=\"https://www.w3.org/People/Berners-Lee/card#i\"/>\n",
      "    <maker rdf:resource=\"https://www.w3.org/People/Berners-Lee/card#i\"/>\n",
      "  </rdf:Description>\n",
      "  <rdf:Description rdf:nodeID=\"N34a6ad2722c34789a3ac4cf3941c48ab\">\n",
      "    <cert:exponent rdf:datatype=\"http://www.w3.org/2001/XMLSchema#integer\">65537</cert:exponent>\n",
      "    <cert:modulus rdf:datatype=\"http://www.w3.org/2001/XMLSchema#hexBinary\">ebe99c737bd3670239600547e5e2eb1d1497da39947b6576c3c44ffeca32cf0f2f7cbee3c47001278a90fc7fc5bcf292f741eb1fcd6bbe7f90650afb519cf13e81b2bffc6e02063ee5a55781d420b1dfaf61c15758480e66d47fb0dcb5fa7b9f7f1052e5ccbd01beee9553c3b6b51f4daf1fce991294cd09a3d1d636bc6c7656e4455d0aff06daec740ed0084aa6866fcae1359de61cc12dbe37c8fa42e977c6e727a8258bb9a3f265b27e3766fe0697f6aa0bcc81c3f026e387bd7bbc81580dc1853af2daa099186a9f59da526474ef6ec0a3d84cf400be3261b6b649dea1f78184862d34d685d2d587f09acc14cd8e578fdd2283387821296f0af39b8d8845</cert:modulus>\n",
      "    <rdf:type rdf:resource=\"http://www.w3.org/ns/auth/cert#RSAPublicKey\"/>\n",
      "  </rdf:Description>\n",
      "  <rdf:Description rdf:about=\"http://dig.csail.mit.edu/2007/01/camp/data#course\">\n",
      "    <maker rdf:resource=\"https://www.w3.org/People/Berners-Lee/card#i\"/>\n",
      "  </rdf:Description>\n",
      "  <rdf:Description rdf:about=\"http://www.w3.org/2011/Talks/0331-hyderabad-tbl/data#talk\">\n",
      "    <dct:title>Designing the Web for an Open Society</dct:title>\n",
      "    <maker rdf:resource=\"https://www.w3.org/People/Berners-Lee/card#i\"/>\n",
      "  </rdf:Description>\n",
      "  <rdf:Description rdf:nodeID=\"Ncc41316c6ae54a3c8736d9e063b70594\">\n",
      "    <geo:lat>42.361860</geo:lat>\n",
      "    <geo:long>-71.091840</geo:long>\n",
      "  </rdf:Description>\n",
      "  <rdf:Description rdf:about=\"http://www.w3.org/data#W3C\">\n",
      "    <member rdf:resource=\"https://www.w3.org/People/Berners-Lee/card#i\"/>\n",
      "  </rdf:Description>\n",
      "  <rdf:Description rdf:about=\"http://dig.csail.mit.edu/breadcrumbs/blog/4\">\n",
      "    <dc:title>timbl's blog on DIG</dc:title>\n",
      "    <rdfs:seeAlso rdf:resource=\"http://dig.csail.mit.edu/breadcrumbs/blog/feed/4\"/>\n",
      "    <maker rdf:resource=\"https://www.w3.org/People/Berners-Lee/card#i\"/>\n",
      "  </rdf:Description>\n",
      "  <rdf:Description rdf:nodeID=\"Nb2527ec11af04e60bbeb01762ed52339\">\n",
      "    <vcard:locality>Cambridge</vcard:locality>\n",
      "    <vcard:postal-code>02139</vcard:postal-code>\n",
      "    <vcard:region>MA</vcard:region>\n",
      "    <rdf:type rdf:resource=\"http://www.w3.org/2006/vcard/ns#Work\"/>\n",
      "    <vcard:street-address>32 Vassar Street</vcard:street-address>\n",
      "  </rdf:Description>\n",
      "  <rdf:Description rdf:nodeID=\"Naca72164f60045d7b2f99b26afc3a1b7\">\n",
      "    <con:address rdf:nodeID=\"N46b8c4a63a014aea9f03462d204fbf07\"/>\n",
      "    <geo:location rdf:nodeID=\"N04f6b0febf3c4150b48a22c18d66b111\"/>\n",
      "  </rdf:Description>\n",
      "  <rdf:Description rdf:about=\"http://www.w3.org/People/Berners-Lee/card#i\">\n",
      "    <cert:key rdf:nodeID=\"N34a6ad2722c34789a3ac4cf3941c48ab\"/>\n",
      "  </rdf:Description>\n",
      "  <rdf:Description rdf:about=\"http://www.w3.org/DesignIssues/Overview.html\">\n",
      "    <maker rdf:resource=\"https://www.w3.org/People/Berners-Lee/card#i\"/>\n",
      "    <dc:title>Design Issues for the World Wide Web</dc:title>\n",
      "  </rdf:Description>\n",
      "  <rdf:Description rdf:nodeID=\"N04f6b0febf3c4150b48a22c18d66b111\">\n",
      "    <geo:long>-71.091840</geo:long>\n",
      "    <geo:lat>42.361860</geo:lat>\n",
      "  </rdf:Description>\n",
      "  <rdf:Description rdf:about=\"http://wiki.ontoworld.org/index.php/_IRW2006\">\n",
      "    <con:participant rdf:resource=\"https://www.w3.org/People/Berners-Lee/card#i\"/>\n",
      "    <dc:title>Identity, Reference and the Web workshop 2006</dc:title>\n",
      "  </rdf:Description>\n",
      "  <rdf:Description rdf:about=\"http://dig.csail.mit.edu/2005/ajar/ajaw/data#Tabulator\">\n",
      "    <doap:developer rdf:resource=\"https://www.w3.org/People/Berners-Lee/card#i\"/>\n",
      "  </rdf:Description>\n",
      "  <rdf:Description rdf:about=\"http://www.w3.org/2000/10/swap/data#Cwm\">\n",
      "    <doap:developer rdf:resource=\"https://www.w3.org/People/Berners-Lee/card#i\"/>\n",
      "  </rdf:Description>\n",
      "</rdf:RDF>\n",
      "\n"
     ]
    }
   ],
   "source": [
    "# Wyświetl zawartość grafu g_tbl w serializacji RDF/XML.\n",
    "print(g_tbl.serialize(format=\"xml\").decode(\"utf-8\"))"
   ]
  },
  {
   "cell_type": "markdown",
   "metadata": {},
   "source": [
    "Uwaga! Jeśli nie pamiętasz czym są serializacje grafów, wróć do sekcji wprowadzającej do tego rozdziału. \n",
    "\n",
    "RDFLib obsługuje serializacje: ``turtle`` (w skrócie ``ttl``), ``xml``, ``n3`` oraz ``ntriples`` (w skrócie ``nt``). Dodatkowo można również korzystać z serializacji ``JSON-LD`` (tu będziemy potrzebować jednak dodatkowego pluginu) oraz ``trix``, gdy mamy do czynienia z grafami nazwanymi (ang. *named graphs*) lub bazami trójek."
   ]
  },
  {
   "cell_type": "code",
   "execution_count": 30,
   "metadata": {},
   "outputs": [],
   "source": [
    "# Zapisz graf g_tbl w serializacji Turtle w pliku o nazwie \"tbl.ttl\".\n",
    "g.serialize('tbl.ttl', format='turtle')"
   ]
  },
  {
   "cell_type": "markdown",
   "metadata": {},
   "source": [
    "## Tworzymy własny graf\n",
    "\n",
    "Aby utworzyć własny graf musimy sobie przypomnieć jak mogą wygląć trójki w grafie RDF. Pamiętamy, że trójki mogą zawierać identyfikatory zasobów, węzły puste w podmiocie i dopełnieniu trójki oraz literały w dopełnieniu trójki. \n",
    "\n",
    "RDFLib pozawala na utworzenie \n",
    "- identyfikatora dowolnego zasobu za pomocą funkcji ``URIRef``,\n",
    "- literału za pomocą funkcji ``Literal`` oraz\n",
    "- węzła pustego za pomocą funcji ``BNode``."
   ]
  },
  {
   "cell_type": "code",
   "execution_count": null,
   "metadata": {},
   "outputs": [],
   "source": [
    "# Zaimportuj funkcje \"URIRef\", \"Literal\" oraz \"BNode\".\n",
    "from rdflib import URIRef, Literal, BNode"
   ]
  },
  {
   "cell_type": "code",
   "execution_count": null,
   "metadata": {},
   "outputs": [],
   "source": [
    "uri_jana_kowalskiego = URIRef('http://ksiazka-si.pl/jan_kowalski')\n",
    "uri_nazywa_sie = URIRef('http://ksiazka-si.pl/nazywa_sie')\n",
    "uri_zna = URIRef('http://ksiazka-si.pl/zna')\n",
    "literal_jan_kowalski_pl = Literal('Jan Kowalski', lang='pl')\n",
    "bnode_kogos = BNode()\n",
    "literal_mariana_zuka_pl = Literal('Marian Żuk', lang='pl')"
   ]
  },
  {
   "cell_type": "markdown",
   "metadata": {},
   "source": [
    "Poniżej stworzymy nowy graf stwierdzający, że zasób o identyfikatorze \"http://ksiazka-si.pl/jan_kowalski\" nazywa się (w języku polskim) Jan Kowalski i zna kogoś, kto nazywa się Marian Żuk."
   ]
  },
  {
   "cell_type": "code",
   "execution_count": null,
   "metadata": {},
   "outputs": [],
   "source": [
    "# Utwórz nowy graf.\n",
    "g = Graph()\n",
    "\n",
    "# Dodaj trójki do grafu.\n",
    "g.add((uri_jana_kowalskiego, uri_nazywa_sie, literal_jan_kowalski_pl))\n",
    "g.add((uri_jana_kowalskiego, uri_zna, bnode_kogos))\n",
    "g.add((bnode_kogos, uri_nazywa_sie, literal_mariana_zuka_pl))\n",
    "\n",
    "# Wyświetl zawartość grafu w serializacji Turtle.\n",
    "print(g.serialize(format='turtle').decode(\"utf-8\"))"
   ]
  },
  {
   "cell_type": "markdown",
   "metadata": {},
   "source": [
    "W powyższym przykładzie użyliśmy dwóch wymyśłonych przez nas relacji \"http://ksiazka-si.pl/nazywa_sie\" i \"http://ksiazka-si.pl/zna\". Idea Sieci Semantycznej jest jednak taka, aby wymyślać nowe relacje tylko wówczas, kiedy nie istnieją dobre już wymyślone. Tak się akurat składa, że odpowiedniki tych relacji znajdziemy w standardzie FOAF (http://xmlns.com/foaf/spec/). RDFLib obsługuje FOAF."
   ]
  },
  {
   "cell_type": "code",
   "execution_count": null,
   "metadata": {},
   "outputs": [],
   "source": [
    "# Zajmortuj przestrzeń nazw FOAF\n",
    "from rdflib.namespace import FOAF"
   ]
  },
  {
   "cell_type": "markdown",
   "metadata": {},
   "source": [
    "Zmodyfikujmy teraz nasz przykład powyżej w taki sposób, abyśmy mogli skorzystać z relacji ze standardu FOAF."
   ]
  },
  {
   "cell_type": "code",
   "execution_count": null,
   "metadata": {},
   "outputs": [],
   "source": [
    "# Utwórz nowy graf.\n",
    "g = Graph()\n",
    "\n",
    "# Dodaj trójki do grafu.\n",
    "g.add((uri_jana_kowalskiego, FOAF.name, literal_jan_kowalski_pl))\n",
    "g.add((uri_jana_kowalskiego, FOAF.knows, bnode_kogos))\n",
    "g.add((bnode_kogos, FOAF.name, literal_mariana_zuka_pl))\n",
    "\n",
    "# Wyświetl zawartość grafu w serializacji Turtle.\n",
    "print(g.serialize(format='turtle').decode(\"utf-8\"))"
   ]
  },
  {
   "cell_type": "markdown",
   "metadata": {},
   "source": [
    "Aby zmienić prefiks przestrzeni FOAF musimy go zdefiniować zanim zaczniemy wypełniać graf trójkami."
   ]
  },
  {
   "cell_type": "code",
   "execution_count": null,
   "metadata": {
    "scrolled": true
   },
   "outputs": [],
   "source": [
    "# Utwórz nowy graf.\n",
    "g = Graph()\n",
    "\n",
    "# Przypisz prefiks \"foaf\" do przestreni FOAF\n",
    "g.bind('foaf', FOAF)\n",
    "\n",
    "# Dodaj trójki do grafu.\n",
    "g.add((uri_jana_kowalskiego, FOAF.name, literal_jan_kowalski_pl))\n",
    "g.add((uri_jana_kowalskiego, FOAF.knows, bnode_kogos))\n",
    "g.add((bnode_kogos, FOAF.name, literal_mariana_zuka_pl))\n",
    "\n",
    "# Wyświetl zawartość grafu w serializacji Turtle.\n",
    "print(g.serialize(format='turtle').decode(\"utf-8\"))"
   ]
  },
  {
   "cell_type": "code",
   "execution_count": null,
   "metadata": {},
   "outputs": [],
   "source": [
    "from rdflib.namespace import CSVW, DC, DCAT, DCTERMS, DOAP, FOAF, ODRL2, ORG, OWL,\\\n",
    "                             PROF, PROV, RDF, RDFS, SDO, SH, SKOS, SOSA, SSN, TIME,\\\n",
    "                             VOID, XMLNS, XSD\n",
    "\n",
    "print(RDF.type)\n",
    "# = rdflib.term.URIRef(\"http://www.w3.org/1999/02/22-rdf-syntax-ns#type\")\n",
    "\n",
    "print(FOAF.knows)\n",
    "# = rdflib.term.URIRef(\"http://xmlns.com/foaf/0.1/knows\")\n",
    "\n",
    "print(PROF.isProfileOf)\n",
    "# = rdflib.term.URIRef(\"http://www.w3.org/ns/dx/prof/isProfileOf\")\n",
    "\n",
    "print(SOSA.Sensor)\n",
    "# = rdflib.term.URIRef(\"http://www.w3.org/ns/sosa/Sensor\")"
   ]
  },
  {
   "cell_type": "code",
   "execution_count": null,
   "metadata": {},
   "outputs": [],
   "source": [
    "# g.add((ed, FOAF.nick, Literal(\"ed\", datatype=XSD.string))) \n",
    "# g.add((ed, FOAF.mbox, URIRef(\"mailto:e.scissorhands@example.org\")))"
   ]
  },
  {
   "cell_type": "markdown",
   "metadata": {},
   "source": [
    "Literals can be created from Python objects, this creates `data-typed literals`, for the details on the mapping see 2.1.3 Literals."
   ]
  },
  {
   "cell_type": "markdown",
   "metadata": {},
   "source": [
    "For creating many URIRefs in the same `namespace`, i.e. URIs with the same prefix, RDFLib has the `rdflib.namespace.Namespace` class:"
   ]
  },
  {
   "cell_type": "code",
   "execution_count": null,
   "metadata": {},
   "outputs": [],
   "source": [
    "from rdflib import Namespace\n",
    "\n",
    "n = Namespace('http://ksiazka-si.pl/')\n",
    "\n",
    "uri_jana_kowalskiego = URIRef(n.jan_kowalski)\n",
    "uri_nazywa_sie = URIRef(n.nazywa_sie)\n",
    "uri_zna = URIRef(n.zna)\n",
    "literal_jan_kowalski_pl = Literal('Jan Kowalski', lang='pl')\n",
    "bnode_kogos = BNode()\n",
    "literal_mariana_zuka_pl = Literal('Marian Żuk', lang='pl')\n",
    "\n",
    "# Utwórz nowy graf.\n",
    "g = Graph()\n",
    "\n",
    "g.bind('foaf', FOAF)\n",
    "\n",
    "# Dodaj trójki do grafu.\n",
    "g.add((uri_jana_kowalskiego, FOAF.name, literal_jan_kowalski_pl))\n",
    "g.add((uri_jana_kowalskiego, FOAF.knows, bnode_kogos))\n",
    "g.add((bnode_kogos, FOAF.name, literal_mariana_zuka_pl))\n",
    "\n",
    "# Wyświetl zawartość grafu w serializacji Turtle.\n",
    "print(g.serialize(format='turtle').decode(\"utf-8\"))"
   ]
  },
  {
   "cell_type": "markdown",
   "metadata": {},
   "source": [
    "For some properties, only one value per resource makes sense (i.e they are functional properties, or have maxcardinality of 1). The `set()` method is useful for this:"
   ]
  },
  {
   "cell_type": "code",
   "execution_count": null,
   "metadata": {},
   "outputs": [],
   "source": [
    "# Utwórz nowy graf.\n",
    "g = Graph()\n",
    "\n",
    "g.bind('foaf', FOAF)\n",
    "\n",
    "g.add((uri_jana_kowalskiego, FOAF.nick, Literal('Wafel'))) \n",
    "# print(\"Bob is\", g.value(uri_jana_kowalskiego, FOAF.age)) # prints: Bob is 42\n",
    "\n",
    "g.add((uri_jana_kowalskiego, FOAF.nick, Literal('Chudy'))) \n",
    "# print(\"Bob is\", g.value(uri_jana_kowalskiego, FOAF.age)) # prints: Bob is 42\n",
    "\n",
    "# Wyświetl zawartość grafu w serializacji Turtle.\n",
    "print(g.serialize(format='turtle').decode(\"utf-8\"))"
   ]
  },
  {
   "cell_type": "code",
   "execution_count": null,
   "metadata": {},
   "outputs": [],
   "source": [
    "print(g.value(uri_jana_kowalskiego, FOAF.nick))"
   ]
  },
  {
   "cell_type": "code",
   "execution_count": null,
   "metadata": {},
   "outputs": [],
   "source": [
    "# Utwórz nowy graf.\n",
    "g = Graph()\n",
    "\n",
    "g.bind('foaf', FOAF)\n",
    "\n",
    "g.add((uri_jana_kowalskiego, FOAF.nick, Literal('Wafel'))) \n",
    "g.add((uri_jana_kowalskiego, FOAF.nick, Literal('Chudy'))) \n",
    "g.set((uri_jana_kowalskiego, FOAF.nick, Literal('Szczypior'))) # replaces 42 set above \n",
    "\n",
    "# Wyświetl zawartość grafu w serializacji Turtle.\n",
    "print(g.serialize(format='turtle').decode(\"utf-8\"))"
   ]
  },
  {
   "cell_type": "markdown",
   "metadata": {},
   "source": [
    "## Usuwanie trójek z grafu\n",
    "\n",
    "Trójki usuwamy z grafu za pomocą metody `remove()`. "
   ]
  },
  {
   "cell_type": "code",
   "execution_count": null,
   "metadata": {},
   "outputs": [],
   "source": [
    "# Utwórz nowy graf.\n",
    "g = Graph()\n",
    "\n",
    "g.bind('foaf', FOAF)\n",
    "\n",
    "# Dodaj trójki do grafu.\n",
    "g.add((uri_jana_kowalskiego, FOAF.name, literal_jan_kowalski_pl))\n",
    "g.add((uri_jana_kowalskiego, FOAF.knows, bnode_kogos))\n",
    "g.add((bnode_kogos, FOAF.name, literal_mariana_zuka_pl))\n",
    "\n",
    "# Wyświetl zawartość grafu w serializacji Turtle.\n",
    "print('PRZED:')\n",
    "print(g.serialize(format='turtle').decode(\"utf-8\"))\n",
    "\n",
    "# Usuń wszystkie trójki orzekające o uri_jana_kowalskiego\n",
    "g.remove((uri_jana_kowalskiego, None, None)) \n",
    "\n",
    "# Wyświetl zawartość grafu w serializacji Turtle.\n",
    "print('PO:')\n",
    "print(g.serialize(format='turtle').decode(\"utf-8\"))"
   ]
  },
  {
   "cell_type": "markdown",
   "metadata": {},
   "source": [
    "## Filtrowanie grafu\n",
    "\n",
    "Teraz poznasz szereg metod pozwalających na filtrowanie grafu, tj. wyszukanie w grafie jego fragmentu spełniającego określone własności."
   ]
  },
  {
   "cell_type": "code",
   "execution_count": 31,
   "metadata": {},
   "outputs": [
    {
     "data": {
      "text/plain": [
       "<Graph identifier=N2218f9d79e974237ac4b18273264d5fc (<class 'rdflib.graph.Graph'>)>"
      ]
     },
     "execution_count": 31,
     "metadata": {},
     "output_type": "execute_result"
    }
   ],
   "source": [
    "from rdflib import Graph\n",
    "g_tbl = Graph()\n",
    "g_tbl.parse(source='http://www.w3.org/People/Berners-Lee/card')"
   ]
  },
  {
   "cell_type": "markdown",
   "metadata": {},
   "source": [
    "Zacznij od wypisanie wszystkich trójek. Możesz to zrobić tak:"
   ]
  },
  {
   "cell_type": "code",
   "execution_count": 36,
   "metadata": {},
   "outputs": [
    {
     "name": "stdout",
     "output_type": "stream",
     "text": [
      "(rdflib.term.URIRef('https://www.w3.org/People/Berners-Lee/card#i'), rdflib.term.URIRef('http://www.w3.org/ns/solid/terms#profileBackgroundColor'), rdflib.term.Literal('#ffffff'))\n",
      "(rdflib.term.URIRef('http://www.ecs.soton.ac.uk/~dt2/dlstuff/www2006_data#panel-panelk01'), rdflib.term.URIRef('http://www.w3.org/2000/10/swap/pim/contact#participant'), rdflib.term.URIRef('https://www.w3.org/People/Berners-Lee/card#i'))\n",
      "(rdflib.term.BNode('N9b604ad43d7145f18b6dc08d3b2dcf08'), rdflib.term.URIRef('http://www.w3.org/2000/10/swap/pim/contact#country'), rdflib.term.Literal('USA'))\n",
      "(rdflib.term.URIRef('https://www.w3.org/People/Berners-Lee/card#i'), rdflib.term.URIRef('http://www.w3.org/2000/10/swap/pim/contact#office'), rdflib.term.BNode('N42fc8a4c1a84433bbc9871a4a6f7f21c'))\n",
      "(rdflib.term.URIRef('https://www.w3.org/People/Berners-Lee/card#i'), rdflib.term.URIRef('http://xmlns.com/foaf/0.1/family_name'), rdflib.term.Literal('Berners-Lee'))\n",
      "(rdflib.term.BNode('N9b604ad43d7145f18b6dc08d3b2dcf08'), rdflib.term.URIRef('http://www.w3.org/2000/10/swap/pim/contact#street'), rdflib.term.Literal('32 Vassar Street'))\n",
      "(rdflib.term.URIRef('https://www.w3.org/People/Berners-Lee/card#i'), rdflib.term.URIRef('http://www.w3.org/ns/solid/terms#editableProfile'), rdflib.term.URIRef('https://timbl.com/timbl/Public/friends.ttl'))\n",
      "(rdflib.term.URIRef('https://www.w3.org/People/Berners-Lee/card#i'), rdflib.term.URIRef('http://www.w3.org/2006/vcard/ns#fn'), rdflib.term.Literal('Tim Berners-Lee'))\n",
      "(rdflib.term.URIRef('https://www.w3.org/People/Berners-Lee/card#i'), rdflib.term.URIRef('http://www.w3.org/2000/10/swap/pim/contact#assistant'), rdflib.term.URIRef('https://www.w3.org/People/Berners-Lee/card#amy'))\n",
      "(rdflib.term.URIRef('http://www.w3.org/data#W3C'), rdflib.term.URIRef('http://xmlns.com/foaf/0.1/member'), rdflib.term.URIRef('https://www.w3.org/People/Berners-Lee/card#i'))\n",
      "(rdflib.term.BNode('Nb61a8ab3a5094517ac75c8ba4c80b306'), rdflib.term.URIRef('http://www.w3.org/2006/vcard/ns#locality'), rdflib.term.Literal('Cambridge'))\n",
      "(rdflib.term.URIRef('https://www.w3.org/People/Berners-Lee/card#i'), rdflib.term.URIRef('http://www.w3.org/2006/vcard/ns#hasAddress'), rdflib.term.BNode('Nb61a8ab3a5094517ac75c8ba4c80b306'))\n",
      "(rdflib.term.BNode('N9b604ad43d7145f18b6dc08d3b2dcf08'), rdflib.term.URIRef('http://www.w3.org/2000/10/swap/pim/contact#street2'), rdflib.term.Literal('MIT CSAIL Building 32'))\n",
      "(rdflib.term.URIRef('https://www.w3.org/People/Berners-Lee/card#i'), rdflib.term.URIRef('http://xmlns.com/foaf/0.1/name'), rdflib.term.Literal('Timothy Berners-Lee'))\n",
      "(rdflib.term.URIRef('https://www.w3.org/People/Berners-Lee/card#i'), rdflib.term.URIRef('http://xmlns.com/foaf/0.1/img'), rdflib.term.URIRef('https://www.w3.org/Press/Stock/Berners-Lee/2001-europaeum-eighth.jpg'))\n",
      "(rdflib.term.URIRef('https://www.w3.org/People/Berners-Lee/card#i'), rdflib.term.URIRef('http://www.w3.org/1999/02/22-rdf-syntax-ns#type'), rdflib.term.URIRef('http://www.w3.org/2000/10/swap/pim/contact#Male'))\n",
      "(rdflib.term.URIRef('http://www.w3.org/People/Berners-Lee/card'), rdflib.term.URIRef('http://creativecommons.org/ns#license'), rdflib.term.URIRef('http://creativecommons.org/licenses/by-nc/3.0/'))\n",
      "(rdflib.term.URIRef('https://timbl.com/timbl/Public/friends.ttl'), rdflib.term.URIRef('http://www.w3.org/1999/02/22-rdf-syntax-ns#type'), rdflib.term.URIRef('http://xmlns.com/foaf/0.1/PersonalProfileDocument'))\n",
      "(rdflib.term.URIRef('http://dig.csail.mit.edu/breadcrumbs/blog/4'), rdflib.term.URIRef('http://purl.org/dc/elements/1.1/title'), rdflib.term.Literal(\"timbl's blog on DIG\"))\n",
      "(rdflib.term.URIRef('https://www.w3.org/People/Berners-Lee/card#i'), rdflib.term.URIRef('http://xmlns.com/foaf/0.1/homepage'), rdflib.term.URIRef('https://www.w3.org/People/Berners-Lee/'))\n",
      "(rdflib.term.URIRef('https://www.w3.org/People/Berners-Lee/card#i'), rdflib.term.URIRef('http://www.w3.org/ns/ldp#inbox'), rdflib.term.URIRef('https://timbl.com/timbl/Public/Inbox'))\n",
      "(rdflib.term.URIRef('https://www.w3.org/People/Berners-Lee/card#i'), rdflib.term.URIRef('http://www.w3.org/2000/01/rdf-schema#label'), rdflib.term.Literal('Tim Berners-Lee'))\n",
      "(rdflib.term.URIRef('https://www.w3.org/People/Berners-Lee/card#i'), rdflib.term.URIRef('http://xmlns.com/foaf/0.1/weblog'), rdflib.term.URIRef('http://dig.csail.mit.edu/breadcrumbs/blog/4'))\n",
      "(rdflib.term.URIRef('http://wiki.ontoworld.org/index.php/_IRW2006'), rdflib.term.URIRef('http://www.w3.org/2000/10/swap/pim/contact#participant'), rdflib.term.URIRef('https://www.w3.org/People/Berners-Lee/card#i'))\n",
      "(rdflib.term.URIRef('https://www.w3.org/People/Berners-Lee/card#i'), rdflib.term.URIRef('http://xmlns.com/foaf/0.1/based_near'), rdflib.term.BNode('Na981e674d1c64ca1b79f6d11893c8b3f'))\n",
      "(rdflib.term.URIRef('https://timbl.com/timbl/Public/friends.ttl'), rdflib.term.URIRef('http://xmlns.com/foaf/0.1/primaryTopic'), rdflib.term.URIRef('https://www.w3.org/People/Berners-Lee/card#i'))\n",
      "(rdflib.term.URIRef('https://www.w3.org/People/Berners-Lee/card#i'), rdflib.term.URIRef('http://www.w3.org/2000/10/swap/pim/contact#preferredURI'), rdflib.term.Literal('https://www.w3.org/People/Berners-Lee/card#i'))\n",
      "(rdflib.term.BNode('Na6289672a9d14dfcbb77aae414a84c7d'), rdflib.term.URIRef('http://www.w3.org/2003/01/geo/wgs84_pos#lat'), rdflib.term.Literal('42.361860'))\n",
      "(rdflib.term.URIRef('https://www.w3.org/People/Berners-Lee/card#i'), rdflib.term.URIRef('http://rdfs.org/sioc/ns#avatar'), rdflib.term.URIRef('http://www.w3.org/People/Berners-Lee/images/timbl-image-by-Coz-cropped.jpg'))\n",
      "(rdflib.term.URIRef('https://www.w3.org/People/Berners-Lee/card#i'), rdflib.term.URIRef('http://www.w3.org/ns/pim/space#storage'), rdflib.term.URIRef('https://timbl.inrupt.net/'))\n",
      "(rdflib.term.URIRef('http://dig.csail.mit.edu/breadcrumbs/blog/4'), rdflib.term.URIRef('http://xmlns.com/foaf/0.1/maker'), rdflib.term.URIRef('https://www.w3.org/People/Berners-Lee/card#i'))\n",
      "(rdflib.term.URIRef('http://www.w3.org/2011/Talks/0331-hyderabad-tbl/data#talk'), rdflib.term.URIRef('http://purl.org/dc/terms/title'), rdflib.term.Literal('Designing the Web for an Open Society'))\n",
      "(rdflib.term.URIRef('https://www.w3.org/People/Berners-Lee/card#i'), rdflib.term.URIRef('http://xmlns.com/foaf/0.1/title'), rdflib.term.Literal('Sir'))\n",
      "(rdflib.term.URIRef('http://www.w3.org/People/Berners-Lee/card'), rdflib.term.URIRef('http://xmlns.com/foaf/0.1/maker'), rdflib.term.URIRef('https://www.w3.org/People/Berners-Lee/card#i'))\n",
      "(rdflib.term.URIRef('http://dig.csail.mit.edu/breadcrumbs/blog/4'), rdflib.term.URIRef('http://www.w3.org/2000/01/rdf-schema#seeAlso'), rdflib.term.URIRef('http://dig.csail.mit.edu/breadcrumbs/blog/feed/4'))\n",
      "(rdflib.term.URIRef('http://www.w3.org/People/Berners-Lee/card#i'), rdflib.term.URIRef('http://www.w3.org/ns/auth/cert#key'), rdflib.term.BNode('Ne9e0fc9cb9064c64931267b8e896ff7e'))\n",
      "(rdflib.term.BNode('N9b604ad43d7145f18b6dc08d3b2dcf08'), rdflib.term.URIRef('http://www.w3.org/2000/10/swap/pim/contact#postalCode'), rdflib.term.Literal('02139'))\n",
      "(rdflib.term.BNode('N42fc8a4c1a84433bbc9871a4a6f7f21c'), rdflib.term.URIRef('http://www.w3.org/2000/10/swap/pim/contact#address'), rdflib.term.BNode('N9b604ad43d7145f18b6dc08d3b2dcf08'))\n",
      "(rdflib.term.BNode('Nb61a8ab3a5094517ac75c8ba4c80b306'), rdflib.term.URIRef('http://www.w3.org/1999/02/22-rdf-syntax-ns#type'), rdflib.term.URIRef('http://www.w3.org/2006/vcard/ns#Work'))\n",
      "(rdflib.term.URIRef('http://www.w3.org/DesignIssues/Overview.html'), rdflib.term.URIRef('http://purl.org/dc/elements/1.1/title'), rdflib.term.Literal('Design Issues for the World Wide Web'))\n",
      "(rdflib.term.URIRef('https://www.w3.org/People/Berners-Lee/card#i'), rdflib.term.URIRef('http://xmlns.com/foaf/0.1/account'), rdflib.term.URIRef('http://www.reddit.com/user/timbl/'))\n",
      "(rdflib.term.URIRef('http://www.w3.org/People/Berners-Lee/card'), rdflib.term.URIRef('http://xmlns.com/foaf/0.1/primaryTopic'), rdflib.term.URIRef('https://www.w3.org/People/Berners-Lee/card#i'))\n",
      "(rdflib.term.URIRef('https://www.w3.org/People/Berners-Lee/card#i'), rdflib.term.URIRef('http://xmlns.com/foaf/0.1/account'), rdflib.term.URIRef('http://twitter.com/timberners_lee'))\n",
      "(rdflib.term.URIRef('https://www.w3.org/People/Berners-Lee/card#i'), rdflib.term.URIRef('http://xmlns.com/foaf/0.1/givenname'), rdflib.term.Literal('Timothy'))\n",
      "(rdflib.term.URIRef('https://www.w3.org/People/Berners-Lee/card#i'), rdflib.term.URIRef('http://xmlns.com/foaf/0.1/workplaceHomepage'), rdflib.term.URIRef('https://www.w3.org/'))\n",
      "(rdflib.term.URIRef('http://dig.csail.mit.edu/2005/ajar/ajaw/data#Tabulator'), rdflib.term.URIRef('http://usefulinc.com/ns/doap#developer'), rdflib.term.URIRef('https://www.w3.org/People/Berners-Lee/card#i'))\n",
      "(rdflib.term.BNode('Na981e674d1c64ca1b79f6d11893c8b3f'), rdflib.term.URIRef('http://www.w3.org/2003/01/geo/wgs84_pos#lat'), rdflib.term.Literal('42.361860'))\n",
      "(rdflib.term.URIRef('https://www.w3.org/People/Berners-Lee/card#i'), rdflib.term.URIRef('http://xmlns.com/foaf/0.1/openid'), rdflib.term.URIRef('https://www.w3.org/People/Berners-Lee/'))\n",
      "(rdflib.term.URIRef('http://www.w3.org/DesignIssues/Overview.html'), rdflib.term.URIRef('http://xmlns.com/foaf/0.1/maker'), rdflib.term.URIRef('https://www.w3.org/People/Berners-Lee/card#i'))\n",
      "(rdflib.term.URIRef('http://www.w3.org/2011/Talks/0331-hyderabad-tbl/data#talk'), rdflib.term.URIRef('http://xmlns.com/foaf/0.1/maker'), rdflib.term.URIRef('https://www.w3.org/People/Berners-Lee/card#i'))\n",
      "(rdflib.term.BNode('Na981e674d1c64ca1b79f6d11893c8b3f'), rdflib.term.URIRef('http://www.w3.org/2003/01/geo/wgs84_pos#long'), rdflib.term.Literal('-71.091840'))\n",
      "(rdflib.term.BNode('Nb61a8ab3a5094517ac75c8ba4c80b306'), rdflib.term.URIRef('http://www.w3.org/2006/vcard/ns#postal-code'), rdflib.term.Literal('02139'))\n",
      "(rdflib.term.URIRef('https://www.w3.org/People/Berners-Lee/card#i'), rdflib.term.URIRef('http://www.w3.org/2000/01/rdf-schema#seeAlso'), rdflib.term.URIRef('https://timbl.com/timbl/Public/friends.ttl'))\n",
      "(rdflib.term.URIRef('http://wiki.ontoworld.org/index.php/_IRW2006'), rdflib.term.URIRef('http://purl.org/dc/elements/1.1/title'), rdflib.term.Literal('Identity, Reference and the Web workshop 2006'))\n",
      "(rdflib.term.URIRef('https://www.w3.org/People/Berners-Lee/card#i'), rdflib.term.URIRef('http://xmlns.com/foaf/0.1/nick'), rdflib.term.Literal('timbl'))\n",
      "(rdflib.term.URIRef('https://www.w3.org/People/Berners-Lee/card#i'), rdflib.term.URIRef('http://www.w3.org/2000/10/swap/pim/contact#homePage'), rdflib.term.URIRef('http://www.w3.org/People/Berners-Lee/'))\n",
      "(rdflib.term.BNode('Na6289672a9d14dfcbb77aae414a84c7d'), rdflib.term.URIRef('http://www.w3.org/2003/01/geo/wgs84_pos#long'), rdflib.term.Literal('-71.091840'))\n",
      "(rdflib.term.URIRef('http://www.w3.org/2000/10/swap/data#Cwm'), rdflib.term.URIRef('http://usefulinc.com/ns/doap#developer'), rdflib.term.URIRef('https://www.w3.org/People/Berners-Lee/card#i'))\n",
      "(rdflib.term.URIRef('https://timbl.com/timbl/Public/friends.ttl'), rdflib.term.URIRef('http://creativecommons.org/ns#license'), rdflib.term.URIRef('http://creativecommons.org/licenses/by-nc/3.0/'))\n",
      "(rdflib.term.URIRef('https://www.w3.org/People/Berners-Lee/card#i'), rdflib.term.URIRef('http://xmlns.com/foaf/0.1/mbox_sha1sum'), rdflib.term.Literal('965c47c5a70db7407210cef6e4e6f5374a525c5c'))\n",
      "(rdflib.term.URIRef('http://www.w3.org/People/Berners-Lee/card'), rdflib.term.URIRef('http://www.w3.org/1999/02/22-rdf-syntax-ns#type'), rdflib.term.URIRef('http://xmlns.com/foaf/0.1/PersonalProfileDocument'))\n",
      "(rdflib.term.URIRef('https://timbl.com/timbl/Public/friends.ttl'), rdflib.term.URIRef('http://purl.org/dc/elements/1.1/title'), rdflib.term.Literal(\"Tim Berners-Lee's editable profile\"))\n",
      "(rdflib.term.URIRef('https://www.w3.org/People/Berners-Lee/card#i'), rdflib.term.URIRef('http://xmlns.com/foaf/0.1/nick'), rdflib.term.Literal('TimBL'))\n",
      "(rdflib.term.URIRef('http://www.w3.org/People/Berners-Lee/card'), rdflib.term.URIRef('http://purl.org/dc/elements/1.1/title'), rdflib.term.Literal(\"Tim Berners-Lee's FOAF file\"))\n",
      "(rdflib.term.URIRef('https://www.w3.org/People/Berners-Lee/card#i'), rdflib.term.URIRef('http://xmlns.com/foaf/0.1/mbox'), rdflib.term.URIRef('mailto:timbl@w3.org'))\n",
      "(rdflib.term.BNode('Nb61a8ab3a5094517ac75c8ba4c80b306'), rdflib.term.URIRef('http://www.w3.org/2006/vcard/ns#street-address'), rdflib.term.Literal('32 Vassar Street'))\n",
      "(rdflib.term.URIRef('https://www.w3.org/People/Berners-Lee/card#i'), rdflib.term.URIRef('http://schema.org/owns'), rdflib.term.URIRef('https://timblbot.inrupt.net/profile/card#me'))\n",
      "(rdflib.term.URIRef('https://timbl.com/timbl/Public/friends.ttl'), rdflib.term.URIRef('http://xmlns.com/foaf/0.1/maker'), rdflib.term.URIRef('https://www.w3.org/People/Berners-Lee/card#i'))\n",
      "(rdflib.term.BNode('Ne9e0fc9cb9064c64931267b8e896ff7e'), rdflib.term.URIRef('http://www.w3.org/ns/auth/cert#modulus'), rdflib.term.Literal('ebe99c737bd3670239600547e5e2eb1d1497da39947b6576c3c44ffeca32cf0f2f7cbee3c47001278a90fc7fc5bcf292f741eb1fcd6bbe7f90650afb519cf13e81b2bffc6e02063ee5a55781d420b1dfaf61c15758480e66d47fb0dcb5fa7b9f7f1052e5ccbd01beee9553c3b6b51f4daf1fce991294cd09a3d1d636bc6c7656e4455d0aff06daec740ed0084aa6866fcae1359de61cc12dbe37c8fa42e977c6e727a8258bb9a3f265b27e3766fe0697f6aa0bcc81c3f026e387bd7bbc81580dc1853af2daa099186a9f59da526474ef6ec0a3d84cf400be3261b6b649dea1f78184862d34d685d2d587f09acc14cd8e578fdd2283387821296f0af39b8d8845', datatype=rdflib.term.URIRef('http://www.w3.org/2001/XMLSchema#hexBinary')))\n",
      "(rdflib.term.URIRef('https://www.w3.org/People/Berners-Lee/card#i'), rdflib.term.URIRef('http://www.w3.org/ns/pim/space#storage'), rdflib.term.URIRef('https://timbl.com/timbl/Public/'))\n",
      "(rdflib.term.URIRef('https://www.w3.org/People/Berners-Lee/card#i'), rdflib.term.URIRef('http://xmlns.com/foaf/0.1/account'), rdflib.term.URIRef('http://en.wikipedia.org/wiki/User:Timbl'))\n",
      "(rdflib.term.BNode('Ne9e0fc9cb9064c64931267b8e896ff7e'), rdflib.term.URIRef('http://www.w3.org/1999/02/22-rdf-syntax-ns#type'), rdflib.term.URIRef('http://www.w3.org/ns/auth/cert#RSAPublicKey'))\n",
      "(rdflib.term.URIRef('https://www.w3.org/People/Berners-Lee/card#i'), rdflib.term.URIRef('http://www.w3.org/ns/pim/space#preferencesFile'), rdflib.term.URIRef('https://timbl.com/timbl/Data/preferences.n3'))\n",
      "(rdflib.term.BNode('N42fc8a4c1a84433bbc9871a4a6f7f21c'), rdflib.term.URIRef('http://www.w3.org/2003/01/geo/wgs84_pos#location'), rdflib.term.BNode('Na6289672a9d14dfcbb77aae414a84c7d'))\n",
      "(rdflib.term.URIRef('https://www.w3.org/People/Berners-Lee/card#i'), rdflib.term.URIRef('http://www.w3.org/ns/solid/terms#publicTypeIndex'), rdflib.term.URIRef('https://timbl.com/timbl/Public/PublicTypeIndex.ttl'))\n",
      "(rdflib.term.URIRef('https://www.w3.org/People/Berners-Lee/card#i'), rdflib.term.URIRef('http://www.w3.org/1999/02/22-rdf-syntax-ns#type'), rdflib.term.URIRef('http://xmlns.com/foaf/0.1/Person'))\n",
      "(rdflib.term.BNode('Ne9e0fc9cb9064c64931267b8e896ff7e'), rdflib.term.URIRef('http://www.w3.org/ns/auth/cert#exponent'), rdflib.term.Literal('65537', datatype=rdflib.term.URIRef('http://www.w3.org/2001/XMLSchema#integer')))\n",
      "(rdflib.term.URIRef('https://www.w3.org/People/Berners-Lee/card#i'), rdflib.term.URIRef('http://www.w3.org/ns/pim/space#storage'), rdflib.term.URIRef('https://timbl.solid.community/'))\n",
      "(rdflib.term.URIRef('https://www.w3.org/People/Berners-Lee/card#i'), rdflib.term.URIRef('http://www.w3.org/ns/solid/terms#profileHighlightColor'), rdflib.term.Literal('#00467E'))\n",
      "(rdflib.term.URIRef('https://www.w3.org/People/Berners-Lee/card#i'), rdflib.term.URIRef('http://www.w3.org/2000/10/swap/pim/contact#publicHomePage'), rdflib.term.URIRef('http://www.w3.org/People/Berners-Lee/'))\n",
      "(rdflib.term.URIRef('http://dig.csail.mit.edu/data#DIG'), rdflib.term.URIRef('http://xmlns.com/foaf/0.1/member'), rdflib.term.URIRef('https://www.w3.org/People/Berners-Lee/card#i'))\n",
      "(rdflib.term.URIRef('http://dig.csail.mit.edu/2007/01/camp/data#course'), rdflib.term.URIRef('http://xmlns.com/foaf/0.1/maker'), rdflib.term.URIRef('https://www.w3.org/People/Berners-Lee/card#i'))\n",
      "(rdflib.term.URIRef('https://www.w3.org/People/Berners-Lee/card#i'), rdflib.term.URIRef('http://www.w3.org/ns/solid/terms#oidcIssuer'), rdflib.term.URIRef('https://timbl.com'))\n",
      "(rdflib.term.URIRef('http://www.ecs.soton.ac.uk/~dt2/dlstuff/www2006_data#panel-panelk01'), rdflib.term.URIRef('http://www.w3.org/2000/01/rdf-schema#label'), rdflib.term.Literal('The Next Wave of the Web (Plenary Panel)'))\n",
      "(rdflib.term.BNode('N9b604ad43d7145f18b6dc08d3b2dcf08'), rdflib.term.URIRef('http://www.w3.org/2000/10/swap/pim/contact#city'), rdflib.term.Literal('Cambridge'))\n",
      "(rdflib.term.BNode('Nb61a8ab3a5094517ac75c8ba4c80b306'), rdflib.term.URIRef('http://www.w3.org/2006/vcard/ns#region'), rdflib.term.Literal('MA'))\n"
     ]
    }
   ],
   "source": [
    "for triple in g_tbl:\n",
    "    print(triple) "
   ]
  },
  {
   "cell_type": "markdown",
   "metadata": {},
   "source": [
    "lub tak:"
   ]
  },
  {
   "cell_type": "code",
   "execution_count": 34,
   "metadata": {},
   "outputs": [
    {
     "name": "stdout",
     "output_type": "stream",
     "text": [
      "s = https://www.w3.org/People/Berners-Lee/card#i \n",
      "\t p = http://www.w3.org/ns/solid/terms#profileBackgroundColor \n",
      "\t\t o = #ffffff\n",
      "s = http://www.ecs.soton.ac.uk/~dt2/dlstuff/www2006_data#panel-panelk01 \n",
      "\t p = http://www.w3.org/2000/10/swap/pim/contact#participant \n",
      "\t\t o = https://www.w3.org/People/Berners-Lee/card#i\n",
      "s = N9b604ad43d7145f18b6dc08d3b2dcf08 \n",
      "\t p = http://www.w3.org/2000/10/swap/pim/contact#country \n",
      "\t\t o = USA\n",
      "s = https://www.w3.org/People/Berners-Lee/card#i \n",
      "\t p = http://www.w3.org/2000/10/swap/pim/contact#office \n",
      "\t\t o = N42fc8a4c1a84433bbc9871a4a6f7f21c\n",
      "s = https://www.w3.org/People/Berners-Lee/card#i \n",
      "\t p = http://xmlns.com/foaf/0.1/family_name \n",
      "\t\t o = Berners-Lee\n",
      "s = N9b604ad43d7145f18b6dc08d3b2dcf08 \n",
      "\t p = http://www.w3.org/2000/10/swap/pim/contact#street \n",
      "\t\t o = 32 Vassar Street\n",
      "s = https://www.w3.org/People/Berners-Lee/card#i \n",
      "\t p = http://www.w3.org/ns/solid/terms#editableProfile \n",
      "\t\t o = https://timbl.com/timbl/Public/friends.ttl\n",
      "s = https://www.w3.org/People/Berners-Lee/card#i \n",
      "\t p = http://www.w3.org/2006/vcard/ns#fn \n",
      "\t\t o = Tim Berners-Lee\n",
      "s = https://www.w3.org/People/Berners-Lee/card#i \n",
      "\t p = http://www.w3.org/2000/10/swap/pim/contact#assistant \n",
      "\t\t o = https://www.w3.org/People/Berners-Lee/card#amy\n",
      "s = http://www.w3.org/data#W3C \n",
      "\t p = http://xmlns.com/foaf/0.1/member \n",
      "\t\t o = https://www.w3.org/People/Berners-Lee/card#i\n",
      "s = Nb61a8ab3a5094517ac75c8ba4c80b306 \n",
      "\t p = http://www.w3.org/2006/vcard/ns#locality \n",
      "\t\t o = Cambridge\n",
      "s = https://www.w3.org/People/Berners-Lee/card#i \n",
      "\t p = http://www.w3.org/2006/vcard/ns#hasAddress \n",
      "\t\t o = Nb61a8ab3a5094517ac75c8ba4c80b306\n",
      "s = N9b604ad43d7145f18b6dc08d3b2dcf08 \n",
      "\t p = http://www.w3.org/2000/10/swap/pim/contact#street2 \n",
      "\t\t o = MIT CSAIL Building 32\n",
      "s = https://www.w3.org/People/Berners-Lee/card#i \n",
      "\t p = http://xmlns.com/foaf/0.1/name \n",
      "\t\t o = Timothy Berners-Lee\n",
      "s = https://www.w3.org/People/Berners-Lee/card#i \n",
      "\t p = http://xmlns.com/foaf/0.1/img \n",
      "\t\t o = https://www.w3.org/Press/Stock/Berners-Lee/2001-europaeum-eighth.jpg\n",
      "s = https://www.w3.org/People/Berners-Lee/card#i \n",
      "\t p = http://www.w3.org/1999/02/22-rdf-syntax-ns#type \n",
      "\t\t o = http://www.w3.org/2000/10/swap/pim/contact#Male\n",
      "s = http://www.w3.org/People/Berners-Lee/card \n",
      "\t p = http://creativecommons.org/ns#license \n",
      "\t\t o = http://creativecommons.org/licenses/by-nc/3.0/\n",
      "s = https://timbl.com/timbl/Public/friends.ttl \n",
      "\t p = http://www.w3.org/1999/02/22-rdf-syntax-ns#type \n",
      "\t\t o = http://xmlns.com/foaf/0.1/PersonalProfileDocument\n",
      "s = http://dig.csail.mit.edu/breadcrumbs/blog/4 \n",
      "\t p = http://purl.org/dc/elements/1.1/title \n",
      "\t\t o = timbl's blog on DIG\n",
      "s = https://www.w3.org/People/Berners-Lee/card#i \n",
      "\t p = http://xmlns.com/foaf/0.1/homepage \n",
      "\t\t o = https://www.w3.org/People/Berners-Lee/\n",
      "s = https://www.w3.org/People/Berners-Lee/card#i \n",
      "\t p = http://www.w3.org/ns/ldp#inbox \n",
      "\t\t o = https://timbl.com/timbl/Public/Inbox\n",
      "s = https://www.w3.org/People/Berners-Lee/card#i \n",
      "\t p = http://www.w3.org/2000/01/rdf-schema#label \n",
      "\t\t o = Tim Berners-Lee\n",
      "s = https://www.w3.org/People/Berners-Lee/card#i \n",
      "\t p = http://xmlns.com/foaf/0.1/weblog \n",
      "\t\t o = http://dig.csail.mit.edu/breadcrumbs/blog/4\n",
      "s = http://wiki.ontoworld.org/index.php/_IRW2006 \n",
      "\t p = http://www.w3.org/2000/10/swap/pim/contact#participant \n",
      "\t\t o = https://www.w3.org/People/Berners-Lee/card#i\n",
      "s = https://www.w3.org/People/Berners-Lee/card#i \n",
      "\t p = http://xmlns.com/foaf/0.1/based_near \n",
      "\t\t o = Na981e674d1c64ca1b79f6d11893c8b3f\n",
      "s = https://timbl.com/timbl/Public/friends.ttl \n",
      "\t p = http://xmlns.com/foaf/0.1/primaryTopic \n",
      "\t\t o = https://www.w3.org/People/Berners-Lee/card#i\n",
      "s = https://www.w3.org/People/Berners-Lee/card#i \n",
      "\t p = http://www.w3.org/2000/10/swap/pim/contact#preferredURI \n",
      "\t\t o = https://www.w3.org/People/Berners-Lee/card#i\n",
      "s = Na6289672a9d14dfcbb77aae414a84c7d \n",
      "\t p = http://www.w3.org/2003/01/geo/wgs84_pos#lat \n",
      "\t\t o = 42.361860\n",
      "s = https://www.w3.org/People/Berners-Lee/card#i \n",
      "\t p = http://rdfs.org/sioc/ns#avatar \n",
      "\t\t o = http://www.w3.org/People/Berners-Lee/images/timbl-image-by-Coz-cropped.jpg\n",
      "s = https://www.w3.org/People/Berners-Lee/card#i \n",
      "\t p = http://www.w3.org/ns/pim/space#storage \n",
      "\t\t o = https://timbl.inrupt.net/\n",
      "s = http://dig.csail.mit.edu/breadcrumbs/blog/4 \n",
      "\t p = http://xmlns.com/foaf/0.1/maker \n",
      "\t\t o = https://www.w3.org/People/Berners-Lee/card#i\n",
      "s = http://www.w3.org/2011/Talks/0331-hyderabad-tbl/data#talk \n",
      "\t p = http://purl.org/dc/terms/title \n",
      "\t\t o = Designing the Web for an Open Society\n",
      "s = https://www.w3.org/People/Berners-Lee/card#i \n",
      "\t p = http://xmlns.com/foaf/0.1/title \n",
      "\t\t o = Sir\n",
      "s = http://www.w3.org/People/Berners-Lee/card \n",
      "\t p = http://xmlns.com/foaf/0.1/maker \n",
      "\t\t o = https://www.w3.org/People/Berners-Lee/card#i\n",
      "s = http://dig.csail.mit.edu/breadcrumbs/blog/4 \n",
      "\t p = http://www.w3.org/2000/01/rdf-schema#seeAlso \n",
      "\t\t o = http://dig.csail.mit.edu/breadcrumbs/blog/feed/4\n",
      "s = http://www.w3.org/People/Berners-Lee/card#i \n",
      "\t p = http://www.w3.org/ns/auth/cert#key \n",
      "\t\t o = Ne9e0fc9cb9064c64931267b8e896ff7e\n",
      "s = N9b604ad43d7145f18b6dc08d3b2dcf08 \n",
      "\t p = http://www.w3.org/2000/10/swap/pim/contact#postalCode \n",
      "\t\t o = 02139\n",
      "s = N42fc8a4c1a84433bbc9871a4a6f7f21c \n",
      "\t p = http://www.w3.org/2000/10/swap/pim/contact#address \n",
      "\t\t o = N9b604ad43d7145f18b6dc08d3b2dcf08\n",
      "s = Nb61a8ab3a5094517ac75c8ba4c80b306 \n",
      "\t p = http://www.w3.org/1999/02/22-rdf-syntax-ns#type \n",
      "\t\t o = http://www.w3.org/2006/vcard/ns#Work\n",
      "s = http://www.w3.org/DesignIssues/Overview.html \n",
      "\t p = http://purl.org/dc/elements/1.1/title \n",
      "\t\t o = Design Issues for the World Wide Web\n",
      "s = https://www.w3.org/People/Berners-Lee/card#i \n",
      "\t p = http://xmlns.com/foaf/0.1/account \n",
      "\t\t o = http://www.reddit.com/user/timbl/\n",
      "s = http://www.w3.org/People/Berners-Lee/card \n",
      "\t p = http://xmlns.com/foaf/0.1/primaryTopic \n",
      "\t\t o = https://www.w3.org/People/Berners-Lee/card#i\n",
      "s = https://www.w3.org/People/Berners-Lee/card#i \n",
      "\t p = http://xmlns.com/foaf/0.1/account \n",
      "\t\t o = http://twitter.com/timberners_lee\n",
      "s = https://www.w3.org/People/Berners-Lee/card#i \n",
      "\t p = http://xmlns.com/foaf/0.1/givenname \n",
      "\t\t o = Timothy\n",
      "s = https://www.w3.org/People/Berners-Lee/card#i \n",
      "\t p = http://xmlns.com/foaf/0.1/workplaceHomepage \n",
      "\t\t o = https://www.w3.org/\n",
      "s = http://dig.csail.mit.edu/2005/ajar/ajaw/data#Tabulator \n",
      "\t p = http://usefulinc.com/ns/doap#developer \n",
      "\t\t o = https://www.w3.org/People/Berners-Lee/card#i\n",
      "s = Na981e674d1c64ca1b79f6d11893c8b3f \n",
      "\t p = http://www.w3.org/2003/01/geo/wgs84_pos#lat \n",
      "\t\t o = 42.361860\n",
      "s = https://www.w3.org/People/Berners-Lee/card#i \n",
      "\t p = http://xmlns.com/foaf/0.1/openid \n",
      "\t\t o = https://www.w3.org/People/Berners-Lee/\n",
      "s = http://www.w3.org/DesignIssues/Overview.html \n",
      "\t p = http://xmlns.com/foaf/0.1/maker \n",
      "\t\t o = https://www.w3.org/People/Berners-Lee/card#i\n",
      "s = http://www.w3.org/2011/Talks/0331-hyderabad-tbl/data#talk \n",
      "\t p = http://xmlns.com/foaf/0.1/maker \n",
      "\t\t o = https://www.w3.org/People/Berners-Lee/card#i\n",
      "s = Na981e674d1c64ca1b79f6d11893c8b3f \n",
      "\t p = http://www.w3.org/2003/01/geo/wgs84_pos#long \n",
      "\t\t o = -71.091840\n",
      "s = Nb61a8ab3a5094517ac75c8ba4c80b306 \n",
      "\t p = http://www.w3.org/2006/vcard/ns#postal-code \n",
      "\t\t o = 02139\n",
      "s = https://www.w3.org/People/Berners-Lee/card#i \n",
      "\t p = http://www.w3.org/2000/01/rdf-schema#seeAlso \n",
      "\t\t o = https://timbl.com/timbl/Public/friends.ttl\n",
      "s = http://wiki.ontoworld.org/index.php/_IRW2006 \n",
      "\t p = http://purl.org/dc/elements/1.1/title \n",
      "\t\t o = Identity, Reference and the Web workshop 2006\n",
      "s = https://www.w3.org/People/Berners-Lee/card#i \n",
      "\t p = http://xmlns.com/foaf/0.1/nick \n",
      "\t\t o = timbl\n",
      "s = https://www.w3.org/People/Berners-Lee/card#i \n",
      "\t p = http://www.w3.org/2000/10/swap/pim/contact#homePage \n",
      "\t\t o = http://www.w3.org/People/Berners-Lee/\n",
      "s = Na6289672a9d14dfcbb77aae414a84c7d \n",
      "\t p = http://www.w3.org/2003/01/geo/wgs84_pos#long \n",
      "\t\t o = -71.091840\n",
      "s = http://www.w3.org/2000/10/swap/data#Cwm \n",
      "\t p = http://usefulinc.com/ns/doap#developer \n",
      "\t\t o = https://www.w3.org/People/Berners-Lee/card#i\n",
      "s = https://timbl.com/timbl/Public/friends.ttl \n",
      "\t p = http://creativecommons.org/ns#license \n",
      "\t\t o = http://creativecommons.org/licenses/by-nc/3.0/\n",
      "s = https://www.w3.org/People/Berners-Lee/card#i \n",
      "\t p = http://xmlns.com/foaf/0.1/mbox_sha1sum \n",
      "\t\t o = 965c47c5a70db7407210cef6e4e6f5374a525c5c\n",
      "s = http://www.w3.org/People/Berners-Lee/card \n",
      "\t p = http://www.w3.org/1999/02/22-rdf-syntax-ns#type \n",
      "\t\t o = http://xmlns.com/foaf/0.1/PersonalProfileDocument\n",
      "s = https://timbl.com/timbl/Public/friends.ttl \n",
      "\t p = http://purl.org/dc/elements/1.1/title \n",
      "\t\t o = Tim Berners-Lee's editable profile\n",
      "s = https://www.w3.org/People/Berners-Lee/card#i \n",
      "\t p = http://xmlns.com/foaf/0.1/nick \n",
      "\t\t o = TimBL\n",
      "s = http://www.w3.org/People/Berners-Lee/card \n",
      "\t p = http://purl.org/dc/elements/1.1/title \n",
      "\t\t o = Tim Berners-Lee's FOAF file\n",
      "s = https://www.w3.org/People/Berners-Lee/card#i \n",
      "\t p = http://xmlns.com/foaf/0.1/mbox \n",
      "\t\t o = mailto:timbl@w3.org\n",
      "s = Nb61a8ab3a5094517ac75c8ba4c80b306 \n",
      "\t p = http://www.w3.org/2006/vcard/ns#street-address \n",
      "\t\t o = 32 Vassar Street\n",
      "s = https://www.w3.org/People/Berners-Lee/card#i \n",
      "\t p = http://schema.org/owns \n",
      "\t\t o = https://timblbot.inrupt.net/profile/card#me\n",
      "s = https://timbl.com/timbl/Public/friends.ttl \n",
      "\t p = http://xmlns.com/foaf/0.1/maker \n",
      "\t\t o = https://www.w3.org/People/Berners-Lee/card#i\n",
      "s = Ne9e0fc9cb9064c64931267b8e896ff7e \n",
      "\t p = http://www.w3.org/ns/auth/cert#modulus \n",
      "\t\t o = ebe99c737bd3670239600547e5e2eb1d1497da39947b6576c3c44ffeca32cf0f2f7cbee3c47001278a90fc7fc5bcf292f741eb1fcd6bbe7f90650afb519cf13e81b2bffc6e02063ee5a55781d420b1dfaf61c15758480e66d47fb0dcb5fa7b9f7f1052e5ccbd01beee9553c3b6b51f4daf1fce991294cd09a3d1d636bc6c7656e4455d0aff06daec740ed0084aa6866fcae1359de61cc12dbe37c8fa42e977c6e727a8258bb9a3f265b27e3766fe0697f6aa0bcc81c3f026e387bd7bbc81580dc1853af2daa099186a9f59da526474ef6ec0a3d84cf400be3261b6b649dea1f78184862d34d685d2d587f09acc14cd8e578fdd2283387821296f0af39b8d8845\n",
      "s = https://www.w3.org/People/Berners-Lee/card#i \n",
      "\t p = http://www.w3.org/ns/pim/space#storage \n",
      "\t\t o = https://timbl.com/timbl/Public/\n",
      "s = https://www.w3.org/People/Berners-Lee/card#i \n",
      "\t p = http://xmlns.com/foaf/0.1/account \n",
      "\t\t o = http://en.wikipedia.org/wiki/User:Timbl\n",
      "s = Ne9e0fc9cb9064c64931267b8e896ff7e \n",
      "\t p = http://www.w3.org/1999/02/22-rdf-syntax-ns#type \n",
      "\t\t o = http://www.w3.org/ns/auth/cert#RSAPublicKey\n",
      "s = https://www.w3.org/People/Berners-Lee/card#i \n",
      "\t p = http://www.w3.org/ns/pim/space#preferencesFile \n",
      "\t\t o = https://timbl.com/timbl/Data/preferences.n3\n",
      "s = N42fc8a4c1a84433bbc9871a4a6f7f21c \n",
      "\t p = http://www.w3.org/2003/01/geo/wgs84_pos#location \n",
      "\t\t o = Na6289672a9d14dfcbb77aae414a84c7d\n",
      "s = https://www.w3.org/People/Berners-Lee/card#i \n",
      "\t p = http://www.w3.org/ns/solid/terms#publicTypeIndex \n",
      "\t\t o = https://timbl.com/timbl/Public/PublicTypeIndex.ttl\n",
      "s = https://www.w3.org/People/Berners-Lee/card#i \n",
      "\t p = http://www.w3.org/1999/02/22-rdf-syntax-ns#type \n",
      "\t\t o = http://xmlns.com/foaf/0.1/Person\n",
      "s = Ne9e0fc9cb9064c64931267b8e896ff7e \n",
      "\t p = http://www.w3.org/ns/auth/cert#exponent \n",
      "\t\t o = 65537\n",
      "s = https://www.w3.org/People/Berners-Lee/card#i \n",
      "\t p = http://www.w3.org/ns/pim/space#storage \n",
      "\t\t o = https://timbl.solid.community/\n",
      "s = https://www.w3.org/People/Berners-Lee/card#i \n",
      "\t p = http://www.w3.org/ns/solid/terms#profileHighlightColor \n",
      "\t\t o = #00467E\n",
      "s = https://www.w3.org/People/Berners-Lee/card#i \n",
      "\t p = http://www.w3.org/2000/10/swap/pim/contact#publicHomePage \n",
      "\t\t o = http://www.w3.org/People/Berners-Lee/\n",
      "s = http://dig.csail.mit.edu/data#DIG \n",
      "\t p = http://xmlns.com/foaf/0.1/member \n",
      "\t\t o = https://www.w3.org/People/Berners-Lee/card#i\n",
      "s = http://dig.csail.mit.edu/2007/01/camp/data#course \n",
      "\t p = http://xmlns.com/foaf/0.1/maker \n",
      "\t\t o = https://www.w3.org/People/Berners-Lee/card#i\n",
      "s = https://www.w3.org/People/Berners-Lee/card#i \n",
      "\t p = http://www.w3.org/ns/solid/terms#oidcIssuer \n",
      "\t\t o = https://timbl.com\n",
      "s = http://www.ecs.soton.ac.uk/~dt2/dlstuff/www2006_data#panel-panelk01 \n",
      "\t p = http://www.w3.org/2000/01/rdf-schema#label \n",
      "\t\t o = The Next Wave of the Web (Plenary Panel)\n",
      "s = N9b604ad43d7145f18b6dc08d3b2dcf08 \n",
      "\t p = http://www.w3.org/2000/10/swap/pim/contact#city \n",
      "\t\t o = Cambridge\n",
      "s = Nb61a8ab3a5094517ac75c8ba4c80b306 \n",
      "\t p = http://www.w3.org/2006/vcard/ns#region \n",
      "\t\t o = MA\n"
     ]
    }
   ],
   "source": [
    "for s, p, o in g_tbl:\n",
    "    print(\"s =\", s, \"\\n\\t p =\", p, \"\\n\\t\\t o =\", o)"
   ]
  },
  {
   "cell_type": "markdown",
   "metadata": {},
   "source": [
    "To oczywiście nie jest jeszcze żadne filtrowanie. Ale jeśli dodasz `if`, to już będzie to jakiś filtr:"
   ]
  },
  {
   "cell_type": "code",
   "execution_count": 55,
   "metadata": {},
   "outputs": [
    {
     "name": "stdout",
     "output_type": "stream",
     "text": [
      "\"Tim Berners-Lee\" jest etykietą zasobu o identyfikatorze https://www.w3.org/People/Berners-Lee/card#i\n"
     ]
    }
   ],
   "source": [
    "from rdflib import URIRef\n",
    "from rdflib.namespace import RDFS\n",
    "\n",
    "tbl = URIRef('https://www.w3.org/People/Berners-Lee/card#i')\n",
    "\n",
    "for s, p, o in g_tbl:\n",
    "    if s == tbl and p == RDFS.label:\n",
    "        print('\\\"{}\\\" jest etykietą zasobu o identyfikatorze {}'.format(o,s))"
   ]
  },
  {
   "cell_type": "markdown",
   "metadata": {},
   "source": [
    "Instead of iterating through all triples, RDFLib graphs support basic triple pattern matching with a `triples()` function. This function is a generator of triples that match the pattern given by the arguments. The arguments of these are RDF terms that restrict the triples that are returned. Terms that are `None` are treated as a wildcard. For example:"
   ]
  },
  {
   "cell_type": "code",
   "execution_count": 59,
   "metadata": {},
   "outputs": [
    {
     "name": "stdout",
     "output_type": "stream",
     "text": [
      "https://www.w3.org/People/Berners-Lee/card#i is a http://www.w3.org/2000/10/swap/pim/contact#Male\n",
      "https://www.w3.org/People/Berners-Lee/card#i is a http://xmlns.com/foaf/0.1/Person\n"
     ]
    }
   ],
   "source": [
    "from rdflib.namespace import RDF\n",
    "\n",
    "for s, p, o in g_tbl.triples((tbl, RDF.type, None)):\n",
    "    print(\"{} is a {}\".format(s, o)) "
   ]
  },
  {
   "cell_type": "code",
   "execution_count": null,
   "metadata": {},
   "outputs": [],
   "source": [
    "peoplegraph = Graph()\n",
    "peoplegraph += g.triples((None, RDF.type, FOAF.Person))\n",
    "print(len(peoplegraph))\n",
    "\n",
    "bobgraph = Graph()\n",
    "bob = URIRef(\"http://example.org/people/bob\")\n",
    "linda = URIRef(\"http://example.org/people/linda\")\n",
    "name = Literal(\"bob\")\n",
    "bobgraph.add((bob, RDF.type, FOAF.Person)) \n",
    "bobgraph.add((bob, FOAF.name, name))\n",
    "bobgraph.add((bob, FOAF.knows, linda)) \n",
    "print(len(bobgraph))\n",
    "\n",
    "newgraph = Graph()\n",
    "newgraph = peoplegraph + bobgraph\n",
    "print(len(newgraph))\n"
   ]
  },
  {
   "cell_type": "markdown",
   "metadata": {},
   "source": [
    "If you are not interested in whole triples, you can get only the bits you want with the methods `objects()`, `subjects()`, `predicates()`, `predicate_objects()`, etc. Each take parameters for the components of the triple to constraint:"
   ]
  },
  {
   "cell_type": "code",
   "execution_count": null,
   "metadata": {},
   "outputs": [],
   "source": [
    " for person in g.subjects(RDF.type, FOAF.Person): \n",
    "        print(\"{} is a person\".format(person))"
   ]
  },
  {
   "cell_type": "markdown",
   "metadata": {},
   "source": [
    "Finally, for some properties, only one value per resource makes sense (i.e they are functional properties, or have max-cardinality of 1). The `value()` method is useful for this, as it returns just a single node, not a generator:"
   ]
  },
  {
   "cell_type": "code",
   "execution_count": null,
   "metadata": {},
   "outputs": [],
   "source": [
    "bobgraph = Graph()\n",
    "bob = URIRef(\"http://example.org/people/bob\")\n",
    "linda = URIRef(\"http://example.org/people/linda\")\n",
    "name = Literal(\"bob\")\n",
    "bobgraph.add((bob, RDF.type, FOAF.Person)) \n",
    "bobgraph.add((bob, FOAF.name, name))\n",
    "bobgraph.add((bob, FOAF.knows, linda)) \n",
    "\n",
    "name = bobgraph.value(bob, FOAF.name) # get any name of bob\n",
    "print(name)\n",
    "\n",
    "# get the one person that knows bob and raise an exception if more are found \n",
    "mbox = bobgraph.value(predicate = FOAF.name, object=bob, any=False)\n",
    "print(mbox)"
   ]
  },
  {
   "cell_type": "markdown",
   "metadata": {},
   "source": [
    "### Graph methods for accessing triples \n",
    "\n",
    "Here is a list of all convenience methods for querying Graphs:\n",
    "\n",
    "- `Graph.label(subject, default='')`\n",
    "\n",
    "Query for the RDFS.label of the subject\n",
    "\n",
    "Return default if no label exists or any label if multiple exist.\n",
    "\n",
    "- `Graph.preferredLabel(subject, lang=None, default=None, labelProperties=rdflib.term.URIRef('http://www.w3.org/2004/02/skos/core#prefLabel'),\n",
    "rdflib.term.URIRef('http://www.w3.org/2000/01/rdf-schema#label'))` \n",
    "\n",
    "Find the preferred label for subject.\n",
    "\n",
    "By default prefers skos:prefLabels over rdfs:labels. In case at least one prefLabel is found returns those, else returns labels. In case a language string (e.g., “en”, “de” or even “” for no lang-tagged literals) is given, only such labels will be considered.\n",
    "\n",
    "Return a list of (labelProp, label) pairs, where labelProp is either skos:prefLabel or rdfs:label."
   ]
  },
  {
   "cell_type": "code",
   "execution_count": null,
   "metadata": {},
   "outputs": [],
   "source": [
    "from rdflib import ConjunctiveGraph, URIRef, RDFS, Literal\n",
    "from rdflib.namespace import SKOS\n",
    "from pprint import pprint\n",
    "g = ConjunctiveGraph()\n",
    "u = URIRef(\"http://example.com/foo\")\n",
    "g.add([u, RDFS.label, Literal(\"foo\")])\n",
    "g.add([u, RDFS.label, Literal(\"bar\")])\n",
    "pprint(sorted(g.preferredLabel(u)))"
   ]
  },
  {
   "cell_type": "code",
   "execution_count": null,
   "metadata": {},
   "outputs": [],
   "source": [
    "g.add([u, SKOS.prefLabel, Literal(\"bla\")])\n",
    "pprint(g.preferredLabel(u))"
   ]
  },
  {
   "cell_type": "code",
   "execution_count": null,
   "metadata": {},
   "outputs": [],
   "source": [
    "g.add([u, SKOS.hiddenLabel, Literal(\"blubb\", lang=\"en\")])\n",
    "sorted(g.preferredLabel(u))"
   ]
  },
  {
   "cell_type": "code",
   "execution_count": null,
   "metadata": {},
   "outputs": [],
   "source": [
    "g.preferredLabel(u, lang=\"\")"
   ]
  },
  {
   "cell_type": "code",
   "execution_count": null,
   "metadata": {},
   "outputs": [],
   "source": [
    "pprint(g.preferredLabel(u, lang=\"en\"))"
   ]
  },
  {
   "cell_type": "markdown",
   "metadata": {},
   "source": [
    "- `Graph.triples(triple)` \n",
    "\n",
    "Generator over the triple store\n",
    "\n",
    "Returns triples that match the given triple pattern. If triple pattern does not provide a context, all contexts will be searched.\n",
    "\n",
    "- `Graph.value(subject=None, predicate=rdflib.term.URIRef('http://www.w3.org/1999/02/22-rdf-syntax-ns#value'), object=None, default=None, any=True)`\n",
    "\n",
    "Get a value for a pair of two criteria\n",
    "\n",
    "Exactly one of subject, predicate, object must be None. Useful if one knows that there may only be one value.\n",
    "\n",
    "It is one of those situations that occur a lot, hence this ‘macro’ like utility\n",
    "\n",
    "Parameters: subject, predicate, object – exactly one must be None default – value to be returned if no values found any – if True, return any value in the case there is more than one, else, raise UniquenessError\n",
    "\n",
    "- `Graph.subjects(predicate=None, object=None)`\n",
    "\n",
    "A generator of subjects with the given predicate and object\n",
    "\n",
    "- `Graph.objects(subject=None, predicate=None)`\n",
    "A generator of objects with the given subject and predicate\n",
    "\n",
    "- `Graph.predicates(subject=None, object=None)`\n",
    "\n",
    "A generator of predicates with the given subject and object\n",
    "\n",
    "- `Graph.subject_objects(predicate=None)`\n",
    "\n",
    "A generator of (subject, object) tuples for the given predicate\n",
    "\n",
    "- `Graph.subject_predicates(object=None)`\n",
    "\n",
    "A generator of (subject, predicate) tuples for the given object\n",
    "\n",
    "- `Graph.predicate_objects(subject=None)`\n",
    "\n",
    "A generator of (predicate, object) tuples for the given subject\n"
   ]
  },
  {
   "cell_type": "markdown",
   "metadata": {},
   "source": [
    "## Querying with SPARQL <a class=\"anchor\" id=\"chapter1.5\"></a>"
   ]
  },
  {
   "cell_type": "markdown",
   "metadata": {},
   "source": [
    "#### Run a Query\n",
    "\n",
    "The RDFLib comes with an implementation of the SPARQL 1.1 Query and SPARQL 1.1 Update languages. See: https://www.w3.org/TR/rdf-sparql-query/\n",
    "\n",
    "Queries can be evaluated against a graph with the `rdflib.graph.Graph.query()` method, and updates with `rdflib.graph.Graph.update()`.\n",
    "\n",
    "The query method returns a `rdflib.query.Result` instance. \n",
    "\n",
    "- For SELECT queries, iterating over this return `rdflib.query.ResultRow` instances, each containing a set of variable bindings. \n",
    "\n",
    "- For CONSTRUCT/DESCRIBE queries, iterating over the result object gives the triples. \n",
    "\n",
    "- For ASK queries, iterating will yield the single boolean answer, or evaluating the result object in a boolean-context (i.e. `bool(result)`)"
   ]
  },
  {
   "cell_type": "markdown",
   "metadata": {},
   "source": [
    "```\n",
    "PREFIX rdfs: <...>\n",
    "PREFIX owl: <...>\n",
    "PREFIX foaf: <...>\n",
    "\n",
    "SELECT ?var1 ?var2 ...\n",
    "FROM #graph\n",
    "WHERE { \n",
    "    #query pattern with ?var1 and ?var2\n",
    "}\n",
    "```"
   ]
  },
  {
   "cell_type": "code",
   "execution_count": null,
   "metadata": {},
   "outputs": [],
   "source": [
    "import rdflib\n",
    "\n",
    "g = rdflib.Graph()\n",
    "\n",
    "# ... add some triples to g somehow ...\n",
    "g.parse(\"http://www.w3.org/People/Berners-Lee/card\")"
   ]
  },
  {
   "cell_type": "code",
   "execution_count": null,
   "metadata": {},
   "outputs": [],
   "source": [
    "print(g.serialize(format=\"turtle\").decode(\"utf-8\"))"
   ]
  },
  {
   "cell_type": "code",
   "execution_count": null,
   "metadata": {},
   "outputs": [],
   "source": [
    "print(g.value(rdflib.URIRef(\"https://www.w3.org/People/Berners-Lee/card#i\"),rdflib.namespace.RDFS.label))"
   ]
  },
  {
   "cell_type": "code",
   "execution_count": null,
   "metadata": {},
   "outputs": [],
   "source": [
    "qres = g.query(\n",
    "    \"\"\"\n",
    "    PREFIX foaf: <http://xmlns.com/foaf/0.1/>\n",
    "    PREFIX con: <http://www.w3.org/2000/10/swap/pim/contact#>\n",
    "    SELECT DISTINCT ?aname ?astreet\n",
    "        WHERE {\n",
    "            ?a foaf:name ?aname ;\n",
    "               con:office ?_office .\n",
    "            ?_office con:address ?_address .\n",
    "            ?_address con:street ?astreet .\n",
    "        }\"\"\")\n",
    "\n",
    "for row in qres:\n",
    "    print(\"%s lives at %s.\" % row)"
   ]
  },
  {
   "cell_type": "markdown",
   "metadata": {},
   "source": [
    "The results are tuples of values in the same order as your SELECT arguments. Alternatively, the values can be accessed by variable name, either as attributes, or as items: `row.b` and `row[\"b\"]` is equivalent."
   ]
  },
  {
   "cell_type": "code",
   "execution_count": null,
   "metadata": {},
   "outputs": [],
   "source": [
    "row[\"aname\"]"
   ]
  },
  {
   "cell_type": "code",
   "execution_count": null,
   "metadata": {},
   "outputs": [],
   "source": [
    "row.aname"
   ]
  },
  {
   "cell_type": "markdown",
   "metadata": {},
   "source": [
    "As an alternative to using `PREFIX` in the SPARQL query, namespace bindings can be passed in with the initNs kwarg, see Namespaces and Bindings.\n",
    "\n",
    "Variables can also be pre-bound, using `initBindings` kwarg can be used to pass in a dict of initial bindings, this is particularly useful for prepared queries, as described below."
   ]
  },
  {
   "cell_type": "markdown",
   "metadata": {},
   "source": [
    "#### Query a Remote Service\n",
    "\n",
    "The SERVICE keyword of SPARQL 1.1 can send a query to a remote SPARQL endpoint."
   ]
  },
  {
   "cell_type": "code",
   "execution_count": 10,
   "metadata": {},
   "outputs": [
    {
     "name": "stdout",
     "output_type": "stream",
     "text": [
      "(rdflib.term.BNode('bE23695BBx47929984'), rdflib.term.URIRef('http://lei.info/voc/l1/registrationAuthority'), rdflib.term.URIRef('http://lei.info/95980032D9G16EDM0J06'))\n",
      "(rdflib.term.BNode('bE23695BBx47929983'), rdflib.term.URIRef('http://lei.info/voc/l1/legalAddress'), rdflib.term.URIRef('http://lei.info/95980032D9G16EDM0J06'))\n",
      "(rdflib.term.Literal('DP3Q', datatype=rdflib.term.URIRef('http://www.w3.org/2001/XMLSchema#string')), rdflib.term.URIRef('http://lei.info/voc/l1/entityLegalFormCode'), rdflib.term.URIRef('http://lei.info/95980032D9G16EDM0J06'))\n",
      "(rdflib.term.URIRef('http://lei.info/95980032D9G16EDM0J06#lei'), rdflib.term.URIRef('http://lei.info/voc/l1/identifiedBy'), rdflib.term.URIRef('http://lei.info/95980032D9G16EDM0J06'))\n",
      "(rdflib.term.URIRef('graph://lei.info/627aefeaa947098c706c956b81aaaf30926a6cdafc489ddca36fad52222944c1'), rdflib.term.URIRef('http://lei.info/voc/l1/latestGraph'), rdflib.term.URIRef('graph://lei.info/95980032D9G16EDM0J06'))\n",
      "(rdflib.term.URIRef('graph://lei.info/e9fd92047f45a1d8a2e43d3efbf9a88bf57333241b2b0dbf8ba7da7561af3022'), rdflib.term.URIRef('http://lei.info/voc/l1/hasPreviousGraph'), rdflib.term.URIRef('graph://lei.info/627aefeaa947098c706c956b81aaaf30926a6cdafc489ddca36fad52222944c1'))\n",
      "(rdflib.term.Literal('2021-04-26T17:16:10.325000+02:00', datatype=rdflib.term.URIRef('http://www.w3.org/2001/XMLSchema#dateTime')), rdflib.term.URIRef('http://lei.info/voc/l1/metaLastUpdateDate'), rdflib.term.URIRef('graph://lei.info/627aefeaa947098c706c956b81aaaf30926a6cdafc489ddca36fad52222944c1'))\n",
      "(rdflib.term.Literal('B87673893', datatype=rdflib.term.URIRef('http://www.w3.org/2001/XMLSchema#string')), rdflib.term.URIRef('http://lei.info/voc/l1/validationAuthorityEntityID'), rdflib.term.BNode('bE23695BBx47929991'))\n",
      "(rdflib.term.URIRef('http://lei.info/voc/l1/ValidationAuthority'), rdflib.term.URIRef('http://www.w3.org/1999/02/22-rdf-syntax-ns#type'), rdflib.term.BNode('bE23695BBx47929991'))\n",
      "(rdflib.term.Literal('RA000535', datatype=rdflib.term.URIRef('http://www.w3.org/2001/XMLSchema#string')), rdflib.term.URIRef('http://lei.info/voc/l1/validationAuthorityID'), rdflib.term.BNode('bE23695BBx47929991'))\n",
      "(rdflib.term.Literal('M-636662-8', datatype=rdflib.term.URIRef('http://www.w3.org/2001/XMLSchema#string')), rdflib.term.URIRef('http://lei.info/voc/l1/validationAuthorityEntityID'), rdflib.term.BNode('bE23695BBx47929990'))\n",
      "(rdflib.term.URIRef('http://lei.info/voc/l1/ValidationAuthority'), rdflib.term.URIRef('http://www.w3.org/1999/02/22-rdf-syntax-ns#type'), rdflib.term.BNode('bE23695BBx47929990'))\n",
      "(rdflib.term.Literal('RA000533', datatype=rdflib.term.URIRef('http://www.w3.org/2001/XMLSchema#string')), rdflib.term.URIRef('http://lei.info/voc/l1/validationAuthorityID'), rdflib.term.BNode('bE23695BBx47929990'))\n"
     ]
    }
   ],
   "source": [
    "import rdflib\n",
    "\n",
    "g = rdflib.Graph(store=\"SPARQLStore\")\n",
    "g.open(configuration=\"https://lei.info/sparql\")\n",
    "\n",
    "qres = g.query('''\n",
    "               SELECT DISTINCT * \n",
    "               WHERE {?s ?p ?o .} \n",
    "               LIMIT 13\n",
    "               ''') \n",
    "\n",
    "for row in qres: \n",
    "    print(row)"
   ]
  },
  {
   "cell_type": "code",
   "execution_count": 12,
   "metadata": {},
   "outputs": [
    {
     "name": "stdout",
     "output_type": "stream",
     "text": [
      "Nd5e088ff3c0e448088207db098da4549 http://lei.info/voc/l1/city Basel\n",
      "http://lei.info/X9AJL60ON2ZGVBEMAJ31 http://lei.info/voc/l1/registrationAuthority N6daad966bdcf484d883ec17501abad52\n",
      "http://lei.info/X9AJL60ON2ZGVBEMAJ31 http://lei.info/voc/l1/primaryValidationAuthority N3fc2fb113f284a65a8e9d4efddfcfff2\n",
      "http://lei.info/X9AJL60ON2ZGVBEMAJ31 http://lei.info/voc/l1/headquartersAddress Nd5e088ff3c0e448088207db098da4549\n",
      "http://lei.info/X9AJL60ON2ZGVBEMAJ31 http://lei.info/voc/l1/identifiedBy http://lei.info/X9AJL60ON2ZGVBEMAJ31#lei\n",
      "Nd5e088ff3c0e448088207db098da4549 http://lei.info/voc/l1/postalCode 4052\n",
      "N40bb97ca35e94ceba01991c077264fec http://www.w3.org/1999/02/22-rdf-syntax-ns#type http://lei.info/voc/l1/Address\n",
      "N3fc2fb113f284a65a8e9d4efddfcfff2 http://www.w3.org/1999/02/22-rdf-syntax-ns#type http://lei.info/voc/l1/ValidationAuthority\n",
      "Nd5e088ff3c0e448088207db098da4549 http://www.w3.org/1999/02/22-rdf-syntax-ns#type http://lei.info/voc/l1/Address\n",
      "N40bb97ca35e94ceba01991c077264fec http://lei.info/voc/l1/city Basel\n",
      "N40bb97ca35e94ceba01991c077264fec http://lei.info/voc/l1/streetAddress C/O UBS Fund Management (Switzerland) AG\n",
      "Aeschenplatz 6\n",
      "http://lei.info/X9AJL60ON2ZGVBEMAJ31 http://lei.info/voc/l1/validationSource http://lei.info/voc/l1/FullyCorroborated\n",
      "http://lei.info/X9AJL60ON2ZGVBEMAJ31#lei http://lei.info/voc/l1/nextRenewalDate 2021-08-10T21:00:00+00:00\n",
      "http://lei.info/X9AJL60ON2ZGVBEMAJ31#lei http://lei.info/voc/l1/initialRegistrationDate 2012-11-29T11:33:00+00:00\n",
      "Nd5e088ff3c0e448088207db098da4549 http://lei.info/voc/l1/country CH\n",
      "N3fc2fb113f284a65a8e9d4efddfcfff2 http://lei.info/voc/l1/validationAuthorityID RA000550\n",
      "http://lei.info/X9AJL60ON2ZGVBEMAJ31 http://www.w3.org/1999/02/22-rdf-syntax-ns#type http://lei.info/voc/l1/LegalEntity\n",
      "N6daad966bdcf484d883ec17501abad52 http://lei.info/voc/l1/registrationAuthorityEntityID N/A\n",
      "http://lei.info/X9AJL60ON2ZGVBEMAJ31#lei http://lei.info/voc/l1/identifies http://lei.info/X9AJL60ON2ZGVBEMAJ31\n",
      "N3fc2fb113f284a65a8e9d4efddfcfff2 http://lei.info/voc/l1/validationAuthorityEntityID N/A\n",
      "http://lei.info/X9AJL60ON2ZGVBEMAJ31 http://lei.info/voc/l1/entityLegalFormCode 8888\n",
      "N6daad966bdcf484d883ec17501abad52 http://lei.info/voc/l1/registrationAuthorityID RA000550\n",
      "http://lei.info/X9AJL60ON2ZGVBEMAJ31#lei http://www.w3.org/1999/02/22-rdf-syntax-ns#type http://lei.info/voc/l1/LegalEntityIdentifier\n",
      "http://lei.info/X9AJL60ON2ZGVBEMAJ31#lei http://lei.info/voc/l1/managingLOU http://lei.info/EVK05KS7XY1DEII3R011\n",
      "http://lei.info/X9AJL60ON2ZGVBEMAJ31 http://lei.info/voc/l1/entityCategory http://lei.info/voc/l1/Fund\n",
      "http://lei.info/X9AJL60ON2ZGVBEMAJ31#lei http://lei.info/voc/l1/registrationStatus http://lei.info/voc/l1/Issued\n",
      "http://lei.info/X9AJL60ON2ZGVBEMAJ31 http://lei.info/voc/l1/legalEntityStatus http://lei.info/voc/l1/Active\n",
      "http://lei.info/X9AJL60ON2ZGVBEMAJ31 http://lei.info/voc/l1/previousLegalName UBS (CH) Manager Selection Fund - Bonds Global XT 3\n",
      "http://lei.info/X9AJL60ON2ZGVBEMAJ31#lei http://lei.info/voc/l1/leiCode X9AJL60ON2ZGVBEMAJ31\n",
      "N6daad966bdcf484d883ec17501abad52 http://www.w3.org/1999/02/22-rdf-syntax-ns#type http://lei.info/voc/l1/RegistrationAuthority\n",
      "http://lei.info/X9AJL60ON2ZGVBEMAJ31 http://lei.info/voc/l1/legalName UBS (CH) Institutional Fund - Global Bonds Sustainable\n",
      "Nd5e088ff3c0e448088207db098da4549 http://lei.info/voc/l1/streetAddress C/O UBS Fund Management (Switzerland) AG\n",
      "Aeschenplatz 6\n",
      "http://lei.info/X9AJL60ON2ZGVBEMAJ31 http://lei.info/voc/l1/legalAddress N40bb97ca35e94ceba01991c077264fec\n",
      "N40bb97ca35e94ceba01991c077264fec http://lei.info/voc/l1/region CH-BS\n",
      "http://lei.info/X9AJL60ON2ZGVBEMAJ31#lei http://lei.info/voc/l1/lastUpdateDate 2021-04-26T21:32:00+00:00\n",
      "N40bb97ca35e94ceba01991c077264fec http://lei.info/voc/l1/country CH\n",
      "http://lei.info/X9AJL60ON2ZGVBEMAJ31 http://lei.info/voc/l1/legalJurisdiction CH\n",
      "N40bb97ca35e94ceba01991c077264fec http://lei.info/voc/l1/postalCode 4052\n",
      "Nd5e088ff3c0e448088207db098da4549 http://lei.info/voc/l1/region CH-BS\n"
     ]
    }
   ],
   "source": [
    "g = rdflib.Graph()\n",
    "g.parse(\"https://lei.info/X9AJL60ON2ZGVBEMAJ31\")\n",
    "for s,p,o in g:\n",
    "    print(s, p, o)"
   ]
  },
  {
   "cell_type": "markdown",
   "metadata": {},
   "source": [
    "#### Prepared Queries\n",
    "\n",
    "RDFLib lets you prepare queries before execution, this saves re-parsing and translating the query into SPARQL Algebra each time.\n",
    "\n",
    "The method `rdflib.plugins.sparql.prepareQuery()` takes a query as a string and will return a `rdflib.plugins.sparql.sparql.Query object`. This can then be passed to the `rdflib.graph.Graph.query()` method.\n",
    "The `initBindings` kwarg can be used to pass in a dict of initial bindings:"
   ]
  },
  {
   "cell_type": "code",
   "execution_count": null,
   "metadata": {},
   "outputs": [],
   "source": [
    "from rdflib.namespace import FOAF\n",
    "from rdflib.plugins.sparql import prepareQuery\n",
    "\n",
    "q = prepareQuery('SELECT ?s WHERE { ?person foaf:name ?s .}', initNs = {\"foaf\": FOAF})\n",
    "\n",
    "g = rdflib.Graph() \n",
    "g.parse(\"http://www.w3.org/People/Berners-Lee/card\")\n",
    "\n",
    "tim = rdflib.URIRef(\"https://www.w3.org/People/Berners-Lee/card#i\")\n",
    "\n",
    "for row in g.query(q, initBindings={'person': tim}): \n",
    "    print(row)"
   ]
  },
  {
   "cell_type": "markdown",
   "metadata": {},
   "source": [
    "#### Custom Evaluation Functions\n",
    "\n",
    "For experts, it is possible to override how bits of SPARQL algebra are evaluated. By using the setuptools entry-point `rdf.plugins.sparqleval`, or simply adding to an entry to `rdflib.plugins.sparql.CUSTOM_EVALS`, a custom function can be registered. The function will be called for each algebra component and may raise `NotImplementedError` to indicate that this part should be handled by the default implementation."
   ]
  },
  {
   "cell_type": "markdown",
   "metadata": {},
   "source": [
    "#### EXAMPLES"
   ]
  },
  {
   "cell_type": "code",
   "execution_count": null,
   "metadata": {},
   "outputs": [],
   "source": [
    "# sparqlstore_example.py\n",
    "\n",
    "from rdflib import Graph, URIRef, Namespace\n",
    "from rdflib.plugins.stores.sparqlstore import SPARQLStore\n",
    "\n",
    "dbo = Namespace(\"http://dbpedia.org/ontology/\")"
   ]
  },
  {
   "cell_type": "code",
   "execution_count": 3,
   "metadata": {},
   "outputs": [
    {
     "ename": "NameError",
     "evalue": "name 'Graph' is not defined",
     "output_type": "error",
     "traceback": [
      "\u001b[0;31m---------------------------------------------------------------------------\u001b[0m",
      "\u001b[0;31mNameError\u001b[0m                                 Traceback (most recent call last)",
      "\u001b[0;32m<ipython-input-3-d5a5cc29b513>\u001b[0m in \u001b[0;36m<module>\u001b[0;34m\u001b[0m\n\u001b[1;32m      1\u001b[0m \u001b[0;31m# EXAMPLE 1: using a Graph with the Store type string set to \"SPARQLStore\"\u001b[0m\u001b[0;34m\u001b[0m\u001b[0;34m\u001b[0m\u001b[0;34m\u001b[0m\u001b[0m\n\u001b[0;32m----> 2\u001b[0;31m \u001b[0mgraph\u001b[0m \u001b[0;34m=\u001b[0m \u001b[0mGraph\u001b[0m\u001b[0;34m(\u001b[0m\u001b[0;34m\"SPARQLStore\"\u001b[0m\u001b[0;34m,\u001b[0m \u001b[0midentifier\u001b[0m\u001b[0;34m=\u001b[0m\u001b[0;34m\"http://dbpedia.org\"\u001b[0m\u001b[0;34m)\u001b[0m\u001b[0;34m\u001b[0m\u001b[0;34m\u001b[0m\u001b[0m\n\u001b[0m\u001b[1;32m      3\u001b[0m \u001b[0;31m# graph.open(\"http://dbpedia.org/sparql\")\u001b[0m\u001b[0;34m\u001b[0m\u001b[0;34m\u001b[0m\u001b[0;34m\u001b[0m\u001b[0m\n\u001b[1;32m      4\u001b[0m \u001b[0;34m\u001b[0m\u001b[0m\n\u001b[1;32m      5\u001b[0m \u001b[0mpop\u001b[0m \u001b[0;34m=\u001b[0m \u001b[0mgraph\u001b[0m\u001b[0;34m.\u001b[0m\u001b[0mvalue\u001b[0m\u001b[0;34m(\u001b[0m\u001b[0mURIRef\u001b[0m\u001b[0;34m(\u001b[0m\u001b[0;34m\"http://dbpedia.org/resource/Berlin\"\u001b[0m\u001b[0;34m)\u001b[0m\u001b[0;34m,\u001b[0m \u001b[0mdbo\u001b[0m\u001b[0;34m.\u001b[0m\u001b[0mpopulationTotal\u001b[0m\u001b[0;34m)\u001b[0m\u001b[0;34m\u001b[0m\u001b[0;34m\u001b[0m\u001b[0m\n",
      "\u001b[0;31mNameError\u001b[0m: name 'Graph' is not defined"
     ]
    }
   ],
   "source": [
    "# EXAMPLE 1: using a Graph with the Store type string set to \"SPARQLStore\"\n",
    "graph = Graph(\"SPARQLStore\", identifier=\"http://dbpedia.org\")\n",
    "graph.open(\"http://dbpedia.org/sparql\")\n",
    "\n",
    "pop = graph.value(URIRef(\"http://dbpedia.org/resource/Berlin\"), dbo.populationTotal)\n",
    "\n",
    "print(\"According to DBPedia, Berlin has a population of {0:,}.\".format(int(pop), \",d\"))"
   ]
  },
  {
   "cell_type": "code",
   "execution_count": null,
   "metadata": {},
   "outputs": [],
   "source": [
    "# # EXAMPLE 2: using a SPARQLStore object directly\n",
    "# st = SPARQLStore(\"http://dbpedia.org/sparql\")\n",
    "\n",
    "# for p in st.objects(URIRef(\"http://dbpedia.org/resource/Brisbane\"), dbo.populationTotal):\n",
    "#     print(\n",
    "#         \"According to DBPedia, Brisbane has a population of \"\n",
    "#         \"{0:,}\".format(int(pop), \",d\")\n",
    "#     )"
   ]
  },
  {
   "cell_type": "code",
   "execution_count": null,
   "metadata": {},
   "outputs": [],
   "source": [
    "# EXAMPLE 3: doing RDFlib triple navigation using SPARQLStore as a Graph()\n",
    "from rdflib.namespace import RDF, SKOS\n",
    "\n",
    "graph = Graph(\"SPARQLStore\", identifier=\"http://dbpedia.org\")\n",
    "graph.open(\"http://dbpedia.org/sparql\")\n",
    "\n",
    "# we are asking DBPedia for 3 skos:Concept instances\n",
    "count = 0\n",
    "\n",
    "for s in graph.subjects(predicate=RDF.type, object=SKOS.Concept):\n",
    "    count += 1\n",
    "    print(s)\n",
    "    if count >= 3:\n",
    "        break"
   ]
  },
  {
   "cell_type": "code",
   "execution_count": null,
   "metadata": {},
   "outputs": [],
   "source": [
    "# # EXAMPLE 4: using a SPARQL endpoint that requires Basic HTTP authentication\n",
    "# # NOTE: this example won't run since the endpoint isn't live (or real)\n",
    "# s = SPARQLStore(query_endpoint=\"http://fake-sparql-endpoint.com/repository/x\", auth=(\"my_username\", \"my_password\"))\n",
    "# # do normal Graph things"
   ]
  },
  {
   "cell_type": "code",
   "execution_count": null,
   "metadata": {},
   "outputs": [],
   "source": [
    "# sparql_update_example.py\n",
    "\n",
    "import rdflib\n",
    "\n",
    "g = rdflib.Graph()\n",
    "g.parse(\"http://www.w3.org/People/Berners-Lee/card\")\n",
    "\n",
    "print(\"Initially there are {} triples in the graph\".format(len(g)))\n",
    "\n",
    "g.update(\n",
    "    \"\"\"\n",
    "    PREFIX foaf: <http://xmlns.com/foaf/0.1/>\n",
    "    PREFIX dbpedia: <http://dbpedia.org/resource/>\n",
    "    INSERT\n",
    "        { ?s a dbpedia:Human . }\n",
    "    WHERE\n",
    "        { ?s a foaf:Person . }\n",
    "    \"\"\"\n",
    ")\n",
    "print(\"After the UPDATE, there are {} triples in the graph\".format(len(g)))"
   ]
  },
  {
   "cell_type": "code",
   "execution_count": null,
   "metadata": {},
   "outputs": [],
   "source": []
  },
  {
   "cell_type": "markdown",
   "metadata": {},
   "source": [
    "### Utilities and convenience functions <a class=\"anchor\" id=\"chapter1.6\"></a>"
   ]
  },
  {
   "cell_type": "markdown",
   "metadata": {},
   "source": [
    "#### User-friendly labels\n",
    "\n",
    "Use `label()` to quickly look up the RDFS label of something, or better use `preferredLabel()` to find a label using several different properties (i.e. either rdfs:label, skos:preferredLabel, dc:title, etc.)."
   ]
  },
  {
   "cell_type": "code",
   "execution_count": null,
   "metadata": {},
   "outputs": [],
   "source": [
    "import rdflib\n",
    "from rdflib import Graph, Namespace, Literal\n",
    "from rdflib.namespace import RDFS, SKOS, DC\n",
    "\n",
    "ns = Namespace(\"http://kul.pl/ontology/\")\n",
    "\n",
    "g = Graph()\n",
    "g.add((ns.bob, RDFS.label, Literal(\"Bob\")))\n",
    "g.add((ns.bob, SKOS.prefLabel, Literal(\"Bobinio\")))\n",
    "g.add((ns.bob, DC.title, Literal(\"Bob Title\")))"
   ]
  },
  {
   "cell_type": "code",
   "execution_count": null,
   "metadata": {},
   "outputs": [],
   "source": [
    "print(\"-\", g.label(ns.bob))\n",
    "print(\"-\", g.preferredLabel(ns.bob))"
   ]
  },
  {
   "cell_type": "markdown",
   "metadata": {},
   "source": [
    "#### Functional properties\n",
    "Use `value()` and `set()` to work with functional properties, i.e. properties than can only occur once for a resource."
   ]
  },
  {
   "cell_type": "code",
   "execution_count": null,
   "metadata": {},
   "outputs": [],
   "source": [
    "print(g.value(ns.bob, RDFS.label))\n",
    "print(g.value(ns.bob, DC.title))"
   ]
  },
  {
   "cell_type": "code",
   "execution_count": null,
   "metadata": {},
   "outputs": [],
   "source": [
    "g.set((ns.bob, DC.title, Literal(\"New Bob's Title\")))"
   ]
  },
  {
   "cell_type": "code",
   "execution_count": null,
   "metadata": {},
   "outputs": [],
   "source": [
    "print(g.value(ns.bob, DC.title))"
   ]
  },
  {
   "cell_type": "markdown",
   "metadata": {},
   "source": [
    "#### Slicing graphs\n",
    "\n",
    "Python allows slicing arrays with a slice object, a triple of start, stop index and step-size:\n",
    "```\n",
    ">>> range(10)[2:9:3] \n",
    "[2, 5, 8]\n",
    "```\n",
    " \n",
    "RDFLib graphs override ``__getitem__`` and we pervert the slice triple to be a RDF triple instead. This lets slice syntax be a shortcut for `triples()`, `subject_predicates()`, `contains()`, and other Graph query-methods:\n",
    "\n",
    "```\n",
    "graph[:]\n",
    "# same as\n",
    "iter(graph)\n",
    "\n",
    "graph[ns.bob]\n",
    "# same as\n",
    "graph.predicate_objects(ns.bob)\n",
    "\n",
    "graph[ns.bob : FOAF.knows]\n",
    "# same as\n",
    "graph.objects(ns.bob, RDFS.label)\n",
    "\n",
    "graph[ns.bob : FOAF.knows : ns.bill]\n",
    "# same as\n",
    "(ns.bob, FOAF.knows, ns.bill) in graph\n",
    "\n",
    "graph[:FOAF.knows]\n",
    "# same as \n",
    "graph.subject_objects(FOAF.knows)\n",
    "```"
   ]
  },
  {
   "cell_type": "code",
   "execution_count": null,
   "metadata": {},
   "outputs": [],
   "source": [
    "for p, o in g[ns.bob]: # g[ns.bob] same as g.predicate_objects(ns.bob)\n",
    "    print(p, o)"
   ]
  },
  {
   "cell_type": "code",
   "execution_count": null,
   "metadata": {},
   "outputs": [],
   "source": [
    "for o in g[ns.bob : RDFS.label]: # g[ns.bob : RDFS.label] same as g.objects(ns.bob, RDFS.label)\n",
    "    print(o)"
   ]
  },
  {
   "cell_type": "code",
   "execution_count": null,
   "metadata": {},
   "outputs": [],
   "source": [
    "from rdflib.namespace import FOAF\n",
    "g[ns.bob : FOAF.knows : ns.bill] # same as (ns.bob, FOAF.knows, ns.bill) in g"
   ]
  },
  {
   "cell_type": "code",
   "execution_count": null,
   "metadata": {},
   "outputs": [],
   "source": [
    "for s, p in g[:RDFS.label]: # same as g.subject_objects(RDFS.label)\n",
    "    print(s, p)"
   ]
  },
  {
   "cell_type": "code",
   "execution_count": null,
   "metadata": {},
   "outputs": [],
   "source": [
    "from rdflib import Graph\n",
    "from rdflib.namespace import RDF\n",
    "graph = Graph()\n",
    "\n",
    "g.load(\"https://ebiquity.umbc.edu/person/foaf/Francis/Ferraro/foaf.rdf\", format=\"xml\")\n",
    "\n",
    "for person in graph[: RDF.type : FOAF.Person]:\n",
    "    friends = list(graph[person : FOAF.knows * \"+\" / FOAF.name])\n",
    "    if friends:\n",
    "        print(\"%s's circle of friends:\" % graph.value(person, FOAF.name))\n",
    "        for name in friends:\n",
    "            print(name)"
   ]
  },
  {
   "cell_type": "markdown",
   "metadata": {},
   "source": [
    "#### Parsing data from a string"
   ]
  },
  {
   "cell_type": "code",
   "execution_count": null,
   "metadata": {},
   "outputs": [],
   "source": [
    "import rdflib\n",
    "from rdflib import Graph\n",
    "\n",
    "graph = Graph()\n",
    "graph.parse(data = '<urn:a> <urn:p> <urn:b>.', format='n3')\n",
    "for s, p, o in graph:\n",
    "    print(s, p, o)"
   ]
  },
  {
   "cell_type": "markdown",
   "metadata": {},
   "source": [
    "## Examples <a class=\"anchor\" id=\"chapter1.7\"></a>"
   ]
  },
  {
   "cell_type": "markdown",
   "metadata": {},
   "source": [
    "### ConjunctiveGraph"
   ]
  },
  {
   "cell_type": "markdown",
   "metadata": {},
   "source": [
    "## Containers & Collections\n",
    "There are two convenience classes for RDF Containers & Collections which you can use instead of declaring each triple of a Containers or a Collections individually:\n",
    "- `Container()` (also `Bag, Seq & Alt`) and\n",
    "- `Collection()`\n",
    "\n",
    "See their documentation for how."
   ]
  },
  {
   "cell_type": "markdown",
   "metadata": {},
   "source": [
    "## Navigating Graphs\n",
    "\n",
    "An RDF Graph is a set of RDF triples, and we try to mirror exactly this in RDFLib. The Python Graph() tries to emulate a container type."
   ]
  },
  {
   "cell_type": "markdown",
   "metadata": {},
   "source": [
    "#### Graphs as Iterators\n",
    "RDFLib graphs override `__iter__()` in order to support iteration over the contained triples:"
   ]
  },
  {
   "cell_type": "code",
   "execution_count": null,
   "metadata": {},
   "outputs": [],
   "source": [
    "someGraph = Graph()\n",
    "for subject, predicate, object in someGraph:\n",
    "    if not (subject, predicate, object) in someGraph:\n",
    "        raise Exception(\"Iterator / Container Protocols are Broken!!\")"
   ]
  },
  {
   "cell_type": "markdown",
   "metadata": {},
   "source": [
    "#### Contains check\n",
    "Graphs implement `__contains__()`, so you can check if a triple is in a graph with triple in graph syntax:"
   ]
  },
  {
   "cell_type": "code",
   "execution_count": null,
   "metadata": {},
   "outputs": [],
   "source": [
    "from rdflib import URIRef\n",
    "from rdflib.namespace import RDF\n",
    "\n",
    "graph = Graph()\n",
    "\n",
    "bob = URIRef(\"http://example.org/people/bob\")\n",
    "\n",
    "graph.add((bob, RDF.type, FOAF.Person))\n",
    "\n",
    "if (bob, RDF.type, FOAF.Person) in graph:\n",
    "    print(\"This graph knows that Bob is a person!\")"
   ]
  },
  {
   "cell_type": "markdown",
   "metadata": {},
   "source": [
    "Note that this triple does not have to be completely bound:"
   ]
  },
  {
   "cell_type": "code",
   "execution_count": null,
   "metadata": {},
   "outputs": [],
   "source": [
    "if (bob, None, None) in graph:\n",
    "    print(\"This graph contains triples about Bob!\")"
   ]
  },
  {
   "cell_type": "markdown",
   "metadata": {},
   "source": [
    "#### Set Operations on RDFLib Graphs\n",
    "\n",
    "Graphs override several pythons operators: `__iadd__()`, `__isub__()`, etc. This supports addition, subtraction and other set-operations on Graphs:"
   ]
  },
  {
   "cell_type": "markdown",
   "metadata": {},
   "source": [
    "<table>\n",
    "<tr>\n",
    "<th>operation</th>\n",
    "<th>effect</th>\n",
    "</tr>\n",
    "\n",
    "<tr>\n",
    "<td>G1 + G2</td>\n",
    "<td>returns new graph with union</td>\n",
    "</tr>\n",
    "\n",
    "<tr>\n",
    "<td>G1 += G1</td>\n",
    "<td>union / addition</td>\n",
    "</tr>\n",
    "    \n",
    "<tr>\n",
    "<td>G1 - G2</td>\n",
    "<td>returns new graph with difference</td>\n",
    "</tr>\n",
    "\n",
    "<tr>\n",
    "<td>G1 -= G1</td>\n",
    "<td>difference / subtraction</td>\n",
    "</tr>\n",
    "    \n",
    "<tr>\n",
    "<td>G1 & G2</td>\n",
    "<td>intersection (triples in both graphs)</td>\n",
    "</tr>\n",
    "\n",
    "<tr>\n",
    "<td>G1 ^ G1</td>\n",
    "<td>xor (triples in either G1 or G2, but not in both)</td>\n",
    "</tr>    \n",
    "</table>\n",
    "\n",
    "**Warning** Set-operations on graphs assume Blank Nodes are shared between graphs. This may or may not do what you want. See 2.4 Merging graphs for details."
   ]
  },
  {
   "cell_type": "code",
   "execution_count": null,
   "metadata": {},
   "outputs": [],
   "source": [
    "\"\"\"\n",
    "An RDFLib ConjunctiveGraph is an (unnamed) aggregation of all the named graphs\n",
    "within a Store. The :meth:`~rdflib.graph.ConjunctiveGraph.get_context`\n",
    "method can be used to get a particular named graph for use such as to add\n",
    "triples to, or the default graph can be used\n",
    "\n",
    "This example shows how to create named graphs and work with the\n",
    "conjunction (union) of all the graphs.\n",
    "\"\"\"\n",
    "\n",
    "from rdflib import Namespace, Literal, URIRef\n",
    "from rdflib.graph import Graph, ConjunctiveGraph\n",
    "from rdflib.plugins.memory import IOMemory\n",
    "\n",
    "\n",
    "ns = Namespace(\"http://love.com#\")\n",
    "\n",
    "mary = URIRef(\"http://love.com/lovers/mary\")\n",
    "john = URIRef(\"http://love.com/lovers/john\")\n",
    "\n",
    "cmary = URIRef(\"http://love.com/lovers/mary\")\n",
    "cjohn = URIRef(\"http://love.com/lovers/john\")\n",
    "\n",
    "store = IOMemory()\n",
    "\n",
    "g = ConjunctiveGraph(store=store)\n",
    "\n",
    "g.bind(\"love\", ns)\n",
    "\n",
    "# add a graph for Mary's facts to the Conjunctive Graph\n",
    "gmary = Graph(store=store, identifier=cmary)\n",
    "\n",
    "# Mary's graph only contains the URI of the person she love, not his cute name\n",
    "gmary.add((mary, ns[\"hasName\"], Literal(\"Mary\")))\n",
    "gmary.add((mary, ns[\"loves\"], john))\n",
    "\n",
    "\n",
    "\n",
    "# add a graph for John's facts to the Conjunctive Graph\n",
    "gjohn = Graph(store=store, identifier=cjohn)\n",
    "\n",
    "# John's graph contains his cute name\n",
    "gjohn.add((john, ns[\"hasCuteName\"], Literal(\"Johnny Boy\")))\n",
    "\n",
    "\n",
    "print(\"\\n1. ===================\\n\")\n",
    "# enumerate contexts\n",
    "for c in g.contexts():\n",
    "    print(\"-- %s \" % c)\n",
    "\n",
    "print(\"\\n2. ===================\\n\")\n",
    "# separate graphs\n",
    "print(gjohn.serialize(format=\"n3\").decode(\"utf-8\"))\n",
    "print(\"===================\")\n",
    "print(gmary.serialize(format=\"n3\").decode(\"utf-8\"))\n",
    "\n",
    "print(\"\\n3. ===================\\n\")\n",
    "# full graph\n",
    "print(g.serialize(format=\"n3\").decode(\"utf-8\"))\n",
    "\n",
    "print(\"\\n4. ===================\\n\")\n",
    "# query the conjunction of all graphs\n",
    "xx = None\n",
    "for x in g[mary : ns.loves / ns.hasCuteName]:\n",
    "    xx = x\n",
    "print(\"Q: Who does Mary love?\")\n",
    "print(\"A: Mary loves {}\".format(xx))\n",
    "\n",
    "print(\"\\n5. ===================\\n\")\n",
    "# query the conjunction of all graphs\n",
    "xx = None\n",
    "for x in gmary[mary : ns.loves / ns.hasCuteName]:\n",
    "    xx = x\n",
    "print(\"Q: Who does Mary love?\")\n",
    "print(\"A: Mary loves {}\".format(xx))"
   ]
  },
  {
   "cell_type": "markdown",
   "metadata": {},
   "source": [
    "### Mapping between RDF data-typed literals and Python objects"
   ]
  },
  {
   "cell_type": "code",
   "execution_count": null,
   "metadata": {},
   "outputs": [],
   "source": [
    "\"\"\"\n",
    "RDFLib can map between RDF data-typed literals and Python objects.\n",
    "\n",
    "Mapping for integers, floats, dateTimes, etc. are already added, but\n",
    "you can also add your own.\n",
    "\n",
    "This example shows how :meth:`rdflib.term.bind` lets you register new\n",
    "mappings between literal datatypes and Python objects\n",
    "\"\"\"\n",
    "\n",
    "from rdflib import Graph, Literal, Namespace, XSD\n",
    "from rdflib.term import bind\n",
    "\n",
    "# complex numbers are not registered by default\n",
    "# no custom constructor/serializer needed since\n",
    "# complex('(2+3j)') works fine\n",
    "bind(XSD.complexNumber, complex)\n",
    "\n",
    "ns = Namespace(\"urn:my:namespace:\")\n",
    "\n",
    "c = complex(2, 3)\n",
    "\n",
    "l = Literal(c)\n",
    "\n",
    "g = Graph()\n",
    "g.add((ns.mysubject, ns.myprop, l))\n",
    "\n",
    "n3 = g.serialize(format=\"n3\")\n",
    "print(n3)\n",
    "\n",
    "# round-trip through n3 serialize/parse\n",
    "g2 = Graph()\n",
    "g2.parse(data=n3, format=\"n3\")\n",
    "    \n",
    "l2 = list(g2)[0][2]\n",
    "\n",
    "print(l2)\n",
    "\n",
    "print(l2.value == c)  # back to a python complex object\n"
   ]
  },
  {
   "cell_type": "markdown",
   "metadata": {},
   "source": [
    "### custom evaluation function"
   ]
  },
  {
   "cell_type": "code",
   "execution_count": null,
   "metadata": {},
   "outputs": [],
   "source": [
    "\"\"\"\n",
    "This example shows how a custom evaluation function can be added to\n",
    "handle certain SPARQL Algebra elements.\n",
    "\n",
    "A custom function is added that adds ``rdfs:subClassOf`` \"inference\" when\n",
    "asking for ``rdf:type`` triples.\n",
    "\n",
    "Here the custom eval function is added manually, normally you would use\n",
    "setuptools and entry_points to do it:\n",
    "i.e. in your setup.py::\n",
    "\n",
    "    entry_points = {\n",
    "        'rdf.plugins.sparqleval': [\n",
    "            'myfunc =     mypackage:MyFunction',\n",
    "            ],\n",
    "    }\n",
    "\"\"\"\n",
    "\n",
    "import rdflib\n",
    "\n",
    "from rdflib.plugins.sparql.evaluate import evalBGP\n",
    "from rdflib.namespace import FOAF\n",
    "\n",
    "inferredSubClass = rdflib.RDFS.subClassOf * \"*\"  # any number of rdfs.subClassOf\n",
    "\n",
    "\n",
    "def customEval(ctx, part):\n",
    "    \"\"\"\n",
    "    Rewrite triple patterns to get super-classes\n",
    "    \"\"\"\n",
    "\n",
    "    if part.name == \"BGP\":\n",
    "\n",
    "        # rewrite triples\n",
    "        triples = []\n",
    "        for t in part.triples:\n",
    "            if t[1] == rdflib.RDF.type:\n",
    "                bnode = rdflib.BNode()\n",
    "                triples.append((t[0], t[1], bnode))\n",
    "                triples.append((bnode, inferredSubClass, t[2]))\n",
    "            else:\n",
    "                triples.append(t)\n",
    "\n",
    "        # delegate to normal evalBGP\n",
    "        return evalBGP(ctx, triples)\n",
    "\n",
    "    raise NotImplementedError()\n",
    "\n",
    "\n",
    "\n",
    "# add function directly, normally we would use setuptools and entry_points\n",
    "rdflib.plugins.sparql.CUSTOM_EVALS[\"exampleEval\"] = customEval\n",
    "\n",
    "g = rdflib.Graph()\n",
    "g.load(\"http://www.w3.org/People/Berners-Lee/card\")\n",
    "\n",
    "# Add the subClassStmt so that we can query for it!\n",
    "g.add((FOAF.Person, rdflib.RDFS.subClassOf, FOAF.Agent))\n",
    "\n",
    "# Find all FOAF Agents\n",
    "for x in g.query(\"PREFIX foaf: <%s> SELECT * WHERE { ?s a foaf:Agent}\" % FOAF):\n",
    "    print(x)"
   ]
  },
  {
   "cell_type": "markdown",
   "metadata": {},
   "source": [
    "### manage your movies review\n",
    "\n",
    "https://imdbpy.readthedocs.io/en/latest/"
   ]
  },
  {
   "cell_type": "code",
   "execution_count": null,
   "metadata": {},
   "outputs": [],
   "source": [
    "\"\"\"\n",
    "Requires download and import of Python imdb library from\n",
    "https://imdbpy.github.io/ - (warning: installation\n",
    "will trigger automatic installation of several other packages)\n",
    "\"\"\"\n",
    "\n",
    "# !pip install imdbpy"
   ]
  },
  {
   "cell_type": "code",
   "execution_count": null,
   "metadata": {},
   "outputs": [],
   "source": [
    "import datetime\n",
    "import os\n",
    "import sys\n",
    "import re\n",
    "import time\n",
    "\n",
    "try:\n",
    "    import imdb\n",
    "except ImportError:\n",
    "    imdb = None\n",
    "\n",
    "from rdflib import BNode, ConjunctiveGraph, URIRef, Literal, Namespace, RDF\n",
    "from rdflib.namespace import FOAF, DC\n",
    "\n",
    "storefn = os.path.expanduser(\"movies.n3\")\n",
    "storeuri = storefn\n",
    "\n",
    "IMDB = Namespace(\"http://imdb.com/\")\n",
    "\n",
    "class Store:\n",
    "    def __init__(self):\n",
    "        self.graph = ConjunctiveGraph()\n",
    "        if os.path.exists(storefn):\n",
    "            self.graph.load(storeuri, format=\"n3\")\n",
    "        self.graph.bind(\"dc\", DC)\n",
    "        self.graph.bind(\"foaf\", FOAF)\n",
    "        self.graph.bind(\"imdb\", IMDB)\n",
    "\n",
    "    def save(self):\n",
    "        self.graph.serialize(storeuri, format=\"n3\")\n",
    "\n",
    "    def new_movie(self, movie):\n",
    "        movieuri = URIRef(\"http://www.imdb.com/title/tt%s/\" % movie.movieID)\n",
    "        self.graph.add((movieuri, RDF.type, IMDB[\"Movie\"]))\n",
    "        self.graph.add((movieuri, DC[\"title\"], Literal(movie[\"title\"])))\n",
    "        self.graph.add((movieuri, IMDB[\"year\"], Literal(int(movie[\"year\"]))))\n",
    "        self.save()\n",
    "\n",
    "    def movie_is_in(self, uri):\n",
    "        return (URIRef(uri), RDF.type, IMDB[\"Movie\"]) in self.graph\n",
    "\n",
    "\n",
    "i = imdb.IMDb()\n",
    "movie = i.get_movie(\"0133093\")\n",
    "print(\"%s (%s)\" % (movie[\"title\"].encode(\"utf-8\"), movie[\"year\"]))\n",
    "\n",
    "for director in movie[\"director\"]:\n",
    "    print(\"directed by: %s\" % director[\"name\"].encode(\"utf-8\"))\n",
    "\n",
    "for writer in movie[\"writer\"]:\n",
    "    print(\"written by: %s\" % writer[\"name\"].encode(\"utf-8\"))\n",
    "\n",
    "s = Store()    \n",
    "s.new_movie(movie)"
   ]
  },
  {
   "cell_type": "code",
   "execution_count": null,
   "metadata": {},
   "outputs": [],
   "source": [
    "movie['rating']"
   ]
  },
  {
   "cell_type": "code",
   "execution_count": null,
   "metadata": {},
   "outputs": [],
   "source": [
    "movie.keys()"
   ]
  },
  {
   "cell_type": "code",
   "execution_count": null,
   "metadata": {},
   "outputs": [],
   "source": [
    "person = i.get_person(\"0424060\")\n",
    "print(person['name'])\n",
    "person['filmography']"
   ]
  },
  {
   "cell_type": "code",
   "execution_count": null,
   "metadata": {},
   "outputs": [],
   "source": [
    "from rdflib import Graph\n",
    "from rdflib.plugins.stores.sparqlstore import SPARQLStore\n",
    "import pandas as pd\n",
    "\n",
    "graph = Graph(\"SPARQLStore\", identifier=\"http://dbpedia.org\")\n",
    "graph.open(\"http://dbpedia.org/sparql\")\n",
    "\n",
    "qres = graph.query('''\n",
    "                    PREFIX rdf: <http://www.w3.org/1999/02/22-rdf-syntax-ns#>\n",
    "                    PREFIX dbo: <http://dbpedia.org/ontology/>\n",
    "                    PREFIX yago: <http://dbpedia.org/class/yago/>\n",
    "                    SELECT ?s\n",
    "                    WHERE {?s ?p 'Scarlett Johansson'@en .        \n",
    "                            }\n",
    "                    '''\n",
    "                  )\n",
    "\n",
    "for row in qres:\n",
    "    print(row)"
   ]
  },
  {
   "cell_type": "code",
   "execution_count": null,
   "metadata": {},
   "outputs": [],
   "source": [
    "person.keys()"
   ]
  },
  {
   "cell_type": "code",
   "execution_count": null,
   "metadata": {},
   "outputs": [],
   "source": []
  },
  {
   "cell_type": "markdown",
   "metadata": {},
   "source": [
    "## ĆWICZENIA"
   ]
  },
  {
   "cell_type": "markdown",
   "metadata": {},
   "source": [
    "#### ĆWICZENIE 1\n",
    "\n",
    "Użyj kwerendy SPARQLowej, aby wydobyć z DBpedii następujące informacje o polskich poeatach:\n",
    "- nazwa (imię i nazwisko)\n",
    "- data urodzenia\n",
    "- biogram (w języku polskim)\n",
    "\n",
    "Jakich relacji i klas użyjesz?\n",
    "\n",
    "Wynik kwerendy umieść w liście, którą zapisz następnie jako plik excele."
   ]
  },
  {
   "cell_type": "code",
   "execution_count": null,
   "metadata": {},
   "outputs": [],
   "source": [
    "# Pani Alicja\n",
    "from rdflib import Graph\n",
    "import pandas as pd\n",
    "graph = Graph(\"SPARQLStore\", identifier=\"http://dbpedia.org\")\n",
    "graph.open(\"http://dbpedia.org/sparql\")\n",
    "\n",
    "lista = graph.query('''\n",
    "PREFIX rdf: <http://www.w3.org/1999/02/22-rdf-syntax-ns#>\n",
    "PREFIX dbo: <http://dbpedia.org/ontology/>\n",
    "SELECT ?birthName ?birthDate ?abstract\n",
    "WHERE {?s rdf:type <http://dbpedia.org/class/yago/WikicatPolishPoets> ;\n",
    "                    dbo:birthName ?birthName ;\n",
    "                    dbo:birthDate ?birthDate ;\n",
    "                    dbo:abstract ?abstract }\n",
    "''')\n",
    "\n",
    "poets_list = []\n",
    "for row in lista:\n",
    "    poets_list.append([row.birthName, row.birthDate, row.abstract])\n",
    "\n",
    "# poets = {\n",
    "#     'birthName': [],\n",
    "#     'birthDate': [],\n",
    "#     'abstract': []\n",
    "# }\n",
    "\n",
    "# for poet in poets_list:\n",
    "#     poets['birthName'].append(poet[0])\n",
    "#     poets['birthDate'].append(poet[1])\n",
    "#     poets['abstract'].append(poet[2])\n",
    "\n",
    " \n",
    "df = pd.DataFrame(poets_list, columns = ['birthName', 'birthDate', 'abstract'])\n",
    "df.to_excel('poets_alicja.xlsx', index=False, header=True)"
   ]
  },
  {
   "cell_type": "code",
   "execution_count": null,
   "metadata": {},
   "outputs": [],
   "source": [
    "# Pan Rafał\n",
    "\n",
    "graph = Graph(\"SPARQLStore\", identifier=\"http://dbpedia.org\")\n",
    "graph.open(\"http://dbpedia.org/sparql\")\n",
    "\n",
    "temp = graph.query('''\n",
    "PREFIX rdf: <http://www.w3.org/1999/02/22-rdf-syntax-ns#>\n",
    "PREFIX dbo: <http://dbpedia.org/ontology/>\n",
    "SELECT ?birthName ?birthDate ?abstract\n",
    "WHERE {?ppoet rdf:type <http://dbpedia.org/class/yago/WikicatPolishPoets> ;\n",
    "                    dbo:birthName ?birthName ;\n",
    "                    dbo:birthDate ?birthDate ;\n",
    "                    dbo:abstract ?abstract}'''\n",
    "                  )\n",
    "\n",
    "print(temp)\n",
    "\n",
    "poets_list = []\n",
    "for row in temp:\n",
    "    poets_list.append([row.birthName, row.birthDate, row.abstract])\n",
    "\n",
    "df = pd.DataFrame(poets_list, columns = ['Name', 'Birth date', 'Abstract'])\n",
    "df.to_excel('Lista_poetow_Rafal.xlsx', encoding='UTF-8')"
   ]
  },
  {
   "cell_type": "code",
   "execution_count": null,
   "metadata": {},
   "outputs": [],
   "source": [
    "from rdflib import Graph\n",
    "from rdflib.plugins.stores.sparqlstore import SPARQLStore\n",
    "import pandas as pd\n",
    "\n",
    "graph = Graph(\"SPARQLStore\", identifier=\"http://dbpedia.org\")\n",
    "graph.open(\"http://dbpedia.org/sparql\")\n",
    "\n",
    "qres = graph.query('''\n",
    "                    PREFIX rdf: <http://www.w3.org/1999/02/22-rdf-syntax-ns#>\n",
    "                    PREFIX dbo: <http://dbpedia.org/ontology/>\n",
    "                    PREFIX yago: <http://dbpedia.org/class/yago/>\n",
    "                    SELECT ?birthName ?birthDate ?abstract\n",
    "                    WHERE {?ppoet rdf:type yago:WikicatPolishPoets ;\n",
    "                                    dbo:birthName ?birthName ; \n",
    "                                    dbo:birthDate ?birthDate ;\n",
    "                                    dbo:abstract ?abstract }\n",
    "                    '''\n",
    "                  )\n",
    "\n",
    "poets_list = []\n",
    "\n",
    "for row in qres:\n",
    "    if row.abstract.language == \"pl\":\n",
    "        poets_list.append([row.birthName.value, \n",
    "                           str(row.birthDate.value), \n",
    "                           row.abstract.value])   \n",
    "    \n",
    "poets_list[0]\n",
    "df = pd.DataFrame(poets_list)\n",
    "df.to_excel(\"polish_poets_pl.xlsx\", header=[\"Imię i nazwisko\", \"Data urodzenia\", \"Biogram\"])  "
   ]
  },
  {
   "cell_type": "code",
   "execution_count": null,
   "metadata": {},
   "outputs": [],
   "source": [
    "from rdflib import Graph\n",
    "from rdflib.plugins.stores.sparqlstore import SPARQLStore\n",
    "import pandas as pd\n",
    "\n",
    "graph = Graph(\"SPARQLStore\", identifier=\"http://dbpedia.org\")\n",
    "graph.open(\"http://dbpedia.org/sparql\")\n",
    "\n",
    "qres = graph.query('''\n",
    "                    PREFIX rdf: <http://www.w3.org/1999/02/22-rdf-syntax-ns#>\n",
    "                    PREFIX dbo: <http://dbpedia.org/ontology/>\n",
    "                    PREFIX yago: <http://dbpedia.org/class/yago/>\n",
    "                    SELECT ?birthName ?birthDate ?abstract\n",
    "                    WHERE {?ppoet rdf:type yago:WikicatPolishPoets ;\n",
    "                                    dbo:birthName ?birthName ; \n",
    "                                    dbo:birthDate ?birthDate ;\n",
    "                                    dbo:abstract ?abstract .\n",
    "                           FILTER(lang(?abstract) = 'pl')         \n",
    "                            }\n",
    "                    '''\n",
    "                  )\n",
    "\n",
    "poets_list = []\n",
    "\n",
    "for row in qres:\n",
    "    poets_list.append([row.birthName.value, \n",
    "                       str(row.birthDate.value), \n",
    "                       row.abstract.value])   \n",
    "    \n",
    "poets_list[0]\n",
    "df = pd.DataFrame(poets_list)\n",
    "df.to_excel(\"polish_poets2_pl.xlsx\", header=[\"Imię i nazwisko\", \"Data urodzenia\", \"Biogram\"])  "
   ]
  },
  {
   "cell_type": "code",
   "execution_count": null,
   "metadata": {},
   "outputs": [],
   "source": [
    "from rdflib import Graph\n",
    "from rdflib.plugins.stores.sparqlstore import SPARQLStore\n",
    "import pandas as pd\n",
    "\n",
    "graph = Graph(\"SPARQLStore\", identifier=\"http://dbpedia.org\")\n",
    "graph.open(\"http://dbpedia.org/sparql\")\n",
    "\n",
    "qres = graph.query('''\n",
    "                    PREFIX rdf: <http://www.w3.org/1999/02/22-rdf-syntax-ns#>\n",
    "                    PREFIX dbo: <http://dbpedia.org/ontology/>\n",
    "                    PREFIX yago: <http://dbpedia.org/class/yago/>\n",
    "                    PREFIX xsd: <http://www.w3.org/2001/XMLSchema#>\n",
    "                    PREFIX foaf: <http://xmlns.com/foaf/0.1/>\n",
    "                    SELECT ?foafName ?birthDate ?abstract\n",
    "                    WHERE {?ppoet rdf:type yago:WikicatPolishPoets .\n",
    "                           OPTIONAL { ?ppoet foaf:name ?foafName . }          \n",
    "                           OPTIONAL { ?ppoet dbo:birthDate ?birthDate . }\n",
    "                           OPTIONAL { ?ppoet dbo:abstract ?abstract . }\n",
    "                           FILTER (lang(?abstract) = 'pl')\n",
    "                           FILTER (REGEX(STR(?birthDate),\"[0-9]{4}-[0-9]{2}-[0-9]{2}\")).\n",
    "                            }\n",
    "                    '''\n",
    "                  )\n",
    "\n",
    "poets_list = []\n",
    "\n",
    "for row in qres:\n",
    "    poets_list.append([str(row.foafName), \n",
    "                       str(row.birthDate), \n",
    "                       row.abstract.value])   \n",
    "    \n",
    "df = pd.DataFrame(poets_list)\n",
    "df.to_excel(\"polish_poets4_date.xlsx\", header=[\"Imię i nazwisko\", \"Data urodzenia\", \"Biogram\"])  "
   ]
  },
  {
   "cell_type": "code",
   "execution_count": null,
   "metadata": {},
   "outputs": [],
   "source": [
    "from rdflib import Graph\n",
    "from rdflib.plugins.stores.sparqlstore import SPARQLStore\n",
    "import pandas as pd\n",
    "\n",
    "graph = Graph(\"SPARQLStore\", identifier=\"http://dbpedia.org\")\n",
    "graph.open(\"http://dbpedia.org/sparql\")\n",
    "\n",
    "qres = graph.query('''\n",
    "PREFIX rdfs: <http://www.w3.org/2000/01/rdf-schema#>\n",
    "PREFIX dbo: <http://dbpedia.org/ontology/>\n",
    "PREFIX xsd: <http://www.w3.org/2001/XMLSchema#>\n",
    "PREFIX foaf: <http://xmlns.com/foaf/0.1/>\n",
    "PREFIX dbr: <http://dbpedia.org/resource/>\n",
    "SELECT ?name ?birth ?description ?person \n",
    "WHERE {?person a dbo:Philosopher .\n",
    "?person dbo:birthPlace dbr:Warsaw .\n",
    "?person dbo:birthDate ?birth .\n",
    "?person foaf:name ?name .\n",
    "?person rdfs:comment ?description .\n",
    "FILTER (LANG(?description) = 'pl') . \n",
    "} \n",
    "ORDER BY ?name\n",
    "''')\n",
    "\n",
    "for row in qres:\n",
    "    print(row.name, \"\\n\", \" \", row.birth, \"\\n\", \"  \", row.person, \"\\n\", \"   \", row.description, \"\\n\")"
   ]
  },
  {
   "cell_type": "markdown",
   "metadata": {},
   "source": [
    "### Ćwiczenie 2\n",
    "\n",
    "- Załaduj ontologię https://spec.edmcouncil.org/auto/ontology/master/latest/AboutAUTODev.rdf\n",
    "- Stwórz listę wszystkich odnośników (URL) importowanych w powyższej ontologii (skorzystaj z `owl:imports`)\n",
    "- Korzystając z listy importów, załaduj wszystkie importowane ontologie do jednego grafu\n",
    "- Napisz 2 kwerendy SPARQLowe, które sprawdzą, czy zasoby tych ontologii mają `rdfs:label` i `skos:definition`; kweredy te muszą zawierać \"WARN\" podobnie do kwerendy https://github.com/edmcouncil/fibo/blob/master/etc/testing/hygiene/testHygiene1103.sparql"
   ]
  },
  {
   "cell_type": "code",
   "execution_count": null,
   "metadata": {},
   "outputs": [],
   "source": [
    "import rdflib\n",
    "from rdflib import Graph\n",
    "from rdflib.namespace import OWL\n",
    "\n",
    "g = Graph()\n",
    "g.load(\"https://spec.edmcouncil.org/auto/ontology/master/latest/AboutAUTODev.rdf\")\n",
    "print(len(g))"
   ]
  },
  {
   "cell_type": "code",
   "execution_count": null,
   "metadata": {},
   "outputs": [],
   "source": [
    "import_list = []\n",
    "for ontology_import in g.objects(None, OWL.imports):\n",
    "    import_list.append(ontology_import)\n",
    " \n",
    "for ontology_import in import_list:\n",
    "    print(ontology_import)\n",
    "    \n",
    "graph = Graph()\n",
    "for ontology_import in import_list:\n",
    "    graph.load(ontology_import)    "
   ]
  },
  {
   "cell_type": "code",
   "execution_count": null,
   "metadata": {},
   "outputs": [],
   "source": [
    "label_query = graph.query('''\n",
    "    PREFIX owl:   <http://www.w3.org/2002/07/owl#>\n",
    "    SELECT DISTINCT ?error\n",
    "    WHERE {\n",
    "      ?class a owl:Class .\n",
    "      FILTER NOT EXISTS {?class rdfs:label ?label}\n",
    "      FILTER (!isBlank(?class))\n",
    "      BIND (concat (\"WARN: Class \", str(?class), \" has no label.\") AS ?error)\n",
    "    }\n",
    "    ''')\n",
    "\n",
    "print(len(label_query))\n",
    "\n",
    "for row in label_query:\n",
    "    print(row.error)"
   ]
  },
  {
   "cell_type": "code",
   "execution_count": null,
   "metadata": {},
   "outputs": [],
   "source": [
    "definition_query = graph.query('''\n",
    "                PREFIX skos: <http://www.w3.org/2004/02/skos/core#>\n",
    "                PREFIX owl:   <http://www.w3.org/2002/07/owl#>\n",
    "\n",
    "                SELECT DISTINCT ?error\n",
    "                WHERE {\n",
    "                  ?class a owl:Class .\n",
    "                  FILTER NOT EXISTS {?class skos:definition ?definition}\n",
    "                  FILTER (!isBlank(?class))\n",
    "                  BIND (concat (\"WARN: Class \", str(?class), \" has no definition.\") AS ?error)\n",
    "                }\n",
    "                ''')\n",
    "\n",
    "print(len(definition_query))\n",
    "\n",
    "for row in definition_query:\n",
    "    print(row.error)"
   ]
  },
  {
   "cell_type": "code",
   "execution_count": null,
   "metadata": {},
   "outputs": [],
   "source": []
  }
 ],
 "metadata": {
  "kernelspec": {
   "display_name": "Python 3 (ipykernel)",
   "language": "python",
   "name": "python3"
  },
  "language_info": {
   "codemirror_mode": {
    "name": "ipython",
    "version": 3
   },
   "file_extension": ".py",
   "mimetype": "text/x-python",
   "name": "python",
   "nbconvert_exporter": "python",
   "pygments_lexer": "ipython3",
   "version": "3.9.2"
  }
 },
 "nbformat": 4,
 "nbformat_minor": 4
}
