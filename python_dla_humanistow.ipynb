{
  "nbformat": 4,
  "nbformat_minor": 0,
  "metadata": {
    "colab": {
      "name": "python_dla_humanistow.ipynb",
      "provenance": [],
      "collapsed_sections": [],
      "authorship_tag": "ABX9TyNVmdo7T1s06/RG3IaJHipQ",
      "include_colab_link": true
    },
    "kernelspec": {
      "name": "python3",
      "display_name": "Python 3"
    },
    "language_info": {
      "name": "python"
    }
  },
  "cells": [
    {
      "cell_type": "markdown",
      "metadata": {
        "id": "view-in-github",
        "colab_type": "text"
      },
      "source": [
        "<a href=\"https://colab.research.google.com/github/trypuz/ai_dla_kazdego/blob/main/python_dla_humanistow.ipynb\" target=\"_parent\"><img src=\"https://colab.research.google.com/assets/colab-badge.svg\" alt=\"Open In Colab\"/></a>"
      ]
    },
    {
      "cell_type": "markdown",
      "metadata": {
        "id": "eYBSjHBGVpHe"
      },
      "source": [
        "# Pierwsze linie kodu"
      ]
    },
    {
      "cell_type": "code",
      "metadata": {
        "id": "7kFBMu59Lo08"
      },
      "source": [
        "print('coś')"
      ],
      "execution_count": null,
      "outputs": []
    },
    {
      "cell_type": "code",
      "metadata": {
        "id": "ckK0vQ-DVKmb"
      },
      "source": [
        "print(coś)"
      ],
      "execution_count": null,
      "outputs": []
    },
    {
      "cell_type": "code",
      "metadata": {
        "id": "AUJ506b5VMRR"
      },
      "source": [
        "current_year = 2021"
      ],
      "execution_count": null,
      "outputs": []
    },
    {
      "cell_type": "code",
      "metadata": {
        "id": "5cMEB0O2VPMb"
      },
      "source": [
        "current_year = 2021\n",
        "my_age = current_year - 1979\n",
        "print('Mam', my_age, 'lat(a).')"
      ],
      "execution_count": null,
      "outputs": []
    },
    {
      "cell_type": "code",
      "metadata": {
        "id": "Ccinv5jJVdWP"
      },
      "source": [
        "my_age = 42\n",
        "midlife_crisis = range(35,46)\n",
        "if my_age in midlife_crisis:\n",
        "    print('Uwaga, może dotknąć cię kryzys wieku średniego!')"
      ],
      "execution_count": null,
      "outputs": []
    },
    {
      "cell_type": "markdown",
      "metadata": {
        "id": "KiurPhRnV97U"
      },
      "source": [
        "# Napisy"
      ]
    },
    {
      "cell_type": "code",
      "metadata": {
        "id": "XqU0lPFTWCly"
      },
      "source": [
        "print('Witaj świecie!')"
      ],
      "execution_count": null,
      "outputs": []
    },
    {
      "cell_type": "code",
      "metadata": {
        "id": "2cAQMhipWIBd"
      },
      "source": [
        "print('Ala' + ' ma ' + 'kota.')"
      ],
      "execution_count": null,
      "outputs": []
    },
    {
      "cell_type": "code",
      "metadata": {
        "id": "4P1IueWqWVnN"
      },
      "source": [
        "print('Ala', 'ma', 'kota.')"
      ],
      "execution_count": null,
      "outputs": []
    },
    {
      "cell_type": "code",
      "metadata": {
        "id": "AuuMvB3O7kGE"
      },
      "source": [
        "print('Ala', 'ma', 'kota', sep='-', end='.')"
      ],
      "execution_count": null,
      "outputs": []
    },
    {
      "cell_type": "code",
      "metadata": {
        "id": "hYLDD4cx95Mq"
      },
      "source": [
        "print('Sokrates', 'Platon', 'Arystoteles', 'Heraklit', 'Demokry')"
      ],
      "execution_count": null,
      "outputs": []
    },
    {
      "cell_type": "code",
      "metadata": {
        "id": "JelR3ubK-jFW"
      },
      "source": [
        "philosopher = 'Arystoteles'\n",
        "city = 'Stagira'"
      ],
      "execution_count": null,
      "outputs": []
    },
    {
      "cell_type": "code",
      "metadata": {
        "id": "2dX1iq_KWbid"
      },
      "source": [
        "print('\\tPink Floyd')"
      ],
      "execution_count": null,
      "outputs": []
    },
    {
      "cell_type": "code",
      "metadata": {
        "id": "qbCWp1-YWd0f"
      },
      "source": [
        "print('Pink\\nFloyd')"
      ],
      "execution_count": null,
      "outputs": []
    },
    {
      "cell_type": "code",
      "metadata": {
        "id": "3TpH7XB1Wtjt"
      },
      "source": [
        "len('Ummagumma')"
      ],
      "execution_count": null,
      "outputs": []
    },
    {
      "cell_type": "code",
      "metadata": {
        "id": "BffvgstaWuYl"
      },
      "source": [
        "len('Ummagumma ')"
      ],
      "execution_count": null,
      "outputs": []
    },
    {
      "cell_type": "code",
      "metadata": {
        "id": "AkVJP6adW3SE"
      },
      "source": [
        "len(' Ummagumma ')"
      ],
      "execution_count": null,
      "outputs": []
    },
    {
      "cell_type": "code",
      "metadata": {
        "id": "nXYTZ2ZhW84d"
      },
      "source": [
        "print(' Ummagumma '.rstrip())\n",
        "print(' Ummagumma '.lstrip())\n",
        "print(' Ummagumma '.strip())"
      ],
      "execution_count": null,
      "outputs": []
    },
    {
      "cell_type": "code",
      "metadata": {
        "id": "hn_13eu8W-B4"
      },
      "source": [
        "print(len(' Ummagumma '.rstrip()))\n",
        "print(len(' Ummagumma '.lstrip()))\n",
        "print(len(' Ummagumma '.strip()))"
      ],
      "execution_count": null,
      "outputs": []
    },
    {
      "cell_type": "code",
      "metadata": {
        "id": "UQ4dHC0PXDfr"
      },
      "source": [
        "print('robert trypuz'.title())\n",
        "print('RoBert TrypUz'.title())\n",
        "print('robert trypuz'.upper())\n",
        "print('RoBert TrypUz'.lower())"
      ],
      "execution_count": null,
      "outputs": []
    },
    {
      "cell_type": "code",
      "metadata": {
        "id": "eZDjZTSpNl83"
      },
      "source": [
        "print('Mam', my_age, 'lat(a).')\n",
        "print('Mam %d lat(a).' % my_age)\n",
        "print('Mam %s lat(a).' % my_age)\n",
        "print('Mam {} lat(a).'.format(my_age))\n",
        "print(f'Mam {my_age} lat(a).')"
      ],
      "execution_count": null,
      "outputs": []
    },
    {
      "cell_type": "code",
      "metadata": {
        "id": "ttPv59FuZJUG"
      },
      "source": [
        "print('Robert Trypuz'[3:10])\n",
        "print('Robert Trypuz'[3:10:2])"
      ],
      "execution_count": null,
      "outputs": []
    },
    {
      "cell_type": "code",
      "metadata": {
        "id": "mNMPaxtfNhDD"
      },
      "source": [
        "# hello = 'Cześć %s'\n",
        "# print(hello % 'Maciek')"
      ],
      "execution_count": null,
      "outputs": []
    },
    {
      "cell_type": "code",
      "metadata": {
        "id": "Oxg461huoP0p"
      },
      "source": [
        "yoda_sentence = 'Dwóch zawsze ich jest. Nie mniej, nie więcej. Mistrz i uczeń.'\n",
        "print(yoda_sentence.find('uczeń'))\n",
        "print(yoda_sentence.index('uczeń'))\n",
        "print(yoda_sentence.find('Yoda'))"
      ],
      "execution_count": null,
      "outputs": []
    },
    {
      "cell_type": "code",
      "metadata": {
        "id": "iKqmPyR45VAP"
      },
      "source": [
        "print(yoda_sentence.index('Yoda'))"
      ],
      "execution_count": null,
      "outputs": []
    },
    {
      "cell_type": "code",
      "metadata": {
        "id": "MvK3LGQVyQW5"
      },
      "source": [
        "print(yoda_sentence.count('uczeń'))\n",
        "print(yoda_sentence.count('nie'))"
      ],
      "execution_count": null,
      "outputs": []
    },
    {
      "cell_type": "code",
      "metadata": {
        "id": "I8LKk9Rj6NzM"
      },
      "source": [
        "print(yoda_sentence.replace('uczeń','padawan'))"
      ],
      "execution_count": null,
      "outputs": []
    },
    {
      "cell_type": "code",
      "metadata": {
        "id": "BjvwcAjAiRGc"
      },
      "source": [
        "'ROBERT TRYPUZ'.isupper()"
      ],
      "execution_count": null,
      "outputs": []
    },
    {
      "cell_type": "code",
      "metadata": {
        "id": "75ROgvaujXCN"
      },
      "source": [
        "'KUL'.islower()"
      ],
      "execution_count": null,
      "outputs": []
    },
    {
      "cell_type": "code",
      "metadata": {
        "id": "9LPnbwLhjdIJ"
      },
      "source": [
        "'Robert'.isalpha()"
      ],
      "execution_count": null,
      "outputs": []
    },
    {
      "cell_type": "code",
      "metadata": {
        "id": "6Sh_mEYxjj-L"
      },
      "source": [
        "'Robert Trypuz'.isalpha()"
      ],
      "execution_count": null,
      "outputs": []
    },
    {
      "cell_type": "code",
      "metadata": {
        "id": "yvDgucyKjnGC"
      },
      "source": [
        "'123'.isdigit()"
      ],
      "execution_count": null,
      "outputs": []
    },
    {
      "cell_type": "code",
      "metadata": {
        "id": "Ae59Y4gHjuvw"
      },
      "source": [
        "'10 000'.isdigit()"
      ],
      "execution_count": null,
      "outputs": []
    },
    {
      "cell_type": "code",
      "metadata": {
        "id": "lDba8XhTjzOP"
      },
      "source": [
        "'Robert Trypuz'.endswith('Trypuz')"
      ],
      "execution_count": null,
      "outputs": []
    },
    {
      "cell_type": "code",
      "metadata": {
        "id": "fyQXfZfKNAGH"
      },
      "source": [
        "t = 'Thor, syn Odyna, odpowiednik południowogermańskiego Donara, jeden z głównych bogów nordyckich'\n",
        "m = t[19]+t[12]+t[0:3]+t[8]+t[5]+t[60]+t[23]+t[6]+t[0]+t[5]+t[6]+t[32]+t[19]+t[23]+t[3]\n",
        "print(m.capitalize(), end='!')"
      ],
      "execution_count": null,
      "outputs": []
    },
    {
      "cell_type": "code",
      "metadata": {
        "id": "lryXGVrMR5dK"
      },
      "source": [
        "entry = 'Nie zgadzam się z tym stanem rzeczy, kurza twarz!'\n",
        "vulgarism = 'kurza twarz'\n",
        "if entry.count(vulgarism) > 0:\n",
        "  print('Komentarz zawiera wyrażenie uznane za obraźliwe.')"
      ],
      "execution_count": null,
      "outputs": []
    },
    {
      "cell_type": "code",
      "metadata": {
        "id": "LnJh865oSXDE"
      },
      "source": [
        "(((10*2) + 10)//2) - 10"
      ],
      "execution_count": null,
      "outputs": []
    },
    {
      "cell_type": "markdown",
      "metadata": {
        "id": "HX74kyavVj74"
      },
      "source": [
        "# Pierwszy programik"
      ]
    },
    {
      "cell_type": "code",
      "metadata": {
        "id": "Ndxbha_tVqqk"
      },
      "source": [
        "print('Podaj swoje imię: ')\n",
        "name = input()\n",
        "print(f'Witaj {name.title()}!')\n",
        "print(f'Twoje imię składa się z {len(name)} znaków.')"
      ],
      "execution_count": null,
      "outputs": []
    },
    {
      "cell_type": "code",
      "metadata": {
        "id": "zwnhTbK_J378"
      },
      "source": [
        "my_age = 19\n",
        "if my_age >= 18:\n",
        "    print('Jesteś pełnoletni(a) i możesz głosować!')\n",
        "    print('Brawo!')\n",
        "print(f'Masz {my_age} lat(a).')"
      ],
      "execution_count": null,
      "outputs": []
    },
    {
      "cell_type": "code",
      "metadata": {
        "id": "WRipm9GCNSRi"
      },
      "source": [
        "my_age = 16\n",
        "if my_age >= 18:\n",
        "    print('Jesteś pełnoletni(a) i możesz głosować!')\n",
        "    print('Brawo!')\n",
        "print(f'Masz {my_age} lat(a).')"
      ],
      "execution_count": null,
      "outputs": []
    },
    {
      "cell_type": "code",
      "metadata": {
        "id": "gNubQltiU5tl"
      },
      "source": [
        "2+2 == 4"
      ],
      "execution_count": null,
      "outputs": []
    },
    {
      "cell_type": "code",
      "metadata": {
        "id": "ce_Isrm9VCak"
      },
      "source": [
        "16 > 18"
      ],
      "execution_count": null,
      "outputs": []
    },
    {
      "cell_type": "code",
      "metadata": {
        "id": "2TvdIV1MVoR2"
      },
      "source": [
        "19 >= 18"
      ],
      "execution_count": null,
      "outputs": []
    },
    {
      "cell_type": "markdown",
      "metadata": {
        "id": "36mSiO4kr0Wm"
      },
      "source": [
        "## IF"
      ]
    },
    {
      "cell_type": "code",
      "metadata": {
        "id": "bAPGfPCqU0uW"
      },
      "source": [
        "my_age = 14\n",
        "if my_age >= 18:\n",
        "    print('Jesteś pełnoletni(a) i możesz głosować!')\n",
        "else:\n",
        "    print(f'Masz {my_age} lat; nie możesz głosować!')"
      ],
      "execution_count": null,
      "outputs": []
    },
    {
      "cell_type": "code",
      "metadata": {
        "id": "p5LSOgzKWos9"
      },
      "source": [
        "my_age = 15\n",
        "if my_age >= 18:\n",
        "    print('Jesteś pełnoletni(a) i możesz głosować!')\n",
        "elif my_age >= 17:\n",
        "    print(f'Już za rok będziesz głosować!')\n",
        "elif my_age >= 16:\n",
        "    print(f'Już za dwa lata będziesz głosować!')\n",
        "else:\n",
        "   print(f'Masz {my_age} lat; jeszcze poczekasz!')"
      ],
      "execution_count": null,
      "outputs": []
    },
    {
      "cell_type": "code",
      "metadata": {
        "id": "h0N_uCtcYN0a"
      },
      "source": [
        "print('Podaj liczbę zdobytych puntków: ')\n",
        "points = int(input())\n",
        "if points > 20:\n",
        "    print(\"Brawo! Piątka!\")\n",
        "elif points > 18:\n",
        "    print(\"Dobry +\")\n",
        "elif points > 16:\n",
        "    print(\"Dobry\")\n",
        "elif points > 14:\n",
        "    print(\"Dostateczny +\")\n",
        "elif points > 12:\n",
        "    print(\"Dostateczny\")\n",
        "else:\n",
        "    print(\"Dwója!\")"
      ],
      "execution_count": null,
      "outputs": []
    },
    {
      "cell_type": "code",
      "metadata": {
        "id": "78b-x_dtWCF0"
      },
      "source": [
        "missed_classes = 3\n",
        "passed_tests = 3 # out of 4\n",
        "class_participation = True\n",
        "\n",
        "if missed_classes >2:\n",
        "   print('Brak zaliczenia z powodu nieobecności!')\n",
        "elif passed_tests <=2:         \n",
        "   print('Brak zaliczenia; nie zaliczyłeś/aś min 3 testów!')\n",
        "elif not class_participation: \n",
        "   print(\"Brak zaliczenia z powodu braku aktywności!\")   \n",
        "else:\n",
        "   print('Zaliczone!', 'Gratulacje!')"
      ],
      "execution_count": null,
      "outputs": []
    },
    {
      "cell_type": "code",
      "metadata": {
        "id": "beKJ2dRTYinT"
      },
      "source": [
        "missed_classes = 3\n",
        "passed_tests = 3 # out of 4\n",
        "class_participation = True\n",
        "\n",
        "if (missed_classes <= 2) and (passed_tests >=3) and class_participation:\n",
        "  print('Zaliczone!', 'Gratulacje!') \n",
        "else:\n",
        "  print('Brak zaliczenia!')"
      ],
      "execution_count": null,
      "outputs": []
    },
    {
      "cell_type": "code",
      "metadata": {
        "id": "htc7lkuObzL7"
      },
      "source": [
        "print('Podaj znak: ')\n",
        "litera = input()\n",
        "vowels = 'aąeęiouy'\n",
        "if litera in vowels:\n",
        "  print('Podane litera to samogłoska.')\n",
        "else:\n",
        "  print('Podana litera nie jest samogłoską.')"
      ],
      "execution_count": null,
      "outputs": []
    },
    {
      "cell_type": "markdown",
      "metadata": {
        "id": "v2XSr94Lrtv4"
      },
      "source": [
        "## WHILE"
      ]
    },
    {
      "cell_type": "code",
      "metadata": {
        "id": "_zBHlqtwrrUR"
      },
      "source": [
        "i = 1\n",
        "while i <= 4:\n",
        "    print(\"Obrót pętli nr\", i)\n",
        "    i = i + 1"
      ],
      "execution_count": null,
      "outputs": []
    },
    {
      "cell_type": "code",
      "metadata": {
        "id": "CZ-Qv58rjqHP"
      },
      "source": [
        "i=1\n",
        "size = 7\n",
        "while i <= size:\n",
        "  print((i*'@')+(((2*size)-(2*i))*' ')+(i*'@'))\n",
        "  i+=1"
      ],
      "execution_count": null,
      "outputs": []
    },
    {
      "cell_type": "code",
      "metadata": {
        "id": "4Uzoe7XMZU0w"
      },
      "source": [
        "import random\n",
        "\n",
        "print('Komputer wybrał liczbę z przedziału 1 - 100.')\n",
        "print('Zgadnij jaka to liczba!')\n",
        "\n",
        "number = random.randint(1, 100)\n",
        "\n",
        "counter = 1\n",
        "\n",
        "guess = int(input('Podaj liczbę od 1 do 100: '))\n",
        "\n",
        "while (guess != number):\n",
        "    if guess > 100:\n",
        "        print('\\tPodana liczba większa od 100.')\n",
        "        print('\\tKomputer wybrał liczbę z przedziału 1 - 100.')\n",
        "    elif guess < 1:\n",
        "      print('\\tPodana liczba mniejsza od 1.')\n",
        "      print('\\tKomputer wybrał liczbę z przedziału 1 - 100.')\n",
        "    else:\n",
        "        if number > guess:\n",
        "            print('\\tSzukana liczba > ' + str(guess))\n",
        "        else:\n",
        "            print('\\tSzukana liczba < ' + str(guess))\n",
        "\n",
        "    guess = int(input('Podaj liczbę od 1 do 100: '))\n",
        "    counter += 1\n",
        "\n",
        "\n",
        "print('Gratulacje! Podana liczba to ' + str(number))\n",
        "print('Liczba prób: ' + str(counter))"
      ],
      "execution_count": null,
      "outputs": []
    },
    {
      "cell_type": "code",
      "metadata": {
        "id": "Tvg2-n0j-ZE8"
      },
      "source": [
        "i = 1\n",
        "while i <= 10:\n",
        "   if i > 5:\n",
        "       break\n",
        "   print(i)\n",
        "   i += 1"
      ],
      "execution_count": null,
      "outputs": []
    },
    {
      "cell_type": "code",
      "metadata": {
        "id": "TZUIUzSa-jsH"
      },
      "source": [
        "# continue\n",
        "i = 1\n",
        "while i <= 10:\n",
        "   if i >= 4 and i <= 7:\n",
        "       i += 1\n",
        "       continue\n",
        "   print(i)\n",
        "   i += 1"
      ],
      "execution_count": null,
      "outputs": []
    },
    {
      "cell_type": "code",
      "metadata": {
        "id": "D2fT3p2Vvvik"
      },
      "source": [
        "# break and continue\n",
        "menu = '''\n",
        "Wybierz napój:\n",
        "1 - kawa\n",
        "2 - herbata\n",
        "---------------\n",
        "0 - zrezygnuj\n",
        "'''\n",
        "\n",
        "while True:\n",
        "   print(menu)\n",
        "   letter = input('Jaki jest twój wybór?\\n')\n",
        "   if letter == '1':\n",
        "       print('\\tNiestety kawy nie ma :( ')\n",
        "       continue\n",
        "   elif letter == '2':\n",
        "       print('\\tNiestety herbaty nie ma :( ')\n",
        "       continue\n",
        "   elif letter == '0':\n",
        "       print('Dziękujemy!\\n')\n",
        "       break\n",
        "   else:\n",
        "       print('\\tMusisz wybrać między 1 a 2!')\n",
        "       continue\n",
        "   "
      ],
      "execution_count": null,
      "outputs": []
    },
    {
      "cell_type": "code",
      "metadata": {
        "id": "eF_9DWNVq3R1"
      },
      "source": [
        "menu = '''\n",
        "1 - motywacja\n",
        "2 - więcej motywacji\n",
        "3 - jeszcze więcej motywacji\n",
        "0 - koniec\n",
        "'''\n",
        "\n",
        "while True:\n",
        "  print(menu)\n",
        "  letter = input('Wybierz: ')\n",
        "  if letter == '1':\n",
        "      print('Jesteś zwycięzcą!')\n",
        "  elif letter == '2':\n",
        "      print('Jesteś zwycięzcą! Jesteś zwycięzcą!')\n",
        "  elif letter == '3':\n",
        "        print('Jesteś zwycięzcą! Jesteś zwycięzcą! Jesteś zwycięzcą!')\n",
        "  elif letter == '0':\n",
        "      print('Dobiegłeś do mety i jesteś diamentem!')\n",
        "      break\n",
        "  else:\n",
        "      print('Musisz wybrać między 0, 1, 2 i 3!')"
      ],
      "execution_count": null,
      "outputs": []
    },
    {
      "cell_type": "markdown",
      "metadata": {
        "id": "wDidLcmEbeqA"
      },
      "source": [
        "# For"
      ]
    },
    {
      "cell_type": "code",
      "metadata": {
        "id": "n2oEXXQoYLN2"
      },
      "source": [
        ""
      ],
      "execution_count": null,
      "outputs": []
    },
    {
      "cell_type": "markdown",
      "metadata": {
        "id": "_mW1SxGvJCwe"
      },
      "source": [
        "# Listy"
      ]
    },
    {
      "cell_type": "code",
      "metadata": {
        "id": "aGL10UvOJBY1"
      },
      "source": [
        "kolory = [\"czarny\", \"biały\", \"czerwony\"]\n",
        "kolory.append(\"zielony\")\n",
        "kolory.append(\"niebieski\")\n",
        "print(kolory)"
      ],
      "execution_count": null,
      "outputs": []
    },
    {
      "cell_type": "code",
      "metadata": {
        "id": "k1XmfSM0JeZn"
      },
      "source": [
        "zwierzaki = [\"pies\", \"kot\", \"koń\", \"żubr\"]\n",
        "zwierzaki[1] = \"krokodyl\"\n",
        "zwierzaki[3] = \"chomik\"\n",
        "print(zwierzaki)"
      ],
      "execution_count": null,
      "outputs": []
    },
    {
      "cell_type": "code",
      "metadata": {
        "id": "OF2Z_v39Jy0J"
      },
      "source": [
        "marki = [\"Opel\", \"Mercedes\", \"Audi\", \"Toyota\"]\n",
        "del marki[1]\n",
        "print(marki)"
      ],
      "execution_count": null,
      "outputs": []
    },
    {
      "cell_type": "code",
      "metadata": {
        "id": "TwAyEY5YKJb_"
      },
      "source": [
        "owoce = [\"jabłko\", \"gruszka\", \"truskawka\", \"gruszka\"]\n",
        "owoce.remove(\"gruszka\")\n",
        "print(owoce)"
      ],
      "execution_count": null,
      "outputs": []
    },
    {
      "cell_type": "code",
      "metadata": {
        "id": "jX_BSU34xBAK"
      },
      "source": [
        "rainbow = []\n",
        "# czerwony (na zewnątrz łuku), pomarańczowy, żółty, zielony, niebieski, indygo i fioletowy (wewnątrz łuku)"
      ],
      "execution_count": null,
      "outputs": []
    },
    {
      "cell_type": "code",
      "metadata": {
        "id": "bvYBjd0bx92W"
      },
      "source": [
        "rainbow.append('czerwony')\n",
        "print(rainbow)"
      ],
      "execution_count": null,
      "outputs": []
    },
    {
      "cell_type": "code",
      "metadata": {
        "id": "zmN4gk5vye30"
      },
      "source": [
        "rainbow.append('pomarańczowy')\n",
        "print(rainbow)"
      ],
      "execution_count": null,
      "outputs": []
    },
    {
      "cell_type": "code",
      "metadata": {
        "id": "B8-XOKELQenC"
      },
      "source": [
        "rainbow.append('pomarańczowy')"
      ],
      "execution_count": null,
      "outputs": []
    },
    {
      "cell_type": "code",
      "metadata": {
        "id": "LkGSSMsiN0gI"
      },
      "source": [
        "rainbow.count('pomarańczowy')"
      ],
      "execution_count": null,
      "outputs": []
    },
    {
      "cell_type": "code",
      "metadata": {
        "id": "5Zb8qxq_0Wr3"
      },
      "source": [
        "rainbow.remove('pomarańczowy')\n",
        "print(rainbow)"
      ],
      "execution_count": null,
      "outputs": []
    },
    {
      "cell_type": "code",
      "metadata": {
        "id": "VN9iV1Ra07I5"
      },
      "source": [
        "rainbow.append('zielony')\n",
        "print(rainbow)"
      ],
      "execution_count": null,
      "outputs": []
    },
    {
      "cell_type": "code",
      "metadata": {
        "id": "wEydw3xF3UH5"
      },
      "source": [
        "rainbow[1]"
      ],
      "execution_count": null,
      "outputs": []
    },
    {
      "cell_type": "code",
      "metadata": {
        "id": "W4m0MeAn4yXY"
      },
      "source": [
        "rainbow[2] = 'żółty'"
      ],
      "execution_count": null,
      "outputs": []
    },
    {
      "cell_type": "code",
      "metadata": {
        "id": "tZgXDE4b5F_4"
      },
      "source": [
        "print(rainbow)"
      ],
      "execution_count": null,
      "outputs": []
    },
    {
      "cell_type": "code",
      "metadata": {
        "id": "chNe4UG77Z5Y"
      },
      "source": [
        "rainbow.append('zielony')\n",
        "print(rainbow)"
      ],
      "execution_count": null,
      "outputs": []
    },
    {
      "cell_type": "code",
      "metadata": {
        "id": "I5oFidqw7r3m"
      },
      "source": [
        "rainbow.append('indygo')\n",
        "print(rainbow)"
      ],
      "execution_count": null,
      "outputs": []
    },
    {
      "cell_type": "code",
      "metadata": {
        "id": "yIMfSync8jSL"
      },
      "source": [
        "rainbow.insert(4, 'niebieski')\n",
        "print(rainbow)"
      ],
      "execution_count": null,
      "outputs": []
    },
    {
      "cell_type": "code",
      "metadata": {
        "id": "W03Nnpje-nLy"
      },
      "source": [
        "rainbow.append('fioletowy')\n",
        "for index, color in enumerate(rainbow):\n",
        "  print(index+1,'-',color)"
      ],
      "execution_count": null,
      "outputs": []
    },
    {
      "cell_type": "code",
      "metadata": {
        "id": "e_vqnKIPA0gI"
      },
      "source": [
        "if 'żółty' in rainbow:\n",
        "    print(\"Mamy kolor żółty w tęczy.\")\n",
        "else:\n",
        "    print(\"Nie ma koloru żółtego w tęczy.\")\n",
        "\n",
        "if 'biały' in rainbow:\n",
        "    print(\"Mamy kolor biały w tęczy.\")\n",
        "else:\n",
        "    print(\"Nie ma koloru białego w tęczy.\")\n",
        "\n"
      ],
      "execution_count": null,
      "outputs": []
    },
    {
      "cell_type": "code",
      "metadata": {
        "id": "kMjU2UOPCBJq"
      },
      "source": [
        "sorted_rainbow = rainbow.copy()\n",
        "sorted_rainbow.sort()\n",
        "print(sorted_rainbow)"
      ],
      "execution_count": null,
      "outputs": []
    },
    {
      "cell_type": "code",
      "metadata": {
        "id": "GsGKbBk3MCXH"
      },
      "source": [
        "sorted_rainbow = rainbow.copy()\n",
        "sorted_rainbow.sort(reverse=True)\n",
        "print(sorted_rainbow)"
      ],
      "execution_count": null,
      "outputs": []
    },
    {
      "cell_type": "code",
      "metadata": {
        "id": "sT3lENlTLrlX"
      },
      "source": [
        "reversed_rainbow = rainbow.copy()\n",
        "reversed_rainbow.reverse()\n",
        "print(reversed_rainbow)"
      ],
      "execution_count": null,
      "outputs": []
    },
    {
      "cell_type": "code",
      "metadata": {
        "id": "T-tNWy-1Noo1"
      },
      "source": [
        "print(rainbow.pop(-1))\n"
      ],
      "execution_count": null,
      "outputs": []
    },
    {
      "cell_type": "code",
      "metadata": {
        "id": "sySjaEeEO5tc"
      },
      "source": [
        "rainbow.clear()\n",
        "print(rainbow)"
      ],
      "execution_count": null,
      "outputs": []
    },
    {
      "cell_type": "code",
      "metadata": {
        "id": "HIlkGATASDKW"
      },
      "source": [
        "languages = ['Polish', 'English']\n",
        "languages_to_add = ['Spanish', 'Italian']\n",
        "languages.extend(languages_to_add)\n",
        "print(languages)\n"
      ],
      "execution_count": null,
      "outputs": []
    },
    {
      "cell_type": "code",
      "metadata": {
        "id": "edxsgDKjBM2r"
      },
      "source": [
        "rainbow = ['czerwony', 'pomarańczowy', 'żółty', 'zielony', 'niebieski', 'indygo']\n",
        "rainbow[:3]"
      ],
      "execution_count": null,
      "outputs": []
    },
    {
      "cell_type": "code",
      "metadata": {
        "id": "dyY9W-VaBsde"
      },
      "source": [
        "paragraph = '''\n",
        "Pomimo faktu, że w tęczy występuje niemal ciągłe widmo kolorów, \n",
        "wyszczególnia się z reguły następujące barwy: \n",
        "czerwony (na zewnątrz łuku), pomarańczowy, żółty, zielony, \n",
        "niebieski, indygo i fioletowy (wewnątrz łuku).\n",
        "'''\n",
        "\n",
        "paragraph_split = paragraph.split()\n",
        "print(paragraph_split)"
      ],
      "execution_count": null,
      "outputs": []
    },
    {
      "cell_type": "code",
      "metadata": {
        "id": "e6yyL-26DgNQ"
      },
      "source": [
        "paragraph_split = paragraph.split(': ')\n",
        "print(paragraph_split)"
      ],
      "execution_count": null,
      "outputs": []
    },
    {
      "cell_type": "code",
      "metadata": {
        "id": "tmG57EuLENLz"
      },
      "source": [
        "' - '.join(rainbow)"
      ],
      "execution_count": null,
      "outputs": []
    },
    {
      "cell_type": "code",
      "metadata": {
        "id": "jKHwRPkwE-jb"
      },
      "source": [
        "rainbow = ['czerwony', 'pomarańczowy', 'żółty', 'zielony', 'niebieski', 'indygo', 'fioletowy']\n",
        "friends = ['Jan', 'Kasia', 'Zosia', 'Michał', 'Zuzia', 'Marysia', 'Wojtek']\n",
        "\n",
        "for color, friend in zip(rainbow, friends):\n",
        "  print(friend, ' - ', color)"
      ],
      "execution_count": null,
      "outputs": []
    },
    {
      "cell_type": "code",
      "metadata": {
        "id": "FSmnXK6FKRkC"
      },
      "source": [
        "students = ['Jan Kiełbasa', 'Maria Babeczka', 'Marian Kaszanka', 'Julia Piernik']"
      ],
      "execution_count": null,
      "outputs": []
    },
    {
      "cell_type": "code",
      "metadata": {
        "id": "dsyTZJDhVHmh"
      },
      "source": [
        "rainbow_dict = {1:'czerwony',\n",
        "                2:'pomarańczowy',\n",
        "                3:'żółty',\n",
        "                4:'zielony',\n",
        "                5:'niebieski',\n",
        "                6:'indygo',\n",
        "                7:'fioletowy'}"
      ],
      "execution_count": null,
      "outputs": []
    },
    {
      "cell_type": "code",
      "metadata": {
        "id": "BcvyQIdCWrGJ"
      },
      "source": [
        "rainbow_dict[1]"
      ],
      "execution_count": null,
      "outputs": []
    },
    {
      "cell_type": "code",
      "metadata": {
        "id": "ULwNEe03XJCD"
      },
      "source": [
        "rainbow_dict.keys()\n",
        "# for key in rainbow_dict.keys():\n",
        "#   print(key)"
      ],
      "execution_count": null,
      "outputs": []
    },
    {
      "cell_type": "code",
      "metadata": {
        "id": "-Uk7xpkW3Abt"
      },
      "source": [
        "rainbow_dict.values()"
      ],
      "execution_count": null,
      "outputs": []
    },
    {
      "cell_type": "code",
      "metadata": {
        "id": "0ysD2ATdXSzl"
      },
      "source": [
        "rainbow_dict.items()"
      ],
      "execution_count": null,
      "outputs": []
    },
    {
      "cell_type": "code",
      "metadata": {
        "id": "JtjWzEtE57ZI"
      },
      "source": [
        "rainbow_dict.get(7)"
      ],
      "execution_count": null,
      "outputs": []
    },
    {
      "cell_type": "code",
      "metadata": {
        "id": "XvJ31diT6DZ0"
      },
      "source": [
        "rainbow_dict.get(8, 'Nie ma tylu kolorów w tęczy!')"
      ],
      "execution_count": null,
      "outputs": []
    },
    {
      "cell_type": "code",
      "metadata": {
        "id": "aJ951QzW2kPH"
      },
      "source": [
        "keys = ['a', 'e', 'i', 'o', 'u']\n",
        "\n",
        "vowels = dict.fromkeys(keys, [1,2,3,4,5])\n",
        "print(vowels)"
      ],
      "execution_count": null,
      "outputs": []
    },
    {
      "cell_type": "markdown",
      "metadata": {
        "id": "Tqs1ydK9EFad"
      },
      "source": [
        "# Zbiory"
      ]
    },
    {
      "cell_type": "code",
      "metadata": {
        "id": "yyJDFPxjEEiI",
        "colab": {
          "base_uri": "https://localhost:8080/"
        },
        "outputId": "a1c996d1-3d85-4874-8f8a-11050a2f4e5b"
      },
      "source": [
        "hey_1992 = {'Katarzyna Nosowska', 'Marcin Żabiłowicz', 'Robert Ligiewicz', 'Marcin Macuk', 'Piotr Banach'}\n",
        "hey_band = set()\n",
        "hey_band.update(hey_1992)\n",
        "print(hey_band)"
      ],
      "execution_count": null,
      "outputs": [
        {
          "output_type": "stream",
          "name": "stdout",
          "text": [
            "{'Marcin Żabiłowicz', 'Katarzyna Nosowska', 'Piotr Banach', 'Robert Ligiewicz', 'Marcin Macuk'}\n"
          ]
        }
      ]
    },
    {
      "cell_type": "code",
      "metadata": {
        "id": "4mZTzlqHHODR",
        "colab": {
          "base_uri": "https://localhost:8080/"
        },
        "outputId": "d18fe1fb-1cd6-4186-aea4-0fce583f44d0"
      },
      "source": [
        "hey_band.remove('Marcin Macuk')\n",
        "hey_band.add('Jacek Chrzanowski')\n",
        "hey_1993 = hey_band.copy()\n",
        "print(hey_1993)"
      ],
      "execution_count": null,
      "outputs": [
        {
          "output_type": "stream",
          "name": "stdout",
          "text": [
            "{'Marcin Żabiłowicz', 'Katarzyna Nosowska', 'Piotr Banach', 'Robert Ligiewicz', 'Jacek Chrzanowski'}\n"
          ]
        }
      ]
    },
    {
      "cell_type": "code",
      "metadata": {
        "id": "dRIy0NuqJfQk",
        "colab": {
          "base_uri": "https://localhost:8080/"
        },
        "outputId": "d67755fd-35be-457d-f4f1-4187d9dbfd4c"
      },
      "source": [
        "hey_band.remove('Piotr Banach')\n",
        "hey_1999 = hey_band.copy()\n",
        "print(hey_1999)"
      ],
      "execution_count": null,
      "outputs": [
        {
          "output_type": "stream",
          "name": "stdout",
          "text": [
            "{'Marcin Żabiłowicz', 'Katarzyna Nosowska', 'Robert Ligiewicz', 'Jacek Chrzanowski'}\n"
          ]
        }
      ]
    },
    {
      "cell_type": "code",
      "metadata": {
        "id": "Rz0ZQb0VJ0g_",
        "colab": {
          "base_uri": "https://localhost:8080/"
        },
        "outputId": "a74e170e-67aa-437d-defa-6c10238e700f"
      },
      "source": [
        "hey_band.add('Paweł Krawczyk')\n",
        "hey_2001 = hey_band.copy()\n",
        "print(hey_2001)"
      ],
      "execution_count": null,
      "outputs": [
        {
          "output_type": "stream",
          "name": "stdout",
          "text": [
            "{'Marcin Żabiłowicz', 'Katarzyna Nosowska', 'Paweł Krawczyk', 'Robert Ligiewicz', 'Jacek Chrzanowski'}\n"
          ]
        }
      ]
    },
    {
      "cell_type": "code",
      "metadata": {
        "id": "Ju1YgszVLJEw",
        "colab": {
          "base_uri": "https://localhost:8080/"
        },
        "outputId": "ff593b0c-994f-471f-8aab-7ad344fa22a0"
      },
      "source": [
        "hey_band.add('Marcin Zabrocki')\n",
        "hey_2012 = hey_band.copy()\n",
        "print(hey_2012)"
      ],
      "execution_count": null,
      "outputs": [
        {
          "output_type": "stream",
          "name": "stdout",
          "text": [
            "{'Marcin Żabiłowicz', 'Katarzyna Nosowska', 'Paweł Krawczyk', 'Robert Ligiewicz', 'Jacek Chrzanowski', 'Marcin Zabrocki'}\n"
          ]
        }
      ]
    },
    {
      "cell_type": "code",
      "metadata": {
        "id": "ZeKkKsm4NdpG",
        "colab": {
          "base_uri": "https://localhost:8080/"
        },
        "outputId": "2cdb4546-216b-4c9f-df38-494a5c45d540"
      },
      "source": [
        "hey_band.remove('Marcin Zabrocki')\n",
        "hey_band.add('Marcin Macuk')\n",
        "hey_2017 = hey_band.copy()\n",
        "print(hey_2017)"
      ],
      "execution_count": null,
      "outputs": [
        {
          "output_type": "stream",
          "name": "stdout",
          "text": [
            "{'Marcin Żabiłowicz', 'Katarzyna Nosowska', 'Paweł Krawczyk', 'Robert Ligiewicz', 'Jacek Chrzanowski', 'Marcin Macuk'}\n"
          ]
        }
      ]
    },
    {
      "cell_type": "code",
      "metadata": {
        "id": "oaoDoElwKd8Y",
        "colab": {
          "base_uri": "https://localhost:8080/"
        },
        "outputId": "81c5c44d-82e9-41e2-d633-17171452427d"
      },
      "source": [
        "set.union(hey_1992, hey_1993, hey_1999, hey_2001, hey_2012, hey_2017)"
      ],
      "execution_count": null,
      "outputs": [
        {
          "output_type": "execute_result",
          "data": {
            "text/plain": [
              "{'Jacek Chrzanowski',\n",
              " 'Katarzyna Nosowska',\n",
              " 'Marcin Macuk',\n",
              " 'Marcin Zabrocki',\n",
              " 'Marcin Żabiłowicz',\n",
              " 'Paweł Krawczyk',\n",
              " 'Piotr Banach',\n",
              " 'Robert Ligiewicz'}"
            ]
          },
          "metadata": {},
          "execution_count": 7
        }
      ]
    },
    {
      "cell_type": "code",
      "metadata": {
        "id": "vD9nKampKuf9",
        "colab": {
          "base_uri": "https://localhost:8080/"
        },
        "outputId": "74c3284c-4e56-419d-cb11-4c3a5a415889"
      },
      "source": [
        "set.intersection(hey_1992, hey_1993, hey_1999, hey_2001, hey_2012, hey_2017)"
      ],
      "execution_count": null,
      "outputs": [
        {
          "output_type": "execute_result",
          "data": {
            "text/plain": [
              "{'Katarzyna Nosowska', 'Marcin Żabiłowicz', 'Robert Ligiewicz'}"
            ]
          },
          "metadata": {},
          "execution_count": 8
        }
      ]
    },
    {
      "cell_type": "code",
      "metadata": {
        "id": "HTvktJYzLe6K",
        "colab": {
          "base_uri": "https://localhost:8080/"
        },
        "outputId": "299edf58-523d-43ad-9761-cd0f9efe77c6"
      },
      "source": [
        "# byli w składzie z 1992 i nie ma ich w składzie z 2017: X - Y\n",
        "hey_1992.difference(hey_2017)"
      ],
      "execution_count": null,
      "outputs": [
        {
          "output_type": "execute_result",
          "data": {
            "text/plain": [
              "{'Piotr Banach'}"
            ]
          },
          "metadata": {},
          "execution_count": 9
        }
      ]
    },
    {
      "cell_type": "code",
      "metadata": {
        "id": "7tB2DxfXMZ1f",
        "colab": {
          "base_uri": "https://localhost:8080/"
        },
        "outputId": "e6d6173d-d861-42d1-f1d5-b433dc9739a3"
      },
      "source": [
        "hey_1992.symmetric_difference(hey_2017) # (X u Y) - (X n Y)"
      ],
      "execution_count": null,
      "outputs": [
        {
          "output_type": "execute_result",
          "data": {
            "text/plain": [
              "{'Jacek Chrzanowski', 'Paweł Krawczyk', 'Piotr Banach'}"
            ]
          },
          "metadata": {},
          "execution_count": 10
        }
      ]
    },
    {
      "cell_type": "code",
      "metadata": {
        "id": "aSTFhFfPNkkP"
      },
      "source": [
        "hey_band.clear()"
      ],
      "execution_count": null,
      "outputs": []
    },
    {
      "cell_type": "code",
      "metadata": {
        "id": "X4foPCupQUU0",
        "colab": {
          "base_uri": "https://localhost:8080/"
        },
        "outputId": "2f7b0ced-0f38-4802-f9bd-4cecf3ce95a2"
      },
      "source": [
        "hey_2001.issubset(hey_2017)"
      ],
      "execution_count": null,
      "outputs": [
        {
          "output_type": "execute_result",
          "data": {
            "text/plain": [
              "True"
            ]
          },
          "metadata": {},
          "execution_count": 12
        }
      ]
    },
    {
      "cell_type": "code",
      "metadata": {
        "id": "2vhjiVaMQgMS",
        "colab": {
          "base_uri": "https://localhost:8080/"
        },
        "outputId": "f33a4d8c-c4d6-41ce-a2ec-400f68461ba8"
      },
      "source": [
        "hey_2017.issubset(hey_2001)"
      ],
      "execution_count": null,
      "outputs": [
        {
          "output_type": "execute_result",
          "data": {
            "text/plain": [
              "False"
            ]
          },
          "metadata": {},
          "execution_count": 13
        }
      ]
    },
    {
      "cell_type": "code",
      "metadata": {
        "id": "sKKlJnXDQ1jt",
        "colab": {
          "base_uri": "https://localhost:8080/"
        },
        "outputId": "71135868-45d1-40a7-d672-43ee2ddf8af2"
      },
      "source": [
        "hey_1992.isdisjoint(hey_2017)"
      ],
      "execution_count": null,
      "outputs": [
        {
          "output_type": "execute_result",
          "data": {
            "text/plain": [
              "False"
            ]
          },
          "metadata": {},
          "execution_count": 14
        }
      ]
    },
    {
      "cell_type": "code",
      "metadata": {
        "id": "zTft4l7MsJZ6",
        "colab": {
          "base_uri": "https://localhost:8080/"
        },
        "outputId": "7f80ecc2-66c8-414c-85f7-af6b8ea0c716"
      },
      "source": [
        "jan_kaszanka = ('Jan', 'Kaszanka', 180, 113, 54, 150)\n",
        "jan_kaszanka"
      ],
      "execution_count": null,
      "outputs": [
        {
          "output_type": "execute_result",
          "data": {
            "text/plain": [
              "('Jan', 'Kaszanka', 180, 113, 54, 150)"
            ]
          },
          "metadata": {},
          "execution_count": 15
        }
      ]
    },
    {
      "cell_type": "code",
      "metadata": {
        "id": "JstcsChGt45D",
        "colab": {
          "base_uri": "https://localhost:8080/"
        },
        "outputId": "4f425ffb-d55b-410a-c0c0-ae123bdde150"
      },
      "source": [
        "jan_kaszanka.count(180)"
      ],
      "execution_count": null,
      "outputs": [
        {
          "output_type": "execute_result",
          "data": {
            "text/plain": [
              "1"
            ]
          },
          "metadata": {},
          "execution_count": 16
        }
      ]
    },
    {
      "cell_type": "code",
      "metadata": {
        "id": "5OhhnOLluCy2",
        "colab": {
          "base_uri": "https://localhost:8080/"
        },
        "outputId": "5f9d246d-132a-425e-c2e4-ff234ad30bfd"
      },
      "source": [
        "jan_kaszanka.index(180, 2, 3)"
      ],
      "execution_count": null,
      "outputs": [
        {
          "output_type": "execute_result",
          "data": {
            "text/plain": [
              "2"
            ]
          },
          "metadata": {},
          "execution_count": 17
        }
      ]
    },
    {
      "cell_type": "code",
      "metadata": {
        "id": "BGiQGTJmxp8Y",
        "colab": {
          "base_uri": "https://localhost:8080/"
        },
        "outputId": "5533e802-500c-4008-ee71-c404892b25dd"
      },
      "source": [
        "number = 30\n",
        "for i in range(number):\n",
        "  if i == (number // 2):\n",
        "    break\n",
        "  print((((number // 2)- (i+1)) * ' ') + ((2*i)+1) *'$')\n"
      ],
      "execution_count": null,
      "outputs": [
        {
          "output_type": "stream",
          "name": "stdout",
          "text": [
            "              $\n",
            "             $$$\n",
            "            $$$$$\n",
            "           $$$$$$$\n",
            "          $$$$$$$$$\n",
            "         $$$$$$$$$$$\n",
            "        $$$$$$$$$$$$$\n",
            "       $$$$$$$$$$$$$$$\n",
            "      $$$$$$$$$$$$$$$$$\n",
            "     $$$$$$$$$$$$$$$$$$$\n",
            "    $$$$$$$$$$$$$$$$$$$$$\n",
            "   $$$$$$$$$$$$$$$$$$$$$$$\n",
            "  $$$$$$$$$$$$$$$$$$$$$$$$$\n",
            " $$$$$$$$$$$$$$$$$$$$$$$$$$$\n",
            "$$$$$$$$$$$$$$$$$$$$$$$$$$$$$\n"
          ]
        }
      ]
    },
    {
      "cell_type": "code",
      "metadata": {
        "id": "2FLQ7vrzDTq4",
        "colab": {
          "base_uri": "https://localhost:8080/"
        },
        "outputId": "3b30eaf1-5cfb-41ef-b143-0edd3856243f"
      },
      "source": [
        "print(\"6 + 3 =\", 6 + 3)\n",
        "print(\"6 - 3 =\", 6 - 3)\n",
        "print(\"6 * 3 =\", 6 * 3)\n",
        "print(\"6 / 3 =\", 6 / 3)\n",
        "print(\"6 % 3 =\", 6 % 3)\n",
        "print(\"6 ** 3 =\", 6 ** 3)\n",
        "print(\"7 // 3 =\", 7 // 3)"
      ],
      "execution_count": null,
      "outputs": [
        {
          "output_type": "stream",
          "name": "stdout",
          "text": [
            "6 + 3 = 9\n",
            "6 - 3 = 3\n",
            "6 * 3 = 18\n",
            "6 / 3 = 2.0\n",
            "6 % 3 = 0\n",
            "6 ** 3 = 216\n",
            "7 // 3 = 2\n"
          ]
        }
      ]
    },
    {
      "cell_type": "code",
      "metadata": {
        "id": "YMM28yTvEyZU",
        "colab": {
          "base_uri": "https://localhost:8080/"
        },
        "outputId": "3fdbf82d-5c56-4373-a777-b7d50bcd0a2a"
      },
      "source": [
        "x = 3\n",
        "print(x)\n",
        "\n",
        "x += 1\n",
        "print(x)\n",
        "\n",
        "x *= 2\n",
        "print(x)\n"
      ],
      "execution_count": null,
      "outputs": [
        {
          "output_type": "stream",
          "name": "stdout",
          "text": [
            "3\n",
            "4\n",
            "8\n"
          ]
        }
      ]
    },
    {
      "cell_type": "code",
      "metadata": {
        "id": "KYcTXL2xTfpi",
        "colab": {
          "base_uri": "https://localhost:8080/"
        },
        "outputId": "217b36dc-edc9-4950-9c28-09d2696ca277"
      },
      "source": [
        "import random\n",
        "konie = ['siwek', 'czarny', 'hej']\n",
        "random.shuffle(konie)\n",
        "print(konie)"
      ],
      "execution_count": null,
      "outputs": [
        {
          "output_type": "stream",
          "name": "stdout",
          "text": [
            "['siwek', 'hej', 'czarny']\n"
          ]
        }
      ]
    },
    {
      "cell_type": "markdown",
      "metadata": {
        "id": "Armyrl51hFBb"
      },
      "source": [
        "# Funkcje"
      ]
    },
    {
      "cell_type": "code",
      "metadata": {
        "id": "1H-MpyNfrSzM"
      },
      "source": [
        "def espresso_please():\n",
        "    espresso = r'''\n",
        "        (  )  \n",
        "        )  (   \n",
        "      (   )    \n",
        "     _______\n",
        "    <_______> ___\n",
        "    |       |/ _ \\\n",
        "    |       | | | |\n",
        "    |         |_| |\n",
        " ___|       |\\___/\n",
        "/   \\_______/    \\\n",
        "\\________________/\n",
        "    \n",
        "    '''\n",
        "    print(tea)"
      ],
      "execution_count": null,
      "outputs": []
    },
    {
      "cell_type": "code",
      "metadata": {
        "id": "KiSOI9DbsExV",
        "colab": {
          "base_uri": "https://localhost:8080/"
        },
        "outputId": "84d6d0fe-a83d-462e-fd78-582f0243abfa"
      },
      "source": [
        "espresso_please()"
      ],
      "execution_count": null,
      "outputs": [
        {
          "output_type": "stream",
          "name": "stdout",
          "text": [
            "\n",
            "        (  )  \n",
            "        )  (   \n",
            "      (   )    \n",
            "     _______\n",
            "    <_______> ___\n",
            "    |       |/ _ \\\n",
            "    |       | | | |\n",
            "    |         |_| |\n",
            " ___|       |\\___/\n",
            "/   \\_______/    \\\n",
            "\\________________/\n",
            "    \n",
            "    \n"
          ]
        }
      ]
    },
    {
      "cell_type": "code",
      "metadata": {
        "id": "CIv0YY5rs9WF"
      },
      "source": [
        "def n_espresso_please(number = 1):\n",
        "  for i in range(number):\n",
        "      espresso_please()\n",
        "  return"
      ],
      "execution_count": null,
      "outputs": []
    },
    {
      "cell_type": "code",
      "metadata": {
        "id": "0BpWFxoutEiI",
        "colab": {
          "base_uri": "https://localhost:8080/"
        },
        "outputId": "5624b465-21df-49ba-ac02-119ae79ce4b4"
      },
      "source": [
        "n_espresso_please(3)"
      ],
      "execution_count": null,
      "outputs": [
        {
          "output_type": "stream",
          "name": "stdout",
          "text": [
            "\n",
            "        (  )  \n",
            "        )  (   \n",
            "      (   )    \n",
            "     _______\n",
            "    <_______> ___\n",
            "    |       |/ _ \\\n",
            "    |       | | | |\n",
            "    |         |_| |\n",
            " ___|       |\\___/\n",
            "/   \\_______/    \\\n",
            "\\________________/\n",
            "    \n",
            "    \n",
            "\n",
            "        (  )  \n",
            "        )  (   \n",
            "      (   )    \n",
            "     _______\n",
            "    <_______> ___\n",
            "    |       |/ _ \\\n",
            "    |       | | | |\n",
            "    |         |_| |\n",
            " ___|       |\\___/\n",
            "/   \\_______/    \\\n",
            "\\________________/\n",
            "    \n",
            "    \n",
            "\n",
            "        (  )  \n",
            "        )  (   \n",
            "      (   )    \n",
            "     _______\n",
            "    <_______> ___\n",
            "    |       |/ _ \\\n",
            "    |       | | | |\n",
            "    |         |_| |\n",
            " ___|       |\\___/\n",
            "/   \\_______/    \\\n",
            "\\________________/\n",
            "    \n",
            "    \n"
          ]
        }
      ]
    },
    {
      "cell_type": "code",
      "metadata": {
        "id": "BLZXQ9B0ILLW"
      },
      "source": [
        "def print_welcome_message(name, surname):\n",
        "  print(f'Witaj człowieku o imieniu {name} i nazwisku {surname}!')"
      ],
      "execution_count": null,
      "outputs": []
    },
    {
      "cell_type": "code",
      "metadata": {
        "id": "83Z7M0eGI0TH",
        "colab": {
          "base_uri": "https://localhost:8080/"
        },
        "outputId": "74e45939-d885-4e47-acba-bece4da9fc25"
      },
      "source": [
        "print_welcome_message(name='Robert', surname='Trypuz')"
      ],
      "execution_count": null,
      "outputs": [
        {
          "output_type": "stream",
          "name": "stdout",
          "text": [
            "Witaj człowieku o imieniu Robert i nazwisku Trypuz!\n"
          ]
        }
      ]
    },
    {
      "cell_type": "code",
      "metadata": {
        "id": "zoaacpHZL1yY"
      },
      "source": [
        "def print_welcome_message(name=None, surname=None):\n",
        "  if name is None and surname is None:\n",
        "    print('Witaj!')\n",
        "  else:\n",
        "    print(f'Witaj człowieku o imieniu {name} i nazwisku {surname}!')"
      ],
      "execution_count": null,
      "outputs": []
    },
    {
      "cell_type": "code",
      "metadata": {
        "id": "sXWfp-sDL6nw",
        "colab": {
          "base_uri": "https://localhost:8080/"
        },
        "outputId": "7da42baa-fe05-477e-8b86-ff65d574d61d"
      },
      "source": [
        "print_welcome_message()"
      ],
      "execution_count": null,
      "outputs": [
        {
          "output_type": "stream",
          "name": "stdout",
          "text": [
            "Witaj!\n"
          ]
        }
      ]
    },
    {
      "cell_type": "code",
      "metadata": {
        "id": "mhtJIPLnb-iw",
        "colab": {
          "base_uri": "https://localhost:8080/"
        },
        "outputId": "29209cde-f961-4a69-c045-096eed0efb59"
      },
      "source": [
        "def product_info(product_name, country_of_orgin='Polska'):\n",
        "  print(f'Nazwa produktu: {product_name}, kraj pochodzenia: {country_of_orgin}')\n",
        "\n",
        "product_info('kiełbasa')\n",
        "product_info('kawa', 'Nigeria')"
      ],
      "execution_count": null,
      "outputs": [
        {
          "output_type": "stream",
          "name": "stdout",
          "text": [
            "Nazwa produktu: kiełbasa, kraj pochodzenia: Polska\n",
            "Nazwa produktu: kawa, kraj pochodzenia: Nigeria\n"
          ]
        }
      ]
    },
    {
      "cell_type": "code",
      "metadata": {
        "id": "mMnbauXRe2ZI",
        "colab": {
          "base_uri": "https://localhost:8080/"
        },
        "outputId": "5527f337-9e91-451c-c02f-1d41d93a41f7"
      },
      "source": [
        "def print_awart_winners(list_of_winners):\n",
        "  print('Oto nasi zwycięzcy:')\n",
        "  for winner in list_of_winners:\n",
        "    print('-', winner)\n",
        "\n",
        "print_awart_winners(['Jan z Warszawy', 'Maria z Grudziądza', 'Janina z Sokółki'])"
      ],
      "execution_count": null,
      "outputs": [
        {
          "output_type": "stream",
          "name": "stdout",
          "text": [
            "Oto nasi zwycięzcy:\n",
            "- Jan z Warszawy\n",
            "- Maria z Grudziądza\n",
            "- Janina z Sokółki\n"
          ]
        }
      ]
    },
    {
      "cell_type": "code",
      "metadata": {
        "id": "qhM1nMNey9kR"
      },
      "source": [
        "def create_student_dict(name, surname, date_of_birth, place_of_birth):\n",
        "  student_dict = {'name': name,\n",
        "                  'surname': surname,\n",
        "                  'date_of_birth': date_of_birth,\n",
        "                  'place_of_birth': place_of_birth}\n",
        "  return student_dict"
      ],
      "execution_count": null,
      "outputs": []
    },
    {
      "cell_type": "code",
      "metadata": {
        "id": "du8YoQEGzx5A"
      },
      "source": [
        "students_list = []\n",
        "students_list.append(create_student_dict('Jan', 'Kiełbasa', '12.12.2000', 'Białystok'))\n",
        "students_list.append(create_student_dict('Monika', 'Szacka', '16.04.2000', 'Lublin'))\n",
        "print(students_list)"
      ],
      "execution_count": null,
      "outputs": []
    },
    {
      "cell_type": "code",
      "metadata": {
        "id": "X47o6TWb26bs"
      },
      "source": [
        "def add_foreign_languages(*languages):\n",
        "  if len(languages) > 1:\n",
        "    print('Kandydat zna języki obce:')\n",
        "    for language in languages:\n",
        "      print(f'- {language}')\n",
        "  elif len(languages) == 1:\n",
        "    print(f'Kandydat zna język {languages[0]}.')\n",
        "  else:\n",
        "    print('Z języków obcych to kandyda ogarnia tylko te w swoich w butach.')\n",
        "\n",
        "add_foreign_languages('angielski')"
      ],
      "execution_count": null,
      "outputs": []
    },
    {
      "cell_type": "code",
      "metadata": {
        "id": "BfJsrTPZ5Oe1"
      },
      "source": [
        "def add_foreign_languages(**languages):\n",
        "  if len(languages) > 1:\n",
        "    print('Kandydat zna języki obce:')\n",
        "    for language, level in languages.items():\n",
        "      print(f'- {language}: {level}')\n",
        "  elif len(languages) == 1:\n",
        "    print(f'Kandydat zna język {list(languages.keys())[0]} {languages[list(languages.keys())[0]]}.')\n",
        "  else:\n",
        "    print('Z języków obcych to kandyda ogarnia tylko te w swoich w butach.')\n",
        "\n",
        "add_foreign_languages(angielski = 'biegle', włoski = 'początkująco')"
      ],
      "execution_count": null,
      "outputs": []
    },
    {
      "cell_type": "markdown",
      "metadata": {
        "id": "_erLd1UChTDH"
      },
      "source": [
        "# Pliki"
      ]
    },
    {
      "cell_type": "markdown",
      "metadata": {
        "id": "vGran7BShRUj"
      },
      "source": [
        "## TXT"
      ]
    },
    {
      "cell_type": "code",
      "metadata": {
        "id": "ivWj1pyh0bn-",
        "colab": {
          "base_uri": "https://localhost:8080/"
        },
        "outputId": "edc58d7e-0812-4bdb-b23f-f92e3e8e716a"
      },
      "source": [
        "with open('lista_zakupów.txt', 'w') as file:\n",
        "  file.write('Lista zakupów:\\n')\n",
        "  while True:\n",
        "    product = input('Dodaj produkt (0 aby zakończyć): ')\n",
        "    if product == '0':\n",
        "      break\n",
        "    else:\n",
        "      file.write(f'- {product}\\n')"
      ],
      "execution_count": null,
      "outputs": [
        {
          "name": "stdout",
          "output_type": "stream",
          "text": [
            "Dodaj produkt (0 aby zakończyć): jaja\n",
            "Dodaj produkt (0 aby zakończyć): mleko\n",
            "Dodaj produkt (0 aby zakończyć): 0\n"
          ]
        }
      ]
    },
    {
      "cell_type": "code",
      "metadata": {
        "id": "WlUt3sQb23Y3",
        "colab": {
          "base_uri": "https://localhost:8080/"
        },
        "outputId": "4882ba83-8162-49ec-f0f0-2e139a121231"
      },
      "source": [
        "with open('lista_zakupów.txt', 'r') as file:\n",
        "  print(file.read())"
      ],
      "execution_count": null,
      "outputs": [
        {
          "output_type": "stream",
          "name": "stdout",
          "text": [
            "Lista zakupów:\n",
            "- jaja\n",
            "- mleko\n",
            "\n"
          ]
        }
      ]
    },
    {
      "cell_type": "code",
      "metadata": {
        "id": "nD7trnbA5KU7",
        "colab": {
          "base_uri": "https://localhost:8080/"
        },
        "outputId": "2aba1ab0-750e-4ef5-f66b-62dd33aeb6d8"
      },
      "source": [
        "with open('lista_zakupów.txt', 'r') as file:\n",
        "  for line in file:\n",
        "    print(line)"
      ],
      "execution_count": null,
      "outputs": [
        {
          "output_type": "stream",
          "name": "stdout",
          "text": [
            "Lista zakupów:\n",
            "\n",
            "- jaja\n",
            "\n",
            "- mleko\n",
            "\n"
          ]
        }
      ]
    },
    {
      "cell_type": "code",
      "metadata": {
        "id": "zOzLO5z65wDA",
        "colab": {
          "base_uri": "https://localhost:8080/"
        },
        "outputId": "bff92ffd-4655-4927-b141-4c3ad3ff4c9e"
      },
      "source": [
        "with open('lista_zakupów.txt', 'r') as file:\n",
        "  lines = file.readlines()\n",
        "\n",
        "for line in lines:\n",
        "  print(line)"
      ],
      "execution_count": null,
      "outputs": [
        {
          "output_type": "stream",
          "name": "stdout",
          "text": [
            "Lista zakupów:\n",
            "\n",
            "- jaja\n",
            "\n",
            "- mleko\n",
            "\n"
          ]
        }
      ]
    },
    {
      "cell_type": "markdown",
      "metadata": {
        "id": "h0iBHYf--IOt"
      },
      "source": [
        "## CSV\n"
      ]
    },
    {
      "cell_type": "code",
      "metadata": {
        "id": "AIi2Pd9z-J5v"
      },
      "source": [
        "import csv\n",
        "\n",
        "with open('students.csv', 'w') as file:\n",
        "  csv_writer = csv.writer(file, delimiter=',', quotechar='\"', quoting=csv.QUOTE_MINIMAL)\n",
        "\n",
        "  csv_writer.writerow(['Jan', 'Kiełbasa', '12.12.2000', 'Białystok'])\n",
        "  csv_writer.writerow(['Monika', 'Szacka', '16.04.2000', 'Lublin'])"
      ],
      "execution_count": null,
      "outputs": []
    },
    {
      "cell_type": "code",
      "metadata": {
        "id": "B-hqQiwEvC5k",
        "colab": {
          "base_uri": "https://localhost:8080/"
        },
        "outputId": "3869add3-a44f-482e-ef84-c011eedbc4e2"
      },
      "source": [
        "with open('students.csv', newline='') as file:\n",
        "  csv_reader = csv.reader(file, delimiter=',', quotechar='\"')\n",
        "  for row in csv_reader:\n",
        "    print(f'Imię: {row[0]}\\nNazwisko: {row[1]}\\nData urodzenia: {row[2]}\\nMiejsce urodzenia: {row[3]}\\n')"
      ],
      "execution_count": null,
      "outputs": [
        {
          "output_type": "stream",
          "name": "stdout",
          "text": [
            "Imię: Jan\n",
            "Nazwisko: Kiełbasa\n",
            "Data urodzenia: 12.12.2000\n",
            "Miejsce urodzenia: Białystok\n",
            "\n",
            "Imię: Monika\n",
            "Nazwisko: Szacka\n",
            "Data urodzenia: 16.04.2000\n",
            "Miejsce urodzenia: Lublin\n",
            "\n"
          ]
        }
      ]
    },
    {
      "cell_type": "code",
      "metadata": {
        "id": "1j-DtcjB-2aU"
      },
      "source": [
        "class Student():\n",
        "  def __init__(self, name, surname, id):\n",
        "    self.name = name\n",
        "    self.surname = surname\n",
        "    self.id = id\n",
        "\n",
        "  def change_name(self, new_name):\n",
        "    self.name = new_name\n",
        "\n",
        "  def change_surname(self, new_surname):\n",
        "    self.surname = new_surname\n",
        "\n",
        "  def get_name(self):\n",
        "      print(f'Student(ka) ma na imię {self.name}.')\n",
        "\n",
        "  def get_surname(self):\n",
        "      print(f'Student(ka) ma na nazwisko {self.surname}.')      "
      ],
      "execution_count": null,
      "outputs": []
    },
    {
      "cell_type": "code",
      "metadata": {
        "id": "cwCDIBi1AfLQ"
      },
      "source": [
        "student_1 = Student(name='Jan', surname='Kiełbasa', id=123456)\n",
        "student_1.get_name()\n",
        "student_2 = Student(name='Mariola', surname='Marchewka', id=789012)\n",
        "student_2.get_name()\n",
        "student_2.get_surname()\n",
        "student_2.change_surname('Pietrucha')\n",
        "student_2.get_surname()"
      ],
      "execution_count": null,
      "outputs": []
    },
    {
      "cell_type": "code",
      "metadata": {
        "id": "tSZFzlECF9Yy"
      },
      "source": [
        "student_1.name"
      ],
      "execution_count": null,
      "outputs": []
    }
  ]
}