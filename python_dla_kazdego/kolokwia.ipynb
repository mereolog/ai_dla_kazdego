{
  "nbformat": 4,
  "nbformat_minor": 0,
  "metadata": {
    "colab": {
      "name": "kolokwia.ipynb",
      "provenance": [],
      "collapsed_sections": [],
      "toc_visible": true,
      "authorship_tag": "ABX9TyM7ec3iVBm88i/KNRhNE+Jx",
      "include_colab_link": true
    },
    "kernelspec": {
      "name": "python3",
      "display_name": "Python 3"
    },
    "language_info": {
      "name": "python"
    }
  },
  "cells": [
    {
      "cell_type": "markdown",
      "metadata": {
        "id": "view-in-github",
        "colab_type": "text"
      },
      "source": [
        "<a href=\"https://colab.research.google.com/github/trypuz/ai_dla_kazdego/blob/main/python_dla_kazdego/kolokwia.ipynb\" target=\"_parent\"><img src=\"https://colab.research.google.com/assets/colab-badge.svg\" alt=\"Open In Colab\"/></a>"
      ]
    },
    {
      "cell_type": "markdown",
      "source": [
        "# K1"
      ],
      "metadata": {
        "id": "Z8LgP_u7ot1-"
      }
    },
    {
      "cell_type": "markdown",
      "source": [
        "## Gr. 1\n",
        "1) Napisz program, który z poniższego tekstu wybierze i wyświetli tylko te słowa, których częścią jest słowo \"filozof\" (wielkość liter nie powinna mieć znaczenia).\n",
        "\n",
        "2) Na podstawie poniższego tekstu utwórz słownik, którego kluczami będą słowa, a wartościami liczba ich występowania w tekście.\n",
        "\n",
        "3) Napisz program, który z poniższego tekstu wybierze i wyświetli 10 słów, które mają w sobie min 3 różne samogłoski.\n",
        "\n",
        "\n",
        "Filozofią zajmowano się w Katolickim Uniwersytecie Lubelskim od początku istnienia tej uczelni. W ramach Wydziału Nauk Humanistycznych funkcjonowała sekcja (grupa) nauk filozoficznych. Poza tym zajęcia z zakresu filozofii prowadzono na innych wydziałach. Czołowymi nauczycielami dyscyplin filozoficznych lub pokrewnych byli: ks. Idzi Radziszewski, ks. Stanisław Domińczak, Bohdan Rutkiewicz, Jacek Woroniecki OP, ks. Józef Pastuszka, Henryk Jakubanis, ks. Antoni Szymański. Statut KUL z 1938 r. przewidywał utworzenie, obok dotychczasowych czterech, nowego wydziału filozoficznego.\n",
        "Przerwa wojenna spowodowała, że Wydział Filozofii Chrześcijańskiej erygowano dopiero w 1946 r. (uroczyste otwarcie Wydziału miało miejsce 10 XI 1946 r., zajęcia rozpoczęły się kilka dni wcześniej). Zasadniczą rolę w jego organizacji odegrał ks. Józef Pastuszka, pierwszy dziekan. Obok niego głównymi wykładowcami byli: Stefan Swieżawski, ks. Stanisław Adamczyk, ks. Antoni Korcik, gościnnie Stefan Harassek, nieco później Feliks W. Bednarski OP."
      ],
      "metadata": {
        "id": "MniiqA73o3yo"
      }
    },
    {
      "cell_type": "code",
      "source": [
        ""
      ],
      "metadata": {
        "id": "WFz33fi5qAt5"
      },
      "execution_count": null,
      "outputs": []
    },
    {
      "cell_type": "markdown",
      "source": [
        "## Gr. 2\n",
        "\n",
        "1) Napisz program, który z poniższego tekstu wybierze i wyświetli tylko te słowa, w których litera \"e\" występuje minimum dwa razy. Wybrane słowa wyświetl tylko małymi literami.\n",
        "\n",
        "2) Na podstawie poniższego tekstu utwórz słownik, którego kluczami będą słowa, a wartościami liczba ich występowania w tekście.\n",
        "\n",
        "3) Napisz program, który z poniższego tekstu wyświetli pierwszych 10 słów, które mają więcej niż 10 liter.\n",
        "\n",
        "\n",
        "Katolicki Uniwersytet Lubelski Jana Pawła II jest najstarszą uczelnią Lublina i jednym z najstarszych uniwersytetów w Polsce.\n",
        "Powstał w 1918 r. z inicjatywy ks. Idziego Radziszewskiego, który został pierwszym rektorem. Od początków istnienia zadaniem Uczelni jest służba Bogu i Ojczyźnie - Deo et Patriae.\n",
        "W ciągu swojej prawie 100-letniej historii KUL stał się jednym z najważniejszych ośrodków myśli katolickiej, który wpływał na kształt nauki i kultury polskiej, zyskując szerokie uznanie w kraju i zagranicą.\n",
        "KUL dziś jest Uczelnią otwartą na cywilizacyjne i naukowe wyzwania współczesności. Obok teologii, filozofii, nauk społecznych, prawnych i humanistycznych rozwijane są nauki matematyczne i przyrodnicze, by przygotować studentów do pełnej i odpowiedzialnej pracy dla dobra Ojczyzny i Kościoła."
      ],
      "metadata": {
        "id": "uD7TnAgWo8r-"
      }
    },
    {
      "cell_type": "code",
      "source": [
        ""
      ],
      "metadata": {
        "id": "jwD8x2cpqBeo"
      },
      "execution_count": null,
      "outputs": []
    },
    {
      "cell_type": "markdown",
      "source": [
        "# K2"
      ],
      "metadata": {
        "id": "nFb9Uny9pKK5"
      }
    },
    {
      "cell_type": "markdown",
      "source": [
        "GR. 1\n",
        "\n",
        "1) Napisz funkcję `find_word` (znajdź słowo) o dwóch parametrach: `letter` (litera) i `text` (tekst). Zadaniem funkcji jest wybranie z tekstu (tj. argumentu parametru `text`) słów, w których litera będąca argumentem parametru `letter` występuje minimum dwa razy. Wielkość liter nie powinna mieć znaczenia. Funkcja powinna zwrócić listę znalezionych słów. Zademonstruj działanie funkcji na dowolnym tekście i literze.\n",
        "\n",
        "2) Napisz funkcję `n_letters` o dwóch parametrach: `text` i `number`, która w tekście (tj. argumencie parametru `text`) znajdzie pierwszych n słów, gdzie n, to liczba będąca argumentem parametru `number`, które mają więcej niż n znaków. Funkcja powinna zwrócić listę krotek; krotka powinna składać się z dwóch elementów: (znalezionego) słowa i liczby znaków w tym słowie.\n",
        "\n",
        "3) Napisz funkcję `counter` o jednym parametrze `text`. Zadaniem funkcji jest utworzenie i zwrócenie słownika, którego kluczami będą słowa, a wartościami liczba ich występowania w tekście (argumencie parametru `text`)."
      ],
      "metadata": {
        "id": "ifdR722gpMTf"
      }
    },
    {
      "cell_type": "code",
      "source": [
        "def find_word(letter, text):\n",
        "  words_with_letter = []\n",
        "  text = text.lower().split()\n",
        "  for word in text:\n",
        "    if word.count(letter.lower()) >= 2:\n",
        "      words_with_letter.append(word)\n",
        "  return words_with_letter\n",
        "\n",
        "find_word(letter='o', text='Poszło Olo do przedszkolo.')"
      ],
      "metadata": {
        "id": "ymovVSZZpPJZ"
      },
      "execution_count": null,
      "outputs": []
    },
    {
      "cell_type": "code",
      "source": [
        "def n_letters(text, number):\n",
        "  tuples_list = []\n",
        "  text = text.lower().split()\n",
        "  for word in text:\n",
        "    if len(word) <= number:\n",
        "      tuples_list.append((word, len(word)))\n",
        "      if len(tuples_list) == number:\n",
        "        break\n",
        "  return tuples_list\n",
        "\n",
        "n_letters(text=\"Poszła Ola do przedszkola, Ola smutna była i tak.\", number=3)"
      ],
      "metadata": {
        "id": "5FbPeYD-pc2M"
      },
      "execution_count": null,
      "outputs": []
    },
    {
      "cell_type": "code",
      "source": [
        "def counter(text):\n",
        "  text = text.lower().split()\n",
        "  counts = {}\n",
        "  for word in text:\n",
        "    if word in counts.keys():\n",
        "      counts[word] += 1\n",
        "    else:\n",
        "      counts[word] = 1\n",
        "\n",
        "  return counts\n",
        "\n",
        "counter(text='Poszła Ola do przedszkola, Ola smutna była i tak.')"
      ],
      "metadata": {
        "id": "wTLliq2tpfDe"
      },
      "execution_count": null,
      "outputs": []
    },
    {
      "cell_type": "markdown",
      "source": [
        "GR. 2\n",
        "\n",
        "1) Napisz funkcję `find_word` (znajdź słowo) o dwóch parametrach `word` (słowo) i `text` (tekst). Zadaniem funkcji jest wybranie z tekstu (tj. argumentu parametru `text`) słów, których częścią jest słowo, które będzie argumentem parametru `word`. Wielkość liter nie powinna mieć znaczenia. Funkcja powinna zwrócić listę znalezionych słów. Zademonstruj działanie funkcji na dowolnym tekście i słowie.\n",
        "\n",
        "2) Napisz funkcję `counter` o jednym parametrze `text`. Zadaniem funkcji jest utworzenie i zwrócenie słownika, którego kluczami będą słowa, a wartościami liczba ich występowania w tekście (argumencie parametru `text`).\n",
        "\n",
        "3) Napisz funkcję `vowel` o jednym parametrze `word`, która sprawdzi, czy w słowie będącym argumentem parametru `word` są min 3 różne samogłoski. Funkcja powinna zwrócić `True` jeśli tak jest albo `False` w przeciwnym wypadku."
      ],
      "metadata": {
        "id": "-e24USPlpSd0"
      }
    },
    {
      "cell_type": "code",
      "source": [
        ""
      ],
      "metadata": {
        "id": "JOv3njlApnSc"
      },
      "execution_count": null,
      "outputs": []
    },
    {
      "cell_type": "markdown",
      "source": [
        "# K2 poprawkowe"
      ],
      "metadata": {
        "id": "bT_xJAU0ps9S"
      }
    },
    {
      "cell_type": "markdown",
      "source": [
        "1) Napisz funkcję `anagram`, której parametrami będą dwa wyrażenia (lub słowa) `phrase1` i `phrase2`. Zadaniem funkcji jest sprawdzenie, czy wyrażenie pierwsze (tj. argument parametru `phrase1`) jest anagramem wyrażenia drugiego (tj. argumentu parametru `phrase2`). Funkcja powinna zwrócić `True` jeśli tak jest i `False` w przeciwnym wypadku. Wielkość liter nie powinna mieć znaczenia. \n",
        "\n",
        "Zademonstruj działanie funkcji.\n"
      ],
      "metadata": {
        "id": "G8lqeNuppvfn"
      }
    },
    {
      "cell_type": "code",
      "source": [
        ""
      ],
      "metadata": {
        "id": "J6eNp057pxq0"
      },
      "execution_count": null,
      "outputs": []
    },
    {
      "cell_type": "markdown",
      "source": [
        "2) Napisz funkcję `palindrom`, której parametrem będzie wyrażenie `phrase`. Zadaniem funkcji jest sprawdzenie, czy wyrażenie (tj. argument parametru `phrase`) jest palindromem. Funkcja powinna zwrócić `True` jeśli tak jest i `False` w przeciwnym wypadku. Wielkość liter nie powinna mieć znaczenia. \n",
        "\n",
        "Zademonstruj działanie funkcji.\n"
      ],
      "metadata": {
        "id": "jGe2Il-2pyEp"
      }
    },
    {
      "cell_type": "code",
      "source": [
        ""
      ],
      "metadata": {
        "id": "TFJPhIdKp0Jh"
      },
      "execution_count": null,
      "outputs": []
    },
    {
      "cell_type": "markdown",
      "source": [
        "3) Napisz funkcję `count_letters`, której parametrem będzie wyrażenie `phrase`. Zadaniem funkcji jest zlicznie w podanym wyrażeniu (tj. argumencie parametru `phrase`):\n",
        "- liczby samogłosek\n",
        "- liczby spółgłosek\n",
        "- liczby liter zapisanych wielką literą\n",
        "- liczby liter zapisanych małą literą. \n",
        "\n",
        "Funkcja powinna zwrócić te cztery wartości w postaci słownika.\n",
        "\n",
        "\n",
        "Zademonstruj działanie funkcji.\n"
      ],
      "metadata": {
        "id": "FJNxTUwTp0g_"
      }
    },
    {
      "cell_type": "code",
      "source": [
        ""
      ],
      "metadata": {
        "id": "rk_QnDPGp22X"
      },
      "execution_count": null,
      "outputs": []
    },
    {
      "cell_type": "markdown",
      "source": [
        "# K3"
      ],
      "metadata": {
        "id": "r9a88q4KqNhP"
      }
    },
    {
      "cell_type": "markdown",
      "source": [
        "\n",
        "### Gr. 1\n",
        "\n",
        "Utwórz klasę `Restaurant` z konstruktorem z parametrami `dishes_in_menu_number` (liczba dań w menu) i  `menu` (niech pusty słownik będzie wartością domyślną) oraz metodami opisanymi poniżej.\n",
        "\n",
        "- Metoda `see_menu` (bez parametrów) wyświetla aktualne menu w postaci ładnie sformatowanej listy, np.:\n",
        "  ```\n",
        "  Oto pełne menu:\n",
        "  - pierogi - 20 zł\n",
        "  - bigos - 10 zł\n",
        "  ```\n",
        "\n",
        "- Metoda `add_to_menu` (bez parametrów) pozwala na dodanie dania do menu o ile liczba dań aktualnie będących w menu jest mniejsza od `dishes_in_menu_number`. Jeśli by tak nie było, powinna poinformować, że `Menu jest kompletne. Musisz coś usunąć, aby dodać nowe danie.`\n",
        "Menu jest słownikiem, w którym kluczami są nazwy dań, a wartościami ich ceny (same liczby, bez \"zł\"). \n",
        "Metoda nie powinna pozwolić na dodanie do menu dania bez nazwy lub bez ceny (będącej liczbą). Powinna też sprawdzić, czy danie nie jest już w menu. W przypadku, gdy użytkownik wprowadzi \"pustą\" nazwę dania, metoda powinna ponownie poprosić o podanie nazwy. Podobnie z ceną gdy użytkownik wprowadzi \"pustą\" cenę lub ciąg znaków, który nie jest liczbą. \n",
        "Na koniec metoda powinna wyświetlić aktualne menu korzystając z metody `see_menu`.\n",
        "\n",
        "- Metoda `add_n_dishes_to_menu` z jednym parametrem `n` będącym liczną dań jakie chcemy dodać do menu. Metoda powinna najpierw sprawdzić, czy jest możliwe dodanie `n` dań do aktualnego menu (tj. czy po dodaniu nie zostanie przekroczony `dishes_in_menu_number`). Jeśli nie jest możliwe, to powinna powinformować ile maksymalnie dań można jeszcze dodać. Jeśli możliwe jest dodanie `n` dań, powinna to umożliwić wykorzystując `n` razy metodę `add_to_menu`.\n",
        "\n",
        "- Medoda `remove_from_menu` z jednym parametrem `dish_name` pozwala na uzunięcie z menu dania o nazwie `dish_name`. Oczywiście metoda powinna sprawdzić, czy takie danie w ogóle jest menu i jeśli nie to o tym poinformować `Danie od nazwie ... zostało usunięte z menu.` (w miejscu kropek powinna być nazwa dania). Jeśli takie danie ustnieje powinna je usunąć i poinformować o tym.\n",
        "\n",
        "- Metoda `save_menu_to_csv_file` (bez parametrów), która zapisze menu w pliku CSV o nazwie `menu.csv`. Powinny być 2 kolumny, w jednej nazwa dania, a w drugiej cena.\n",
        "\n",
        "Na koniec stwórz przykładowy egzemplarz tej klasy i zademonstruj działanie wszystkich metod."
      ],
      "metadata": {
        "id": "JwqE1xX9qO3z"
      }
    },
    {
      "cell_type": "code",
      "source": [
        "class Restaurant():\n",
        "  def __init__(self, dishes_number, menu = {}):\n",
        "    self.dishes_number = dishes_number\n",
        "    self.menu = menu\n",
        "\n",
        "\n",
        "  def see_menu(self):\n",
        "    if self.menu:\n",
        "      for key, value in self.menu.items():\n",
        "        print(f'{key} - {value} zł')\n",
        "    else:\n",
        "      print('Menu jest puste!')\n",
        "\n",
        "\n",
        "  def add_to_menu(self):\n",
        "    current_dishes_number = len(self.menu)\n",
        "    if current_dishes_number < self.dishes_number:\n",
        "      \n",
        "      dish = input('\\tPodaj nazwę dania: ')\n",
        "      while not dish or dish in self.menu.keys():\n",
        "        print('\\tDanie jest już w menu! Spróbuj jeszcze raz.')\n",
        "        dish = input('\\tPodaj nazwę dania: ')\n",
        "      \n",
        "      price = input(f'\\tPodaj cenę dania \"{dish}\": ')\n",
        "      while not price or not price.isdigit():\n",
        "        print(f'\\tPodane cena dania {dish} jest niepoprawna. Spróbuj jeszcze raz.')\n",
        "        price = input(f'\\tPodaj cenę dania \"{dish}\": ')\n",
        "\n",
        "      self.menu[dish] = price\n",
        "  \n",
        "    else:\n",
        "      print('Menu jest kompletne. Musisz coś usunąć, aby dodać nowe danie.')\n",
        "\n",
        "    print('Oto aktualne menu:')\n",
        "    self.see_menu()\n",
        "\n",
        "\n",
        "  def add_n_dishes_to_menu(self, n):\n",
        "    if len(self.menu) + n <= self.dishes_number:\n",
        "      for i in range(n):\n",
        "        self.add_to_menu()\n",
        "    else:\n",
        "      print(f'Możesz dodać co najwyżej {self.dishes_number - len(self.menu)} danie/dania/dań.')\n",
        "\n",
        "  def remove_from_menu(self, dish_name):\n",
        "    if dish_name in self.menu.keys():\n",
        "      del self.menu[dish_name]\n",
        "      print(f'Danie od nazwie \"{dish_name}\" zostało usunięte z menu.')\n",
        "    else:\n",
        "      print(f'Nie ma dania od nazwie \"{dish_name}\" w aktualnum menu.')\n",
        "\n",
        "  def save_menu_to_csv_file(self):\n",
        "    pass\n",
        "\n",
        "\n",
        "restaurant = Restaurant(2)\n",
        "restaurant.see_menu()\n",
        "restaurant.add_to_menu()"
      ],
      "metadata": {
        "id": "NJXimBj8qR0h"
      },
      "execution_count": null,
      "outputs": []
    },
    {
      "cell_type": "code",
      "source": [
        "restaurant.add_n_dishes_to_menu(2)"
      ],
      "metadata": {
        "id": "yhFbvH8uqWzh"
      },
      "execution_count": null,
      "outputs": []
    },
    {
      "cell_type": "code",
      "source": [
        "restaurant.add_n_dishes_to_menu(1)"
      ],
      "metadata": {
        "id": "TvVyW5KuqZFg"
      },
      "execution_count": null,
      "outputs": []
    },
    {
      "cell_type": "code",
      "source": [
        "restaurant.remove_from_menu('bogosu')"
      ],
      "metadata": {
        "id": "seaB-y8WqaZ7"
      },
      "execution_count": null,
      "outputs": []
    },
    {
      "cell_type": "code",
      "source": [
        "restaurant.remove_from_menu('bigos')"
      ],
      "metadata": {
        "id": "4RXwasvZqbo3"
      },
      "execution_count": null,
      "outputs": []
    },
    {
      "cell_type": "code",
      "source": [
        "restaurant.see_menu()"
      ],
      "metadata": {
        "id": "NHVQb6yGqdk_"
      },
      "execution_count": null,
      "outputs": []
    }
  ]
}