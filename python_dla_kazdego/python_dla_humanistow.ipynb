{
  "nbformat": 4,
  "nbformat_minor": 0,
  "metadata": {
    "colab": {
      "name": "python_dla_humanistow.ipynb",
      "provenance": [],
      "collapsed_sections": [],
      "toc_visible": true,
      "authorship_tag": "ABX9TyNChKV1YGWLPuyIaR8Zsz8T",
      "include_colab_link": true
    },
    "kernelspec": {
      "name": "python3",
      "display_name": "Python 3"
    },
    "language_info": {
      "name": "python"
    }
  },
  "cells": [
    {
      "cell_type": "markdown",
      "metadata": {
        "id": "view-in-github",
        "colab_type": "text"
      },
      "source": [
        "<a href=\"https://colab.research.google.com/github/trypuz/ai_dla_kazdego/blob/main/python_dla_kazdego/python_dla_humanistow.ipynb\" target=\"_parent\"><img src=\"https://colab.research.google.com/assets/colab-badge.svg\" alt=\"Open In Colab\"/></a>"
      ]
    },
    {
      "cell_type": "markdown",
      "metadata": {
        "id": "eYBSjHBGVpHe"
      },
      "source": [
        "# Pierwsza linia kodu"
      ]
    },
    {
      "cell_type": "code",
      "metadata": {
        "id": "7kFBMu59Lo08",
        "colab": {
          "base_uri": "https://localhost:8080/"
        },
        "outputId": "7a643799-94ef-4dba-f06c-c3cb8c7b1e09"
      },
      "source": [
        "print('coś')"
      ],
      "execution_count": null,
      "outputs": [
        {
          "output_type": "stream",
          "name": "stdout",
          "text": [
            "coś\n"
          ]
        }
      ]
    },
    {
      "cell_type": "markdown",
      "metadata": {
        "id": "KiurPhRnV97U"
      },
      "source": [
        "# Napisy i zmienne"
      ]
    },
    {
      "cell_type": "code",
      "metadata": {
        "id": "ckK0vQ-DVKmb",
        "colab": {
          "base_uri": "https://localhost:8080/",
          "height": 165
        },
        "outputId": "15fc4b87-c10c-45ca-e46f-bd6ad6ec4a58"
      },
      "source": [
        "print(coś)"
      ],
      "execution_count": null,
      "outputs": [
        {
          "output_type": "error",
          "ename": "NameError",
          "evalue": "ignored",
          "traceback": [
            "\u001b[0;31m---------------------------------------------------------------------------\u001b[0m",
            "\u001b[0;31mNameError\u001b[0m                                 Traceback (most recent call last)",
            "\u001b[0;32m<ipython-input-2-c086928e158e>\u001b[0m in \u001b[0;36m<module>\u001b[0;34m()\u001b[0m\n\u001b[0;32m----> 1\u001b[0;31m \u001b[0mprint\u001b[0m\u001b[0;34m(\u001b[0m\u001b[0mcoś\u001b[0m\u001b[0;34m)\u001b[0m\u001b[0;34m\u001b[0m\u001b[0;34m\u001b[0m\u001b[0m\n\u001b[0m",
            "\u001b[0;31mNameError\u001b[0m: name 'coś' is not defined"
          ]
        }
      ]
    },
    {
      "cell_type": "code",
      "metadata": {
        "id": "AUJ506b5VMRR",
        "colab": {
          "base_uri": "https://localhost:8080/"
        },
        "outputId": "20151c98-ad32-44d7-d227-02c90e18e3ab"
      },
      "source": [
        "current_year = 2021\n",
        "print(current_year)"
      ],
      "execution_count": null,
      "outputs": [
        {
          "output_type": "stream",
          "name": "stdout",
          "text": [
            "2021\n"
          ]
        }
      ]
    },
    {
      "cell_type": "code",
      "source": [
        "current_year = 2022\n",
        "print(current_year)"
      ],
      "metadata": {
        "colab": {
          "base_uri": "https://localhost:8080/"
        },
        "id": "V9DEupkPGO7m",
        "outputId": "5530b278-7130-462f-bede-9a3a50aa5ace"
      },
      "execution_count": null,
      "outputs": [
        {
          "output_type": "stream",
          "name": "stdout",
          "text": [
            "2022\n"
          ]
        }
      ]
    },
    {
      "cell_type": "code",
      "metadata": {
        "id": "XqU0lPFTWCly",
        "colab": {
          "base_uri": "https://localhost:8080/"
        },
        "outputId": "33f63d8e-6a4f-4091-d566-c5716776f479"
      },
      "source": [
        "print('Witaj świecie!')"
      ],
      "execution_count": null,
      "outputs": [
        {
          "output_type": "stream",
          "name": "stdout",
          "text": [
            "Witaj świecie!\n"
          ]
        }
      ]
    },
    {
      "cell_type": "code",
      "metadata": {
        "id": "2cAQMhipWIBd",
        "colab": {
          "base_uri": "https://localhost:8080/"
        },
        "outputId": "d446ebf0-fddd-4df1-f59e-3815dc617488"
      },
      "source": [
        "print('Ala' + ' ma ' + 'kota.')"
      ],
      "execution_count": null,
      "outputs": [
        {
          "output_type": "stream",
          "name": "stdout",
          "text": [
            "Ala ma kota.\n"
          ]
        }
      ]
    },
    {
      "cell_type": "code",
      "source": [
        "print('10' + '5')"
      ],
      "metadata": {
        "colab": {
          "base_uri": "https://localhost:8080/"
        },
        "id": "LWL03BmzHjkZ",
        "outputId": "2e8f716e-b363-4605-c1cb-113144f57d64"
      },
      "execution_count": null,
      "outputs": [
        {
          "output_type": "stream",
          "name": "stdout",
          "text": [
            "105\n"
          ]
        }
      ]
    },
    {
      "cell_type": "code",
      "source": [
        "print(10 + 5)"
      ],
      "metadata": {
        "colab": {
          "base_uri": "https://localhost:8080/"
        },
        "id": "3HemD1IUHma6",
        "outputId": "1fa704ed-dc6d-4ccd-bfc7-90c79dc26e01"
      },
      "execution_count": null,
      "outputs": [
        {
          "output_type": "stream",
          "name": "stdout",
          "text": [
            "15\n"
          ]
        }
      ]
    },
    {
      "cell_type": "code",
      "metadata": {
        "id": "4P1IueWqWVnN",
        "colab": {
          "base_uri": "https://localhost:8080/"
        },
        "outputId": "8c87e68f-42b2-4254-a311-acded46de5db"
      },
      "source": [
        "print('Ala', 'ma', 'kota.')"
      ],
      "execution_count": null,
      "outputs": [
        {
          "output_type": "stream",
          "name": "stdout",
          "text": [
            "Ala ma kota.\n"
          ]
        }
      ]
    },
    {
      "cell_type": "code",
      "metadata": {
        "id": "AuuMvB3O7kGE",
        "colab": {
          "base_uri": "https://localhost:8080/"
        },
        "outputId": "24411b10-0e59-4e5d-9ac7-8c72e06b6b2c"
      },
      "source": [
        "print('Ala', 'ma', 'kota', sep='-', end='.')"
      ],
      "execution_count": null,
      "outputs": [
        {
          "output_type": "stream",
          "name": "stdout",
          "text": [
            "Ala-ma-kota."
          ]
        }
      ]
    },
    {
      "cell_type": "code",
      "metadata": {
        "id": "2dX1iq_KWbid",
        "colab": {
          "base_uri": "https://localhost:8080/"
        },
        "outputId": "45ac9d03-3906-4ffb-da90-c6e24be8c502"
      },
      "source": [
        "print('\\tPink Floyd') # tabulacja"
      ],
      "execution_count": null,
      "outputs": [
        {
          "output_type": "stream",
          "name": "stdout",
          "text": [
            "\tPink Floyd\n"
          ]
        }
      ]
    },
    {
      "cell_type": "code",
      "metadata": {
        "id": "qbCWp1-YWd0f",
        "colab": {
          "base_uri": "https://localhost:8080/"
        },
        "outputId": "60dc28cd-04a7-4688-d4f1-f5208d8f6a1e"
      },
      "source": [
        "print('Pink\\nFloyd') # nowa linia"
      ],
      "execution_count": null,
      "outputs": [
        {
          "output_type": "stream",
          "name": "stdout",
          "text": [
            "Pink\n",
            "Floyd\n"
          ]
        }
      ]
    },
    {
      "cell_type": "code",
      "metadata": {
        "id": "3TpH7XB1Wtjt",
        "colab": {
          "base_uri": "https://localhost:8080/"
        },
        "outputId": "2917534a-6160-4c14-bf0f-cc80f716538b"
      },
      "source": [
        "len('Ummagumma') # liczba znaków"
      ],
      "execution_count": null,
      "outputs": [
        {
          "output_type": "execute_result",
          "data": {
            "text/plain": [
              "9"
            ]
          },
          "metadata": {},
          "execution_count": 17
        }
      ]
    },
    {
      "cell_type": "code",
      "metadata": {
        "id": "BffvgstaWuYl",
        "colab": {
          "base_uri": "https://localhost:8080/"
        },
        "outputId": "9be5ee2b-3303-4fde-b4e6-6236f36bc13b"
      },
      "source": [
        "len('Ummagumma      ')"
      ],
      "execution_count": null,
      "outputs": [
        {
          "output_type": "execute_result",
          "data": {
            "text/plain": [
              "15"
            ]
          },
          "metadata": {},
          "execution_count": 23
        }
      ]
    },
    {
      "cell_type": "code",
      "metadata": {
        "id": "AkVJP6adW3SE",
        "colab": {
          "base_uri": "https://localhost:8080/"
        },
        "outputId": "ae25684f-49e1-4d73-9bc4-ed39c6e12af6"
      },
      "source": [
        "len('       Ummagumma ')"
      ],
      "execution_count": null,
      "outputs": [
        {
          "output_type": "execute_result",
          "data": {
            "text/plain": [
              "17"
            ]
          },
          "metadata": {},
          "execution_count": 22
        }
      ]
    },
    {
      "cell_type": "code",
      "metadata": {
        "id": "nXYTZ2ZhW84d",
        "colab": {
          "base_uri": "https://localhost:8080/"
        },
        "outputId": "d646665e-dd63-43b5-f137-e2b0d950882b"
      },
      "source": [
        "print(' Ummagumma      '.rstrip()) # usuwanie wszytkich spacji z prawej strony napisu\n",
        "print('      Ummagumma '.lstrip()) # usuwanie wszytkich spacji z lewej strony napisu\n",
        "print('    Ummagumma   '.strip())  # usuwanie wszytkich spacji z obu stron napisu"
      ],
      "execution_count": null,
      "outputs": [
        {
          "output_type": "stream",
          "name": "stdout",
          "text": [
            " Ummagumma\n",
            "Ummagumma \n",
            "Ummagumma\n"
          ]
        }
      ]
    },
    {
      "cell_type": "code",
      "metadata": {
        "id": "hn_13eu8W-B4",
        "colab": {
          "base_uri": "https://localhost:8080/"
        },
        "outputId": "6fd8760e-0ea9-41db-eeee-4be7d3975d54"
      },
      "source": [
        "print(len(' Ummagumma      '.rstrip())) \n",
        "print(len('      Ummagumma '.lstrip())) \n",
        "print(len('    Ummagumma   '.strip()))  "
      ],
      "execution_count": null,
      "outputs": [
        {
          "output_type": "stream",
          "name": "stdout",
          "text": [
            "10\n",
            "10\n",
            "9\n"
          ]
        }
      ]
    },
    {
      "cell_type": "code",
      "metadata": {
        "id": "UQ4dHC0PXDfr",
        "colab": {
          "base_uri": "https://localhost:8080/"
        },
        "outputId": "06347836-ad0d-474b-bb0f-fb9564efae4f"
      },
      "source": [
        "print('robert trypuz'.title())\n",
        "print('RoBert TrypUz'.title())\n",
        "print('robert trypuz'.upper())\n",
        "print('RoBert TrypUz'.lower())"
      ],
      "execution_count": null,
      "outputs": [
        {
          "output_type": "stream",
          "name": "stdout",
          "text": [
            "Robert Trypuz\n",
            "Robert Trypuz\n",
            "ROBERT TRYPUZ\n",
            "robert trypuz\n"
          ]
        }
      ]
    },
    {
      "cell_type": "code",
      "metadata": {
        "id": "5cMEB0O2VPMb",
        "colab": {
          "base_uri": "https://localhost:8080/"
        },
        "outputId": "36dae0a7-e7a0-4ff8-9dee-ac7bbcde156d"
      },
      "source": [
        "current_year = 2021\n",
        "my_age = current_year - 1979\n",
        "print(my_age)"
      ],
      "execution_count": null,
      "outputs": [
        {
          "output_type": "stream",
          "name": "stdout",
          "text": [
            "42\n"
          ]
        }
      ]
    },
    {
      "cell_type": "code",
      "metadata": {
        "id": "eZDjZTSpNl83",
        "colab": {
          "base_uri": "https://localhost:8080/"
        },
        "outputId": "8a5a98b3-3114-4cd0-99c2-562cc4fdabbd"
      },
      "source": [
        "print('Mam', my_age, 'lat(a).')\n",
        "print('Mam %d lat(a).' % my_age)\n",
        "print('Mam %s lat(a).' % my_age)\n",
        "print('Mam {} lat(a).'.format(my_age))\n",
        "print(f'Mam {my_age} lat(a).')"
      ],
      "execution_count": null,
      "outputs": [
        {
          "output_type": "stream",
          "name": "stdout",
          "text": [
            "Mam 42 lat(a).\n",
            "Mam 42 lat(a).\n",
            "Mam 42 lat(a).\n",
            "Mam 42 lat(a).\n",
            "Mam 42 lat(a).\n"
          ]
        }
      ]
    },
    {
      "cell_type": "code",
      "source": [
        "print('Podaj swoje imię: ')\n",
        "name = input()\n",
        "print(f'Witaj {name.title()}!')\n",
        "print(f'Twoje imię ma {len(name)} znaków.')"
      ],
      "metadata": {
        "colab": {
          "base_uri": "https://localhost:8080/"
        },
        "id": "0rQGD-VjJUpt",
        "outputId": "a53d56f2-b5bd-4a7d-c8a7-12867693ca9c"
      },
      "execution_count": null,
      "outputs": [
        {
          "output_type": "stream",
          "name": "stdout",
          "text": [
            "Podaj swoje imię: \n",
            "Robert\n",
            "Witaj Robert!\n",
            "Twoje imię ma 6 znaków.\n"
          ]
        }
      ]
    },
    {
      "cell_type": "code",
      "metadata": {
        "id": "ttPv59FuZJUG",
        "colab": {
          "base_uri": "https://localhost:8080/"
        },
        "outputId": "cc5bf7cd-31d4-4896-fbf9-7031cbe2f43f"
      },
      "source": [
        "# slicing\n",
        "print('Robert Trypuz'[3:10])\n",
        "print('Robert Trypuz'[3:10:2])"
      ],
      "execution_count": null,
      "outputs": [
        {
          "output_type": "stream",
          "name": "stdout",
          "text": [
            "ert Try\n",
            "etTy\n"
          ]
        }
      ]
    },
    {
      "cell_type": "code",
      "metadata": {
        "id": "fyQXfZfKNAGH",
        "colab": {
          "base_uri": "https://localhost:8080/"
        },
        "outputId": "8695e015-c07d-4af9-db4f-b01c18feafbc"
      },
      "source": [
        "t = 'Thor, syn Odyna, odpowiednik południowogermańskiego Donara, jeden z głównych bogów nordyckich'\n",
        "m = t[19]+t[12]+t[0:3]+t[8]+t[5]+t[60]+t[23]+t[6]+t[0]+t[5]+t[6]+t[32]+t[19]+t[23]+t[3]\n",
        "print(m.capitalize(), end='!')"
      ],
      "execution_count": null,
      "outputs": [
        {
          "output_type": "stream",
          "name": "stdout",
          "text": [
            "Python jest super!"
          ]
        }
      ]
    },
    {
      "cell_type": "code",
      "metadata": {
        "id": "mNMPaxtfNhDD"
      },
      "source": [
        "# hello = 'Cześć %s'\n",
        "# print(hello % 'Maciek')"
      ],
      "execution_count": null,
      "outputs": []
    },
    {
      "cell_type": "code",
      "metadata": {
        "id": "Oxg461huoP0p",
        "colab": {
          "base_uri": "https://localhost:8080/"
        },
        "outputId": "ae258e48-1ef0-4185-b79c-846bcd269b5b"
      },
      "source": [
        "yoda_sentence = 'Dwóch zawsze ich jest. Nie mniej, nie więcej. Mistrz i uczeń.'\n",
        "print(yoda_sentence.find('uczeń'))\n",
        "print(yoda_sentence.index('uczeń'))\n",
        "print(yoda_sentence.find('Yoda'))"
      ],
      "execution_count": null,
      "outputs": [
        {
          "output_type": "stream",
          "name": "stdout",
          "text": [
            "55\n",
            "55\n",
            "-1\n"
          ]
        }
      ]
    },
    {
      "cell_type": "code",
      "metadata": {
        "id": "iKqmPyR45VAP",
        "colab": {
          "base_uri": "https://localhost:8080/",
          "height": 165
        },
        "outputId": "d83f2460-9767-4425-8cb7-253458493732"
      },
      "source": [
        "print(yoda_sentence.index('Yoda'))"
      ],
      "execution_count": null,
      "outputs": [
        {
          "output_type": "error",
          "ename": "ValueError",
          "evalue": "ignored",
          "traceback": [
            "\u001b[0;31m---------------------------------------------------------------------------\u001b[0m",
            "\u001b[0;31mValueError\u001b[0m                                Traceback (most recent call last)",
            "\u001b[0;32m<ipython-input-35-9816a4b515ad>\u001b[0m in \u001b[0;36m<module>\u001b[0;34m()\u001b[0m\n\u001b[0;32m----> 1\u001b[0;31m \u001b[0mprint\u001b[0m\u001b[0;34m(\u001b[0m\u001b[0myoda_sentence\u001b[0m\u001b[0;34m.\u001b[0m\u001b[0mindex\u001b[0m\u001b[0;34m(\u001b[0m\u001b[0;34m'Yoda'\u001b[0m\u001b[0;34m)\u001b[0m\u001b[0;34m)\u001b[0m\u001b[0;34m\u001b[0m\u001b[0;34m\u001b[0m\u001b[0m\n\u001b[0m",
            "\u001b[0;31mValueError\u001b[0m: substring not found"
          ]
        }
      ]
    },
    {
      "cell_type": "code",
      "metadata": {
        "id": "MvK3LGQVyQW5",
        "colab": {
          "base_uri": "https://localhost:8080/"
        },
        "outputId": "3e96f2e4-9ad1-4476-babf-c5e2fcb483f2"
      },
      "source": [
        "print(yoda_sentence.count('uczeń'))\n",
        "print(yoda_sentence.count('nie'))"
      ],
      "execution_count": null,
      "outputs": [
        {
          "output_type": "stream",
          "name": "stdout",
          "text": [
            "1\n",
            "2\n"
          ]
        }
      ]
    },
    {
      "cell_type": "code",
      "metadata": {
        "id": "I8LKk9Rj6NzM",
        "colab": {
          "base_uri": "https://localhost:8080/"
        },
        "outputId": "0cda47fe-c791-4059-8f92-2b798c8b15fa"
      },
      "source": [
        "print(yoda_sentence.replace('uczeń','padawan'))"
      ],
      "execution_count": null,
      "outputs": [
        {
          "output_type": "stream",
          "name": "stdout",
          "text": [
            "Dwóch zawsze ich jest. Nie mniej, nie więcej. Mistrz i padawan.\n"
          ]
        }
      ]
    },
    {
      "cell_type": "code",
      "metadata": {
        "id": "BjvwcAjAiRGc",
        "colab": {
          "base_uri": "https://localhost:8080/"
        },
        "outputId": "a766e8eb-3a94-4b5a-97c5-bbef81737345"
      },
      "source": [
        "'ROBERT TRYPUZ'.isupper()"
      ],
      "execution_count": null,
      "outputs": [
        {
          "output_type": "execute_result",
          "data": {
            "text/plain": [
              "True"
            ]
          },
          "metadata": {},
          "execution_count": 38
        }
      ]
    },
    {
      "cell_type": "code",
      "metadata": {
        "id": "75ROgvaujXCN",
        "colab": {
          "base_uri": "https://localhost:8080/"
        },
        "outputId": "111084e9-498f-4c33-d9ea-6d15873be6e7"
      },
      "source": [
        "'KUL'.islower()"
      ],
      "execution_count": null,
      "outputs": [
        {
          "output_type": "execute_result",
          "data": {
            "text/plain": [
              "False"
            ]
          },
          "metadata": {},
          "execution_count": 39
        }
      ]
    },
    {
      "cell_type": "code",
      "metadata": {
        "id": "9LPnbwLhjdIJ",
        "colab": {
          "base_uri": "https://localhost:8080/"
        },
        "outputId": "20625e22-f794-46dc-f9b1-216fcabdf8ec"
      },
      "source": [
        "'Robert'.isalpha()"
      ],
      "execution_count": null,
      "outputs": [
        {
          "output_type": "execute_result",
          "data": {
            "text/plain": [
              "True"
            ]
          },
          "metadata": {},
          "execution_count": 40
        }
      ]
    },
    {
      "cell_type": "code",
      "metadata": {
        "id": "6Sh_mEYxjj-L",
        "colab": {
          "base_uri": "https://localhost:8080/"
        },
        "outputId": "9fd3bf62-f3cc-40e8-a534-2e89805a4d5e"
      },
      "source": [
        "'Robert Trypuz'.isalpha()"
      ],
      "execution_count": null,
      "outputs": [
        {
          "output_type": "execute_result",
          "data": {
            "text/plain": [
              "False"
            ]
          },
          "metadata": {},
          "execution_count": 41
        }
      ]
    },
    {
      "cell_type": "code",
      "metadata": {
        "id": "yvDgucyKjnGC",
        "colab": {
          "base_uri": "https://localhost:8080/"
        },
        "outputId": "e1dcdd62-0f53-4e58-ce14-c30d1054e0ca"
      },
      "source": [
        "'123'.isdigit()"
      ],
      "execution_count": null,
      "outputs": [
        {
          "output_type": "execute_result",
          "data": {
            "text/plain": [
              "True"
            ]
          },
          "metadata": {},
          "execution_count": 42
        }
      ]
    },
    {
      "cell_type": "code",
      "metadata": {
        "id": "Ae59Y4gHjuvw",
        "colab": {
          "base_uri": "https://localhost:8080/"
        },
        "outputId": "3521e85d-7770-4247-fd9f-4fdadc743b0b"
      },
      "source": [
        "'10 000'.isdigit()"
      ],
      "execution_count": null,
      "outputs": [
        {
          "output_type": "execute_result",
          "data": {
            "text/plain": [
              "False"
            ]
          },
          "metadata": {},
          "execution_count": 43
        }
      ]
    },
    {
      "cell_type": "code",
      "metadata": {
        "id": "lDba8XhTjzOP",
        "colab": {
          "base_uri": "https://localhost:8080/"
        },
        "outputId": "19d3ab7b-4fbe-42a7-94b9-bf8cfde525e4"
      },
      "source": [
        "'Robert Trypuz'.endswith('Trypuz')"
      ],
      "execution_count": null,
      "outputs": [
        {
          "output_type": "execute_result",
          "data": {
            "text/plain": [
              "True"
            ]
          },
          "metadata": {},
          "execution_count": 44
        }
      ]
    },
    {
      "cell_type": "markdown",
      "source": [
        "# Liczby"
      ],
      "metadata": {
        "id": "LEe8oWLMSSYV"
      }
    },
    {
      "cell_type": "code",
      "metadata": {
        "id": "LnJh865oSXDE",
        "colab": {
          "base_uri": "https://localhost:8080/"
        },
        "outputId": "d4a8847e-82d8-4fe3-a934-88084e24dde8"
      },
      "source": [
        "print(\"6 + 3 =\", 6 + 3)\n",
        "print(\"6 - 3 =\", 6 - 3)\n",
        "print(\"6 * 3 =\", 6 * 3)\n",
        "print(\"6 / 3 =\", 6 / 3)\n",
        "print(\"6 % 3 =\", 6 % 3)\n",
        "print(\"6 ** 3 =\", 6 ** 3)\n",
        "print(\"7 // 3 =\", 7 // 3)"
      ],
      "execution_count": null,
      "outputs": [
        {
          "output_type": "stream",
          "name": "stdout",
          "text": [
            "6 + 3 = 9\n",
            "6 - 3 = 3\n",
            "6 * 3 = 18\n",
            "6 / 3 = 2.0\n",
            "6 % 3 = 0\n",
            "6 ** 3 = 216\n",
            "7 // 3 = 2\n"
          ]
        }
      ]
    },
    {
      "cell_type": "code",
      "source": [
        "x = 3\n",
        "print(x)"
      ],
      "metadata": {
        "colab": {
          "base_uri": "https://localhost:8080/"
        },
        "id": "5oiIDUiQSfKI",
        "outputId": "de600873-4d77-4359-d14e-4a330e5cb016"
      },
      "execution_count": null,
      "outputs": [
        {
          "output_type": "stream",
          "name": "stdout",
          "text": [
            "3\n"
          ]
        }
      ]
    },
    {
      "cell_type": "code",
      "source": [
        "x = 3\n",
        "x = x + 1\n",
        "print(x)"
      ],
      "metadata": {
        "colab": {
          "base_uri": "https://localhost:8080/"
        },
        "id": "ep_5VeJOSi9P",
        "outputId": "9f0534bb-0bb5-439c-f175-9be3ad64437c"
      },
      "execution_count": null,
      "outputs": [
        {
          "output_type": "stream",
          "name": "stdout",
          "text": [
            "4\n"
          ]
        }
      ]
    },
    {
      "cell_type": "code",
      "source": [
        "x = 3\n",
        "x += 1\n",
        "print(x)"
      ],
      "metadata": {
        "colab": {
          "base_uri": "https://localhost:8080/"
        },
        "id": "mBBTQAa6SrY1",
        "outputId": "78be0671-0da9-4b6a-8dcb-119c8e738143"
      },
      "execution_count": null,
      "outputs": [
        {
          "output_type": "stream",
          "name": "stdout",
          "text": [
            "4\n"
          ]
        }
      ]
    },
    {
      "cell_type": "code",
      "source": [
        "x = 3\n",
        "x *= 2\n",
        "print(x)"
      ],
      "metadata": {
        "colab": {
          "base_uri": "https://localhost:8080/"
        },
        "id": "nua8qDPQSvKs",
        "outputId": "73ac7695-a957-4c8a-9e5d-4c58942ff699"
      },
      "execution_count": null,
      "outputs": [
        {
          "output_type": "stream",
          "name": "stdout",
          "text": [
            "6\n"
          ]
        }
      ]
    },
    {
      "cell_type": "markdown",
      "metadata": {
        "id": "HX74kyavVj74"
      },
      "source": [
        "\n",
        "# Przepływ sterowania"
      ]
    },
    {
      "cell_type": "markdown",
      "source": [
        "## Prawda i fałsz"
      ],
      "metadata": {
        "id": "96sJD9wRTC_R"
      }
    },
    {
      "cell_type": "code",
      "metadata": {
        "id": "gNubQltiU5tl",
        "colab": {
          "base_uri": "https://localhost:8080/"
        },
        "outputId": "79b31f61-8751-4e22-9f40-842c34fde753"
      },
      "source": [
        "2+2 == 4"
      ],
      "execution_count": null,
      "outputs": [
        {
          "output_type": "execute_result",
          "data": {
            "text/plain": [
              "True"
            ]
          },
          "metadata": {},
          "execution_count": 55
        }
      ]
    },
    {
      "cell_type": "code",
      "metadata": {
        "id": "ce_Isrm9VCak",
        "colab": {
          "base_uri": "https://localhost:8080/"
        },
        "outputId": "d5ab6f64-7abc-46c1-9fc1-5bc1eab641d2"
      },
      "source": [
        "16 > 18"
      ],
      "execution_count": null,
      "outputs": [
        {
          "output_type": "execute_result",
          "data": {
            "text/plain": [
              "False"
            ]
          },
          "metadata": {},
          "execution_count": 56
        }
      ]
    },
    {
      "cell_type": "code",
      "metadata": {
        "id": "2TvdIV1MVoR2",
        "colab": {
          "base_uri": "https://localhost:8080/"
        },
        "outputId": "cddee520-6dec-4c01-c7e0-55f3a4501db4"
      },
      "source": [
        "19 >= 18"
      ],
      "execution_count": null,
      "outputs": [
        {
          "output_type": "execute_result",
          "data": {
            "text/plain": [
              "True"
            ]
          },
          "metadata": {},
          "execution_count": 57
        }
      ]
    },
    {
      "cell_type": "markdown",
      "metadata": {
        "id": "36mSiO4kr0Wm"
      },
      "source": [
        "## Instrukcja warunkowa ,,if''"
      ]
    },
    {
      "cell_type": "code",
      "metadata": {
        "id": "zwnhTbK_J378",
        "colab": {
          "base_uri": "https://localhost:8080/"
        },
        "outputId": "f91ef2dd-495c-45df-bef7-3aa9acbfe86b"
      },
      "source": [
        "my_age = 19\n",
        "if my_age >= 18:\n",
        "    print('Jesteś pełnoletni(a) i możesz głosować!')\n",
        "    print('Brawo!')\n",
        "print(f'Masz {my_age} lat(a).')"
      ],
      "execution_count": null,
      "outputs": [
        {
          "output_type": "stream",
          "name": "stdout",
          "text": [
            "Jesteś pełnoletni(a) i możesz głosować!\n",
            "Brawo!\n",
            "Masz 19 lat(a).\n"
          ]
        }
      ]
    },
    {
      "cell_type": "code",
      "metadata": {
        "id": "WRipm9GCNSRi",
        "colab": {
          "base_uri": "https://localhost:8080/"
        },
        "outputId": "a1caf218-fb02-4c3b-ab69-ab37770da114"
      },
      "source": [
        "my_age = 16\n",
        "if my_age >= 18:\n",
        "    print('Jesteś pełnoletni(a) i możesz głosować!')\n",
        "    print('Brawo!')\n",
        "print(f'Masz {my_age} lat(a).')"
      ],
      "execution_count": null,
      "outputs": [
        {
          "output_type": "stream",
          "name": "stdout",
          "text": [
            "Masz 16 lat(a).\n"
          ]
        }
      ]
    },
    {
      "cell_type": "code",
      "metadata": {
        "id": "lryXGVrMR5dK",
        "colab": {
          "base_uri": "https://localhost:8080/"
        },
        "outputId": "3a625147-0c83-489e-a9b2-4763f100f8be"
      },
      "source": [
        "entry = 'Nie zgadzam się z tym stanem rzeczy, kurza twarz!'\n",
        "vulgarism = 'kurza twarz'\n",
        "if entry.count(vulgarism) > 0:\n",
        "  print('Komentarz zawiera wyrażenie uznane za obraźliwe.')"
      ],
      "execution_count": null,
      "outputs": [
        {
          "output_type": "stream",
          "name": "stdout",
          "text": [
            "Komentarz zawiera wyrażenie uznane za obraźliwe.\n"
          ]
        }
      ]
    },
    {
      "cell_type": "code",
      "metadata": {
        "id": "bAPGfPCqU0uW",
        "colab": {
          "base_uri": "https://localhost:8080/"
        },
        "outputId": "50914d18-5668-4ae7-cce6-e27aec482df5"
      },
      "source": [
        "my_age = 14\n",
        "if my_age >= 18:\n",
        "    print('Jesteś pełnoletni(a) i możesz głosować!')\n",
        "else:\n",
        "    print(f'Masz {my_age} lat; nie możesz głosować!')"
      ],
      "execution_count": null,
      "outputs": [
        {
          "output_type": "stream",
          "name": "stdout",
          "text": [
            "Masz 14 lat; nie możesz głosować!\n"
          ]
        }
      ]
    },
    {
      "cell_type": "code",
      "metadata": {
        "id": "p5LSOgzKWos9",
        "colab": {
          "base_uri": "https://localhost:8080/"
        },
        "outputId": "c20b31c2-e243-43b1-e314-e3d5bc1c0e1d"
      },
      "source": [
        "my_age = 15\n",
        "if my_age >= 18:\n",
        "    print('Jesteś pełnoletni(a) i możesz głosować!')\n",
        "elif my_age >= 17:\n",
        "    print(f'Już za rok będziesz głosować!')\n",
        "elif my_age >= 16:\n",
        "    print(f'Już za dwa lata będziesz głosować!')\n",
        "else:\n",
        "   print(f'Masz {my_age} lat; jeszcze poczekasz!')"
      ],
      "execution_count": null,
      "outputs": [
        {
          "output_type": "stream",
          "name": "stdout",
          "text": [
            "Masz 15 lat; jeszcze poczekasz!\n"
          ]
        }
      ]
    },
    {
      "cell_type": "code",
      "source": [
        "print('Podaj literę: ')\n",
        "letter = input()\n",
        "vowels = 'aiueoóyąę'\n",
        "if letter.lower() in vowels:\n",
        "  print(f'Twoja litera \\\"{letter}\\\" jest samogłoską.')\n",
        "else:\n",
        "  print(f'Twoja litera \\\"{letter}\\\" nie jest samogłoską.')"
      ],
      "metadata": {
        "colab": {
          "base_uri": "https://localhost:8080/"
        },
        "id": "RnyISu1wT3rH",
        "outputId": "c6102aab-8583-4bd7-d52b-d34148ebcb30"
      },
      "execution_count": null,
      "outputs": [
        {
          "output_type": "stream",
          "name": "stdout",
          "text": [
            "Podaj literę: \n",
            "a\n",
            "Twoja litera \"a\" jest samogłoską.\n"
          ]
        }
      ]
    },
    {
      "cell_type": "code",
      "metadata": {
        "id": "h0N_uCtcYN0a",
        "colab": {
          "base_uri": "https://localhost:8080/"
        },
        "outputId": "1b8719f0-77fb-43b5-c1fe-ca93c3165b2a"
      },
      "source": [
        "print('Podaj liczbę zdobytych puntków: ')\n",
        "points = int(input())\n",
        "if points > 20:\n",
        "    print(\"Brawo! Piątka!\")\n",
        "elif points > 18:\n",
        "    print(\"Dobry +\")\n",
        "elif points > 16:\n",
        "    print(\"Dobry\")\n",
        "elif points > 14:\n",
        "    print(\"Dostateczny +\")\n",
        "elif points > 12:\n",
        "    print(\"Dostateczny\")\n",
        "else:\n",
        "    print(\"Dwója!\")"
      ],
      "execution_count": null,
      "outputs": [
        {
          "output_type": "stream",
          "name": "stdout",
          "text": [
            "Podaj liczbę zdobytych puntków: \n",
            "12\n",
            "Dwója!\n"
          ]
        }
      ]
    },
    {
      "cell_type": "code",
      "metadata": {
        "id": "78b-x_dtWCF0",
        "colab": {
          "base_uri": "https://localhost:8080/"
        },
        "outputId": "089ae0de-b792-4048-ae4b-bd657435b99b"
      },
      "source": [
        "missed_classes = 3\n",
        "passed_tests = 3 # out of 4\n",
        "class_participation = True\n",
        "\n",
        "if missed_classes >2:\n",
        "   print('Brak zaliczenia z powodu nieobecności!')\n",
        "elif passed_tests <=2:         \n",
        "   print('Brak zaliczenia; nie zaliczyłeś/aś min 3 testów!')\n",
        "elif not class_participation: \n",
        "   print(\"Brak zaliczenia z powodu braku aktywności!\")   \n",
        "else:\n",
        "   print('Zaliczone!', 'Gratulacje!')"
      ],
      "execution_count": null,
      "outputs": [
        {
          "output_type": "stream",
          "name": "stdout",
          "text": [
            "Brak zaliczenia z powodu nieobecności!\n"
          ]
        }
      ]
    },
    {
      "cell_type": "code",
      "metadata": {
        "id": "beKJ2dRTYinT",
        "colab": {
          "base_uri": "https://localhost:8080/"
        },
        "outputId": "0bc7cd28-9e5a-4a77-d00d-a8c1f995f193"
      },
      "source": [
        "missed_classes = 3\n",
        "passed_tests = 3 # out of 4\n",
        "class_participation = True\n",
        "\n",
        "if (missed_classes <= 2) and (passed_tests >=3) and class_participation:\n",
        "  print('Zaliczone!', 'Gratulacje!') \n",
        "else:\n",
        "  print('Brak zaliczenia!')"
      ],
      "execution_count": null,
      "outputs": [
        {
          "output_type": "stream",
          "name": "stdout",
          "text": [
            "Brak zaliczenia!\n"
          ]
        }
      ]
    },
    {
      "cell_type": "markdown",
      "metadata": {
        "id": "v2XSr94Lrtv4"
      },
      "source": [
        "## Pętla while"
      ]
    },
    {
      "cell_type": "code",
      "metadata": {
        "id": "_zBHlqtwrrUR",
        "colab": {
          "base_uri": "https://localhost:8080/"
        },
        "outputId": "8e4f83dd-9fbe-4203-816e-95e765b7d501"
      },
      "source": [
        "i = 1\n",
        "while i <= 4:\n",
        "    print(\"Obrót pętli nr\", i)\n",
        "    i = i + 1"
      ],
      "execution_count": null,
      "outputs": [
        {
          "output_type": "stream",
          "name": "stdout",
          "text": [
            "Obrót pętli nr 1\n",
            "Obrót pętli nr 2\n",
            "Obrót pętli nr 3\n",
            "Obrót pętli nr 4\n"
          ]
        }
      ]
    },
    {
      "cell_type": "code",
      "metadata": {
        "id": "CZ-Qv58rjqHP",
        "colab": {
          "base_uri": "https://localhost:8080/"
        },
        "outputId": "548893c1-cf8a-4559-edb6-4954f1436550"
      },
      "source": [
        "i=1\n",
        "size = 7\n",
        "while i <= size:\n",
        "  print((i*'@')+(((2*size)-(2*i))*' ')+(i*'@'))\n",
        "  i+=1"
      ],
      "execution_count": null,
      "outputs": [
        {
          "output_type": "stream",
          "name": "stdout",
          "text": [
            "@            @\n",
            "@@          @@\n",
            "@@@        @@@\n",
            "@@@@      @@@@\n",
            "@@@@@    @@@@@\n",
            "@@@@@@  @@@@@@\n",
            "@@@@@@@@@@@@@@\n"
          ]
        }
      ]
    },
    {
      "cell_type": "code",
      "metadata": {
        "id": "4Uzoe7XMZU0w",
        "colab": {
          "base_uri": "https://localhost:8080/"
        },
        "outputId": "a6946d10-323c-444e-fcd8-46cc3b2603e2"
      },
      "source": [
        "import random\n",
        "number = random.randint(0,100)\n",
        "print('Komputer właśnie wylosował liczbę z przedziału od 0 do 100.')\n",
        "print('Zgadnij jaka to liczba!')\n",
        "\n",
        "guess = int(input('Podaj liczbę od 0 do 100: '))\n",
        "counter = 1\n",
        "while guess != number:\n",
        "    \n",
        "  if guess > 100:\n",
        "    print('Podana liczba jest większa niż 100!')\n",
        "  elif guess < 0:\n",
        "    print('Podana liczba jest mniejsza od 0!')\n",
        "  elif guess < number:\n",
        "    print(f'Podana liczba {guess} jest mniejsza od szukanej.')\n",
        "  else:\n",
        "    print(f'Podana liczna {guess} jest większa od szukanej.')\n",
        "  \n",
        "  guess = int(input('Podaj liczbę od 0 do 100: '))\n",
        "  counter += 1      # counter = counter + 1\n",
        "print(f'Gratulacje! Podana liczba to {number}!')\n",
        "print(f'Potrzebowałaś/eś {counter} prób!')"
      ],
      "execution_count": null,
      "outputs": [
        {
          "output_type": "stream",
          "name": "stdout",
          "text": [
            "Komputer właśnie wylosował liczbę z przedziału od 0 do 100.\n",
            "Zgadnij jaka to liczba!\n",
            "Podaj liczbę od 0 do 100: 5\n",
            "Podana liczna 5 jest większa od szukanej.\n",
            "Podaj liczbę od 0 do 100: 1\n",
            "Podana liczba 1 jest mniejsza od szukanej.\n",
            "Podaj liczbę od 0 do 100: 3\n",
            "Podana liczna 3 jest większa od szukanej.\n",
            "Podaj liczbę od 0 do 100: 2\n",
            "Gratulacje! Podana liczba to 2!\n",
            "Potrzebowałaś/eś 4 prób!\n"
          ]
        }
      ]
    },
    {
      "cell_type": "code",
      "metadata": {
        "id": "Tvg2-n0j-ZE8"
      },
      "source": [
        "i = 1\n",
        "while i <= 10:\n",
        "   if i > 5:\n",
        "       break\n",
        "   print(i)\n",
        "   i += 1"
      ],
      "execution_count": null,
      "outputs": []
    },
    {
      "cell_type": "code",
      "metadata": {
        "id": "TZUIUzSa-jsH"
      },
      "source": [
        "# continue\n",
        "i = 1\n",
        "while i <= 10:\n",
        "   if i >= 4 and i <= 7:\n",
        "       i += 1\n",
        "       continue\n",
        "   print(i)\n",
        "   i += 1"
      ],
      "execution_count": null,
      "outputs": []
    },
    {
      "cell_type": "code",
      "metadata": {
        "id": "D2fT3p2Vvvik",
        "colab": {
          "base_uri": "https://localhost:8080/"
        },
        "outputId": "303ca76e-6e02-4bb5-80c4-5fc03e308380"
      },
      "source": [
        "menu = '''\n",
        "Wybierz napój:\n",
        "1 - kawa\n",
        "2 - herbata\n",
        "-------------\n",
        "0 - zakończ\n",
        "'''\n",
        "\n",
        "while True:\n",
        "  print(menu)\n",
        "  choice = input('Jaki napój chcesz wybrać? ')\n",
        "  if choice == '1':\n",
        "    print('Nie ma kawy!')\n",
        "  elif choice == '2':\n",
        "    print('Nie ma herbaty!')\n",
        "  elif choice == '0':\n",
        "    print('Dziękujemy za wybranie naszej firmy!')\n",
        "    break\n",
        "  else:\n",
        "    print('Musisz wybrać: 0, 1 lub 2!')"
      ],
      "execution_count": null,
      "outputs": [
        {
          "output_type": "stream",
          "name": "stdout",
          "text": [
            "\n",
            "Wybierz napój:\n",
            "1 - kawa\n",
            "2 - herbata\n",
            "-------------\n",
            "0 - zakończ\n",
            "\n",
            "Jaki napój chcesz wybrać? 0\n",
            "Dziękujemy za wybranie naszej firmy!\n"
          ]
        }
      ]
    },
    {
      "cell_type": "code",
      "metadata": {
        "id": "eF_9DWNVq3R1",
        "colab": {
          "base_uri": "https://localhost:8080/"
        },
        "outputId": "e6c2550e-59dc-4ab3-aa3b-233888816425"
      },
      "source": [
        "menu = '''\n",
        "1 - motywacja\n",
        "2 - więcej motywacji\n",
        "3 - jeszcze więcej motywacji\n",
        "0 - koniec\n",
        "'''\n",
        "\n",
        "while True:\n",
        "  print(menu)\n",
        "  letter = input('Wybierz: ')\n",
        "  if letter == '1':\n",
        "      print('Jesteś zwycięzcą!')\n",
        "  elif letter == '2':\n",
        "      print('Jesteś zwycięzcą! Jesteś zwycięzcą!')\n",
        "  elif letter == '3':\n",
        "        print('Jesteś zwycięzcą! Jesteś zwycięzcą! Jesteś zwycięzcą!')\n",
        "  elif letter == '0':\n",
        "      print('Dobiegłeś do mety i jesteś diamentem!')\n",
        "      break\n",
        "  else:\n",
        "      print('Musisz wybrać między 0, 1, 2 i 3!')"
      ],
      "execution_count": null,
      "outputs": [
        {
          "output_type": "stream",
          "name": "stdout",
          "text": [
            "\n",
            "1 - motywacja\n",
            "2 - więcej motywacji\n",
            "3 - jeszcze więcej motywacji\n",
            "0 - koniec\n",
            "\n",
            "Wybierz: 1\n",
            "Jesteś zwycięzcą!\n",
            "\n",
            "1 - motywacja\n",
            "2 - więcej motywacji\n",
            "3 - jeszcze więcej motywacji\n",
            "0 - koniec\n",
            "\n",
            "Wybierz: 2\n",
            "Jesteś zwycięzcą! Jesteś zwycięzcą!\n",
            "\n",
            "1 - motywacja\n",
            "2 - więcej motywacji\n",
            "3 - jeszcze więcej motywacji\n",
            "0 - koniec\n",
            "\n",
            "Wybierz: 0\n",
            "Dobiegłeś do mety i jesteś diamentem!\n"
          ]
        }
      ]
    },
    {
      "cell_type": "markdown",
      "metadata": {
        "id": "wDidLcmEbeqA"
      },
      "source": [
        "## Pętla ,,for''"
      ]
    },
    {
      "cell_type": "code",
      "metadata": {
        "id": "n2oEXXQoYLN2",
        "colab": {
          "base_uri": "https://localhost:8080/"
        },
        "outputId": "3cacf525-6855-4b5c-f5ae-1b86dc1d87eb"
      },
      "source": [
        "for i in range(5):\n",
        "  print(i)"
      ],
      "execution_count": null,
      "outputs": [
        {
          "output_type": "stream",
          "name": "stdout",
          "text": [
            "0\n",
            "1\n",
            "2\n",
            "3\n",
            "4\n"
          ]
        }
      ]
    },
    {
      "cell_type": "code",
      "source": [
        "midlife_crisis = range(35,46)\n",
        "current_year = 2021\n",
        "my_age = current_year - 1979\n",
        "if my_age in midlife_crisis:\n",
        "  print('Uwaga, może Cię dotknąć kryzys wieku średniego!')"
      ],
      "metadata": {
        "colab": {
          "base_uri": "https://localhost:8080/"
        },
        "id": "Cf4mBK0P36ty",
        "outputId": "aa265c0c-77f5-4866-ccbc-13ea21691e53"
      },
      "execution_count": null,
      "outputs": [
        {
          "output_type": "stream",
          "name": "stdout",
          "text": [
            "Uwaga, może Cię dotknąć kryzys wieku średniego!\n"
          ]
        }
      ]
    },
    {
      "cell_type": "code",
      "source": [
        "for i in midlife_crisis:\n",
        "  print(i)"
      ],
      "metadata": {
        "colab": {
          "base_uri": "https://localhost:8080/"
        },
        "id": "yoRrMdKl4BQb",
        "outputId": "3098f81c-8a8e-4258-a953-e042ab2f2444"
      },
      "execution_count": null,
      "outputs": [
        {
          "output_type": "stream",
          "name": "stdout",
          "text": [
            "35\n",
            "36\n",
            "37\n",
            "38\n",
            "39\n",
            "40\n",
            "41\n",
            "42\n",
            "43\n",
            "44\n",
            "45\n"
          ]
        }
      ]
    },
    {
      "cell_type": "code",
      "source": [
        "for i in range(0,100,10):\n",
        "  print(i)"
      ],
      "metadata": {
        "colab": {
          "base_uri": "https://localhost:8080/"
        },
        "id": "DjSmeLTj4EDm",
        "outputId": "827f4005-4fb2-423b-fb8a-2410f6b7eea9"
      },
      "execution_count": null,
      "outputs": [
        {
          "output_type": "stream",
          "name": "stdout",
          "text": [
            "0\n",
            "10\n",
            "20\n",
            "30\n",
            "40\n",
            "50\n",
            "60\n",
            "70\n",
            "80\n",
            "90\n"
          ]
        }
      ]
    },
    {
      "cell_type": "code",
      "source": [
        "for i in range(10,0,-2):\n",
        "  print(i)"
      ],
      "metadata": {
        "colab": {
          "base_uri": "https://localhost:8080/"
        },
        "id": "xAzRGuj-4HYt",
        "outputId": "bee4a230-2871-4ddc-9bb0-273e1b94c803"
      },
      "execution_count": null,
      "outputs": [
        {
          "output_type": "stream",
          "name": "stdout",
          "text": [
            "10\n",
            "8\n",
            "6\n",
            "4\n",
            "2\n"
          ]
        }
      ]
    },
    {
      "cell_type": "code",
      "metadata": {
        "id": "BGiQGTJmxp8Y",
        "colab": {
          "base_uri": "https://localhost:8080/"
        },
        "outputId": "5533e802-500c-4008-ee71-c404892b25dd"
      },
      "source": [
        "number = 30\n",
        "for i in range(number):\n",
        "  if i == (number // 2):\n",
        "    break\n",
        "  print((((number // 2)- (i+1)) * ' ') + ((2*i)+1) *'$')\n"
      ],
      "execution_count": null,
      "outputs": [
        {
          "output_type": "stream",
          "name": "stdout",
          "text": [
            "              $\n",
            "             $$$\n",
            "            $$$$$\n",
            "           $$$$$$$\n",
            "          $$$$$$$$$\n",
            "         $$$$$$$$$$$\n",
            "        $$$$$$$$$$$$$\n",
            "       $$$$$$$$$$$$$$$\n",
            "      $$$$$$$$$$$$$$$$$\n",
            "     $$$$$$$$$$$$$$$$$$$\n",
            "    $$$$$$$$$$$$$$$$$$$$$\n",
            "   $$$$$$$$$$$$$$$$$$$$$$$\n",
            "  $$$$$$$$$$$$$$$$$$$$$$$$$\n",
            " $$$$$$$$$$$$$$$$$$$$$$$$$$$\n",
            "$$$$$$$$$$$$$$$$$$$$$$$$$$$$$\n"
          ]
        }
      ]
    },
    {
      "cell_type": "markdown",
      "source": [
        "# Struktury danych"
      ],
      "metadata": {
        "id": "lWWwIKMa4RPo"
      }
    },
    {
      "cell_type": "markdown",
      "metadata": {
        "id": "_mW1SxGvJCwe"
      },
      "source": [
        "## Listy"
      ]
    },
    {
      "cell_type": "code",
      "source": [
        "['element 1', 'element 2', 'element 3']"
      ],
      "metadata": {
        "colab": {
          "base_uri": "https://localhost:8080/"
        },
        "id": "xR5gTXBv4pXO",
        "outputId": "c14e7cbb-04ad-4ad1-c905-07ec80a1c8e2"
      },
      "execution_count": null,
      "outputs": [
        {
          "output_type": "execute_result",
          "data": {
            "text/plain": [
              "['element 1', 'element 2', 'element 3']"
            ]
          },
          "metadata": {},
          "execution_count": 12
        }
      ]
    },
    {
      "cell_type": "code",
      "source": [
        "['to', 'jest', 'lista', 'napisów']"
      ],
      "metadata": {
        "colab": {
          "base_uri": "https://localhost:8080/"
        },
        "id": "V7nWERnA4rVg",
        "outputId": "228bb8be-cc6e-47ea-e7bc-c26d13db596b"
      },
      "execution_count": null,
      "outputs": [
        {
          "output_type": "execute_result",
          "data": {
            "text/plain": [
              "['to', 'jest', 'lista', 'napisów']"
            ]
          },
          "metadata": {},
          "execution_count": 13
        }
      ]
    },
    {
      "cell_type": "code",
      "source": [
        "[1, 2, 3]"
      ],
      "metadata": {
        "colab": {
          "base_uri": "https://localhost:8080/"
        },
        "id": "VnSMrUs74tVJ",
        "outputId": "01518cc2-c3bc-40b0-ec9c-6341ef8413e0"
      },
      "execution_count": null,
      "outputs": [
        {
          "output_type": "execute_result",
          "data": {
            "text/plain": [
              "[1, 2, 3]"
            ]
          },
          "metadata": {},
          "execution_count": 14
        }
      ]
    },
    {
      "cell_type": "code",
      "source": [
        "['napis', 1, True]"
      ],
      "metadata": {
        "colab": {
          "base_uri": "https://localhost:8080/"
        },
        "id": "tyTKp1mR4wSB",
        "outputId": "93cac3f0-1db2-4cfe-a655-62e5f09a0bd0"
      },
      "execution_count": null,
      "outputs": [
        {
          "output_type": "execute_result",
          "data": {
            "text/plain": [
              "['napis', 1, True]"
            ]
          },
          "metadata": {},
          "execution_count": 15
        }
      ]
    },
    {
      "cell_type": "code",
      "source": [
        "lista_liczb = [1, 2, 3, 4, 5]\n",
        "lista_liczb"
      ],
      "metadata": {
        "colab": {
          "base_uri": "https://localhost:8080/"
        },
        "id": "2B9ujH1C4ycN",
        "outputId": "2bff255b-8185-4b48-cac4-88b67083ac40"
      },
      "execution_count": null,
      "outputs": [
        {
          "output_type": "execute_result",
          "data": {
            "text/plain": [
              "[1, 2, 3, 4, 5]"
            ]
          },
          "metadata": {},
          "execution_count": 16
        }
      ]
    },
    {
      "cell_type": "code",
      "source": [
        "lista_liczb[0]"
      ],
      "metadata": {
        "colab": {
          "base_uri": "https://localhost:8080/"
        },
        "id": "5zmQOSmW41pK",
        "outputId": "9c076c44-8092-4122-b1c4-fbb2a3e78607"
      },
      "execution_count": null,
      "outputs": [
        {
          "output_type": "execute_result",
          "data": {
            "text/plain": [
              "1"
            ]
          },
          "metadata": {},
          "execution_count": 17
        }
      ]
    },
    {
      "cell_type": "code",
      "source": [
        "lista_liczb[4]"
      ],
      "metadata": {
        "colab": {
          "base_uri": "https://localhost:8080/"
        },
        "id": "mgTKx02s44ob",
        "outputId": "0f2c2f12-b70a-4421-ba4d-48450d7d2b00"
      },
      "execution_count": null,
      "outputs": [
        {
          "output_type": "execute_result",
          "data": {
            "text/plain": [
              "5"
            ]
          },
          "metadata": {},
          "execution_count": 18
        }
      ]
    },
    {
      "cell_type": "code",
      "source": [
        "lista_liczb[-1]"
      ],
      "metadata": {
        "colab": {
          "base_uri": "https://localhost:8080/"
        },
        "id": "wNGej3_e46d0",
        "outputId": "aac759c8-86e2-4f3f-b019-efa909d54b9e"
      },
      "execution_count": null,
      "outputs": [
        {
          "output_type": "execute_result",
          "data": {
            "text/plain": [
              "5"
            ]
          },
          "metadata": {},
          "execution_count": 19
        }
      ]
    },
    {
      "cell_type": "code",
      "metadata": {
        "id": "jX_BSU34xBAK"
      },
      "source": [
        "rainbow = []\n",
        "# czerwony (na zewnątrz łuku), pomarańczowy, żółty, zielony, niebieski, indygo i fioletowy (wewnątrz łuku)"
      ],
      "execution_count": null,
      "outputs": []
    },
    {
      "cell_type": "code",
      "metadata": {
        "id": "bvYBjd0bx92W",
        "colab": {
          "base_uri": "https://localhost:8080/"
        },
        "outputId": "d32bb5d9-f55a-45e8-dc86-0d85f950e040"
      },
      "source": [
        "rainbow.append('czerwony')\n",
        "print(rainbow)"
      ],
      "execution_count": null,
      "outputs": [
        {
          "output_type": "stream",
          "name": "stdout",
          "text": [
            "['czerwony']\n"
          ]
        }
      ]
    },
    {
      "cell_type": "code",
      "metadata": {
        "id": "zmN4gk5vye30",
        "colab": {
          "base_uri": "https://localhost:8080/"
        },
        "outputId": "65e09cbc-c8e6-4322-e193-891eacbaf722"
      },
      "source": [
        "rainbow.append('pomarańczowy')\n",
        "print(rainbow)"
      ],
      "execution_count": null,
      "outputs": [
        {
          "output_type": "stream",
          "name": "stdout",
          "text": [
            "['czerwony', 'pomarańczowy']\n"
          ]
        }
      ]
    },
    {
      "cell_type": "code",
      "metadata": {
        "id": "B8-XOKELQenC"
      },
      "source": [
        "rainbow.append('pomarańczowy')"
      ],
      "execution_count": null,
      "outputs": []
    },
    {
      "cell_type": "code",
      "metadata": {
        "id": "LkGSSMsiN0gI",
        "colab": {
          "base_uri": "https://localhost:8080/"
        },
        "outputId": "9d2d5f8f-ee1b-4d44-b4df-9b1b8d1c8f91"
      },
      "source": [
        "rainbow.count('pomarańczowy')"
      ],
      "execution_count": null,
      "outputs": [
        {
          "output_type": "execute_result",
          "data": {
            "text/plain": [
              "2"
            ]
          },
          "metadata": {},
          "execution_count": 25
        }
      ]
    },
    {
      "cell_type": "code",
      "metadata": {
        "id": "5Zb8qxq_0Wr3",
        "colab": {
          "base_uri": "https://localhost:8080/"
        },
        "outputId": "9174f5bc-ad83-4ab0-8db1-dcb39ca11900"
      },
      "source": [
        "rainbow.remove('pomarańczowy')\n",
        "print(rainbow)"
      ],
      "execution_count": null,
      "outputs": [
        {
          "output_type": "stream",
          "name": "stdout",
          "text": [
            "['czerwony', 'pomarańczowy']\n"
          ]
        }
      ]
    },
    {
      "cell_type": "code",
      "metadata": {
        "id": "VN9iV1Ra07I5",
        "colab": {
          "base_uri": "https://localhost:8080/"
        },
        "outputId": "b4c41c8c-6724-4bf8-8dd6-6f4472c786f6"
      },
      "source": [
        "rainbow.append('zielony')\n",
        "print(rainbow)"
      ],
      "execution_count": null,
      "outputs": [
        {
          "output_type": "stream",
          "name": "stdout",
          "text": [
            "['czerwony', 'pomarańczowy', 'zielony']\n"
          ]
        }
      ]
    },
    {
      "cell_type": "code",
      "metadata": {
        "id": "wEydw3xF3UH5",
        "colab": {
          "base_uri": "https://localhost:8080/",
          "height": 35
        },
        "outputId": "6fa7b734-f511-4c8b-fca6-6c5a52963724"
      },
      "source": [
        "rainbow[1]"
      ],
      "execution_count": null,
      "outputs": [
        {
          "output_type": "execute_result",
          "data": {
            "application/vnd.google.colaboratory.intrinsic+json": {
              "type": "string"
            },
            "text/plain": [
              "'pomarańczowy'"
            ]
          },
          "metadata": {},
          "execution_count": 28
        }
      ]
    },
    {
      "cell_type": "code",
      "metadata": {
        "id": "W4m0MeAn4yXY"
      },
      "source": [
        "rainbow[2] = 'żółty'\n",
        "print(rainbow)"
      ],
      "execution_count": null,
      "outputs": []
    },
    {
      "cell_type": "code",
      "metadata": {
        "id": "chNe4UG77Z5Y",
        "colab": {
          "base_uri": "https://localhost:8080/"
        },
        "outputId": "0dc1d575-c6ba-4cfb-e2ff-e9215b4f7f87"
      },
      "source": [
        "rainbow.append('zielony')\n",
        "print(rainbow)"
      ],
      "execution_count": null,
      "outputs": [
        {
          "output_type": "stream",
          "name": "stdout",
          "text": [
            "['czerwony', 'pomarańczowy', 'żółty', 'zielony']\n"
          ]
        }
      ]
    },
    {
      "cell_type": "code",
      "metadata": {
        "id": "I5oFidqw7r3m",
        "colab": {
          "base_uri": "https://localhost:8080/"
        },
        "outputId": "089ba58d-6bda-4203-dc30-733f9f5b96d0"
      },
      "source": [
        "rainbow.append('indygo')\n",
        "print(rainbow)"
      ],
      "execution_count": null,
      "outputs": [
        {
          "output_type": "stream",
          "name": "stdout",
          "text": [
            "['czerwony', 'pomarańczowy', 'żółty', 'zielony', 'indygo']\n"
          ]
        }
      ]
    },
    {
      "cell_type": "code",
      "metadata": {
        "id": "yIMfSync8jSL",
        "colab": {
          "base_uri": "https://localhost:8080/"
        },
        "outputId": "35f1e60a-2ccf-48a3-c6cf-c0f123f6dba7"
      },
      "source": [
        "rainbow.insert(4, 'niebieski')\n",
        "print(rainbow)"
      ],
      "execution_count": null,
      "outputs": [
        {
          "output_type": "stream",
          "name": "stdout",
          "text": [
            "['czerwony', 'pomarańczowy', 'żółty', 'zielony', 'niebieski', 'indygo']\n"
          ]
        }
      ]
    },
    {
      "cell_type": "code",
      "metadata": {
        "id": "W03Nnpje-nLy",
        "colab": {
          "base_uri": "https://localhost:8080/"
        },
        "outputId": "e893ae66-df07-49f9-fe92-dfb25b23b7b5"
      },
      "source": [
        "rainbow.append('fioletowy')\n",
        "for index, color in enumerate(rainbow):\n",
        "  print(index+1,'-',color)"
      ],
      "execution_count": null,
      "outputs": [
        {
          "output_type": "stream",
          "name": "stdout",
          "text": [
            "1 - czerwony\n",
            "2 - pomarańczowy\n",
            "3 - żółty\n",
            "4 - zielony\n",
            "5 - niebieski\n",
            "6 - indygo\n",
            "7 - fioletowy\n"
          ]
        }
      ]
    },
    {
      "cell_type": "code",
      "source": [
        "del rainbow[-1]\n",
        "print(rainbow)"
      ],
      "metadata": {
        "colab": {
          "base_uri": "https://localhost:8080/"
        },
        "id": "_cLJyxJZ6Alv",
        "outputId": "1eddbc4f-0124-47d8-8f19-79279f3bfd9e"
      },
      "execution_count": null,
      "outputs": [
        {
          "output_type": "stream",
          "name": "stdout",
          "text": [
            "['czerwony', 'pomarańczowy', 'żółty', 'zielony', 'niebieski', 'indygo']\n"
          ]
        }
      ]
    },
    {
      "cell_type": "code",
      "metadata": {
        "id": "e_vqnKIPA0gI",
        "colab": {
          "base_uri": "https://localhost:8080/"
        },
        "outputId": "b59a1aa1-c8ea-43ae-dffd-a9c7fd89f8f8"
      },
      "source": [
        "if 'żółty' in rainbow:\n",
        "    print(\"Mamy kolor żółty w tęczy.\")\n",
        "else:\n",
        "    print(\"Nie ma koloru żółtego w tęczy.\")\n",
        "\n",
        "if 'biały' in rainbow:\n",
        "    print(\"Mamy kolor biały w tęczy.\")\n",
        "else:\n",
        "    print(\"Nie ma koloru białego w tęczy.\")\n",
        "\n"
      ],
      "execution_count": null,
      "outputs": [
        {
          "output_type": "stream",
          "name": "stdout",
          "text": [
            "Mamy kolor żółty w tęczy.\n",
            "Nie ma koloru białego w tęczy.\n"
          ]
        }
      ]
    },
    {
      "cell_type": "code",
      "metadata": {
        "id": "kMjU2UOPCBJq",
        "colab": {
          "base_uri": "https://localhost:8080/"
        },
        "outputId": "4f777adb-5121-4ca0-fa30-36511de7ada2"
      },
      "source": [
        "sorted_rainbow = rainbow.copy() # sorted_rainbow = rainbow[:]\n",
        "sorted_rainbow.sort()\n",
        "print(sorted_rainbow)"
      ],
      "execution_count": null,
      "outputs": [
        {
          "output_type": "stream",
          "name": "stdout",
          "text": [
            "['czerwony', 'fioletowy', 'indygo', 'niebieski', 'pomarańczowy', 'zielony', 'żółty']\n"
          ]
        }
      ]
    },
    {
      "cell_type": "code",
      "metadata": {
        "id": "GsGKbBk3MCXH",
        "colab": {
          "base_uri": "https://localhost:8080/"
        },
        "outputId": "1f223a19-ec85-445b-b193-c75118581849"
      },
      "source": [
        "sorted_rainbow = rainbow.copy()\n",
        "sorted_rainbow.sort(reverse=True)\n",
        "print(sorted_rainbow)"
      ],
      "execution_count": null,
      "outputs": [
        {
          "output_type": "stream",
          "name": "stdout",
          "text": [
            "['żółty', 'zielony', 'pomarańczowy', 'niebieski', 'indygo', 'fioletowy', 'czerwony']\n"
          ]
        }
      ]
    },
    {
      "cell_type": "code",
      "metadata": {
        "id": "sT3lENlTLrlX",
        "colab": {
          "base_uri": "https://localhost:8080/"
        },
        "outputId": "694fa0a3-c8f2-4819-b336-a66cde88b1ec"
      },
      "source": [
        "reversed_rainbow = rainbow.copy()\n",
        "reversed_rainbow.reverse()\n",
        "print(reversed_rainbow)"
      ],
      "execution_count": null,
      "outputs": [
        {
          "output_type": "stream",
          "name": "stdout",
          "text": [
            "['fioletowy', 'indygo', 'niebieski', 'zielony', 'żółty', 'pomarańczowy', 'czerwony']\n"
          ]
        }
      ]
    },
    {
      "cell_type": "code",
      "metadata": {
        "id": "T-tNWy-1Noo1",
        "colab": {
          "base_uri": "https://localhost:8080/"
        },
        "outputId": "e85182ea-eab0-4e1e-ee42-cd1b20bda8da"
      },
      "source": [
        "print(rainbow.pop(-1))\n"
      ],
      "execution_count": null,
      "outputs": [
        {
          "output_type": "stream",
          "name": "stdout",
          "text": [
            "fioletowy\n"
          ]
        }
      ]
    },
    {
      "cell_type": "code",
      "metadata": {
        "id": "sySjaEeEO5tc",
        "colab": {
          "base_uri": "https://localhost:8080/"
        },
        "outputId": "3a958113-5d13-4e32-c3d7-ea6c944d4522"
      },
      "source": [
        "rainbow.clear()\n",
        "print(rainbow)"
      ],
      "execution_count": null,
      "outputs": [
        {
          "output_type": "stream",
          "name": "stdout",
          "text": [
            "[]\n"
          ]
        }
      ]
    },
    {
      "cell_type": "code",
      "metadata": {
        "id": "HIlkGATASDKW",
        "colab": {
          "base_uri": "https://localhost:8080/"
        },
        "outputId": "3d536f0f-4755-40f2-97e3-9d1fdae7e168"
      },
      "source": [
        "languages = ['Polish', 'English']\n",
        "languages_to_add = ['Spanish', 'Italian']\n",
        "languages.extend(languages_to_add)\n",
        "print(languages)\n"
      ],
      "execution_count": null,
      "outputs": [
        {
          "output_type": "stream",
          "name": "stdout",
          "text": [
            "['Polish', 'English', 'Spanish', 'Italian']\n"
          ]
        }
      ]
    },
    {
      "cell_type": "code",
      "metadata": {
        "id": "edxsgDKjBM2r",
        "colab": {
          "base_uri": "https://localhost:8080/"
        },
        "outputId": "620ac9c2-c045-4999-aa67-d1f99e5eb49d"
      },
      "source": [
        "rainbow = ['czerwony', 'pomarańczowy', 'żółty', 'zielony', 'niebieski', 'indygo']\n",
        "rainbow[:3]"
      ],
      "execution_count": 3,
      "outputs": [
        {
          "output_type": "execute_result",
          "data": {
            "text/plain": [
              "['czerwony', 'pomarańczowy', 'żółty']"
            ]
          },
          "metadata": {},
          "execution_count": 3
        }
      ]
    },
    {
      "cell_type": "code",
      "metadata": {
        "id": "dyY9W-VaBsde",
        "colab": {
          "base_uri": "https://localhost:8080/"
        },
        "outputId": "6fab26e5-f483-4b00-bb2a-ad1768171e62"
      },
      "source": [
        "paragraph = '''\n",
        "Pomimo faktu, że w tęczy występuje niemal ciągłe widmo kolorów, \n",
        "wyszczególnia się z reguły następujące barwy: \n",
        "czerwony (na zewnątrz łuku), pomarańczowy, żółty, zielony, \n",
        "niebieski, indygo i fioletowy (wewnątrz łuku).\n",
        "'''\n",
        "\n",
        "paragraph_split = paragraph.split()\n",
        "print(paragraph_split)"
      ],
      "execution_count": null,
      "outputs": [
        {
          "output_type": "stream",
          "name": "stdout",
          "text": [
            "['Pomimo', 'faktu,', 'że', 'w', 'tęczy', 'występuje', 'niemal', 'ciągłe', 'widmo', 'kolorów,', 'wyszczególnia', 'się', 'z', 'reguły', 'następujące', 'barwy:', 'czerwony', '(na', 'zewnątrz', 'łuku),', 'pomarańczowy,', 'żółty,', 'zielony,', 'niebieski,', 'indygo', 'i', 'fioletowy', '(wewnątrz', 'łuku).']\n"
          ]
        }
      ]
    },
    {
      "cell_type": "code",
      "metadata": {
        "id": "e6yyL-26DgNQ",
        "colab": {
          "base_uri": "https://localhost:8080/"
        },
        "outputId": "8bcc76b7-71b7-4ea8-f9c3-40c156085b2c"
      },
      "source": [
        "paragraph_split = paragraph.split(': ')\n",
        "print(paragraph_split)"
      ],
      "execution_count": null,
      "outputs": [
        {
          "output_type": "stream",
          "name": "stdout",
          "text": [
            "['\\nPomimo faktu, że w tęczy występuje niemal ciągłe widmo kolorów, \\nwyszczególnia się z reguły następujące barwy', '\\nczerwony (na zewnątrz łuku), pomarańczowy, żółty, zielony, \\nniebieski, indygo i fioletowy (wewnątrz łuku).\\n']\n"
          ]
        }
      ]
    },
    {
      "cell_type": "code",
      "metadata": {
        "id": "tmG57EuLENLz",
        "colab": {
          "base_uri": "https://localhost:8080/",
          "height": 35
        },
        "outputId": "f72bebc6-a5bc-453d-c26a-065bc6d1fb36"
      },
      "source": [
        "' - '.join(rainbow)"
      ],
      "execution_count": null,
      "outputs": [
        {
          "output_type": "execute_result",
          "data": {
            "application/vnd.google.colaboratory.intrinsic+json": {
              "type": "string"
            },
            "text/plain": [
              "'czerwony - pomarańczowy - żółty - zielony - niebieski - indygo'"
            ]
          },
          "metadata": {},
          "execution_count": 45
        }
      ]
    },
    {
      "cell_type": "code",
      "metadata": {
        "id": "jKHwRPkwE-jb",
        "colab": {
          "base_uri": "https://localhost:8080/"
        },
        "outputId": "8170bdcc-035b-4096-87b8-fedfdec1e2cd"
      },
      "source": [
        "rainbow = ['czerwony', 'pomarańczowy', 'żółty', 'zielony', 'niebieski', 'indygo', 'fioletowy']\n",
        "friends = ['Jan', 'Kasia', 'Zosia', 'Michał', 'Zuzia', 'Marysia', 'Wojtek']\n",
        "\n",
        "for color, friend in zip(rainbow, friends):\n",
        "  print(friend, ' - ', color)"
      ],
      "execution_count": null,
      "outputs": [
        {
          "output_type": "stream",
          "name": "stdout",
          "text": [
            "Jan  -  czerwony\n",
            "Kasia  -  pomarańczowy\n",
            "Zosia  -  żółty\n",
            "Michał  -  zielony\n",
            "Zuzia  -  niebieski\n",
            "Marysia  -  indygo\n",
            "Wojtek  -  fioletowy\n"
          ]
        }
      ]
    },
    {
      "cell_type": "code",
      "metadata": {
        "id": "FSmnXK6FKRkC"
      },
      "source": [
        "students = ['Jan Kiełbasa', 'Maria Babeczka', 'Marian Kaszanka', 'Julia Piernik']"
      ],
      "execution_count": null,
      "outputs": []
    },
    {
      "cell_type": "code",
      "source": [
        "sentence = 'Ala ma kota, a kot ma mysz; i co z tego? A to z tego, że nic.'\n",
        "words = sentence.split()\n",
        "\n",
        "signs_to_remove = '.,;!?()\"\\'*%$#@'\n",
        "clean_words = []\n",
        "\n",
        "for word in words:\n",
        "  clean_word =''\n",
        "  for sign in word:\n",
        "    if sign not in signs_to_remove:\n",
        "      clean_word = clean_word + sign\n",
        "  clean_words.append(clean_word)    \n",
        "\n",
        "for w1, w2 in zip(words, clean_words):\n",
        "  print(w1,'\\t', w2)"
      ],
      "metadata": {
        "colab": {
          "base_uri": "https://localhost:8080/"
        },
        "id": "0SNSxYEQ7SM6",
        "outputId": "3475493c-7c33-4052-dd9e-d057cbfce64d"
      },
      "execution_count": null,
      "outputs": [
        {
          "output_type": "stream",
          "name": "stdout",
          "text": [
            "Ala \t Ala\n",
            "ma \t ma\n",
            "kota, \t kota\n",
            "a \t a\n",
            "kot \t kot\n",
            "ma \t ma\n",
            "mysz; \t mysz\n",
            "i \t i\n",
            "co \t co\n",
            "z \t z\n",
            "tego? \t tego\n",
            "A \t A\n",
            "to \t to\n",
            "z \t z\n",
            "tego, \t tego\n",
            "że \t że\n",
            "nic. \t nic\n"
          ]
        }
      ]
    },
    {
      "cell_type": "code",
      "metadata": {
        "id": "KYcTXL2xTfpi",
        "colab": {
          "base_uri": "https://localhost:8080/"
        },
        "outputId": "217b36dc-edc9-4950-9c28-09d2696ca277"
      },
      "source": [
        "import random\n",
        "konie = ['siwek', 'czarny', 'hej']\n",
        "random.shuffle(konie)\n",
        "print(konie)"
      ],
      "execution_count": null,
      "outputs": [
        {
          "output_type": "stream",
          "name": "stdout",
          "text": [
            "['siwek', 'hej', 'czarny']\n"
          ]
        }
      ]
    },
    {
      "cell_type": "markdown",
      "source": [
        "## Słowniki"
      ],
      "metadata": {
        "id": "fijzdAna5xVt"
      }
    },
    {
      "cell_type": "code",
      "metadata": {
        "id": "dsyTZJDhVHmh"
      },
      "source": [
        "rainbow_dict = {1:'czerwony',\n",
        "                2:'pomarańczowy',\n",
        "                3:'żółty',\n",
        "                4:'zielony',\n",
        "                5:'niebieski',\n",
        "                6:'indygo',\n",
        "                7:'fioletowy'}"
      ],
      "execution_count": null,
      "outputs": []
    },
    {
      "cell_type": "code",
      "metadata": {
        "id": "BcvyQIdCWrGJ",
        "colab": {
          "base_uri": "https://localhost:8080/",
          "height": 35
        },
        "outputId": "ccca881b-b977-49bf-b373-8664c46ca324"
      },
      "source": [
        "rainbow_dict[1]"
      ],
      "execution_count": null,
      "outputs": [
        {
          "output_type": "execute_result",
          "data": {
            "application/vnd.google.colaboratory.intrinsic+json": {
              "type": "string"
            },
            "text/plain": [
              "'czerwony'"
            ]
          },
          "metadata": {},
          "execution_count": 50
        }
      ]
    },
    {
      "cell_type": "code",
      "metadata": {
        "id": "ULwNEe03XJCD",
        "colab": {
          "base_uri": "https://localhost:8080/"
        },
        "outputId": "e34ca159-3d55-4ae3-adfa-5670105a889f"
      },
      "source": [
        "rainbow_dict.keys()\n",
        "# for key in rainbow_dict.keys():\n",
        "#   print(key)"
      ],
      "execution_count": null,
      "outputs": [
        {
          "output_type": "execute_result",
          "data": {
            "text/plain": [
              "dict_keys([1, 2, 3, 4, 5, 6, 7])"
            ]
          },
          "metadata": {},
          "execution_count": 51
        }
      ]
    },
    {
      "cell_type": "code",
      "metadata": {
        "id": "-Uk7xpkW3Abt",
        "colab": {
          "base_uri": "https://localhost:8080/"
        },
        "outputId": "cd830012-49db-4462-a094-fa29b248be2a"
      },
      "source": [
        "rainbow_dict.values()"
      ],
      "execution_count": null,
      "outputs": [
        {
          "output_type": "execute_result",
          "data": {
            "text/plain": [
              "dict_values(['czerwony', 'pomarańczowy', 'żółty', 'zielony', 'niebieski', 'indygo', 'fioletowy'])"
            ]
          },
          "metadata": {},
          "execution_count": 52
        }
      ]
    },
    {
      "cell_type": "code",
      "metadata": {
        "id": "0ysD2ATdXSzl",
        "colab": {
          "base_uri": "https://localhost:8080/"
        },
        "outputId": "50af1cdb-5108-4544-b0e7-668da3409009"
      },
      "source": [
        "rainbow_dict.items()"
      ],
      "execution_count": null,
      "outputs": [
        {
          "output_type": "execute_result",
          "data": {
            "text/plain": [
              "dict_items([(1, 'czerwony'), (2, 'pomarańczowy'), (3, 'żółty'), (4, 'zielony'), (5, 'niebieski'), (6, 'indygo'), (7, 'fioletowy')])"
            ]
          },
          "metadata": {},
          "execution_count": 53
        }
      ]
    },
    {
      "cell_type": "code",
      "metadata": {
        "id": "JtjWzEtE57ZI",
        "colab": {
          "base_uri": "https://localhost:8080/",
          "height": 35
        },
        "outputId": "eae9a322-7000-4cf1-bb44-c400243b0e13"
      },
      "source": [
        "rainbow_dict.get(7)"
      ],
      "execution_count": null,
      "outputs": [
        {
          "output_type": "execute_result",
          "data": {
            "application/vnd.google.colaboratory.intrinsic+json": {
              "type": "string"
            },
            "text/plain": [
              "'fioletowy'"
            ]
          },
          "metadata": {},
          "execution_count": 54
        }
      ]
    },
    {
      "cell_type": "code",
      "metadata": {
        "id": "XvJ31diT6DZ0",
        "colab": {
          "base_uri": "https://localhost:8080/",
          "height": 35
        },
        "outputId": "909aa554-e435-4f3b-ce8f-772fcfb8a3c5"
      },
      "source": [
        "rainbow_dict.get(8, 'Nie ma tylu kolorów w tęczy!')"
      ],
      "execution_count": null,
      "outputs": [
        {
          "output_type": "execute_result",
          "data": {
            "application/vnd.google.colaboratory.intrinsic+json": {
              "type": "string"
            },
            "text/plain": [
              "'Nie ma tylu kolorów w tęczy!'"
            ]
          },
          "metadata": {},
          "execution_count": 55
        }
      ]
    },
    {
      "cell_type": "code",
      "metadata": {
        "id": "aJ951QzW2kPH",
        "colab": {
          "base_uri": "https://localhost:8080/"
        },
        "outputId": "daf1b424-9a2d-41d8-e087-45220ae94dd1"
      },
      "source": [
        "keys = ['a', 'e', 'i', 'o', 'u']\n",
        "\n",
        "vowels = dict.fromkeys(keys, [1,2,3,4,5])\n",
        "print(vowels)"
      ],
      "execution_count": null,
      "outputs": [
        {
          "output_type": "stream",
          "name": "stdout",
          "text": [
            "{'a': [1, 2, 3, 4, 5], 'e': [1, 2, 3, 4, 5], 'i': [1, 2, 3, 4, 5], 'o': [1, 2, 3, 4, 5], 'u': [1, 2, 3, 4, 5]}\n"
          ]
        }
      ]
    },
    {
      "cell_type": "code",
      "source": [
        "pl_en_dict = {'mama':'mother',\n",
        "              'tata':'dad',\n",
        "              'syn':'son',\n",
        "              'córka':'daughter',\n",
        "              'ciocia':'aunt'}\n",
        "\n",
        "pl_en_dict.get('mama')"
      ],
      "metadata": {
        "colab": {
          "base_uri": "https://localhost:8080/",
          "height": 35
        },
        "id": "c-zb_eVl6gX0",
        "outputId": "2200bf25-2566-48d3-df34-fae6e89cef50"
      },
      "execution_count": null,
      "outputs": [
        {
          "output_type": "execute_result",
          "data": {
            "application/vnd.google.colaboratory.intrinsic+json": {
              "type": "string"
            },
            "text/plain": [
              "'mother'"
            ]
          },
          "metadata": {},
          "execution_count": 57
        }
      ]
    },
    {
      "cell_type": "markdown",
      "metadata": {
        "id": "Tqs1ydK9EFad"
      },
      "source": [
        "## Zbiory"
      ]
    },
    {
      "cell_type": "code",
      "metadata": {
        "id": "yyJDFPxjEEiI",
        "colab": {
          "base_uri": "https://localhost:8080/"
        },
        "outputId": "a1c996d1-3d85-4874-8f8a-11050a2f4e5b"
      },
      "source": [
        "hey_1992 = {'Katarzyna Nosowska', 'Marcin Żabiłowicz', 'Robert Ligiewicz', 'Marcin Macuk', 'Piotr Banach'}\n",
        "hey_band = set()\n",
        "hey_band.update(hey_1992)\n",
        "print(hey_band)"
      ],
      "execution_count": null,
      "outputs": [
        {
          "output_type": "stream",
          "name": "stdout",
          "text": [
            "{'Marcin Żabiłowicz', 'Katarzyna Nosowska', 'Piotr Banach', 'Robert Ligiewicz', 'Marcin Macuk'}\n"
          ]
        }
      ]
    },
    {
      "cell_type": "code",
      "metadata": {
        "id": "4mZTzlqHHODR",
        "colab": {
          "base_uri": "https://localhost:8080/"
        },
        "outputId": "d18fe1fb-1cd6-4186-aea4-0fce583f44d0"
      },
      "source": [
        "hey_band.remove('Marcin Macuk')\n",
        "hey_band.add('Jacek Chrzanowski')\n",
        "hey_1993 = hey_band.copy()\n",
        "print(hey_1993)"
      ],
      "execution_count": null,
      "outputs": [
        {
          "output_type": "stream",
          "name": "stdout",
          "text": [
            "{'Marcin Żabiłowicz', 'Katarzyna Nosowska', 'Piotr Banach', 'Robert Ligiewicz', 'Jacek Chrzanowski'}\n"
          ]
        }
      ]
    },
    {
      "cell_type": "code",
      "metadata": {
        "id": "dRIy0NuqJfQk",
        "colab": {
          "base_uri": "https://localhost:8080/"
        },
        "outputId": "d67755fd-35be-457d-f4f1-4187d9dbfd4c"
      },
      "source": [
        "hey_band.remove('Piotr Banach')\n",
        "hey_1999 = hey_band.copy()\n",
        "print(hey_1999)"
      ],
      "execution_count": null,
      "outputs": [
        {
          "output_type": "stream",
          "name": "stdout",
          "text": [
            "{'Marcin Żabiłowicz', 'Katarzyna Nosowska', 'Robert Ligiewicz', 'Jacek Chrzanowski'}\n"
          ]
        }
      ]
    },
    {
      "cell_type": "code",
      "metadata": {
        "id": "Rz0ZQb0VJ0g_",
        "colab": {
          "base_uri": "https://localhost:8080/"
        },
        "outputId": "a74e170e-67aa-437d-defa-6c10238e700f"
      },
      "source": [
        "hey_band.add('Paweł Krawczyk')\n",
        "hey_2001 = hey_band.copy()\n",
        "print(hey_2001)"
      ],
      "execution_count": null,
      "outputs": [
        {
          "output_type": "stream",
          "name": "stdout",
          "text": [
            "{'Marcin Żabiłowicz', 'Katarzyna Nosowska', 'Paweł Krawczyk', 'Robert Ligiewicz', 'Jacek Chrzanowski'}\n"
          ]
        }
      ]
    },
    {
      "cell_type": "code",
      "metadata": {
        "id": "Ju1YgszVLJEw",
        "colab": {
          "base_uri": "https://localhost:8080/"
        },
        "outputId": "ff593b0c-994f-471f-8aab-7ad344fa22a0"
      },
      "source": [
        "hey_band.add('Marcin Zabrocki')\n",
        "hey_2012 = hey_band.copy()\n",
        "print(hey_2012)"
      ],
      "execution_count": null,
      "outputs": [
        {
          "output_type": "stream",
          "name": "stdout",
          "text": [
            "{'Marcin Żabiłowicz', 'Katarzyna Nosowska', 'Paweł Krawczyk', 'Robert Ligiewicz', 'Jacek Chrzanowski', 'Marcin Zabrocki'}\n"
          ]
        }
      ]
    },
    {
      "cell_type": "code",
      "metadata": {
        "id": "ZeKkKsm4NdpG",
        "colab": {
          "base_uri": "https://localhost:8080/"
        },
        "outputId": "2cdb4546-216b-4c9f-df38-494a5c45d540"
      },
      "source": [
        "hey_band.remove('Marcin Zabrocki')\n",
        "hey_band.add('Marcin Macuk')\n",
        "hey_2017 = hey_band.copy()\n",
        "print(hey_2017)"
      ],
      "execution_count": null,
      "outputs": [
        {
          "output_type": "stream",
          "name": "stdout",
          "text": [
            "{'Marcin Żabiłowicz', 'Katarzyna Nosowska', 'Paweł Krawczyk', 'Robert Ligiewicz', 'Jacek Chrzanowski', 'Marcin Macuk'}\n"
          ]
        }
      ]
    },
    {
      "cell_type": "code",
      "metadata": {
        "id": "oaoDoElwKd8Y",
        "colab": {
          "base_uri": "https://localhost:8080/"
        },
        "outputId": "81c5c44d-82e9-41e2-d633-17171452427d"
      },
      "source": [
        "set.union(hey_1992, hey_1993, hey_1999, hey_2001, hey_2012, hey_2017)"
      ],
      "execution_count": null,
      "outputs": [
        {
          "output_type": "execute_result",
          "data": {
            "text/plain": [
              "{'Jacek Chrzanowski',\n",
              " 'Katarzyna Nosowska',\n",
              " 'Marcin Macuk',\n",
              " 'Marcin Zabrocki',\n",
              " 'Marcin Żabiłowicz',\n",
              " 'Paweł Krawczyk',\n",
              " 'Piotr Banach',\n",
              " 'Robert Ligiewicz'}"
            ]
          },
          "metadata": {},
          "execution_count": 7
        }
      ]
    },
    {
      "cell_type": "code",
      "metadata": {
        "id": "vD9nKampKuf9",
        "colab": {
          "base_uri": "https://localhost:8080/"
        },
        "outputId": "74c3284c-4e56-419d-cb11-4c3a5a415889"
      },
      "source": [
        "set.intersection(hey_1992, hey_1993, hey_1999, hey_2001, hey_2012, hey_2017)"
      ],
      "execution_count": null,
      "outputs": [
        {
          "output_type": "execute_result",
          "data": {
            "text/plain": [
              "{'Katarzyna Nosowska', 'Marcin Żabiłowicz', 'Robert Ligiewicz'}"
            ]
          },
          "metadata": {},
          "execution_count": 8
        }
      ]
    },
    {
      "cell_type": "code",
      "metadata": {
        "id": "HTvktJYzLe6K",
        "colab": {
          "base_uri": "https://localhost:8080/"
        },
        "outputId": "299edf58-523d-43ad-9761-cd0f9efe77c6"
      },
      "source": [
        "# byli w składzie z 1992 i nie ma ich w składzie z 2017: X - Y\n",
        "hey_1992.difference(hey_2017)"
      ],
      "execution_count": null,
      "outputs": [
        {
          "output_type": "execute_result",
          "data": {
            "text/plain": [
              "{'Piotr Banach'}"
            ]
          },
          "metadata": {},
          "execution_count": 9
        }
      ]
    },
    {
      "cell_type": "code",
      "metadata": {
        "id": "7tB2DxfXMZ1f",
        "colab": {
          "base_uri": "https://localhost:8080/"
        },
        "outputId": "e6d6173d-d861-42d1-f1d5-b433dc9739a3"
      },
      "source": [
        "hey_1992.symmetric_difference(hey_2017) # (X u Y) - (X n Y)"
      ],
      "execution_count": null,
      "outputs": [
        {
          "output_type": "execute_result",
          "data": {
            "text/plain": [
              "{'Jacek Chrzanowski', 'Paweł Krawczyk', 'Piotr Banach'}"
            ]
          },
          "metadata": {},
          "execution_count": 10
        }
      ]
    },
    {
      "cell_type": "code",
      "metadata": {
        "id": "aSTFhFfPNkkP"
      },
      "source": [
        "hey_band.clear()"
      ],
      "execution_count": null,
      "outputs": []
    },
    {
      "cell_type": "code",
      "metadata": {
        "id": "X4foPCupQUU0",
        "colab": {
          "base_uri": "https://localhost:8080/"
        },
        "outputId": "2f7b0ced-0f38-4802-f9bd-4cecf3ce95a2"
      },
      "source": [
        "hey_2001.issubset(hey_2017)"
      ],
      "execution_count": null,
      "outputs": [
        {
          "output_type": "execute_result",
          "data": {
            "text/plain": [
              "True"
            ]
          },
          "metadata": {},
          "execution_count": 12
        }
      ]
    },
    {
      "cell_type": "code",
      "metadata": {
        "id": "2vhjiVaMQgMS",
        "colab": {
          "base_uri": "https://localhost:8080/"
        },
        "outputId": "f33a4d8c-c4d6-41ce-a2ec-400f68461ba8"
      },
      "source": [
        "hey_2017.issubset(hey_2001)"
      ],
      "execution_count": null,
      "outputs": [
        {
          "output_type": "execute_result",
          "data": {
            "text/plain": [
              "False"
            ]
          },
          "metadata": {},
          "execution_count": 13
        }
      ]
    },
    {
      "cell_type": "code",
      "metadata": {
        "id": "sKKlJnXDQ1jt",
        "colab": {
          "base_uri": "https://localhost:8080/"
        },
        "outputId": "71135868-45d1-40a7-d672-43ee2ddf8af2"
      },
      "source": [
        "hey_1992.isdisjoint(hey_2017)"
      ],
      "execution_count": null,
      "outputs": [
        {
          "output_type": "execute_result",
          "data": {
            "text/plain": [
              "False"
            ]
          },
          "metadata": {},
          "execution_count": 14
        }
      ]
    },
    {
      "cell_type": "markdown",
      "source": [
        "## Krotki"
      ],
      "metadata": {
        "id": "fr9Ee1sW7m7S"
      }
    },
    {
      "cell_type": "code",
      "metadata": {
        "id": "zTft4l7MsJZ6",
        "colab": {
          "base_uri": "https://localhost:8080/"
        },
        "outputId": "19f4b1a7-b81c-4aa8-da9f-fb128576b5ee"
      },
      "source": [
        "jan_kaszanka = ('Jan', 'Kaszanka', 180, 113, 54, 150)\n",
        "jan_kaszanka"
      ],
      "execution_count": 3,
      "outputs": [
        {
          "output_type": "execute_result",
          "data": {
            "text/plain": [
              "('Jan', 'Kaszanka', 180, 113, 54, 150)"
            ]
          },
          "metadata": {},
          "execution_count": 3
        }
      ]
    },
    {
      "cell_type": "code",
      "metadata": {
        "id": "JstcsChGt45D",
        "colab": {
          "base_uri": "https://localhost:8080/"
        },
        "outputId": "4f425ffb-d55b-410a-c0c0-ae123bdde150"
      },
      "source": [
        "jan_kaszanka.count(180)"
      ],
      "execution_count": null,
      "outputs": [
        {
          "output_type": "execute_result",
          "data": {
            "text/plain": [
              "1"
            ]
          },
          "metadata": {},
          "execution_count": 16
        }
      ]
    },
    {
      "cell_type": "code",
      "metadata": {
        "id": "5OhhnOLluCy2",
        "colab": {
          "base_uri": "https://localhost:8080/"
        },
        "outputId": "5f9d246d-132a-425e-c2e4-ff234ad30bfd"
      },
      "source": [
        "jan_kaszanka.index(180, 2, 3)"
      ],
      "execution_count": null,
      "outputs": [
        {
          "output_type": "execute_result",
          "data": {
            "text/plain": [
              "2"
            ]
          },
          "metadata": {},
          "execution_count": 17
        }
      ]
    },
    {
      "cell_type": "code",
      "source": [
        "for i in jan_kaszanka:\n",
        "  print(i)"
      ],
      "metadata": {
        "colab": {
          "base_uri": "https://localhost:8080/"
        },
        "id": "qIGNmIDliCD0",
        "outputId": "0f92b067-8a3a-4fd1-b8f7-3189a57a027d"
      },
      "execution_count": 4,
      "outputs": [
        {
          "output_type": "stream",
          "name": "stdout",
          "text": [
            "Jan\n",
            "Kaszanka\n",
            "180\n",
            "113\n",
            "54\n",
            "150\n"
          ]
        }
      ]
    },
    {
      "cell_type": "markdown",
      "source": [
        "## Kolekcje Pythona *"
      ],
      "metadata": {
        "id": "hFMVe4nfH148"
      }
    },
    {
      "cell_type": "code",
      "source": [
        "l = [1,2]\n",
        "s = {3,4}\n",
        "t = (5,6)\n",
        "d = {7:\"buh\", 8:\"buha\"}\n",
        "\n",
        "l.extend(s)\n",
        "print(l)\n",
        "\n",
        "l.extend(t)\n",
        "print(l)\n",
        "\n",
        "l.extend(d)\n",
        "print(l)"
      ],
      "metadata": {
        "colab": {
          "base_uri": "https://localhost:8080/"
        },
        "id": "C4uFZkpOH5eP",
        "outputId": "57f15c2d-59d3-4cfd-c23c-b28fd7b17f10"
      },
      "execution_count": 1,
      "outputs": [
        {
          "output_type": "stream",
          "name": "stdout",
          "text": [
            "[1, 2, 3, 4]\n",
            "[1, 2, 3, 4, 5, 6]\n",
            "[1, 2, 3, 4, 5, 6, 7, 8]\n"
          ]
        }
      ]
    },
    {
      "cell_type": "code",
      "source": [
        "sorted({2, 1, 4, 3})"
      ],
      "metadata": {
        "colab": {
          "base_uri": "https://localhost:8080/"
        },
        "id": "LJBOVYEAICHe",
        "outputId": "82eaf31b-e9ff-4214-945b-3ffe81297e90"
      },
      "execution_count": 2,
      "outputs": [
        {
          "output_type": "execute_result",
          "data": {
            "text/plain": [
              "[1, 2, 3, 4]"
            ]
          },
          "metadata": {},
          "execution_count": 2
        }
      ]
    },
    {
      "cell_type": "code",
      "source": [
        "{1,2}.union([3,4])\n",
        "{1,2}.union((3,4))\n",
        "{1,2}.union({3:\"buh\", 4:\"buha\"})"
      ],
      "metadata": {
        "colab": {
          "base_uri": "https://localhost:8080/"
        },
        "id": "3vWSs59MIG1C",
        "outputId": "ee1c483d-5c67-489d-8b5a-0e52911ba2ea"
      },
      "execution_count": 3,
      "outputs": [
        {
          "output_type": "execute_result",
          "data": {
            "text/plain": [
              "{1, 2, 3, 4}"
            ]
          },
          "metadata": {},
          "execution_count": 3
        }
      ]
    },
    {
      "cell_type": "markdown",
      "source": [
        "## Listy, słowniki i zbiory składane *"
      ],
      "metadata": {
        "id": "DzoU9qXjIL5R"
      }
    },
    {
      "cell_type": "markdown",
      "source": [
        "### Listy składane"
      ],
      "metadata": {
        "id": "QU3RsegGISyl"
      }
    },
    {
      "cell_type": "code",
      "source": [
        "prices = [100, 150, 200]\n",
        "\n",
        "prices_increased = []\n",
        "for price in prices:\n",
        "  prices_increased.append(price * 1.20)\n",
        "\n",
        "prices_increased  "
      ],
      "metadata": {
        "colab": {
          "base_uri": "https://localhost:8080/"
        },
        "id": "WlTv_oIPINm5",
        "outputId": "d84cbe19-6a8f-4485-d45c-73fabd368287"
      },
      "execution_count": 5,
      "outputs": [
        {
          "output_type": "execute_result",
          "data": {
            "text/plain": [
              "[120.0, 180.0, 240.0]"
            ]
          },
          "metadata": {},
          "execution_count": 5
        }
      ]
    },
    {
      "cell_type": "code",
      "source": [
        "[price * 1.20  for price in prices]\n"
      ],
      "metadata": {
        "colab": {
          "base_uri": "https://localhost:8080/"
        },
        "id": "wFUZYCQfIaVg",
        "outputId": "3e7959a2-5978-4899-fb9e-55ba8cab7b18"
      },
      "execution_count": 6,
      "outputs": [
        {
          "output_type": "execute_result",
          "data": {
            "text/plain": [
              "[120.0, 180.0, 240.0]"
            ]
          },
          "metadata": {},
          "execution_count": 6
        }
      ]
    },
    {
      "cell_type": "markdown",
      "source": [
        "### Słowniki składane"
      ],
      "metadata": {
        "id": "ZWYneBlhIjQ1"
      }
    },
    {
      "cell_type": "code",
      "source": [
        "fruits = ['mandarynki', 'jabłka', 'kiwi']\n",
        "prices = [15, 10, 20]\n",
        "\n",
        "fruits_prices_dict = {fruit:price for fruit, price in zip(fruits, prices)}\n",
        "fruits_prices_dict"
      ],
      "metadata": {
        "colab": {
          "base_uri": "https://localhost:8080/"
        },
        "id": "0IJzX4MzIlWL",
        "outputId": "fcab93e7-ff14-469f-cbc1-54c162aaaab6"
      },
      "execution_count": 7,
      "outputs": [
        {
          "output_type": "execute_result",
          "data": {
            "text/plain": [
              "{'jabłka': 10, 'kiwi': 20, 'mandarynki': 15}"
            ]
          },
          "metadata": {},
          "execution_count": 7
        }
      ]
    },
    {
      "cell_type": "code",
      "source": [
        "{value: key for key, value in fruits_prices_dict.items()}"
      ],
      "metadata": {
        "colab": {
          "base_uri": "https://localhost:8080/"
        },
        "id": "9wKk6UQYIoyg",
        "outputId": "2e94dbe3-12c8-45fe-e57d-816b61cccb52"
      },
      "execution_count": 10,
      "outputs": [
        {
          "output_type": "execute_result",
          "data": {
            "text/plain": [
              "{10: 'jabłka', 15: 'mandarynki', 20: 'kiwi'}"
            ]
          },
          "metadata": {},
          "execution_count": 10
        }
      ]
    },
    {
      "cell_type": "markdown",
      "source": [
        "### Zbiory składane"
      ],
      "metadata": {
        "id": "DX3ADk8JJiQi"
      }
    },
    {
      "cell_type": "code",
      "source": [
        "strophe = '''\n",
        "Szybko, zbudź się, szybko, wstawaj.\n",
        "Szybko, szybko, stygnie kawa!\n",
        "Szybko, zęby myj i ręce!\n",
        "'''\n",
        "\n",
        "bag_of_words = {word for word in strophe.lower().replace('.', '').replace(',', '').replace('!', '').split()}\n",
        "bag_of_words"
      ],
      "metadata": {
        "colab": {
          "base_uri": "https://localhost:8080/"
        },
        "id": "Nx1JyZ_3IoBj",
        "outputId": "908c80ce-22a7-41b0-c7b5-f49b804e87d2"
      },
      "execution_count": 12,
      "outputs": [
        {
          "output_type": "execute_result",
          "data": {
            "text/plain": [
              "{'i',\n",
              " 'kawa',\n",
              " 'myj',\n",
              " 'ręce',\n",
              " 'się',\n",
              " 'stygnie',\n",
              " 'szybko',\n",
              " 'wstawaj',\n",
              " 'zbudź',\n",
              " 'zęby'}"
            ]
          },
          "metadata": {},
          "execution_count": 12
        }
      ]
    },
    {
      "cell_type": "markdown",
      "metadata": {
        "id": "Armyrl51hFBb"
      },
      "source": [
        "# Funkcje"
      ]
    },
    {
      "cell_type": "code",
      "source": [
        "def print_welcome_message(name, surname):\n",
        "  print(f'Witaj człowieku o imieniu {name} i nazwisku {surname}!')"
      ],
      "metadata": {
        "id": "N2mkCYWY8-nE"
      },
      "execution_count": null,
      "outputs": []
    },
    {
      "cell_type": "code",
      "source": [
        "print_welcome_message(name='Robert', surname='Trypuz')"
      ],
      "metadata": {
        "colab": {
          "base_uri": "https://localhost:8080/"
        },
        "id": "UR2pzXvS9AGI",
        "outputId": "6e6d5770-6c9f-4089-9e84-58550d1186b6"
      },
      "execution_count": null,
      "outputs": [
        {
          "output_type": "stream",
          "name": "stdout",
          "text": [
            "Witaj człowieku o imieniu Robert i nazwisku Trypuz!\n"
          ]
        }
      ]
    },
    {
      "cell_type": "code",
      "metadata": {
        "id": "1H-MpyNfrSzM"
      },
      "source": [
        "def espresso_please():\n",
        "    espresso = r'''\n",
        "        (  )  \n",
        "        )  (   \n",
        "      (   )    \n",
        "     _______\n",
        "    <_______> ___\n",
        "    |       |/ _ \\\n",
        "    |       | | | |\n",
        "    |         |_| |\n",
        " ___|       |\\___/\n",
        "/   \\_______/    \\\n",
        "\\________________/\n",
        "    \n",
        "    '''\n",
        "    print(espresso)"
      ],
      "execution_count": null,
      "outputs": []
    },
    {
      "cell_type": "code",
      "metadata": {
        "id": "KiSOI9DbsExV",
        "colab": {
          "base_uri": "https://localhost:8080/"
        },
        "outputId": "36593eaa-a13f-41d5-8fc5-f13affa3d80a"
      },
      "source": [
        "espresso_please()"
      ],
      "execution_count": null,
      "outputs": [
        {
          "output_type": "stream",
          "name": "stdout",
          "text": [
            "\n",
            "        (  )  \n",
            "        )  (   \n",
            "      (   )    \n",
            "     _______\n",
            "    <_______> ___\n",
            "    |       |/ _ \\\n",
            "    |       | | | |\n",
            "    |         |_| |\n",
            " ___|       |\\___/\n",
            "/   \\_______/    \\\n",
            "\\________________/\n",
            "    \n",
            "    \n"
          ]
        }
      ]
    },
    {
      "cell_type": "code",
      "source": [
        "def more_espresso_please(number):\n",
        "  for i in range(number):\n",
        "    espresso_please()"
      ],
      "metadata": {
        "id": "nRBXmeap9Lue"
      },
      "execution_count": null,
      "outputs": []
    },
    {
      "cell_type": "code",
      "source": [
        "more_espresso_please(2)"
      ],
      "metadata": {
        "colab": {
          "base_uri": "https://localhost:8080/"
        },
        "id": "MiO7OjaF9OpQ",
        "outputId": "15339645-7e81-491e-e0c5-02a9fb4951fb"
      },
      "execution_count": null,
      "outputs": [
        {
          "output_type": "stream",
          "name": "stdout",
          "text": [
            "\n",
            "        (  )  \n",
            "        )  (   \n",
            "      (   )    \n",
            "     _______\n",
            "    <_______> ___\n",
            "    |       |/ _ \\\n",
            "    |       | | | |\n",
            "    |         |_| |\n",
            " ___|       |\\___/\n",
            "/   \\_______/    \\\n",
            "\\________________/\n",
            "    \n",
            "    \n",
            "\n",
            "        (  )  \n",
            "        )  (   \n",
            "      (   )    \n",
            "     _______\n",
            "    <_______> ___\n",
            "    |       |/ _ \\\n",
            "    |       | | | |\n",
            "    |         |_| |\n",
            " ___|       |\\___/\n",
            "/   \\_______/    \\\n",
            "\\________________/\n",
            "    \n",
            "    \n"
          ]
        }
      ]
    },
    {
      "cell_type": "markdown",
      "source": [
        "### Argumenty pozycyjne"
      ],
      "metadata": {
        "id": "YJTQxKRsgfOk"
      }
    },
    {
      "cell_type": "code",
      "source": [
        "print_welcome_message('Adam', 'Zawada')"
      ],
      "metadata": {
        "colab": {
          "base_uri": "https://localhost:8080/"
        },
        "id": "hvi4MLX59C5t",
        "outputId": "c38ca6a4-2652-43b6-8e8e-f90561e2b773"
      },
      "execution_count": null,
      "outputs": [
        {
          "output_type": "stream",
          "name": "stdout",
          "text": [
            "Witaj człowieku o imieniu Adam i nazwisku Zawada!\n"
          ]
        }
      ]
    },
    {
      "cell_type": "code",
      "source": [
        "print_welcome_message('Zawada', 'Adam')"
      ],
      "metadata": {
        "colab": {
          "base_uri": "https://localhost:8080/"
        },
        "id": "EoilqkrS9E--",
        "outputId": "51e36d7f-bce1-4105-a9ec-afcda58e5e49"
      },
      "execution_count": null,
      "outputs": [
        {
          "output_type": "stream",
          "name": "stdout",
          "text": [
            "Witaj człowieku o imieniu Zawada i nazwisku Adam!\n"
          ]
        }
      ]
    },
    {
      "cell_type": "code",
      "source": [
        "print_welcome_message(surname='Trypuz', name='Robert')"
      ],
      "metadata": {
        "colab": {
          "base_uri": "https://localhost:8080/"
        },
        "id": "SKQarOwT9Grj",
        "outputId": "e9f64f2a-4352-4218-923e-af97b54249d5"
      },
      "execution_count": null,
      "outputs": [
        {
          "output_type": "stream",
          "name": "stdout",
          "text": [
            "Witaj człowieku o imieniu Robert i nazwisku Trypuz!\n"
          ]
        }
      ]
    },
    {
      "cell_type": "markdown",
      "source": [
        "### Wartości domyślne"
      ],
      "metadata": {
        "id": "_BBXI03HgvaH"
      }
    },
    {
      "cell_type": "code",
      "metadata": {
        "id": "CIv0YY5rs9WF"
      },
      "source": [
        "def n_espresso_please(number=2):\n",
        "  for i in range(number):\n",
        "      espresso_please()\n",
        "  return"
      ],
      "execution_count": null,
      "outputs": []
    },
    {
      "cell_type": "code",
      "metadata": {
        "id": "0BpWFxoutEiI",
        "colab": {
          "base_uri": "https://localhost:8080/"
        },
        "outputId": "95e73bdc-48de-407c-9177-209a4b1ccce5"
      },
      "source": [
        "n_espresso_please()"
      ],
      "execution_count": null,
      "outputs": [
        {
          "output_type": "stream",
          "name": "stdout",
          "text": [
            "\n",
            "        (  )  \n",
            "        )  (   \n",
            "      (   )    \n",
            "     _______\n",
            "    <_______> ___\n",
            "    |       |/ _ \\\n",
            "    |       | | | |\n",
            "    |         |_| |\n",
            " ___|       |\\___/\n",
            "/   \\_______/    \\\n",
            "\\________________/\n",
            "    \n",
            "    \n",
            "\n",
            "        (  )  \n",
            "        )  (   \n",
            "      (   )    \n",
            "     _______\n",
            "    <_______> ___\n",
            "    |       |/ _ \\\n",
            "    |       | | | |\n",
            "    |         |_| |\n",
            " ___|       |\\___/\n",
            "/   \\_______/    \\\n",
            "\\________________/\n",
            "    \n",
            "    \n"
          ]
        }
      ]
    },
    {
      "cell_type": "code",
      "source": [
        "more_espresso_please(number=3)"
      ],
      "metadata": {
        "colab": {
          "base_uri": "https://localhost:8080/"
        },
        "id": "Qubrj_tV9dJ1",
        "outputId": "1157643e-568f-48dd-91b7-74d1433814b9"
      },
      "execution_count": null,
      "outputs": [
        {
          "output_type": "stream",
          "name": "stdout",
          "text": [
            "\n",
            "        (  )  \n",
            "        )  (   \n",
            "      (   )    \n",
            "     _______\n",
            "    <_______> ___\n",
            "    |       |/ _ \\\n",
            "    |       | | | |\n",
            "    |         |_| |\n",
            " ___|       |\\___/\n",
            "/   \\_______/    \\\n",
            "\\________________/\n",
            "    \n",
            "    \n",
            "\n",
            "        (  )  \n",
            "        )  (   \n",
            "      (   )    \n",
            "     _______\n",
            "    <_______> ___\n",
            "    |       |/ _ \\\n",
            "    |       | | | |\n",
            "    |         |_| |\n",
            " ___|       |\\___/\n",
            "/   \\_______/    \\\n",
            "\\________________/\n",
            "    \n",
            "    \n",
            "\n",
            "        (  )  \n",
            "        )  (   \n",
            "      (   )    \n",
            "     _______\n",
            "    <_______> ___\n",
            "    |       |/ _ \\\n",
            "    |       | | | |\n",
            "    |         |_| |\n",
            " ___|       |\\___/\n",
            "/   \\_______/    \\\n",
            "\\________________/\n",
            "    \n",
            "    \n"
          ]
        }
      ]
    },
    {
      "cell_type": "markdown",
      "source": [
        "### Wartości opcjonalne"
      ],
      "metadata": {
        "id": "-PJ89THdg1wr"
      }
    },
    {
      "cell_type": "code",
      "metadata": {
        "id": "zoaacpHZL1yY"
      },
      "source": [
        "def print_welcome_message(name=None, surname=None):\n",
        "  if name is None and surname is None:\n",
        "    print('Witaj!')\n",
        "  else:\n",
        "    print(f'Witaj człowieku o imieniu {name} i nazwisku {surname}!')"
      ],
      "execution_count": null,
      "outputs": []
    },
    {
      "cell_type": "code",
      "metadata": {
        "id": "sXWfp-sDL6nw",
        "colab": {
          "base_uri": "https://localhost:8080/"
        },
        "outputId": "67b58aa5-dd34-429c-b5ff-bea2c1c37a5b"
      },
      "source": [
        "print_welcome_message()"
      ],
      "execution_count": null,
      "outputs": [
        {
          "output_type": "stream",
          "name": "stdout",
          "text": [
            "Witaj!\n"
          ]
        }
      ]
    },
    {
      "cell_type": "code",
      "metadata": {
        "id": "mhtJIPLnb-iw",
        "colab": {
          "base_uri": "https://localhost:8080/"
        },
        "outputId": "b328cd84-a27b-4a63-93f3-2ae7bd287b00"
      },
      "source": [
        "def product_info(product_name, country_of_orgin='Polska'):\n",
        "  print(f'Nazwa produktu: {product_name}, kraj pochodzenia: {country_of_orgin}')\n",
        "\n",
        "product_info('kiełbasa')\n",
        "product_info('kawa', 'Nigeria')"
      ],
      "execution_count": null,
      "outputs": [
        {
          "output_type": "stream",
          "name": "stdout",
          "text": [
            "Nazwa produktu: kiełbasa, kraj pochodzenia: Polska\n",
            "Nazwa produktu: kawa, kraj pochodzenia: Nigeria\n"
          ]
        }
      ]
    },
    {
      "cell_type": "markdown",
      "source": [
        "### Wartość zwrotna"
      ],
      "metadata": {
        "id": "p2VZLm6yhJ4I"
      }
    },
    {
      "cell_type": "code",
      "source": [
        "def add(a, b):\n",
        "  result = a + b\n",
        "  return result"
      ],
      "metadata": {
        "id": "4QVCL3MD90aR"
      },
      "execution_count": 13,
      "outputs": []
    },
    {
      "cell_type": "code",
      "source": [
        "add(2,3)"
      ],
      "metadata": {
        "colab": {
          "base_uri": "https://localhost:8080/"
        },
        "id": "qSlSD41592ql",
        "outputId": "3d5c44fc-e767-475a-fb32-3877dead0924"
      },
      "execution_count": 14,
      "outputs": [
        {
          "output_type": "execute_result",
          "data": {
            "text/plain": [
              "5"
            ]
          },
          "metadata": {},
          "execution_count": 14
        }
      ]
    },
    {
      "cell_type": "code",
      "source": [
        "add(2,3) * add(3,4)"
      ],
      "metadata": {
        "colab": {
          "base_uri": "https://localhost:8080/"
        },
        "id": "xM0eaz3H947H",
        "outputId": "d410b26f-e57e-45a1-cec0-fca82ba758dd"
      },
      "execution_count": 15,
      "outputs": [
        {
          "output_type": "execute_result",
          "data": {
            "text/plain": [
              "35"
            ]
          },
          "metadata": {},
          "execution_count": 15
        }
      ]
    },
    {
      "cell_type": "code",
      "source": [
        "add('Robert', 'Trypuz')"
      ],
      "metadata": {
        "colab": {
          "base_uri": "https://localhost:8080/",
          "height": 35
        },
        "id": "jdO_CyKn996i",
        "outputId": "409bd390-e04d-4109-bf84-898b495b6141"
      },
      "execution_count": 16,
      "outputs": [
        {
          "output_type": "execute_result",
          "data": {
            "text/plain": [
              "'RobertTrypuz'"
            ],
            "application/vnd.google.colaboratory.intrinsic+json": {
              "type": "string"
            }
          },
          "metadata": {},
          "execution_count": 16
        }
      ]
    },
    {
      "cell_type": "markdown",
      "source": [
        "### Funkcje i struktury danych"
      ],
      "metadata": {
        "id": "Tn5vK6IWg7tL"
      }
    },
    {
      "cell_type": "code",
      "metadata": {
        "id": "mMnbauXRe2ZI",
        "colab": {
          "base_uri": "https://localhost:8080/"
        },
        "outputId": "86dd3e27-d786-4b89-db8d-0b17d076c8d0"
      },
      "source": [
        "def print_awart_winners(list_of_winners):\n",
        "  print('Oto nasi zwycięzcy:')\n",
        "  for winner in list_of_winners:\n",
        "    print('-', winner)\n",
        "\n",
        "print_awart_winners(['Jan z Warszawy', 'Maria z Grudziądza', 'Janina z Sokółki'])"
      ],
      "execution_count": null,
      "outputs": [
        {
          "output_type": "stream",
          "name": "stdout",
          "text": [
            "Oto nasi zwycięzcy:\n",
            "- Jan z Warszawy\n",
            "- Maria z Grudziądza\n",
            "- Janina z Sokółki\n"
          ]
        }
      ]
    },
    {
      "cell_type": "code",
      "metadata": {
        "id": "qhM1nMNey9kR"
      },
      "source": [
        "def create_student_dict(name, surname, date_of_birth, place_of_birth):\n",
        "  student_dict = {'name': name,\n",
        "                  'surname': surname,\n",
        "                  'date_of_birth': date_of_birth,\n",
        "                  'place_of_birth': place_of_birth}\n",
        "  return student_dict"
      ],
      "execution_count": null,
      "outputs": []
    },
    {
      "cell_type": "code",
      "source": [
        "create_student_dict('Robert', 'Trypuz', '16.04.1979', 'Białystok')"
      ],
      "metadata": {
        "colab": {
          "base_uri": "https://localhost:8080/"
        },
        "id": "VsW2bQ-u-Nsb",
        "outputId": "1145361f-8c40-4c96-e630-391da3483a78"
      },
      "execution_count": null,
      "outputs": [
        {
          "output_type": "execute_result",
          "data": {
            "text/plain": [
              "{'date_of_birth': '16.04.1979',\n",
              " 'name': 'Robert',\n",
              " 'place_of_birth': 'Białystok',\n",
              " 'surname': 'Trypuz'}"
            ]
          },
          "metadata": {},
          "execution_count": 88
        }
      ]
    },
    {
      "cell_type": "code",
      "metadata": {
        "id": "du8YoQEGzx5A",
        "colab": {
          "base_uri": "https://localhost:8080/"
        },
        "outputId": "549fb0d3-68b9-42fd-9470-3f20bc060879"
      },
      "source": [
        "students_list = []\n",
        "students_list.append(create_student_dict('Jan', 'Kiełbasa', '12.12.2000', 'Białystok'))\n",
        "students_list.append(create_student_dict('Monika', 'Szacka', '16.04.2000', 'Lublin'))\n",
        "print(students_list)"
      ],
      "execution_count": null,
      "outputs": [
        {
          "output_type": "stream",
          "name": "stdout",
          "text": [
            "[{'name': 'Jan', 'surname': 'Kiełbasa', 'date_of_birth': '12.12.2000', 'place_of_birth': 'Białystok'}, {'name': 'Monika', 'surname': 'Szacka', 'date_of_birth': '16.04.2000', 'place_of_birth': 'Lublin'}]\n"
          ]
        }
      ]
    },
    {
      "cell_type": "markdown",
      "source": [
        "### Przekazywanie dowolnej liczby argumentów"
      ],
      "metadata": {
        "id": "TqVqjcW1hgCP"
      }
    },
    {
      "cell_type": "code",
      "metadata": {
        "id": "X47o6TWb26bs",
        "colab": {
          "base_uri": "https://localhost:8080/"
        },
        "outputId": "a5d5cb3d-d26a-41a3-80b7-a6f8c5782b4d"
      },
      "source": [
        "def add_foreign_languages(*languages):\n",
        "  if len(languages) > 1:\n",
        "    print('Kandydat zna języki obce:')\n",
        "    for language in languages:\n",
        "      print(f'- {language}')\n",
        "  elif len(languages) == 1:\n",
        "    print(f'Kandydat zna język {languages[0]}.')\n",
        "  else:\n",
        "    print('Z języków obcych to kandyda ogarnia tylko te w swoich w butach.')\n",
        "\n",
        "add_foreign_languages('angielski')"
      ],
      "execution_count": 28,
      "outputs": [
        {
          "output_type": "stream",
          "name": "stdout",
          "text": [
            "Kandydat zna język angielski.\n"
          ]
        }
      ]
    },
    {
      "cell_type": "code",
      "source": [
        "add_foreign_languages('angielski', 'hiszpański')"
      ],
      "metadata": {
        "colab": {
          "base_uri": "https://localhost:8080/"
        },
        "id": "t7jEOWaeiN2p",
        "outputId": "afd43c55-ae16-4587-8f85-65a543a8720a"
      },
      "execution_count": 29,
      "outputs": [
        {
          "output_type": "stream",
          "name": "stdout",
          "text": [
            "Kandydat zna języki obce:\n",
            "- angielski\n",
            "- hiszpański\n"
          ]
        }
      ]
    },
    {
      "cell_type": "code",
      "metadata": {
        "id": "BfJsrTPZ5Oe1",
        "colab": {
          "base_uri": "https://localhost:8080/"
        },
        "outputId": "5ae61423-baad-4f98-a1f6-3219b2da5447"
      },
      "source": [
        "def add_foreign_languages(**languages):\n",
        "  if len(languages) > 1:\n",
        "    print('Kandydat zna języki obce:')\n",
        "    for language, level in languages.items():\n",
        "      print(f'- {language}: {level}')\n",
        "  elif len(languages) == 1:\n",
        "    print(f'Kandydat zna język {list(languages.keys())[0]} {languages[list(languages.keys())[0]]}.')\n",
        "  else:\n",
        "    print('Z języków obcych to kandyda ogarnia tylko te w swoich w butach.')\n",
        "\n",
        "add_foreign_languages(angielski='biegle', włoski='początkująco')"
      ],
      "execution_count": 30,
      "outputs": [
        {
          "output_type": "stream",
          "name": "stdout",
          "text": [
            "Kandydat zna języki obce:\n",
            "- angielski: biegle\n",
            "- włoski: początkująco\n"
          ]
        }
      ]
    },
    {
      "cell_type": "markdown",
      "metadata": {
        "id": "_erLd1UChTDH"
      },
      "source": [
        "# Pliki"
      ]
    },
    {
      "cell_type": "markdown",
      "metadata": {
        "id": "vGran7BShRUj"
      },
      "source": [
        "## TXT"
      ]
    },
    {
      "cell_type": "code",
      "metadata": {
        "id": "ivWj1pyh0bn-",
        "colab": {
          "base_uri": "https://localhost:8080/"
        },
        "outputId": "d28d6689-b9d0-41c4-c8f0-b0b7380a7a7a"
      },
      "source": [
        "with open('lista_zakupów.txt', mode='w') as file:\n",
        "  file.write('Lista zakupów:\\n')\n",
        "  while True:\n",
        "    product = input('Dodaj produkt: ')\n",
        "    if product:\n",
        "      file.write(f'- {product}\\n')\n",
        "    else:\n",
        "      break\n",
        "      "
      ],
      "execution_count": 32,
      "outputs": [
        {
          "name": "stdout",
          "output_type": "stream",
          "text": [
            "Dodaj produkt: mleko\n",
            "Dodaj produkt: masło\n",
            "Dodaj produkt: \n"
          ]
        }
      ]
    },
    {
      "cell_type": "code",
      "metadata": {
        "id": "WlUt3sQb23Y3",
        "colab": {
          "base_uri": "https://localhost:8080/"
        },
        "outputId": "4882ba83-8162-49ec-f0f0-2e139a121231"
      },
      "source": [
        "with open('lista_zakupów.txt', 'r') as file:\n",
        "  print(file.read())"
      ],
      "execution_count": null,
      "outputs": [
        {
          "output_type": "stream",
          "name": "stdout",
          "text": [
            "Lista zakupów:\n",
            "- jaja\n",
            "- mleko\n",
            "\n"
          ]
        }
      ]
    },
    {
      "cell_type": "code",
      "metadata": {
        "id": "nD7trnbA5KU7",
        "colab": {
          "base_uri": "https://localhost:8080/"
        },
        "outputId": "2aba1ab0-750e-4ef5-f66b-62dd33aeb6d8"
      },
      "source": [
        "with open('lista_zakupów.txt', 'r') as file:\n",
        "  for line in file:\n",
        "    print(line)"
      ],
      "execution_count": null,
      "outputs": [
        {
          "output_type": "stream",
          "name": "stdout",
          "text": [
            "Lista zakupów:\n",
            "\n",
            "- jaja\n",
            "\n",
            "- mleko\n",
            "\n"
          ]
        }
      ]
    },
    {
      "cell_type": "code",
      "metadata": {
        "id": "zOzLO5z65wDA",
        "colab": {
          "base_uri": "https://localhost:8080/"
        },
        "outputId": "bff92ffd-4655-4927-b141-4c3ad3ff4c9e"
      },
      "source": [
        "with open('lista_zakupów.txt', 'r') as file:\n",
        "  lines = file.readlines()\n",
        "\n",
        "for line in lines:\n",
        "  print(line)"
      ],
      "execution_count": null,
      "outputs": [
        {
          "output_type": "stream",
          "name": "stdout",
          "text": [
            "Lista zakupów:\n",
            "\n",
            "- jaja\n",
            "\n",
            "- mleko\n",
            "\n"
          ]
        }
      ]
    },
    {
      "cell_type": "markdown",
      "metadata": {
        "id": "h0iBHYf--IOt"
      },
      "source": [
        "## CSV\n"
      ]
    },
    {
      "cell_type": "code",
      "metadata": {
        "id": "AIi2Pd9z-J5v"
      },
      "source": [
        "import csv\n",
        "\n",
        "with open('students.csv', 'w') as file:\n",
        "  csv_writer = csv.writer(file, delimiter=',', quotechar='\"', quoting=csv.QUOTE_MINIMAL)\n",
        "\n",
        "  csv_writer.writerow(['Jan', 'Kiełbasa', '12.12.2000', 'Białystok'])\n",
        "  csv_writer.writerow(['Monika', 'Szacka', '16.04.2000', 'Lublin'])"
      ],
      "execution_count": null,
      "outputs": []
    },
    {
      "cell_type": "code",
      "metadata": {
        "id": "B-hqQiwEvC5k",
        "colab": {
          "base_uri": "https://localhost:8080/"
        },
        "outputId": "3869add3-a44f-482e-ef84-c011eedbc4e2"
      },
      "source": [
        "with open('students.csv', newline='') as file:\n",
        "  csv_reader = csv.reader(file, delimiter=',', quotechar='\"')\n",
        "  for row in csv_reader:\n",
        "    print(f'Imię: {row[0]}\\nNazwisko: {row[1]}\\nData urodzenia: {row[2]}\\nMiejsce urodzenia: {row[3]}\\n')"
      ],
      "execution_count": null,
      "outputs": [
        {
          "output_type": "stream",
          "name": "stdout",
          "text": [
            "Imię: Jan\n",
            "Nazwisko: Kiełbasa\n",
            "Data urodzenia: 12.12.2000\n",
            "Miejsce urodzenia: Białystok\n",
            "\n",
            "Imię: Monika\n",
            "Nazwisko: Szacka\n",
            "Data urodzenia: 16.04.2000\n",
            "Miejsce urodzenia: Lublin\n",
            "\n"
          ]
        }
      ]
    },
    {
      "cell_type": "markdown",
      "source": [
        "# Klasy i obiekty"
      ],
      "metadata": {
        "id": "GC22efkV-eKC"
      }
    },
    {
      "cell_type": "markdown",
      "source": [
        "## Pierwsza klasa i jej obiekty (egzemplarze)"
      ],
      "metadata": {
        "id": "bp7UBSvF_ay9"
      }
    },
    {
      "cell_type": "code",
      "source": [
        "class Student():\n",
        "  def __init__(self, name, surname, id):\n",
        "    self.name = name\n",
        "    self.surname = surname\n",
        "    self.id = id"
      ],
      "metadata": {
        "id": "WBoL1LgH-ktT"
      },
      "execution_count": null,
      "outputs": []
    },
    {
      "cell_type": "code",
      "source": [
        "student_1 = Student(name='Jan', surname='Kiełbasa', id=123456)"
      ],
      "metadata": {
        "id": "7DoaNu-7-nYm"
      },
      "execution_count": null,
      "outputs": []
    },
    {
      "cell_type": "code",
      "source": [
        "print(student_1.name)\n",
        "print(student_1.surname)\n",
        "print(student_1.id)"
      ],
      "metadata": {
        "colab": {
          "base_uri": "https://localhost:8080/"
        },
        "id": "YGSffk6n-odz",
        "outputId": "2426276d-a452-408f-a8f7-7da2a861c3f6"
      },
      "execution_count": null,
      "outputs": [
        {
          "output_type": "stream",
          "name": "stdout",
          "text": [
            "Jan\n",
            "Kiełbasa\n",
            "123456\n"
          ]
        }
      ]
    },
    {
      "cell_type": "code",
      "metadata": {
        "id": "1j-DtcjB-2aU"
      },
      "source": [
        "class Student():\n",
        "  def __init__(self, name, surname, id):\n",
        "    self.name = name\n",
        "    self.surname = surname\n",
        "    self.id = id\n",
        "\n",
        "  def change_name(self, new_name):\n",
        "    self.name = new_name\n",
        "\n",
        "  def change_surname(self, new_surname):\n",
        "    self.surname = new_surname    "
      ],
      "execution_count": null,
      "outputs": []
    },
    {
      "cell_type": "code",
      "source": [
        "student_1 = Student(name='Jan', surname='Kiełbasa', id=123456)\n",
        "student_1.change_name('Robert')\n",
        "print(student_1.name)"
      ],
      "metadata": {
        "colab": {
          "base_uri": "https://localhost:8080/"
        },
        "id": "NATcIdS9-76N",
        "outputId": "e9c7c89b-a765-4632-e6d5-906d54540d20"
      },
      "execution_count": null,
      "outputs": [
        {
          "output_type": "stream",
          "name": "stdout",
          "text": [
            "Robert\n"
          ]
        }
      ]
    },
    {
      "cell_type": "code",
      "source": [
        "class Student():\n",
        "  def __init__(self, name, surname, id):\n",
        "    self.name = name\n",
        "    self.surname = surname\n",
        "    self.id = id\n",
        "\n",
        "  def change_name(self, new_name):\n",
        "    self.name = new_name\n",
        "\n",
        "  def change_surname(self, new_surname):\n",
        "    self.surname = new_surname    \n",
        "\n",
        "  def get_name(self):\n",
        "    print(f'Student(ka) ma na imię {self.name}.')    \n",
        "\n",
        "  def get_surname(self):\n",
        "    print(f'Student(ka) ma na nazwisko {self.surname}.')      "
      ],
      "metadata": {
        "id": "SKa3Kri3_D4k"
      },
      "execution_count": null,
      "outputs": []
    },
    {
      "cell_type": "code",
      "metadata": {
        "id": "cwCDIBi1AfLQ",
        "colab": {
          "base_uri": "https://localhost:8080/"
        },
        "outputId": "cdca46ea-50c2-439b-faa0-c6e8fd1294f9"
      },
      "source": [
        "student_1 = Student(name='Jan', surname='Kiełbasa', id=123456)\n",
        "student_1.get_name()\n",
        "student_2 = Student(name='Mariola', surname='Marchewka', id=789012)\n",
        "student_2.get_name()\n",
        "student_2.get_surname()\n",
        "student_2.change_surname('Pietrucha')\n",
        "student_2.get_surname()"
      ],
      "execution_count": null,
      "outputs": [
        {
          "output_type": "stream",
          "name": "stdout",
          "text": [
            "Student(ka) ma na imię Jan.\n",
            "Student(ka) ma na imię Mariola.\n",
            "Student(ka) ma na nazwisko Marchewka.\n",
            "Student(ka) ma na nazwisko Pietrucha.\n"
          ]
        }
      ]
    },
    {
      "cell_type": "markdown",
      "source": [
        "## Metoda statyczna"
      ],
      "metadata": {
        "id": "c9XU51yk92Go"
      }
    },
    {
      "cell_type": "code",
      "source": [
        "class Student():\n",
        "  total = 0\n",
        "  \n",
        "  def __init__(self, name, surname, id):\n",
        "    self.name = name\n",
        "    self.surname = surname\n",
        "    self.id = id\n",
        "    Student.total += 1\n",
        "\n",
        "  @staticmethod\n",
        "  def status():\n",
        "    print(f'Liczba utworzonych obiektów klasy Student: {Student.total}.')    "
      ],
      "metadata": {
        "id": "nM_yFAMF8LI8"
      },
      "execution_count": null,
      "outputs": []
    },
    {
      "cell_type": "code",
      "source": [
        "student_1 = Student(name='Jan', surname='Kiełbasa', id=123456)\n",
        "student_2 = Student(name='Mariola', surname='Marchewka', id=789012)"
      ],
      "metadata": {
        "id": "4COjb0E48ca-"
      },
      "execution_count": null,
      "outputs": []
    },
    {
      "cell_type": "code",
      "source": [
        "Student.status()"
      ],
      "metadata": {
        "colab": {
          "base_uri": "https://localhost:8080/"
        },
        "id": "luRXefS98haY",
        "outputId": "d21d0f11-5f43-449d-ebeb-269f9edc2853"
      },
      "execution_count": null,
      "outputs": [
        {
          "output_type": "stream",
          "name": "stdout",
          "text": [
            "Liczba utworzonych obiektów klasy Student: 2.\n"
          ]
        }
      ]
    },
    {
      "cell_type": "markdown",
      "source": [
        "## Dziedziczenie"
      ],
      "metadata": {
        "id": "y8-KZikgnB4v"
      }
    },
    {
      "cell_type": "code",
      "source": [
        "class StudentExternal(Student):\n",
        "  def __init__(self, name, surname, id):\n",
        "    super().__init__(name, surname, id)"
      ],
      "metadata": {
        "id": "Fu5DLzOinD8T"
      },
      "execution_count": null,
      "outputs": []
    },
    {
      "cell_type": "code",
      "source": [
        "student_external1 = StudentExternal('Nina', 'Kowalska', 4567896)"
      ],
      "metadata": {
        "id": "kLFhz_-8oZKx"
      },
      "execution_count": null,
      "outputs": []
    },
    {
      "cell_type": "code",
      "source": [
        "student_external1.get_name()"
      ],
      "metadata": {
        "colab": {
          "base_uri": "https://localhost:8080/"
        },
        "id": "80bOLZpQpa3L",
        "outputId": "d6df05c9-dec9-4e8e-a1d9-0da849d908ff"
      },
      "execution_count": null,
      "outputs": [
        {
          "output_type": "stream",
          "name": "stdout",
          "text": [
            "Student(ka) ma na imię Nina.\n"
          ]
        }
      ]
    },
    {
      "cell_type": "code",
      "source": [
        "class StudentExternal(Student):\n",
        "  def __init__(self, name, surname, id, study_field):\n",
        "    super().__init__(name, surname, id)\n",
        "    self.study_field = study_field"
      ],
      "metadata": {
        "id": "mTK0DcGDpqpR"
      },
      "execution_count": null,
      "outputs": []
    },
    {
      "cell_type": "code",
      "source": [
        "student_external1 = StudentExternal('Nina', 'Kowalska', 4567896, 'Cognitive Science')"
      ],
      "metadata": {
        "id": "2Ns-uyxqqQbS"
      },
      "execution_count": null,
      "outputs": []
    },
    {
      "cell_type": "code",
      "source": [
        "student_external1.get_surname()"
      ],
      "metadata": {
        "colab": {
          "base_uri": "https://localhost:8080/"
        },
        "id": "8EBxTwVpqWhq",
        "outputId": "5b4d65d9-a33a-499f-cbdb-7c8efe5ecda2"
      },
      "execution_count": null,
      "outputs": [
        {
          "output_type": "stream",
          "name": "stdout",
          "text": [
            "Student(ka) ma na nazwisko Kowalska.\n"
          ]
        }
      ]
    },
    {
      "cell_type": "code",
      "source": [
        "student_external1.study_field"
      ],
      "metadata": {
        "colab": {
          "base_uri": "https://localhost:8080/",
          "height": 35
        },
        "id": "tSLtv_wmqbYN",
        "outputId": "56dd10e0-6db3-4fc8-fbe1-bd1b9e25cbdb"
      },
      "execution_count": null,
      "outputs": [
        {
          "output_type": "execute_result",
          "data": {
            "application/vnd.google.colaboratory.intrinsic+json": {
              "type": "string"
            },
            "text/plain": [
              "'Cognitive Science'"
            ]
          },
          "metadata": {},
          "execution_count": 16
        }
      ]
    },
    {
      "cell_type": "markdown",
      "source": [
        "## Egzemplarze i atrybuty"
      ],
      "metadata": {
        "id": "e3_4YQoTqvk-"
      }
    },
    {
      "cell_type": "code",
      "source": [
        "class StudyField:\n",
        "  def __init__(self, field_name, dean):\n",
        "      self.field_name = field_name\n",
        "      self.dean = dean"
      ],
      "metadata": {
        "id": "IsbpUdFfquzY"
      },
      "execution_count": null,
      "outputs": []
    },
    {
      "cell_type": "code",
      "source": [
        "cog_science = StudyField('Cognitive Science', 'Marek Lechniak')"
      ],
      "metadata": {
        "id": "alRzPR4qrKWM"
      },
      "execution_count": null,
      "outputs": []
    },
    {
      "cell_type": "code",
      "source": [
        "class StudentExternal(Student):\n",
        "  def __init__(self, name, surname, id, field_name, dean):\n",
        "    super().__init__(name, surname, id)\n",
        "    self.study_field = StudyField(field_name, dean)"
      ],
      "metadata": {
        "id": "jL4RxI7Brcgd"
      },
      "execution_count": null,
      "outputs": []
    },
    {
      "cell_type": "code",
      "source": [
        "student_external1 = StudentExternal('Nina', 'Kowalska', 4567896, 'Cognitive Science', 'Marek Lechniak')"
      ],
      "metadata": {
        "id": "lZmv6Ziirlvh"
      },
      "execution_count": null,
      "outputs": []
    },
    {
      "cell_type": "code",
      "source": [
        "student_external1.study_field.dean"
      ],
      "metadata": {
        "colab": {
          "base_uri": "https://localhost:8080/",
          "height": 35
        },
        "id": "Aafrxrcf17H0",
        "outputId": "02e63281-d08d-4f2c-c5b4-5c05b9119472"
      },
      "execution_count": null,
      "outputs": [
        {
          "output_type": "execute_result",
          "data": {
            "application/vnd.google.colaboratory.intrinsic+json": {
              "type": "string"
            },
            "text/plain": [
              "'Marek Lechniak'"
            ]
          },
          "metadata": {},
          "execution_count": 40
        }
      ]
    },
    {
      "cell_type": "markdown",
      "source": [
        "# Obiekty iterowalne i generatory"
      ],
      "metadata": {
        "id": "WyMl0Hzfgs81"
      }
    },
    {
      "cell_type": "code",
      "source": [
        "for letter in 'Ala ma kota':\n",
        "  print(letter)"
      ],
      "metadata": {
        "colab": {
          "base_uri": "https://localhost:8080/"
        },
        "id": "bpBlBKbOgwYR",
        "outputId": "e440ea01-100e-4ab5-a1ed-0b6024c94688"
      },
      "execution_count": 1,
      "outputs": [
        {
          "output_type": "stream",
          "name": "stdout",
          "text": [
            "A\n",
            "l\n",
            "a\n",
            " \n",
            "m\n",
            "a\n",
            " \n",
            "k\n",
            "o\n",
            "t\n",
            "a\n"
          ]
        }
      ]
    },
    {
      "cell_type": "code",
      "source": [
        "for number in 234:\n",
        "  print(number)"
      ],
      "metadata": {
        "colab": {
          "base_uri": "https://localhost:8080/",
          "height": 186
        },
        "id": "Xw58q4Y3g6EZ",
        "outputId": "8eb9f810-7cf8-4f55-e5d2-8617cbeddf68"
      },
      "execution_count": 2,
      "outputs": [
        {
          "output_type": "error",
          "ename": "TypeError",
          "evalue": "ignored",
          "traceback": [
            "\u001b[0;31m---------------------------------------------------------------------------\u001b[0m",
            "\u001b[0;31mTypeError\u001b[0m                                 Traceback (most recent call last)",
            "\u001b[0;32m<ipython-input-2-8eef2e3593cc>\u001b[0m in \u001b[0;36m<module>\u001b[0;34m()\u001b[0m\n\u001b[0;32m----> 1\u001b[0;31m \u001b[0;32mfor\u001b[0m \u001b[0mnumber\u001b[0m \u001b[0;32min\u001b[0m \u001b[0;36m234\u001b[0m\u001b[0;34m:\u001b[0m\u001b[0;34m\u001b[0m\u001b[0;34m\u001b[0m\u001b[0m\n\u001b[0m\u001b[1;32m      2\u001b[0m   \u001b[0mprint\u001b[0m\u001b[0;34m(\u001b[0m\u001b[0mnumber\u001b[0m\u001b[0;34m)\u001b[0m\u001b[0;34m\u001b[0m\u001b[0;34m\u001b[0m\u001b[0m\n",
            "\u001b[0;31mTypeError\u001b[0m: 'int' object is not iterable"
          ]
        }
      ]
    },
    {
      "cell_type": "code",
      "source": [
        "class MyIterator():\n",
        "  def __init__(self, data):\n",
        "    print('\\tKonstruktor __init__ przyjmuje dane i inicjuje indeks.')\n",
        "    self.data = data\n",
        "    self.index = 0\n",
        "  \n",
        "  def __iter__(self):\n",
        "    print('\\tMetoda __iter__ informuje Pythona, że obiekt jest iterowalny.')\n",
        "    return self\n",
        "  \n",
        "  def __next__(self):\n",
        "    # print('Metoda __next__')\n",
        "    data_len = len(self.data)\n",
        "    if self.index >= data_len:\n",
        "      print(f'\\tMetoda __next__: StopIteration')\n",
        "      raise StopIteration\n",
        "    \n",
        "    value = self.data[self.index]\n",
        "    self.index += 1\n",
        "    print(f'\\tMetoda __next__: przechwytuję aktualną wartość \"{value}\" z indeksu {self.index-1}/{data_len-1} i przechodzę do indeksu {self.index}.')\n",
        "    return value\n",
        "\n",
        "for item in MyIterator('abc'):\n",
        "    print(item)"
      ],
      "metadata": {
        "colab": {
          "base_uri": "https://localhost:8080/"
        },
        "id": "4NO6C9iSh9nc",
        "outputId": "d3942ea1-fdd6-4f23-c5d6-576bc5f462d7"
      },
      "execution_count": 20,
      "outputs": [
        {
          "output_type": "stream",
          "name": "stdout",
          "text": [
            "\tKonstruktor __init__ przyjmuje dane i inicjuje indeks.\n",
            "\tMetoda __iter__ informuje Pythona, że obiekt jest iterowalny.\n",
            "\tMetoda __next__: przechwytuję aktualną wartość \"a\" z indeksu 0/2 i przechodzę do indeksu 1.\n",
            "a\n",
            "\tMetoda __next__: przechwytuję aktualną wartość \"b\" z indeksu 1/2 i przechodzę do indeksu 2.\n",
            "b\n",
            "\tMetoda __next__: przechwytuję aktualną wartość \"c\" z indeksu 2/2 i przechodzę do indeksu 3.\n",
            "c\n",
            "\tMetoda __next__: StopIteration\n"
          ]
        }
      ]
    },
    {
      "cell_type": "code",
      "source": [
        "def rev_str(my_str):\n",
        "    length = len(my_str)\n",
        "    for i in range(length - 1, -1, -1):\n",
        "        yield my_str[i]\n",
        "\n",
        "a = rev_str(\"hello\")\n",
        "next(a)\n",
        "next(a)"
      ],
      "metadata": {
        "colab": {
          "base_uri": "https://localhost:8080/",
          "height": 35
        },
        "id": "B51dNKdJOEol",
        "outputId": "36939f93-d94b-4d5b-d11f-40e2d53e72fc"
      },
      "execution_count": 2,
      "outputs": [
        {
          "output_type": "execute_result",
          "data": {
            "text/plain": [
              "'l'"
            ],
            "application/vnd.google.colaboratory.intrinsic+json": {
              "type": "string"
            }
          },
          "metadata": {},
          "execution_count": 2
        }
      ]
    },
    {
      "cell_type": "markdown",
      "source": [
        "# Chatbot"
      ],
      "metadata": {
        "id": "6M-nRqn47_VD"
      }
    },
    {
      "cell_type": "code",
      "source": [
        "!pip install pystempel"
      ],
      "metadata": {
        "colab": {
          "base_uri": "https://localhost:8080/"
        },
        "id": "gEcPNAjpeaoj",
        "outputId": "be484d4a-2059-420b-a765-b73be0a52cc2"
      },
      "execution_count": 2,
      "outputs": [
        {
          "output_type": "stream",
          "name": "stdout",
          "text": [
            "Collecting pystempel\n",
            "  Downloading pystempel-1.2.0-py3-none-any.whl (2.7 MB)\n",
            "\u001b[?25l\r\u001b[K     |▏                               | 10 kB 19.0 MB/s eta 0:00:01\r\u001b[K     |▎                               | 20 kB 21.0 MB/s eta 0:00:01\r\u001b[K     |▍                               | 30 kB 26.0 MB/s eta 0:00:01\r\u001b[K     |▌                               | 40 kB 30.4 MB/s eta 0:00:01\r\u001b[K     |▋                               | 51 kB 32.9 MB/s eta 0:00:01\r\u001b[K     |▊                               | 61 kB 35.9 MB/s eta 0:00:01\r\u001b[K     |▉                               | 71 kB 32.7 MB/s eta 0:00:01\r\u001b[K     |█                               | 81 kB 25.5 MB/s eta 0:00:01\r\u001b[K     |█                               | 92 kB 27.1 MB/s eta 0:00:01\r\u001b[K     |█▏                              | 102 kB 29.1 MB/s eta 0:00:01\r\u001b[K     |█▎                              | 112 kB 29.1 MB/s eta 0:00:01\r\u001b[K     |█▌                              | 122 kB 29.1 MB/s eta 0:00:01\r\u001b[K     |█▋                              | 133 kB 29.1 MB/s eta 0:00:01\r\u001b[K     |█▊                              | 143 kB 29.1 MB/s eta 0:00:01\r\u001b[K     |█▉                              | 153 kB 29.1 MB/s eta 0:00:01\r\u001b[K     |██                              | 163 kB 29.1 MB/s eta 0:00:01\r\u001b[K     |██                              | 174 kB 29.1 MB/s eta 0:00:01\r\u001b[K     |██▏                             | 184 kB 29.1 MB/s eta 0:00:01\r\u001b[K     |██▎                             | 194 kB 29.1 MB/s eta 0:00:01\r\u001b[K     |██▍                             | 204 kB 29.1 MB/s eta 0:00:01\r\u001b[K     |██▌                             | 215 kB 29.1 MB/s eta 0:00:01\r\u001b[K     |██▋                             | 225 kB 29.1 MB/s eta 0:00:01\r\u001b[K     |██▊                             | 235 kB 29.1 MB/s eta 0:00:01\r\u001b[K     |███                             | 245 kB 29.1 MB/s eta 0:00:01\r\u001b[K     |███                             | 256 kB 29.1 MB/s eta 0:00:01\r\u001b[K     |███▏                            | 266 kB 29.1 MB/s eta 0:00:01\r\u001b[K     |███▎                            | 276 kB 29.1 MB/s eta 0:00:01\r\u001b[K     |███▍                            | 286 kB 29.1 MB/s eta 0:00:01\r\u001b[K     |███▌                            | 296 kB 29.1 MB/s eta 0:00:01\r\u001b[K     |███▋                            | 307 kB 29.1 MB/s eta 0:00:01\r\u001b[K     |███▊                            | 317 kB 29.1 MB/s eta 0:00:01\r\u001b[K     |███▉                            | 327 kB 29.1 MB/s eta 0:00:01\r\u001b[K     |████                            | 337 kB 29.1 MB/s eta 0:00:01\r\u001b[K     |████                            | 348 kB 29.1 MB/s eta 0:00:01\r\u001b[K     |████▎                           | 358 kB 29.1 MB/s eta 0:00:01\r\u001b[K     |████▍                           | 368 kB 29.1 MB/s eta 0:00:01\r\u001b[K     |████▌                           | 378 kB 29.1 MB/s eta 0:00:01\r\u001b[K     |████▋                           | 389 kB 29.1 MB/s eta 0:00:01\r\u001b[K     |████▊                           | 399 kB 29.1 MB/s eta 0:00:01\r\u001b[K     |████▉                           | 409 kB 29.1 MB/s eta 0:00:01\r\u001b[K     |█████                           | 419 kB 29.1 MB/s eta 0:00:01\r\u001b[K     |█████                           | 430 kB 29.1 MB/s eta 0:00:01\r\u001b[K     |█████▏                          | 440 kB 29.1 MB/s eta 0:00:01\r\u001b[K     |█████▎                          | 450 kB 29.1 MB/s eta 0:00:01\r\u001b[K     |█████▍                          | 460 kB 29.1 MB/s eta 0:00:01\r\u001b[K     |█████▌                          | 471 kB 29.1 MB/s eta 0:00:01\r\u001b[K     |█████▊                          | 481 kB 29.1 MB/s eta 0:00:01\r\u001b[K     |█████▉                          | 491 kB 29.1 MB/s eta 0:00:01\r\u001b[K     |██████                          | 501 kB 29.1 MB/s eta 0:00:01\r\u001b[K     |██████                          | 512 kB 29.1 MB/s eta 0:00:01\r\u001b[K     |██████▏                         | 522 kB 29.1 MB/s eta 0:00:01\r\u001b[K     |██████▎                         | 532 kB 29.1 MB/s eta 0:00:01\r\u001b[K     |██████▍                         | 542 kB 29.1 MB/s eta 0:00:01\r\u001b[K     |██████▌                         | 552 kB 29.1 MB/s eta 0:00:01\r\u001b[K     |██████▋                         | 563 kB 29.1 MB/s eta 0:00:01\r\u001b[K     |██████▊                         | 573 kB 29.1 MB/s eta 0:00:01\r\u001b[K     |██████▉                         | 583 kB 29.1 MB/s eta 0:00:01\r\u001b[K     |███████                         | 593 kB 29.1 MB/s eta 0:00:01\r\u001b[K     |███████▏                        | 604 kB 29.1 MB/s eta 0:00:01\r\u001b[K     |███████▎                        | 614 kB 29.1 MB/s eta 0:00:01\r\u001b[K     |███████▍                        | 624 kB 29.1 MB/s eta 0:00:01\r\u001b[K     |███████▌                        | 634 kB 29.1 MB/s eta 0:00:01\r\u001b[K     |███████▋                        | 645 kB 29.1 MB/s eta 0:00:01\r\u001b[K     |███████▊                        | 655 kB 29.1 MB/s eta 0:00:01\r\u001b[K     |███████▉                        | 665 kB 29.1 MB/s eta 0:00:01\r\u001b[K     |████████                        | 675 kB 29.1 MB/s eta 0:00:01\r\u001b[K     |████████                        | 686 kB 29.1 MB/s eta 0:00:01\r\u001b[K     |████████▏                       | 696 kB 29.1 MB/s eta 0:00:01\r\u001b[K     |████████▎                       | 706 kB 29.1 MB/s eta 0:00:01\r\u001b[K     |████████▌                       | 716 kB 29.1 MB/s eta 0:00:01\r\u001b[K     |████████▋                       | 727 kB 29.1 MB/s eta 0:00:01\r\u001b[K     |████████▊                       | 737 kB 29.1 MB/s eta 0:00:01\r\u001b[K     |████████▉                       | 747 kB 29.1 MB/s eta 0:00:01\r\u001b[K     |█████████                       | 757 kB 29.1 MB/s eta 0:00:01\r\u001b[K     |█████████                       | 768 kB 29.1 MB/s eta 0:00:01\r\u001b[K     |█████████▏                      | 778 kB 29.1 MB/s eta 0:00:01\r\u001b[K     |█████████▎                      | 788 kB 29.1 MB/s eta 0:00:01\r\u001b[K     |█████████▍                      | 798 kB 29.1 MB/s eta 0:00:01\r\u001b[K     |█████████▌                      | 808 kB 29.1 MB/s eta 0:00:01\r\u001b[K     |█████████▋                      | 819 kB 29.1 MB/s eta 0:00:01\r\u001b[K     |█████████▊                      | 829 kB 29.1 MB/s eta 0:00:01\r\u001b[K     |██████████                      | 839 kB 29.1 MB/s eta 0:00:01\r\u001b[K     |██████████                      | 849 kB 29.1 MB/s eta 0:00:01\r\u001b[K     |██████████▏                     | 860 kB 29.1 MB/s eta 0:00:01\r\u001b[K     |██████████▎                     | 870 kB 29.1 MB/s eta 0:00:01\r\u001b[K     |██████████▍                     | 880 kB 29.1 MB/s eta 0:00:01\r\u001b[K     |██████████▌                     | 890 kB 29.1 MB/s eta 0:00:01\r\u001b[K     |██████████▋                     | 901 kB 29.1 MB/s eta 0:00:01\r\u001b[K     |██████████▊                     | 911 kB 29.1 MB/s eta 0:00:01\r\u001b[K     |██████████▉                     | 921 kB 29.1 MB/s eta 0:00:01\r\u001b[K     |███████████                     | 931 kB 29.1 MB/s eta 0:00:01\r\u001b[K     |███████████                     | 942 kB 29.1 MB/s eta 0:00:01\r\u001b[K     |███████████▏                    | 952 kB 29.1 MB/s eta 0:00:01\r\u001b[K     |███████████▍                    | 962 kB 29.1 MB/s eta 0:00:01\r\u001b[K     |███████████▌                    | 972 kB 29.1 MB/s eta 0:00:01\r\u001b[K     |███████████▋                    | 983 kB 29.1 MB/s eta 0:00:01\r\u001b[K     |███████████▊                    | 993 kB 29.1 MB/s eta 0:00:01\r\u001b[K     |███████████▉                    | 1.0 MB 29.1 MB/s eta 0:00:01\r\u001b[K     |████████████                    | 1.0 MB 29.1 MB/s eta 0:00:01\r\u001b[K     |████████████                    | 1.0 MB 29.1 MB/s eta 0:00:01\r\u001b[K     |████████████▏                   | 1.0 MB 29.1 MB/s eta 0:00:01\r\u001b[K     |████████████▎                   | 1.0 MB 29.1 MB/s eta 0:00:01\r\u001b[K     |████████████▍                   | 1.1 MB 29.1 MB/s eta 0:00:01\r\u001b[K     |████████████▌                   | 1.1 MB 29.1 MB/s eta 0:00:01\r\u001b[K     |████████████▊                   | 1.1 MB 29.1 MB/s eta 0:00:01\r\u001b[K     |████████████▉                   | 1.1 MB 29.1 MB/s eta 0:00:01\r\u001b[K     |█████████████                   | 1.1 MB 29.1 MB/s eta 0:00:01\r\u001b[K     |█████████████                   | 1.1 MB 29.1 MB/s eta 0:00:01\r\u001b[K     |█████████████▏                  | 1.1 MB 29.1 MB/s eta 0:00:01\r\u001b[K     |█████████████▎                  | 1.1 MB 29.1 MB/s eta 0:00:01\r\u001b[K     |█████████████▍                  | 1.1 MB 29.1 MB/s eta 0:00:01\r\u001b[K     |█████████████▌                  | 1.1 MB 29.1 MB/s eta 0:00:01\r\u001b[K     |█████████████▋                  | 1.2 MB 29.1 MB/s eta 0:00:01\r\u001b[K     |█████████████▊                  | 1.2 MB 29.1 MB/s eta 0:00:01\r\u001b[K     |█████████████▉                  | 1.2 MB 29.1 MB/s eta 0:00:01\r\u001b[K     |██████████████                  | 1.2 MB 29.1 MB/s eta 0:00:01\r\u001b[K     |██████████████▏                 | 1.2 MB 29.1 MB/s eta 0:00:01\r\u001b[K     |██████████████▎                 | 1.2 MB 29.1 MB/s eta 0:00:01\r\u001b[K     |██████████████▍                 | 1.2 MB 29.1 MB/s eta 0:00:01\r\u001b[K     |██████████████▌                 | 1.2 MB 29.1 MB/s eta 0:00:01\r\u001b[K     |██████████████▋                 | 1.2 MB 29.1 MB/s eta 0:00:01\r\u001b[K     |██████████████▊                 | 1.2 MB 29.1 MB/s eta 0:00:01\r\u001b[K     |██████████████▉                 | 1.3 MB 29.1 MB/s eta 0:00:01\r\u001b[K     |███████████████                 | 1.3 MB 29.1 MB/s eta 0:00:01\r\u001b[K     |███████████████                 | 1.3 MB 29.1 MB/s eta 0:00:01\r\u001b[K     |███████████████▏                | 1.3 MB 29.1 MB/s eta 0:00:01\r\u001b[K     |███████████████▎                | 1.3 MB 29.1 MB/s eta 0:00:01\r\u001b[K     |███████████████▍                | 1.3 MB 29.1 MB/s eta 0:00:01\r\u001b[K     |███████████████▋                | 1.3 MB 29.1 MB/s eta 0:00:01\r\u001b[K     |███████████████▊                | 1.3 MB 29.1 MB/s eta 0:00:01\r\u001b[K     |███████████████▉                | 1.3 MB 29.1 MB/s eta 0:00:01\r\u001b[K     |████████████████                | 1.4 MB 29.1 MB/s eta 0:00:01\r\u001b[K     |████████████████                | 1.4 MB 29.1 MB/s eta 0:00:01\r\u001b[K     |████████████████▏               | 1.4 MB 29.1 MB/s eta 0:00:01\r\u001b[K     |████████████████▎               | 1.4 MB 29.1 MB/s eta 0:00:01\r\u001b[K     |████████████████▍               | 1.4 MB 29.1 MB/s eta 0:00:01\r\u001b[K     |████████████████▌               | 1.4 MB 29.1 MB/s eta 0:00:01\r\u001b[K     |████████████████▋               | 1.4 MB 29.1 MB/s eta 0:00:01\r\u001b[K     |████████████████▊               | 1.4 MB 29.1 MB/s eta 0:00:01\r\u001b[K     |█████████████████               | 1.4 MB 29.1 MB/s eta 0:00:01\r\u001b[K     |█████████████████               | 1.4 MB 29.1 MB/s eta 0:00:01\r\u001b[K     |█████████████████▏              | 1.5 MB 29.1 MB/s eta 0:00:01\r\u001b[K     |█████████████████▎              | 1.5 MB 29.1 MB/s eta 0:00:01\r\u001b[K     |█████████████████▍              | 1.5 MB 29.1 MB/s eta 0:00:01\r\u001b[K     |█████████████████▌              | 1.5 MB 29.1 MB/s eta 0:00:01\r\u001b[K     |█████████████████▋              | 1.5 MB 29.1 MB/s eta 0:00:01\r\u001b[K     |█████████████████▊              | 1.5 MB 29.1 MB/s eta 0:00:01\r\u001b[K     |█████████████████▉              | 1.5 MB 29.1 MB/s eta 0:00:01\r\u001b[K     |██████████████████              | 1.5 MB 29.1 MB/s eta 0:00:01\r\u001b[K     |██████████████████              | 1.5 MB 29.1 MB/s eta 0:00:01\r\u001b[K     |██████████████████▏             | 1.5 MB 29.1 MB/s eta 0:00:01\r\u001b[K     |██████████████████▍             | 1.6 MB 29.1 MB/s eta 0:00:01\r\u001b[K     |██████████████████▌             | 1.6 MB 29.1 MB/s eta 0:00:01\r\u001b[K     |██████████████████▋             | 1.6 MB 29.1 MB/s eta 0:00:01\r\u001b[K     |██████████████████▊             | 1.6 MB 29.1 MB/s eta 0:00:01\r\u001b[K     |██████████████████▉             | 1.6 MB 29.1 MB/s eta 0:00:01\r\u001b[K     |███████████████████             | 1.6 MB 29.1 MB/s eta 0:00:01\r\u001b[K     |███████████████████             | 1.6 MB 29.1 MB/s eta 0:00:01\r\u001b[K     |███████████████████▏            | 1.6 MB 29.1 MB/s eta 0:00:01\r\u001b[K     |███████████████████▎            | 1.6 MB 29.1 MB/s eta 0:00:01\r\u001b[K     |███████████████████▍            | 1.6 MB 29.1 MB/s eta 0:00:01\r\u001b[K     |███████████████████▌            | 1.7 MB 29.1 MB/s eta 0:00:01\r\u001b[K     |███████████████████▋            | 1.7 MB 29.1 MB/s eta 0:00:01\r\u001b[K     |███████████████████▉            | 1.7 MB 29.1 MB/s eta 0:00:01\r\u001b[K     |████████████████████            | 1.7 MB 29.1 MB/s eta 0:00:01\r\u001b[K     |████████████████████            | 1.7 MB 29.1 MB/s eta 0:00:01\r\u001b[K     |████████████████████▏           | 1.7 MB 29.1 MB/s eta 0:00:01\r\u001b[K     |████████████████████▎           | 1.7 MB 29.1 MB/s eta 0:00:01\r\u001b[K     |████████████████████▍           | 1.7 MB 29.1 MB/s eta 0:00:01\r\u001b[K     |████████████████████▌           | 1.7 MB 29.1 MB/s eta 0:00:01\r\u001b[K     |████████████████████▋           | 1.8 MB 29.1 MB/s eta 0:00:01\r\u001b[K     |████████████████████▊           | 1.8 MB 29.1 MB/s eta 0:00:01\r\u001b[K     |████████████████████▉           | 1.8 MB 29.1 MB/s eta 0:00:01\r\u001b[K     |█████████████████████           | 1.8 MB 29.1 MB/s eta 0:00:01\r\u001b[K     |█████████████████████▏          | 1.8 MB 29.1 MB/s eta 0:00:01\r\u001b[K     |█████████████████████▎          | 1.8 MB 29.1 MB/s eta 0:00:01\r\u001b[K     |█████████████████████▍          | 1.8 MB 29.1 MB/s eta 0:00:01\r\u001b[K     |█████████████████████▌          | 1.8 MB 29.1 MB/s eta 0:00:01\r\u001b[K     |█████████████████████▋          | 1.8 MB 29.1 MB/s eta 0:00:01\r\u001b[K     |█████████████████████▊          | 1.8 MB 29.1 MB/s eta 0:00:01\r\u001b[K     |█████████████████████▉          | 1.9 MB 29.1 MB/s eta 0:00:01\r\u001b[K     |██████████████████████          | 1.9 MB 29.1 MB/s eta 0:00:01\r\u001b[K     |██████████████████████          | 1.9 MB 29.1 MB/s eta 0:00:01\r\u001b[K     |██████████████████████▏         | 1.9 MB 29.1 MB/s eta 0:00:01\r\u001b[K     |██████████████████████▎         | 1.9 MB 29.1 MB/s eta 0:00:01\r\u001b[K     |██████████████████████▍         | 1.9 MB 29.1 MB/s eta 0:00:01\r\u001b[K     |██████████████████████▋         | 1.9 MB 29.1 MB/s eta 0:00:01\r\u001b[K     |██████████████████████▊         | 1.9 MB 29.1 MB/s eta 0:00:01\r\u001b[K     |██████████████████████▉         | 1.9 MB 29.1 MB/s eta 0:00:01\r\u001b[K     |███████████████████████         | 1.9 MB 29.1 MB/s eta 0:00:01\r\u001b[K     |███████████████████████         | 2.0 MB 29.1 MB/s eta 0:00:01\r\u001b[K     |███████████████████████▏        | 2.0 MB 29.1 MB/s eta 0:00:01\r\u001b[K     |███████████████████████▎        | 2.0 MB 29.1 MB/s eta 0:00:01\r\u001b[K     |███████████████████████▍        | 2.0 MB 29.1 MB/s eta 0:00:01\r\u001b[K     |███████████████████████▌        | 2.0 MB 29.1 MB/s eta 0:00:01\r\u001b[K     |███████████████████████▋        | 2.0 MB 29.1 MB/s eta 0:00:01\r\u001b[K     |███████████████████████▊        | 2.0 MB 29.1 MB/s eta 0:00:01\r\u001b[K     |███████████████████████▉        | 2.0 MB 29.1 MB/s eta 0:00:01\r\u001b[K     |████████████████████████        | 2.0 MB 29.1 MB/s eta 0:00:01\r\u001b[K     |████████████████████████▏       | 2.0 MB 29.1 MB/s eta 0:00:01\r\u001b[K     |████████████████████████▎       | 2.1 MB 29.1 MB/s eta 0:00:01\r\u001b[K     |████████████████████████▍       | 2.1 MB 29.1 MB/s eta 0:00:01\r\u001b[K     |████████████████████████▌       | 2.1 MB 29.1 MB/s eta 0:00:01\r\u001b[K     |████████████████████████▋       | 2.1 MB 29.1 MB/s eta 0:00:01\r\u001b[K     |████████████████████████▊       | 2.1 MB 29.1 MB/s eta 0:00:01\r\u001b[K     |████████████████████████▉       | 2.1 MB 29.1 MB/s eta 0:00:01\r\u001b[K     |█████████████████████████       | 2.1 MB 29.1 MB/s eta 0:00:01\r\u001b[K     |█████████████████████████       | 2.1 MB 29.1 MB/s eta 0:00:01\r\u001b[K     |█████████████████████████▏      | 2.1 MB 29.1 MB/s eta 0:00:01\r\u001b[K     |█████████████████████████▍      | 2.2 MB 29.1 MB/s eta 0:00:01\r\u001b[K     |█████████████████████████▌      | 2.2 MB 29.1 MB/s eta 0:00:01\r\u001b[K     |█████████████████████████▋      | 2.2 MB 29.1 MB/s eta 0:00:01\r\u001b[K     |█████████████████████████▊      | 2.2 MB 29.1 MB/s eta 0:00:01\r\u001b[K     |█████████████████████████▉      | 2.2 MB 29.1 MB/s eta 0:00:01\r\u001b[K     |██████████████████████████      | 2.2 MB 29.1 MB/s eta 0:00:01\r\u001b[K     |██████████████████████████      | 2.2 MB 29.1 MB/s eta 0:00:01\r\u001b[K     |██████████████████████████▏     | 2.2 MB 29.1 MB/s eta 0:00:01\r\u001b[K     |██████████████████████████▎     | 2.2 MB 29.1 MB/s eta 0:00:01\r\u001b[K     |██████████████████████████▍     | 2.2 MB 29.1 MB/s eta 0:00:01\r\u001b[K     |██████████████████████████▌     | 2.3 MB 29.1 MB/s eta 0:00:01\r\u001b[K     |██████████████████████████▋     | 2.3 MB 29.1 MB/s eta 0:00:01\r\u001b[K     |██████████████████████████▉     | 2.3 MB 29.1 MB/s eta 0:00:01\r\u001b[K     |███████████████████████████     | 2.3 MB 29.1 MB/s eta 0:00:01\r\u001b[K     |███████████████████████████     | 2.3 MB 29.1 MB/s eta 0:00:01\r\u001b[K     |███████████████████████████▏    | 2.3 MB 29.1 MB/s eta 0:00:01\r\u001b[K     |███████████████████████████▎    | 2.3 MB 29.1 MB/s eta 0:00:01\r\u001b[K     |███████████████████████████▍    | 2.3 MB 29.1 MB/s eta 0:00:01\r\u001b[K     |███████████████████████████▌    | 2.3 MB 29.1 MB/s eta 0:00:01\r\u001b[K     |███████████████████████████▋    | 2.3 MB 29.1 MB/s eta 0:00:01\r\u001b[K     |███████████████████████████▊    | 2.4 MB 29.1 MB/s eta 0:00:01\r\u001b[K     |███████████████████████████▉    | 2.4 MB 29.1 MB/s eta 0:00:01\r\u001b[K     |████████████████████████████    | 2.4 MB 29.1 MB/s eta 0:00:01\r\u001b[K     |████████████████████████████    | 2.4 MB 29.1 MB/s eta 0:00:01\r\u001b[K     |████████████████████████████▎   | 2.4 MB 29.1 MB/s eta 0:00:01\r\u001b[K     |████████████████████████████▍   | 2.4 MB 29.1 MB/s eta 0:00:01\r\u001b[K     |████████████████████████████▌   | 2.4 MB 29.1 MB/s eta 0:00:01\r\u001b[K     |████████████████████████████▋   | 2.4 MB 29.1 MB/s eta 0:00:01\r\u001b[K     |████████████████████████████▊   | 2.4 MB 29.1 MB/s eta 0:00:01\r\u001b[K     |████████████████████████████▉   | 2.4 MB 29.1 MB/s eta 0:00:01\r\u001b[K     |█████████████████████████████   | 2.5 MB 29.1 MB/s eta 0:00:01\r\u001b[K     |█████████████████████████████   | 2.5 MB 29.1 MB/s eta 0:00:01\r\u001b[K     |█████████████████████████████▏  | 2.5 MB 29.1 MB/s eta 0:00:01\r\u001b[K     |█████████████████████████████▎  | 2.5 MB 29.1 MB/s eta 0:00:01\r\u001b[K     |█████████████████████████████▍  | 2.5 MB 29.1 MB/s eta 0:00:01\r\u001b[K     |█████████████████████████████▋  | 2.5 MB 29.1 MB/s eta 0:00:01\r\u001b[K     |█████████████████████████████▊  | 2.5 MB 29.1 MB/s eta 0:00:01\r\u001b[K     |█████████████████████████████▉  | 2.5 MB 29.1 MB/s eta 0:00:01\r\u001b[K     |██████████████████████████████  | 2.5 MB 29.1 MB/s eta 0:00:01\r\u001b[K     |██████████████████████████████  | 2.5 MB 29.1 MB/s eta 0:00:01\r\u001b[K     |██████████████████████████████▏ | 2.6 MB 29.1 MB/s eta 0:00:01\r\u001b[K     |██████████████████████████████▎ | 2.6 MB 29.1 MB/s eta 0:00:01\r\u001b[K     |██████████████████████████████▍ | 2.6 MB 29.1 MB/s eta 0:00:01\r\u001b[K     |██████████████████████████████▌ | 2.6 MB 29.1 MB/s eta 0:00:01\r\u001b[K     |██████████████████████████████▋ | 2.6 MB 29.1 MB/s eta 0:00:01\r\u001b[K     |██████████████████████████████▊ | 2.6 MB 29.1 MB/s eta 0:00:01\r\u001b[K     |██████████████████████████████▉ | 2.6 MB 29.1 MB/s eta 0:00:01\r\u001b[K     |███████████████████████████████ | 2.6 MB 29.1 MB/s eta 0:00:01\r\u001b[K     |███████████████████████████████▏| 2.6 MB 29.1 MB/s eta 0:00:01\r\u001b[K     |███████████████████████████████▎| 2.7 MB 29.1 MB/s eta 0:00:01\r\u001b[K     |███████████████████████████████▍| 2.7 MB 29.1 MB/s eta 0:00:01\r\u001b[K     |███████████████████████████████▌| 2.7 MB 29.1 MB/s eta 0:00:01\r\u001b[K     |███████████████████████████████▋| 2.7 MB 29.1 MB/s eta 0:00:01\r\u001b[K     |███████████████████████████████▊| 2.7 MB 29.1 MB/s eta 0:00:01\r\u001b[K     |███████████████████████████████▉| 2.7 MB 29.1 MB/s eta 0:00:01\r\u001b[K     |████████████████████████████████| 2.7 MB 29.1 MB/s eta 0:00:01\r\u001b[K     |████████████████████████████████| 2.7 MB 29.1 MB/s \n",
            "\u001b[?25hRequirement already satisfied: tqdm in /usr/local/lib/python3.7/dist-packages (from pystempel) (4.63.0)\n",
            "Requirement already satisfied: sortedcontainers in /usr/local/lib/python3.7/dist-packages (from pystempel) (2.4.0)\n",
            "Installing collected packages: pystempel\n",
            "Successfully installed pystempel-1.2.0\n"
          ]
        }
      ]
    },
    {
      "cell_type": "code",
      "source": [
        "import csv\n",
        "from stempel import StempelStemmer\n",
        "\n",
        "stemmer = StempelStemmer.polimorf()"
      ],
      "metadata": {
        "colab": {
          "base_uri": "https://localhost:8080/"
        },
        "id": "DhBBt-kjeUB5",
        "outputId": "a22cc56d-f1fb-445b-a945-c3b25a8b1628"
      },
      "execution_count": 3,
      "outputs": [
        {
          "output_type": "stream",
          "name": "stderr",
          "text": [
            "Loading: 100%|██████████| 11368252/11368252 [00:14<00:00, 809316.78bytes/s]\n"
          ]
        }
      ]
    },
    {
      "cell_type": "code",
      "source": [
        "for word in ['książka', 'książki', 'książkami', 'był', 'jest', 'są']:\n",
        "  print(f'{word} --> {stemmer.stem(word)}')"
      ],
      "metadata": {
        "colab": {
          "base_uri": "https://localhost:8080/"
        },
        "id": "3Y0NqlkLVgDP",
        "outputId": "363ea6bc-2eca-4939-8b41-330274ba3380"
      },
      "execution_count": 7,
      "outputs": [
        {
          "output_type": "stream",
          "name": "stdout",
          "text": [
            "książka --> książka\n",
            "książki --> książka\n",
            "książkami --> książka\n",
            "był --> być\n",
            "jest --> być\n",
            "są --> być\n"
          ]
        }
      ]
    },
    {
      "cell_type": "code",
      "source": [
        "with open('dialogs.csv', 'w') as file:\n",
        "  csv_writer = csv.writer(file, delimiter=',', quotechar='\"', quoting=csv.QUOTE_MINIMAL)\n",
        "\n",
        "  csv_writer.writerow(['cześć', 'Cześć'])\n",
        "  csv_writer.writerow(['co u ciebie słychać', 'Dobrze, dziękuję.'])\n",
        "  csv_writer.writerow(['czy czekają nas dobre dni', 'Nie widzę inaczej!'])\n",
        "  # ...\n",
        "  csv_writer.writerow(['pa', 'Pa pa!'])"
      ],
      "metadata": {
        "id": "pvA4OSPW1WKL"
      },
      "execution_count": 24,
      "outputs": []
    },
    {
      "cell_type": "code",
      "source": [
        "class Chatbot():\n",
        "\n",
        "  def __init__(self, csv_dialogs_file):\n",
        "    self.csv_dialogs_file = csv_dialogs_file\n",
        "    \n",
        "\n",
        "  def create_dialog_tuples(self):\n",
        "    pairs = []\n",
        "    with open(self.csv_dialogs_file, newline='') as file:\n",
        "      csv_reader = csv.reader(file, delimiter=',', quotechar='\"')\n",
        "      for row in csv_reader:\n",
        "        pairs.append((row[0], row[1]))\n",
        "    return pairs\n",
        "\n",
        "  def split_and_clean(self, sentence):\n",
        "    punkt = ',.?!\\'\";@#$%&*+-_`<>{}()'\n",
        "    sentence_tokenized = [word.lower() for word in sentence.split()]\n",
        "    sentence_tokenized_clean = []\n",
        "    for word in sentence_tokenized:\n",
        "      if word[0] in punkt:\n",
        "        word = word[1:]\n",
        "      if word[-1] in punkt:\n",
        "        word = word[:-1]\n",
        "      sentence_tokenized_clean.append(stemmer.stem(word))\n",
        "    return sentence_tokenized_clean\n",
        "\n",
        "  def find_matching(self, user_phrase, pairs):\n",
        "    answer = 'Nie wiem.'\n",
        "    intersection_len_prev = 0\n",
        "    for index, pair in enumerate(pairs):\n",
        "      user_speaks = set(self.split_and_clean(user_phrase.lower()))\n",
        "      matching = set(self.split_and_clean(pair[0]))\n",
        "      intersection_len = len(set.intersection(user_speaks, matching))\n",
        "      if intersection_len > intersection_len_prev:\n",
        "        answer = pairs[index][1]\n",
        "        print(f'\\tuser speaks: {user_speaks}')\n",
        "        print(f'\\tmatching: {matching}')\n",
        "    return answer\n",
        "\n",
        "  def run(self):\n",
        "    pairs = self.create_dialog_tuples()\n",
        "    user_phrase = input(\"ty: \")\n",
        "    while True:\n",
        "      if not user_phrase:\n",
        "        print('END')\n",
        "        break\n",
        "      else:\n",
        "        answer = self.find_matching(user_phrase, pairs)\n",
        "        print(f'chatbot: {answer}')\n",
        "      user_phrase = input(\"ty: \")\n",
        "\n",
        "chatbot = Chatbot('dialogs.csv')\n",
        "chatbot.run()        "
      ],
      "metadata": {
        "colab": {
          "base_uri": "https://localhost:8080/"
        },
        "id": "g9aRa6wp773K",
        "outputId": "acde2f38-f877-4c56-e274-742a889b17ef"
      },
      "execution_count": 25,
      "outputs": [
        {
          "output_type": "stream",
          "name": "stdout",
          "text": [
            "you: cześć\n",
            "\tuser speaks: {'cześć'}\n",
            "\tmatching: {'cześć'}\n",
            "\u001b[1mchatbot:\u001b[0m Cześć\n",
            "you: \n",
            "END\n"
          ]
        }
      ]
    },
    {
      "cell_type": "markdown",
      "source": [
        "# NumPy"
      ],
      "metadata": {
        "id": "7UtC6hO1KFsw"
      }
    },
    {
      "cell_type": "markdown",
      "source": [
        "## Tworzenie tablic"
      ],
      "metadata": {
        "id": "KO7Uz2f6KJkm"
      }
    },
    {
      "cell_type": "code",
      "source": [
        "import numpy as np"
      ],
      "metadata": {
        "id": "83mOK3ceaDmB"
      },
      "execution_count": 4,
      "outputs": []
    },
    {
      "cell_type": "markdown",
      "source": [
        "### Tensory"
      ],
      "metadata": {
        "id": "Sz4tEXKDRrAg"
      }
    },
    {
      "cell_type": "code",
      "source": [
        "number_list = [35, 180, 75]\n",
        "arr_1d = np.array(number_list)\n",
        "arr_1d\n",
        "print(f'ndim = {arr_1d.ndim}')\n",
        "print(f'shape = {arr_1d.shape}')\n",
        "print(f'dtype = {arr_1d.dtype}')"
      ],
      "metadata": {
        "colab": {
          "base_uri": "https://localhost:8080/"
        },
        "id": "ApY_qpM1KXz-",
        "outputId": "13871d94-7687-4ee3-dd4c-bc65e3cd8024"
      },
      "execution_count": 14,
      "outputs": [
        {
          "output_type": "stream",
          "name": "stdout",
          "text": [
            "ndim = 1\n",
            "shape = (3,)\n",
            "dtype = int64\n"
          ]
        }
      ]
    },
    {
      "cell_type": "code",
      "source": [
        "number_list_2d = [[35, 180, 75],[22,167,50]]\n",
        "arr_2d = np.array(number_list_2d)\n",
        "arr_2d"
      ],
      "metadata": {
        "colab": {
          "base_uri": "https://localhost:8080/"
        },
        "id": "v18JreuqKaX-",
        "outputId": "d7b5504c-a777-4bca-a37b-91d889b1674a"
      },
      "execution_count": 16,
      "outputs": [
        {
          "output_type": "execute_result",
          "data": {
            "text/plain": [
              "array([[ 35, 180,  75],\n",
              "       [ 22, 167,  50]])"
            ]
          },
          "metadata": {},
          "execution_count": 16
        }
      ]
    },
    {
      "cell_type": "code",
      "source": [
        "print(f'ndim = {arr_2d.ndim}')\n",
        "print(f'shape = {arr_2d.shape}')\n",
        "print(f'dtype = {arr_2d.dtype}')"
      ],
      "metadata": {
        "colab": {
          "base_uri": "https://localhost:8080/"
        },
        "id": "aSCeisfwTL-l",
        "outputId": "2f3a595f-d80e-48ce-efbd-f2dc1c7288ba"
      },
      "execution_count": 15,
      "outputs": [
        {
          "output_type": "stream",
          "name": "stdout",
          "text": [
            "ndim = 2\n",
            "shape = (2, 3)\n",
            "dtype = int64\n"
          ]
        }
      ]
    },
    {
      "cell_type": "code",
      "source": [
        "window = [[  0,   0,   0,   0,   0,   0,   0],\n",
        "          [  0, 255, 255,   0, 255, 255,   0],\n",
        "          [  0, 255, 255,   0, 255, 255,   0],\n",
        "          [  0, 255, 255,   0, 255, 255,   0],\n",
        "          [  0,   0,   0,   0,   0,   0,   0]]"
      ],
      "metadata": {
        "id": "PV79fmkKgN3H"
      },
      "execution_count": 49,
      "outputs": []
    },
    {
      "cell_type": "code",
      "source": [
        "window_a = np.array(window)"
      ],
      "metadata": {
        "id": "0x8Jv1DohtDk"
      },
      "execution_count": 52,
      "outputs": []
    },
    {
      "cell_type": "code",
      "source": [
        "print(f'ndim = {window_a.ndim}')\n",
        "print(f'shape = {window_a.shape}')\n",
        "print(f'dtype = {window_a.dtype}')"
      ],
      "metadata": {
        "id": "Gv38oxxrhn-o",
        "outputId": "c9c86f35-1bc1-4a01-88f7-2022e03ac7b2",
        "colab": {
          "base_uri": "https://localhost:8080/"
        }
      },
      "execution_count": 53,
      "outputs": [
        {
          "output_type": "stream",
          "name": "stdout",
          "text": [
            "ndim = 2\n",
            "shape = (5, 7)\n",
            "dtype = int64\n"
          ]
        }
      ]
    },
    {
      "cell_type": "code",
      "source": [
        "from matplotlib import pyplot as plt\n",
        "plt.imshow(window_a, cmap='gray', vmin=0, vmax=255)\n",
        "plt.show()"
      ],
      "metadata": {
        "id": "oCoZ72HcbDW2",
        "outputId": "84508063-8a2d-4d81-e85e-287af785e96a",
        "colab": {
          "base_uri": "https://localhost:8080/",
          "height": 265
        }
      },
      "execution_count": 54,
      "outputs": [
        {
          "output_type": "display_data",
          "data": {
            "text/plain": [
              "<Figure size 432x288 with 1 Axes>"
            ],
            "image/png": "[encoded data removed]"
          },
          "metadata": {
            "needs_background": "light"
          }
        }
      ]
    },
    {
      "cell_type": "code",
      "source": [
        "number_list_3d = [[[35, 180, 75],[22,167,50]], [[35, 180, 74],[22,167,50]],[[35, 180, 74],[22,167,49]]]\n",
        "arr_3d = np.array(number_list_3d)\n",
        "arr_3d"
      ],
      "metadata": {
        "colab": {
          "base_uri": "https://localhost:8080/"
        },
        "id": "A-RIONyScWrP",
        "outputId": "c9356a10-50bd-4364-a1a1-df2c27fe0fff"
      },
      "execution_count": 29,
      "outputs": [
        {
          "output_type": "execute_result",
          "data": {
            "text/plain": [
              "array([[[ 35, 180,  75],\n",
              "        [ 22, 167,  50]],\n",
              "\n",
              "       [[ 35, 180,  74],\n",
              "        [ 22, 167,  50]],\n",
              "\n",
              "       [[ 35, 180,  74],\n",
              "        [ 22, 167,  49]]])"
            ]
          },
          "metadata": {},
          "execution_count": 29
        }
      ]
    },
    {
      "cell_type": "code",
      "source": [
        "print(f'ndim = {arr_3d.ndim}')\n",
        "print(f'shape = {arr_3d.shape}')\n",
        "print(f'dtype = {arr_3d.dtype}')"
      ],
      "metadata": {
        "colab": {
          "base_uri": "https://localhost:8080/"
        },
        "id": "GUXCmIIDcwdR",
        "outputId": "02848b84-da0d-43bb-aaac-6abf1bb6574b"
      },
      "execution_count": 25,
      "outputs": [
        {
          "output_type": "stream",
          "name": "stdout",
          "text": [
            "ndim = 3\n",
            "shape = (3, 2, 3)\n",
            "dtype = int64\n"
          ]
        }
      ]
    },
    {
      "cell_type": "markdown",
      "source": [
        "### ..."
      ],
      "metadata": {
        "id": "DbNx2mOocYBT"
      }
    },
    {
      "cell_type": "code",
      "source": [
        "np.arange(1,7)"
      ],
      "metadata": {
        "colab": {
          "base_uri": "https://localhost:8080/"
        },
        "id": "336QVQXDLmD1",
        "outputId": "49cabe8f-3baa-4582-c569-a255b44f36c7"
      },
      "execution_count": 3,
      "outputs": [
        {
          "output_type": "execute_result",
          "data": {
            "text/plain": [
              "array([1, 2, 3, 4, 5, 6])"
            ]
          },
          "metadata": {},
          "execution_count": 3
        }
      ]
    },
    {
      "cell_type": "code",
      "source": [
        "np.arange(1,7,2)"
      ],
      "metadata": {
        "colab": {
          "base_uri": "https://localhost:8080/"
        },
        "id": "IcLfi2ugLvkm",
        "outputId": "880c719a-ab9f-44df-ca93-460e6f8f0359"
      },
      "execution_count": 6,
      "outputs": [
        {
          "output_type": "execute_result",
          "data": {
            "text/plain": [
              "array([1, 3, 5])"
            ]
          },
          "metadata": {},
          "execution_count": 6
        }
      ]
    },
    {
      "cell_type": "code",
      "source": [
        "np.zeros(6)"
      ],
      "metadata": {
        "colab": {
          "base_uri": "https://localhost:8080/"
        },
        "id": "ziHEaxm_Lxqh",
        "outputId": "caa72151-2f56-4579-de52-d5df75d60047"
      },
      "execution_count": 7,
      "outputs": [
        {
          "output_type": "execute_result",
          "data": {
            "text/plain": [
              "array([0., 0., 0., 0., 0., 0.])"
            ]
          },
          "metadata": {},
          "execution_count": 7
        }
      ]
    },
    {
      "cell_type": "code",
      "source": [
        "np.zeros((2,3))"
      ],
      "metadata": {
        "colab": {
          "base_uri": "https://localhost:8080/"
        },
        "id": "2fLzjlPUL6dP",
        "outputId": "6138fadc-5735-449a-8b61-fe078f801f7e"
      },
      "execution_count": 8,
      "outputs": [
        {
          "output_type": "execute_result",
          "data": {
            "text/plain": [
              "array([[0., 0., 0.],\n",
              "       [0., 0., 0.]])"
            ]
          },
          "metadata": {},
          "execution_count": 8
        }
      ]
    },
    {
      "cell_type": "code",
      "source": [
        "np.ones((2,3))"
      ],
      "metadata": {
        "colab": {
          "base_uri": "https://localhost:8080/"
        },
        "id": "4cf_C7u4MLQL",
        "outputId": "7c799353-34bb-48dc-9ce3-43e02cafea4f"
      },
      "execution_count": 9,
      "outputs": [
        {
          "output_type": "execute_result",
          "data": {
            "text/plain": [
              "array([[1., 1., 1.],\n",
              "       [1., 1., 1.]])"
            ]
          },
          "metadata": {},
          "execution_count": 9
        }
      ]
    },
    {
      "cell_type": "code",
      "source": [
        "np.linspace(1,7,3)"
      ],
      "metadata": {
        "colab": {
          "base_uri": "https://localhost:8080/"
        },
        "id": "DnN0ahwyMR53",
        "outputId": "a69ecb71-83aa-47c7-e872-b18a4088a1f7"
      },
      "execution_count": 14,
      "outputs": [
        {
          "output_type": "execute_result",
          "data": {
            "text/plain": [
              "array([1., 4., 7.])"
            ]
          },
          "metadata": {},
          "execution_count": 14
        }
      ]
    },
    {
      "cell_type": "code",
      "source": [
        "np.eye(3)"
      ],
      "metadata": {
        "colab": {
          "base_uri": "https://localhost:8080/"
        },
        "id": "RksInSxxMr7M",
        "outputId": "4ce154eb-484a-4d45-d8a9-55c6f6e47f64"
      },
      "execution_count": 16,
      "outputs": [
        {
          "output_type": "execute_result",
          "data": {
            "text/plain": [
              "array([[1., 0., 0.],\n",
              "       [0., 1., 0.],\n",
              "       [0., 0., 1.]])"
            ]
          },
          "metadata": {},
          "execution_count": 16
        }
      ]
    },
    {
      "cell_type": "code",
      "source": [
        "a = np.arange(5)\n",
        "b = a.copy()\n",
        "b"
      ],
      "metadata": {
        "colab": {
          "base_uri": "https://localhost:8080/"
        },
        "id": "kyRc32oha8n-",
        "outputId": "4ee9ae4f-b940-4be4-f4ed-e16780867bde"
      },
      "execution_count": 7,
      "outputs": [
        {
          "output_type": "execute_result",
          "data": {
            "text/plain": [
              "array([0, 1, 2, 3, 4])"
            ]
          },
          "metadata": {},
          "execution_count": 7
        }
      ]
    },
    {
      "cell_type": "markdown",
      "source": [
        "### Zapisywanie i wczytywanie tablic"
      ],
      "metadata": {
        "id": "SyN6ayWZuAzC"
      }
    },
    {
      "cell_type": "code",
      "source": [
        "np.save(\"my_array\", a)"
      ],
      "metadata": {
        "id": "fhpymloybNVg"
      },
      "execution_count": 10,
      "outputs": []
    },
    {
      "cell_type": "code",
      "source": [
        "np.savez(\"my_array\", a, b)"
      ],
      "metadata": {
        "id": "XbdJo5I2b3yF"
      },
      "execution_count": 11,
      "outputs": []
    },
    {
      "cell_type": "code",
      "source": [
        "np.savetxt(\"my_array.csv\", a, delimiter=',')"
      ],
      "metadata": {
        "id": "tkYiqb4TcPvr"
      },
      "execution_count": 14,
      "outputs": []
    },
    {
      "cell_type": "code",
      "source": [
        "c = np.load(\"my_array.npy\")\n",
        "c"
      ],
      "metadata": {
        "colab": {
          "base_uri": "https://localhost:8080/"
        },
        "id": "BSOCFV5qcCDH",
        "outputId": "db5fce38-6747-4ef2-da95-89a3d15c0586"
      },
      "execution_count": 12,
      "outputs": [
        {
          "output_type": "execute_result",
          "data": {
            "text/plain": [
              "array([0, 1, 2, 3, 4])"
            ]
          },
          "metadata": {},
          "execution_count": 12
        }
      ]
    },
    {
      "cell_type": "code",
      "source": [
        "c = np.loadtxt(\"my_array.csv\", delimiter=',')\n",
        "c"
      ],
      "metadata": {
        "colab": {
          "base_uri": "https://localhost:8080/"
        },
        "id": "zRfawCfUc0X8",
        "outputId": "4b2395a6-5313-4004-fc3c-1a8b6a32f77e"
      },
      "execution_count": 15,
      "outputs": [
        {
          "output_type": "execute_result",
          "data": {
            "text/plain": [
              "array([0., 1., 2., 3., 4.])"
            ]
          },
          "metadata": {},
          "execution_count": 15
        }
      ]
    },
    {
      "cell_type": "markdown",
      "source": [
        "### Random"
      ],
      "metadata": {
        "id": "2rRkYC1tZ-FZ"
      }
    },
    {
      "cell_type": "code",
      "source": [
        "np.empty((2,2))"
      ],
      "metadata": {
        "colab": {
          "base_uri": "https://localhost:8080/"
        },
        "id": "rbn1IzlRZ7am",
        "outputId": "739ed965-eb1b-4101-d09a-16fce96fff08"
      },
      "execution_count": 8,
      "outputs": [
        {
          "output_type": "execute_result",
          "data": {
            "text/plain": [
              "array([[5.e-324, 5.e-324],\n",
              "       [5.e-324, 0.e+000]])"
            ]
          },
          "metadata": {},
          "execution_count": 8
        }
      ]
    },
    {
      "cell_type": "code",
      "source": [
        "np.ndarray((2,2))"
      ],
      "metadata": {
        "colab": {
          "base_uri": "https://localhost:8080/"
        },
        "id": "8fW9DDFJaTD2",
        "outputId": "c462e3d2-687f-44cb-caae-d868fa8ba2d5"
      },
      "execution_count": 9,
      "outputs": [
        {
          "output_type": "execute_result",
          "data": {
            "text/plain": [
              "array([[5.e-324, 5.e-324],\n",
              "       [5.e-324, 0.e+000]])"
            ]
          },
          "metadata": {},
          "execution_count": 9
        }
      ]
    },
    {
      "cell_type": "code",
      "source": [
        "np.random.rand(2)"
      ],
      "metadata": {
        "colab": {
          "base_uri": "https://localhost:8080/"
        },
        "id": "VXTdPb83M08O",
        "outputId": "fc13ece1-242c-4a05-ff3c-1f2dc475fc87"
      },
      "execution_count": 10,
      "outputs": [
        {
          "output_type": "execute_result",
          "data": {
            "text/plain": [
              "array([0.07492331, 0.24106443])"
            ]
          },
          "metadata": {},
          "execution_count": 10
        }
      ]
    },
    {
      "cell_type": "code",
      "source": [
        "np.random.rand(2,2)"
      ],
      "metadata": {
        "colab": {
          "base_uri": "https://localhost:8080/"
        },
        "id": "hGXbr9gAT7NL",
        "outputId": "a4d2b98a-196a-4c12-9802-440db4731a07"
      },
      "execution_count": 11,
      "outputs": [
        {
          "output_type": "execute_result",
          "data": {
            "text/plain": [
              "array([[0.16743573, 0.30332658],\n",
              "       [0.36651344, 0.03930446]])"
            ]
          },
          "metadata": {},
          "execution_count": 11
        }
      ]
    },
    {
      "cell_type": "code",
      "source": [
        "# uniform vs. standard normal distribution (mean 0; variance 1)\n",
        "\n",
        "np.random.randn(2,3)"
      ],
      "metadata": {
        "colab": {
          "base_uri": "https://localhost:8080/"
        },
        "id": "oy61Z7gPT_OW",
        "outputId": "aab5794c-ec1c-4a82-fb9f-9d0868d5a6a0"
      },
      "execution_count": 19,
      "outputs": [
        {
          "output_type": "execute_result",
          "data": {
            "text/plain": [
              "array([[-0.38342014, -0.34040987,  1.87649948],\n",
              "       [-0.39434173, -0.27731501,  0.00407483]])"
            ]
          },
          "metadata": {},
          "execution_count": 19
        }
      ]
    },
    {
      "cell_type": "code",
      "source": [
        "np.random.randint(1,7)"
      ],
      "metadata": {
        "colab": {
          "base_uri": "https://localhost:8080/"
        },
        "id": "LaiARP0YUf_t",
        "outputId": "354306b2-ba7d-458d-c4c8-ababc2bee12f"
      },
      "execution_count": 20,
      "outputs": [
        {
          "output_type": "execute_result",
          "data": {
            "text/plain": [
              "3"
            ]
          },
          "metadata": {},
          "execution_count": 20
        }
      ]
    },
    {
      "cell_type": "code",
      "source": [
        "np.random.randint(1,7, (2,3))"
      ],
      "metadata": {
        "colab": {
          "base_uri": "https://localhost:8080/"
        },
        "id": "tOb2P0blUxos",
        "outputId": "1870ef03-619f-43ca-d2a1-3d4d14c7295c"
      },
      "execution_count": 21,
      "outputs": [
        {
          "output_type": "execute_result",
          "data": {
            "text/plain": [
              "array([[5, 2, 3],\n",
              "       [3, 6, 6]])"
            ]
          },
          "metadata": {},
          "execution_count": 21
        }
      ]
    },
    {
      "cell_type": "code",
      "source": [
        "np.random.seed(2)\n",
        "np.random.rand(7)"
      ],
      "metadata": {
        "colab": {
          "base_uri": "https://localhost:8080/"
        },
        "id": "fq3qDGPWU6X5",
        "outputId": "f8a67aeb-e6d4-44a6-b4cf-241185e1b33d"
      },
      "execution_count": 23,
      "outputs": [
        {
          "output_type": "execute_result",
          "data": {
            "text/plain": [
              "array([0.4359949 , 0.02592623, 0.54966248, 0.43532239])"
            ]
          },
          "metadata": {},
          "execution_count": 23
        }
      ]
    },
    {
      "cell_type": "code",
      "source": [
        "a = np.arange(25)\n",
        "rana = np.random.randint(0,50,10)\n",
        "a"
      ],
      "metadata": {
        "colab": {
          "base_uri": "https://localhost:8080/"
        },
        "id": "-BZ4cB9aVc8p",
        "outputId": "a67fbc0f-9d27-4b80-9894-7a19837e2938"
      },
      "execution_count": 30,
      "outputs": [
        {
          "output_type": "execute_result",
          "data": {
            "text/plain": [
              "array([ 0,  1,  2,  3,  4,  5,  6,  7,  8,  9, 10, 11, 12, 13, 14, 15, 16,\n",
              "       17, 18, 19, 20, 21, 22, 23, 24])"
            ]
          },
          "metadata": {},
          "execution_count": 30
        }
      ]
    },
    {
      "cell_type": "code",
      "source": [
        "rana"
      ],
      "metadata": {
        "colab": {
          "base_uri": "https://localhost:8080/"
        },
        "id": "52WRed6lYcgs",
        "outputId": "c47946fb-2319-410b-b0d4-6dd036fb2494"
      },
      "execution_count": 31,
      "outputs": [
        {
          "output_type": "execute_result",
          "data": {
            "text/plain": [
              "array([46,  8, 45, 15, 41, 45,  8, 17, 22,  9])"
            ]
          },
          "metadata": {},
          "execution_count": 31
        }
      ]
    },
    {
      "cell_type": "code",
      "source": [
        "a.shape"
      ],
      "metadata": {
        "colab": {
          "base_uri": "https://localhost:8080/"
        },
        "id": "Ubk1qlBbYsku",
        "outputId": "02328b80-1110-4407-99f3-a54fd92dd0fe"
      },
      "execution_count": 32,
      "outputs": [
        {
          "output_type": "execute_result",
          "data": {
            "text/plain": [
              "(25,)"
            ]
          },
          "metadata": {},
          "execution_count": 32
        }
      ]
    },
    {
      "cell_type": "code",
      "source": [
        "a.reshape(5,5) # nie zmienia a"
      ],
      "metadata": {
        "colab": {
          "base_uri": "https://localhost:8080/"
        },
        "id": "527PZN93YwEE",
        "outputId": "14701d19-f0a7-430c-b2ab-b26b88496e4e"
      },
      "execution_count": 33,
      "outputs": [
        {
          "output_type": "execute_result",
          "data": {
            "text/plain": [
              "array([[ 0,  1,  2,  3,  4],\n",
              "       [ 5,  6,  7,  8,  9],\n",
              "       [10, 11, 12, 13, 14],\n",
              "       [15, 16, 17, 18, 19],\n",
              "       [20, 21, 22, 23, 24]])"
            ]
          },
          "metadata": {},
          "execution_count": 33
        }
      ]
    },
    {
      "cell_type": "code",
      "source": [
        "a.reshape(3,5)"
      ],
      "metadata": {
        "colab": {
          "base_uri": "https://localhost:8080/",
          "height": 168
        },
        "id": "hFgQ03LzY3F8",
        "outputId": "3b0d6f18-f12c-41c7-dfda-68cb48d53e9c"
      },
      "execution_count": 34,
      "outputs": [
        {
          "output_type": "error",
          "ename": "ValueError",
          "evalue": "ignored",
          "traceback": [
            "\u001b[0;31m---------------------------------------------------------------------------\u001b[0m",
            "\u001b[0;31mValueError\u001b[0m                                Traceback (most recent call last)",
            "\u001b[0;32m<ipython-input-34-08519f540222>\u001b[0m in \u001b[0;36m<module>\u001b[0;34m()\u001b[0m\n\u001b[0;32m----> 1\u001b[0;31m \u001b[0ma\u001b[0m\u001b[0;34m.\u001b[0m\u001b[0mreshape\u001b[0m\u001b[0;34m(\u001b[0m\u001b[0;36m3\u001b[0m\u001b[0;34m,\u001b[0m\u001b[0;36m5\u001b[0m\u001b[0;34m)\u001b[0m\u001b[0;34m\u001b[0m\u001b[0;34m\u001b[0m\u001b[0m\n\u001b[0m",
            "\u001b[0;31mValueError\u001b[0m: cannot reshape array of size 25 into shape (3,5)"
          ]
        }
      ]
    },
    {
      "cell_type": "code",
      "source": [
        "rana.dtype"
      ],
      "metadata": {
        "colab": {
          "base_uri": "https://localhost:8080/"
        },
        "id": "aW1s_Of5Y-gO",
        "outputId": "80a6b6c5-f460-4edc-ddf5-1352df95183c"
      },
      "execution_count": 36,
      "outputs": [
        {
          "output_type": "execute_result",
          "data": {
            "text/plain": [
              "dtype('int64')"
            ]
          },
          "metadata": {},
          "execution_count": 36
        }
      ]
    },
    {
      "cell_type": "markdown",
      "source": [
        "## Praca z elementami tablicy"
      ],
      "metadata": {
        "id": "8nScMHQ8qd0R"
      }
    },
    {
      "cell_type": "code",
      "source": [
        "a = np.arange(0,11)\n",
        "a"
      ],
      "metadata": {
        "colab": {
          "base_uri": "https://localhost:8080/"
        },
        "id": "YBitTu5Rq66z",
        "outputId": "f149c3d9-5785-4e30-9bca-ca6faa731498"
      },
      "execution_count": 16,
      "outputs": [
        {
          "output_type": "execute_result",
          "data": {
            "text/plain": [
              "array([ 0,  1,  2,  3,  4,  5,  6,  7,  8,  9, 10])"
            ]
          },
          "metadata": {},
          "execution_count": 16
        }
      ]
    },
    {
      "cell_type": "code",
      "source": [
        "a[5]"
      ],
      "metadata": {
        "colab": {
          "base_uri": "https://localhost:8080/"
        },
        "id": "dKpWgTUlonpE",
        "outputId": "455c6426-93bc-419c-86ab-3f2780a121da"
      },
      "execution_count": 5,
      "outputs": [
        {
          "output_type": "execute_result",
          "data": {
            "text/plain": [
              "5"
            ]
          },
          "metadata": {},
          "execution_count": 5
        }
      ]
    },
    {
      "cell_type": "code",
      "source": [
        "a[1:5]"
      ],
      "metadata": {
        "colab": {
          "base_uri": "https://localhost:8080/"
        },
        "id": "9YFnLcvWovsk",
        "outputId": "910897c1-4a01-46e6-972d-c3fb68fdd5db"
      },
      "execution_count": 6,
      "outputs": [
        {
          "output_type": "execute_result",
          "data": {
            "text/plain": [
              "array([1, 2, 3, 4])"
            ]
          },
          "metadata": {},
          "execution_count": 6
        }
      ]
    },
    {
      "cell_type": "code",
      "source": [
        "a[5:]"
      ],
      "metadata": {
        "colab": {
          "base_uri": "https://localhost:8080/"
        },
        "id": "1KxAZ_3BpfAY",
        "outputId": "d7160d3c-0f53-4859-874e-07666b4358a2"
      },
      "execution_count": 11,
      "outputs": [
        {
          "output_type": "execute_result",
          "data": {
            "text/plain": [
              "array([ 5,  6,  7,  8,  9, 10])"
            ]
          },
          "metadata": {},
          "execution_count": 11
        }
      ]
    },
    {
      "cell_type": "code",
      "source": [
        "a_2d = np.array([[1, 2, 3], [4, 5, 6]])\n",
        "a_2d"
      ],
      "metadata": {
        "colab": {
          "base_uri": "https://localhost:8080/"
        },
        "id": "Z9Oxuj1lpEDN",
        "outputId": "9d7a5f71-f959-44df-afc8-485dcb38cc26"
      },
      "execution_count": 12,
      "outputs": [
        {
          "output_type": "execute_result",
          "data": {
            "text/plain": [
              "array([[1, 2, 3],\n",
              "       [4, 5, 6]])"
            ]
          },
          "metadata": {},
          "execution_count": 12
        }
      ]
    },
    {
      "cell_type": "code",
      "source": [
        "a_2d[1]"
      ],
      "metadata": {
        "colab": {
          "base_uri": "https://localhost:8080/"
        },
        "id": "beJftSqdpO5B",
        "outputId": "584ade55-755c-42f3-887c-2030c798520f"
      },
      "execution_count": 13,
      "outputs": [
        {
          "output_type": "execute_result",
          "data": {
            "text/plain": [
              "array([4, 5, 6])"
            ]
          },
          "metadata": {},
          "execution_count": 13
        }
      ]
    },
    {
      "cell_type": "code",
      "source": [
        "a_2d[1,:]"
      ],
      "metadata": {
        "colab": {
          "base_uri": "https://localhost:8080/"
        },
        "id": "SAllmiCRpsO9",
        "outputId": "3441966e-4413-48af-feb4-af395862784b"
      },
      "execution_count": 12,
      "outputs": [
        {
          "output_type": "execute_result",
          "data": {
            "text/plain": [
              "array([4, 5, 6])"
            ]
          },
          "metadata": {},
          "execution_count": 12
        }
      ]
    },
    {
      "cell_type": "code",
      "source": [
        "a_2d[1][1]"
      ],
      "metadata": {
        "colab": {
          "base_uri": "https://localhost:8080/"
        },
        "id": "LQh38R5ppVNS",
        "outputId": "be3d6d96-1f2e-4416-db9e-b2b8e5b92d55"
      },
      "execution_count": 9,
      "outputs": [
        {
          "output_type": "execute_result",
          "data": {
            "text/plain": [
              "5"
            ]
          },
          "metadata": {},
          "execution_count": 9
        }
      ]
    },
    {
      "cell_type": "code",
      "source": [
        "a > 5"
      ],
      "metadata": {
        "colab": {
          "base_uri": "https://localhost:8080/"
        },
        "id": "viaEZgWIqmFB",
        "outputId": "6f121408-e73b-4673-cda4-e5ee10445963"
      },
      "execution_count": 13,
      "outputs": [
        {
          "output_type": "execute_result",
          "data": {
            "text/plain": [
              "array([False, False, False, False, False, False,  True,  True,  True,\n",
              "        True,  True])"
            ]
          },
          "metadata": {},
          "execution_count": 13
        }
      ]
    },
    {
      "cell_type": "code",
      "source": [
        "a[a > 5]"
      ],
      "metadata": {
        "colab": {
          "base_uri": "https://localhost:8080/"
        },
        "id": "ykpczUubqy_S",
        "outputId": "0ceb0f6e-7c36-46ed-c2b9-07b17e2698e5"
      },
      "execution_count": 17,
      "outputs": [
        {
          "output_type": "execute_result",
          "data": {
            "text/plain": [
              "array([ 6,  7,  8,  9, 10])"
            ]
          },
          "metadata": {},
          "execution_count": 17
        }
      ]
    },
    {
      "cell_type": "code",
      "source": [
        "a[a != 5]"
      ],
      "metadata": {
        "colab": {
          "base_uri": "https://localhost:8080/"
        },
        "id": "W8uSKKpQvHzO",
        "outputId": "7b57f37f-b13a-44e5-cd9c-56ff86d742ac"
      },
      "execution_count": 18,
      "outputs": [
        {
          "output_type": "execute_result",
          "data": {
            "text/plain": [
              "array([ 0,  1,  2,  3,  4,  6,  7,  8,  9, 10])"
            ]
          },
          "metadata": {},
          "execution_count": 18
        }
      ]
    },
    {
      "cell_type": "markdown",
      "source": [
        "## Operacje matematyczne"
      ],
      "metadata": {
        "id": "SwsUm39mtZTF"
      }
    },
    {
      "cell_type": "code",
      "source": [
        "a = np.arange(1,4)\n",
        "a_2d = np.array([[1, 2, 3], [4, 5, 6]])\n",
        "a_2d"
      ],
      "metadata": {
        "id": "cWW6i3ZSjniX",
        "outputId": "14aef96b-5bef-4679-fd7a-40d5d1358fa9",
        "colab": {
          "base_uri": "https://localhost:8080/"
        }
      },
      "execution_count": 66,
      "outputs": [
        {
          "output_type": "execute_result",
          "data": {
            "text/plain": [
              "array([[1, 2, 3],\n",
              "       [4, 5, 6]])"
            ]
          },
          "metadata": {},
          "execution_count": 66
        }
      ]
    },
    {
      "cell_type": "code",
      "source": [
        "a * a"
      ],
      "metadata": {
        "colab": {
          "base_uri": "https://localhost:8080/"
        },
        "id": "RavupVqktrpU",
        "outputId": "3b71c1ee-a06a-4654-ddc8-21855e7b535c"
      },
      "execution_count": 64,
      "outputs": [
        {
          "output_type": "execute_result",
          "data": {
            "text/plain": [
              "array([1, 4])"
            ]
          },
          "metadata": {},
          "execution_count": 64
        }
      ]
    },
    {
      "cell_type": "code",
      "source": [
        "a_2d * a_2d"
      ],
      "metadata": {
        "id": "ggzAQkTtjszX",
        "outputId": "e18598cf-37bc-42de-8206-69cb99c184c7",
        "colab": {
          "base_uri": "https://localhost:8080/"
        }
      },
      "execution_count": 56,
      "outputs": [
        {
          "output_type": "execute_result",
          "data": {
            "text/plain": [
              "array([[ 1,  4,  9],\n",
              "       [16, 25, 36]])"
            ]
          },
          "metadata": {},
          "execution_count": 56
        }
      ]
    },
    {
      "cell_type": "code",
      "source": [
        "a_2d * a"
      ],
      "metadata": {
        "id": "7Tj3AFNukBd1",
        "outputId": "bce685e4-444b-47ad-c415-c2d8a8b75a1d",
        "colab": {
          "base_uri": "https://localhost:8080/"
        }
      },
      "execution_count": 67,
      "outputs": [
        {
          "output_type": "execute_result",
          "data": {
            "text/plain": [
              "array([[ 1,  4,  9],\n",
              "       [ 4, 10, 18]])"
            ]
          },
          "metadata": {},
          "execution_count": 67
        }
      ]
    },
    {
      "cell_type": "code",
      "source": [
        "a + a"
      ],
      "metadata": {
        "colab": {
          "base_uri": "https://localhost:8080/"
        },
        "id": "uP7f4hxXt2-W",
        "outputId": "c95a58ae-c7bf-440a-8018-d4463e085066"
      },
      "execution_count": 18,
      "outputs": [
        {
          "output_type": "execute_result",
          "data": {
            "text/plain": [
              "array([ 0,  2,  4,  6,  8, 10, 12, 14, 16, 18, 20])"
            ]
          },
          "metadata": {},
          "execution_count": 18
        }
      ]
    },
    {
      "cell_type": "code",
      "source": [
        "a - a"
      ],
      "metadata": {
        "colab": {
          "base_uri": "https://localhost:8080/"
        },
        "id": "oUOfNfwxt4NL",
        "outputId": "eb1e59bd-4eb2-41fc-f6c1-551fc7c44414"
      },
      "execution_count": 19,
      "outputs": [
        {
          "output_type": "execute_result",
          "data": {
            "text/plain": [
              "array([0, 0, 0, 0, 0, 0, 0, 0, 0, 0, 0])"
            ]
          },
          "metadata": {},
          "execution_count": 19
        }
      ]
    },
    {
      "cell_type": "code",
      "source": [
        "a / a"
      ],
      "metadata": {
        "colab": {
          "base_uri": "https://localhost:8080/"
        },
        "id": "k1_kmItUt7so",
        "outputId": "f6500f6c-2a3f-41e8-ef1f-a77c97062a26"
      },
      "execution_count": 68,
      "outputs": [
        {
          "output_type": "execute_result",
          "data": {
            "text/plain": [
              "array([1., 1., 1.])"
            ]
          },
          "metadata": {},
          "execution_count": 68
        }
      ]
    },
    {
      "cell_type": "code",
      "source": [
        "1 / a"
      ],
      "metadata": {
        "colab": {
          "base_uri": "https://localhost:8080/"
        },
        "id": "OVVEuXh9uD5u",
        "outputId": "220a08dd-8476-49bd-c9be-d4f6613048a5"
      },
      "execution_count": 22,
      "outputs": [
        {
          "output_type": "stream",
          "name": "stderr",
          "text": [
            "/usr/local/lib/python3.7/dist-packages/ipykernel_launcher.py:1: RuntimeWarning: divide by zero encountered in true_divide\n",
            "  \"\"\"Entry point for launching an IPython kernel.\n"
          ]
        },
        {
          "output_type": "execute_result",
          "data": {
            "text/plain": [
              "array([       inf, 1.        , 0.5       , 0.33333333, 0.25      ,\n",
              "       0.2       , 0.16666667, 0.14285714, 0.125     , 0.11111111,\n",
              "       0.1       ])"
            ]
          },
          "metadata": {},
          "execution_count": 22
        }
      ]
    },
    {
      "cell_type": "code",
      "source": [
        "a*2"
      ],
      "metadata": {
        "colab": {
          "base_uri": "https://localhost:8080/"
        },
        "id": "-uKtnpDIuJ5x",
        "outputId": "059299ab-6951-4caa-c0d1-b3e34c7336fa"
      },
      "execution_count": 69,
      "outputs": [
        {
          "output_type": "execute_result",
          "data": {
            "text/plain": [
              "array([2, 4, 6])"
            ]
          },
          "metadata": {},
          "execution_count": 69
        }
      ]
    },
    {
      "cell_type": "code",
      "source": [
        "a**2"
      ],
      "metadata": {
        "colab": {
          "base_uri": "https://localhost:8080/"
        },
        "id": "D3pjUtzNuYx7",
        "outputId": "b1b19e89-3c77-4f9d-c357-35e334f9a9c3"
      },
      "execution_count": 70,
      "outputs": [
        {
          "output_type": "execute_result",
          "data": {
            "text/plain": [
              "array([1, 4, 9])"
            ]
          },
          "metadata": {},
          "execution_count": 70
        }
      ]
    },
    {
      "cell_type": "code",
      "source": [
        "np.exp(a)"
      ],
      "metadata": {
        "colab": {
          "base_uri": "https://localhost:8080/"
        },
        "id": "0jWTjRSQu1uw",
        "outputId": "a435a375-9417-4468-b2da-c3fdad54580f"
      },
      "execution_count": 28,
      "outputs": [
        {
          "output_type": "execute_result",
          "data": {
            "text/plain": [
              "array([1.00000000e+00, 2.71828183e+00, 7.38905610e+00, 2.00855369e+01,\n",
              "       5.45981500e+01, 1.48413159e+02, 4.03428793e+02, 1.09663316e+03,\n",
              "       2.98095799e+03, 8.10308393e+03, 2.20264658e+04])"
            ]
          },
          "metadata": {},
          "execution_count": 28
        }
      ]
    },
    {
      "cell_type": "code",
      "source": [
        "np.sqrt(a)"
      ],
      "metadata": {
        "colab": {
          "base_uri": "https://localhost:8080/"
        },
        "id": "aDELLflluvBJ",
        "outputId": "86ad6b3f-7282-4e8e-af96-9aca3b5f793f"
      },
      "execution_count": 71,
      "outputs": [
        {
          "output_type": "execute_result",
          "data": {
            "text/plain": [
              "array([1.        , 1.41421356, 1.73205081])"
            ]
          },
          "metadata": {},
          "execution_count": 71
        }
      ]
    },
    {
      "cell_type": "code",
      "source": [
        "np.sin(a)"
      ],
      "metadata": {
        "colab": {
          "base_uri": "https://localhost:8080/"
        },
        "id": "6BblprHhvBiU",
        "outputId": "45c6f731-6f2c-4f0d-c910-a52844e0fb4c"
      },
      "execution_count": 29,
      "outputs": [
        {
          "output_type": "execute_result",
          "data": {
            "text/plain": [
              "array([ 0.        ,  0.84147098,  0.90929743,  0.14112001, -0.7568025 ,\n",
              "       -0.95892427, -0.2794155 ,  0.6569866 ,  0.98935825,  0.41211849,\n",
              "       -0.54402111])"
            ]
          },
          "metadata": {},
          "execution_count": 29
        }
      ]
    },
    {
      "cell_type": "code",
      "source": [
        "np.cos(a)"
      ],
      "metadata": {
        "colab": {
          "base_uri": "https://localhost:8080/"
        },
        "id": "SCEnaoujvD_1",
        "outputId": "51d11914-7b6f-4bb7-bf7c-2f4435e2719f"
      },
      "execution_count": 30,
      "outputs": [
        {
          "output_type": "execute_result",
          "data": {
            "text/plain": [
              "array([ 1.        ,  0.54030231, -0.41614684, -0.9899925 , -0.65364362,\n",
              "        0.28366219,  0.96017029,  0.75390225, -0.14550003, -0.91113026,\n",
              "       -0.83907153])"
            ]
          },
          "metadata": {},
          "execution_count": 30
        }
      ]
    },
    {
      "cell_type": "code",
      "source": [
        "np.log(a)"
      ],
      "metadata": {
        "colab": {
          "base_uri": "https://localhost:8080/"
        },
        "id": "-v9b8xXWvQpN",
        "outputId": "447ee121-f70f-4a78-d7a3-74553de33b2a"
      },
      "execution_count": 31,
      "outputs": [
        {
          "output_type": "stream",
          "name": "stderr",
          "text": [
            "/usr/local/lib/python3.7/dist-packages/ipykernel_launcher.py:1: RuntimeWarning: divide by zero encountered in log\n",
            "  \"\"\"Entry point for launching an IPython kernel.\n"
          ]
        },
        {
          "output_type": "execute_result",
          "data": {
            "text/plain": [
              "array([      -inf, 0.        , 0.69314718, 1.09861229, 1.38629436,\n",
              "       1.60943791, 1.79175947, 1.94591015, 2.07944154, 2.19722458,\n",
              "       2.30258509])"
            ]
          },
          "metadata": {},
          "execution_count": 31
        }
      ]
    },
    {
      "cell_type": "code",
      "source": [
        "a_2d.max()\n",
        "a_2d.argmax()\n",
        "# a.min()\n",
        "# a.argmin()\n",
        "a_2d.sum()\n",
        "a.mean()\n",
        "a.var() # variance\n",
        "a.std() # standard deviation"
      ],
      "metadata": {
        "colab": {
          "base_uri": "https://localhost:8080/"
        },
        "id": "vV6QSgyNtrF9",
        "outputId": "7ce4b4c4-efd5-4528-f88e-9ad7b01cbde9"
      },
      "execution_count": 85,
      "outputs": [
        {
          "output_type": "execute_result",
          "data": {
            "text/plain": [
              "0.816496580927726"
            ]
          },
          "metadata": {},
          "execution_count": 85
        }
      ]
    },
    {
      "cell_type": "code",
      "source": [
        "a_2d = np.array([[1, 2, 3], [4, 5, 6]])\n",
        "a_2d"
      ],
      "metadata": {
        "id": "DtiMaHKq2qwd",
        "outputId": "c14cd6f8-4929-4b10-bfd5-46b555fbdea8",
        "colab": {
          "base_uri": "https://localhost:8080/"
        }
      },
      "execution_count": 29,
      "outputs": [
        {
          "output_type": "execute_result",
          "data": {
            "text/plain": [
              "array([[1, 2, 3],\n",
              "       [4, 5, 6]])"
            ]
          },
          "metadata": {},
          "execution_count": 29
        }
      ]
    },
    {
      "cell_type": "code",
      "source": [
        "a_2d.sum()"
      ],
      "metadata": {
        "colab": {
          "base_uri": "https://localhost:8080/"
        },
        "id": "6ZfofCg9wCzq",
        "outputId": "c17ea0d1-3b14-446a-a7be-e4b2f2dfcc8b"
      },
      "execution_count": 26,
      "outputs": [
        {
          "output_type": "execute_result",
          "data": {
            "text/plain": [
              "21"
            ]
          },
          "metadata": {},
          "execution_count": 26
        }
      ]
    },
    {
      "cell_type": "code",
      "source": [
        "a_2d.sum(axis=0)"
      ],
      "metadata": {
        "colab": {
          "base_uri": "https://localhost:8080/"
        },
        "id": "xjjF4-cywTlX",
        "outputId": "db00121d-fafb-4564-96af-e4cc8f31a492"
      },
      "execution_count": 80,
      "outputs": [
        {
          "output_type": "execute_result",
          "data": {
            "text/plain": [
              "array([5, 7, 9])"
            ]
          },
          "metadata": {},
          "execution_count": 80
        }
      ]
    },
    {
      "cell_type": "code",
      "source": [
        "a_2d.sum(axis=1)"
      ],
      "metadata": {
        "colab": {
          "base_uri": "https://localhost:8080/"
        },
        "id": "C1wyq0pmwXsZ",
        "outputId": "13811345-6518-426e-dbb1-d352ec72724e"
      },
      "execution_count": 81,
      "outputs": [
        {
          "output_type": "execute_result",
          "data": {
            "text/plain": [
              "array([ 6, 15])"
            ]
          },
          "metadata": {},
          "execution_count": 81
        }
      ]
    },
    {
      "cell_type": "markdown",
      "source": [
        "### ..."
      ],
      "metadata": {
        "id": "dXgAuosRsgpV"
      }
    },
    {
      "cell_type": "code",
      "source": [
        "a.tolist()"
      ],
      "metadata": {
        "id": "IxjO1YcRsenN",
        "outputId": "27247398-9651-438e-f9f0-2be6118144a0",
        "colab": {
          "base_uri": "https://localhost:8080/"
        }
      },
      "execution_count": 86,
      "outputs": [
        {
          "output_type": "execute_result",
          "data": {
            "text/plain": [
              "[1, 2, 3]"
            ]
          },
          "metadata": {},
          "execution_count": 86
        }
      ]
    },
    {
      "cell_type": "code",
      "source": [
        "a_2d.flatten()"
      ],
      "metadata": {
        "id": "7Monu2-Ys0g5",
        "outputId": "6d8f35a7-81e0-46c3-a5c4-fe53a61e1915",
        "colab": {
          "base_uri": "https://localhost:8080/"
        }
      },
      "execution_count": 89,
      "outputs": [
        {
          "output_type": "execute_result",
          "data": {
            "text/plain": [
              "array([1, 2, 3, 4, 5, 6])"
            ]
          },
          "metadata": {},
          "execution_count": 89
        }
      ]
    },
    {
      "cell_type": "code",
      "source": [
        "a_2d.flatten(order='F')"
      ],
      "metadata": {
        "id": "jxpFxuUatviH",
        "outputId": "79af5587-07a5-441a-ffc1-66c8a7665a06",
        "colab": {
          "base_uri": "https://localhost:8080/"
        }
      },
      "execution_count": 90,
      "outputs": [
        {
          "output_type": "execute_result",
          "data": {
            "text/plain": [
              "array([1, 4, 2, 5, 3, 6])"
            ]
          },
          "metadata": {},
          "execution_count": 90
        }
      ]
    },
    {
      "cell_type": "code",
      "source": [
        "b = np.array([[1], [2], [3]])\n",
        "b"
      ],
      "metadata": {
        "id": "OjtQLKuiuqLr",
        "outputId": "f61557c6-d28a-4b70-b53b-b2251bba5bf1",
        "colab": {
          "base_uri": "https://localhost:8080/"
        }
      },
      "execution_count": 99,
      "outputs": [
        {
          "output_type": "execute_result",
          "data": {
            "text/plain": [
              "array([[1],\n",
              "       [2],\n",
              "       [3]])"
            ]
          },
          "metadata": {},
          "execution_count": 99
        }
      ]
    },
    {
      "cell_type": "code",
      "source": [
        "np.squeeze(b)"
      ],
      "metadata": {
        "id": "I-5F4B2puC24",
        "outputId": "e8225b1c-e599-42e8-b6d0-bcbf0cc165c2",
        "colab": {
          "base_uri": "https://localhost:8080/"
        }
      },
      "execution_count": 98,
      "outputs": [
        {
          "output_type": "execute_result",
          "data": {
            "text/plain": [
              "array([1, 2, 3])"
            ]
          },
          "metadata": {},
          "execution_count": 98
        }
      ]
    },
    {
      "cell_type": "code",
      "source": [
        "b_2d = np.array([[2, 1, 3], [6, 5, 4]])\n",
        "np.sort(b_2d)\n",
        "np.sort(b_2d, axis=0)"
      ],
      "metadata": {
        "id": "TE2futzivegY",
        "outputId": "df51878c-9397-42fa-f304-c814ac144be2",
        "colab": {
          "base_uri": "https://localhost:8080/"
        }
      },
      "execution_count": 103,
      "outputs": [
        {
          "output_type": "execute_result",
          "data": {
            "text/plain": [
              "array([[2, 1, 3],\n",
              "       [6, 5, 4]])"
            ]
          },
          "metadata": {},
          "execution_count": 103
        }
      ]
    },
    {
      "cell_type": "code",
      "source": [
        "a.fill(1)\n",
        "print(a)"
      ],
      "metadata": {
        "id": "bQqVqfUJwwWk",
        "outputId": "6a5dd2bc-ae8f-473a-f0cf-2c4c70b7a09e",
        "colab": {
          "base_uri": "https://localhost:8080/",
          "height": 186
        }
      },
      "execution_count": 1,
      "outputs": [
        {
          "output_type": "error",
          "ename": "NameError",
          "evalue": "ignored",
          "traceback": [
            "\u001b[0;31m---------------------------------------------------------------------------\u001b[0m",
            "\u001b[0;31mNameError\u001b[0m                                 Traceback (most recent call last)",
            "\u001b[0;32m<ipython-input-1-60c11c5e2804>\u001b[0m in \u001b[0;36m<module>\u001b[0;34m()\u001b[0m\n\u001b[0;32m----> 1\u001b[0;31m \u001b[0ma\u001b[0m\u001b[0;34m.\u001b[0m\u001b[0mfill\u001b[0m\u001b[0;34m(\u001b[0m\u001b[0;36m1\u001b[0m\u001b[0;34m)\u001b[0m\u001b[0;34m\u001b[0m\u001b[0;34m\u001b[0m\u001b[0m\n\u001b[0m\u001b[1;32m      2\u001b[0m \u001b[0mprint\u001b[0m\u001b[0;34m(\u001b[0m\u001b[0ma\u001b[0m\u001b[0;34m)\u001b[0m\u001b[0;34m\u001b[0m\u001b[0;34m\u001b[0m\u001b[0m\n",
            "\u001b[0;31mNameError\u001b[0m: name 'a' is not defined"
          ]
        }
      ]
    }
  ]
}