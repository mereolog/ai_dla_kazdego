{
  "nbformat": 4,
  "nbformat_minor": 0,
  "metadata": {
    "colab": {
      "name": "perceptron.ipynb",
      "provenance": [],
      "collapsed_sections": [],
      "authorship_tag": "ABX9TyMA4sIBU9+8fOP0qXdqStuv",
      "include_colab_link": true
    },
    "kernelspec": {
      "name": "python3",
      "display_name": "Python 3"
    },
    "language_info": {
      "name": "python"
    }
  },
  "cells": [
    {
      "cell_type": "markdown",
      "metadata": {
        "id": "view-in-github",
        "colab_type": "text"
      },
      "source": [
        "<a href=\"https://colab.research.google.com/github/trypuz/ai_dla_kazdego/blob/main/siec_neuronowa_dla_kazdego/perceptron.ipynb\" target=\"_parent\"><img src=\"https://colab.research.google.com/assets/colab-badge.svg\" alt=\"Open In Colab\"/></a>"
      ]
    },
    {
      "cell_type": "markdown",
      "metadata": {
        "id": "TxAr24v6zxBN"
      },
      "source": [
        "# Pythonowy neuron"
      ]
    },
    {
      "cell_type": "code",
      "metadata": {
        "id": "2x1WDQU6wjXA"
      },
      "source": [
        "example_input = [[2],\n",
        "                 [3],\n",
        "                 [4],\n",
        "                 [5],\n",
        "                 [6]]"
      ],
      "execution_count": 28,
      "outputs": []
    },
    {
      "cell_type": "code",
      "metadata": {
        "id": "59UO9xjZzkD3"
      },
      "source": [
        "example_weights = [[0.1],\n",
        "                   [0.3],\n",
        "                   [0.5],\n",
        "                   [0.2],\n",
        "                   [0.4]]"
      ],
      "execution_count": 30,
      "outputs": []
    },
    {
      "cell_type": "code",
      "metadata": {
        "id": "LODgYE8nz5bN"
      },
      "source": [
        "import numpy as np\n",
        "input_vector = np.array(example_input)\n",
        "weights_vector = np.array(example_weights)"
      ],
      "execution_count": 31,
      "outputs": []
    },
    {
      "cell_type": "code",
      "metadata": {
        "colab": {
          "base_uri": "https://localhost:8080/"
        },
        "id": "FJyPvxaT0cSe",
        "outputId": "8d80c6c0-4c26-4e1a-ab46-78f70efb4ad0"
      },
      "source": [
        "input_vector"
      ],
      "execution_count": 32,
      "outputs": [
        {
          "output_type": "execute_result",
          "data": {
            "text/plain": [
              "array([[2],\n",
              "       [3],\n",
              "       [4],\n",
              "       [5],\n",
              "       [6]])"
            ]
          },
          "metadata": {},
          "execution_count": 32
        }
      ]
    },
    {
      "cell_type": "code",
      "metadata": {
        "colab": {
          "base_uri": "https://localhost:8080/"
        },
        "id": "YcpiLq_n0j7G",
        "outputId": "a64079ff-7187-4567-f5cc-07dc46c1d056"
      },
      "source": [
        "input_vector.shape"
      ],
      "execution_count": 33,
      "outputs": [
        {
          "output_type": "execute_result",
          "data": {
            "text/plain": [
              "(5, 1)"
            ]
          },
          "metadata": {},
          "execution_count": 33
        }
      ]
    },
    {
      "cell_type": "code",
      "metadata": {
        "colab": {
          "base_uri": "https://localhost:8080/"
        },
        "id": "B4w0vRsx0tfi",
        "outputId": "9115f2f2-d7e5-4cd4-f89a-dae68c193723"
      },
      "source": [
        "n_X = input_vector.shape[0]  # liczba cech w przykładzie treningowym\n",
        "m = input_vector.shape[1]  # liczba przykładów treningowych\n",
        "print('n_X =', n_X)\n",
        "print('m =', m)"
      ],
      "execution_count": 34,
      "outputs": [
        {
          "output_type": "stream",
          "name": "stdout",
          "text": [
            "n_X = 5\n",
            "m = 1\n"
          ]
        }
      ]
    },
    {
      "cell_type": "code",
      "metadata": {
        "colab": {
          "base_uri": "https://localhost:8080/"
        },
        "id": "vN-yirYr2Kj9",
        "outputId": "e5b5714d-1412-4eab-988b-2f8da14ad942"
      },
      "source": [
        "dot = 0\n",
        "for x, w in zip(example_input, example_weights):\n",
        "  dot = dot + (x[0] * w[0])\n",
        "print('dot =', dot)"
      ],
      "execution_count": 35,
      "outputs": [
        {
          "output_type": "stream",
          "name": "stdout",
          "text": [
            "dot = 6.5\n"
          ]
        }
      ]
    },
    {
      "cell_type": "code",
      "metadata": {
        "colab": {
          "base_uri": "https://localhost:8080/"
        },
        "id": "bqrs6F0U37Sn",
        "outputId": "883903e5-a172-433b-a28d-de7bd7602a32"
      },
      "source": [
        "dot = np.dot(input_vector.T, weights_vector)\n",
        "print('dot =', dot)"
      ],
      "execution_count": 36,
      "outputs": [
        {
          "output_type": "stream",
          "name": "stdout",
          "text": [
            "dot = [[6.5]]\n"
          ]
        }
      ]
    },
    {
      "cell_type": "code",
      "metadata": {
        "id": "eGFeO7Su5Gx0"
      },
      "source": [
        "bias = 0"
      ],
      "execution_count": 37,
      "outputs": []
    },
    {
      "cell_type": "code",
      "metadata": {
        "id": "DaRWPG1f5iqh"
      },
      "source": [
        "activation_level = dot + bias"
      ],
      "execution_count": 38,
      "outputs": []
    },
    {
      "cell_type": "code",
      "metadata": {
        "id": "shd4wSzi5zps"
      },
      "source": [
        "threshold = 0.5"
      ],
      "execution_count": 39,
      "outputs": []
    },
    {
      "cell_type": "code",
      "metadata": {
        "id": "01WFRFsD57iT"
      },
      "source": [
        "output = 0\n",
        "if activation_level > threshold:\n",
        "  output = 1\n",
        "else:\n",
        "  output = 0"
      ],
      "execution_count": 40,
      "outputs": []
    },
    {
      "cell_type": "code",
      "metadata": {
        "colab": {
          "base_uri": "https://localhost:8080/"
        },
        "id": "nheWFRp96Mmy",
        "outputId": "49838cf5-2960-4436-cdde-7990e1684113"
      },
      "source": [
        "output"
      ],
      "execution_count": 41,
      "outputs": [
        {
          "output_type": "execute_result",
          "data": {
            "text/plain": [
              "1"
            ]
          },
          "metadata": {},
          "execution_count": 41
        }
      ]
    },
    {
      "cell_type": "markdown",
      "metadata": {
        "id": "-24hYvDh0Hek"
      },
      "source": [
        "## Uczymy pythonowy neuron"
      ]
    },
    {
      "cell_type": "code",
      "metadata": {
        "id": "Wkv5TT6d6_ER"
      },
      "source": [
        "expected_output = 0"
      ],
      "execution_count": 42,
      "outputs": []
    },
    {
      "cell_type": "code",
      "metadata": {
        "id": "3Dpsg6wy7JKJ"
      },
      "source": [
        "error = input_vector * (output - expected_output)\n",
        "\n",
        "# jeśli expected_output = output, to error == 0\n",
        "# jeśli expected_output == 1 i output == 0, to error == - input_vector\n",
        "# jeśli expected_output == 0 i output == 1, to error == input_vector"
      ],
      "execution_count": 43,
      "outputs": []
    },
    {
      "cell_type": "code",
      "metadata": {
        "colab": {
          "base_uri": "https://localhost:8080/"
        },
        "id": "9CYD5BgN8LW2",
        "outputId": "4caf3c9d-77c0-485b-db2d-3c6ab873e778"
      },
      "source": [
        "error"
      ],
      "execution_count": 48,
      "outputs": [
        {
          "output_type": "execute_result",
          "data": {
            "text/plain": [
              "array([[-2],\n",
              "       [-3],\n",
              "       [-4],\n",
              "       [-5],\n",
              "       [-6]])"
            ]
          },
          "metadata": {},
          "execution_count": 48
        }
      ]
    },
    {
      "cell_type": "code",
      "metadata": {
        "id": "SZ3yFZY_8c3p"
      },
      "source": [
        "new_weights = weights_vector - error\n",
        "\n",
        "# gdy output będzie większy od oczekiwanego, to będziemy zmniejszać wagi\n",
        "# gdy output będzie mniejszy od oczekiwanego, to będziemy zwiększać wagi"
      ],
      "execution_count": 52,
      "outputs": []
    },
    {
      "cell_type": "code",
      "metadata": {
        "colab": {
          "base_uri": "https://localhost:8080/"
        },
        "id": "wR8qGcZZ8rc_",
        "outputId": "b769347d-8f52-4370-c1a5-c4a1142f3086"
      },
      "source": [
        "new_weights"
      ],
      "execution_count": 53,
      "outputs": [
        {
          "output_type": "execute_result",
          "data": {
            "text/plain": [
              "array([[-1.9],\n",
              "       [-2.7],\n",
              "       [-3.5],\n",
              "       [-4.8],\n",
              "       [-5.6]])"
            ]
          },
          "metadata": {},
          "execution_count": 53
        }
      ]
    },
    {
      "cell_type": "code",
      "metadata": {
        "colab": {
          "base_uri": "https://localhost:8080/"
        },
        "id": "qtuCCcUP9BXE",
        "outputId": "d45e694a-f39f-47d2-f0ee-aa4fb4f4ce0a"
      },
      "source": [
        "dot = np.dot(input_vector.T, new_weights)\n",
        "activation_level = dot + bias\n",
        "if activation_level > threshold:\n",
        "  output = 1\n",
        "else:\n",
        "  output = 0\n",
        "print('output =', output)"
      ],
      "execution_count": 55,
      "outputs": [
        {
          "output_type": "stream",
          "name": "stdout",
          "text": [
            "output = 0\n"
          ]
        }
      ]
    },
    {
      "cell_type": "markdown",
      "metadata": {
        "id": "N92p5edetpF_"
      },
      "source": [
        "# Sieć jednowarstwowa"
      ]
    },
    {
      "cell_type": "markdown",
      "metadata": {
        "id": "68nq2cNmwc1f"
      },
      "source": [
        "# Koniunkcja"
      ]
    },
    {
      "cell_type": "code",
      "metadata": {
        "id": "S3eR58XUtys8"
      },
      "source": [
        "X = [[1, 1, 0, 0],\n",
        "     [1, 0, 1, 0]]\n",
        "Y = [[1, 0, 0, 0]] \n",
        "\n",
        "# Czytamy kolumnami."
      ],
      "execution_count": 56,
      "outputs": []
    },
    {
      "cell_type": "code",
      "metadata": {
        "id": "GKrGnhDhurEp"
      },
      "source": [
        "import numpy as np\n",
        "X = np.array(X)\n",
        "Y = np.array(Y)"
      ],
      "execution_count": 58,
      "outputs": []
    },
    {
      "cell_type": "code",
      "metadata": {
        "colab": {
          "base_uri": "https://localhost:8080/"
        },
        "id": "42n__p0-vVa6",
        "outputId": "46b5f35c-000e-4100-c965-8727819f74e3"
      },
      "source": [
        "X.shape"
      ],
      "execution_count": 59,
      "outputs": [
        {
          "output_type": "execute_result",
          "data": {
            "text/plain": [
              "(2, 4)"
            ]
          },
          "metadata": {},
          "execution_count": 59
        }
      ]
    },
    {
      "cell_type": "code",
      "metadata": {
        "colab": {
          "base_uri": "https://localhost:8080/"
        },
        "id": "Kq4ZT17NvhhK",
        "outputId": "14901d65-6ccc-4f49-e403-ae5925d013e0"
      },
      "source": [
        "n_X = X.shape[0]  # liczba cech w przykładzie treningowym\n",
        "m = X.shape[1]  # liczba przykładów treningowych\n",
        "print('n_X =', n_X)\n",
        "print('m =', m)"
      ],
      "execution_count": 60,
      "outputs": [
        {
          "output_type": "stream",
          "name": "stdout",
          "text": [
            "n_X = 2\n",
            "m = 4\n"
          ]
        }
      ]
    },
    {
      "cell_type": "code",
      "metadata": {
        "colab": {
          "base_uri": "https://localhost:8080/",
          "height": 265
        },
        "id": "E2i_8lvdvvyU",
        "outputId": "27397ae0-0ace-440c-956b-22baaeeb7c94"
      },
      "source": [
        "import matplotlib.pyplot as plt\n",
        "plt.scatter(X[0, :], X[1, :], marker='o', c = Y.T, s=120);"
      ],
      "execution_count": 61,
      "outputs": [
        {
          "output_type": "display_data",
          "data": {
            "image/png": "[encoded data removed]",
            "text/plain": [
              "<Figure size 432x288 with 1 Axes>"
            ]
          },
          "metadata": {
            "needs_background": "light"
          }
        }
      ]
    },
    {
      "cell_type": "code",
      "metadata": {
        "id": "W82Wymxcxbsn"
      },
      "source": [
        "# biblioteka do generowania liczb losowych\n",
        "from random import random"
      ],
      "execution_count": 69,
      "outputs": []
    },
    {
      "cell_type": "code",
      "metadata": {
        "colab": {
          "base_uri": "https://localhost:8080/"
        },
        "id": "LFCCkpuP0Aab",
        "outputId": "51693901-87cd-4a86-ea46-117923bf55d0"
      },
      "source": [
        "np.random.seed(42)\n",
        "np.random.rand(n_X,1) "
      ],
      "execution_count": 68,
      "outputs": [
        {
          "output_type": "execute_result",
          "data": {
            "text/plain": [
              "array([[0.37454012],\n",
              "       [0.95071431]])"
            ]
          },
          "metadata": {},
          "execution_count": 68
        }
      ]
    },
    {
      "cell_type": "code",
      "metadata": {
        "colab": {
          "base_uri": "https://localhost:8080/"
        },
        "id": "izMjtmKO0NyA",
        "outputId": "5d746290-32e4-4f32-f572-d18f2fc5717a"
      },
      "source": [
        "np.random.seed(42)\n",
        "np.random.rand(n_X,1) * 0.001"
      ],
      "execution_count": 73,
      "outputs": [
        {
          "output_type": "execute_result",
          "data": {
            "text/plain": [
              "array([[0.00037454],\n",
              "       [0.00095071]])"
            ]
          },
          "metadata": {},
          "execution_count": 73
        }
      ]
    },
    {
      "cell_type": "code",
      "metadata": {
        "colab": {
          "base_uri": "https://localhost:8080/"
        },
        "id": "QqB-_oQ00Fsa",
        "outputId": "6b899bf8-b430-4127-c509-02ea957942a5"
      },
      "source": [
        "np.random.seed(42)\n",
        "np.random.rand()"
      ],
      "execution_count": 74,
      "outputs": [
        {
          "output_type": "execute_result",
          "data": {
            "text/plain": [
              "0.3745401188473625"
            ]
          },
          "metadata": {},
          "execution_count": 74
        }
      ]
    },
    {
      "cell_type": "code",
      "metadata": {
        "id": "j9eTUDPsx871"
      },
      "source": [
        "def initialize_parameters(n_X):\n",
        "  np.random.seed(42)\n",
        "  weights = np.random.rand(n_X,1) * 0.001\n",
        "  bias = np.random.rand() * 0.001\n",
        "\n",
        "  assert(weights.shape == (n_X,1))\n",
        "  \n",
        "  return weights, bias"
      ],
      "execution_count": 77,
      "outputs": []
    },
    {
      "cell_type": "code",
      "metadata": {
        "id": "5r_XQSZB0_vB"
      },
      "source": [
        "weights, bias = initialize_parameters(n_X)"
      ],
      "execution_count": 82,
      "outputs": []
    },
    {
      "cell_type": "code",
      "metadata": {
        "colab": {
          "base_uri": "https://localhost:8080/"
        },
        "id": "N6OXfIoN1Q7f",
        "outputId": "08fab7cb-eadd-429d-aa5f-7250ab760169"
      },
      "source": [
        "weights"
      ],
      "execution_count": 83,
      "outputs": [
        {
          "output_type": "execute_result",
          "data": {
            "text/plain": [
              "array([[0.00037454],\n",
              "       [0.00095071]])"
            ]
          },
          "metadata": {},
          "execution_count": 83
        }
      ]
    },
    {
      "cell_type": "code",
      "metadata": {
        "colab": {
          "base_uri": "https://localhost:8080/"
        },
        "id": "WcuAIFQ3zSfG",
        "outputId": "ed937886-d31e-4363-c955-af1964d26a64"
      },
      "source": [
        "weights.T"
      ],
      "execution_count": 84,
      "outputs": [
        {
          "output_type": "execute_result",
          "data": {
            "text/plain": [
              "array([[0.00037454, 0.00095071]])"
            ]
          },
          "metadata": {},
          "execution_count": 84
        }
      ]
    },
    {
      "cell_type": "code",
      "metadata": {
        "colab": {
          "base_uri": "https://localhost:8080/"
        },
        "id": "hSB0DOdc1S4X",
        "outputId": "a794f730-3264-4371-9fdf-298b85284d35"
      },
      "source": [
        "bias"
      ],
      "execution_count": 85,
      "outputs": [
        {
          "output_type": "execute_result",
          "data": {
            "text/plain": [
              "0.0007319939418114051"
            ]
          },
          "metadata": {},
          "execution_count": 85
        }
      ]
    },
    {
      "cell_type": "code",
      "metadata": {
        "id": "1maAlc822wli"
      },
      "source": [
        "def preactivation(weights, bias, X):\n",
        "  Z = np.dot(weights.T, X) + bias\n",
        "  \n",
        "  assert(Z.shape == (weights.T.shape[0], X.shape[1])) # (1, m)\n",
        "\n",
        "  return Z"
      ],
      "execution_count": 86,
      "outputs": []
    },
    {
      "cell_type": "code",
      "metadata": {
        "colab": {
          "base_uri": "https://localhost:8080/"
        },
        "id": "ZgICAJcmxhtC",
        "outputId": "d141db00-5c5d-441b-fab8-9a94f35aca11"
      },
      "source": [
        "# przykład mnożenia np.dot\n",
        "import numpy as np\n",
        "x = [[1,2]]\n",
        "y = [[3,4,5],\n",
        "     [6,7,8]]\n",
        "x = np.array(x)\n",
        "y = np.array(y)\n",
        "print('x.shape =', x.shape)\n",
        "print('y.shape =' , y.shape)\n",
        "z = np.dot(x,y)\n",
        "print(z)\n",
        "print(z[0,1])"
      ],
      "execution_count": 87,
      "outputs": [
        {
          "output_type": "stream",
          "name": "stdout",
          "text": [
            "x.shape = (1, 2)\n",
            "y.shape = (2, 3)\n",
            "[[15 18 21]]\n",
            "18\n"
          ]
        }
      ]
    },
    {
      "cell_type": "code",
      "metadata": {
        "id": "wquAvhaT5cP1"
      },
      "source": [
        "Z = preactivation(weights, bias, X)"
      ],
      "execution_count": 88,
      "outputs": []
    },
    {
      "cell_type": "code",
      "metadata": {
        "colab": {
          "base_uri": "https://localhost:8080/"
        },
        "id": "jFiRG2dc5kb9",
        "outputId": "f28c6c13-8ab2-4aea-b24e-b8fcaa885245"
      },
      "source": [
        "Z"
      ],
      "execution_count": 89,
      "outputs": [
        {
          "output_type": "execute_result",
          "data": {
            "text/plain": [
              "array([[0.00205725, 0.00110653, 0.00168271, 0.00073199]])"
            ]
          },
          "metadata": {},
          "execution_count": 89
        }
      ]
    },
    {
      "cell_type": "code",
      "metadata": {
        "colab": {
          "base_uri": "https://localhost:8080/"
        },
        "id": "H_qsQXjN5rH8",
        "outputId": "173f9a9c-2569-4f6f-8313-c322995f6855"
      },
      "source": [
        "Z.shape"
      ],
      "execution_count": 90,
      "outputs": [
        {
          "output_type": "execute_result",
          "data": {
            "text/plain": [
              "(1, 4)"
            ]
          },
          "metadata": {},
          "execution_count": 90
        }
      ]
    },
    {
      "cell_type": "code",
      "metadata": {
        "id": "XhCdddTY9N7L"
      },
      "source": [
        "def predict(Z, threshold = 0.5):\n",
        "  Y_prediction = (Z > threshold) * 1\n",
        "\n",
        "  assert(Y_prediction.shape == Z.shape)\n",
        "  return Y_prediction"
      ],
      "execution_count": 98,
      "outputs": []
    },
    {
      "cell_type": "code",
      "metadata": {
        "colab": {
          "base_uri": "https://localhost:8080/"
        },
        "id": "5n4bSOyu-2k6",
        "outputId": "0c8c74cf-061c-4945-ad34-1dff46a74c71"
      },
      "source": [
        "predict(Z)"
      ],
      "execution_count": 99,
      "outputs": [
        {
          "output_type": "execute_result",
          "data": {
            "text/plain": [
              "array([[0, 0, 0, 0]])"
            ]
          },
          "metadata": {},
          "execution_count": 99
        }
      ]
    },
    {
      "cell_type": "code",
      "metadata": {
        "id": "YJT51VTV_CBj"
      },
      "source": [
        "def accuracy(Z, Y):\n",
        "  correct_answers = (np.sum(predict(Z) == Y) / Y.shape[1])\n",
        "  return correct_answers"
      ],
      "execution_count": 114,
      "outputs": []
    },
    {
      "cell_type": "code",
      "source": [
        "accuracy(Z, Y)"
      ],
      "metadata": {
        "colab": {
          "base_uri": "https://localhost:8080/"
        },
        "id": "y7i0Ijd_cXBH",
        "outputId": "383f607d-6e55-4b1f-a694-d94115af522b"
      },
      "execution_count": 115,
      "outputs": [
        {
          "output_type": "execute_result",
          "data": {
            "text/plain": [
              "0.75"
            ]
          },
          "metadata": {},
          "execution_count": 115
        }
      ]
    },
    {
      "cell_type": "code",
      "metadata": {
        "id": "Xi96fzK1_Wff"
      },
      "source": [
        "# czy dodać */dot X\n",
        "# def error_function(Z, Y):\n",
        "#   return Y - predict(Z)\n",
        "\n",
        "def error_function(Z, Y):\n",
        "  return Z - Y"
      ],
      "execution_count": 121,
      "outputs": []
    },
    {
      "cell_type": "code",
      "metadata": {
        "colab": {
          "base_uri": "https://localhost:8080/"
        },
        "id": "v55HeRUiAnQW",
        "outputId": "17f02a1c-4ede-4865-f180-d63df3442d3d"
      },
      "source": [
        "error_function(Z,Y)"
      ],
      "execution_count": 122,
      "outputs": [
        {
          "output_type": "execute_result",
          "data": {
            "text/plain": [
              "array([[-9.97942752e-01,  1.10653406e-03,  1.68270825e-03,\n",
              "         7.31993942e-04]])"
            ]
          },
          "metadata": {},
          "execution_count": 122
        }
      ]
    },
    {
      "cell_type": "code",
      "metadata": {
        "id": "lVViUl7HAvtm"
      },
      "source": [
        "def update(weights, bias, X, Y):\n",
        "  Z = preactivation(weights, bias, X)\n",
        "  error = error_function(Z, Y)\n",
        "\n",
        "  print(f'dokładność = {accuracy(Z, Y)*100}%')\n",
        "  \n",
        "  weights = weights - (np.dot(X, error.T) / m)\n",
        "  bias = bias - (np.sum(error) / m)\n",
        "\n",
        "  return weights, bias"
      ],
      "execution_count": 126,
      "outputs": []
    },
    {
      "cell_type": "code",
      "metadata": {
        "colab": {
          "base_uri": "https://localhost:8080/"
        },
        "id": "v27HhsBG4Xpi",
        "outputId": "1df6687c-c8a4-4a1c-b6c4-706ce036b1b3"
      },
      "source": [
        "update(weights, bias, X, Y)"
      ],
      "execution_count": 127,
      "outputs": [
        {
          "output_type": "stream",
          "name": "stdout",
          "text": [
            "dokładność = 75.0%\n"
          ]
        },
        {
          "output_type": "execute_result",
          "data": {
            "text/plain": [
              "(array([[0.24958359],\n",
              "        [0.25001573]]), 0.24933737278737134)"
            ]
          },
          "metadata": {},
          "execution_count": 127
        }
      ]
    },
    {
      "cell_type": "code",
      "metadata": {
        "id": "-ENI_y_D4iEC"
      },
      "source": [
        "def perceptron_model(X, Y, iteration_number):\n",
        "  n_X = X.shape[0]\n",
        "  weights, bias = initialize_parameters(n_X)\n",
        "  for i in range(iteration_number):\n",
        "    print(f'epoche {i+1}')\n",
        "    weights, bias = update(weights, bias, X, Y)\n",
        "  Z = preactivation(weights, bias, X)\n",
        "  Y_prediction = predict(Z)\n",
        "\n",
        "  d = {'w':weights,\n",
        "       'b':bias,\n",
        "       'Y_pred':Y_prediction}\n",
        "\n",
        "  return d"
      ],
      "execution_count": 130,
      "outputs": []
    },
    {
      "cell_type": "code",
      "metadata": {
        "colab": {
          "base_uri": "https://localhost:8080/"
        },
        "id": "wlwiZwdB7dmt",
        "outputId": "82f4a96f-7277-4275-ef20-467f7dd54913"
      },
      "source": [
        "d = perceptron_model(X, Y, iteration_number=10)"
      ],
      "execution_count": 131,
      "outputs": [
        {
          "output_type": "stream",
          "name": "stdout",
          "text": [
            "epoche 1\n",
            "dokładność = 75.0%\n",
            "epoche 2\n",
            "dokładność = 100.0%\n",
            "epoche 3\n",
            "dokładność = 75.0%\n",
            "epoche 4\n",
            "dokładność = 100.0%\n",
            "epoche 5\n",
            "dokładność = 100.0%\n",
            "epoche 6\n",
            "dokładność = 100.0%\n",
            "epoche 7\n",
            "dokładność = 100.0%\n",
            "epoche 8\n",
            "dokładność = 100.0%\n",
            "epoche 9\n",
            "dokładność = 100.0%\n",
            "epoche 10\n",
            "dokładność = 100.0%\n"
          ]
        }
      ]
    },
    {
      "cell_type": "code",
      "metadata": {
        "colab": {
          "base_uri": "https://localhost:8080/"
        },
        "id": "DrRaTXPr-mAI",
        "outputId": "d88719a0-b69b-4878-b57e-90b8b9371f1a"
      },
      "source": [
        "d[\"w\"]"
      ],
      "execution_count": 132,
      "outputs": [
        {
          "output_type": "execute_result",
          "data": {
            "text/plain": [
              "array([[0.43033456],\n",
              "       [0.430367  ]])"
            ]
          },
          "metadata": {},
          "execution_count": 132
        }
      ]
    },
    {
      "cell_type": "code",
      "metadata": {
        "colab": {
          "base_uri": "https://localhost:8080/"
        },
        "id": "7T78mfzN_ySv",
        "outputId": "3bd06781-70f4-49e8-9bfe-5fe1939903a6"
      },
      "source": [
        "d[\"b\"]"
      ],
      "execution_count": 133,
      "outputs": [
        {
          "output_type": "execute_result",
          "data": {
            "text/plain": [
              "-0.1692249624698694"
            ]
          },
          "metadata": {},
          "execution_count": 133
        }
      ]
    },
    {
      "cell_type": "code",
      "metadata": {
        "colab": {
          "base_uri": "https://localhost:8080/"
        },
        "id": "zqFRvw8A_0T2",
        "outputId": "8ab4e3ef-1a1e-477b-ad25-d756550ed010"
      },
      "source": [
        "d[\"Y_pred\"]"
      ],
      "execution_count": 134,
      "outputs": [
        {
          "output_type": "execute_result",
          "data": {
            "text/plain": [
              "array([[1, 0, 0, 0]])"
            ]
          },
          "metadata": {},
          "execution_count": 134
        }
      ]
    },
    {
      "cell_type": "code",
      "metadata": {
        "colab": {
          "base_uri": "https://localhost:8080/",
          "height": 279
        },
        "id": "cnNKbiDK8rpt",
        "outputId": "579d4cae-a42d-4250-b0f1-87ecf3a487e3"
      },
      "source": [
        "def plot_decision_boundary(model, X, Y):\n",
        "    # Set min and max values and give it some padding\n",
        "    x_min, x_max = X[0, :].min() - 0.5, X[0, :].max() + 0.5\n",
        "    y_min, y_max = X[1, :].min() - 0.5, X[1, :].max() + 0.5\n",
        "    h = 0.02\n",
        "\n",
        "    # Generate a grid of points with distance h between them\n",
        "    xx, yy = np.meshgrid(np.arange(x_min, x_max, h), np.arange(y_min, y_max, h))\n",
        "\n",
        "    # Predict the function value for the whole grid\n",
        "    Z = model(np.c_[xx.ravel(), yy.ravel()])\n",
        "    Z = Z.reshape(xx.shape)\n",
        "    \n",
        "    # Plot the contour and training examples\n",
        "    plt.contourf(xx, yy, Z, cmap=plt.cm.Spectral)\n",
        "    plt.ylabel('p')\n",
        "    plt.xlabel('q')\n",
        "    plt.scatter(X[0, :], X[1, :], marker='o', c = Y.T, s=120)\n",
        "\n",
        "\n",
        "plot_decision_boundary(lambda x: predict(preactivation(d[\"w\"], d[\"b\"], x.T)), X, Y)"
      ],
      "execution_count": 145,
      "outputs": [
        {
          "output_type": "display_data",
          "data": {
            "image/png": "[encoded data removed]",
            "text/plain": [
              "<Figure size 432x288 with 1 Axes>"
            ]
          },
          "metadata": {
            "needs_background": "light"
          }
        }
      ]
    },
    {
      "cell_type": "markdown",
      "metadata": {
        "id": "2gYdYFkKA_v7"
      },
      "source": [
        "# Alternatywa\n"
      ]
    },
    {
      "cell_type": "code",
      "metadata": {
        "colab": {
          "base_uri": "https://localhost:8080/",
          "height": 625
        },
        "id": "xFQmMKe7BDnL",
        "outputId": "729b244b-6872-45dd-a712-684e803da02c"
      },
      "source": [
        "X = [[1, 1, 0, 0],\n",
        "     [1, 0, 1, 0]]\n",
        "Y = [[1, 1, 1, 0]] \n",
        "\n",
        "X = np.array(X)\n",
        "Y = np.array(Y)\n",
        "\n",
        "d = perceptron_model(X, Y, iteration_number=10)\n",
        "plot_decision_boundary(lambda x: predict(preactivation(d[\"w\"], d[\"b\"], x.T)), X, Y)"
      ],
      "execution_count": 146,
      "outputs": [
        {
          "output_type": "stream",
          "name": "stdout",
          "text": [
            "epoche 1\n",
            "dokładność = 25.0%\n",
            "epoche 2\n",
            "dokładność = 75.0%\n",
            "epoche 3\n",
            "dokładność = 100.0%\n",
            "epoche 4\n",
            "dokładność = 100.0%\n",
            "epoche 5\n",
            "dokładność = 100.0%\n",
            "epoche 6\n",
            "dokładność = 100.0%\n",
            "epoche 7\n",
            "dokładność = 100.0%\n",
            "epoche 8\n",
            "dokładność = 100.0%\n",
            "epoche 9\n",
            "dokładność = 100.0%\n",
            "epoche 10\n",
            "dokładność = 100.0%\n"
          ]
        },
        {
          "output_type": "display_data",
          "data": {
            "image/png": "[encoded data removed]",
            "text/plain": [
              "<Figure size 432x288 with 1 Axes>"
            ]
          },
          "metadata": {
            "needs_background": "light"
          }
        }
      ]
    }
  ]
}