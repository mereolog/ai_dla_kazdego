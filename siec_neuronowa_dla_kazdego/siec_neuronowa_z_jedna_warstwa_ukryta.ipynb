{
  "nbformat": 4,
  "nbformat_minor": 0,
  "metadata": {
    "colab": {
      "name": "siec_neuronowa_z_jedna_warstwa_ukryta.ipynb",
      "provenance": [],
      "collapsed_sections": [],
      "include_colab_link": true
    },
    "kernelspec": {
      "name": "python3",
      "display_name": "Python 3"
    },
    "language_info": {
      "name": "python"
    }
  },
  "cells": [
    {
      "cell_type": "markdown",
      "metadata": {
        "id": "view-in-github",
        "colab_type": "text"
      },
      "source": [
        "<a href=\"https://colab.research.google.com/github/trypuz/ai_dla_kazdego/blob/main/siec_neuronowa_dla_kazdego/siec_neuronowa_z_jedna_warstwa_ukryta.ipynb\" target=\"_parent\"><img src=\"https://colab.research.google.com/assets/colab-badge.svg\" alt=\"Open In Colab\"/></a>"
      ]
    },
    {
      "cell_type": "markdown",
      "metadata": {
        "id": "jdShQlG6CDrk"
      },
      "source": [
        "# Sieć neuronowa z warstwą ukrytą"
      ]
    },
    {
      "cell_type": "code",
      "metadata": {
        "id": "ahxVEBhD10Hp"
      },
      "source": [
        "import numpy as np\n",
        "# XOR\n",
        "X = [[1, 1, 0, 0],\n",
        "     [1, 0, 1, 0]]\n",
        "Y = [[0, 1, 1, 0]] \n",
        "\n",
        "X = np.array(X)\n",
        "Y = np.array(Y)"
      ],
      "execution_count": 138,
      "outputs": []
    },
    {
      "cell_type": "code",
      "metadata": {
        "colab": {
          "base_uri": "https://localhost:8080/",
          "height": 265
        },
        "id": "h7_03GTho4R7",
        "outputId": "fbcf321f-3732-4e14-d0d7-9c8ba955c46b"
      },
      "source": [
        "import matplotlib.pyplot as plt\n",
        "# Visualize the data:\n",
        "plt.scatter(X[0, :], X[1, :], marker='o', c = Y.T, s=120);"
      ],
      "execution_count": 139,
      "outputs": [
        {
          "output_type": "display_data",
          "data": {
            "image/png": "[encoded data removed]",
            "text/plain": [
              "<Figure size 432x288 with 1 Axes>"
            ]
          },
          "metadata": {
            "needs_background": "light"
          }
        }
      ]
    },
    {
      "cell_type": "code",
      "metadata": {
        "id": "12xPwGCk2SUB"
      },
      "source": [
        "from random import random\n",
        "\n",
        "def initialize_parameters(n_X, n_h, n_y):\n",
        "  W1 = np.random.rand(n_h, n_X) * 0.01\n",
        "  W2 = np.random.rand(n_y, n_h) * 0.01\n",
        "  b1 = np.random.rand(n_h,1) * 0.01\n",
        "  b2 = np.random.rand(n_y,1) * 0.01\n",
        "\n",
        "  parameters = {'W1':W1,\n",
        "                'W2':W2,\n",
        "                'b1':b1,\n",
        "                'b2':b2}\n",
        "\n",
        "  assert(W1.shape == (n_h, n_X))\n",
        "  assert(W2.shape == (n_y, n_h))\n",
        "  assert(b1.shape == (n_h, 1))\n",
        "  assert(b2.shape == (n_y, 1))\n",
        "\n",
        "  return parameters\n"
      ],
      "execution_count": 140,
      "outputs": []
    },
    {
      "cell_type": "code",
      "metadata": {
        "id": "e3Uw-a_j42C2"
      },
      "source": [
        "n_X = X.shape[0]\n",
        "n_y = Y.shape[0]\n",
        "n_h = 4"
      ],
      "execution_count": 141,
      "outputs": []
    },
    {
      "cell_type": "code",
      "metadata": {
        "id": "kiQUJiyo5nlV"
      },
      "source": [
        "# parameters = initialize_parameters(n_X = n_X, n_h = n_h, n_y = n_y)"
      ],
      "execution_count": 142,
      "outputs": []
    },
    {
      "cell_type": "code",
      "metadata": {
        "id": "XDaR6mxX6Clc"
      },
      "source": [
        "# parameters['W1']"
      ],
      "execution_count": 143,
      "outputs": []
    },
    {
      "cell_type": "code",
      "metadata": {
        "id": "UPIvJTmP6byM"
      },
      "source": [
        "# parameters['W2']"
      ],
      "execution_count": 144,
      "outputs": []
    },
    {
      "cell_type": "code",
      "metadata": {
        "id": "A8Ff6ePc6kN0"
      },
      "source": [
        "# parameters['b1']"
      ],
      "execution_count": 145,
      "outputs": []
    },
    {
      "cell_type": "code",
      "metadata": {
        "id": "HRlOzsXZ6vCp"
      },
      "source": [
        "# parameters['b2']"
      ],
      "execution_count": 146,
      "outputs": []
    },
    {
      "cell_type": "code",
      "metadata": {
        "id": "6pFT1Jkt7lji"
      },
      "source": [
        "# A0 = X\n",
        "def preactivation(weights, bias, A):\n",
        "  Z = np.dot(weights, A) + bias\n",
        "  assert(Z.shape == (weights.shape[0], A.shape[1]))\n",
        "  return Z"
      ],
      "execution_count": 147,
      "outputs": []
    },
    {
      "cell_type": "code",
      "metadata": {
        "id": "YKFisXCg83wZ"
      },
      "source": [
        "# preactivation(weights = parameters['W1'], bias = parameters['b1'], A = X)"
      ],
      "execution_count": 148,
      "outputs": []
    },
    {
      "cell_type": "code",
      "metadata": {
        "id": "5wsuRv1xAGGd"
      },
      "source": [
        "def sigmoid(z):\n",
        "  z = 1 / (1 + np.exp(-z))\n",
        "  return z"
      ],
      "execution_count": 149,
      "outputs": []
    },
    {
      "cell_type": "code",
      "metadata": {
        "id": "ZCgiQ6Y1AaiN"
      },
      "source": [
        "# sigmoid(0)"
      ],
      "execution_count": 150,
      "outputs": []
    },
    {
      "cell_type": "code",
      "metadata": {
        "id": "Rgqweq28AlBP"
      },
      "source": [
        "# sigmoid(8)"
      ],
      "execution_count": 151,
      "outputs": []
    },
    {
      "cell_type": "code",
      "metadata": {
        "id": "vaTXs8PGAtW9"
      },
      "source": [
        "# sigmoid(np.array([0, 8]))"
      ],
      "execution_count": 152,
      "outputs": []
    },
    {
      "cell_type": "code",
      "metadata": {
        "id": "El1rPpobA5LM"
      },
      "source": [
        "def tanh(z):\n",
        "  z = (np.exp(z) - np.exp(-z)) / (np.exp(z) + np.exp(-z))\n",
        "  return z"
      ],
      "execution_count": 153,
      "outputs": []
    },
    {
      "cell_type": "code",
      "metadata": {
        "id": "6xmBoGxgBPck"
      },
      "source": [
        "# tanh(0)"
      ],
      "execution_count": 154,
      "outputs": []
    },
    {
      "cell_type": "code",
      "metadata": {
        "id": "P8qdk5oWBSEk"
      },
      "source": [
        "# tanh(8)"
      ],
      "execution_count": 155,
      "outputs": []
    },
    {
      "cell_type": "code",
      "metadata": {
        "id": "FXCy2zdKBWJd"
      },
      "source": [
        "# tanh(-2)"
      ],
      "execution_count": 156,
      "outputs": []
    },
    {
      "cell_type": "code",
      "metadata": {
        "id": "K8WfP-srBmJr"
      },
      "source": [
        "def forward_propagation(X, parameters):\n",
        "  # A0 = X\n",
        "  Z1 = preactivation(weights = parameters['W1'], bias = parameters['b1'], A = X)\n",
        "  A1 = tanh(Z1)\n",
        "  Z2 = preactivation(weights = parameters['W2'], bias = parameters['b2'], A = A1)\n",
        "  A2 = sigmoid(Z2)\n",
        "  m = X.shape[1]\n",
        "  assert(A2.shape == (1, m))\n",
        "\n",
        "  cache = {'Z1':Z1,\n",
        "           'Z2':Z2,\n",
        "           'A1':A1,\n",
        "           'A2':A2}\n",
        "\n",
        "  return A2, cache"
      ],
      "execution_count": 157,
      "outputs": []
    },
    {
      "cell_type": "code",
      "metadata": {
        "id": "MDxuZiqIDohj"
      },
      "source": [
        "# A2, cache = forward_propagation(X=X, parameters=parameters)\n",
        "# print(A2)"
      ],
      "execution_count": 158,
      "outputs": []
    },
    {
      "cell_type": "code",
      "metadata": {
        "id": "dG7OG9PiFPrs"
      },
      "source": [
        "# def predict(X, parameters):\n",
        "#   A2, _ = forward_propagation(X=X, parameters=parameters)\n",
        "#   predictions = (A2 > 0.5)\n",
        "#   return predictions * 1"
      ],
      "execution_count": 159,
      "outputs": []
    },
    {
      "cell_type": "code",
      "metadata": {
        "id": "E7QLyemlFrA-"
      },
      "source": [
        "# predict(X=X, parameters=parameters)"
      ],
      "execution_count": 160,
      "outputs": []
    },
    {
      "cell_type": "markdown",
      "metadata": {
        "id": "acnzeqvaLWzA"
      },
      "source": [
        "$L(a,y)$\n",
        "\n",
        "$a = sigmoid(z)$\n",
        "\n",
        "$a$ - prawdopodobieństwo tego, że $y = 1$\n",
        "\n",
        "- Jeśli $y=1$, to $P(y | x, w, b) = a$\n",
        "- Jeśli $y=0$, to $P(y | x, w, b) = 1 - a$\n",
        "- $y\\in \\{1,0\\}$\n",
        "- $P(y | x) = a^{y}(1-a)^{(1-y)}$\n",
        "- Jeśli $y=1$, $P(y | x) = a^{1}(1-a)^{(1-1)} = a$\n",
        "- Jeśli $y=0$, $P(y | x) = a^{0}(1-a)^{(1-0)} = 1- a$\n",
        "- $log(P(y | x)) = log(a^{y}(1-a)^{(1-y)}) = log(a^{y}) + log((1-a)^{(1-y)}) = ylog(a) + (1-y)log(1-a)$ \n",
        "- $L(a,y) = - (ylog(a) + (1-y)log(1-a))$\n",
        "- $log(P(y | x)) = - L(a,y)$\n",
        "- Jeśli $y=1$, $L(a,y) = - log(a)$; aby strata była mała, $- log(a)$ był tak mały jak to możliwe; aby tak się stało, to a musi być tak duże jak to możliwe, czyli bliskie 1; czyli przy mininalnej stracie L, predykcja będzie bliska 1 i y też będzie 1\n",
        "- Jeśli $y=0$, $L(a,y) = - log(1-a)$; aby strata była mała, $- log(1-a)$ był tak mały jak to możliwe; aby tak się stało, to 1 - a musi być tak duże jak to możliwe, czyli bliskie 1; a powinno być tak małe jak to możliwe, a więc bliskie 0; czyli przy mininalnej stracie L, predykcja będzie bliska 0 i y też będzie 0\n",
        "- $m = 4$\n",
        "- Funkcja kosztu $ J(w,b) = L(a^{(1)}, y^{(1)}) + ... + L(a^{(4)}, y^{(4)}) = \\frac{1}{m}\\sum\\limits_{i = 1}^{m} L(a^{(i)}, y^{(i)})$\n",
        "\n"
      ]
    },
    {
      "cell_type": "markdown",
      "metadata": {
        "id": "d5CgoUKrMlYu"
      },
      "source": [
        "- $y = 2x$\n",
        "- $P = (1,2)$\n",
        "- $Q = (4,8)$\n",
        "- $dx = 4 - 1 = 3 $\n",
        "- $dy = 8 - 2 = 6 $\n",
        "- współczynnik kierunkowy prostej $y = 2x$:\n",
        "  - $\\frac{dy}{dx} = \\frac{6}{3} = 2$\n",
        "\n",
        "- $P = (-5,-10)$\n",
        "- $Q = (-1,-2)$\n",
        "- $dx = -1 - (-5) = -1 + 5 = 4 $\n",
        "- $dy = -2 - ( -10) = -2 + 10 = 8 $\n",
        "- współczynnik kierunkowy prostej $y = 2x$:\n",
        "  - $\\frac{dy}{dx} = \\frac{8}{4} = 2$\n",
        "\n",
        "\n",
        "- $(0, 0.5)$, $(2,1)$\n",
        "- $\\frac{dy}{dx} = \\frac{0.5}{2} = 0.25$\n",
        "\n",
        "\n",
        "- historia jest taka:\n",
        "  - $x_1, x_2, y$\n",
        "  - $w_1, w_2, b$\n",
        "  - $z = x_1w_1 + x_2w_2 +b$\n",
        "  - $a = sigmoid(z)$\n",
        "  - $L(a,y) = -(ylog(a) + (1-y)log(1-a))$\n",
        "  - $\\frac{d L(a,y)}{da} = - (\\frac{y}{a} - \\frac{1-y}{1 - a}) = - \\frac{y}{a} + \\frac{1-y}{1 - a}$\n",
        "    - $\\frac{d \\log(a)}{da} = \\frac{1}{a}$\n",
        "    - $\\frac{d \\log(1-a)}{da} = - \\frac{1}{1 - a}$\n",
        "  - jeśli $y=1$, to $\\frac{d L(a,y)}{da} = - \\frac{1}{a}$\n"
      ]
    },
    {
      "cell_type": "code",
      "metadata": {
        "id": "L5XZzjSVGH2u"
      },
      "source": [
        "def backward_propagation(parameters, cache, X, Y):\n",
        "  m = X.shape[1]\n",
        "  W1 = parameters['W1']\n",
        "  W2 = parameters['W2']\n",
        "  A1 = cache['A1'] # tanh\n",
        "  A2 = cache['A2'] # sigmoid\n",
        "\n",
        "  dZ2 = A2 - Y\n",
        "  \n",
        "  # informacja o ile zmienić W2 i b2\n",
        "  dW2 = np.dot(dZ2, A1.T) / m\n",
        "  db2 = np.sum(dZ2, axis=1, keepdims=True) / m\n",
        "  \n",
        "  # zmiań A2 na A1 !!!\n",
        "  dZ1 = np.dot(W2.T, dZ2) * (1 - np.power(A1, 2))\n",
        "  \n",
        "  # informacja o ile zmienić W1 i b1\n",
        "  dW1 = np.dot(dZ1, X.T) / m\n",
        "  db1 = np.sum(dZ1, axis=1, keepdims=True) / m\n",
        "\n",
        "  grads = {'dW1': dW1,\n",
        "           'dW2': dW2,\n",
        "           'db1': db1,\n",
        "           'db2': db2}\n",
        "\n",
        "  return grads"
      ],
      "execution_count": 161,
      "outputs": []
    },
    {
      "cell_type": "code",
      "metadata": {
        "id": "zCaed6aZLWcW"
      },
      "source": [
        "# backward_propagation(parameters, cache, X, Y)"
      ],
      "execution_count": 162,
      "outputs": []
    },
    {
      "cell_type": "code",
      "metadata": {
        "id": "m4bOmp9mO4ZN"
      },
      "source": [
        "def update(parameters, grads, learning_rate=1):\n",
        "  W1 = parameters['W1']\n",
        "  W2 = parameters['W2']\n",
        "  b1 = parameters['b1']\n",
        "  b2 = parameters['b2']\n",
        "\n",
        "  dW1 = grads['dW1']\n",
        "  dW2 = grads['dW2']\n",
        "  db1 = grads['db1']\n",
        "  db2 = grads['db2']\n",
        "\n",
        "  W1 = W1 - learning_rate * dW1\n",
        "  W2 = W2 - learning_rate * dW2\n",
        "  b1 = b1 - learning_rate * db1  \n",
        "  b2 = b2 - learning_rate * db2\n",
        "\n",
        "  parameters = {'W1': W1,\n",
        "                'W2': W2,\n",
        "                'b1': b1,\n",
        "                'b2': b2}\n",
        "\n",
        "  return parameters"
      ],
      "execution_count": 163,
      "outputs": []
    },
    {
      "cell_type": "code",
      "metadata": {
        "id": "zTuDKbRuMVkr"
      },
      "source": [
        "# funkcja kosztu: (ang. binary cross entropy cost function)\n",
        "def compute_cost(A2, Y):\n",
        "  logs = np.multiply(Y, np.log(A2)) + np.multiply(1-Y, np.log(1-A2))\n",
        "  m = Y.shape[1]\n",
        "  cost = - np.sum(logs) / m\n",
        "  return cost"
      ],
      "execution_count": 164,
      "outputs": []
    },
    {
      "cell_type": "code",
      "metadata": {
        "id": "Z5ajEKaUQYw4"
      },
      "source": [
        "def model(X, Y, n_h, number_iterations, learning_rate=1):\n",
        "  n_X = X.shape[0]\n",
        "  n_y = Y.shape[0]\n",
        "  \n",
        "  parameters = initialize_parameters(n_X, n_h, n_y)\n",
        "\n",
        "  for i in range(number_iterations):\n",
        "    A2, cache = forward_propagation(X, parameters)\n",
        "    if i % 1000 == 0:\n",
        "      print(f'koszt: {compute_cost(A2, Y)}')\n",
        "    grads = backward_propagation(parameters, cache, X, Y)\n",
        "    parameters = update(parameters, grads, learning_rate=learning_rate)\n",
        "\n",
        "  return parameters"
      ],
      "execution_count": 165,
      "outputs": []
    },
    {
      "cell_type": "code",
      "metadata": {
        "id": "ILvk3v-RR9v7",
        "colab": {
          "base_uri": "https://localhost:8080/"
        },
        "outputId": "598e6c1b-7fb5-4447-87dc-860fba3409ab"
      },
      "source": [
        "learned_parameters = model(X, Y, n_h=4, number_iterations=40000, learning_rate=1)"
      ],
      "execution_count": 166,
      "outputs": [
        {
          "output_type": "stream",
          "name": "stdout",
          "text": [
            "koszt: 0.6931502281064269\n",
            "koszt: 0.6931471802074309\n",
            "koszt: 0.6931471801553917\n",
            "koszt: 0.6931471801020949\n",
            "koszt: 0.693147180047195\n",
            "koszt: 0.6931471799903233\n",
            "koszt: 0.6931471799310802\n",
            "koszt: 0.6931471798690281\n",
            "koszt: 0.6931471798036823\n",
            "koszt: 0.6931471797345004\n",
            "koszt: 0.6931471796608691\n",
            "koszt: 0.6931471795820892\n",
            "koszt: 0.6931471794973555\n",
            "koszt: 0.6931471794057338\n",
            "koszt: 0.6931471793061302\n",
            "koszt: 0.6931471791972537\n",
            "koszt: 0.6931471790775662\n",
            "koszt: 0.6931471789452199\n",
            "koszt: 0.6931471787979746\n",
            "koszt: 0.6931471786330861\n",
            "koszt: 0.6931471784471577\n",
            "koszt: 0.6931471782359376\n",
            "koszt: 0.6931471779940371\n",
            "koszt: 0.6931471777145303\n",
            "koszt: 0.6931471773883809\n",
            "koszt: 0.6931471770035944\n",
            "koszt: 0.6931471765439372\n",
            "koszt: 0.6931471759869465\n",
            "koszt: 0.693147175300731\n",
            "koszt: 0.6931471744386377\n",
            "koszt: 0.6931471733299563\n",
            "koszt: 0.6931471718628666\n",
            "koszt: 0.6931471698511427\n",
            "koszt: 0.6931471669640382\n",
            "koszt: 0.6931471625639425\n",
            "koszt: 0.6931471552813372\n",
            "koszt: 0.693147141699688\n",
            "koszt: 0.693147111160097\n",
            "koszt: 0.6931470149419149\n",
            "koszt: 0.6931463111256486\n"
          ]
        }
      ]
    },
    {
      "cell_type": "code",
      "metadata": {
        "id": "ly8jB4HVSIAv"
      },
      "source": [
        "# learned_parameters"
      ],
      "execution_count": 167,
      "outputs": []
    },
    {
      "cell_type": "code",
      "metadata": {
        "id": "9KLCVKupmtxa"
      },
      "source": [
        "def predict(parameters, X):\n",
        "    \n",
        "    A2, _ = forward_propagation(X, parameters)\n",
        "    \n",
        "    predictions = (A2 > 0.5)\n",
        "    \n",
        "    return predictions * 1"
      ],
      "execution_count": 168,
      "outputs": []
    },
    {
      "cell_type": "code",
      "metadata": {
        "colab": {
          "base_uri": "https://localhost:8080/"
        },
        "id": "CEM5HpAJmf_6",
        "outputId": "bc7c47d7-b2db-462d-94ea-d05aaad7592e"
      },
      "source": [
        "predict(learned_parameters, X)"
      ],
      "execution_count": 169,
      "outputs": [
        {
          "output_type": "execute_result",
          "data": {
            "text/plain": [
              "array([[0, 1, 1, 0]])"
            ]
          },
          "metadata": {},
          "execution_count": 169
        }
      ]
    },
    {
      "cell_type": "code",
      "metadata": {
        "colab": {
          "base_uri": "https://localhost:8080/",
          "height": 279
        },
        "id": "FnsZWbXvnAAX",
        "outputId": "4a162c1e-342c-454a-c988-d3526c96e9f5"
      },
      "source": [
        "def plot_decision_boundary(model, X, y):\n",
        "    # Set min and max values and give it some padding\n",
        "    x_min, x_max = X[0, :].min() - 0.5, X[0, :].max() + 0.5\n",
        "    y_min, y_max = X[1, :].min() - 0.5, X[1, :].max() + 0.5\n",
        "    h = 0.02\n",
        "    \n",
        "    # Generate a grid of points with distance h between them\n",
        "    xx, yy = np.meshgrid(np.arange(x_min, x_max, h), np.arange(y_min, y_max, h))\n",
        "    \n",
        "    # Predict the function value for the whole grid\n",
        "    Z = model(np.c_[xx.ravel(), yy.ravel()])\n",
        "    Z = Z.reshape(xx.shape)\n",
        "    \n",
        "    # Plot the contour and training examples\n",
        "    plt.contourf(xx, yy, Z, cmap=plt.cm.Spectral)\n",
        "    plt.ylabel('x2')\n",
        "    plt.xlabel('x1')\n",
        "    plt.scatter(X[0, :], X[1, :], marker='o', c = y.T, s=120)\n",
        "\n",
        "plot_decision_boundary(lambda x: predict(learned_parameters,x.T), X, Y)"
      ],
      "execution_count": 170,
      "outputs": [
        {
          "output_type": "display_data",
          "data": {
            "image/png": "[encoded data removed]",
            "text/plain": [
              "<Figure size 432x288 with 1 Axes>"
            ]
          },
          "metadata": {
            "needs_background": "light"
          }
        }
      ]
    }
  ]
}