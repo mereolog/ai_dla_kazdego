{
 "cells": [
  {
   "cell_type": "markdown",
   "id": "86fd287a",
   "metadata": {},
   "source": [
    "# Wprowadzenie do uczenia maszynowego"
   ]
  },
  {
   "cell_type": "markdown",
   "id": "36197d35",
   "metadata": {},
   "source": [
    "## Uczenie nadzorowane & nienadzorowane"
   ]
  },
  {
   "cell_type": "markdown",
   "id": "7ed673dc",
   "metadata": {},
   "source": [
    "W uczeniu nadzorowanym (aka uczeniu z nauczycielem) mamy wejście X, które jest wektorem cech opisujących dany obiekt, oraz wyjście y. Wyjście może być różnie zdefiniowane.\n",
    "\n",
    "|    \t|                     X                     \t|                     y                    \t|\n",
    "|:--:\t|:-----------------------------------------:\t|:----------------------------------------:\t|\n",
    "| 1. \t|          cechy opisujące działki          \t|                   cena                   \t|\n",
    "| 2. \t|                 plik audio                \t|            transkrypcja tekstu           \t|\n",
    "| 3. \t|                tekst polski               \t|          tłumaczenie angielskie          \t|\n",
    "| 4. \t|        dane o użytkowniku, reklama        \t|       1 - kliknie, 0 - nie kliknie       \t|\n",
    "| 5. \t|               treści emaila               \t|         1 - spam, 0 - brak spamu         \t|\n",
    "| 6. \t|          obraz z kamery telefonu          \t| 1 - odblokowanie, 0 - blokada            \t|\n",
    "| 7. \t| obraz produktu <br>z kamery przemysłowej  \t| 1 - brak defektu, 0 - defekt             \t|\n",
    "| 8. \t|   tekst komentarza dotyczący<br>produktu  \t| 1 - ocena pozytywna, 0 - ocena negatywna \t|"
   ]
  },
  {
   "cell_type": "markdown",
   "id": "5f02126f",
   "metadata": {},
   "source": [
    "## Dane strukturalne i niestrukturalne"
   ]
  },
  {
   "cell_type": "markdown",
   "id": "be605c3b",
   "metadata": {},
   "source": [
    "Dane strukturalne to w zasadzie dane tabelaryczne, czyli bazy danych, arkusze kalkulacyjne, itp.\n",
    "\n",
    "Dane niestrukturalne (nieustrukturyzowane) to obrazy, tekst oraz dzwięk."
   ]
  },
  {
   "cell_type": "markdown",
   "id": "45f6dcf3",
   "metadata": {},
   "source": [
    "## Uczenie maszynowe płytkie i głębokie\n",
    "\n",
    "Głębokie ucznie maszynowe opiera się na sztucznych sieciach neuronowych (ang. *Artificial Neural Network*). Dziś w zasadzie zamiennie używa się terminów głęboka sieć neuronowa i sieć neuronowa."
   ]
  },
  {
   "cell_type": "markdown",
   "id": "2797df29",
   "metadata": {},
   "source": [
    "## Powody szerokich zastosowań uczenia głębokiego od drugiej dekady XXI"
   ]
  },
  {
   "cell_type": "markdown",
   "id": "e5a74927",
   "metadata": {},
   "source": [
    "### Dane"
   ]
  },
  {
   "cell_type": "markdown",
   "id": "db6480df",
   "metadata": {},
   "source": [
    "### Sprzęt"
   ]
  },
  {
   "cell_type": "markdown",
   "id": "c7be37da",
   "metadata": {},
   "source": [
    "### Algorytmy i efekt skali\n",
    "\n",
    "Okazało się, że metody płytkiego uczenia maszynowego nie dają istotnie lepszych rezulatów wraz ze wzrostem ilości danych uczących. Głębokie uczenie maszynowe prawie zawsze daje lepsze rezultaty wraz ze wzrostem ilości danych uczących."
   ]
  },
  {
   "cell_type": "markdown",
   "id": "f4bcbb50",
   "metadata": {},
   "source": [
    "### Ogromne inwestycje gigantów IT"
   ]
  },
  {
   "cell_type": "markdown",
   "id": "7d0df5df",
   "metadata": {},
   "source": [
    "### Otwarte narzędzia"
   ]
  },
  {
   "cell_type": "markdown",
   "id": "82efa464",
   "metadata": {},
   "source": [
    "## Bibliografia\n",
    "- DeepLearning.ai\n",
    "- Francois Chollet, Deep Learning with Python (first and second editions)"
   ]
  },
  {
   "cell_type": "code",
   "execution_count": null,
   "id": "fab566c1",
   "metadata": {},
   "outputs": [],
   "source": []
  }
 ],
 "metadata": {
  "kernelspec": {
   "display_name": "Python 3",
   "language": "python",
   "name": "python3"
  },
  "language_info": {
   "codemirror_mode": {
    "name": "ipython",
    "version": 3
   },
   "file_extension": ".py",
   "mimetype": "text/x-python",
   "name": "python",
   "nbconvert_exporter": "python",
   "pygments_lexer": "ipython3",
   "version": "3.8.8"
  }
 },
 "nbformat": 4,
 "nbformat_minor": 5
}
