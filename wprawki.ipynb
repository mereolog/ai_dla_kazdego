{
  "nbformat": 4,
  "nbformat_minor": 0,
  "metadata": {
    "colab": {
      "name": "wprawki.ipynb",
      "provenance": [],
      "collapsed_sections": [
        "ssOD9fcUOk_I",
        "2xehXSWDPJap",
        "ABRKwnD_OnLh",
        "fH1mRl-6PCst",
        "1b8WWjXJPjQq",
        "NVAxWlkzPw42",
        "1ASbnfjSPy7C",
        "sCZ3LeVlP03k",
        "XfI9XelVQBv3",
        "Oj3j7pijRVoV",
        "XeQ0_1BgPUkH"
      ],
      "authorship_tag": "ABX9TyNhh4EvZfM18kx+TPUKXbBB",
      "include_colab_link": true
    },
    "kernelspec": {
      "name": "python3",
      "display_name": "Python 3"
    },
    "language_info": {
      "name": "python"
    }
  },
  "cells": [
    {
      "cell_type": "markdown",
      "metadata": {
        "id": "view-in-github",
        "colab_type": "text"
      },
      "source": [
        "<a href=\"https://colab.research.google.com/github/trypuz/ai_dla_kazdego/blob/main/wprawki.ipynb\" target=\"_parent\"><img src=\"https://colab.research.google.com/assets/colab-badge.svg\" alt=\"Open In Colab\"/></a>"
      ]
    },
    {
      "cell_type": "markdown",
      "metadata": {
        "id": "rjAVpCGpOIbD"
      },
      "source": [
        "# Napisy i zmienne"
      ]
    },
    {
      "cell_type": "markdown",
      "metadata": {
        "id": "JjfK6wz5NcEQ"
      },
      "source": [
        "### Wprawka 1\n",
        "\n",
        "Zmień poniższą instrukcję tak, aby wyświetliła imiona najsłynniejszych filozofów greckich oddzielając je przecinkiem.\n",
        "\n",
        "```\n",
        "print('Sokrates', 'Platon', 'Arystoteles', 'Heraklit', 'Demokryt')\n",
        "```"
      ]
    },
    {
      "cell_type": "code",
      "metadata": {
        "id": "D1qeSJhVNYc_"
      },
      "source": [
        ""
      ],
      "execution_count": null,
      "outputs": []
    },
    {
      "cell_type": "markdown",
      "metadata": {
        "id": "F-M_hSpOOORm"
      },
      "source": [
        "### Wprawka 2\n",
        "\n",
        "Wykorzystaj poniższe dwie zmienne, aby wyświetlić napis mówiący, że Arystoteles urodził się mieście o nazwie ”Stagira”. Nie zapomnij o kropce na końcu zdania!\n",
        "\n",
        "```\n",
        "philosopher = 'Arystoteles'\n",
        "city = 'Stagira'\n",
        "```\n"
      ]
    },
    {
      "cell_type": "code",
      "metadata": {
        "id": "0HsbJhpDORx1"
      },
      "source": [
        ""
      ],
      "execution_count": null,
      "outputs": []
    },
    {
      "cell_type": "markdown",
      "metadata": {
        "id": "O5aGulhrOVve"
      },
      "source": [
        "### Wprawka 3\n",
        "\n",
        "Stwórz zmienną `t` i przypisz jej napis: „Thor, syn Odyna, odpowiednik południowogermańskiego Donara, jeden z głównych bogów nordyckich”. Następnie wydrukuj napis złożony z liter zmiennej t w następującej kolejności: 19, 12, od 0 do 2 włącznie, 8, 5, 60, 23, 6, 0, 5, 6, 32, 19, 23, 3. Zmień napis, aby zaczynał się dużą literą, a pozostałe miał małe. Dodaj wykrzyknij na końcu. Czy zgadzasz się z hasłem, które się wyświetliło? ;-)\n"
      ]
    },
    {
      "cell_type": "code",
      "metadata": {
        "id": "lsMys1xFOYx_"
      },
      "source": [
        ""
      ],
      "execution_count": null,
      "outputs": []
    },
    {
      "cell_type": "markdown",
      "metadata": {
        "id": "pdy11aQcOc9Z"
      },
      "source": [
        "### Wprawka 4\n",
        "\n",
        "Stwórz zmienną `entry` i przypisz jej tekst komentarza o treści „Nie zgadzam się z tym stanem rzeczy, kurza twarz!”. Następnie stwórz zmienną `vulgarism` i przypisz jej wartość „kurza twarz”. Sprawdź, czy komentarz zawiera wyrażenie obraźliwe i jeśli tak, wydrukuj napis „Komentarz zawiera wyrażenie uznane za obraźliwe.”."
      ]
    },
    {
      "cell_type": "code",
      "metadata": {
        "id": "Q3I0XpCvObOS"
      },
      "source": [
        ""
      ],
      "execution_count": null,
      "outputs": []
    },
    {
      "cell_type": "markdown",
      "metadata": {
        "id": "ssOD9fcUOk_I"
      },
      "source": [
        "# Przepływ sterowania"
      ]
    },
    {
      "cell_type": "markdown",
      "metadata": {
        "id": "2xehXSWDPJap"
      },
      "source": [
        "## Instrukcje warunkowe"
      ]
    },
    {
      "cell_type": "markdown",
      "metadata": {
        "id": "ABRKwnD_OnLh"
      },
      "source": [
        "### Wprawka 1\n",
        "\n",
        "Napisz program, w którym komputer w odpowiedzi na podany  przez ciebie wiek, poda cenę biletu kinowego zgodnie z następującymi wytycznymi:\n",
        "- 0-9 lat: 15 zł.\n",
        "- 10-17 lat: 20 zł.\n",
        "- 18 i więcej: 30 zł.\n",
        "\n"
      ]
    },
    {
      "cell_type": "code",
      "metadata": {
        "id": "bphosJX6Os0N"
      },
      "source": [
        ""
      ],
      "execution_count": null,
      "outputs": []
    },
    {
      "cell_type": "markdown",
      "metadata": {
        "id": "JL-6q8tzOtIQ"
      },
      "source": [
        "### Wprawka 2\n",
        "\n",
        "Napisz instrukcję warunkową, która wydrukuje komunikat „Niezłocznie skontaktuj się z lekarzem!”, jeśli wystąpi przynajmniej jeden z poniższej listy objawów:\n",
        "- duszności (ang. shortness of breath)\n",
        "- dezorientacja (ang. confusion)\n",
        "- ból w klatce piersiowej (ang. pain in the chest)\n"
      ]
    },
    {
      "cell_type": "code",
      "metadata": {
        "id": "KtgGKbpgOuUT"
      },
      "source": [
        ""
      ],
      "execution_count": null,
      "outputs": []
    },
    {
      "cell_type": "markdown",
      "metadata": {
        "id": "AOV8foWxOurf"
      },
      "source": [
        "### Wprawka 3\n",
        "\n",
        "Napisz program, który zapyta studenta o liczbę zdobytych punktów z kolokwium, a następnie poinformuje go o ocenie zgodnie z punktacją:\n",
        "- Od 0 do 12: ndst\n",
        "- Od 13 do 15: dst\n",
        "- Od 16 do 18: dst +\n",
        "- Od 19 do 21: db\n",
        "- Od 22 do 24: db+\n",
        "- Powyżej 25: bdb"
      ]
    },
    {
      "cell_type": "code",
      "metadata": {
        "id": "HquZlxrAO7mC"
      },
      "source": [
        ""
      ],
      "execution_count": null,
      "outputs": []
    },
    {
      "cell_type": "markdown",
      "metadata": {
        "id": "fH1mRl-6PCst"
      },
      "source": [
        "## Pętla while"
      ]
    },
    {
      "cell_type": "markdown",
      "metadata": {
        "id": "W4Ve4NuRPNBQ"
      },
      "source": [
        "### Wprawka 1\n",
        "\n",
        "Pamiętasz, że „+” w przypadku napisów może służyć do ich łączenia (konkatenacji). Również „*” ma swoje specjalne znaczenie. Otóż `3 * '$' ` wydrukuje $$$. Napisz program, który wydrukuje uszy kota o określonym rozmiarze (ang. size). Poniżej mamy przykłady o rozmiarze 5 i 7.\n",
        "\n",
        "```\n",
        "@        @\n",
        "@@      @@\n",
        "@@@    @@@\n",
        "@@@@  @@@@\n",
        "@@@@@@@@@@\n",
        "```\n",
        "```\n",
        "@            @\n",
        "@@          @@\n",
        "@@@        @@@\n",
        "@@@@      @@@@\n",
        "@@@@@    @@@@@\n",
        "@@@@@@  @@@@@@\n",
        "@@@@@@@@@@@@@@\n",
        "```\n"
      ]
    },
    {
      "cell_type": "code",
      "metadata": {
        "id": "VaQ2JIz4PXiE"
      },
      "source": [
        ""
      ],
      "execution_count": null,
      "outputs": []
    },
    {
      "cell_type": "markdown",
      "metadata": {
        "id": "J2Qcc4PUPYSQ"
      },
      "source": [
        "### Wprawka 2\n",
        "\n",
        "Przekształć kod gry ze zgadywaniem liczby w taki sposób, aby warunki pętli while było `True`."
      ]
    },
    {
      "cell_type": "code",
      "metadata": {
        "id": "KYDcqOaSPaSH"
      },
      "source": [
        ""
      ],
      "execution_count": null,
      "outputs": []
    },
    {
      "cell_type": "markdown",
      "metadata": {
        "id": "1b8WWjXJPjQq"
      },
      "source": [
        "## Pętla for"
      ]
    },
    {
      "cell_type": "markdown",
      "metadata": {
        "id": "_svYmMG2PqrW"
      },
      "source": [
        "### Wprawka 1\n",
        "\n",
        "Używając pętli for napisz kod drukujący choinkę złożoną ze znaków $."
      ]
    },
    {
      "cell_type": "code",
      "metadata": {
        "id": "Bk3tygtVPtxz"
      },
      "source": [
        ""
      ],
      "execution_count": null,
      "outputs": []
    },
    {
      "cell_type": "markdown",
      "metadata": {
        "id": "NVAxWlkzPw42"
      },
      "source": [
        "# Struktury danych"
      ]
    },
    {
      "cell_type": "markdown",
      "metadata": {
        "id": "1ASbnfjSPy7C"
      },
      "source": [
        "## Listy"
      ]
    },
    {
      "cell_type": "markdown",
      "metadata": {
        "id": "sCZ3LeVlP03k"
      },
      "source": [
        "### Wprawka 1\n",
        "\n",
        "Stwórz listę min pięciu gości, których chcesz zaprosić na swoje urodziny. Stwórz fragment szablonu zaproszenia o treści:\n",
        "\n",
        "„Pan/Pani … powinna czuć się zaszczycona zaproszeniem na urodziny niżej podpisanego.”\n",
        "\n",
        "Następnie wypisz tyle zaproszeń ilu gości znalazło się na twoje liście. Oczywiście w miejscu kropek powinno pojawić się imię i nazwisko gościa. Użyj metody `title()`, aby mieć pewność, że imiona i nazwiska będą napisane z poszanowaniem gramatyki języka polskiego. \n"
      ]
    },
    {
      "cell_type": "code",
      "metadata": {
        "id": "vQoE9HATP7Rl"
      },
      "source": [
        ""
      ],
      "execution_count": null,
      "outputs": []
    },
    {
      "cell_type": "markdown",
      "metadata": {
        "id": "kn0aAeKEP7lH"
      },
      "source": [
        "### Wprawka 2\n",
        "\n",
        "Z listy \n",
        "```\n",
        "students = ['Jan Kiełbasa', 'Maria Babeczka', 'Marian Kaszanka', 'Julia Piernik']\n",
        "```\n",
        "\n",
        "Stwórz dwie listy `names` i `surnames`, zawierające odpowiednio imiona i nazwiska studentów.\n",
        "\n"
      ]
    },
    {
      "cell_type": "code",
      "metadata": {
        "id": "aWHwZ6mDP9XB"
      },
      "source": [
        ""
      ],
      "execution_count": null,
      "outputs": []
    },
    {
      "cell_type": "markdown",
      "metadata": {
        "id": "Pu_ks7MSP9vA"
      },
      "source": [
        "### Wprawka 3\n",
        "\n",
        "Stwórz listę 5 dżokejów i 5 koni. Napisz program, który wylosuje konia dla każdego z dżokejów. Oczywiście każdy koń może być wylosowany tylko raz. Użyj funkcji `random.shuffle()`, która jako argument przyjmuje sekwencję, np. listę, i ją „tasuje”, czyli losowo zmienia porządek jej elementów. Wyniki losowania wyświetl za pomocą `print()`."
      ]
    },
    {
      "cell_type": "markdown",
      "metadata": {
        "id": "pQspQd-7P_gJ"
      },
      "source": [
        "## Słowniki"
      ]
    },
    {
      "cell_type": "markdown",
      "metadata": {
        "id": "XfI9XelVQBv3"
      },
      "source": [
        "### Wprawka 1\n",
        "\n",
        "Utwórz słownik z min pięcioma krajami. Kluczem każdego elementu niech będzie jego kod kraju zgodnie ze standardem ISO 3166-1 alfa-2 (sprawdź w Internecie!), a wartością liczba ludności kraju. Następnie \n",
        "- wydrukuj wszystkie klucze\n",
        "- dla wybranego kraju sprawdź liczbę jego mieszańców\n",
        "- dodaj dane dotyczące nowego kraju\n",
        "- zmodyfikuj liczbę ludności dla wybranego kraju"
      ]
    },
    {
      "cell_type": "code",
      "metadata": {
        "id": "P1zOaBi0QF3L"
      },
      "source": [
        ""
      ],
      "execution_count": null,
      "outputs": []
    },
    {
      "cell_type": "markdown",
      "metadata": {
        "id": "JZ1wtKo4QGPc"
      },
      "source": [
        "### Wprawka 2\n",
        "\n",
        "Stwórz listę osób, które chcesz obdarować prezentem świątecznym oraz listę prezentów (przynajmniej tak długą jak lista osób). Użyj pętli `for` i funkcji `zip()`, aby iterować od razu po tych dwóch listach, i utwórz słownik, w którym kluczami będą osoby a wartościami prezenty."
      ]
    },
    {
      "cell_type": "code",
      "metadata": {
        "id": "kYCojYq4QIVD"
      },
      "source": [
        ""
      ],
      "execution_count": null,
      "outputs": []
    },
    {
      "cell_type": "markdown",
      "metadata": {
        "id": "Aj3-P60vQIti"
      },
      "source": [
        "### Wprawka 3\n",
        "\n",
        "Stwórz mini słownik polsko-angielski (minimum 10 słów!), w którym kluczami będą słowa języka polskiego, a wartościami ich angielskie tłumaczenia."
      ]
    },
    {
      "cell_type": "code",
      "metadata": {
        "id": "ViT6pxn5QKSb"
      },
      "source": [
        ""
      ],
      "execution_count": null,
      "outputs": []
    },
    {
      "cell_type": "markdown",
      "source": [
        "# KOLOKWIUM 1"
      ],
      "metadata": {
        "id": "Oj3j7pijRVoV"
      }
    },
    {
      "cell_type": "markdown",
      "source": [
        "## Gr. 1\n",
        "1) Napisz program, który z poniższego tekstu wybierze i wyświetli tylko te słowa, których częścią jest słowo \"filozof\" (wielkość liter nie powinna mieć znaczenia).\n",
        "\n",
        "2) Na podstawie poniższego tekstu utwórz słownik, którego kluczami będą słowa, a wartościami liczba ich występowania w tekście.\n",
        "\n",
        "3) Napisz program, który z poniższego tekstu wybierze i wyświetli 10 słów, które mają w sobie min 3 różne samogłoski.\n",
        "\n",
        "\n",
        "Filozofią zajmowano się w Katolickim Uniwersytecie Lubelskim od początku istnienia tej uczelni. W ramach Wydziału Nauk Humanistycznych funkcjonowała sekcja (grupa) nauk filozoficznych. Poza tym zajęcia z zakresu filozofii prowadzono na innych wydziałach. Czołowymi nauczycielami dyscyplin filozoficznych lub pokrewnych byli: ks. Idzi Radziszewski, ks. Stanisław Domińczak, Bohdan Rutkiewicz, Jacek Woroniecki OP, ks. Józef Pastuszka, Henryk Jakubanis, ks. Antoni Szymański. Statut KUL z 1938 r. przewidywał utworzenie, obok dotychczasowych czterech, nowego wydziału filozoficznego.\n",
        "Przerwa wojenna spowodowała, że Wydział Filozofii Chrześcijańskiej erygowano dopiero w 1946 r. (uroczyste otwarcie Wydziału miało miejsce 10 XI 1946 r., zajęcia rozpoczęły się kilka dni wcześniej). Zasadniczą rolę w jego organizacji odegrał ks. Józef Pastuszka, pierwszy dziekan. Obok niego głównymi wykładowcami byli: Stefan Swieżawski, ks. Stanisław Adamczyk, ks. Antoni Korcik, gościnnie Stefan Harassek, nieco później Feliks W. Bednarski OP."
      ],
      "metadata": {
        "id": "pTepgTMrRrT8"
      }
    },
    {
      "cell_type": "markdown",
      "source": [
        "## Gr. 2\n",
        "\n",
        "1) Napisz program, który z poniższego tekstu wybierze i wyświetli tylko te słowa, w których litera \"e\" występuje minimum dwa razy. Wybrane słowa wyświetl tylko małymi literami.\n",
        "\n",
        "2) Na podstawie poniższego tekstu utwórz słownik, którego kluczami będą słowa, a wartościami liczba ich występowania w tekście.\n",
        "\n",
        "3) Napisz program, który z poniższego tekstu wyświetli pierwszych 10 słów, które mają więcej niż 10 liter.\n",
        "\n",
        "\n",
        "Katolicki Uniwersytet Lubelski Jana Pawła II jest najstarszą uczelnią Lublina i jednym z najstarszych uniwersytetów w Polsce.\n",
        "Powstał w 1918 r. z inicjatywy ks. Idziego Radziszewskiego, który został pierwszym rektorem. Od początków istnienia zadaniem Uczelni jest służba Bogu i Ojczyźnie - Deo et Patriae.\n",
        "W ciągu swojej prawie 100-letniej historii KUL stał się jednym z najważniejszych ośrodków myśli katolickiej, który wpływał na kształt nauki i kultury polskiej, zyskując szerokie uznanie w kraju i zagranicą.\n",
        "KUL dziś jest Uczelnią otwartą na cywilizacyjne i naukowe wyzwania współczesności. Obok teologii, filozofii, nauk społecznych, prawnych i humanistycznych rozwijane są nauki matematyczne i przyrodnicze, by przygotować studentów do pełnej i odpowiedzialnej pracy dla dobra Ojczyzny i Kościoła."
      ],
      "metadata": {
        "id": "MTtdYheRRmS4"
      }
    },
    {
      "cell_type": "markdown",
      "source": [
        "# Funkcje"
      ],
      "metadata": {
        "id": "XeQ0_1BgPUkH"
      }
    },
    {
      "cell_type": "markdown",
      "source": [
        "### Wprawka 1\n",
        "\n",
        "1.   Stwórz menu - jako słownik, gdzie kluczami będą nazwy dań, a wartościami ich cena (min 5 pozycji)\n",
        "\n",
        "2.   zdefiniuj funkcję `restaurant()`, bez parametrów!, która po wywołaniu będzie przyjmowała zamówienie (`input`)\n",
        "\n",
        "  *   jeśli ktoś poda nazwę dania, którego nie ma w menu, to powinna być informacją zwrotna, że takiego dania nie ma\n",
        "  *   jeśli danie jest w menu, to proszę podać jego cenę i dodać do zamówienia\n",
        "  * jeśli użytkownik niczego nie wprowadzi (tylko ENTER), to kończymy przyjmowanie zamówienia, podajemy pełną listę zamówionych dań oraz ile klient zapłaci za całość\n",
        "  * podpowiadam: pętla!\n",
        "\n",
        "\n",
        "\n",
        "\n",
        "\n",
        "\n"
      ],
      "metadata": {
        "id": "mLaW1TBGPYlQ"
      }
    },
    {
      "cell_type": "code",
      "source": [
        ""
      ],
      "metadata": {
        "id": "ThZ-bZoQPd2E"
      },
      "execution_count": null,
      "outputs": []
    }
  ]
}